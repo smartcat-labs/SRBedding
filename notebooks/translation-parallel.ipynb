{
 "cells": [
  {
   "cell_type": "code",
   "execution_count": 1,
   "metadata": {},
   "outputs": [],
   "source": [
    "from pathlib import Path\n",
    "from pprint import pprint\n",
    "from datasets import load_dataset\n",
    "\n",
    "import json\n",
    "import os\n",
    "from openai import OpenAI\n",
    "from typing import List, Dict"
   ]
  },
  {
   "cell_type": "code",
   "execution_count": 18,
   "metadata": {},
   "outputs": [
    {
     "name": "stdout",
     "output_type": "stream",
     "text": [
      "/Users/studeni/Datasets/SRBedding_datasets/ms_marco_v1\n"
     ]
    }
   ],
   "source": [
    "datasets_dir = Path(\"~/Datasets/\").expanduser()\n",
    "assert datasets_dir.exists(), \"Datasets directory not found\"\n",
    "datasets_dir = datasets_dir / \"SRBedding_datasets/ms_marco_v1\"\n",
    "print(datasets_dir)\n",
    "datasets_dir.mkdir(parents=True, exist_ok=True)"
   ]
  },
  {
   "cell_type": "code",
   "execution_count": 19,
   "metadata": {},
   "outputs": [
    {
     "data": {
      "text/plain": [
       "Dataset({\n",
       "    features: ['passages', 'query', 'query_id'],\n",
       "    num_rows: 9650\n",
       "})"
      ]
     },
     "execution_count": 19,
     "metadata": {},
     "output_type": "execute_result"
    }
   ],
   "source": [
    "data = load_dataset(\"microsoft/ms_marco\", \"v1.1\", cache_dir=datasets_dir)\n",
    "data_test = data[\"test\"]\n",
    "ms_marco = data_test.select_columns([\"passages\", \"query\", \"query_id\"])\n",
    "ms_marco"
   ]
  },
  {
   "cell_type": "code",
   "execution_count": 22,
   "metadata": {},
   "outputs": [
    {
     "name": "stdout",
     "output_type": "stream",
     "text": [
      "{'passage_text': ['We have been feeding our back yard squirrels for the fall '\n",
      "                  'and winter and we noticed that a few of them have missing '\n",
      "                  'fur. One has a patch missing down his back and under both '\n",
      "                  'arms. Also another has some missing on his whole chest. '\n",
      "                  'They are all eating and seem to have a good appetite.',\n",
      "                  'Critters cannot stand the smell of human hair, so '\n",
      "                  'sprinkling a barrier of hair clippings around your garden, '\n",
      "                  'or lightly working it into the soil when you plant bulbs, '\n",
      "                  'apparently does have some merit. The whole thing kind of '\n",
      "                  'makes me laugh. It never occurred to me that we are the '\n",
      "                  'ones that stink.',\n",
      "                  'Spread some human hair around your vegetable and flower '\n",
      "                  'gardens. This will scare the squirrels away because humans '\n",
      "                  \"are predators of squirrels. It is better if the hair hasn't \"\n",
      "                  'been washed so the squirrels will easily pick up the human '\n",
      "                  'scent.',\n",
      "                  '1 You can sprinkle blood meal around your garden as well. '\n",
      "                  '2  Don’t trap and relocate squirrels. 3  This is a losing '\n",
      "                  'battle since the population of squirrels is extremely high. '\n",
      "                  '4  Also, if the animal is a female there is a high '\n",
      "                  'likelihood that you will remove her from babies that depend '\n",
      "                  'on her for survival.',\n",
      "                  'Hair loss in squirrels can be caused by mange or fungal '\n",
      "                  'disease. Mange is a disease caused by microscopic mites '\n",
      "                  'that burrow under the skin. The squirrel mange mite has '\n",
      "                  'been reported in both fox and gray squirrels. There have '\n",
      "                  'been no reports of this type of mange being transmitted to '\n",
      "                  'humans or domestic pets.',\n",
      "                  '1 You can also scatter dog or human hair around your '\n",
      "                  'garden. 2  One readers shares, “I used to have a problem '\n",
      "                  'with squirrels digging up my bulbs. 3  Now, once in the '\n",
      "                  'spring and once in the fall, I ask my hairdresser to save a '\n",
      "                  'big bag of hair for me. 4  I lightly dig this into the '\n",
      "                  'soil.',\n",
      "                  'Rabbit repellent. Human hair will keep rabbits out of your '\n",
      "                  'garden!! Collect hair from your brushes and spread it '\n",
      "                  'around your garden! (via Pioneer Thinking). Natural mulch. '\n",
      "                  'When woven into a mat, it retains moisture, it deters '\n",
      "                  'weeds. In some instances, it can actually reduce soil '\n",
      "                  'erosion. (via NPR). Plant fertilizer.'],\n",
      " 'query': 'does human hair stop squirrels',\n",
      " 'query_id': 0}\n"
     ]
    }
   ],
   "source": [
    "test_data = []\n",
    "for i in range(3):\n",
    "    test_data.append(\n",
    "        {\n",
    "            \"query_id\": ms_marco[\"query_id\"][i],\n",
    "            \"query\": ms_marco[\"query\"][i],\n",
    "            \"passage_text\": ms_marco[\"passages\"][i][\"passage_text\"],\n",
    "        }\n",
    "    )\n",
    "\n",
    "pprint(test_data[0])"
   ]
  },
  {
   "cell_type": "code",
   "execution_count": 29,
   "metadata": {},
   "outputs": [],
   "source": [
    "SYSTEM_PROMPT = \"\"\"\n",
    "***TRANSLATION FROM ENGLISH TO SERBIAN***\n",
    "\n",
    "**GOALS**\n",
    "\n",
    "You are a professional translator fluent in English and Serbian. \n",
    "Your primary goal is to produce a high-quality, natural-sounding translation from English to Serbian. \n",
    "You are translating texts and questions pertaining to the texts. The translation is intended for dataset creation. Look at the example below:\n",
    "\n",
    "***TRANSLATION EXAMPLE***\n",
    "***ENGLISH***\n",
    "query: 'What is a unicorn?'\n",
    "passage_text: 'The unicorn is a legendary creature that has been described since antiquity as a beast with a single large, pointed, spiraling horn projecting from its forehead.'\n",
    "\n",
    "***SERBIAN TRANSLATION***\n",
    "query: 'Šta je jednorog?'\n",
    "passage_text: 'Jednorog je mitsko stvorenje koje se od davnina opisuje kao zver sa jednim velikim, šiljastim, spiralnim rogom koji mu viri iz čela.'\n",
    "***END OF TRANSLATION EXAMPLE***\n",
    "\n",
    "To translate, follow the steps below:\n",
    "   **TRANSLATION INSTRUCTIONS**\n",
    "   1. Read and understand the sentence in English.\n",
    "   2. When you understand the English sentence, start to translate.\n",
    "   3. Pay close attention to both left and right context when you are making translation decisions.  4. Convey the original context, tone and meaning in the Serbian translation.\n",
    "   4. Avoid literal translations and ensure the output reads naturally in Serbian.\n",
    "   5. The translation must be contextually accurate, fluent, and adhere to the grammatical rules and lexicon of the Serbian language.\n",
    "   6. The declination of nouns, adjectives, and pronouns must be correct.\n",
    "   7. Make sure to proofread the translated text in Serbian and revise any mistakes. If no revisions are needed, provide the translations as they are.\n",
    "\n",
    "   **FORMATTING INSTRUCTIONS**\n",
    "   1. Strings should be enclosed within single quotation marks ('').\n",
    "   2. Use double quotes for strings and escape internal quotes with a backslashes (\\).\n",
    " \n",
    "   **OUTPUT FORMATTING**\n",
    "   1. The output must be a valid JSON file.\n",
    "   2. The output must be parsable by Python's 'json.loads()' function.\n",
    "   3. Ensure consistent JSON formatting as illustrated in the example below:\n",
    "\n",
    "      **EXAMPLE**\n",
    "      {'translations' : [{'query' : 'This is a query',\n",
    "                      ''passage_text ' : {'This is one passage. With another sentence.',\n",
    "                                          'This is yet another passage. With yet another sentence.'}]\n",
    "      }\n",
    "       **END OF EXAMPLE**\n",
    "\n",
    "   - Strictly follow the structure provided in the example when generating the output.   \n",
    "   - Make sure to translate text under both \"query\" and \"passage_text\" keys.\n",
    "   \n",
    "   {translation}\n",
    "\n",
    "\"\"\""
   ]
  },
  {
   "cell_type": "code",
   "execution_count": 35,
   "metadata": {},
   "outputs": [],
   "source": [
    "def save_jsonl(jobs: List[Dict], filename: str | Path) -> None:\n",
    "    with open(filename, \"w\", encoding=\"utf-8\") as f:\n",
    "        for job in jobs:\n",
    "            json_string = json.dumps(job, ensure_ascii=False)\n",
    "            f.write(json_string + \"\\n\")\n",
    "\n",
    "\n",
    "def make_jobs(\n",
    "    model: str, prompt: str, filename: str | Path, dataset: List[Dict[str, str]]\n",
    ") -> None:\n",
    "    jobs = [\n",
    "        {\n",
    "            \"model\": model,\n",
    "            \"response_format\": {\"type\": \"json_object\"},\n",
    "            \"temperature\": 0,\n",
    "            \"metadata\": {\"id\": sample[\"query_id\"]},\n",
    "            \"messages\": [\n",
    "                {\"role\": \"system\", \"content\": prompt.format(translation=sample)},  # Can be done in one line\n",
    "\n",
    "            ],\n",
    "        }\n",
    "        for sample in dataset\n",
    "    ]\n",
    "\n",
    "    save_jsonl(jobs, filename)"
   ]
  },
  {
   "cell_type": "code",
   "execution_count": 36,
   "metadata": {},
   "outputs": [],
   "source": [
    "model = \"gpt-3.5-turbo-0125\"\n",
    "make_jobs(model=model, prompt=SYSTEM_PROMPT, filename=\"test.jsonl\", dataset=test_data)"
   ]
  },
  {
   "cell_type": "code",
   "execution_count": 25,
   "metadata": {},
   "outputs": [
    {
     "data": {
      "application/vnd.jupyter.widget-view+json": {
       "model_id": "ebfbd97a0d0a4e4e8b9e1806f36c71a3",
       "version_major": 2,
       "version_minor": 0
      },
      "text/plain": [
       "Resolving data files:   0%|          | 0/287 [00:00<?, ?it/s]"
      ]
     },
     "metadata": {},
     "output_type": "display_data"
    }
   ],
   "source": [
    "from datasets import load_dataset\n",
    "\n",
    "ds_nq = load_dataset(\"google-research-datasets/natural_questions\", \"dev\")"
   ]
  },
  {
   "cell_type": "code",
   "execution_count": 26,
   "metadata": {},
   "outputs": [
    {
     "data": {
      "text/plain": [
       "DatasetDict({\n",
       "    validation: Dataset({\n",
       "        features: ['id', 'document', 'question', 'long_answer_candidates', 'annotations'],\n",
       "        num_rows: 7830\n",
       "    })\n",
       "})"
      ]
     },
     "execution_count": 26,
     "metadata": {},
     "output_type": "execute_result"
    }
   ],
   "source": [
    "ds_nq"
   ]
  },
  {
   "cell_type": "code",
   "execution_count": 33,
   "metadata": {},
   "outputs": [
    {
     "data": {
      "text/plain": [
       "\"what percentage of the earth's surface is water\""
      ]
     },
     "execution_count": 33,
     "metadata": {},
     "output_type": "execute_result"
    }
   ],
   "source": [
    "ds_nq['validation'][5]['question']['text']"
   ]
  },
  {
   "cell_type": "code",
   "execution_count": 20,
   "metadata": {},
   "outputs": [
    {
     "data": {
      "application/vnd.jupyter.widget-view+json": {
       "model_id": "f0b6e1b477e6427ead9b2f7880627f01",
       "version_major": 2,
       "version_minor": 0
      },
      "text/plain": [
       "Downloading readme:   0%|          | 0.00/9.48k [00:00<?, ?B/s]"
      ]
     },
     "metadata": {},
     "output_type": "display_data"
    }
   ],
   "source": [
    "from datasets import load_dataset\n",
    "\n",
    "ds_marco = load_dataset(\"microsoft/ms_marco\", \"v1.1\")"
   ]
  },
  {
   "cell_type": "code",
   "execution_count": 21,
   "metadata": {},
   "outputs": [
    {
     "data": {
      "text/plain": [
       "DatasetDict({\n",
       "    validation: Dataset({\n",
       "        features: ['answers', 'passages', 'query', 'query_id', 'query_type', 'wellFormedAnswers'],\n",
       "        num_rows: 10047\n",
       "    })\n",
       "    train: Dataset({\n",
       "        features: ['answers', 'passages', 'query', 'query_id', 'query_type', 'wellFormedAnswers'],\n",
       "        num_rows: 82326\n",
       "    })\n",
       "    test: Dataset({\n",
       "        features: ['answers', 'passages', 'query', 'query_id', 'query_type', 'wellFormedAnswers'],\n",
       "        num_rows: 9650\n",
       "    })\n",
       "})"
      ]
     },
     "execution_count": 21,
     "metadata": {},
     "output_type": "execute_result"
    }
   ],
   "source": [
    "ds"
   ]
  },
  {
   "cell_type": "code",
   "execution_count": 23,
   "metadata": {},
   "outputs": [],
   "source": [
    "ds_mini = ds['test'][:300]"
   ]
  },
  {
   "cell_type": "code",
   "execution_count": 24,
   "metadata": {},
   "outputs": [
    {
     "data": {
      "text/plain": [
       "['does human hair stop squirrels',\n",
       " 'what are the benefits of fossil fuels',\n",
       " 'what is a apothem',\n",
       " 'average cost for custom canopy',\n",
       " 'what is a hardware in a computer',\n",
       " 'edi logistics definition',\n",
       " 'why should recreational marijuana be illegal',\n",
       " 'what class are spiders in',\n",
       " 'where is the amur leopard found',\n",
       " 'how much does it cost to spayed my female rabbit',\n",
       " 'what does proteus mirabilis look like',\n",
       " 'is bougainvillea a shrub',\n",
       " 'is oxyfluorfen safe on cotton',\n",
       " 'what types of bacteria are found in the mouth',\n",
       " 'is self insurance insurance or a deductible',\n",
       " 'average wage of an actor',\n",
       " 'how often should men get a PSA test',\n",
       " 'what is financial assets',\n",
       " 'Starch and _____ are common polysaccharide carbohydrates found in plants.',\n",
       " 'is cypress community storage flooded',\n",
       " 'what is a cost variance',\n",
       " 'where does bacteria come from',\n",
       " 'what are electromagnetic waves made of',\n",
       " 'what causes inflamed pancreas',\n",
       " 'what does the word starling mean',\n",
       " 'what constitutes battery',\n",
       " 'what causes yeast infection itching',\n",
       " 'What is the difference between mastic and thinset?',\n",
       " 'how long to steam artichokes in steamer',\n",
       " 'why is glucose important',\n",
       " 'temp chicken to be cook',\n",
       " 'what is the postsynaptic density',\n",
       " 'why is a minority discount applied',\n",
       " 'nigel name meaning',\n",
       " 'which bring electrical impulses toward a cell body',\n",
       " 'what reform policies did mikhail gorbachev initiate',\n",
       " 'definition of a business association',\n",
       " 'what temperature degree to cook crepes at',\n",
       " 'when must ira distributions begin',\n",
       " 'what qualifications do a police officer need',\n",
       " 'the progressive movement leader theodore roosevelt quizlet',\n",
       " 'nervous system axon definition',\n",
       " 'what is gilded glass',\n",
       " 'define neutropenic fever',\n",
       " 'subjectively define',\n",
       " 'can prison help the borderline?',\n",
       " 'average physician assistant salary boston ma',\n",
       " 'what are herbaceous perennials',\n",
       " 'what type of blood types are there',\n",
       " 'how long to dwarf hamsters live',\n",
       " 'what is the element family for plutonium',\n",
       " 'where was miranda lambert born and raised',\n",
       " 'what is commercial leasing',\n",
       " 'what does the name lalita mean',\n",
       " 'how long is your average period last',\n",
       " 'what is reabsorbed in the proximal convoluted tubule',\n",
       " 'what day did president obama declare the war is over',\n",
       " 'what is torso',\n",
       " 'how fast are hurricanes',\n",
       " 'what did ancient greeks live in',\n",
       " 'what does glucose blood test mean',\n",
       " 'who was william beveridge',\n",
       " 'how to reset an iphone with buttons',\n",
       " 'where was the bauhaus built',\n",
       " 'prepositional phrases that modify a verb are called',\n",
       " 'what are some diseases caused diabetes',\n",
       " 'average cost of patio roof',\n",
       " 'average cost to process an invoice',\n",
       " 'how much do eddie stobart pay',\n",
       " 'do turtles carry disease',\n",
       " 'is sponsorship advertising',\n",
       " 'how much does itunes cost',\n",
       " 'the terms of the treaty of versailles for kids',\n",
       " 'ingested meaning in english',\n",
       " 'what is an angiosperm answers',\n",
       " 'average cost to install egress window',\n",
       " 'where are rattlesnakes found in the world',\n",
       " 'average price per pound for chicken foster farm',\n",
       " 'where is meadowbank',\n",
       " 'Life expectancy in lincoln, ne',\n",
       " 'what does pale stool mean',\n",
       " 'what is iron vitamin good for',\n",
       " 'what is a substation',\n",
       " 'what is foie gras',\n",
       " 'salary increase in mtn',\n",
       " 'how long to broil round steak',\n",
       " 'when was maurice tillet born',\n",
       " 'what are lox food',\n",
       " 'cost to build walmart supercenter',\n",
       " 'how to use a semicolon in a letter',\n",
       " 'who is stephen hawking family',\n",
       " 'is randolph mantooth married',\n",
       " 'what is dynamic muscle contraction',\n",
       " 'electrician rates per hour',\n",
       " 'what kind of insurance does a court reporter need',\n",
       " 'do i need to send photos for passport renewal',\n",
       " 'who won the second battle of bull run',\n",
       " 'how long can you keep egg salad in fridge',\n",
       " 'what is EIFS system',\n",
       " 'what does accent',\n",
       " 'what cut is a bolar roast',\n",
       " 'what is malta known for',\n",
       " 'what type of epithelial tissue lines kidney tubules',\n",
       " 'what kind of liquid is custard',\n",
       " 'does late pregnancy delay menopause',\n",
       " 'what does the initial fee cover',\n",
       " 'how much should restaurant food cost be',\n",
       " 'allele definition biology quizlet',\n",
       " 'what is rationalization in sociology',\n",
       " 'unconventional means',\n",
       " 'dea special agent physical requirements',\n",
       " 'what is perindopril',\n",
       " 'how long do a medical office keep medical records',\n",
       " 'how long can you be on dialysis',\n",
       " 'meaning of accorded',\n",
       " 'reasons for the sinking of the titanic',\n",
       " 'what is normal pulse pressure range',\n",
       " 'when was clear air act passed',\n",
       " 'what part of the knee is the acl located',\n",
       " 'what is morphine used for',\n",
       " 'what are malpighian tubules',\n",
       " 'vanna white income',\n",
       " 'the meaning of the name hughes',\n",
       " 'what is a pbr panel',\n",
       " 'the behaviorist movement rejected what practice of psychology',\n",
       " 'what is hep a caused by',\n",
       " 'average price of land in atlanta',\n",
       " 'how much do gaming marketing managers make',\n",
       " 'how long does it take to fry a chicken leg',\n",
       " 'how to make a word in a cell as hyperlink',\n",
       " 'what is the given name',\n",
       " 'highest paid actress ever',\n",
       " 'height of fence needed to keep deer out',\n",
       " 'what causes hep a',\n",
       " 'where are the ossicles located',\n",
       " 'what is a travel agency',\n",
       " 'what is pus and how is it formed',\n",
       " 'meaning of name hendrik',\n",
       " 'what are groundnuts',\n",
       " 'comparative heartbeats per year',\n",
       " 'what is polydextrose',\n",
       " 'how long does it take to become a pe teacher',\n",
       " 'what does plato allegory of the cave representations',\n",
       " 'what is a carrier of a disease',\n",
       " 'how much prednisone can i take',\n",
       " 'how do you keep cats from getting on your car',\n",
       " 'cost of accreditation in healthcare',\n",
       " 'what is the difference between paypal and paypal here',\n",
       " 'monosomy definition biology',\n",
       " 'etymology of name antonio',\n",
       " 'why do molecules of starch need to be digested',\n",
       " 'is an HVAC plenum necessary',\n",
       " 'secluded region of sunshine coast',\n",
       " 'how long keep self assessment records',\n",
       " 'trigeminal definition',\n",
       " 'what is metabolic disorder',\n",
       " 'what are ketones test strips',\n",
       " 'how much does it cost to have a fence put up',\n",
       " 'gestation period for whooping crane',\n",
       " 'where are majority of continental glaciers found',\n",
       " 'what degree is needed to become a counselor',\n",
       " 'genetic biodiversity definition',\n",
       " 'what is theme of pygmalion',\n",
       " 'is virtualization provides cost effective',\n",
       " 'education requirements for a dea agent',\n",
       " 'how long does a colonoscopy take to perform',\n",
       " 'what is serum tsh',\n",
       " 'what is the unit for hardness',\n",
       " 'what is the useful energy transferred when coal is burnt',\n",
       " 'what do you use an internal medicine',\n",
       " 'when do you pay congestion charge in london',\n",
       " 'where do tiger live a',\n",
       " 'do not expose the concrete surface to air having a temperature more than',\n",
       " 'what is market stability',\n",
       " 'what is considered a fast pulse rate',\n",
       " 'average salary of a teacher in texas',\n",
       " 'estimated costs of content insurance',\n",
       " 'what is german brand sausage',\n",
       " 'what is a vts machine',\n",
       " 'can you get pregnant with twins with only one follicle',\n",
       " 'why is punctuality important for dancing',\n",
       " 'is bismuth radioactive',\n",
       " 'can napping help your mood',\n",
       " 'How long does it take a death certificate to go public.',\n",
       " 'What is lacking in diet if hair is thinning',\n",
       " 'what is azuki beans',\n",
       " 'how does a bail bondsman make money',\n",
       " 'average temperature in peru in the winter',\n",
       " 'height of spinach plant',\n",
       " 'closest airport to larissa greece',\n",
       " 'define what a single gene defect is',\n",
       " 'jetsons characters',\n",
       " 'what government does us have',\n",
       " 'average cost for attorney fees',\n",
       " 'what is the incubation period for the common cold',\n",
       " 'full dental implant cost',\n",
       " 'how much could i get in food stamps',\n",
       " 'what is a roquito pepper',\n",
       " 'what is protein acetylation',\n",
       " 'how much does it cost for wind energy installation',\n",
       " 'actors who played pippin',\n",
       " 'where are valves found besides the heart',\n",
       " 'what type of mountain is vinson massif',\n",
       " 'what is a source of variation in asexual reproduction',\n",
       " 'is molas sardinia',\n",
       " 'schumann cavity definition',\n",
       " 'how long to keep accounts for for HMRC',\n",
       " 'are carrots bad for bunnies',\n",
       " 'meaning of name gina',\n",
       " 'where does the quinceanera come from',\n",
       " 'what is dominance',\n",
       " 'what is SNCA gene',\n",
       " 'what functions do tendons serve',\n",
       " 'how many doses of hepatitis b vaccine',\n",
       " 'What was the Babylonian Empire',\n",
       " 'what does the painting american gothic depict',\n",
       " 'the average cost for university north texas',\n",
       " 'what determines gender of a baby',\n",
       " 'what is annual salary requirement',\n",
       " 'what is pepto bismol used for',\n",
       " 'what are the different kinds of pears',\n",
       " 'how deuterium is produced',\n",
       " 'roast beef cook temperature',\n",
       " 'fort dix nj prison phone number',\n",
       " 'what are the gatekeeper butterflies predators are',\n",
       " 'how long before to detect aids',\n",
       " 'transverse wave definition',\n",
       " 'what is virtuoso',\n",
       " 'what is opioid',\n",
       " 'what temperature do i set my grill to a rib eye steak',\n",
       " 'whooping cough incubation period in adults',\n",
       " 'what temperature should grill be for making hamburger',\n",
       " 'what does a ton of sand look like',\n",
       " 'why is carbon dioxide inorganic',\n",
       " 'how to file form in mca',\n",
       " 'what ecosystem does a white owl live in',\n",
       " 'The immune system process that leads to the production of more white blood cells is known as',\n",
       " 'what age can women start conceiving a child',\n",
       " 'what is the difference in AF-C and AF-A',\n",
       " 'prison psychologist salary california',\n",
       " 'coronavirus contagious period',\n",
       " 'what is the future of forex trading',\n",
       " 'defining the salary in FP per annum',\n",
       " 'what was the original purpose of the aboriginal protection act',\n",
       " 'wonderlic score analysis',\n",
       " 'anaerobic blood culture top colour',\n",
       " 'where is saliva produced',\n",
       " 'what is chemical sedimentary composed of',\n",
       " 'how much should it cost to replace a rear wheel bearing',\n",
       " 'estimated cost for refacing kitchen cabinets',\n",
       " 'what qualifications do you need to be a compliance officer',\n",
       " 'installing air conditioner cost',\n",
       " 'where about is drayton',\n",
       " 'egg increase in size as chickens age',\n",
       " 'what does rose quartz stone mean',\n",
       " 'what is the origin of the word joss',\n",
       " 'what is a cell structure',\n",
       " 'what is a dihybrid cross',\n",
       " 'how much dna is in a human cell',\n",
       " 'average salary of allergy doctor',\n",
       " 'how to lose weight and build muscle fast',\n",
       " 'examples of polysaccharide',\n",
       " 'is mandelate a salt',\n",
       " 'What Is Homologous Recombination',\n",
       " 'what are transgenic plants',\n",
       " 'what are parachutes',\n",
       " 'average cost to dry clean a sweater',\n",
       " 'what is thermolactyl made of',\n",
       " 'what qualifications to be a vet nurse',\n",
       " 'destin florida average temperatures in winter',\n",
       " 'how much do the risk officers earn',\n",
       " 'what a excretory system',\n",
       " 'what was mouthwash originally used for',\n",
       " 'what is a MRP inventory control system',\n",
       " 'how much does a cleaner franchise cost in auckland',\n",
       " 'signs and symptoms of blocked fallopian tubes',\n",
       " 'demography is destiny meaning',\n",
       " 'how to straighten out your shoulders',\n",
       " 'how to tell how acidic your body is',\n",
       " 'kendi name meaning',\n",
       " 'what is down date endorsement',\n",
       " 'what kind of packaging is organic coffee',\n",
       " 'why does alcohol have an age limit',\n",
       " 'mauritius average temperature',\n",
       " 'how much does a robotic hysterectomy cost',\n",
       " 'what kind of sugar to brew kombucha',\n",
       " 'tangata whenua definition',\n",
       " 'symptoms of niacin deficiency in ducks',\n",
       " 'which region of italy is monza in',\n",
       " 'closing cost for a house in florida',\n",
       " 'where is myanmar located on the map',\n",
       " 'what is the most powerful poisonous bite',\n",
       " \"can you see on an iphone how much data you've used\",\n",
       " 'cost per foot for aluminum gutters',\n",
       " 'what is the meaning of faux',\n",
       " 'what is spinosad made from',\n",
       " 'is a towable caravan allowed to park in the street',\n",
       " 'what are the effects of sediment transport',\n",
       " 'what is incipient tuberculosis',\n",
       " 'tsh level ranges for pregnancy']"
      ]
     },
     "execution_count": 24,
     "metadata": {},
     "output_type": "execute_result"
    }
   ],
   "source": [
    "ds_mini['query']"
   ]
  },
  {
   "cell_type": "code",
   "execution_count": 18,
   "metadata": {},
   "outputs": [
    {
     "data": {
      "text/plain": [
       "{'id': ['3476282545550860059',\n",
       "  '15131338445453002188',\n",
       "  '6241852735729266678',\n",
       "  '4160970411713367103',\n",
       "  '14909045045968064516'],\n",
       " 'long_answer': [{'start_token': 932,\n",
       "   'end_token': 1016,\n",
       "   'start_byte': 87119,\n",
       "   'end_byte': 88080,\n",
       "   'candidate_index': 66},\n",
       "  {'start_token': -1,\n",
       "   'end_token': -1,\n",
       "   'start_byte': -1,\n",
       "   'end_byte': -1,\n",
       "   'candidate_index': -1},\n",
       "  {'start_token': -1,\n",
       "   'end_token': -1,\n",
       "   'start_byte': -1,\n",
       "   'end_byte': -1,\n",
       "   'candidate_index': -1},\n",
       "  {'start_token': 3301,\n",
       "   'end_token': 3669,\n",
       "   'start_byte': 118430,\n",
       "   'end_byte': 121038,\n",
       "   'candidate_index': 80},\n",
       "  {'start_token': -1,\n",
       "   'end_token': -1,\n",
       "   'start_byte': -1,\n",
       "   'end_byte': -1,\n",
       "   'candidate_index': -1}],\n",
       " 'short_answers': [{'start_token': [937],\n",
       "   'end_token': [955],\n",
       "   'start_byte': [87188],\n",
       "   'end_byte': [87511],\n",
       "   'text': ['Max Planck, Albert Einstein, Louis de Broglie, Arthur Compton, Niels Bohr and many others']},\n",
       "  {'start_token': [],\n",
       "   'end_token': [],\n",
       "   'start_byte': [],\n",
       "   'end_byte': [],\n",
       "   'text': []},\n",
       "  {'start_token': [],\n",
       "   'end_token': [],\n",
       "   'start_byte': [],\n",
       "   'end_byte': [],\n",
       "   'text': []},\n",
       "  {'start_token': [3573],\n",
       "   'end_token': [3574],\n",
       "   'start_byte': [120245],\n",
       "   'end_byte': [120253],\n",
       "   'text': ['Einstein']},\n",
       "  {'start_token': [],\n",
       "   'end_token': [],\n",
       "   'start_byte': [],\n",
       "   'end_byte': [],\n",
       "   'text': []}],\n",
       " 'yes_no_answer': [-1, -1, -1, -1, -1]}"
      ]
     },
     "execution_count": 18,
     "metadata": {},
     "output_type": "execute_result"
    }
   ],
   "source": [
    "queries = "
   ]
  },
  {
   "cell_type": "code",
   "execution_count": null,
   "metadata": {},
   "outputs": [],
   "source": []
  },
  {
   "cell_type": "markdown",
   "metadata": {},
   "source": [
    "## Terminal command"
   ]
  },
  {
   "cell_type": "code",
   "execution_count": null,
   "metadata": {},
   "outputs": [],
   "source": []
  },
  {
   "cell_type": "markdown",
   "metadata": {},
   "source": [
    "python translation-pipeline-test/api_request_parallel_processor.py \\\n",
    "  --requests_filepath translation-pipeline-test/test.jsonl \\\n",
    "  --save_filepath translation-pipeline-test/test_results.jsonl \\\n",
    "  --request_url https://api.openai.com/v1/chat/completions \\\n",
    "  --max_requests_per_minute 4000 \\\n",
    "  --max_tokens_per_minute 1_250_000 \\\n",
    "  --token_encoding_name cl100k_base \\\n",
    "  --max_attempts 5 \\\n",
    "  --logging_level 20"
   ]
  },
  {
   "cell_type": "code",
   "execution_count": null,
   "metadata": {},
   "outputs": [],
   "source": [
    "# How to set env variable in terminal\n",
    "# export"
   ]
  }
 ],
 "metadata": {
  "kernelspec": {
   "display_name": ".venv",
   "language": "python",
   "name": "python3"
  },
  "language_info": {
   "codemirror_mode": {
    "name": "ipython",
    "version": 3
   },
   "file_extension": ".py",
   "mimetype": "text/x-python",
   "name": "python",
   "nbconvert_exporter": "python",
   "pygments_lexer": "ipython3",
   "version": "3.10.14"
  }
 },
 "nbformat": 4,
 "nbformat_minor": 2
}
