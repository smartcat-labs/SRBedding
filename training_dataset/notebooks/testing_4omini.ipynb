{
 "cells": [
  {
   "cell_type": "code",
   "execution_count": 1,
   "metadata": {},
   "outputs": [],
   "source": [
    "import sys\n",
    "import pandas as pd\n",
    "import json\n",
    "import random\n",
    "import matplotlib.pyplot as plt\n",
    "\n",
    "sys.path.append(\"..\")"
   ]
  },
  {
   "cell_type": "code",
   "execution_count": null,
   "metadata": {},
   "outputs": [],
   "source": [
    "# def save_json(data_path, name):\n",
    "#     data = pd.read_parquet(data_path)\n",
    "#     contexts = data[\"context\"].values.tolist()\n",
    "#     randomed = random.sample(contexts, 70)\n",
    "#     final = {\"contexts\" : randomed}\n",
    "#     save_path = f\"../datasets/{name}_mini.json\"\n",
    "#     with open(save_path, \"w\", encoding=\"utf-8\") as f:\n",
    "#         file = json.dumps(final, ensure_ascii=False, indent=4)\n",
    "#         f.write(file)"
   ]
  },
  {
   "cell_type": "code",
   "execution_count": null,
   "metadata": {},
   "outputs": [],
   "source": [
    "# def load_json(save_path):\n",
    "#     with open(save_path, \"r\", encoding=\"utf-8\") as f:\n",
    "#         loaded = json.load(f)\n",
    "        \n",
    "#     return loaded"
   ]
  },
  {
   "cell_type": "code",
   "execution_count": 2,
   "metadata": {},
   "outputs": [
    {
     "data": {
      "text/plain": [
       "(7529, 6)"
      ]
     },
     "execution_count": 2,
     "metadata": {},
     "output_type": "execute_result"
    }
   ],
   "source": [
    "pd.set_option('display.max_colwidth', None)  # None means no limit on column width\n",
    "pd.set_option('display.width', 300)  \n",
    "model = \"gpt-4o-mini\"\n",
    "wiki = pd.read_parquet(\"../datasets/wiki_4o.parquet\")\n",
    "wiki.shape"
   ]
  },
  {
   "cell_type": "code",
   "execution_count": 3,
   "metadata": {},
   "outputs": [
    {
     "data": {
      "text/plain": [
       "(14080, 6)"
      ]
     },
     "execution_count": 3,
     "metadata": {},
     "output_type": "execute_result"
    }
   ],
   "source": [
    "news = pd.read_parquet(\"../datasets/news_4o.parquet\")\n",
    "news.shape"
   ]
  },
  {
   "cell_type": "code",
   "execution_count": 4,
   "metadata": {},
   "outputs": [],
   "source": [
    "news_subset = news.sample(n=1700, ignore_index=True, random_state=42)"
   ]
  },
  {
   "cell_type": "code",
   "execution_count": 5,
   "metadata": {},
   "outputs": [
    {
     "data": {
      "text/plain": [
       "(3666, 6)"
      ]
     },
     "execution_count": 5,
     "metadata": {},
     "output_type": "execute_result"
    }
   ],
   "source": [
    "literature = pd.read_parquet(\"../datasets/literature_4o.parquet\")\n",
    "literature.shape"
   ]
  },
  {
   "cell_type": "code",
   "execution_count": 6,
   "metadata": {},
   "outputs": [],
   "source": [
    "literature_subset = literature.sample(n=500, ignore_index=True, random_state=42)"
   ]
  },
  {
   "cell_type": "code",
   "execution_count": 7,
   "metadata": {},
   "outputs": [],
   "source": [
    "wiki['dataset'] = 'wiki'\n",
    "news['dataset'] = 'news'\n",
    "literature['dataset'] = 'literature'"
   ]
  },
  {
   "cell_type": "code",
   "execution_count": 12,
   "metadata": {},
   "outputs": [],
   "source": [
    "merged_df = pd.concat([wiki, news_subset, literature_subset], ignore_index=True)\n",
    "merged_df.to_parquet('../datasets/TRAIN_4o.parquet')"
   ]
  },
  {
   "cell_type": "code",
   "execution_count": 13,
   "metadata": {},
   "outputs": [
    {
     "data": {
      "text/plain": [
       "(9729, 7)"
      ]
     },
     "execution_count": 13,
     "metadata": {},
     "output_type": "execute_result"
    }
   ],
   "source": [
    "merged_df.shape"
   ]
  },
  {
   "cell_type": "code",
   "execution_count": 10,
   "metadata": {},
   "outputs": [
    {
     "data": {
      "text/plain": [
       "dataset\n",
       "news          14080\n",
       "wiki           7529\n",
       "literature     3666\n",
       "Name: count, dtype: int64"
      ]
     },
     "execution_count": 10,
     "metadata": {},
     "output_type": "execute_result"
    }
   ],
   "source": [
    "merged_df['dataset'].value_counts()"
   ]
  },
  {
   "cell_type": "code",
   "execution_count": 11,
   "metadata": {},
   "outputs": [
    {
     "data": {
      "text/plain": [
       "(11714, 7)"
      ]
     },
     "execution_count": 11,
     "metadata": {},
     "output_type": "execute_result"
    }
   ],
   "source": [
    "old_ds = pd.read_parquet(\"../datasets/TRAIN11k_fixed_v2.parquet\")\n",
    "old_ds.shape"
   ]
  },
  {
   "cell_type": "code",
   "execution_count": 12,
   "metadata": {},
   "outputs": [
    {
     "data": {
      "text/plain": [
       "(25275, 7)"
      ]
     },
     "execution_count": 12,
     "metadata": {},
     "output_type": "execute_result"
    }
   ],
   "source": [
    "merged_all = pd.concat([wiki, news, literature], ignore_index=True)\n",
    "merged_all.shape"
   ]
  },
  {
   "cell_type": "code",
   "execution_count": 13,
   "metadata": {},
   "outputs": [],
   "source": [
    "merged_all.to_parquet('../datasets/TRAIN_25k.parquet')"
   ]
  },
  {
   "cell_type": "code",
   "execution_count": 14,
   "metadata": {},
   "outputs": [],
   "source": [
    "lst = merged_all['context'].to_list()"
   ]
  },
  {
   "cell_type": "code",
   "execution_count": 15,
   "metadata": {},
   "outputs": [
    {
     "data": {
      "text/plain": [
       "25275"
      ]
     },
     "execution_count": 15,
     "metadata": {},
     "output_type": "execute_result"
    }
   ],
   "source": [
    "len(lst)"
   ]
  },
  {
   "cell_type": "code",
   "execution_count": 16,
   "metadata": {},
   "outputs": [
    {
     "data": {
      "text/plain": [
       "25271"
      ]
     },
     "execution_count": 16,
     "metadata": {},
     "output_type": "execute_result"
    }
   ],
   "source": [
    "lst_st = list(set(lst))\n",
    "len(lst_st)"
   ]
  },
  {
   "cell_type": "code",
   "execution_count": 29,
   "metadata": {},
   "outputs": [
    {
     "name": "stdout",
     "output_type": "stream",
     "text": [
      "utf8 utf8 varijanta je najzgodnija za kodiranje većinski latiničnog teksta dato je i kratko uputstvo za korišćenje te varijante u microsoft wordu netscape composeru i tekstualnom editoru kate u tekstu su takođe preporučeni standardni unicode fontovi koji omogućavaju laku prenosivost teksta sa računara na računar ili za objavljivanje teksta na internet prvi računari su bili pravljeni pretežno za englesko govorno područje i imali su podršku samo za engleski alfabet za brojeve zagrade i još po neki kontrolni karakter što je činilo ukupno 128 mogućih slova u 7 bita\n",
      "25275\n"
     ]
    }
   ],
   "source": [
    "import string\n",
    "\n",
    "cleaned = []\n",
    "for context in lst:\n",
    "    context = context.translate(str.maketrans('', '', string.punctuation))\n",
    "    context = context.lower()\n",
    "    cleaned.append(context)\n",
    "\n",
    "print(cleaned[0])\n",
    "print(len(cleaned))"
   ]
  },
  {
   "cell_type": "code",
   "execution_count": 30,
   "metadata": {},
   "outputs": [
    {
     "name": "stdout",
     "output_type": "stream",
     "text": [
      "na njegovo mesto mitropoliti podigoše na presto pobožnog i strogog jeftimija i ovaj i pored svoje odvratnosti najzad popusti jednodušnoj molbi vladika rimskih legata i cara ovim poravnanjem lav je mislio da je po svojoj želji okončao pitanje svoje četvrte ženidbe u stvari on je bio stvorio rascep u istočnoj crkvi sveštenstvo i verni podeliše se između jeftimija i nikole trebalo je proterati najuglednije mitropolite koji su uporno stajali uz svrgnutoga patrijarha naređivati gonjenja pozatvarati protivnike i te oštre mere još su pojačale javno osuđivanje lava zoe i čak novoga patrijarha\n",
      "25271\n"
     ]
    }
   ],
   "source": [
    "setic = list(set(cleaned))\n",
    "print(setic[0])\n",
    "print(len(setic))"
   ]
  },
  {
   "cell_type": "code",
   "execution_count": null,
   "metadata": {},
   "outputs": [],
   "source": []
  }
 ],
 "metadata": {
  "kernelspec": {
   "display_name": ".venv",
   "language": "python",
   "name": "python3"
  },
  "language_info": {
   "codemirror_mode": {
    "name": "ipython",
    "version": 3
   },
   "file_extension": ".py",
   "mimetype": "text/x-python",
   "name": "python",
   "nbconvert_exporter": "python",
   "pygments_lexer": "ipython3",
   "version": "3.10.14"
  }
 },
 "nbformat": 4,
 "nbformat_minor": 2
}
