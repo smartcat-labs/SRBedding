{
 "cells": [
  {
   "cell_type": "code",
   "execution_count": 2,
   "metadata": {},
   "outputs": [],
   "source": [
    "from datasets import load_dataset\n",
    "import pandas as pd\n",
    "import sys\n",
    "sys.path.append(\"..\")"
   ]
  },
  {
   "cell_type": "code",
   "execution_count": 8,
   "metadata": {},
   "outputs": [
    {
     "data": {
      "text/plain": [
       "DatasetDict({\n",
       "    train: Dataset({\n",
       "        features: ['input', 'instruction', 'output'],\n",
       "        num_rows: 51760\n",
       "    })\n",
       "})"
      ]
     },
     "execution_count": 8,
     "metadata": {},
     "output_type": "execute_result"
    }
   ],
   "source": [
    "ds_alpaca = load_dataset(\"datatab/alpaca-cleaned-serbian-full\")\n",
    "ds_alpaca"
   ]
  },
  {
   "cell_type": "code",
   "execution_count": 17,
   "metadata": {},
   "outputs": [],
   "source": [
    "# input_user = ds_alpaca['train']['input']\n",
    "instruction = ds_alpaca['train']['instruction']\n",
    "output = ds_alpaca['train']['output']\n",
    "\n",
    "df = pd.DataFrame({\n",
    "                #    \"input\" : input_user,\n",
    "                   \"instructon\" : instruction,\n",
    "                   \"output\" : output})"
   ]
  },
  {
   "cell_type": "code",
   "execution_count": 18,
   "metadata": {},
   "outputs": [
    {
     "data": {
      "text/html": [
       "<div>\n",
       "<style scoped>\n",
       "    .dataframe tbody tr th:only-of-type {\n",
       "        vertical-align: middle;\n",
       "    }\n",
       "\n",
       "    .dataframe tbody tr th {\n",
       "        vertical-align: top;\n",
       "    }\n",
       "\n",
       "    .dataframe thead th {\n",
       "        text-align: right;\n",
       "    }\n",
       "</style>\n",
       "<table border=\"1\" class=\"dataframe\">\n",
       "  <thead>\n",
       "    <tr style=\"text-align: right;\">\n",
       "      <th></th>\n",
       "      <th>instructon</th>\n",
       "      <th>output</th>\n",
       "    </tr>\n",
       "  </thead>\n",
       "  <tbody>\n",
       "    <tr>\n",
       "      <th>0</th>\n",
       "      <td>Dajte tri saveta kako da ostanete zdravi.</td>\n",
       "      <td>1. Jedite uravnoteženu i hranljivu ishranu: Uv...</td>\n",
       "    </tr>\n",
       "    <tr>\n",
       "      <th>1</th>\n",
       "      <td>Koje su tri osnovne boje?</td>\n",
       "      <td>Tri osnovne boje su crvena, plava i žuta. Ove ...</td>\n",
       "    </tr>\n",
       "    <tr>\n",
       "      <th>2</th>\n",
       "      <td>Opišite strukturu atoma.</td>\n",
       "      <td>Atom je osnovni gradivni blok sve materije i s...</td>\n",
       "    </tr>\n",
       "    <tr>\n",
       "      <th>3</th>\n",
       "      <td>Kako možemo smanjiti zagađenje vazduha?</td>\n",
       "      <td>Postoji nekoliko načina da se smanji zagađenje...</td>\n",
       "    </tr>\n",
       "    <tr>\n",
       "      <th>4</th>\n",
       "      <td>Pretvarajte se da ste menadžer projekta građev...</td>\n",
       "      <td>Morao sam da donesem tešku odluku kada sam rad...</td>\n",
       "    </tr>\n",
       "    <tr>\n",
       "      <th>5</th>\n",
       "      <td>Napišite sažetak sledećeg:\\n„Commodore 64 (obi...</td>\n",
       "      <td>Commodore 64 je bio veoma uspešan 8-bitni kućn...</td>\n",
       "    </tr>\n",
       "    <tr>\n",
       "      <th>6</th>\n",
       "      <td>Objasni zašto je sledeći razlomak jednak 1/4</td>\n",
       "      <td>Razlomak 4/16 je ekvivalentan 1/4 jer oba razl...</td>\n",
       "    </tr>\n",
       "    <tr>\n",
       "      <th>7</th>\n",
       "      <td>Napišite kratku priču u trećem licu o protagon...</td>\n",
       "      <td>Sofi je sedela za svojim stolom, tupo zureći u...</td>\n",
       "    </tr>\n",
       "    <tr>\n",
       "      <th>8</th>\n",
       "      <td>Ocenite ovu rečenicu za pravopisne i gramatičk...</td>\n",
       "      <td>U rečenici postoje dve pravopisne greške. Ispr...</td>\n",
       "    </tr>\n",
       "    <tr>\n",
       "      <th>9</th>\n",
       "      <td>Kako je umro Julije Cezar?</td>\n",
       "      <td>Julije Cezar, rimski vojni general i državnik,...</td>\n",
       "    </tr>\n",
       "    <tr>\n",
       "      <th>10</th>\n",
       "      <td>Koji je glavni grad Francuske?</td>\n",
       "      <td>Glavni grad Francuske je Pariz.</td>\n",
       "    </tr>\n",
       "    <tr>\n",
       "      <th>11</th>\n",
       "      <td>Napravite listu od deset stvari koje bi osobi ...</td>\n",
       "      <td>Evo deset stvari koje bi osobi mogle trebati z...</td>\n",
       "    </tr>\n",
       "    <tr>\n",
       "      <th>12</th>\n",
       "      <td>Razgovarajte o uzrocima Velike depresije</td>\n",
       "      <td>Velika depresija je bila period ekonomskog pad...</td>\n",
       "    </tr>\n",
       "    <tr>\n",
       "      <th>13</th>\n",
       "      <td>Razvrstaj sledeće na životinje, biljke i minerale</td>\n",
       "      <td>Životinje: slon\\nBiljke: hrast\\nMinerali: Ruda...</td>\n",
       "    </tr>\n",
       "    <tr>\n",
       "      <th>14</th>\n",
       "      <td>Objasnite upotrebu ugrađivanja reči u obradi p...</td>\n",
       "      <td>Ugrađivanje reči je vrsta tehnike obrade priro...</td>\n",
       "    </tr>\n",
       "    <tr>\n",
       "      <th>15</th>\n",
       "      <td>Opišite funkciju matične ploče računara</td>\n",
       "      <td>Matična ploča, poznata i kao matična ploča ili...</td>\n",
       "    </tr>\n",
       "    <tr>\n",
       "      <th>16</th>\n",
       "      <td>Refaktorirajte ovaj kod i dodajte komentare.</td>\n",
       "      <td>```\\n# Ovo je funkcija koja izračunava faktori...</td>\n",
       "    </tr>\n",
       "    <tr>\n",
       "      <th>17</th>\n",
       "      <td>Predložite etičko rešenje za problem privatnos...</td>\n",
       "      <td>Jedno etičko rešenje za problem privatnosti po...</td>\n",
       "    </tr>\n",
       "    <tr>\n",
       "      <th>18</th>\n",
       "      <td>Generišite tri glagola koji znače isto što i „...</td>\n",
       "      <td>1. Da izrazim žaljenje\\n2. Da se ​​iskupi\\n3. ...</td>\n",
       "    </tr>\n",
       "    <tr>\n",
       "      <th>19</th>\n",
       "      <td>Šta znači DNK?</td>\n",
       "      <td>DNK je skraćenica za deoksiribonukleinsku kise...</td>\n",
       "    </tr>\n",
       "    <tr>\n",
       "      <th>20</th>\n",
       "      <td>Uporedite i uporedite Kubansku raketnu krizu i...</td>\n",
       "      <td>Kubanska raketna kriza (1962) i Vijetnamski ra...</td>\n",
       "    </tr>\n",
       "    <tr>\n",
       "      <th>21</th>\n",
       "      <td>Napravite listu nasumičnih reči.</td>\n",
       "      <td>Evo liste od deset nasumičnih reči:\\n\\n1. Kuib...</td>\n",
       "    </tr>\n",
       "    <tr>\n",
       "      <th>22</th>\n",
       "      <td>Na osnovu datih informacija, prepiši rečenicu ...</td>\n",
       "      <td>Satima će lepo svirati klavir, a onda će prest...</td>\n",
       "    </tr>\n",
       "    <tr>\n",
       "      <th>23</th>\n",
       "      <td>Ko je najpoznatiji svetski slikar?</td>\n",
       "      <td>Titula najpoznatijeg svetskog slikara je subje...</td>\n",
       "    </tr>\n",
       "    <tr>\n",
       "      <th>24</th>\n",
       "      <td>Objasni pojam obrtnog momenta zupčanika.</td>\n",
       "      <td>Obrtni moment zupčanika je obrtni moment koji ...</td>\n",
       "    </tr>\n",
       "    <tr>\n",
       "      <th>25</th>\n",
       "      <td>Potražite tačku ključanja vode.</td>\n",
       "      <td>Tačka ključanja vode je 100 stepeni Celzijusa ...</td>\n",
       "    </tr>\n",
       "    <tr>\n",
       "      <th>26</th>\n",
       "      <td>Opišite život i vladavinu kralja Karla II.</td>\n",
       "      <td>Kralj Čarls II bio je monarh Engleske, Škotske...</td>\n",
       "    </tr>\n",
       "    <tr>\n",
       "      <th>27</th>\n",
       "      <td>Pronađite površinu kruga s obzirom na njegov p...</td>\n",
       "      <td>Formula za pronalaženje površine kruga je A = ...</td>\n",
       "    </tr>\n",
       "    <tr>\n",
       "      <th>28</th>\n",
       "      <td>Identifikujte linije geografske dužine koje ra...</td>\n",
       "      <td>Linija geografske dužine koja deli Severnu i J...</td>\n",
       "    </tr>\n",
       "    <tr>\n",
       "      <th>29</th>\n",
       "      <td>Objasni proces ćelijskog disanja kod biljaka.</td>\n",
       "      <td>Ćelijsko disanje u biljkama je proces kojim on...</td>\n",
       "    </tr>\n",
       "  </tbody>\n",
       "</table>\n",
       "</div>"
      ],
      "text/plain": [
       "                                           instructon  \\\n",
       "0           Dajte tri saveta kako da ostanete zdravi.   \n",
       "1                           Koje su tri osnovne boje?   \n",
       "2                            Opišite strukturu atoma.   \n",
       "3             Kako možemo smanjiti zagađenje vazduha?   \n",
       "4   Pretvarajte se da ste menadžer projekta građev...   \n",
       "5   Napišite sažetak sledećeg:\\n„Commodore 64 (obi...   \n",
       "6        Objasni zašto je sledeći razlomak jednak 1/4   \n",
       "7   Napišite kratku priču u trećem licu o protagon...   \n",
       "8   Ocenite ovu rečenicu za pravopisne i gramatičk...   \n",
       "9                          Kako je umro Julije Cezar?   \n",
       "10                     Koji je glavni grad Francuske?   \n",
       "11  Napravite listu od deset stvari koje bi osobi ...   \n",
       "12           Razgovarajte o uzrocima Velike depresije   \n",
       "13  Razvrstaj sledeće na životinje, biljke i minerale   \n",
       "14  Objasnite upotrebu ugrađivanja reči u obradi p...   \n",
       "15            Opišite funkciju matične ploče računara   \n",
       "16       Refaktorirajte ovaj kod i dodajte komentare.   \n",
       "17  Predložite etičko rešenje za problem privatnos...   \n",
       "18  Generišite tri glagola koji znače isto što i „...   \n",
       "19                                     Šta znači DNK?   \n",
       "20  Uporedite i uporedite Kubansku raketnu krizu i...   \n",
       "21                   Napravite listu nasumičnih reči.   \n",
       "22  Na osnovu datih informacija, prepiši rečenicu ...   \n",
       "23                 Ko je najpoznatiji svetski slikar?   \n",
       "24           Objasni pojam obrtnog momenta zupčanika.   \n",
       "25                    Potražite tačku ključanja vode.   \n",
       "26         Opišite život i vladavinu kralja Karla II.   \n",
       "27  Pronađite površinu kruga s obzirom na njegov p...   \n",
       "28  Identifikujte linije geografske dužine koje ra...   \n",
       "29      Objasni proces ćelijskog disanja kod biljaka.   \n",
       "\n",
       "                                               output  \n",
       "0   1. Jedite uravnoteženu i hranljivu ishranu: Uv...  \n",
       "1   Tri osnovne boje su crvena, plava i žuta. Ove ...  \n",
       "2   Atom je osnovni gradivni blok sve materije i s...  \n",
       "3   Postoji nekoliko načina da se smanji zagađenje...  \n",
       "4   Morao sam da donesem tešku odluku kada sam rad...  \n",
       "5   Commodore 64 je bio veoma uspešan 8-bitni kućn...  \n",
       "6   Razlomak 4/16 je ekvivalentan 1/4 jer oba razl...  \n",
       "7   Sofi je sedela za svojim stolom, tupo zureći u...  \n",
       "8   U rečenici postoje dve pravopisne greške. Ispr...  \n",
       "9   Julije Cezar, rimski vojni general i državnik,...  \n",
       "10                    Glavni grad Francuske je Pariz.  \n",
       "11  Evo deset stvari koje bi osobi mogle trebati z...  \n",
       "12  Velika depresija je bila period ekonomskog pad...  \n",
       "13  Životinje: slon\\nBiljke: hrast\\nMinerali: Ruda...  \n",
       "14  Ugrađivanje reči je vrsta tehnike obrade priro...  \n",
       "15  Matična ploča, poznata i kao matična ploča ili...  \n",
       "16  ```\\n# Ovo je funkcija koja izračunava faktori...  \n",
       "17  Jedno etičko rešenje za problem privatnosti po...  \n",
       "18  1. Da izrazim žaljenje\\n2. Da se ​​iskupi\\n3. ...  \n",
       "19  DNK je skraćenica za deoksiribonukleinsku kise...  \n",
       "20  Kubanska raketna kriza (1962) i Vijetnamski ra...  \n",
       "21  Evo liste od deset nasumičnih reči:\\n\\n1. Kuib...  \n",
       "22  Satima će lepo svirati klavir, a onda će prest...  \n",
       "23  Titula najpoznatijeg svetskog slikara je subje...  \n",
       "24  Obrtni moment zupčanika je obrtni moment koji ...  \n",
       "25  Tačka ključanja vode je 100 stepeni Celzijusa ...  \n",
       "26  Kralj Čarls II bio je monarh Engleske, Škotske...  \n",
       "27  Formula za pronalaženje površine kruga je A = ...  \n",
       "28  Linija geografske dužine koja deli Severnu i J...  \n",
       "29  Ćelijsko disanje u biljkama je proces kojim on...  "
      ]
     },
     "execution_count": 18,
     "metadata": {},
     "output_type": "execute_result"
    }
   ],
   "source": [
    "df.head(30)"
   ]
  },
  {
   "cell_type": "code",
   "execution_count": 21,
   "metadata": {},
   "outputs": [],
   "source": [
    "ds_orca = load_dataset(\"datatab/open-orca-slim-serbian\")"
   ]
  },
  {
   "cell_type": "code",
   "execution_count": 22,
   "metadata": {},
   "outputs": [
    {
     "data": {
      "text/plain": [
       "DatasetDict({\n",
       "    train: Dataset({\n",
       "        features: ['conversations'],\n",
       "        num_rows: 514386\n",
       "    })\n",
       "})"
      ]
     },
     "execution_count": 22,
     "metadata": {},
     "output_type": "execute_result"
    }
   ],
   "source": [
    "ds_orca"
   ]
  },
  {
   "cell_type": "code",
   "execution_count": 24,
   "metadata": {},
   "outputs": [
    {
     "data": {
      "text/plain": [
       "[{'from': 'system',\n",
       "  'value': 'Vi ste AI asistent. Navedite detaljan odgovor tako da korisnik ne mora da traži napolju da bi razumeo odgovor.',\n",
       "  'weight': None},\n",
       " {'from': 'human',\n",
       "  'value': 'Pročitajte sledeći članak i odgovorite na pitanje. Članak: Da li imate čvrsto mišljenje o školama sa zajedničkim obrazovanjem ili školama za jednog pola? Pristalica zajedničkih škola verovatno bi rekao da škole treba da budu kao društva kojima pripadaju. U Hong Kongu se muškarci i žene svakodnevno mešaju u društvu. U mnogim oblastima muškarci verovatno imaju šefice .Zbog toga je poželjno da dečaci i devojčice odrastaju zajedno, idu zajedno u školu i pripremaju se za društvo koje ne ceni seksualnu odvojenost. Neki bi dalje tvrdili da je odrastanje sa pripadnicima suprotnog pola važno za lični razvoj. Redovni kontakt može ukloniti čudne ideje o suprotnom polu i dovesti do prirodnijih odnosa. ekstremnija mišljenja, a možda čak i kao ohrabrivanje homoseksualizma, iako nema dokaza da je to tako. Oni koji su protiv zajedničkog obrazovanja često svoju pažnju usmeravaju i na seksualnu stranu. Neki roditelji strahuju da je blizak kontakt sa pripadnicima suprotnog pola opasan za tinejdžere. Žele da im deca paze na učenje. Takvi roditelji se osećaju neprijatno zbog savremenih načina. i slobodno mešanje polova. Jači argument dolazi iz istraživanja školskih rezultata. Devojčice odrastaju ranije od dečaka, imaju tendenciju da budu urednije i verovatno bolje govore jezici. U mešovitom odeljenju, dečaci koji bi mogli dobro da se snalaze u jednospolnom odeljenju postaju obeshrabreni i preuzeti vladavinu izazivača smutnji .Svakako u UK ova situacija je u velikoj meri uznemirila vladu da ohrabruje škole sa zajedničkim obrazovanjem da imaju jednopolne časove .U UK sve najbolje škole su jednospolne , što snažno sugeriše da zajedničko obrazovanje nije najbolji odgovor. Ovo možda, međutim, nije tako jednostavno kao što izgleda. Može jednostavno biti da su poznate stare škole koje privlače najbolje studente slučajno jednopolne, a ne jednopolne čini ih boljim školama. Pitanje: U odlomku se mogu naći svi sledeći argumenti OSIM da_. Odgovor:\\nOdgovor:',\n",
       "  'weight': 0.0},\n",
       " {'from': 'gpt',\n",
       "  'value': 'Svi sledeći argumenti se mogu naći u odlomku OSIM da jednopolne škole pružaju bolji kvalitet obrazovanja inherentno zbog svoje jednopolne prirode.',\n",
       "  'weight': 1.0}]"
      ]
     },
     "execution_count": 24,
     "metadata": {},
     "output_type": "execute_result"
    }
   ],
   "source": [
    "ds_orca['train']['conversations'][0]"
   ]
  },
  {
   "cell_type": "code",
   "execution_count": 27,
   "metadata": {},
   "outputs": [
    {
     "name": "stdout",
     "output_type": "stream",
     "text": [
      "Human: Pročitajte sledeći članak i odgovorite na pitanje. Članak: Da li imate čvrsto mišljenje o školama sa zajedničkim obrazovanjem ili školama za jednog pola? Pristalica zajedničkih škola verovatno bi rekao da škole treba da budu kao društva kojima pripadaju. U Hong Kongu se muškarci i žene svakodnevno mešaju u društvu. U mnogim oblastima muškarci verovatno imaju šefice .Zbog toga je poželjno da dečaci i devojčice odrastaju zajedno, idu zajedno u školu i pripremaju se za društvo koje ne ceni seksualnu odvojenost. Neki bi dalje tvrdili da je odrastanje sa pripadnicima suprotnog pola važno za lični razvoj. Redovni kontakt može ukloniti čudne ideje o suprotnom polu i dovesti do prirodnijih odnosa. ekstremnija mišljenja, a možda čak i kao ohrabrivanje homoseksualizma, iako nema dokaza da je to tako. Oni koji su protiv zajedničkog obrazovanja često svoju pažnju usmeravaju i na seksualnu stranu. Neki roditelji strahuju da je blizak kontakt sa pripadnicima suprotnog pola opasan za tinejdžere. Žele da im deca paze na učenje. Takvi roditelji se osećaju neprijatno zbog savremenih načina. i slobodno mešanje polova. Jači argument dolazi iz istraživanja školskih rezultata. Devojčice odrastaju ranije od dečaka, imaju tendenciju da budu urednije i verovatno bolje govore jezici. U mešovitom odeljenju, dečaci koji bi mogli dobro da se snalaze u jednospolnom odeljenju postaju obeshrabreni i preuzeti vladavinu izazivača smutnji .Svakako u UK ova situacija je u velikoj meri uznemirila vladu da ohrabruje škole sa zajedničkim obrazovanjem da imaju jednopolne časove .U UK sve najbolje škole su jednospolne , što snažno sugeriše da zajedničko obrazovanje nije najbolji odgovor. Ovo možda, međutim, nije tako jednostavno kao što izgleda. Može jednostavno biti da su poznate stare škole koje privlače najbolje studente slučajno jednopolne, a ne jednopolne čini ih boljim školama. Pitanje: U odlomku se mogu naći svi sledeći argumenti OSIM da_. Odgovor:\n",
      "Odgovor:\n",
      "GPT: Svi sledeći argumenti se mogu naći u odlomku OSIM da jednopolne škole pružaju bolji kvalitet obrazovanja inherentno zbog svoje jednopolne prirode.\n"
     ]
    }
   ],
   "source": [
    "human = next(item['value'] for item in ds_orca['train']['conversations'][0] if item['from'] == 'human')\n",
    "gpt = next(item['value'] for item in ds_orca['train']['conversations'][0] if item['from'] == 'gpt')\n",
    "\n",
    "print(\"Human:\", human)\n",
    "print(\"GPT:\", gpt)"
   ]
  },
  {
   "cell_type": "code",
   "execution_count": null,
   "metadata": {},
   "outputs": [],
   "source": []
  }
 ],
 "metadata": {
  "kernelspec": {
   "display_name": ".venv",
   "language": "python",
   "name": "python3"
  },
  "language_info": {
   "codemirror_mode": {
    "name": "ipython",
    "version": 3
   },
   "file_extension": ".py",
   "mimetype": "text/x-python",
   "name": "python",
   "nbconvert_exporter": "python",
   "pygments_lexer": "ipython3",
   "version": "3.10.14"
  }
 },
 "nbformat": 4,
 "nbformat_minor": 2
}
