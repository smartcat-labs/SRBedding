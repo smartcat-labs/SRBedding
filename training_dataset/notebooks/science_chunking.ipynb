{
 "cells": [
  {
   "cell_type": "code",
   "execution_count": 1,
   "metadata": {},
   "outputs": [],
   "source": [
    "import pandas as pd\n",
    "import numpy as np\n",
    "import re\n",
    "import os, sys\n",
    "import tiktoken\n",
    "sys.path.append(\"..\")"
   ]
  },
  {
   "cell_type": "code",
   "execution_count": 2,
   "metadata": {},
   "outputs": [
    {
     "data": {
      "text/html": [
       "<div>\n",
       "<style scoped>\n",
       "    .dataframe tbody tr th:only-of-type {\n",
       "        vertical-align: middle;\n",
       "    }\n",
       "\n",
       "    .dataframe tbody tr th {\n",
       "        vertical-align: top;\n",
       "    }\n",
       "\n",
       "    .dataframe thead th {\n",
       "        text-align: right;\n",
       "    }\n",
       "</style>\n",
       "<table border=\"1\" class=\"dataframe\">\n",
       "  <thead>\n",
       "    <tr style=\"text-align: right;\">\n",
       "      <th></th>\n",
       "      <th>title_en</th>\n",
       "      <th>title_sr</th>\n",
       "      <th>abstract_en</th>\n",
       "      <th>abstract_sr</th>\n",
       "      <th>kewywords_en</th>\n",
       "      <th>kewywords_sr</th>\n",
       "    </tr>\n",
       "  </thead>\n",
       "  <tbody>\n",
       "    <tr>\n",
       "      <th>0</th>\n",
       "      <td>The origins and development of the architectur...</td>\n",
       "      <td>Poreklo i razvoj arhitektonske forme rimokatol...</td>\n",
       "      <td>The aim of the paper is to present an architec...</td>\n",
       "      <td>Predmet rada je proučavanje arhitekture rimoka...</td>\n",
       "      <td>[Sacral architecture, roman catholic church, a...</td>\n",
       "      <td>[Sakralna arhitektura, rimokatlička Crkva, arh...</td>\n",
       "    </tr>\n",
       "    <tr>\n",
       "      <th>1</th>\n",
       "      <td>Belgrade's General Plan 1923: a comparison of ...</td>\n",
       "      <td>Generalni plan Beograda 1923 komparacija plani...</td>\n",
       "      <td>The doctoral dissertation examines the process...</td>\n",
       "      <td>U doktorskoj disertaciji je istraživan proces ...</td>\n",
       "      <td>[History, theory, urban lanning, general plan,...</td>\n",
       "      <td>[istorija, teorija, urbanističko planiranje, g...</td>\n",
       "    </tr>\n",
       "    <tr>\n",
       "      <th>2</th>\n",
       "      <td>The importance and role of pedestrian space ne...</td>\n",
       "      <td>Značaj i uloga mreže pešačkih prostora u gener...</td>\n",
       "      <td>City represents its character through urban/pl...</td>\n",
       "      <td>Svoj karakter grad predstavlja putem urbanog m...</td>\n",
       "      <td>[Pedestrian space network, communication of th...</td>\n",
       "      <td>[Mreža pešačkih prostora, komunikacija grada, ...</td>\n",
       "    </tr>\n",
       "    <tr>\n",
       "      <th>3</th>\n",
       "      <td>Adaptive principles in architectural design</td>\n",
       "      <td>Adaptivni principi u arhitektonskom projektovanju</td>\n",
       "      <td>This study is aiming at the development of arc...</td>\n",
       "      <td>Ovaj rad predstavlja prilog razvoju metodologi...</td>\n",
       "      <td>[adaptation, analogue model, performative mode...</td>\n",
       "      <td>[adaptacija, analogni model, perfomativni mode...</td>\n",
       "    </tr>\n",
       "    <tr>\n",
       "      <th>4</th>\n",
       "      <td>Transformation of vernacular architecture on t...</td>\n",
       "      <td>Transformacija narodne arhitekture na poluostr...</td>\n",
       "      <td>Vrmac Peninsula is located in the Bay of Kotor...</td>\n",
       "      <td>Poluostrvo Vrmac nalazi se u Bokokotorskom zal...</td>\n",
       "      <td>[peninsula Vrmac, vernacular transformation, c...</td>\n",
       "      <td>[poluostrvo Vrmac, transformacija narodnih kuć...</td>\n",
       "    </tr>\n",
       "  </tbody>\n",
       "</table>\n",
       "</div>"
      ],
      "text/plain": [
       "                                            title_en  \\\n",
       "0  The origins and development of the architectur...   \n",
       "1  Belgrade's General Plan 1923: a comparison of ...   \n",
       "2  The importance and role of pedestrian space ne...   \n",
       "3        Adaptive principles in architectural design   \n",
       "4  Transformation of vernacular architecture on t...   \n",
       "\n",
       "                                            title_sr  \\\n",
       "0  Poreklo i razvoj arhitektonske forme rimokatol...   \n",
       "1  Generalni plan Beograda 1923 komparacija plani...   \n",
       "2  Značaj i uloga mreže pešačkih prostora u gener...   \n",
       "3  Adaptivni principi u arhitektonskom projektovanju   \n",
       "4  Transformacija narodne arhitekture na poluostr...   \n",
       "\n",
       "                                         abstract_en  \\\n",
       "0  The aim of the paper is to present an architec...   \n",
       "1  The doctoral dissertation examines the process...   \n",
       "2  City represents its character through urban/pl...   \n",
       "3  This study is aiming at the development of arc...   \n",
       "4  Vrmac Peninsula is located in the Bay of Kotor...   \n",
       "\n",
       "                                         abstract_sr  \\\n",
       "0  Predmet rada je proučavanje arhitekture rimoka...   \n",
       "1  U doktorskoj disertaciji je istraživan proces ...   \n",
       "2  Svoj karakter grad predstavlja putem urbanog m...   \n",
       "3  Ovaj rad predstavlja prilog razvoju metodologi...   \n",
       "4  Poluostrvo Vrmac nalazi se u Bokokotorskom zal...   \n",
       "\n",
       "                                        kewywords_en  \\\n",
       "0  [Sacral architecture, roman catholic church, a...   \n",
       "1  [History, theory, urban lanning, general plan,...   \n",
       "2  [Pedestrian space network, communication of th...   \n",
       "3  [adaptation, analogue model, performative mode...   \n",
       "4  [peninsula Vrmac, vernacular transformation, c...   \n",
       "\n",
       "                                        kewywords_sr  \n",
       "0  [Sakralna arhitektura, rimokatlička Crkva, arh...  \n",
       "1  [istorija, teorija, urbanističko planiranje, g...  \n",
       "2  [Mreža pešačkih prostora, komunikacija grada, ...  \n",
       "3  [adaptacija, analogni model, perfomativni mode...  \n",
       "4  [poluostrvo Vrmac, transformacija narodnih kuć...  "
      ]
     },
     "execution_count": 2,
     "metadata": {},
     "output_type": "execute_result"
    }
   ],
   "source": [
    "# pd.set_option('display.max_colwidth', None)  # None means no limit on column width\n",
    "# pd.set_option('display.width', 300)  \n",
    "\n",
    "sci = pd.read_parquet(\"../datasets/science_parallel.parquet\")\n",
    "sci.head()"
   ]
  },
  {
   "cell_type": "code",
   "execution_count": 3,
   "metadata": {},
   "outputs": [
    {
     "data": {
      "text/plain": [
       "(9962, 6)"
      ]
     },
     "execution_count": 3,
     "metadata": {},
     "output_type": "execute_result"
    }
   ],
   "source": [
    "sci['abstract_en'] = sci['abstract_en'].replace('', np.nan)\n",
    "sci['abstract_sr'] = sci['abstract_sr'].replace('', np.nan)\n",
    "sci_cleaned = sci.dropna(subset=['abstract_en', 'abstract_sr'], ignore_index=True)\n",
    "sci_cleaned.shape"
   ]
  },
  {
   "cell_type": "code",
   "execution_count": 4,
   "metadata": {},
   "outputs": [],
   "source": [
    "def num_tokens_from_string(string: str, encoding_name: str) -> int:\n",
    "    \"\"\"\n",
    "    Calculates the number of tokens in a string based on a specified encoding.\n",
    "\n",
    "    The function uses the specified encoding to tokenize the input string and returns the number of tokens generated.\n",
    "\n",
    "    Parameters:\n",
    "    string (str): The input string to be tokenized.\n",
    "    encoding_name (str): The name of the encoding to use for tokenization.\n",
    "\n",
    "    Returns:\n",
    "    int: The number of tokens in the input string based on the specified encoding.\n",
    "\n",
    "    Example:\n",
    "    >>> string = \"This is a sample sentence.\"\n",
    "    >>> encoding_name = \"cl100k_base\"\n",
    "    >>> num_tokens = num_tokens_from_string(string, encoding_name)\n",
    "    >>> print(num_tokens)\n",
    "    \"\"\"\n",
    "    encoding = tiktoken.get_encoding(encoding_name)\n",
    "    num_tokens = len(encoding.encode(string))\n",
    "    return num_tokens"
   ]
  },
  {
   "cell_type": "code",
   "execution_count": 6,
   "metadata": {},
   "outputs": [],
   "source": [
    "tokens_sr_processed = [num_tokens_from_string(i, \"cl100k_base\") for i in sci_cleaned['abstract_sr']]"
   ]
  },
  {
   "cell_type": "code",
   "execution_count": 7,
   "metadata": {},
   "outputs": [
    {
     "name": "stdout",
     "output_type": "stream",
     "text": [
      "Mean (tokens): 880.2607910058222\n",
      "Max length (tokens): 11258\n",
      "Min length (tokens): 16\n"
     ]
    }
   ],
   "source": [
    "print(f\"Mean (tokens): {np.mean(tokens_sr_processed)}\")\n",
    "print(f\"Max length (tokens): {np.max(tokens_sr_processed)}\")\n",
    "print(f\"Min length (tokens): {np.min(tokens_sr_processed)}\")\n"
   ]
  },
  {
   "cell_type": "code",
   "execution_count": 10,
   "metadata": {},
   "outputs": [],
   "source": [
    "def tokenize_and_truncate(text, encoding_name=\"cl100k_base\", max_tokens=512):\n",
    "    encoding = tiktoken.get_encoding(encoding_name)\n",
    "    tokens = encoding.encode(text)\n",
    "    num_tokens = len(tokens)\n",
    "    if num_tokens > max_tokens:\n",
    "        tokens = tokens[:max_tokens]  # Truncate to 512 tokens\n",
    "    processed_abstract = encoding.decode(tokens)  # Decode back to text\n",
    "    if not processed_abstract.endswith('.'):\n",
    "        last_period_index = processed_abstract.rfind('.')\n",
    "        if last_period_index != -1:\n",
    "            processed_abstract = processed_abstract[:last_period_index + 1]  # Keep everything up to the last \".\"\n",
    "            \n",
    "    return processed_abstract\n"
   ]
  },
  {
   "cell_type": "code",
   "execution_count": 11,
   "metadata": {},
   "outputs": [
    {
     "name": "stderr",
     "output_type": "stream",
     "text": [
      "/var/folders/dt/l5k05lj153n36h3p7st40sy00000gn/T/ipykernel_15398/2407012175.py:1: SettingWithCopyWarning: \n",
      "A value is trying to be set on a copy of a slice from a DataFrame.\n",
      "Try using .loc[row_indexer,col_indexer] = value instead\n",
      "\n",
      "See the caveats in the documentation: https://pandas.pydata.org/pandas-docs/stable/user_guide/indexing.html#returning-a-view-versus-a-copy\n",
      "  sci_cleaned['processed_abstract_sr'] = sci_cleaned[\"abstract_sr\"].apply(tokenize_and_truncate)\n",
      "/var/folders/dt/l5k05lj153n36h3p7st40sy00000gn/T/ipykernel_15398/2407012175.py:2: SettingWithCopyWarning: \n",
      "A value is trying to be set on a copy of a slice from a DataFrame.\n",
      "Try using .loc[row_indexer,col_indexer] = value instead\n",
      "\n",
      "See the caveats in the documentation: https://pandas.pydata.org/pandas-docs/stable/user_guide/indexing.html#returning-a-view-versus-a-copy\n",
      "  sci_cleaned['processed_abstract_en'] = sci_cleaned[\"abstract_en\"].apply(tokenize_and_truncate)\n"
     ]
    }
   ],
   "source": [
    "sci_cleaned['processed_abstract_sr'] = sci_cleaned[\"abstract_sr\"].apply(tokenize_and_truncate)\n",
    "sci_cleaned['processed_abstract_en'] = sci_cleaned[\"abstract_en\"].apply(tokenize_and_truncate)"
   ]
  },
  {
   "cell_type": "code",
   "execution_count": 12,
   "metadata": {},
   "outputs": [
    {
     "data": {
      "text/html": [
       "<div>\n",
       "<style scoped>\n",
       "    .dataframe tbody tr th:only-of-type {\n",
       "        vertical-align: middle;\n",
       "    }\n",
       "\n",
       "    .dataframe tbody tr th {\n",
       "        vertical-align: top;\n",
       "    }\n",
       "\n",
       "    .dataframe thead th {\n",
       "        text-align: right;\n",
       "    }\n",
       "</style>\n",
       "<table border=\"1\" class=\"dataframe\">\n",
       "  <thead>\n",
       "    <tr style=\"text-align: right;\">\n",
       "      <th></th>\n",
       "      <th>title_en</th>\n",
       "      <th>title_sr</th>\n",
       "      <th>abstract_en</th>\n",
       "      <th>abstract_sr</th>\n",
       "      <th>kewywords_en</th>\n",
       "      <th>kewywords_sr</th>\n",
       "      <th>processed_abstract_sr</th>\n",
       "      <th>processed_abstract_en</th>\n",
       "    </tr>\n",
       "  </thead>\n",
       "  <tbody>\n",
       "    <tr>\n",
       "      <th>0</th>\n",
       "      <td>The origins and development of the architectur...</td>\n",
       "      <td>Poreklo i razvoj arhitektonske forme rimokatol...</td>\n",
       "      <td>The aim of the paper is to present an architec...</td>\n",
       "      <td>Predmet rada je proučavanje arhitekture rimoka...</td>\n",
       "      <td>[Sacral architecture, roman catholic church, a...</td>\n",
       "      <td>[Sakralna arhitektura, rimokatlička Crkva, arh...</td>\n",
       "      <td>Predmet rada je proučavanje arhitekture rimoka...</td>\n",
       "      <td>The aim of the paper is to present an architec...</td>\n",
       "    </tr>\n",
       "    <tr>\n",
       "      <th>1</th>\n",
       "      <td>Belgrade's General Plan 1923: a comparison of ...</td>\n",
       "      <td>Generalni plan Beograda 1923 komparacija plani...</td>\n",
       "      <td>The doctoral dissertation examines the process...</td>\n",
       "      <td>U doktorskoj disertaciji je istraživan proces ...</td>\n",
       "      <td>[History, theory, urban lanning, general plan,...</td>\n",
       "      <td>[istorija, teorija, urbanističko planiranje, g...</td>\n",
       "      <td>U doktorskoj disertaciji je istraživan proces ...</td>\n",
       "      <td>The doctoral dissertation examines the process...</td>\n",
       "    </tr>\n",
       "    <tr>\n",
       "      <th>2</th>\n",
       "      <td>The importance and role of pedestrian space ne...</td>\n",
       "      <td>Značaj i uloga mreže pešačkih prostora u gener...</td>\n",
       "      <td>City represents its character through urban/pl...</td>\n",
       "      <td>Svoj karakter grad predstavlja putem urbanog m...</td>\n",
       "      <td>[Pedestrian space network, communication of th...</td>\n",
       "      <td>[Mreža pešačkih prostora, komunikacija grada, ...</td>\n",
       "      <td>Svoj karakter grad predstavlja putem urbanog m...</td>\n",
       "      <td>City represents its character through urban/pl...</td>\n",
       "    </tr>\n",
       "    <tr>\n",
       "      <th>3</th>\n",
       "      <td>Adaptive principles in architectural design</td>\n",
       "      <td>Adaptivni principi u arhitektonskom projektovanju</td>\n",
       "      <td>This study is aiming at the development of arc...</td>\n",
       "      <td>Ovaj rad predstavlja prilog razvoju metodologi...</td>\n",
       "      <td>[adaptation, analogue model, performative mode...</td>\n",
       "      <td>[adaptacija, analogni model, perfomativni mode...</td>\n",
       "      <td>Ovaj rad predstavlja prilog razvoju metodologi...</td>\n",
       "      <td>This study is aiming at the development of arc...</td>\n",
       "    </tr>\n",
       "    <tr>\n",
       "      <th>4</th>\n",
       "      <td>Transformation of vernacular architecture on t...</td>\n",
       "      <td>Transformacija narodne arhitekture na poluostr...</td>\n",
       "      <td>Vrmac Peninsula is located in the Bay of Kotor...</td>\n",
       "      <td>Poluostrvo Vrmac nalazi se u Bokokotorskom zal...</td>\n",
       "      <td>[peninsula Vrmac, vernacular transformation, c...</td>\n",
       "      <td>[poluostrvo Vrmac, transformacija narodnih kuć...</td>\n",
       "      <td>Poluostrvo Vrmac nalazi se u Bokokotorskom zal...</td>\n",
       "      <td>Vrmac Peninsula is located in the Bay of Kotor...</td>\n",
       "    </tr>\n",
       "  </tbody>\n",
       "</table>\n",
       "</div>"
      ],
      "text/plain": [
       "                                            title_en  \\\n",
       "0  The origins and development of the architectur...   \n",
       "1  Belgrade's General Plan 1923: a comparison of ...   \n",
       "2  The importance and role of pedestrian space ne...   \n",
       "3        Adaptive principles in architectural design   \n",
       "4  Transformation of vernacular architecture on t...   \n",
       "\n",
       "                                            title_sr  \\\n",
       "0  Poreklo i razvoj arhitektonske forme rimokatol...   \n",
       "1  Generalni plan Beograda 1923 komparacija plani...   \n",
       "2  Značaj i uloga mreže pešačkih prostora u gener...   \n",
       "3  Adaptivni principi u arhitektonskom projektovanju   \n",
       "4  Transformacija narodne arhitekture na poluostr...   \n",
       "\n",
       "                                         abstract_en  \\\n",
       "0  The aim of the paper is to present an architec...   \n",
       "1  The doctoral dissertation examines the process...   \n",
       "2  City represents its character through urban/pl...   \n",
       "3  This study is aiming at the development of arc...   \n",
       "4  Vrmac Peninsula is located in the Bay of Kotor...   \n",
       "\n",
       "                                         abstract_sr  \\\n",
       "0  Predmet rada je proučavanje arhitekture rimoka...   \n",
       "1  U doktorskoj disertaciji je istraživan proces ...   \n",
       "2  Svoj karakter grad predstavlja putem urbanog m...   \n",
       "3  Ovaj rad predstavlja prilog razvoju metodologi...   \n",
       "4  Poluostrvo Vrmac nalazi se u Bokokotorskom zal...   \n",
       "\n",
       "                                        kewywords_en  \\\n",
       "0  [Sacral architecture, roman catholic church, a...   \n",
       "1  [History, theory, urban lanning, general plan,...   \n",
       "2  [Pedestrian space network, communication of th...   \n",
       "3  [adaptation, analogue model, performative mode...   \n",
       "4  [peninsula Vrmac, vernacular transformation, c...   \n",
       "\n",
       "                                        kewywords_sr  \\\n",
       "0  [Sakralna arhitektura, rimokatlička Crkva, arh...   \n",
       "1  [istorija, teorija, urbanističko planiranje, g...   \n",
       "2  [Mreža pešačkih prostora, komunikacija grada, ...   \n",
       "3  [adaptacija, analogni model, perfomativni mode...   \n",
       "4  [poluostrvo Vrmac, transformacija narodnih kuć...   \n",
       "\n",
       "                               processed_abstract_sr  \\\n",
       "0  Predmet rada je proučavanje arhitekture rimoka...   \n",
       "1  U doktorskoj disertaciji je istraživan proces ...   \n",
       "2  Svoj karakter grad predstavlja putem urbanog m...   \n",
       "3  Ovaj rad predstavlja prilog razvoju metodologi...   \n",
       "4  Poluostrvo Vrmac nalazi se u Bokokotorskom zal...   \n",
       "\n",
       "                               processed_abstract_en  \n",
       "0  The aim of the paper is to present an architec...  \n",
       "1  The doctoral dissertation examines the process...  \n",
       "2  City represents its character through urban/pl...  \n",
       "3  This study is aiming at the development of arc...  \n",
       "4  Vrmac Peninsula is located in the Bay of Kotor...  "
      ]
     },
     "execution_count": 12,
     "metadata": {},
     "output_type": "execute_result"
    }
   ],
   "source": [
    "sci_cleaned.head()"
   ]
  },
  {
   "cell_type": "code",
   "execution_count": 13,
   "metadata": {},
   "outputs": [
    {
     "name": "stdout",
     "output_type": "stream",
     "text": [
      "Mean (tokens): 431.1939369604497\n",
      "Max length (tokens): 512\n",
      "Min length (tokens): 16\n",
      "Missing: 0\n"
     ]
    }
   ],
   "source": [
    "tokens_sr_processed = [num_tokens_from_string(i, \"cl100k_base\") for i in sci_cleaned['processed_abstract_sr']]\n",
    "\n",
    "idxs_sr = []\n",
    "for idx, i in enumerate(tokens_sr_processed):\n",
    "    if i == 0:\n",
    "        idxs_sr.append(idx)\n",
    "\n",
    "print(f\"Mean (tokens): {np.mean(tokens_sr_processed)}\")\n",
    "print(f\"Max length (tokens): {np.max(tokens_sr_processed)}\")\n",
    "print(f\"Min length (tokens): {np.min(tokens_sr_processed)}\")\n",
    "print(f\"Missing: {len(idxs_sr)}\")"
   ]
  },
  {
   "cell_type": "code",
   "execution_count": 14,
   "metadata": {},
   "outputs": [
    {
     "name": "stdout",
     "output_type": "stream",
     "text": [
      "Mean (tokens): 370.8576591045975\n",
      "Max length (tokens): 512\n",
      "Min length (tokens): 8\n",
      "Missing: 0\n"
     ]
    }
   ],
   "source": [
    "tokens_en = [num_tokens_from_string(i, \"cl100k_base\") for i in sci_cleaned['processed_abstract_en']]\n",
    "\n",
    "idxs_en = []\n",
    "for idx_en, i in enumerate(tokens_en):\n",
    "    if i == 0:\n",
    "        idxs_en.append(idx)\n",
    "\n",
    "print(f\"Mean (tokens): {np.mean(tokens_en)}\")\n",
    "print(f\"Max length (tokens): {np.max(tokens_en)}\")\n",
    "print(f\"Min length (tokens): {np.min(tokens_en)}\")\n",
    "print(f\"Missing: {len(idxs_en)}\")"
   ]
  },
  {
   "cell_type": "code",
   "execution_count": 16,
   "metadata": {},
   "outputs": [],
   "source": [
    "def extract_first_sentence(abstract):\n",
    "    return abstract.split('.')[0] + '.' if '.' in abstract else abstract"
   ]
  },
  {
   "cell_type": "code",
   "execution_count": 17,
   "metadata": {},
   "outputs": [],
   "source": [
    "df_sentences = pd.DataFrame({\n",
    "    'sentence_en': sci_cleaned['processed_abstract_en'].apply(extract_first_sentence),\n",
    "    'sentence_sr': sci_cleaned['processed_abstract_sr'].apply(extract_first_sentence)\n",
    "})"
   ]
  },
  {
   "cell_type": "code",
   "execution_count": 22,
   "metadata": {},
   "outputs": [
    {
     "data": {
      "text/html": [
       "<div>\n",
       "<style scoped>\n",
       "    .dataframe tbody tr th:only-of-type {\n",
       "        vertical-align: middle;\n",
       "    }\n",
       "\n",
       "    .dataframe tbody tr th {\n",
       "        vertical-align: top;\n",
       "    }\n",
       "\n",
       "    .dataframe thead th {\n",
       "        text-align: right;\n",
       "    }\n",
       "</style>\n",
       "<table border=\"1\" class=\"dataframe\">\n",
       "  <thead>\n",
       "    <tr style=\"text-align: right;\">\n",
       "      <th></th>\n",
       "      <th>sentence_en</th>\n",
       "      <th>sentence_sr</th>\n",
       "    </tr>\n",
       "  </thead>\n",
       "  <tbody>\n",
       "    <tr>\n",
       "      <th>0</th>\n",
       "      <td>The aim of the paper is to present an architec...</td>\n",
       "      <td>Predmet rada je proučavanje arhitekture rimoka...</td>\n",
       "    </tr>\n",
       "    <tr>\n",
       "      <th>1</th>\n",
       "      <td>The doctoral dissertation examines the process...</td>\n",
       "      <td>U doktorskoj disertaciji je istraživan proces ...</td>\n",
       "    </tr>\n",
       "    <tr>\n",
       "      <th>2</th>\n",
       "      <td>City represents its character through urban/pl...</td>\n",
       "      <td>Svoj karakter grad predstavlja putem urbanog m...</td>\n",
       "    </tr>\n",
       "    <tr>\n",
       "      <th>3</th>\n",
       "      <td>This study is aiming at the development of arc...</td>\n",
       "      <td>Ovaj rad predstavlja prilog razvoju metodologi...</td>\n",
       "    </tr>\n",
       "    <tr>\n",
       "      <th>4</th>\n",
       "      <td>Vrmac Peninsula is located in the Bay of Kotor.</td>\n",
       "      <td>Poluostrvo Vrmac nalazi se u Bokokotorskom zal...</td>\n",
       "    </tr>\n",
       "  </tbody>\n",
       "</table>\n",
       "</div>"
      ],
      "text/plain": [
       "                                         sentence_en  \\\n",
       "0  The aim of the paper is to present an architec...   \n",
       "1  The doctoral dissertation examines the process...   \n",
       "2  City represents its character through urban/pl...   \n",
       "3  This study is aiming at the development of arc...   \n",
       "4    Vrmac Peninsula is located in the Bay of Kotor.   \n",
       "\n",
       "                                         sentence_sr  \n",
       "0  Predmet rada je proučavanje arhitekture rimoka...  \n",
       "1  U doktorskoj disertaciji je istraživan proces ...  \n",
       "2  Svoj karakter grad predstavlja putem urbanog m...  \n",
       "3  Ovaj rad predstavlja prilog razvoju metodologi...  \n",
       "4  Poluostrvo Vrmac nalazi se u Bokokotorskom zal...  "
      ]
     },
     "execution_count": 22,
     "metadata": {},
     "output_type": "execute_result"
    }
   ],
   "source": [
    "df_sentences.head()"
   ]
  },
  {
   "cell_type": "code",
   "execution_count": 25,
   "metadata": {},
   "outputs": [
    {
     "name": "stderr",
     "output_type": "stream",
     "text": [
      "[nltk_data] Error loading punkt: <urlopen error [SSL:\n",
      "[nltk_data]     CERTIFICATE_VERIFY_FAILED] certificate verify failed:\n",
      "[nltk_data]     unable to get local issuer certificate (_ssl.c:1006)>\n"
     ]
    },
    {
     "ename": "LookupError",
     "evalue": "\n**********************************************************************\n  Resource \u001b[93mpunkt_tab\u001b[0m not found.\n  Please use the NLTK Downloader to obtain the resource:\n\n  \u001b[31m>>> import nltk\n  >>> nltk.download('punkt_tab')\n  \u001b[0m\n  For more information see: https://www.nltk.org/data.html\n\n  Attempted to load \u001b[93mtokenizers/punkt_tab/english/\u001b[0m\n\n  Searched in:\n    - '/Users/teamihajlov/nltk_data'\n    - '/Users/teamihajlov/Projects/SRBedding/.venv/nltk_data'\n    - '/Users/teamihajlov/Projects/SRBedding/.venv/share/nltk_data'\n    - '/Users/teamihajlov/Projects/SRBedding/.venv/lib/nltk_data'\n    - '/usr/share/nltk_data'\n    - '/usr/local/share/nltk_data'\n    - '/usr/lib/nltk_data'\n    - '/usr/local/lib/nltk_data'\n**********************************************************************\n",
     "output_type": "error",
     "traceback": [
      "\u001b[0;31m---------------------------------------------------------------------------\u001b[0m",
      "\u001b[0;31mLookupError\u001b[0m                               Traceback (most recent call last)",
      "Cell \u001b[0;32mIn[25], line 7\u001b[0m\n\u001b[1;32m      4\u001b[0m \u001b[38;5;66;03m# Download the punkt tokenizer if you haven't already\u001b[39;00m\n\u001b[1;32m      5\u001b[0m nltk\u001b[38;5;241m.\u001b[39mdownload(\u001b[38;5;124m'\u001b[39m\u001b[38;5;124mpunkt\u001b[39m\u001b[38;5;124m'\u001b[39m)\n\u001b[0;32m----> 7\u001b[0m sentences_sr \u001b[38;5;241m=\u001b[39m \u001b[43m[\u001b[49m\u001b[43msent_tokenize\u001b[49m\u001b[43m(\u001b[49m\u001b[43mtext\u001b[49m\u001b[43m)\u001b[49m\u001b[43m \u001b[49m\u001b[38;5;28;43;01mfor\u001b[39;49;00m\u001b[43m \u001b[49m\u001b[43mtext\u001b[49m\u001b[43m \u001b[49m\u001b[38;5;129;43;01min\u001b[39;49;00m\u001b[43m \u001b[49m\u001b[43msci_cleaned\u001b[49m\u001b[43m[\u001b[49m\u001b[38;5;124;43m'\u001b[39;49m\u001b[38;5;124;43mprocessed_abstract_sr\u001b[39;49m\u001b[38;5;124;43m'\u001b[39;49m\u001b[43m]\u001b[49m\u001b[43m]\u001b[49m\n\u001b[1;32m      9\u001b[0m \u001b[38;5;28mprint\u001b[39m(sentences_sr)\n",
      "Cell \u001b[0;32mIn[25], line 7\u001b[0m, in \u001b[0;36m<listcomp>\u001b[0;34m(.0)\u001b[0m\n\u001b[1;32m      4\u001b[0m \u001b[38;5;66;03m# Download the punkt tokenizer if you haven't already\u001b[39;00m\n\u001b[1;32m      5\u001b[0m nltk\u001b[38;5;241m.\u001b[39mdownload(\u001b[38;5;124m'\u001b[39m\u001b[38;5;124mpunkt\u001b[39m\u001b[38;5;124m'\u001b[39m)\n\u001b[0;32m----> 7\u001b[0m sentences_sr \u001b[38;5;241m=\u001b[39m [\u001b[43msent_tokenize\u001b[49m\u001b[43m(\u001b[49m\u001b[43mtext\u001b[49m\u001b[43m)\u001b[49m \u001b[38;5;28;01mfor\u001b[39;00m text \u001b[38;5;129;01min\u001b[39;00m sci_cleaned[\u001b[38;5;124m'\u001b[39m\u001b[38;5;124mprocessed_abstract_sr\u001b[39m\u001b[38;5;124m'\u001b[39m]]\n\u001b[1;32m      9\u001b[0m \u001b[38;5;28mprint\u001b[39m(sentences_sr)\n",
      "File \u001b[0;32m~/Projects/SRBedding/.venv/lib/python3.11/site-packages/nltk/tokenize/__init__.py:119\u001b[0m, in \u001b[0;36msent_tokenize\u001b[0;34m(text, language)\u001b[0m\n\u001b[1;32m    109\u001b[0m \u001b[38;5;28;01mdef\u001b[39;00m \u001b[38;5;21msent_tokenize\u001b[39m(text, language\u001b[38;5;241m=\u001b[39m\u001b[38;5;124m\"\u001b[39m\u001b[38;5;124menglish\u001b[39m\u001b[38;5;124m\"\u001b[39m):\n\u001b[1;32m    110\u001b[0m \u001b[38;5;250m    \u001b[39m\u001b[38;5;124;03m\"\"\"\u001b[39;00m\n\u001b[1;32m    111\u001b[0m \u001b[38;5;124;03m    Return a sentence-tokenized copy of *text*,\u001b[39;00m\n\u001b[1;32m    112\u001b[0m \u001b[38;5;124;03m    using NLTK's recommended sentence tokenizer\u001b[39;00m\n\u001b[0;32m   (...)\u001b[0m\n\u001b[1;32m    117\u001b[0m \u001b[38;5;124;03m    :param language: the model name in the Punkt corpus\u001b[39;00m\n\u001b[1;32m    118\u001b[0m \u001b[38;5;124;03m    \"\"\"\u001b[39;00m\n\u001b[0;32m--> 119\u001b[0m     tokenizer \u001b[38;5;241m=\u001b[39m \u001b[43m_get_punkt_tokenizer\u001b[49m\u001b[43m(\u001b[49m\u001b[43mlanguage\u001b[49m\u001b[43m)\u001b[49m\n\u001b[1;32m    120\u001b[0m     \u001b[38;5;28;01mreturn\u001b[39;00m tokenizer\u001b[38;5;241m.\u001b[39mtokenize(text)\n",
      "File \u001b[0;32m~/Projects/SRBedding/.venv/lib/python3.11/site-packages/nltk/tokenize/__init__.py:105\u001b[0m, in \u001b[0;36m_get_punkt_tokenizer\u001b[0;34m(language)\u001b[0m\n\u001b[1;32m     96\u001b[0m \u001b[38;5;129m@functools\u001b[39m\u001b[38;5;241m.\u001b[39mlru_cache\n\u001b[1;32m     97\u001b[0m \u001b[38;5;28;01mdef\u001b[39;00m \u001b[38;5;21m_get_punkt_tokenizer\u001b[39m(language\u001b[38;5;241m=\u001b[39m\u001b[38;5;124m\"\u001b[39m\u001b[38;5;124menglish\u001b[39m\u001b[38;5;124m\"\u001b[39m):\n\u001b[1;32m     98\u001b[0m \u001b[38;5;250m    \u001b[39m\u001b[38;5;124;03m\"\"\"\u001b[39;00m\n\u001b[1;32m     99\u001b[0m \u001b[38;5;124;03m    A constructor for the PunktTokenizer that utilizes\u001b[39;00m\n\u001b[1;32m    100\u001b[0m \u001b[38;5;124;03m    a lru cache for performance.\u001b[39;00m\n\u001b[0;32m   (...)\u001b[0m\n\u001b[1;32m    103\u001b[0m \u001b[38;5;124;03m    :type language: str\u001b[39;00m\n\u001b[1;32m    104\u001b[0m \u001b[38;5;124;03m    \"\"\"\u001b[39;00m\n\u001b[0;32m--> 105\u001b[0m     \u001b[38;5;28;01mreturn\u001b[39;00m \u001b[43mPunktTokenizer\u001b[49m\u001b[43m(\u001b[49m\u001b[43mlanguage\u001b[49m\u001b[43m)\u001b[49m\n",
      "File \u001b[0;32m~/Projects/SRBedding/.venv/lib/python3.11/site-packages/nltk/tokenize/punkt.py:1744\u001b[0m, in \u001b[0;36mPunktTokenizer.__init__\u001b[0;34m(self, lang)\u001b[0m\n\u001b[1;32m   1742\u001b[0m \u001b[38;5;28;01mdef\u001b[39;00m \u001b[38;5;21m__init__\u001b[39m(\u001b[38;5;28mself\u001b[39m, lang\u001b[38;5;241m=\u001b[39m\u001b[38;5;124m\"\u001b[39m\u001b[38;5;124menglish\u001b[39m\u001b[38;5;124m\"\u001b[39m):\n\u001b[1;32m   1743\u001b[0m     PunktSentenceTokenizer\u001b[38;5;241m.\u001b[39m\u001b[38;5;21m__init__\u001b[39m(\u001b[38;5;28mself\u001b[39m)\n\u001b[0;32m-> 1744\u001b[0m     \u001b[38;5;28;43mself\u001b[39;49m\u001b[38;5;241;43m.\u001b[39;49m\u001b[43mload_lang\u001b[49m\u001b[43m(\u001b[49m\u001b[43mlang\u001b[49m\u001b[43m)\u001b[49m\n",
      "File \u001b[0;32m~/Projects/SRBedding/.venv/lib/python3.11/site-packages/nltk/tokenize/punkt.py:1749\u001b[0m, in \u001b[0;36mPunktTokenizer.load_lang\u001b[0;34m(self, lang)\u001b[0m\n\u001b[1;32m   1746\u001b[0m \u001b[38;5;28;01mdef\u001b[39;00m \u001b[38;5;21mload_lang\u001b[39m(\u001b[38;5;28mself\u001b[39m, lang\u001b[38;5;241m=\u001b[39m\u001b[38;5;124m\"\u001b[39m\u001b[38;5;124menglish\u001b[39m\u001b[38;5;124m\"\u001b[39m):\n\u001b[1;32m   1747\u001b[0m     \u001b[38;5;28;01mfrom\u001b[39;00m \u001b[38;5;21;01mnltk\u001b[39;00m\u001b[38;5;21;01m.\u001b[39;00m\u001b[38;5;21;01mdata\u001b[39;00m \u001b[38;5;28;01mimport\u001b[39;00m find\n\u001b[0;32m-> 1749\u001b[0m     lang_dir \u001b[38;5;241m=\u001b[39m \u001b[43mfind\u001b[49m\u001b[43m(\u001b[49m\u001b[38;5;124;43mf\u001b[39;49m\u001b[38;5;124;43m\"\u001b[39;49m\u001b[38;5;124;43mtokenizers/punkt_tab/\u001b[39;49m\u001b[38;5;132;43;01m{\u001b[39;49;00m\u001b[43mlang\u001b[49m\u001b[38;5;132;43;01m}\u001b[39;49;00m\u001b[38;5;124;43m/\u001b[39;49m\u001b[38;5;124;43m\"\u001b[39;49m\u001b[43m)\u001b[49m\n\u001b[1;32m   1750\u001b[0m     \u001b[38;5;28mself\u001b[39m\u001b[38;5;241m.\u001b[39m_params \u001b[38;5;241m=\u001b[39m load_punkt_params(lang_dir)\n\u001b[1;32m   1751\u001b[0m     \u001b[38;5;28mself\u001b[39m\u001b[38;5;241m.\u001b[39m_lang \u001b[38;5;241m=\u001b[39m lang\n",
      "File \u001b[0;32m~/Projects/SRBedding/.venv/lib/python3.11/site-packages/nltk/data.py:579\u001b[0m, in \u001b[0;36mfind\u001b[0;34m(resource_name, paths)\u001b[0m\n\u001b[1;32m    577\u001b[0m sep \u001b[38;5;241m=\u001b[39m \u001b[38;5;124m\"\u001b[39m\u001b[38;5;124m*\u001b[39m\u001b[38;5;124m\"\u001b[39m \u001b[38;5;241m*\u001b[39m \u001b[38;5;241m70\u001b[39m\n\u001b[1;32m    578\u001b[0m resource_not_found \u001b[38;5;241m=\u001b[39m \u001b[38;5;124mf\u001b[39m\u001b[38;5;124m\"\u001b[39m\u001b[38;5;130;01m\\n\u001b[39;00m\u001b[38;5;132;01m{\u001b[39;00msep\u001b[38;5;132;01m}\u001b[39;00m\u001b[38;5;130;01m\\n\u001b[39;00m\u001b[38;5;132;01m{\u001b[39;00mmsg\u001b[38;5;132;01m}\u001b[39;00m\u001b[38;5;130;01m\\n\u001b[39;00m\u001b[38;5;132;01m{\u001b[39;00msep\u001b[38;5;132;01m}\u001b[39;00m\u001b[38;5;130;01m\\n\u001b[39;00m\u001b[38;5;124m\"\u001b[39m\n\u001b[0;32m--> 579\u001b[0m \u001b[38;5;28;01mraise\u001b[39;00m \u001b[38;5;167;01mLookupError\u001b[39;00m(resource_not_found)\n",
      "\u001b[0;31mLookupError\u001b[0m: \n**********************************************************************\n  Resource \u001b[93mpunkt_tab\u001b[0m not found.\n  Please use the NLTK Downloader to obtain the resource:\n\n  \u001b[31m>>> import nltk\n  >>> nltk.download('punkt_tab')\n  \u001b[0m\n  For more information see: https://www.nltk.org/data.html\n\n  Attempted to load \u001b[93mtokenizers/punkt_tab/english/\u001b[0m\n\n  Searched in:\n    - '/Users/teamihajlov/nltk_data'\n    - '/Users/teamihajlov/Projects/SRBedding/.venv/nltk_data'\n    - '/Users/teamihajlov/Projects/SRBedding/.venv/share/nltk_data'\n    - '/Users/teamihajlov/Projects/SRBedding/.venv/lib/nltk_data'\n    - '/usr/share/nltk_data'\n    - '/usr/local/share/nltk_data'\n    - '/usr/lib/nltk_data'\n    - '/usr/local/lib/nltk_data'\n**********************************************************************\n"
     ]
    }
   ],
   "source": [
    "import nltk\n",
    "from nltk.tokenize import sent_tokenize\n",
    "\n",
    "# Download the punkt tokenizer if you haven't already\n",
    "nltk.download('punkt')\n",
    "\n",
    "sentences_sr = [sent_tokenize(text) for text in sci_cleaned['processed_abstract_sr']]\n",
    "\n",
    "print(sentences_sr)"
   ]
  },
  {
   "cell_type": "code",
   "execution_count": null,
   "metadata": {},
   "outputs": [],
   "source": []
  }
 ],
 "metadata": {
  "kernelspec": {
   "display_name": ".venv",
   "language": "python",
   "name": "python3"
  },
  "language_info": {
   "codemirror_mode": {
    "name": "ipython",
    "version": 3
   },
   "file_extension": ".py",
   "mimetype": "text/x-python",
   "name": "python",
   "nbconvert_exporter": "python",
   "pygments_lexer": "ipython3",
   "version": "3.11.5"
  }
 },
 "nbformat": 4,
 "nbformat_minor": 2
}
