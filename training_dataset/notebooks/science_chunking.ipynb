{
 "cells": [
  {
   "cell_type": "code",
   "execution_count": 34,
   "metadata": {},
   "outputs": [
    {
     "name": "stderr",
     "output_type": "stream",
     "text": [
      "[nltk_data] Downloading package punkt to\n",
      "[nltk_data]     /Users/teamihajlov/nltk_data...\n",
      "[nltk_data]   Package punkt is already up-to-date!\n",
      "[nltk_data] Downloading package punkt_tab to\n",
      "[nltk_data]     /Users/teamihajlov/nltk_data...\n",
      "[nltk_data]   Package punkt_tab is already up-to-date!\n"
     ]
    },
    {
     "data": {
      "text/plain": [
       "True"
      ]
     },
     "execution_count": 34,
     "metadata": {},
     "output_type": "execute_result"
    }
   ],
   "source": [
    "import pandas as pd\n",
    "import numpy as np\n",
    "import re\n",
    "import os, sys\n",
    "import tiktoken\n",
    "sys.path.append(\"..\")\n",
    "import nltk\n",
    "from nltk.tokenize import sent_tokenize\n",
    "nltk.download(\"punkt\")\n",
    "nltk.download(\"punkt_tab\")"
   ]
  },
  {
   "cell_type": "code",
   "execution_count": 3,
   "metadata": {},
   "outputs": [
    {
     "data": {
      "text/html": [
       "<div>\n",
       "<style scoped>\n",
       "    .dataframe tbody tr th:only-of-type {\n",
       "        vertical-align: middle;\n",
       "    }\n",
       "\n",
       "    .dataframe tbody tr th {\n",
       "        vertical-align: top;\n",
       "    }\n",
       "\n",
       "    .dataframe thead th {\n",
       "        text-align: right;\n",
       "    }\n",
       "</style>\n",
       "<table border=\"1\" class=\"dataframe\">\n",
       "  <thead>\n",
       "    <tr style=\"text-align: right;\">\n",
       "      <th></th>\n",
       "      <th>title_en</th>\n",
       "      <th>title_sr</th>\n",
       "      <th>abstract_en</th>\n",
       "      <th>abstract_sr</th>\n",
       "      <th>kewywords_en</th>\n",
       "      <th>kewywords_sr</th>\n",
       "    </tr>\n",
       "  </thead>\n",
       "  <tbody>\n",
       "    <tr>\n",
       "      <th>0</th>\n",
       "      <td>The origins and development of the architectur...</td>\n",
       "      <td>Poreklo i razvoj arhitektonske forme rimokatol...</td>\n",
       "      <td>The aim of the paper is to present an architec...</td>\n",
       "      <td>Predmet rada je proučavanje arhitekture rimoka...</td>\n",
       "      <td>[Sacral architecture, roman catholic church, a...</td>\n",
       "      <td>[Sakralna arhitektura, rimokatlička Crkva, arh...</td>\n",
       "    </tr>\n",
       "    <tr>\n",
       "      <th>1</th>\n",
       "      <td>Belgrade's General Plan 1923: a comparison of ...</td>\n",
       "      <td>Generalni plan Beograda 1923 komparacija plani...</td>\n",
       "      <td>The doctoral dissertation examines the process...</td>\n",
       "      <td>U doktorskoj disertaciji je istraživan proces ...</td>\n",
       "      <td>[History, theory, urban lanning, general plan,...</td>\n",
       "      <td>[istorija, teorija, urbanističko planiranje, g...</td>\n",
       "    </tr>\n",
       "    <tr>\n",
       "      <th>2</th>\n",
       "      <td>The importance and role of pedestrian space ne...</td>\n",
       "      <td>Značaj i uloga mreže pešačkih prostora u gener...</td>\n",
       "      <td>City represents its character through urban/pl...</td>\n",
       "      <td>Svoj karakter grad predstavlja putem urbanog m...</td>\n",
       "      <td>[Pedestrian space network, communication of th...</td>\n",
       "      <td>[Mreža pešačkih prostora, komunikacija grada, ...</td>\n",
       "    </tr>\n",
       "    <tr>\n",
       "      <th>3</th>\n",
       "      <td>Adaptive principles in architectural design</td>\n",
       "      <td>Adaptivni principi u arhitektonskom projektovanju</td>\n",
       "      <td>This study is aiming at the development of arc...</td>\n",
       "      <td>Ovaj rad predstavlja prilog razvoju metodologi...</td>\n",
       "      <td>[adaptation, analogue model, performative mode...</td>\n",
       "      <td>[adaptacija, analogni model, perfomativni mode...</td>\n",
       "    </tr>\n",
       "    <tr>\n",
       "      <th>4</th>\n",
       "      <td>Transformation of vernacular architecture on t...</td>\n",
       "      <td>Transformacija narodne arhitekture na poluostr...</td>\n",
       "      <td>Vrmac Peninsula is located in the Bay of Kotor...</td>\n",
       "      <td>Poluostrvo Vrmac nalazi se u Bokokotorskom zal...</td>\n",
       "      <td>[peninsula Vrmac, vernacular transformation, c...</td>\n",
       "      <td>[poluostrvo Vrmac, transformacija narodnih kuć...</td>\n",
       "    </tr>\n",
       "  </tbody>\n",
       "</table>\n",
       "</div>"
      ],
      "text/plain": [
       "                                            title_en  \\\n",
       "0  The origins and development of the architectur...   \n",
       "1  Belgrade's General Plan 1923: a comparison of ...   \n",
       "2  The importance and role of pedestrian space ne...   \n",
       "3        Adaptive principles in architectural design   \n",
       "4  Transformation of vernacular architecture on t...   \n",
       "\n",
       "                                            title_sr  \\\n",
       "0  Poreklo i razvoj arhitektonske forme rimokatol...   \n",
       "1  Generalni plan Beograda 1923 komparacija plani...   \n",
       "2  Značaj i uloga mreže pešačkih prostora u gener...   \n",
       "3  Adaptivni principi u arhitektonskom projektovanju   \n",
       "4  Transformacija narodne arhitekture na poluostr...   \n",
       "\n",
       "                                         abstract_en  \\\n",
       "0  The aim of the paper is to present an architec...   \n",
       "1  The doctoral dissertation examines the process...   \n",
       "2  City represents its character through urban/pl...   \n",
       "3  This study is aiming at the development of arc...   \n",
       "4  Vrmac Peninsula is located in the Bay of Kotor...   \n",
       "\n",
       "                                         abstract_sr  \\\n",
       "0  Predmet rada je proučavanje arhitekture rimoka...   \n",
       "1  U doktorskoj disertaciji je istraživan proces ...   \n",
       "2  Svoj karakter grad predstavlja putem urbanog m...   \n",
       "3  Ovaj rad predstavlja prilog razvoju metodologi...   \n",
       "4  Poluostrvo Vrmac nalazi se u Bokokotorskom zal...   \n",
       "\n",
       "                                        kewywords_en  \\\n",
       "0  [Sacral architecture, roman catholic church, a...   \n",
       "1  [History, theory, urban lanning, general plan,...   \n",
       "2  [Pedestrian space network, communication of th...   \n",
       "3  [adaptation, analogue model, performative mode...   \n",
       "4  [peninsula Vrmac, vernacular transformation, c...   \n",
       "\n",
       "                                        kewywords_sr  \n",
       "0  [Sakralna arhitektura, rimokatlička Crkva, arh...  \n",
       "1  [istorija, teorija, urbanističko planiranje, g...  \n",
       "2  [Mreža pešačkih prostora, komunikacija grada, ...  \n",
       "3  [adaptacija, analogni model, perfomativni mode...  \n",
       "4  [poluostrvo Vrmac, transformacija narodnih kuć...  "
      ]
     },
     "execution_count": 3,
     "metadata": {},
     "output_type": "execute_result"
    }
   ],
   "source": [
    "# pd.set_option('display.max_colwidth', None)  # None means no limit on column width\n",
    "# pd.set_option('display.width', 300)  \n",
    "\n",
    "sci = pd.read_parquet(\"../datasets/science_parallel.parquet\")\n",
    "sci.head()"
   ]
  },
  {
   "cell_type": "code",
   "execution_count": 4,
   "metadata": {},
   "outputs": [
    {
     "data": {
      "text/plain": [
       "(9962, 6)"
      ]
     },
     "execution_count": 4,
     "metadata": {},
     "output_type": "execute_result"
    }
   ],
   "source": [
    "sci['abstract_en'] = sci['abstract_en'].replace('', np.nan)\n",
    "sci['abstract_sr'] = sci['abstract_sr'].replace('', np.nan)\n",
    "sci_cleaned = sci.dropna(subset=['abstract_en', 'abstract_sr'], ignore_index=True)\n",
    "sci_cleaned.shape"
   ]
  },
  {
   "cell_type": "code",
   "execution_count": 5,
   "metadata": {},
   "outputs": [],
   "source": [
    "def num_tokens_from_string(string: str, encoding_name: str) -> int:\n",
    "    \"\"\"\n",
    "    Calculates the number of tokens in a string based on a specified encoding.\n",
    "\n",
    "    The function uses the specified encoding to tokenize the input string and returns the number of tokens generated.\n",
    "\n",
    "    Parameters:\n",
    "    string (str): The input string to be tokenized.\n",
    "    encoding_name (str): The name of the encoding to use for tokenization.\n",
    "\n",
    "    Returns:\n",
    "    int: The number of tokens in the input string based on the specified encoding.\n",
    "\n",
    "    Example:\n",
    "    >>> string = \"This is a sample sentence.\"\n",
    "    >>> encoding_name = \"cl100k_base\"\n",
    "    >>> num_tokens = num_tokens_from_string(string, encoding_name)\n",
    "    >>> print(num_tokens)\n",
    "    \"\"\"\n",
    "    encoding = tiktoken.get_encoding(encoding_name)\n",
    "    num_tokens = len(encoding.encode(string))\n",
    "    return num_tokens"
   ]
  },
  {
   "cell_type": "code",
   "execution_count": 6,
   "metadata": {},
   "outputs": [],
   "source": [
    "tokens_sr_processed = [num_tokens_from_string(i, \"cl100k_base\") for i in sci_cleaned['abstract_sr']]"
   ]
  },
  {
   "cell_type": "code",
   "execution_count": 7,
   "metadata": {},
   "outputs": [
    {
     "name": "stdout",
     "output_type": "stream",
     "text": [
      "Mean (tokens): 880.2607910058222\n",
      "Max length (tokens): 11258\n",
      "Min length (tokens): 16\n"
     ]
    }
   ],
   "source": [
    "print(f\"Mean (tokens): {np.mean(tokens_sr_processed)}\")\n",
    "print(f\"Max length (tokens): {np.max(tokens_sr_processed)}\")\n",
    "print(f\"Min length (tokens): {np.min(tokens_sr_processed)}\")\n"
   ]
  },
  {
   "cell_type": "code",
   "execution_count": 8,
   "metadata": {},
   "outputs": [],
   "source": [
    "def tokenize_and_truncate(text, encoding_name=\"cl100k_base\", max_tokens=512):\n",
    "    encoding = tiktoken.get_encoding(encoding_name)\n",
    "    tokens = encoding.encode(text)\n",
    "    num_tokens = len(tokens)\n",
    "    if num_tokens > max_tokens:\n",
    "        tokens = tokens[:max_tokens]  # Truncate to 512 tokens\n",
    "    processed_abstract = encoding.decode(tokens)  # Decode back to text\n",
    "    if not processed_abstract.endswith('.'):\n",
    "        last_period_index = processed_abstract.rfind('.')\n",
    "        if last_period_index != -1:\n",
    "            processed_abstract = processed_abstract[:last_period_index + 1]  # Keep everything up to the last \".\"\n",
    "            \n",
    "    return processed_abstract\n"
   ]
  },
  {
   "cell_type": "code",
   "execution_count": 9,
   "metadata": {},
   "outputs": [
    {
     "name": "stderr",
     "output_type": "stream",
     "text": [
      "/var/folders/dt/l5k05lj153n36h3p7st40sy00000gn/T/ipykernel_16645/2407012175.py:1: SettingWithCopyWarning: \n",
      "A value is trying to be set on a copy of a slice from a DataFrame.\n",
      "Try using .loc[row_indexer,col_indexer] = value instead\n",
      "\n",
      "See the caveats in the documentation: https://pandas.pydata.org/pandas-docs/stable/user_guide/indexing.html#returning-a-view-versus-a-copy\n",
      "  sci_cleaned['processed_abstract_sr'] = sci_cleaned[\"abstract_sr\"].apply(tokenize_and_truncate)\n",
      "/var/folders/dt/l5k05lj153n36h3p7st40sy00000gn/T/ipykernel_16645/2407012175.py:2: SettingWithCopyWarning: \n",
      "A value is trying to be set on a copy of a slice from a DataFrame.\n",
      "Try using .loc[row_indexer,col_indexer] = value instead\n",
      "\n",
      "See the caveats in the documentation: https://pandas.pydata.org/pandas-docs/stable/user_guide/indexing.html#returning-a-view-versus-a-copy\n",
      "  sci_cleaned['processed_abstract_en'] = sci_cleaned[\"abstract_en\"].apply(tokenize_and_truncate)\n"
     ]
    }
   ],
   "source": [
    "sci_cleaned['processed_abstract_sr'] = sci_cleaned[\"abstract_sr\"].apply(tokenize_and_truncate)\n",
    "sci_cleaned['processed_abstract_en'] = sci_cleaned[\"abstract_en\"].apply(tokenize_and_truncate)"
   ]
  },
  {
   "cell_type": "code",
   "execution_count": 10,
   "metadata": {},
   "outputs": [
    {
     "data": {
      "text/html": [
       "<div>\n",
       "<style scoped>\n",
       "    .dataframe tbody tr th:only-of-type {\n",
       "        vertical-align: middle;\n",
       "    }\n",
       "\n",
       "    .dataframe tbody tr th {\n",
       "        vertical-align: top;\n",
       "    }\n",
       "\n",
       "    .dataframe thead th {\n",
       "        text-align: right;\n",
       "    }\n",
       "</style>\n",
       "<table border=\"1\" class=\"dataframe\">\n",
       "  <thead>\n",
       "    <tr style=\"text-align: right;\">\n",
       "      <th></th>\n",
       "      <th>title_en</th>\n",
       "      <th>title_sr</th>\n",
       "      <th>abstract_en</th>\n",
       "      <th>abstract_sr</th>\n",
       "      <th>kewywords_en</th>\n",
       "      <th>kewywords_sr</th>\n",
       "      <th>processed_abstract_sr</th>\n",
       "      <th>processed_abstract_en</th>\n",
       "    </tr>\n",
       "  </thead>\n",
       "  <tbody>\n",
       "    <tr>\n",
       "      <th>0</th>\n",
       "      <td>The origins and development of the architectur...</td>\n",
       "      <td>Poreklo i razvoj arhitektonske forme rimokatol...</td>\n",
       "      <td>The aim of the paper is to present an architec...</td>\n",
       "      <td>Predmet rada je proučavanje arhitekture rimoka...</td>\n",
       "      <td>[Sacral architecture, roman catholic church, a...</td>\n",
       "      <td>[Sakralna arhitektura, rimokatlička Crkva, arh...</td>\n",
       "      <td>Predmet rada je proučavanje arhitekture rimoka...</td>\n",
       "      <td>The aim of the paper is to present an architec...</td>\n",
       "    </tr>\n",
       "    <tr>\n",
       "      <th>1</th>\n",
       "      <td>Belgrade's General Plan 1923: a comparison of ...</td>\n",
       "      <td>Generalni plan Beograda 1923 komparacija plani...</td>\n",
       "      <td>The doctoral dissertation examines the process...</td>\n",
       "      <td>U doktorskoj disertaciji je istraživan proces ...</td>\n",
       "      <td>[History, theory, urban lanning, general plan,...</td>\n",
       "      <td>[istorija, teorija, urbanističko planiranje, g...</td>\n",
       "      <td>U doktorskoj disertaciji je istraživan proces ...</td>\n",
       "      <td>The doctoral dissertation examines the process...</td>\n",
       "    </tr>\n",
       "    <tr>\n",
       "      <th>2</th>\n",
       "      <td>The importance and role of pedestrian space ne...</td>\n",
       "      <td>Značaj i uloga mreže pešačkih prostora u gener...</td>\n",
       "      <td>City represents its character through urban/pl...</td>\n",
       "      <td>Svoj karakter grad predstavlja putem urbanog m...</td>\n",
       "      <td>[Pedestrian space network, communication of th...</td>\n",
       "      <td>[Mreža pešačkih prostora, komunikacija grada, ...</td>\n",
       "      <td>Svoj karakter grad predstavlja putem urbanog m...</td>\n",
       "      <td>City represents its character through urban/pl...</td>\n",
       "    </tr>\n",
       "    <tr>\n",
       "      <th>3</th>\n",
       "      <td>Adaptive principles in architectural design</td>\n",
       "      <td>Adaptivni principi u arhitektonskom projektovanju</td>\n",
       "      <td>This study is aiming at the development of arc...</td>\n",
       "      <td>Ovaj rad predstavlja prilog razvoju metodologi...</td>\n",
       "      <td>[adaptation, analogue model, performative mode...</td>\n",
       "      <td>[adaptacija, analogni model, perfomativni mode...</td>\n",
       "      <td>Ovaj rad predstavlja prilog razvoju metodologi...</td>\n",
       "      <td>This study is aiming at the development of arc...</td>\n",
       "    </tr>\n",
       "    <tr>\n",
       "      <th>4</th>\n",
       "      <td>Transformation of vernacular architecture on t...</td>\n",
       "      <td>Transformacija narodne arhitekture na poluostr...</td>\n",
       "      <td>Vrmac Peninsula is located in the Bay of Kotor...</td>\n",
       "      <td>Poluostrvo Vrmac nalazi se u Bokokotorskom zal...</td>\n",
       "      <td>[peninsula Vrmac, vernacular transformation, c...</td>\n",
       "      <td>[poluostrvo Vrmac, transformacija narodnih kuć...</td>\n",
       "      <td>Poluostrvo Vrmac nalazi se u Bokokotorskom zal...</td>\n",
       "      <td>Vrmac Peninsula is located in the Bay of Kotor...</td>\n",
       "    </tr>\n",
       "  </tbody>\n",
       "</table>\n",
       "</div>"
      ],
      "text/plain": [
       "                                            title_en  \\\n",
       "0  The origins and development of the architectur...   \n",
       "1  Belgrade's General Plan 1923: a comparison of ...   \n",
       "2  The importance and role of pedestrian space ne...   \n",
       "3        Adaptive principles in architectural design   \n",
       "4  Transformation of vernacular architecture on t...   \n",
       "\n",
       "                                            title_sr  \\\n",
       "0  Poreklo i razvoj arhitektonske forme rimokatol...   \n",
       "1  Generalni plan Beograda 1923 komparacija plani...   \n",
       "2  Značaj i uloga mreže pešačkih prostora u gener...   \n",
       "3  Adaptivni principi u arhitektonskom projektovanju   \n",
       "4  Transformacija narodne arhitekture na poluostr...   \n",
       "\n",
       "                                         abstract_en  \\\n",
       "0  The aim of the paper is to present an architec...   \n",
       "1  The doctoral dissertation examines the process...   \n",
       "2  City represents its character through urban/pl...   \n",
       "3  This study is aiming at the development of arc...   \n",
       "4  Vrmac Peninsula is located in the Bay of Kotor...   \n",
       "\n",
       "                                         abstract_sr  \\\n",
       "0  Predmet rada je proučavanje arhitekture rimoka...   \n",
       "1  U doktorskoj disertaciji je istraživan proces ...   \n",
       "2  Svoj karakter grad predstavlja putem urbanog m...   \n",
       "3  Ovaj rad predstavlja prilog razvoju metodologi...   \n",
       "4  Poluostrvo Vrmac nalazi se u Bokokotorskom zal...   \n",
       "\n",
       "                                        kewywords_en  \\\n",
       "0  [Sacral architecture, roman catholic church, a...   \n",
       "1  [History, theory, urban lanning, general plan,...   \n",
       "2  [Pedestrian space network, communication of th...   \n",
       "3  [adaptation, analogue model, performative mode...   \n",
       "4  [peninsula Vrmac, vernacular transformation, c...   \n",
       "\n",
       "                                        kewywords_sr  \\\n",
       "0  [Sakralna arhitektura, rimokatlička Crkva, arh...   \n",
       "1  [istorija, teorija, urbanističko planiranje, g...   \n",
       "2  [Mreža pešačkih prostora, komunikacija grada, ...   \n",
       "3  [adaptacija, analogni model, perfomativni mode...   \n",
       "4  [poluostrvo Vrmac, transformacija narodnih kuć...   \n",
       "\n",
       "                               processed_abstract_sr  \\\n",
       "0  Predmet rada je proučavanje arhitekture rimoka...   \n",
       "1  U doktorskoj disertaciji je istraživan proces ...   \n",
       "2  Svoj karakter grad predstavlja putem urbanog m...   \n",
       "3  Ovaj rad predstavlja prilog razvoju metodologi...   \n",
       "4  Poluostrvo Vrmac nalazi se u Bokokotorskom zal...   \n",
       "\n",
       "                               processed_abstract_en  \n",
       "0  The aim of the paper is to present an architec...  \n",
       "1  The doctoral dissertation examines the process...  \n",
       "2  City represents its character through urban/pl...  \n",
       "3  This study is aiming at the development of arc...  \n",
       "4  Vrmac Peninsula is located in the Bay of Kotor...  "
      ]
     },
     "execution_count": 10,
     "metadata": {},
     "output_type": "execute_result"
    }
   ],
   "source": [
    "sci_cleaned.head()"
   ]
  },
  {
   "cell_type": "code",
   "execution_count": 11,
   "metadata": {},
   "outputs": [
    {
     "name": "stdout",
     "output_type": "stream",
     "text": [
      "Mean (tokens): 431.1939369604497\n",
      "Max length (tokens): 512\n",
      "Min length (tokens): 16\n",
      "Missing: 0\n"
     ]
    }
   ],
   "source": [
    "tokens_sr_processed = [num_tokens_from_string(i, \"cl100k_base\") for i in sci_cleaned['processed_abstract_sr']]\n",
    "\n",
    "idxs_sr = []\n",
    "for idx, i in enumerate(tokens_sr_processed):\n",
    "    if i == 0:\n",
    "        idxs_sr.append(idx)\n",
    "\n",
    "print(f\"Mean (tokens): {np.mean(tokens_sr_processed)}\")\n",
    "print(f\"Max length (tokens): {np.max(tokens_sr_processed)}\")\n",
    "print(f\"Min length (tokens): {np.min(tokens_sr_processed)}\")\n",
    "print(f\"Missing: {len(idxs_sr)}\")"
   ]
  },
  {
   "cell_type": "code",
   "execution_count": 12,
   "metadata": {},
   "outputs": [
    {
     "name": "stdout",
     "output_type": "stream",
     "text": [
      "Mean (tokens): 370.8576591045975\n",
      "Max length (tokens): 512\n",
      "Min length (tokens): 8\n",
      "Missing: 0\n"
     ]
    }
   ],
   "source": [
    "tokens_en = [num_tokens_from_string(i, \"cl100k_base\") for i in sci_cleaned['processed_abstract_en']]\n",
    "\n",
    "idxs_en = []\n",
    "for idx_en, i in enumerate(tokens_en):\n",
    "    if i == 0:\n",
    "        idxs_en.append(idx)\n",
    "\n",
    "print(f\"Mean (tokens): {np.mean(tokens_en)}\")\n",
    "print(f\"Max length (tokens): {np.max(tokens_en)}\")\n",
    "print(f\"Min length (tokens): {np.min(tokens_en)}\")\n",
    "print(f\"Missing: {len(idxs_en)}\")"
   ]
  },
  {
   "cell_type": "code",
   "execution_count": 13,
   "metadata": {},
   "outputs": [],
   "source": [
    "def extract_first_sentence(abstract):\n",
    "    return abstract.split('.')[0] + '.' if '.' in abstract else abstract"
   ]
  },
  {
   "cell_type": "code",
   "execution_count": 14,
   "metadata": {},
   "outputs": [],
   "source": [
    "df_sentences = pd.DataFrame({\n",
    "    'sentence_en': sci_cleaned['processed_abstract_en'].apply(extract_first_sentence),\n",
    "    'sentence_sr': sci_cleaned['processed_abstract_sr'].apply(extract_first_sentence)\n",
    "})"
   ]
  },
  {
   "cell_type": "code",
   "execution_count": 15,
   "metadata": {},
   "outputs": [
    {
     "data": {
      "text/html": [
       "<div>\n",
       "<style scoped>\n",
       "    .dataframe tbody tr th:only-of-type {\n",
       "        vertical-align: middle;\n",
       "    }\n",
       "\n",
       "    .dataframe tbody tr th {\n",
       "        vertical-align: top;\n",
       "    }\n",
       "\n",
       "    .dataframe thead th {\n",
       "        text-align: right;\n",
       "    }\n",
       "</style>\n",
       "<table border=\"1\" class=\"dataframe\">\n",
       "  <thead>\n",
       "    <tr style=\"text-align: right;\">\n",
       "      <th></th>\n",
       "      <th>sentence_en</th>\n",
       "      <th>sentence_sr</th>\n",
       "    </tr>\n",
       "  </thead>\n",
       "  <tbody>\n",
       "    <tr>\n",
       "      <th>0</th>\n",
       "      <td>The aim of the paper is to present an architec...</td>\n",
       "      <td>Predmet rada je proučavanje arhitekture rimoka...</td>\n",
       "    </tr>\n",
       "    <tr>\n",
       "      <th>1</th>\n",
       "      <td>The doctoral dissertation examines the process...</td>\n",
       "      <td>U doktorskoj disertaciji je istraživan proces ...</td>\n",
       "    </tr>\n",
       "    <tr>\n",
       "      <th>2</th>\n",
       "      <td>City represents its character through urban/pl...</td>\n",
       "      <td>Svoj karakter grad predstavlja putem urbanog m...</td>\n",
       "    </tr>\n",
       "    <tr>\n",
       "      <th>3</th>\n",
       "      <td>This study is aiming at the development of arc...</td>\n",
       "      <td>Ovaj rad predstavlja prilog razvoju metodologi...</td>\n",
       "    </tr>\n",
       "    <tr>\n",
       "      <th>4</th>\n",
       "      <td>Vrmac Peninsula is located in the Bay of Kotor.</td>\n",
       "      <td>Poluostrvo Vrmac nalazi se u Bokokotorskom zal...</td>\n",
       "    </tr>\n",
       "  </tbody>\n",
       "</table>\n",
       "</div>"
      ],
      "text/plain": [
       "                                         sentence_en  \\\n",
       "0  The aim of the paper is to present an architec...   \n",
       "1  The doctoral dissertation examines the process...   \n",
       "2  City represents its character through urban/pl...   \n",
       "3  This study is aiming at the development of arc...   \n",
       "4    Vrmac Peninsula is located in the Bay of Kotor.   \n",
       "\n",
       "                                         sentence_sr  \n",
       "0  Predmet rada je proučavanje arhitekture rimoka...  \n",
       "1  U doktorskoj disertaciji je istraživan proces ...  \n",
       "2  Svoj karakter grad predstavlja putem urbanog m...  \n",
       "3  Ovaj rad predstavlja prilog razvoju metodologi...  \n",
       "4  Poluostrvo Vrmac nalazi se u Bokokotorskom zal...  "
      ]
     },
     "execution_count": 15,
     "metadata": {},
     "output_type": "execute_result"
    }
   ],
   "source": [
    "df_sentences.head()"
   ]
  },
  {
   "cell_type": "code",
   "execution_count": 56,
   "metadata": {},
   "outputs": [
    {
     "data": {
      "text/html": [
       "<div>\n",
       "<style scoped>\n",
       "    .dataframe tbody tr th:only-of-type {\n",
       "        vertical-align: middle;\n",
       "    }\n",
       "\n",
       "    .dataframe tbody tr th {\n",
       "        vertical-align: top;\n",
       "    }\n",
       "\n",
       "    .dataframe thead th {\n",
       "        text-align: right;\n",
       "    }\n",
       "</style>\n",
       "<table border=\"1\" class=\"dataframe\">\n",
       "  <thead>\n",
       "    <tr style=\"text-align: right;\">\n",
       "      <th></th>\n",
       "      <th>sentence_en</th>\n",
       "      <th>sentence_sr</th>\n",
       "    </tr>\n",
       "  </thead>\n",
       "  <tbody>\n",
       "    <tr>\n",
       "      <th>0</th>\n",
       "      <td>The origins and development of the architectur...</td>\n",
       "      <td>Poreklo i razvoj arhitektonske forme rimokatol...</td>\n",
       "    </tr>\n",
       "    <tr>\n",
       "      <th>1</th>\n",
       "      <td>Belgrade's General Plan 1923: a comparison of ...</td>\n",
       "      <td>Generalni plan Beograda 1923 komparacija plani...</td>\n",
       "    </tr>\n",
       "    <tr>\n",
       "      <th>2</th>\n",
       "      <td>The importance and role of pedestrian space ne...</td>\n",
       "      <td>Značaj i uloga mreže pešačkih prostora u gener...</td>\n",
       "    </tr>\n",
       "    <tr>\n",
       "      <th>3</th>\n",
       "      <td>Adaptive principles in architectural design</td>\n",
       "      <td>Adaptivni principi u arhitektonskom projektovanju</td>\n",
       "    </tr>\n",
       "    <tr>\n",
       "      <th>4</th>\n",
       "      <td>Transformation of vernacular architecture on t...</td>\n",
       "      <td>Transformacija narodne arhitekture na poluostr...</td>\n",
       "    </tr>\n",
       "    <tr>\n",
       "      <th>...</th>\n",
       "      <td>...</td>\n",
       "      <td>...</td>\n",
       "    </tr>\n",
       "    <tr>\n",
       "      <th>13284</th>\n",
       "      <td>An interesting relationship between finite rin...</td>\n",
       "      <td>Konačni prsteni i usmereni grafovi</td>\n",
       "    </tr>\n",
       "    <tr>\n",
       "      <th>13285</th>\n",
       "      <td>Ekstremne vrednosti u nizovima nezavisnih sluč...</td>\n",
       "      <td>Extreme values in sequences of independent ran...</td>\n",
       "    </tr>\n",
       "    <tr>\n",
       "      <th>13286</th>\n",
       "      <td>An improved method for the determination of th...</td>\n",
       "      <td>Unapređena metoda za određivanje refleksionih ...</td>\n",
       "    </tr>\n",
       "    <tr>\n",
       "      <th>13287</th>\n",
       "      <td>Hub maximal covering problems - novel mathemat...</td>\n",
       "      <td>Problemi hab maksimalnog pokrivanja - novi mat...</td>\n",
       "    </tr>\n",
       "    <tr>\n",
       "      <th>13288</th>\n",
       "      <td>Forensic analysis and modelling of characetris...</td>\n",
       "      <td>Forenzička analiza i modeliranje karakteristik...</td>\n",
       "    </tr>\n",
       "  </tbody>\n",
       "</table>\n",
       "<p>13289 rows × 2 columns</p>\n",
       "</div>"
      ],
      "text/plain": [
       "                                             sentence_en  \\\n",
       "0      The origins and development of the architectur...   \n",
       "1      Belgrade's General Plan 1923: a comparison of ...   \n",
       "2      The importance and role of pedestrian space ne...   \n",
       "3            Adaptive principles in architectural design   \n",
       "4      Transformation of vernacular architecture on t...   \n",
       "...                                                  ...   \n",
       "13284  An interesting relationship between finite rin...   \n",
       "13285  Ekstremne vrednosti u nizovima nezavisnih sluč...   \n",
       "13286  An improved method for the determination of th...   \n",
       "13287  Hub maximal covering problems - novel mathemat...   \n",
       "13288  Forensic analysis and modelling of characetris...   \n",
       "\n",
       "                                             sentence_sr  \n",
       "0      Poreklo i razvoj arhitektonske forme rimokatol...  \n",
       "1      Generalni plan Beograda 1923 komparacija plani...  \n",
       "2      Značaj i uloga mreže pešačkih prostora u gener...  \n",
       "3      Adaptivni principi u arhitektonskom projektovanju  \n",
       "4      Transformacija narodne arhitekture na poluostr...  \n",
       "...                                                  ...  \n",
       "13284                 Konačni prsteni i usmereni grafovi  \n",
       "13285  Extreme values in sequences of independent ran...  \n",
       "13286  Unapređena metoda za određivanje refleksionih ...  \n",
       "13287  Problemi hab maksimalnog pokrivanja - novi mat...  \n",
       "13288  Forenzička analiza i modeliranje karakteristik...  \n",
       "\n",
       "[13289 rows x 2 columns]"
      ]
     },
     "execution_count": 56,
     "metadata": {},
     "output_type": "execute_result"
    }
   ],
   "source": [
    "df_title = pd.DataFrame({\"sentence_en\": sci['title_en'],\n",
    "                         \"sentence_sr\": sci['title_sr']})\n",
    "df_title"
   ]
  },
  {
   "cell_type": "code",
   "execution_count": 35,
   "metadata": {},
   "outputs": [
    {
     "name": "stdout",
     "output_type": "stream",
     "text": [
      "['Predmet rada je proučavanje arhitekture rimokatoličkih crkava građenih u periodu od 1699. do 1939. godine na području Vojvodine.', 'U vremenima koja su usledila po završetku austro-turskih ratova i konačnog prestanka dominacije Otomanske imperije na prostoru Habsburške monarhije (1745- 1918, odnosno carevine Austrije od 1804. i Austro-Ugarske monarhističke unije od 1867), sa potpisivanjem Karlovačkog (1699) i Požarevačkog mira (1718), stvoreni su uslovi za obnovu južnih Ugarskih oblasti.', 'Vreme društvenog i ekonomskog prosperiteta, koji je trajao sve do izbijanja Prvog svetskog rata, stvorilo je uslove za sveobuhvatnu ekspanziju graditeljskih aktivnosti.', 'Kontinuitet izgradnje sakralnih građevina državno dominantne rimokatoličke konfesije, može se pratiti i nakon ovog perioda, sve do izbijanja Drugog svetskog rata (1939.).', 'Tokom skoro dva i po veka izgrađen je na području Vojvodine 231 rimokatolički sakralni objekat, od čega 3 katedralna hrama, 184 župne crkve i 44 zavetne, porodične ili grobljanske kapele, u 166 vojvođanskih gradova i sela.']\n",
      "9962\n"
     ]
    }
   ],
   "source": [
    "sentences_sr = [sent_tokenize(text) for text in sci_cleaned['processed_abstract_sr']]\n",
    "print(sentences_sr[0])\n",
    "print(len(sentences_sr))"
   ]
  },
  {
   "cell_type": "code",
   "execution_count": 57,
   "metadata": {},
   "outputs": [
    {
     "data": {
      "text/html": [
       "<div>\n",
       "<style scoped>\n",
       "    .dataframe tbody tr th:only-of-type {\n",
       "        vertical-align: middle;\n",
       "    }\n",
       "\n",
       "    .dataframe tbody tr th {\n",
       "        vertical-align: top;\n",
       "    }\n",
       "\n",
       "    .dataframe thead th {\n",
       "        text-align: right;\n",
       "    }\n",
       "</style>\n",
       "<table border=\"1\" class=\"dataframe\">\n",
       "  <thead>\n",
       "    <tr style=\"text-align: right;\">\n",
       "      <th></th>\n",
       "      <th>sentence_en</th>\n",
       "      <th>sentence_sr</th>\n",
       "    </tr>\n",
       "  </thead>\n",
       "  <tbody>\n",
       "    <tr>\n",
       "      <th>0</th>\n",
       "      <td>The aim of the paper is to present an architec...</td>\n",
       "      <td>Predmet rada je proučavanje arhitekture rimoka...</td>\n",
       "    </tr>\n",
       "    <tr>\n",
       "      <th>1</th>\n",
       "      <td>The doctoral dissertation examines the process...</td>\n",
       "      <td>U doktorskoj disertaciji je istraživan proces ...</td>\n",
       "    </tr>\n",
       "    <tr>\n",
       "      <th>2</th>\n",
       "      <td>City represents its character through urban/pl...</td>\n",
       "      <td>Svoj karakter grad predstavlja putem urbanog m...</td>\n",
       "    </tr>\n",
       "    <tr>\n",
       "      <th>3</th>\n",
       "      <td>This study is aiming at the development of arc...</td>\n",
       "      <td>Ovaj rad predstavlja prilog razvoju metodologi...</td>\n",
       "    </tr>\n",
       "    <tr>\n",
       "      <th>4</th>\n",
       "      <td>Vrmac Peninsula is located in the Bay of Kotor.</td>\n",
       "      <td>Poluostrvo Vrmac nalazi se u Bokokotorskom zal...</td>\n",
       "    </tr>\n",
       "    <tr>\n",
       "      <th>...</th>\n",
       "      <td>...</td>\n",
       "      <td>...</td>\n",
       "    </tr>\n",
       "    <tr>\n",
       "      <th>23246</th>\n",
       "      <td>An interesting relationship between finite rin...</td>\n",
       "      <td>Konačni prsteni i usmereni grafovi</td>\n",
       "    </tr>\n",
       "    <tr>\n",
       "      <th>23247</th>\n",
       "      <td>Ekstremne vrednosti u nizovima nezavisnih sluč...</td>\n",
       "      <td>Extreme values in sequences of independent ran...</td>\n",
       "    </tr>\n",
       "    <tr>\n",
       "      <th>23248</th>\n",
       "      <td>An improved method for the determination of th...</td>\n",
       "      <td>Unapređena metoda za određivanje refleksionih ...</td>\n",
       "    </tr>\n",
       "    <tr>\n",
       "      <th>23249</th>\n",
       "      <td>Hub maximal covering problems - novel mathemat...</td>\n",
       "      <td>Problemi hab maksimalnog pokrivanja - novi mat...</td>\n",
       "    </tr>\n",
       "    <tr>\n",
       "      <th>23250</th>\n",
       "      <td>Forensic analysis and modelling of characetris...</td>\n",
       "      <td>Forenzička analiza i modeliranje karakteristik...</td>\n",
       "    </tr>\n",
       "  </tbody>\n",
       "</table>\n",
       "<p>23251 rows × 2 columns</p>\n",
       "</div>"
      ],
      "text/plain": [
       "                                             sentence_en  \\\n",
       "0      The aim of the paper is to present an architec...   \n",
       "1      The doctoral dissertation examines the process...   \n",
       "2      City represents its character through urban/pl...   \n",
       "3      This study is aiming at the development of arc...   \n",
       "4        Vrmac Peninsula is located in the Bay of Kotor.   \n",
       "...                                                  ...   \n",
       "23246  An interesting relationship between finite rin...   \n",
       "23247  Ekstremne vrednosti u nizovima nezavisnih sluč...   \n",
       "23248  An improved method for the determination of th...   \n",
       "23249  Hub maximal covering problems - novel mathemat...   \n",
       "23250  Forensic analysis and modelling of characetris...   \n",
       "\n",
       "                                             sentence_sr  \n",
       "0      Predmet rada je proučavanje arhitekture rimoka...  \n",
       "1      U doktorskoj disertaciji je istraživan proces ...  \n",
       "2      Svoj karakter grad predstavlja putem urbanog m...  \n",
       "3      Ovaj rad predstavlja prilog razvoju metodologi...  \n",
       "4      Poluostrvo Vrmac nalazi se u Bokokotorskom zal...  \n",
       "...                                                  ...  \n",
       "23246                 Konačni prsteni i usmereni grafovi  \n",
       "23247  Extreme values in sequences of independent ran...  \n",
       "23248  Unapređena metoda za određivanje refleksionih ...  \n",
       "23249  Problemi hab maksimalnog pokrivanja - novi mat...  \n",
       "23250  Forenzička analiza i modeliranje karakteristik...  \n",
       "\n",
       "[23251 rows x 2 columns]"
      ]
     },
     "execution_count": 57,
     "metadata": {},
     "output_type": "execute_result"
    }
   ],
   "source": [
    "df_concaten = pd.concat([df_sentences, df_title], ignore_index=True)\n",
    "df_concaten"
   ]
  },
  {
   "cell_type": "code",
   "execution_count": 59,
   "metadata": {},
   "outputs": [
    {
     "data": {
      "text/plain": [
       "sentence_en    0\n",
       "sentence_sr    0\n",
       "dtype: int64"
      ]
     },
     "execution_count": 59,
     "metadata": {},
     "output_type": "execute_result"
    }
   ],
   "source": [
    "df_concaten.isna().sum()"
   ]
  },
  {
   "cell_type": "code",
   "execution_count": 58,
   "metadata": {},
   "outputs": [],
   "source": [
    "df_concaten.to_parquet(\"../datasets/sci_parallel_abstract_sentence_and_title.parquet\")"
   ]
  },
  {
   "cell_type": "code",
   "execution_count": 43,
   "metadata": {},
   "outputs": [
    {
     "name": "stdout",
     "output_type": "stream",
     "text": [
      "[5, 1, 7, 1, 6, 4, 5, 5, 9, 6, 7, 4, 6, 7, 6, 3, 7, 5, 11, 6, 4, 1, 8, 5, 1, 5, 5, 4, 1, 5, 6, 3, 8, 5, 5, 7, 5, 3, 6, 12, 8, 7, 5, 6, 4, 8, 2, 1, 4, 6, 4, 7, 2, 6, 2, 6, 1, 1, 9, 8, 6, 7, 7, 7, 6, 4, 7, 5, 3, 6, 7, 5, 7, 7, 1, 5, 7, 4, 5, 11, 4, 5, 8, 1, 1, 6, 6, 7, 3, 6, 4, 2, 4, 3, 6, 11, 9, 4, 5, 5, 1, 5, 8, 9, 9, 3, 8, 7, 7, 10, 6, 5, 6, 6, 9, 8, 6, 3, 6, 1, 10, 5, 4, 6, 6, 7, 7, 6, 9, 9, 5, 6, 9, 11, 6, 7, 7, 6, 5, 7, 9, 5, 6, 6, 7, 7, 9, 6, 1, 3, 10, 7, 7, 8, 1, 10, 11, 5, 6, 5, 7, 7, 5, 8, 6, 11, 8, 4, 6, 4, 1, 5, 11, 6, 6, 5, 5, 8, 6, 10, 9, 1, 7, 7, 7, 11, 9, 8, 7, 5, 8, 8, 8, 7, 12, 7, 8, 11, 9, 6, 7, 6, 6, 5, 4, 6, 5, 11, 6, 10, 7, 8, 10, 8, 7, 8, 11, 5, 8, 7, 10, 11, 7, 9, 6, 8, 10, 3, 8, 7, 9, 6, 9, 8, 7, 6, 8, 11, 3, 15, 6, 9, 8, 6, 9, 8, 9, 8, 8, 12, 5, 7, 8, 8, 7, 7, 5, 9, 6, 7, 10, 6, 8, 9, 8, 8, 6, 10, 9, 10, 10, 8, 7, 8, 7, 6, 5, 10, 10, 8, 5, 7, 6, 6, 5, 10, 9, 6, 9, 12, 5, 9, 7, 10, 7, 8, 10, 10, 8, 11, 10, 10, 7, 6, 9, 6, 8, 9, 6, 6, 7, 8, 8, 7, 8, 8, 5, 8, 5, 6, 6, 9, 5, 7, 1, 8, 10, 6, 8, 7, 8, 6, 8, 5, 6, 10, 6, 6, 10, 8, 6, 9, 8, 11, 6, 6, 11, 8, 6, 6, 11, 7, 9, 5, 6, 7, 8, 9, 8, 9, 9, 9, 6, 6, 5, 13, 11, 10, 14, 5, 8, 6, 9, 7, 8, 7, 8, 7, 4, 6, 10, 7, 10, 11, 8, 9, 9, 8, 6, 10, 8, 5, 7, 7, 9, 5, 8, 7, 9, 9, 5, 7, 7, 8, 9, 8, 8, 20, 4, 7, 11, 7, 7, 12, 8, 7, 7, 5, 7, 8, 9, 7, 6, 12, 8, 6, 9, 7, 6, 6, 1, 7, 8, 11, 7, 9, 10, 1, 6, 6, 9, 9, 7, 12, 8, 7, 9, 10, 7, 9, 10, 10, 8, 7, 3, 5, 6, 7, 7, 7, 6, 5, 8, 7, 5, 7, 10, 7, 8, 9, 9, 7, 8, 3, 1, 6, 8, 8, 8, 5, 11, 8, 6, 11, 7, 6, 9, 7, 7, 8, 8, 9, 1, 2, 15, 6, 2, 10, 6, 6, 8, 6, 8, 9, 6, 6, 9, 10, 7, 9, 9, 8, 3, 7, 8, 8, 2, 5, 8, 8, 7, 9, 9, 10, 7, 6, 12, 11, 8, 1, 8, 8, 9, 1, 8, 7, 7, 6, 8, 9, 10, 8, 6, 7, 7, 7, 6, 11, 5, 10, 8, 6, 8, 6, 1, 5, 8, 8, 8, 9, 7, 10, 6, 9, 7, 6, 7, 6, 6, 7, 7, 6, 6, 9, 6, 8, 8, 8, 9, 8, 8, 3, 9, 8, 1, 10, 6, 11, 5, 13, 9, 7, 10, 7, 9, 6, 4, 6, 1, 6, 5, 6, 1, 7, 7, 1, 1, 7, 7, 6, 5, 7, 7, 5, 7, 7, 7, 8, 1, 8, 5, 9, 8, 6, 6, 5, 5, 6, 6, 5, 5, 6, 7, 8, 7, 6, 4, 7, 9, 7, 7, 8, 7, 6, 1, 6, 1, 3, 6, 10, 10, 7, 6, 13, 6, 8, 6, 6, 7, 8, 1, 4, 12, 9, 9, 4, 6, 7, 7, 6, 11, 6, 8, 1, 4, 1, 4, 7, 7, 7, 6, 7, 2, 1, 9, 7, 8, 10, 7, 6, 6, 10, 8, 3, 6, 10, 7, 8, 7, 9, 11, 5, 5, 5, 1, 6, 9, 6, 5, 6, 5, 2, 12, 6, 6, 8, 7, 9, 5, 9, 6, 9, 2, 1, 8, 6, 8, 8, 2, 6, 7, 6, 6, 7, 7, 4, 10, 10, 3, 5, 7, 8, 10, 7, 7, 10, 6, 5, 10, 4, 12, 8, 8, 11, 7, 6, 11, 4, 6, 9, 7, 7, 1, 1, 9, 6, 6, 8, 8, 8, 6, 3, 9, 6, 8, 8, 2, 11, 5, 7, 8, 7, 8, 5, 6, 9, 4, 11, 6, 7, 9, 7, 12, 4, 6, 6, 7, 3, 8, 9, 9, 8, 8, 9, 7, 8, 6, 5, 4, 5, 6, 7, 3, 5, 10, 5, 8, 7, 5, 3, 11, 7, 12, 7, 10, 8, 6, 6, 10, 6, 5, 7, 9, 5, 8, 8, 10, 8, 6, 9, 6, 10, 1, 9, 8, 6, 10, 6, 9, 9, 10, 7, 6, 7, 5, 9, 6, 10, 7, 8, 1, 6, 6, 3, 6, 3, 10, 9, 5, 2, 9, 7, 5, 5, 7, 9, 6, 5, 8, 6, 1, 9, 9, 11, 6, 9, 4, 5, 3, 4, 8, 10, 8, 9, 5, 8, 9, 2, 8, 8, 7, 9, 5, 5, 12, 7, 7, 8, 8, 8, 9, 10, 9, 1, 5, 8, 1, 8, 9, 1, 5, 6, 5, 13, 6, 1, 7, 13, 7, 1, 5, 10, 4, 2, 2, 2, 8, 10, 1, 6, 1, 8, 3, 7, 1, 14, 6, 9, 10, 5, 11, 13, 10, 8, 7, 6, 6, 11, 2, 3, 9, 8, 6, 8, 5, 7, 3, 3, 9, 6, 2, 7, 8, 6, 5, 4, 8, 5, 3, 6, 6, 4, 5, 1, 7, 8, 10, 9, 4, 5, 10, 8, 10, 9, 4, 3, 7, 6, 6, 5, 6, 6, 8, 6, 4, 2, 9, 12, 8, 7, 11, 5, 1, 11, 7, 9, 10, 9, 7, 8, 11, 3, 8, 6, 9, 1, 8, 1, 1, 5, 8, 6, 2, 3, 1, 4, 7, 5, 1, 8, 3, 2, 13, 1, 11, 7, 1, 9, 3, 5, 8, 2, 9, 2, 1, 4, 1, 1, 7, 1, 8, 10, 6, 3, 6, 7, 1, 4, 10, 7, 7, 9, 2, 10, 4, 6, 4, 4, 20, 3, 9, 11, 6, 5, 5, 7, 8, 5, 7, 1, 6, 6, 6, 3, 4, 11, 2, 7, 9, 9, 6, 12, 6, 5, 9, 8, 4, 8, 6, 4, 1, 8, 10, 5, 2, 1, 7, 11, 9, 1, 8, 6, 8, 5, 8, 4, 1, 6, 7, 11, 3, 6, 10, 6, 3, 4, 4, 6, 7, 8, 10, 10, 2, 6, 7, 6, 6, 10, 3, 8, 8, 10, 9, 6, 5, 5, 8, 5, 8, 1, 5, 1, 6, 8, 5, 6, 3, 1, 8, 1, 1, 11, 8, 9, 6, 9, 8, 10, 6, 9, 8, 7, 5, 7, 6, 1, 6, 9, 8, 9, 9, 7, 7, 8, 6, 11, 6, 9, 7, 2, 9, 7, 6, 8, 10, 8, 8, 3, 4, 4, 5, 12, 10, 4, 8, 7, 9, 5, 6, 8, 5, 7, 8, 6, 9, 7, 1, 6, 8, 1, 3, 5, 10, 6, 9, 6, 7, 5, 6, 8, 12, 5, 1, 7, 9, 8, 10, 9, 4, 8, 3, 6, 8, 10, 7, 5, 5, 7, 1, 11, 7, 8, 2, 2, 7, 1, 6, 1, 9, 5, 6, 9, 9, 11, 5, 5, 7, 10, 5, 7, 11, 9, 9, 6, 6, 6, 8, 8, 5, 5, 2, 10, 13, 8, 6, 5, 7, 4, 7, 3, 8, 8, 5, 7, 8, 8, 8, 5, 6, 5, 7, 7, 9, 7, 1, 7, 9, 6, 6, 8, 6, 9, 9, 9, 4, 8, 6, 9, 5, 9, 11, 10, 7, 3, 8, 10, 5, 5, 6, 6, 12, 6, 7, 6, 7, 9, 6, 8, 9, 6, 9, 7, 8, 9, 1, 8, 8, 6, 11, 6, 6, 7, 5, 7, 5, 6, 3, 10, 1, 5, 9, 6, 8, 11, 9, 11, 4, 9, 1, 6, 6, 7, 8, 12, 7, 7, 8, 1, 7, 9, 7, 7, 8, 6, 5, 7, 9, 8, 8, 5, 9, 5, 6, 13, 5, 6, 9, 6, 8, 8, 7, 11, 7, 7, 9, 8, 5, 6, 5, 7, 9, 7, 7, 9, 8, 8, 6, 8, 7, 13, 9, 8, 8, 8, 10, 6, 10, 9, 8, 14, 8, 7, 10, 6, 6, 10, 8, 8, 10, 7, 8, 1, 6, 6, 4, 9, 10, 11, 7, 8, 7, 9, 9, 7, 11, 1, 7, 17, 8, 9, 14, 8, 11, 3, 8, 7, 6, 6, 4, 12, 8, 7, 8, 13, 5, 10, 7, 9, 9, 6, 5, 6, 11, 6, 7, 9, 9, 9, 11, 11, 8, 9, 6, 8, 7, 8, 7, 6, 5, 9, 11, 1, 9, 7, 10, 14, 9, 8, 7, 9, 6, 9, 6, 10, 4, 8, 8, 10, 9, 6, 10, 8, 4, 7, 7, 6, 2, 5, 6, 7, 9, 8, 9, 7, 5, 7, 7, 6, 8, 7, 8, 15, 6, 7, 7, 6, 9, 7, 8, 5, 7, 5, 12, 7, 11, 7, 7, 8, 10, 6, 5, 10, 7, 9, 6, 7, 7, 5, 4, 6, 5, 10, 7, 8, 8, 12, 8, 11, 5, 10, 6, 7, 6, 6, 9, 9, 13, 5, 9, 9, 6, 6, 7, 6, 10, 10, 7, 6, 7, 7, 6, 10, 7, 6, 10, 8, 13, 9, 7, 7, 8, 8, 10, 8, 10, 8, 4, 5, 8, 8, 7, 5, 8, 3, 9, 7, 10, 9, 8, 5, 8, 8, 7, 4, 10, 5, 7, 4, 6, 7, 9, 8, 4, 7, 8, 6, 8, 7, 7, 8, 4, 5, 8, 10, 10, 9, 7, 7, 7, 8, 9, 6, 6, 6, 7, 7, 11, 6, 7, 8, 8, 8, 8, 6, 8, 7, 7, 11, 7, 7, 8, 5, 8, 8, 5, 7, 10, 5, 8, 8, 8, 7, 8, 8, 9, 6, 9, 4, 12, 10, 5, 8, 7, 7, 7, 8, 6, 9, 9, 10, 9, 5, 11, 5, 8, 8, 6, 6, 8, 11, 6, 9, 9, 9, 5, 10, 7, 7, 7, 9, 8, 5, 6, 8, 8, 12, 8, 9, 10, 7, 7, 8, 9, 3, 8, 5, 11, 11, 7, 3, 8, 6, 6, 9, 6, 7, 4, 7, 7, 5, 11, 8, 10, 9, 13, 10, 6, 8, 3, 3, 8, 8, 14, 11, 7, 7, 12, 8, 8, 7, 10, 8, 8, 7, 5, 8, 6, 8, 13, 6, 6, 8, 9, 5, 7, 5, 13, 7, 9, 8, 7, 7, 5, 4, 9, 8, 10, 5, 5, 8, 1, 8, 10, 7, 7, 5, 10, 8, 8, 4, 8, 9, 8, 6, 5, 9, 6, 1, 10, 12, 1, 8, 6, 5, 3, 9, 7, 9, 7, 7, 3, 10, 8, 3, 9, 5, 10, 6, 6, 9, 8, 8, 10, 6, 7, 9, 9, 1, 7, 10, 6, 8, 10, 10, 10, 5, 7, 8, 8, 6, 10, 7, 8, 9, 7, 9, 8, 7, 8, 7, 6, 7, 11, 8, 7, 4, 1, 6, 8, 7, 8, 8, 6, 8, 8, 8, 7, 9, 6, 7, 9, 6, 8, 3, 9, 6, 5, 10, 6, 7, 9, 9, 11, 7, 9, 6, 10, 5, 8, 9, 8, 6, 9, 2, 7, 10, 8, 6, 7, 2, 11, 8, 6, 3, 6, 11, 8, 6, 5, 5, 7, 6, 4, 6, 1, 8, 6, 7, 5, 4, 5, 7, 5, 11, 10, 11, 5, 8, 8, 10, 7, 10, 11, 7, 8, 1, 10, 6, 9, 6, 4, 7, 7, 7, 8, 6, 8, 5, 7, 5, 5, 6, 6, 5, 7, 6, 6, 8, 6, 8, 8, 1, 10, 8, 4, 10, 6, 8, 11, 7, 10, 8, 7, 6, 8, 3, 8, 6, 9, 7, 6, 6, 9, 4, 7, 7, 8, 6, 3, 10, 11, 1, 8, 6, 8, 7, 16, 8, 10, 5, 7, 7, 7, 5, 8, 6, 3, 10, 13, 9, 7, 3, 5, 9, 11, 2, 7, 10, 10, 9, 10, 7, 5, 7, 6, 8, 6, 7, 10, 7, 4, 9, 8, 6, 7, 1, 11, 4, 6, 9, 9, 7, 7, 6, 9, 11, 6, 4, 6, 9, 6, 8, 10, 9, 4, 2, 8, 7, 7, 6, 7, 6, 6, 5, 8, 7, 8, 3, 7, 7, 1, 10, 2, 6, 3, 1, 6, 12, 4, 9, 3, 7, 6, 6, 7, 3, 6, 6, 2, 5, 7, 6, 7, 7, 5, 4, 5, 2, 8, 7, 7, 5, 7, 9, 6, 4, 8, 7, 4, 8, 8, 9, 11, 8, 8, 7, 9, 8, 7, 5, 10, 10, 7, 8, 7, 11, 7, 3, 8, 5, 6, 4, 9, 8, 5, 3, 8, 5, 6, 10, 8, 6, 3, 5, 6, 7, 4, 7, 7, 6, 7, 6, 9, 7, 6, 8, 8, 4, 9, 5, 6, 10, 8, 7, 8, 5, 6, 6, 9, 5, 7, 7, 6, 3, 1, 8, 9, 6, 5, 4, 8, 8, 6, 2, 9, 5, 7, 6, 9, 6, 5, 8, 7, 8, 8, 9, 1, 6, 4, 8, 9, 6, 9, 7, 7, 6, 16, 3, 6, 3, 5, 13, 6, 7, 11, 7, 8, 5, 8, 7, 8, 8, 8, 3, 4, 9, 8, 7, 9, 6, 9, 3, 5, 5, 5, 5, 8, 8, 12, 6, 5, 7, 5, 5, 10, 10, 9, 9, 7, 1, 10, 7, 5, 7, 9, 5, 10, 5, 7, 7, 9, 7, 10, 7, 8, 7, 5, 3, 6, 4, 7, 7, 9, 10, 6, 7, 5, 6, 5, 11, 6, 7, 8, 7, 11, 6, 9, 10, 7, 6, 10, 7, 6, 8, 9, 8, 6, 7, 10, 9, 5, 7, 8, 11, 5, 9, 8, 8, 8, 11, 4, 10, 8, 1, 4, 6, 9, 9, 11, 5, 3, 7, 5, 7, 12, 5, 10, 10, 4, 9, 6, 7, 6, 11, 6, 8, 3, 9, 8, 8, 7, 3, 10, 3, 5, 7, 7, 18, 8, 6, 7, 7, 9, 10, 8, 6, 4, 5, 4, 8, 6, 1, 8, 7, 6, 6, 8, 8, 4, 5, 9, 8, 5, 8, 6, 8, 4, 1, 6, 7, 8, 7, 8, 8, 6, 1, 8, 7, 6, 8, 7, 12, 6, 6, 9, 8, 10, 7, 4, 11, 8, 2, 7, 6, 7, 4, 9, 4, 6, 9, 4, 5, 4, 7, 7, 11, 1, 5, 8, 7, 10, 6, 9, 6, 9, 1, 3, 6, 6, 6, 9, 6, 8, 1, 12, 8, 6, 6, 5, 4, 3, 7, 6, 5, 6, 7, 8, 6, 7, 7, 7, 8, 8, 1, 8, 6, 9, 10, 7, 10, 10, 7, 8, 7, 7, 4, 3, 10, 3, 7, 9, 7, 8, 5, 3, 7, 6, 8, 9, 8, 6, 9, 5, 8, 7, 8, 7, 6, 9, 9, 3, 9, 6, 8, 1, 3, 9, 8, 9, 3, 2, 8, 9, 4, 1, 4, 11, 7, 3, 5, 4, 7, 9, 3, 8, 8, 8, 8, 4, 5, 6, 8, 6, 6, 6, 6, 5, 12, 6, 6, 7, 8, 7, 6, 6, 10, 12, 6, 6, 2, 4, 9, 6, 6, 6, 3, 7, 8, 6, 7, 6, 4, 4, 7, 5, 7, 6, 9, 5, 5, 8, 10, 7, 2, 6, 5, 1, 6, 8, 4, 4, 1, 7, 8, 7, 3, 1, 7, 6, 7, 6, 5, 7, 6, 2, 5, 2, 4, 3, 4, 3, 2, 1, 8, 6, 2, 6, 5, 8, 8, 5, 7, 8, 8, 7, 7, 1, 9, 5, 7, 7, 5, 2, 5, 5, 6, 6, 6, 11, 1, 6, 5, 7, 2, 14, 7, 9, 6, 9, 1, 7, 4, 10, 8, 11, 6, 7, 7, 2, 7, 7, 8, 5, 9, 8, 6, 1, 5, 6, 9, 5, 1, 7, 5, 3, 9, 11, 9, 8, 1, 6, 8, 7, 7, 5, 6, 8, 8, 6, 6, 9, 9, 6, 9, 10, 7, 10, 8, 5, 10, 13, 5, 2, 10, 5, 6, 8, 8, 11, 7, 8, 8, 6, 8, 10, 10, 6, 6, 6, 6, 3, 8, 9, 4, 9, 11, 6, 7, 3, 3, 2, 5, 2, 10, 8, 7, 7, 6, 2, 7, 8, 7, 7, 5, 8, 9, 11, 9, 4, 8, 5, 9, 6, 6, 1, 5, 9, 8, 7, 12, 6, 7, 9, 3, 6, 8, 8, 1, 5, 7, 7, 9, 9, 4, 7, 9, 6, 9, 7, 6, 11, 6, 6, 8, 7, 8, 8, 7, 8, 7, 5, 11, 7, 8, 7, 7, 6, 9, 7, 3, 8, 1, 7, 8, 9, 7, 8, 9, 7, 8, 8, 8, 5, 8, 5, 9, 8, 6, 8, 9, 8, 5, 11, 7, 6, 5, 7, 7, 8, 5, 2, 8, 8, 7, 7, 5, 6, 7, 1, 5, 11, 5, 8, 7, 5, 6, 3, 2, 8, 8, 7, 8, 9, 8, 9, 6, 3, 8, 9, 8, 6, 9, 8, 8, 9, 8, 7, 4, 10, 10, 7, 4, 4, 8, 9, 5, 9, 8, 7, 5, 8, 8, 7, 8, 6, 8, 9, 9, 2, 5, 7, 6, 10, 6, 7, 8, 6, 4, 5, 1, 8, 5, 6, 3, 9, 1, 7, 6, 7, 4, 3, 10, 8, 3, 8, 6, 5, 6, 7, 7, 6, 5, 8, 8, 6, 9, 1, 9, 5, 10, 6, 6, 2, 7, 4, 6, 6, 5, 6, 5, 9, 10, 9, 6, 6, 8, 8, 7, 5, 9, 6, 11, 7, 6, 5, 8, 3, 9, 11, 7, 9, 6, 7, 8, 8, 6, 1, 3, 4, 6, 5, 8, 9, 5, 6, 6, 5, 7, 8, 7, 7, 9, 6, 4, 7, 7, 8, 11, 6, 6, 8, 9, 6, 7, 7, 8, 3, 11, 5, 1, 7, 2, 1, 9, 10, 7, 8, 6, 1, 6, 7, 9, 7, 7, 7, 8, 7, 8, 7, 9, 8, 7, 9, 5, 9, 8, 8, 7, 7, 7, 6, 7, 6, 7, 5, 9, 6, 8, 6, 6, 7, 7, 6, 7, 5, 5, 5, 3, 7, 9, 8, 1, 7, 7, 3, 6, 6, 7, 5, 7, 10, 9, 8, 10, 3, 7, 10, 6, 5, 10, 5, 7, 1, 8, 6, 7, 9, 9, 6, 6, 8, 6, 6, 3, 4, 8, 6, 9, 3, 8, 6, 3, 6, 9, 8, 10, 8, 9, 8, 6, 5, 4, 7, 6, 5, 10, 1, 9, 10, 7, 9, 8, 6, 5, 8, 9, 7, 5, 6, 8, 5, 6, 7, 5, 7, 9, 7, 6, 9, 5, 6, 9, 7, 6, 8, 9, 6, 5, 6, 8, 8, 9, 8, 12, 5, 3, 7, 5, 5, 8, 8, 7, 7, 6, 6, 9, 7, 6, 7, 5, 5, 8, 7, 7, 8, 9, 1, 8, 6, 5, 10, 1, 10, 5, 3, 8, 7, 5, 12, 3, 7, 7, 7, 7, 5, 16, 2, 7, 6, 8, 7, 7, 8, 9, 6, 6, 8, 9, 14, 9, 8, 7, 7, 6, 5, 7, 7, 8, 6, 4, 1, 7, 3, 8, 7, 5, 6, 8, 3, 7, 7, 8, 9, 14, 6, 1, 3, 8, 8, 4, 2, 7, 10, 7, 2, 2, 7, 9, 6, 10, 9, 6, 2, 3, 7, 8, 5, 11, 2, 8, 11, 9, 12, 8, 9, 6, 7, 5, 7, 7, 10, 9, 6, 5, 11, 2, 5, 6, 15, 8, 5, 4, 8, 10, 7, 7, 6, 8, 7, 7, 7, 7, 9, 7, 5, 8, 7, 11, 6, 7, 1, 9, 7, 9, 10, 9, 5, 10, 8, 6, 9, 6, 4, 8, 5, 7, 9, 9, 9, 5, 10, 8, 6, 1, 6, 5, 5, 10, 4, 7, 3, 5, 6, 5, 2, 8, 6, 8, 11, 8, 2, 7, 6, 5, 5, 8, 6, 9, 8, 8, 8, 8, 8, 11, 6, 4, 5, 7, 6, 10, 6, 8, 11, 6, 8, 6, 6, 7, 7, 5, 8, 7, 8, 5, 7, 8, 6, 5, 9, 8, 4, 10, 11, 7, 6, 7, 8, 7, 7, 4, 6, 7, 11, 7, 7, 7, 9, 1, 9, 4, 6, 6, 6, 3, 6, 6, 3, 6, 10, 6, 5, 7, 9, 8, 6, 7, 10, 4, 10, 6, 7, 10, 1, 7, 10, 4, 4, 9, 7, 6, 5, 6, 6, 11, 8, 1, 9, 9, 3, 7, 7, 7, 7, 10, 6, 7, 7, 11, 1, 6, 5, 8, 7, 7, 10, 7, 6, 1, 8, 5, 9, 7, 6, 9, 1, 5, 8, 7, 3, 1, 6, 10, 11, 6, 7, 10, 7, 5, 4, 9, 8, 7, 7, 8, 7, 8, 11, 8, 7, 7, 6, 8, 7, 7, 1, 5, 3, 7, 5, 8, 12, 3, 6, 7, 4, 5, 7, 5, 8, 9, 7, 6, 5, 7, 1, 8, 5, 9, 7, 7, 7, 7, 1, 7, 9, 10, 2, 5, 5, 5, 9, 1, 5, 6, 8, 7, 8, 8, 6, 9, 5, 9, 6, 1, 6, 7, 5, 5, 8, 7, 6, 6, 8, 7, 6, 7, 3, 10, 4, 6, 8, 8, 8, 3, 3, 7, 7, 7, 7, 10, 12, 13, 8, 7, 4, 7, 9, 9, 4, 9, 6, 10, 7, 7, 4, 7, 8, 7, 7, 9, 10, 4, 7, 6, 8, 10, 9, 9, 12, 6, 8, 7, 6, 8, 7, 4, 6, 7, 5, 4, 6, 10, 5, 7, 8, 8, 7, 6, 9, 4, 7, 6, 4, 11, 7, 10, 3, 6, 7, 6, 1, 6, 4, 6, 6, 7, 6, 6, 8, 8, 5, 9, 9, 6, 9, 4, 6, 8, 5, 10, 7, 4, 10, 7, 13, 6, 6, 6, 7, 9, 8, 10, 6, 9, 6, 10, 10, 6, 2, 12, 3, 6, 7, 4, 10, 8, 8, 9, 6, 8, 10, 6, 8, 8, 3, 9, 5, 8, 5, 5, 5, 9, 7, 7, 8, 5, 6, 3, 5, 7, 7, 8, 7, 6, 8, 10, 7, 7, 7, 6, 4, 3, 6, 7, 11, 9, 5, 10, 7, 6, 5, 7, 8, 8, 8, 10, 8, 8, 7, 5, 8, 6, 7, 5, 9, 4, 8, 5, 6, 5, 9, 6, 10, 6, 6, 6, 7, 7, 7, 4, 5, 9, 9, 10, 7, 8, 9, 11, 4, 6, 5, 9, 2, 9, 7, 5, 5, 9, 3, 7, 8, 7, 9, 7, 5, 3, 10, 8, 8, 7, 6, 7, 5, 9, 8, 8, 7, 6, 7, 5, 8, 9, 8, 4, 6, 2, 5, 7, 1, 5, 11, 6, 10, 8, 4, 7, 5, 10, 8, 5, 9, 7, 10, 5, 8, 5, 10, 7, 7, 5, 1, 8, 4, 7, 5, 9, 3, 6, 6, 7, 6, 6, 12, 7, 5, 7, 6, 4, 5, 11, 4, 7, 6, 6, 11, 1, 11, 3, 1, 6, 6, 4, 11, 8, 8, 8, 7, 9, 7, 4, 9, 9, 5, 5, 11, 9, 6, 9, 8, 6, 7, 6, 5, 12, 8, 6, 8, 15, 7, 3, 7, 9, 3, 10, 5, 10, 3, 9, 10, 8, 7, 8, 3, 3, 5, 8, 8, 6, 3, 7, 12, 2, 11, 6, 7, 14, 3, 8, 7, 6, 8, 3, 6, 6, 6, 5, 7, 8, 6, 5, 6, 7, 11, 8, 8, 4, 5, 6, 5, 4, 1, 5, 3, 2, 8, 1, 3, 5, 8, 7, 9, 10, 6, 6, 7, 7, 8, 6, 1, 1, 7, 9, 5, 5, 8, 3, 2, 2, 1, 1, 6, 5, 6, 3, 6, 8, 6, 1, 10, 1, 7, 8, 8, 1, 11, 7, 8, 3, 8, 1, 5, 4, 9, 9, 8, 9, 12, 9, 8, 7, 5, 7, 7, 7, 5, 7, 6, 9, 5, 8, 7, 4, 8, 7, 6, 2, 7, 5, 7, 4, 2, 5, 5, 4, 7, 7, 6, 8, 8, 10, 8, 8, 9, 9, 9, 9, 4, 6, 12, 3, 6, 5, 6, 9, 6, 9, 9, 5, 6, 6, 5, 11, 7, 8, 8, 6, 6, 8, 8, 2, 2, 11, 6, 7, 11, 5, 6, 4, 4, 5, 10, 9, 1, 7, 1, 1, 3, 6, 6, 7, 6, 4, 7, 7, 9, 2, 15, 3, 5, 7, 10, 6, 11, 6, 7, 8, 7, 6, 6, 6, 6, 5, 2, 5, 7, 8, 7, 9, 6, 9, 2, 4, 6, 5, 5, 8, 10, 11, 8, 6, 7, 7, 7, 3, 4, 8, 5, 3, 7, 8, 7, 5, 1, 10, 4, 6, 6, 1, 8, 5, 7, 4, 14, 2, 5, 8, 10, 3, 1, 7, 5, 8, 6, 7, 5, 3, 5, 7, 7, 4, 7, 9, 6, 7, 8, 3, 6, 7, 5, 5, 8, 4, 6, 5, 4, 7, 4, 6, 4, 6, 4, 5, 8, 4, 3, 6, 7, 3, 7, 5, 4, 8, 5, 8, 7, 4, 7, 4, 6, 6, 10, 7, 5, 6, 10, 9, 6, 8, 7, 7, 9, 2, 7, 3, 8, 5, 5, 4, 5, 6, 7, 7, 8, 6, 6, 2, 7, 7, 5, 1, 5, 6, 8, 8, 10, 4, 4, 7, 7, 7, 8, 6, 5, 5, 11, 8, 4, 5, 9, 8, 6, 5, 10, 8, 5, 5, 9, 11, 4, 6, 7, 2, 6, 8, 4, 9, 7, 9, 3, 9, 6, 5, 4, 5, 6, 3, 2, 6, 6, 3, 1, 7, 9, 2, 7, 5, 9, 8, 5, 5, 10, 8, 7, 7, 3, 6, 5, 6, 2, 8, 9, 6, 2, 5, 6, 5, 5, 7, 2, 3, 9, 11, 7, 6, 8, 8, 3, 3, 7, 6, 6, 6, 1, 7, 6, 7, 5, 5, 5, 5, 3, 8, 8, 10, 6, 7, 8, 4, 5, 5, 3, 6, 6, 8, 4, 4, 4, 8, 9, 5, 6, 7, 1, 7, 7, 9, 1, 8, 4, 4, 4, 5, 7, 5, 5, 13, 5, 8, 7, 8, 5, 9, 4, 5, 1, 6, 1, 7, 5, 10, 5, 5, 6, 5, 3, 3, 5, 10, 9, 5, 6, 8, 6, 4, 6, 9, 8, 5, 9, 9, 7, 4, 6, 10, 9, 5, 5, 7, 7, 8, 5, 5, 5, 9, 5, 9, 10, 10, 5, 7, 8, 7, 1, 8, 4, 5, 6, 6, 4, 10, 7, 7, 3, 6, 5, 5, 1, 3, 1, 4, 7, 7, 6, 7, 6, 7, 4, 6, 3, 9, 7, 5, 5, 7, 5, 9, 12, 4, 8, 9, 8, 7, 4, 2, 9, 8, 9, 2, 2, 6, 6, 5, 11, 7, 7, 8, 8, 10, 3, 8, 7, 5, 11, 4, 12, 6, 3, 3, 5, 6, 7, 4, 5, 5, 6, 7, 7, 5, 11, 5, 2, 8, 5, 6, 7, 8, 3, 8, 6, 6, 4, 5, 8, 8, 7, 7, 8, 9, 9, 7, 9, 12, 10, 2, 6, 7, 7, 10, 9, 1, 7, 7, 8, 5, 6, 10, 9, 3, 4, 6, 9, 4, 6, 10, 7, 7, 10, 7, 5, 8, 5, 9, 6, 4, 7, 2, 4, 5, 7, 4, 8, 5, 8, 9, 7, 4, 2, 5, 7, 14, 1, 15, 8, 8, 6, 6, 7, 4, 5, 6, 2, 5, 8, 10, 5, 8, 10, 11, 6, 7, 6, 5, 6, 7, 1, 7, 5, 4, 4, 6, 8, 4, 6, 5, 8, 5, 8, 5, 3, 5, 9, 4, 5, 2, 9, 6, 8, 8, 5, 8, 13, 7, 5, 5, 7, 9, 15, 6, 8, 8, 4, 7, 8, 5, 7, 4, 10, 4, 7, 5, 10, 10, 5, 8, 6, 10, 4, 3, 1, 5, 8, 7, 7, 7, 4, 9, 11, 5, 8, 7, 6, 7, 9, 9, 8, 9, 3, 3, 5, 7, 8, 5, 5, 8, 7, 7, 7, 7, 9, 8, 3, 8, 8, 5, 9, 9, 6, 6, 11, 3, 7, 4, 7, 7, 8, 8, 4, 4, 6, 8, 11, 6, 7, 6, 6, 8, 1, 6, 6, 6, 5, 7, 5, 10, 7, 8, 7, 13, 13, 7, 6, 5, 8, 8, 7, 9, 5, 6, 4, 5, 6, 12, 8, 5, 8, 7, 6, 5, 8, 5, 8, 8, 5, 9, 7, 4, 2, 3, 6, 1, 7, 6, 7, 3, 5, 1, 1, 1, 8, 5, 7, 5, 6, 7, 8, 9, 7, 5, 5, 8, 7, 11, 3, 4, 6, 10, 6, 10, 6, 3, 2, 9, 8, 3, 3, 6, 3, 8, 7, 6, 6, 6, 8, 2, 8, 8, 5, 8, 6, 9, 1, 10, 5, 6, 9, 8, 8, 3, 3, 7, 7, 4, 8, 4, 4, 9, 8, 5, 8, 8, 1, 6, 8, 6, 7, 4, 10, 7, 6, 5, 8, 8, 9, 10, 10, 6, 5, 8, 5, 9, 5, 5, 7, 6, 6, 6, 2, 4, 5, 4, 6, 11, 4, 8, 2, 5, 8, 7, 14, 9, 8, 6, 10, 6, 9, 4, 5, 6, 6, 6, 7, 5, 7, 3, 10, 1, 4, 5, 6, 6, 5, 4, 4, 7, 6, 2, 5, 5, 5, 5, 6, 9, 4, 3, 6, 3, 4, 3, 8, 7, 3, 6, 5, 5, 2, 2, 4, 5, 5, 4, 3, 3, 8, 2, 6, 7, 6, 7, 4, 6, 6, 12, 7, 7, 3, 6, 7, 7, 2, 5, 14, 8, 7, 3, 6, 9, 8, 6, 10, 8, 6, 4, 9, 8, 5, 5, 7, 6, 7, 11, 8, 8, 7, 9, 5, 6, 8, 5, 8, 2, 5, 12, 6, 6, 5, 7, 5, 6, 5, 8, 6, 9, 8, 7, 6, 7, 5, 1, 7, 8, 5, 8, 8, 5, 6, 6, 3, 9, 7, 6, 5, 6, 3, 4, 6, 7, 4, 6, 7, 7, 10, 6, 5, 6, 12, 5, 6, 6, 4, 3, 8, 9, 7, 6, 6, 5, 3, 5, 5, 8, 4, 6, 7, 7, 10, 5, 2, 7, 6, 5, 7, 10, 9, 6, 6, 4, 8, 6, 6, 5, 6, 4, 9, 5, 7, 9, 11, 7, 7, 12, 6, 4, 7, 4, 6, 6, 4, 9, 8, 4, 7, 6, 10, 3, 4, 8, 9, 5, 5, 7, 7, 10, 6, 9, 6, 7, 5, 7, 6, 5, 8, 6, 7, 7, 7, 6, 9, 6, 7, 8, 7, 5, 7, 11, 4, 7, 8, 3, 4, 3, 8, 10, 6, 4, 10, 8, 6, 7, 6, 10, 6, 10, 6, 4, 9, 6, 7, 4, 8, 6, 10, 7, 7, 6, 6, 8, 7, 6, 6, 7, 6, 8, 6, 11, 8, 6, 10, 4, 5, 6, 5, 6, 5, 8, 6, 7, 4, 8, 5, 5, 13, 15, 12, 6, 5, 4, 2, 8, 5, 6, 9, 7, 8, 6, 8, 6, 5, 5, 10, 6, 7, 4, 5, 8, 4, 5, 6, 7, 4, 6, 7, 8, 9, 8, 6, 7, 7, 5, 8, 8, 6, 5, 2, 6, 8, 6, 10, 7, 11, 9, 7, 11, 9, 7, 6, 8, 9, 6, 4, 13, 6, 5, 10, 12, 8, 11, 4, 8, 4, 9, 4, 6, 5, 4, 10, 5, 7, 6, 6, 5, 8, 4, 7, 6, 7, 8, 8, 4, 5, 8, 7, 5, 8, 7, 13, 5, 11, 2, 6, 4, 5, 9, 6, 10, 4, 8, 8, 9, 3, 9, 6, 6, 7, 2, 7, 6, 7, 7, 7, 8, 6, 10, 9, 7, 14, 7, 10, 9, 8, 7, 10, 9, 6, 5, 8, 6, 9, 3, 8, 6, 8, 6, 8, 11, 4, 8, 6, 5, 7, 9, 8, 6, 6, 4, 5, 6, 13, 4, 7, 8, 6, 6, 7, 7, 8, 6, 7, 8, 6, 4, 6, 8, 9, 8, 9, 4, 6, 8, 8, 6, 8, 6, 8, 6, 4, 10, 8, 6, 8, 4, 10, 7, 5, 4, 13, 11, 8, 8, 5, 8, 5, 4, 5, 7, 5, 6, 5, 2, 8, 2, 9, 6, 7, 7, 7, 3, 4, 3, 9, 2, 5, 6, 8, 8, 7, 8, 8, 3, 3, 9, 5, 11, 6, 3, 6, 5, 6, 7, 7, 7, 6, 3, 10, 9, 8, 8, 3, 6, 10, 9, 11, 7, 8, 9, 8, 5, 5, 6, 8, 8, 8, 9, 5, 7, 5, 6, 7, 10, 3, 5, 6, 7, 3, 3, 2, 4, 12, 7, 10, 5, 6, 2, 6, 6, 13, 6, 5, 6, 7, 7, 9, 10, 5, 6, 5, 9, 4, 7, 10, 6, 3, 10, 8, 6, 8, 8, 5, 8, 4, 9, 4, 4, 11, 6, 5, 5, 7, 5, 8, 6, 3, 8, 4, 12, 5, 7, 6, 6, 5, 6, 5, 8, 8, 6, 7, 7, 4, 8, 4, 8, 8, 8, 4, 2, 5, 10, 7, 12, 7, 6, 9, 3, 13, 5, 7, 6, 7, 7, 5, 6, 8, 8, 5, 5, 3, 8, 8, 5, 4, 6, 3, 7, 5, 6, 8, 4, 9, 7, 9, 12, 8, 6, 9, 4, 9, 8, 7, 6, 10, 6, 7, 5, 4, 7, 14, 8, 10, 3, 9, 5, 6, 8, 7, 6, 5, 4, 4, 5, 10, 7, 5, 6, 3, 13, 6, 8, 5, 6, 8, 5, 9, 8, 7, 8, 6, 7, 10, 7, 5, 4, 7, 5, 6, 2, 7, 6, 9, 7, 7, 9, 6, 11, 5, 5, 7, 8, 9, 7, 9, 10, 6, 7, 6, 4, 4, 6, 10, 3, 5, 6, 7, 7, 8, 9, 3, 10, 5, 6, 6, 8, 5, 8, 7, 5, 7, 6, 11, 8, 8, 8, 8, 9, 7, 6, 9, 8, 9, 4, 7, 9, 3, 9, 6, 3, 10, 12, 8, 4, 8, 7, 11, 3, 4, 5, 5, 7, 8, 4, 3, 10, 4, 7, 7, 8, 5, 3, 5, 6, 5, 4, 13, 6, 5, 3, 5, 4, 2, 7, 10, 6, 4, 7, 6, 3, 6, 10, 8, 6, 4, 8, 4, 3, 8, 7, 10, 9, 6, 7, 6, 9, 5, 5, 6, 12, 10, 4, 7, 4, 5, 6, 6, 8, 9, 8, 6, 3, 5, 3, 2, 7, 5, 8, 1, 5, 9, 10, 6, 5, 4, 5, 3, 8, 8, 7, 7, 5, 6, 10, 8, 6, 6, 5, 5, 5, 5, 14, 6, 11, 7, 5, 6, 8, 10, 6, 5, 4, 10, 4, 7, 8, 8, 7, 8, 6, 4, 7, 5, 10, 8, 4, 7, 6, 6, 9, 1, 7, 4, 7, 2, 7, 6, 10, 11, 6, 5, 5, 5, 3, 10, 9, 7, 9, 8, 10, 9, 5, 10, 5, 9, 7, 6, 6, 7, 5, 9, 5, 7, 6, 6, 7, 6, 9, 9, 5, 9, 7, 6, 3, 8, 4, 5, 6, 6, 4, 7, 13, 9, 5, 7, 9, 4, 9, 6, 6, 8, 5, 9, 4, 4, 6, 8, 5, 5, 5, 6, 6, 6, 6, 8, 6, 5, 6, 7, 3, 4, 6, 8, 3, 9, 9, 6, 7, 8, 5, 7, 8, 7, 7, 6, 7, 6, 12, 5, 3, 8, 9, 3, 8, 4, 6, 6, 5, 4, 7, 3, 6, 3, 7, 6, 8, 6, 8, 6, 6, 2, 6, 10, 10, 8, 5, 7, 10, 6, 5, 9, 4, 10, 9, 7, 3, 9, 7, 4, 3, 8, 6, 4, 4, 7, 5, 10, 8, 8, 4, 7, 6, 6, 11, 8, 6, 6, 13, 2, 5, 12, 8, 4, 7, 6, 6, 5, 11, 9, 5, 8, 3, 7, 11, 7, 6, 11, 4, 5, 7, 8, 8, 4, 5, 8, 7, 5, 6, 8, 4, 4, 7, 4, 6, 5, 7, 3, 6, 4, 5, 4, 5, 5, 7, 7, 3, 7, 4, 4, 7, 6, 4, 7, 5, 12, 3, 5, 6, 9, 4, 6, 9, 8, 5, 4, 6, 8, 5, 7, 3, 10, 9, 3, 5, 7, 4, 6, 8, 6, 3, 6, 8, 10, 6, 6, 6, 7, 3, 7, 3, 12, 9, 11, 11, 7, 5, 5, 5, 9, 4, 3, 10, 7, 8, 7, 10, 2, 7, 6, 5, 4, 7, 6, 6, 7, 9, 5, 5, 6, 3, 3, 8, 3, 3, 5, 4, 5, 8, 9, 3, 9, 3, 4, 6, 5, 8, 9, 7, 6, 3, 4, 7, 13, 11, 1, 8, 12, 9, 7, 7, 3, 6, 3, 3, 5, 2, 9, 11, 12, 6, 7, 4, 6, 8, 6, 5, 11, 1, 4, 3, 9, 7, 4, 3, 5, 4, 8, 6, 8, 9, 5, 7, 7, 11, 8, 9, 6, 6, 6, 7, 10, 8, 9, 7, 8, 7, 8, 4, 10, 2, 5, 3, 2, 7, 7, 2, 3, 8, 9, 1, 3, 9, 8, 3, 4, 6, 8, 4, 5, 8, 5, 5, 4, 3, 6, 10, 4, 11, 9, 6, 4, 9, 4, 4, 2, 8, 2, 3, 7, 5, 3, 3, 7, 3, 5, 7, 4, 4, 12, 9, 12, 7, 2, 7, 9, 6, 9, 4, 3, 6, 9, 7, 2, 4, 8, 5, 8, 6, 8, 8, 9, 9, 8, 7, 8, 4, 2, 5, 6, 8, 6, 4, 8, 7, 3, 4, 4, 6, 2, 9, 8, 2, 8, 4, 7, 10, 3, 7, 3, 5, 3, 6, 3, 3, 5, 6, 8, 3, 16, 5, 2, 8, 5, 1, 4, 4, 4, 5, 7, 5, 10, 3, 2, 4, 8, 9, 4, 8, 6, 6, 3, 3, 6, 4, 4, 3, 9, 3, 5, 8, 3, 8, 6, 9, 3, 4, 4, 3, 3, 1, 3, 7, 5, 4, 9, 5, 4, 6, 2, 4, 2, 4, 8, 14, 4, 4, 4, 5, 2, 6, 5, 7, 7, 10, 4, 3, 8, 6, 8, 4, 7, 10, 5, 5, 5, 4, 8, 5, 5, 6, 4, 8, 7, 9, 7, 4, 5, 3, 4, 2, 8, 3, 7, 3, 3, 10, 4, 7, 8, 4, 3, 4, 7, 11, 5, 8, 6, 2, 3, 11, 9, 7, 6, 3, 5, 6, 3, 10, 10, 5, 4, 9, 5, 9, 4, 8, 1, 9, 5, 7, 2, 4, 4, 3, 6, 2, 1, 7, 6, 3, 7, 6, 5, 5, 4, 10, 4, 5, 8, 8, 3, 4, 3, 4, 5, 6, 6, 3, 7, 10, 9, 3, 5, 5, 10, 5, 3, 2, 10, 5, 7, 3, 8, 9, 4, 2, 2, 6, 4, 8, 7, 12, 4, 5, 6, 10, 2, 8, 3, 8, 8, 7, 6, 7, 15, 4, 5, 6, 6, 1, 9, 9, 6, 2, 8, 10, 7, 3, 12, 4, 3, 6, 4, 2, 13, 3, 3, 5, 3, 7, 5, 4, 3, 2, 8, 9, 4, 7, 11, 5, 7, 3, 3, 6, 9, 8, 6, 7, 4, 6, 7, 9, 7, 3, 9, 7, 9, 8, 3, 11, 9, 8, 3, 5, 2, 8, 5, 6, 6, 5, 2, 7, 7, 9, 6, 9, 5, 8, 8, 4, 4, 7, 7, 5, 4, 12, 4, 4, 5, 6, 8, 5, 10, 5, 8, 7, 8, 1, 8, 5, 5, 5, 6, 8, 3, 7, 8, 8, 5, 9, 8, 9, 2, 4, 6, 9, 8, 8, 11, 10, 5, 9, 6, 11, 7, 5, 7, 4, 9, 7, 3, 7, 6, 6, 6, 7, 3, 12, 5, 7, 9, 8, 7, 7, 6, 6, 10, 8, 8, 6, 3, 3, 4, 7, 6, 1, 8, 8, 4, 5, 10, 3, 9, 6, 9, 8, 7, 5, 8, 7, 7, 11, 6, 9, 5, 5, 5, 7, 8, 6, 6, 6, 7, 6, 6, 7, 7, 8, 11, 8, 6, 9, 4, 6, 5, 6, 10, 10, 6, 4, 5, 2, 6, 10, 6, 6, 8, 6, 7, 6, 3, 7, 2, 12, 9, 7, 4, 7, 9, 7, 9, 8, 7, 5, 7, 7, 11, 6, 6, 4, 9, 9, 6, 9, 5, 7, 8, 6, 6, 5, 12, 8, 5, 8, 9, 6, 8, 7, 10, 7, 8, 7, 8, 7, 10, 6, 7, 10, 6, 7, 8, 5, 7, 9, 7, 6, 7, 5, 8, 11, 5, 7, 4, 6, 14, 7, 5, 8, 6, 8, 5, 4, 9, 11, 4, 5, 4, 4, 7, 8, 9, 4, 8, 7, 6, 6, 7, 3, 12, 7, 8, 6, 7, 8, 6, 9, 7, 7, 5, 9, 7, 4, 5, 8, 5, 5, 8, 9, 5, 8, 11, 6, 5, 8, 6, 10, 12, 7, 7, 7, 7, 4, 13, 9, 7, 5, 8, 6, 6, 10, 7, 5, 11, 7, 7, 4, 8, 8, 5, 5, 6, 9, 1, 7, 8, 3, 6, 8, 6, 9, 6, 10, 6, 7, 8, 7, 3, 4, 10, 4, 7, 10, 10, 9, 11, 11, 4, 9, 7, 5, 13, 7, 12, 8, 9, 10, 9, 7, 5, 6, 6, 6, 6, 3, 7, 8, 9, 10, 7, 7, 8, 8, 8, 7, 8, 8, 8, 7, 8, 17, 10, 9, 7, 7, 5, 5, 8, 7, 7, 9, 10, 7, 7, 7, 7, 8, 10, 5, 8, 9, 10, 4, 11, 10, 6, 7, 8, 7, 6, 7, 8, 9, 10, 6, 8, 7, 9, 3, 6, 3, 2, 7, 8, 4, 8, 4, 9, 9, 5, 8, 5, 9, 3, 5, 5, 8, 18, 5, 9, 10, 6, 5, 6, 7, 5, 5, 7, 7, 6, 8, 4, 8, 2, 11, 5, 6, 6, 6, 3, 8, 9, 8, 5, 8, 8, 8, 5, 5, 8, 8, 5, 8, 6, 3, 8, 9, 11, 6, 2, 8, 6, 8, 8, 14, 9, 7, 4, 5, 8, 6, 4, 3, 4, 7, 7, 5, 9, 5, 5, 6, 3, 6, 4, 10, 6, 4, 7, 6, 8, 3, 5, 6, 4, 4, 8, 5, 8, 7, 7, 7, 6, 7, 4, 5, 5, 8, 8, 8, 6, 6, 10, 10, 9, 6, 7, 7, 8, 8, 7, 4, 8, 7, 6, 6, 7, 7, 10, 6, 6, 5, 7, 7, 5, 8, 8, 4, 10, 5, 4, 3, 4, 7, 9, 4, 3, 6, 9, 4, 8, 7, 7, 10, 5, 5, 4, 9, 7, 5, 4, 5, 7, 10, 10, 9, 4, 7, 6, 8, 7, 4, 7, 11, 6, 4, 13, 4, 6, 7, 6, 8, 9, 13, 7, 7, 13, 3, 3, 5, 9, 6, 4, 7, 7, 6, 7, 6, 7, 6, 6, 9, 4, 5, 5, 13, 3, 3, 6, 7, 6, 5, 8, 9, 9, 7, 9, 9, 7, 8, 5, 8, 4, 6, 7, 6, 4, 7, 6, 7, 5, 9, 5, 4, 2, 4, 12, 9, 4, 7, 5, 5, 7, 5, 6, 5, 5, 5, 5, 7, 7, 8, 3, 3, 9, 6, 6, 12, 5, 7, 4, 5, 9, 7, 6, 9, 7, 6, 9, 6, 5, 6, 10, 6, 4, 6, 8, 4, 6, 9, 9, 8, 8, 5, 7, 8, 8, 5, 10, 4, 5, 3, 5, 4, 6, 2, 9, 4, 7, 6, 7, 7, 7, 7, 6, 2, 7, 5, 6, 9, 6, 8, 8, 5, 11, 9, 5, 7, 6, 4, 10, 6, 8, 3, 2, 4, 7, 8, 7, 11, 6, 6, 6, 3, 5, 5, 8, 10, 11, 6, 4, 4, 7, 6, 5, 7, 5, 5, 4, 2, 3, 8, 7, 6, 4, 6, 11, 9, 10, 1, 10, 8, 7, 6, 9, 7, 8, 3, 3, 6, 1, 10, 6, 3, 7, 5, 7, 8, 4, 8, 9, 10, 7, 7, 6, 4, 5, 11, 6, 9, 3, 7, 9, 7, 8, 3, 4, 9, 11, 8, 6, 6, 9, 7, 9, 8, 8, 8, 7, 7, 4, 7, 7, 6, 8, 4, 9, 4, 4, 4, 11, 8, 13, 8, 8, 8, 6, 8, 5, 8, 9, 7, 9, 7, 9, 6, 8, 4, 1, 1, 7, 7, 9, 11, 1, 4, 9, 7, 11, 7, 6, 5, 10, 4, 7, 1, 1, 3, 7, 8, 7, 7, 6, 8, 5, 6, 8, 5, 8, 11, 2, 3, 6, 7, 6, 4, 8, 1, 7, 10, 3, 5, 7, 6, 8, 5, 7, 4, 9, 4, 6, 5, 4, 6, 3, 8, 6, 6, 13, 4, 7, 3, 7, 8, 6, 12, 7, 8, 8, 8, 3, 6, 11, 10, 5, 9, 1, 1, 7, 7, 13, 9, 5, 9, 10, 7, 7, 7, 11, 11, 11, 6, 7, 9, 5, 4, 8, 1, 10, 10, 7, 8, 6, 8, 3, 8, 4, 8, 1, 6, 8, 7, 8, 10, 14, 7, 5, 9, 10, 7, 6, 10, 6, 6, 7, 10, 10, 7, 7, 1, 5, 7, 6, 6, 10, 6, 6, 7, 3, 5, 4, 9, 11, 7, 9, 1, 2, 6, 6, 7, 8, 3, 6, 7, 5, 6, 7, 7, 7, 7, 7, 5, 6, 8, 6, 6, 7, 6, 5, 6, 9, 1, 7, 8, 1, 6, 8, 8, 9, 7, 6, 6, 7, 7, 8, 4, 6, 2, 7, 8, 5, 3, 3, 7, 2, 7, 6, 9, 7, 9, 7, 9, 9, 6, 4, 9, 4, 7, 6, 8, 10, 1, 8, 7, 6, 9, 3, 6, 10, 9, 6, 5, 5, 7, 7, 1, 6, 5, 5, 4, 7, 7, 9, 11, 5, 10, 10, 9, 4, 7, 9, 8, 9, 8, 6, 7, 8, 7, 10, 4, 6, 5, 8, 1, 5, 7, 7, 7, 9, 4, 7, 5, 7, 8, 9, 7, 10, 9, 8, 8, 4, 17, 10, 9, 8, 12, 7, 7, 6, 8, 15, 10, 8, 10, 3, 7, 9, 5, 9, 5, 7, 5, 4, 8, 7, 8, 5, 6, 7, 2, 10, 5, 4, 3, 6, 5, 5, 7, 8, 6, 10, 10, 4, 9, 2, 6, 1, 7, 8, 8, 4, 6, 7, 7, 7, 8, 7, 3, 8, 7, 3, 5, 1, 7, 4, 6, 7, 10, 5, 8, 7, 9, 8, 7, 5, 8, 5, 1, 6, 7, 5, 10, 4, 11, 9, 1, 10, 9, 6, 8, 24, 10, 9, 8, 6, 9, 6, 9, 5, 5, 9, 8, 5, 3, 5, 10, 5, 4, 4, 4, 1, 7, 6, 9, 8, 8, 4, 5, 7, 8, 6, 6, 9, 7, 8, 12, 6, 4, 2, 6, 4, 13, 13, 7, 8, 2, 1, 9, 7, 7, 6, 6, 10, 10, 7, 5, 8, 5, 6, 5, 7, 9, 13, 3, 15, 9, 4, 3, 6, 4, 6, 6, 6, 2, 7, 8, 7, 9, 11, 5, 8, 5, 5, 9, 3, 4, 8, 6, 7, 5, 6, 6, 7, 3, 10, 4, 9, 8, 7, 9, 6, 4, 8, 8, 9, 6, 7, 9, 11, 4, 8, 6, 7, 8, 8, 7, 6, 5, 8, 6, 8, 5, 7, 7, 9, 8, 5, 9, 7, 6, 10, 1, 7, 9, 6, 4, 7, 7, 6, 6, 8, 5, 10, 10, 3, 6, 5, 8, 8, 17, 7, 8, 6, 8, 7, 8, 14, 11, 5, 5, 9, 9, 6, 8, 5, 9, 2, 9, 5, 6, 8, 6, 6, 3, 4, 7, 4, 6, 7, 7, 11, 6, 7, 7, 6, 4, 9, 7, 10, 10, 5, 19, 2, 7, 11, 6, 10, 4, 13, 9, 5, 8, 5, 7, 5, 6, 6, 9, 3, 2, 5, 2, 2, 6, 14, 7, 2, 8, 7, 7, 5, 8, 7, 6, 5, 3, 9, 6, 7, 4, 6, 8, 6, 7, 11, 3, 5, 9, 11, 11, 7, 3, 8, 11, 8, 9, 4, 10, 9, 10, 8, 11, 8, 9, 7, 4, 9, 4, 2, 4, 5, 7, 8, 6, 4, 10, 10, 6, 8, 10, 6, 10, 3, 5, 8, 9, 8, 9, 10, 13, 6, 10, 14, 5, 7, 6, 9, 11, 8, 6, 8, 5, 6, 8, 8, 3, 6, 8, 2, 5, 7, 7, 5, 9, 9, 6, 5, 3, 8, 9, 5, 6, 9, 7, 6, 6, 10, 7, 5, 9, 7, 9, 8, 7, 7, 10, 4, 1, 6, 6, 7, 10, 7, 5, 7, 7, 10, 8, 6, 11, 10, 7, 7, 7, 4, 8, 9, 3, 4, 8, 4, 10, 18, 5, 7, 10, 5, 3, 7, 8, 5, 7, 8, 4, 2, 2, 10, 10, 2, 8, 6, 6, 7, 4, 6, 9, 8, 10, 7, 6, 6, 6, 6, 8, 7, 6, 9, 5, 1, 3, 6, 5, 7, 11, 10, 5, 8, 7, 8, 7, 5, 8, 4, 4, 6, 4, 7, 6, 6, 7, 4, 5, 5, 4, 6, 6, 6, 8, 5, 7, 3, 10, 9, 8, 7, 7, 8, 2, 11, 7, 8, 8, 7, 6, 9, 9, 10, 8, 5, 8, 6, 7, 7, 9, 3, 14, 6, 7, 6, 8, 7, 6, 5, 8, 4, 4, 5, 8, 4, 6, 11, 1, 2, 7, 4, 2, 7, 9, 3, 4, 5, 7, 9, 7, 3, 6, 5, 2, 7, 6, 4, 2, 7, 7, 6, 6, 6, 5, 5, 5, 13, 6, 5, 9, 8, 1, 6, 8, 7, 11, 6, 9, 7, 6, 8, 9, 11, 9, 9, 5, 7, 6, 8, 5, 5, 8, 6, 7, 5, 9, 6, 7, 8, 7, 8, 10, 8, 6, 6, 5, 1, 8, 4, 7, 8, 7, 10, 6, 9, 6, 7, 5, 6, 5, 9, 1, 4, 7, 5, 6, 8, 3, 6, 8, 8, 11, 6, 6, 7, 6, 6, 7, 7, 6, 4, 6, 4, 7, 10, 6, 7, 6, 6, 8, 8, 6, 5, 7, 6, 7, 7, 6, 5, 7, 9, 4, 7, 7, 4, 9, 7, 6, 6, 7, 7, 8, 6, 5, 8, 7, 5, 7, 11, 4, 4, 1, 6, 9, 8, 1, 5, 1, 2, 9, 11, 7, 9, 8, 5, 8, 6, 17, 8, 7, 11, 5, 6, 6, 6, 12, 7, 5, 6, 7, 7, 3, 6, 7, 6, 6, 7, 7, 5, 8, 10, 6, 9, 5, 6, 5, 7, 7, 8, 11, 5, 7, 9, 5, 4, 6, 11, 8, 4, 3, 4, 7, 8, 10, 4, 4, 5, 6, 12, 1, 5, 7, 9, 4, 6, 6, 10, 4, 5, 7, 10, 7, 9, 7, 6, 2, 7, 3, 6, 6, 7, 6, 5, 3, 6, 7, 11, 8, 1, 9, 11, 1, 14, 9, 7, 7, 1, 8, 4, 3, 8, 10, 8, 7, 8, 8, 6, 6, 7, 7, 7, 13, 8, 8, 8, 7, 8, 7, 13, 7, 9, 5, 10, 8, 3, 3, 6, 9, 6, 7, 7, 4, 7, 6, 3, 6, 5, 5, 2, 8, 7, 4, 10, 7, 8, 11, 5, 3, 5, 13, 7, 7, 7, 12, 9, 6, 8, 6, 8, 7, 5, 9, 5, 9, 6, 5, 2, 9, 6, 7, 6, 3, 10, 8, 9, 7, 4, 9, 4, 7, 7, 8, 9, 14, 2, 7, 5, 8, 3, 7, 7, 7, 7, 6, 7, 10, 8, 8, 5, 6, 7, 8, 9, 3, 10, 11, 9, 6, 6, 5, 10, 1, 6, 9, 6, 6, 4, 6, 7, 8, 9, 5, 6, 11, 8, 2, 7, 6, 7, 9, 4, 7, 10, 10, 1, 5, 7, 6, 10, 14, 8, 7, 4, 8, 8, 6, 3, 9, 5, 7, 10, 6, 4, 8, 7, 15, 6, 11, 6, 9, 6, 3, 6, 7, 7, 8, 11, 4, 2, 8, 7, 8, 5, 6, 7, 5, 4, 7, 6, 11, 12, 11, 7, 6, 8, 5, 8, 7, 5, 11, 5, 5, 2, 4, 9, 11, 5, 10, 8, 12, 2, 6, 7, 11, 6, 5, 7, 10, 9, 10, 6, 6, 7, 10, 12, 12, 6, 9, 7, 7, 7, 8, 7, 11, 6, 7, 10, 5, 8, 5, 9, 4, 7, 12, 6, 8, 4, 6, 5, 15, 10, 7, 7, 9, 5, 10, 5, 7, 7, 8, 7, 10, 8, 8, 8, 9, 9, 5, 8, 9, 4, 7, 8, 7, 14, 6, 7, 6, 7, 6, 6, 4, 7, 5, 6, 4, 5, 1, 4, 7, 3, 6, 6, 11, 8, 8, 5, 5, 7, 10, 5, 6, 7, 3, 8, 6, 7, 9, 12, 6, 9, 7, 9, 11, 6, 8, 9, 3, 1, 6, 7, 8, 10, 8, 8, 10, 3, 7, 7, 7, 7, 8, 9, 9, 7, 9, 7, 6, 10, 6, 1, 4, 4, 11, 2, 7, 4, 11, 10, 9, 7, 9, 6, 10, 11, 9, 7, 8, 9, 7, 6, 6, 3, 8, 10, 7, 12, 6, 6, 6, 7, 3, 8, 5, 6, 7, 4, 10, 5, 8, 10, 6, 7, 10, 12, 8, 11, 4, 5, 10, 4, 5, 9, 9, 6, 5, 10, 7, 8, 8, 7, 8, 8, 7, 8, 7, 7, 11, 6, 8, 9, 9, 8, 9, 8, 12, 16, 8, 6, 6, 5, 12, 4, 7, 6, 8, 5, 5, 5, 6, 6, 6, 8, 9, 8, 7, 8, 9, 5, 6, 4, 7, 5, 8, 4, 5, 4, 4, 6, 10, 10, 9, 4, 6, 5, 8, 3, 7, 8, 8, 7, 5, 6, 4, 7, 3, 3, 6, 9, 9, 6, 6, 8, 13, 8, 6, 7, 8, 10, 6, 9, 4, 6, 9, 9, 7, 7, 5, 6, 7, 6, 7, 8, 6, 10, 12, 8, 4, 7, 5, 6, 3, 8, 8, 4, 8, 9, 6, 5, 2, 6, 10, 7, 8, 7, 9, 13, 8, 9, 10, 10, 8, 5, 5, 14, 7, 7, 4, 6, 12, 5, 9, 11, 10, 6, 5, 4, 7, 8, 5, 6, 8, 12, 7, 4, 4, 8, 8, 8, 5, 10, 4, 10, 5, 1, 8, 2, 8, 5, 8, 10, 8, 9, 10, 4, 9, 5, 6, 5, 8, 1, 1, 8, 8, 11, 6, 10, 7, 7, 9, 8, 7, 8, 5, 5, 4, 11, 9, 8, 7, 1, 4, 2, 4, 7, 5, 7, 6, 6, 5, 6, 5, 5, 11, 9, 6, 8, 6, 4, 8, 8, 7, 5, 9, 11, 10, 7, 5, 21, 5, 6, 12, 6, 9, 5, 9, 6, 8, 8, 4, 9, 5, 4, 7, 9, 4, 7, 6, 9, 10, 6, 6, 14, 8, 8, 8, 4, 6, 5, 12, 5, 6, 5, 10, 8, 4, 3, 6, 6, 6, 8, 1, 7, 8, 3, 8, 8, 8, 17, 6, 8, 10, 5, 5, 6, 4, 8, 4, 5, 9, 6, 7, 6, 9, 8, 8, 7, 10, 9, 6, 7, 7, 9, 5, 11, 9, 5, 5, 8, 17, 6, 6, 6, 6, 11, 9, 4, 9, 6, 3, 5, 9, 2, 8, 6, 16, 15, 6, 6, 9, 5, 8, 5, 7, 12, 5, 5, 8, 10, 7, 8, 5, 9, 10, 5, 6, 8, 7, 5, 6, 5, 8, 7, 7, 8, 11, 5, 8, 7, 3, 12, 9, 7, 6, 15, 6, 4, 7, 8, 8, 6, 7, 7, 9, 8, 7, 7, 8, 1, 5, 5, 5, 7, 10, 9, 9, 6, 5, 7, 5, 6, 8, 10, 7, 9, 7, 7, 8, 9, 9, 11, 7, 8, 11, 6, 6, 7, 9, 4, 4, 6, 7, 11, 5, 7, 9, 5, 5, 7, 11, 11, 2, 3, 6, 5, 7, 4, 6, 8, 9, 6, 6, 4, 6, 13, 8, 6, 12, 11, 10, 7, 6, 4, 8, 8, 7, 1, 6, 8, 8, 10, 3, 8, 6, 6, 9, 7, 12, 6, 1, 4, 5, 7, 4, 8, 11, 6, 7, 4, 6, 8, 6, 7, 9, 9, 5, 5, 7, 7, 5, 7, 7, 7, 7, 1, 6, 4, 5, 8, 12, 10, 7, 12, 6, 9, 3, 8, 9, 7, 2, 6, 2, 9, 6, 9, 4, 6, 7, 5, 7, 8, 6, 8, 10, 7, 4, 3, 5, 8, 8, 6, 9, 7, 8, 12, 8, 6, 6, 4, 5, 4, 4, 11, 6, 10, 9, 5, 7, 9, 8, 9, 3, 4, 5, 8, 2, 9, 6, 6, 6, 9, 6, 9, 5, 3, 6, 8, 4, 5, 10, 7, 13, 9, 9, 6, 15, 5, 9, 7, 10, 6, 8, 8, 7, 8, 7, 8, 7, 9, 6, 8, 9, 5, 7, 10, 10, 8, 8, 8, 5, 8, 4, 8, 5, 9, 1, 6, 8, 10, 5, 2, 5, 7, 7, 9, 12, 6, 9, 7, 9, 8, 5, 9, 12, 6, 10, 9, 9, 6, 6, 8, 6, 1, 7, 1, 10, 15, 8, 7, 5, 5, 7, 6, 4, 2, 4, 11, 9, 7, 7, 5, 4, 7, 13, 4, 9, 6, 7, 1, 4, 7, 10, 7, 6, 11, 7, 8, 7, 3, 5, 5, 9, 7, 7, 6, 6, 13, 8, 11, 7, 7, 7, 2, 7, 4, 7, 5, 4, 5, 7, 11, 9, 8, 8, 7, 10, 31, 7, 11, 6, 4, 8, 8, 7, 8, 5, 10, 7, 13, 14, 8, 9, 12, 4, 7, 7, 9, 6, 6, 10, 6, 3, 6, 6, 10, 8, 1, 2, 6, 1, 9, 6, 9, 8, 8, 5, 10, 5, 10, 7, 7, 5, 9, 1, 1, 10, 8, 1, 10, 7, 1, 8, 7, 2, 3, 8, 8, 5, 6, 7, 6, 4, 3, 8, 8, 7, 7, 3, 5, 5, 5, 5, 7, 11, 8, 8, 5, 7, 6, 6, 6, 8, 10, 7, 6, 5, 7, 6, 12, 10, 8, 8, 10, 6, 7, 7, 6, 6, 7, 9, 6, 7, 7, 6, 8, 16, 5, 6, 9, 10, 7, 9, 6, 6, 8, 5, 2, 3, 4, 6, 2, 4, 3, 7, 7, 1, 7, 7, 5, 6, 5, 5, 5, 5, 9, 4, 11, 9, 9, 9, 6, 7, 9, 5, 7, 8, 7, 7, 7, 8, 10, 8, 8, 10, 4, 11, 9, 11, 6, 6, 5, 8, 6, 6, 6, 6, 7, 6, 4, 2, 8, 1, 3, 8, 6, 10, 5, 10, 4, 6, 5, 7, 8, 10, 6, 16, 9, 8, 7, 8, 3, 8, 4, 1, 5, 7, 6, 7, 4, 7, 1, 8, 10, 5, 6, 8, 8, 8, 7, 6, 7, 10, 6, 15, 5, 8, 6, 5, 4, 6, 10, 5, 8, 7, 8, 3, 6, 7, 4, 9, 3, 8, 5, 10, 6, 7, 2, 7, 4, 5, 7, 12, 13, 8, 11, 6, 2, 8, 6, 7, 7, 5, 9, 4, 6, 6, 7, 8, 3, 6, 6, 8, 11, 6, 7, 5, 6, 5, 5, 8, 8, 6, 13, 4, 5, 5, 6, 8, 9, 5, 10, 3, 3, 6, 7, 6, 1, 7, 6, 7, 5, 15, 2, 5, 9, 4, 3, 4, 6, 7, 10, 6, 10, 10, 8, 9, 11, 5, 9, 7, 8, 11, 4, 14, 8, 6, 5, 8, 8, 7, 1, 6, 6, 10, 3, 7, 6, 6, 6, 9, 6, 6, 5, 5, 11, 8, 2, 2, 3, 2, 1, 8, 5, 6, 7, 8, 5, 5, 7, 11, 6, 8, 11, 7, 6, 8, 6, 7, 1, 3, 6, 7, 8, 3, 6, 8, 8, 9, 8, 8, 8, 6, 8, 6, 10, 8, 8, 1, 8, 7, 6, 6, 1, 8, 7, 5, 12, 6, 7, 8, 7, 3, 7, 7, 4, 1, 7, 6, 9, 9, 7, 10, 4, 10, 3, 11, 1, 8, 7, 7, 8, 6, 12, 10, 9, 16, 9, 6, 9, 8, 9, 7, 8, 10, 5, 6, 15, 5, 3, 6, 5, 9, 12, 9, 6, 8, 7, 9, 9, 6, 7, 13, 8, 7, 11, 9, 8, 9, 9, 7, 8, 8, 7, 5, 14, 1, 9, 9, 8, 7, 14, 10, 2, 5, 6, 7, 12, 11, 9, 4, 8, 7, 5, 7, 6, 9, 11, 3, 1, 10, 5, 7, 7, 5, 6, 8, 5, 10, 6, 6, 11, 6, 12, 3, 1, 9]\n"
     ]
    }
   ],
   "source": [
    "lenghts_sr = [len(i) for i in sentences_sr]\n",
    "print(lenghts_sr)"
   ]
  },
  {
   "cell_type": "code",
   "execution_count": 36,
   "metadata": {},
   "outputs": [
    {
     "name": "stdout",
     "output_type": "stream",
     "text": [
      "['The aim of the paper is to present an architectonic study of Roman Catholic churches built in Vojvodina in years 1699. to 1939.', 'The revitalization of the southern Hungarian region followed the end of the domination of the Ottoman Empire in the lands of the Habsburg Monarchy (1745-1918, Austrian Empire, 1804-1867.', '& Austro-Hungarian Empire, 1867-1918.)', 'in the times after the Austro-Turkish wars and the signing of the Karlovci (1699.)', 'and Pozarevac (1718.)', 'Peace Treats.', 'The period of political and economic stability, which lasted until the outbreak of the First World War, was favorable time for a comprehensive expansion of constructing activities.', 'The continuity of the construction of religious buildings of the state-dominant Roman Catholic religion, can be followed after this period, until the outbreak of the Second World War (1939).', 'For nearly two and a half centuries on the territory of Vojvodina, 231 Roman Catholic religious buildings were built, including 3 cathedrals, 184 parish churches and 44 covenant, family or cemetery chapels, in 166 towns and villages in Vojvodina.', 'The main problems the research was focused in were the spatial concepts and correlation between form and function of these structures, origins and typology of architectural forms, the influence of the Central European centers and the surrounding areas and the ways in which discursive cultural, socio-political and religious climate manifested in architecture of studied ecclesiastical buildings.', 'The theoretical framework of the research was a phenomenon of the contemporary, dominant national cultural policy - the discourse of official culture, art and architecture of the Monarchy (1745-1918.', '), later Austria (1804-1867.)', 'and the Austro-Hungarian Empire (1867/1918.)', 'on the one side and Christian theology, symbolism and liturgical paradigm as a determinant of architectural formation of the liturgical space on the other.', 'A complex research process (22 archives and museums in 6 countries) and an extensive analysis of information on the researched subject (414 used and referent bibliography units and 88 units of published sources, archival documents and records and Schematisms were collected) preceded the definition of general theoretical knowledge.', 'Photo and technical documentation of the interior and exterior of the current situation for most of the studied objects (162) was completed during three years terrain research period.']\n",
      "9962\n"
     ]
    }
   ],
   "source": [
    "sentences_en = [sent_tokenize(text) for text in sci_cleaned['processed_abstract_en']]\n",
    "print(sentences_en[0])\n",
    "print(len(sentences_en))"
   ]
  },
  {
   "cell_type": "code",
   "execution_count": 44,
   "metadata": {},
   "outputs": [
    {
     "name": "stdout",
     "output_type": "stream",
     "text": [
      "[16, 1, 9, 1, 10, 7, 6, 10, 9, 8, 11, 5, 11, 14, 11, 4, 13, 7, 10, 14, 2, 1, 9, 11, 1, 7, 6, 8, 1, 12, 11, 1, 16, 4, 10, 8, 7, 7, 10, 11, 15, 9, 9, 11, 14, 21, 2, 1, 6, 9, 4, 10, 2, 12, 1, 13, 1, 1, 15, 8, 5, 15, 10, 10, 6, 6, 19, 14, 3, 10, 10, 7, 15, 11, 1, 5, 9, 8, 13, 17, 4, 5, 12, 2, 2, 6, 8, 7, 2, 10, 1, 2, 6, 3, 6, 11, 13, 4, 7, 6, 1, 9, 8, 8, 15, 4, 18, 9, 10, 16, 10, 8, 11, 10, 14, 12, 12, 9, 12, 2, 12, 9, 7, 11, 9, 10, 15, 14, 10, 13, 13, 9, 11, 13, 12, 12, 15, 11, 12, 8, 15, 10, 9, 8, 11, 9, 14, 9, 1, 3, 14, 10, 13, 10, 1, 11, 15, 8, 11, 12, 13, 17, 7, 12, 12, 12, 11, 9, 9, 11, 1, 7, 13, 12, 11, 10, 6, 8, 9, 13, 17, 1, 8, 14, 14, 14, 15, 10, 11, 5, 12, 11, 11, 10, 16, 8, 14, 15, 13, 14, 9, 13, 12, 10, 6, 10, 10, 15, 10, 12, 9, 15, 15, 13, 8, 15, 19, 10, 12, 7, 18, 16, 11, 15, 11, 14, 16, 9, 9, 12, 17, 11, 15, 14, 10, 13, 11, 17, 3, 23, 12, 13, 11, 17, 10, 11, 10, 15, 14, 17, 9, 12, 12, 11, 12, 10, 12, 17, 8, 12, 18, 11, 9, 12, 12, 11, 16, 10, 11, 15, 11, 11, 10, 11, 12, 10, 15, 15, 10, 16, 12, 13, 15, 10, 8, 11, 16, 9, 15, 17, 9, 14, 10, 15, 14, 14, 15, 13, 14, 23, 14, 16, 10, 9, 18, 13, 14, 9, 9, 14, 15, 16, 13, 14, 11, 11, 8, 14, 9, 11, 11, 15, 9, 13, 1, 12, 12, 11, 12, 10, 11, 12, 16, 11, 14, 10, 11, 10, 15, 10, 13, 13, 10, 11, 12, 10, 14, 10, 8, 11, 21, 8, 15, 17, 10, 14, 11, 15, 12, 16, 17, 10, 7, 12, 10, 12, 20, 15, 11, 13, 13, 7, 15, 11, 15, 9, 9, 11, 6, 9, 13, 10, 16, 16, 12, 9, 11, 15, 10, 10, 11, 12, 12, 17, 16, 8, 18, 11, 10, 14, 8, 13, 12, 15, 11, 13, 9, 25, 7, 13, 12, 13, 11, 13, 10, 12, 10, 6, 10, 11, 11, 11, 19, 18, 10, 14, 16, 14, 12, 13, 1, 9, 12, 14, 9, 14, 17, 4, 10, 13, 14, 13, 12, 18, 18, 9, 17, 17, 10, 15, 12, 14, 12, 10, 3, 7, 8, 15, 12, 15, 11, 12, 12, 13, 10, 11, 13, 10, 12, 14, 10, 14, 13, 3, 1, 11, 12, 14, 11, 8, 15, 10, 11, 17, 14, 9, 11, 13, 17, 13, 16, 14, 1, 2, 17, 7, 2, 12, 14, 10, 12, 10, 9, 16, 10, 9, 15, 17, 14, 11, 14, 14, 2, 8, 14, 15, 2, 14, 12, 14, 13, 16, 16, 12, 11, 18, 14, 12, 14, 1, 14, 11, 14, 1, 14, 15, 10, 12, 13, 9, 15, 11, 11, 19, 14, 13, 11, 11, 11, 13, 10, 11, 12, 8, 1, 10, 15, 15, 13, 15, 10, 12, 11, 13, 10, 11, 9, 4, 7, 15, 12, 10, 9, 12, 10, 12, 14, 17, 13, 10, 13, 15, 13, 10, 1, 12, 10, 18, 9, 18, 12, 8, 16, 15, 13, 12, 8, 10, 20, 12, 8, 10, 11, 10, 11, 1, 1, 11, 11, 12, 13, 9, 9, 14, 7, 12, 11, 16, 7, 19, 5, 15, 10, 8, 8, 8, 8, 6, 9, 9, 9, 10, 9, 14, 10, 13, 11, 13, 10, 8, 13, 10, 10, 12, 19, 15, 1, 2, 14, 12, 16, 9, 7, 22, 14, 11, 14, 11, 10, 14, 10, 6, 15, 14, 13, 4, 11, 12, 13, 11, 12, 8, 11, 1, 7, 1, 8, 11, 12, 7, 11, 15, 1, 6, 12, 9, 13, 19, 10, 14, 8, 14, 9, 3, 12, 23, 12, 14, 6, 12, 17, 7, 8, 5, 1, 8, 17, 7, 10, 6, 10, 2, 14, 17, 13, 9, 10, 9, 5, 11, 15, 13, 2, 3, 14, 8, 15, 15, 3, 11, 11, 12, 11, 8, 10, 2, 13, 18, 11, 11, 14, 17, 21, 7, 7, 14, 10, 12, 10, 7, 9, 11, 16, 12, 10, 7, 18, 5, 8, 16, 13, 11, 15, 2, 16, 9, 10, 15, 10, 14, 10, 10, 13, 9, 9, 13, 2, 16, 10, 12, 16, 9, 9, 9, 17, 9, 5, 18, 11, 12, 15, 11, 14, 6, 10, 11, 11, 6, 14, 17, 11, 14, 13, 13, 14, 15, 16, 7, 9, 6, 10, 11, 3, 12, 10, 15, 15, 9, 9, 3, 18, 9, 19, 14, 19, 15, 12, 6, 18, 16, 5, 9, 13, 12, 12, 15, 22, 13, 15, 17, 12, 10, 1, 16, 24, 7, 15, 8, 15, 15, 17, 11, 10, 19, 5, 19, 6, 19, 15, 20, 16, 14, 6, 3, 12, 4, 20, 13, 5, 11, 15, 11, 12, 17, 7, 16, 15, 18, 8, 13, 1, 15, 12, 15, 6, 18, 5, 11, 16, 5, 12, 14, 12, 19, 3, 11, 17, 2, 11, 15, 13, 11, 6, 11, 21, 12, 8, 17, 12, 15, 13, 18, 9, 17, 9, 8, 1, 17, 10, 1, 6, 5, 5, 14, 14, 7, 13, 9, 14, 1, 5, 11, 8, 2, 16, 2, 8, 16, 9, 8, 1, 14, 12, 13, 10, 19, 7, 9, 11, 5, 18, 13, 14, 14, 9, 6, 18, 19, 11, 3, 9, 13, 6, 16, 8, 10, 3, 3, 19, 6, 2, 12, 10, 10, 12, 17, 11, 3, 3, 15, 7, 12, 11, 4, 11, 15, 17, 23, 6, 7, 12, 9, 14, 15, 8, 3, 12, 1, 6, 12, 17, 11, 10, 6, 8, 16, 12, 17, 9, 15, 15, 7, 1, 11, 14, 10, 16, 13, 14, 18, 17, 3, 12, 17, 23, 15, 17, 1, 1, 4, 10, 14, 3, 3, 1, 11, 10, 7, 1, 16, 5, 2, 17, 1, 10, 10, 1, 15, 4, 16, 12, 2, 13, 2, 1, 4, 1, 1, 17, 1, 12, 20, 14, 4, 6, 12, 1, 8, 13, 7, 6, 15, 7, 15, 6, 15, 14, 6, 23, 7, 14, 17, 12, 16, 7, 10, 8, 8, 16, 13, 9, 9, 5, 22, 17, 17, 15, 10, 15, 15, 8, 15, 6, 5, 14, 13, 5, 13, 8, 3, 1, 9, 17, 4, 2, 1, 13, 11, 13, 19, 12, 16, 8, 5, 11, 3, 1, 11, 7, 11, 14, 7, 20, 14, 3, 4, 6, 10, 11, 10, 19, 20, 2, 13, 15, 6, 10, 12, 3, 17, 9, 13, 8, 8, 7, 7, 8, 5, 11, 4, 8, 10, 14, 12, 9, 7, 3, 1, 11, 1, 8, 16, 11, 9, 16, 9, 12, 15, 12, 16, 12, 17, 10, 10, 19, 1, 12, 16, 13, 16, 16, 9, 11, 14, 6, 17, 8, 17, 11, 2, 13, 13, 11, 12, 18, 8, 18, 10, 9, 7, 9, 16, 16, 4, 10, 16, 9, 5, 8, 12, 13, 11, 18, 13, 12, 8, 1, 12, 11, 1, 3, 16, 11, 10, 15, 10, 8, 9, 15, 11, 13, 6, 10, 9, 13, 15, 13, 9, 4, 9, 2, 6, 12, 17, 9, 7, 13, 16, 1, 14, 12, 15, 3, 2, 3, 2, 8, 1, 15, 7, 9, 15, 12, 14, 7, 14, 10, 11, 6, 9, 13, 11, 15, 12, 12, 10, 15, 11, 10, 8, 2, 16, 24, 12, 13, 15, 12, 4, 9, 7, 12, 11, 9, 12, 9, 10, 11, 10, 9, 8, 18, 13, 12, 10, 3, 15, 13, 9, 10, 13, 11, 18, 12, 7, 11, 11, 10, 15, 7, 9, 10, 15, 18, 13, 19, 15, 9, 11, 12, 11, 17, 11, 9, 10, 12, 9, 9, 15, 12, 10, 16, 12, 15, 14, 1, 13, 16, 11, 21, 8, 17, 14, 13, 10, 12, 14, 10, 14, 1, 8, 15, 9, 11, 18, 13, 18, 7, 13, 1, 11, 11, 15, 12, 19, 10, 13, 15, 1, 15, 10, 11, 14, 13, 13, 8, 13, 13, 14, 13, 6, 15, 7, 15, 19, 6, 15, 19, 10, 13, 16, 15, 17, 9, 9, 12, 8, 6, 11, 9, 10, 10, 10, 11, 12, 16, 11, 10, 13, 9, 11, 13, 13, 8, 10, 15, 9, 20, 10, 13, 10, 14, 15, 12, 9, 9, 17, 14, 10, 15, 9, 10, 1, 7, 15, 4, 13, 13, 16, 10, 13, 11, 12, 12, 10, 17, 1, 9, 18, 13, 16, 15, 8, 13, 9, 11, 14, 14, 13, 9, 14, 19, 13, 14, 13, 7, 14, 11, 12, 9, 15, 9, 14, 21, 9, 13, 15, 15, 9, 16, 17, 14, 14, 9, 12, 10, 14, 9, 11, 14, 9, 16, 3, 14, 10, 13, 17, 14, 14, 11, 15, 10, 12, 9, 13, 7, 17, 11, 9, 14, 11, 17, 15, 11, 10, 10, 8, 7, 8, 12, 10, 10, 11, 16, 16, 8, 14, 11, 5, 11, 7, 10, 19, 12, 10, 11, 8, 14, 9, 10, 12, 8, 12, 19, 16, 10, 14, 14, 13, 16, 11, 7, 17, 6, 9, 10, 13, 12, 9, 7, 10, 14, 14, 13, 13, 14, 13, 13, 16, 9, 15, 11, 11, 14, 12, 18, 10, 21, 12, 19, 13, 10, 13, 15, 11, 11, 17, 10, 11, 8, 10, 10, 18, 9, 13, 16, 14, 17, 17, 12, 14, 12, 11, 23, 10, 12, 8, 13, 9, 14, 11, 9, 9, 12, 8, 11, 15, 13, 14, 10, 7, 11, 10, 17, 7, 13, 13, 15, 6, 11, 13, 15, 14, 10, 5, 14, 10, 11, 11, 9, 10, 8, 5, 8, 18, 16, 14, 15, 7, 14, 11, 17, 11, 14, 14, 11, 13, 14, 13, 10, 10, 10, 12, 16, 12, 10, 10, 9, 10, 13, 10, 16, 13, 11, 10, 6, 14, 13, 5, 12, 14, 15, 10, 11, 8, 13, 10, 12, 10, 20, 7, 9, 8, 12, 14, 14, 9, 11, 15, 15, 13, 11, 13, 16, 9, 20, 12, 13, 13, 18, 17, 11, 15, 14, 14, 8, 14, 10, 10, 14, 17, 14, 13, 9, 15, 8, 10, 10, 14, 20, 11, 13, 10, 17, 6, 10, 11, 18, 15, 12, 3, 10, 9, 12, 18, 11, 9, 10, 11, 10, 10, 14, 11, 18, 13, 16, 15, 13, 12, 10, 6, 14, 15, 20, 17, 13, 10, 14, 11, 13, 9, 7, 14, 13, 9, 7, 12, 11, 9, 16, 15, 12, 13, 10, 7, 10, 11, 18, 15, 10, 15, 11, 12, 8, 5, 14, 16, 14, 8, 11, 11, 1, 12, 14, 14, 9, 10, 16, 15, 11, 3, 13, 14, 16, 13, 15, 15, 7, 1, 22, 15, 1, 11, 12, 9, 3, 17, 10, 12, 11, 11, 9, 16, 17, 6, 14, 8, 16, 13, 9, 13, 16, 14, 14, 11, 8, 13, 12, 1, 14, 13, 13, 14, 19, 14, 14, 11, 10, 21, 10, 10, 17, 11, 14, 13, 13, 12, 15, 12, 14, 11, 10, 13, 14, 13, 11, 6, 1, 7, 8, 14, 14, 10, 12, 11, 12, 13, 9, 17, 14, 7, 13, 12, 12, 8, 10, 15, 12, 13, 12, 12, 13, 13, 15, 11, 18, 8, 17, 14, 14, 11, 12, 8, 14, 2, 13, 15, 12, 6, 5, 20, 13, 14, 9, 5, 11, 15, 11, 11, 7, 10, 9, 10, 9, 12, 1, 13, 7, 9, 8, 4, 6, 10, 9, 15, 18, 18, 12, 12, 15, 14, 10, 17, 18, 13, 13, 1, 14, 12, 15, 7, 4, 15, 10, 15, 12, 10, 11, 12, 8, 9, 11, 7, 9, 9, 12, 11, 12, 14, 10, 11, 13, 1, 14, 11, 14, 12, 10, 13, 19, 11, 18, 12, 12, 9, 8, 11, 13, 10, 13, 14, 12, 8, 18, 5, 11, 13, 10, 12, 7, 15, 14, 1, 13, 11, 13, 14, 21, 13, 18, 8, 16, 10, 11, 6, 9, 9, 14, 20, 21, 13, 11, 6, 6, 17, 19, 1, 11, 13, 21, 9, 16, 10, 5, 15, 10, 13, 8, 11, 11, 12, 4, 12, 12, 12, 12, 1, 15, 11, 14, 16, 15, 12, 13, 6, 13, 13, 7, 6, 11, 5, 13, 12, 14, 15, 13, 3, 17, 9, 17, 14, 14, 14, 10, 10, 16, 14, 14, 3, 12, 11, 7, 12, 1, 14, 3, 2, 13, 15, 8, 16, 11, 9, 13, 6, 8, 3, 9, 9, 5, 12, 12, 11, 12, 9, 11, 4, 11, 5, 14, 18, 7, 8, 9, 15, 6, 4, 15, 7, 7, 15, 11, 14, 18, 15, 12, 10, 12, 11, 12, 9, 15, 16, 14, 15, 14, 14, 13, 8, 13, 6, 10, 7, 16, 12, 7, 8, 12, 12, 10, 16, 10, 8, 2, 8, 13, 16, 5, 12, 10, 12, 14, 11, 11, 14, 9, 16, 13, 3, 14, 9, 11, 15, 11, 15, 11, 9, 1, 9, 13, 12, 6, 7, 10, 9, 1, 11, 18, 11, 8, 11, 17, 15, 11, 2, 15, 13, 9, 6, 9, 10, 7, 13, 12, 11, 11, 14, 1, 8, 4, 13, 10, 8, 13, 12, 13, 13, 10, 11, 9, 9, 9, 18, 14, 11, 15, 8, 13, 9, 12, 11, 13, 7, 16, 6, 8, 13, 15, 13, 13, 6, 9, 11, 10, 8, 12, 7, 12, 18, 24, 13, 6, 10, 14, 11, 13, 9, 12, 16, 14, 8, 16, 13, 7, 14, 13, 8, 21, 11, 12, 18, 11, 12, 16, 18, 13, 10, 11, 5, 6, 10, 8, 12, 20, 13, 12, 11, 5, 11, 10, 11, 14, 11, 9, 11, 15, 18, 12, 18, 10, 11, 10, 10, 13, 16, 10, 11, 8, 10, 19, 12, 8, 14, 12, 18, 11, 17, 15, 8, 11, 12, 8, 15, 16, 1, 9, 12, 12, 15, 16, 14, 3, 13, 5, 10, 14, 13, 14, 14, 6, 17, 15, 11, 12, 13, 6, 17, 14, 14, 20, 16, 10, 9, 14, 11, 8, 15, 12, 24, 11, 11, 13, 14, 14, 17, 15, 8, 9, 8, 12, 10, 10, 1, 10, 15, 10, 7, 17, 12, 6, 7, 14, 7, 10, 10, 11, 10, 13, 1, 12, 8, 9, 11, 9, 17, 7, 1, 17, 11, 8, 12, 7, 18, 9, 7, 16, 12, 19, 12, 6, 14, 15, 2, 16, 11, 15, 10, 15, 7, 12, 14, 3, 12, 9, 12, 13, 21, 2, 10, 14, 10, 15, 8, 11, 15, 12, 2, 11, 11, 9, 9, 13, 11, 10, 1, 18, 17, 10, 5, 8, 11, 5, 13, 13, 9, 9, 9, 16, 8, 16, 10, 9, 16, 12, 1, 15, 6, 16, 14, 13, 17, 14, 10, 15, 13, 9, 9, 3, 17, 2, 14, 15, 12, 12, 12, 3, 11, 11, 11, 13, 17, 12, 17, 10, 11, 9, 14, 7, 11, 20, 18, 4, 12, 9, 10, 8, 3, 20, 15, 12, 2, 1, 8, 12, 4, 1, 5, 15, 12, 3, 9, 4, 9, 15, 3, 7, 14, 18, 12, 6, 9, 12, 6, 10, 14, 12, 16, 12, 17, 10, 9, 10, 14, 13, 8, 14, 18, 18, 13, 15, 2, 10, 13, 10, 5, 14, 4, 12, 10, 6, 12, 13, 6, 4, 12, 7, 17, 9, 12, 12, 5, 14, 11, 13, 3, 6, 7, 1, 11, 10, 4, 4, 1, 12, 12, 14, 3, 1, 8, 16, 11, 13, 9, 19, 8, 2, 5, 1, 4, 5, 4, 12, 2, 1, 14, 8, 2, 6, 5, 8, 14, 6, 12, 14, 11, 9, 15, 1, 12, 9, 5, 16, 7, 3, 8, 8, 11, 6, 11, 15, 3, 9, 4, 11, 2, 19, 13, 16, 10, 13, 25, 9, 7, 16, 12, 17, 12, 13, 13, 2, 14, 12, 14, 17, 18, 13, 12, 1, 10, 11, 11, 10, 1, 11, 8, 3, 10, 14, 13, 16, 1, 9, 20, 12, 5, 12, 12, 14, 14, 9, 13, 19, 18, 14, 15, 14, 13, 12, 12, 6, 13, 17, 12, 3, 11, 9, 10, 16, 16, 11, 14, 14, 9, 13, 11, 19, 17, 14, 12, 12, 19, 3, 11, 6, 3, 16, 20, 8, 11, 3, 3, 2, 8, 2, 10, 7, 15, 11, 6, 3, 10, 14, 12, 12, 11, 13, 8, 14, 16, 8, 13, 10, 17, 14, 9, 1, 12, 15, 18, 10, 20, 11, 16, 17, 3, 15, 13, 12, 1, 19, 14, 11, 12, 12, 8, 13, 14, 11, 17, 12, 6, 16, 13, 14, 16, 12, 16, 8, 11, 17, 14, 8, 16, 14, 13, 14, 14, 8, 13, 12, 3, 14, 1, 15, 15, 20, 12, 11, 13, 16, 14, 12, 14, 5, 15, 13, 16, 19, 14, 10, 14, 11, 15, 13, 13, 10, 9, 17, 15, 11, 10, 2, 12, 14, 15, 17, 5, 12, 13, 1, 12, 18, 7, 11, 15, 11, 5, 3, 3, 13, 7, 11, 9, 16, 12, 15, 11, 3, 11, 16, 11, 11, 16, 12, 14, 14, 15, 14, 4, 14, 12, 11, 11, 10, 15, 12, 5, 18, 10, 7, 10, 11, 16, 11, 13, 12, 13, 18, 16, 2, 9, 12, 17, 12, 6, 14, 13, 14, 7, 9, 2, 13, 12, 12, 3, 18, 1, 14, 9, 12, 5, 10, 17, 13, 4, 16, 12, 11, 9, 15, 15, 11, 9, 12, 11, 12, 12, 1, 17, 9, 12, 11, 12, 1, 8, 10, 10, 10, 10, 13, 11, 15, 13, 12, 10, 6, 12, 15, 10, 6, 14, 14, 17, 11, 12, 8, 16, 4, 16, 11, 14, 9, 11, 14, 18, 19, 11, 9, 3, 9, 11, 11, 11, 13, 10, 10, 9, 11, 11, 16, 14, 18, 13, 10, 4, 12, 7, 10, 19, 14, 6, 12, 13, 9, 12, 10, 14, 10, 14, 10, 3, 14, 2, 1, 13, 14, 10, 18, 8, 1, 7, 14, 20, 12, 11, 12, 17, 13, 15, 11, 13, 12, 11, 20, 13, 12, 10, 13, 8, 8, 14, 12, 11, 10, 7, 9, 19, 13, 7, 12, 13, 10, 11, 14, 14, 9, 9, 11, 3, 12, 11, 11, 7, 14, 15, 3, 14, 12, 16, 10, 19, 15, 13, 13, 14, 9, 10, 10, 12, 9, 14, 7, 11, 1, 13, 9, 14, 10, 12, 7, 8, 12, 12, 7, 8, 9, 14, 11, 10, 4, 9, 6, 4, 10, 10, 13, 12, 9, 14, 10, 5, 15, 4, 10, 6, 11, 20, 1, 16, 13, 15, 7, 13, 6, 9, 9, 12, 10, 7, 10, 13, 10, 13, 10, 6, 19, 13, 19, 9, 10, 11, 12, 13, 9, 14, 9, 14, 11, 13, 15, 14, 11, 13, 8, 14, 5, 11, 7, 11, 10, 13, 16, 13, 9, 10, 10, 16, 15, 10, 10, 14, 14, 8, 12, 8, 20, 15, 1, 12, 11, 7, 16, 7, 11, 9, 3, 15, 12, 12, 18, 2, 12, 11, 11, 15, 6, 20, 2, 9, 12, 10, 6, 13, 16, 13, 11, 6, 12, 13, 21, 14, 11, 10, 15, 9, 11, 8, 17, 13, 9, 10, 1, 14, 3, 14, 8, 10, 10, 13, 2, 9, 11, 9, 12, 18, 13, 2, 7, 10, 15, 10, 2, 12, 11, 13, 2, 2, 10, 13, 11, 15, 17, 8, 2, 7, 14, 11, 12, 17, 11, 15, 15, 9, 18, 15, 14, 12, 13, 5, 10, 15, 15, 16, 10, 11, 14, 1, 10, 12, 18, 13, 8, 5, 15, 19, 16, 13, 13, 10, 13, 8, 16, 13, 15, 13, 12, 16, 14, 18, 11, 16, 16, 13, 10, 14, 13, 11, 4, 14, 15, 17, 16, 10, 4, 12, 12, 10, 15, 8, 12, 8, 13, 14, 9, 1, 11, 9, 10, 9, 4, 7, 4, 13, 11, 13, 2, 20, 7, 12, 15, 11, 2, 13, 12, 8, 16, 9, 12, 16, 9, 7, 10, 12, 13, 12, 11, 7, 6, 8, 10, 13, 6, 17, 14, 11, 14, 9, 12, 7, 10, 6, 9, 12, 13, 9, 8, 14, 5, 7, 12, 12, 4, 12, 20, 11, 6, 14, 9, 7, 8, 8, 10, 12, 14, 14, 17, 15, 16, 1, 10, 8, 10, 13, 10, 12, 10, 6, 5, 6, 13, 6, 10, 12, 14, 14, 9, 7, 12, 5, 10, 14, 13, 15, 1, 12, 16, 7, 9, 17, 10, 9, 10, 11, 7, 20, 9, 1, 13, 10, 3, 9, 11, 10, 16, 12, 12, 9, 7, 17, 1, 8, 10, 11, 9, 15, 13, 9, 10, 2, 10, 5, 17, 12, 12, 11, 1, 9, 11, 9, 3, 1, 11, 10, 17, 12, 9, 17, 13, 12, 9, 10, 10, 11, 10, 13, 9, 9, 20, 12, 8, 10, 11, 16, 12, 18, 1, 13, 3, 8, 9, 9, 17, 3, 13, 14, 8, 8, 11, 7, 14, 15, 13, 7, 5, 9, 8, 8, 10, 20, 10, 12, 15, 15, 1, 11, 17, 14, 9, 5, 12, 7, 12, 1, 10, 9, 9, 12, 9, 11, 10, 16, 9, 10, 12, 1, 12, 11, 12, 11, 11, 17, 10, 12, 16, 12, 11, 12, 11, 23, 7, 12, 15, 15, 15, 9, 3, 10, 13, 8, 9, 15, 14, 14, 10, 8, 13, 10, 14, 19, 10, 19, 8, 17, 12, 15, 4, 16, 17, 11, 11, 11, 13, 6, 11, 17, 12, 16, 8, 9, 17, 14, 9, 14, 11, 10, 18, 7, 8, 11, 10, 9, 11, 13, 21, 7, 12, 13, 14, 8, 22, 5, 11, 7, 5, 18, 8, 10, 5, 12, 12, 6, 1, 9, 7, 11, 11, 15, 10, 10, 14, 13, 9, 16, 19, 13, 10, 8, 11, 16, 10, 12, 9, 10, 16, 13, 17, 14, 12, 12, 9, 15, 9, 13, 12, 17, 13, 13, 8, 14, 5, 17, 5, 12, 12, 8, 12, 16, 10, 15, 9, 15, 16, 10, 9, 15, 3, 14, 8, 16, 12, 14, 14, 15, 8, 10, 16, 6, 6, 3, 13, 11, 15, 12, 10, 9, 13, 13, 13, 10, 11, 8, 8, 9, 11, 7, 17, 16, 11, 13, 10, 10, 11, 10, 10, 10, 7, 13, 12, 12, 7, 4, 6, 10, 10, 5, 14, 11, 11, 9, 6, 8, 16, 9, 11, 11, 12, 9, 11, 14, 13, 6, 10, 17, 12, 14, 12, 8, 15, 19, 9, 9, 10, 17, 15, 26, 14, 15, 10, 15, 5, 13, 18, 14, 15, 10, 11, 8, 15, 16, 14, 8, 10, 14, 6, 8, 17, 13, 13, 19, 7, 13, 18, 10, 12, 12, 8, 3, 5, 9, 1, 12, 13, 6, 13, 14, 4, 12, 11, 14, 13, 11, 10, 12, 11, 8, 11, 5, 16, 9, 12, 9, 1, 15, 4, 14, 6, 19, 9, 8, 6, 12, 13, 7, 12, 8, 10, 15, 8, 4, 7, 20, 3, 10, 10, 10, 19, 1, 14, 4, 1, 6, 7, 7, 14, 15, 9, 16, 11, 19, 10, 9, 9, 15, 12, 6, 18, 13, 7, 19, 13, 7, 11, 11, 10, 19, 13, 7, 17, 17, 11, 17, 12, 15, 3, 10, 9, 20, 9, 16, 16, 14, 13, 13, 5, 3, 8, 11, 13, 9, 6, 11, 12, 2, 20, 11, 11, 19, 9, 13, 15, 11, 19, 4, 10, 6, 11, 8, 11, 16, 5, 10, 11, 11, 10, 17, 13, 4, 5, 15, 5, 4, 1, 5, 3, 6, 17, 8, 4, 9, 15, 12, 12, 10, 9, 7, 8, 12, 11, 5, 1, 1, 11, 16, 7, 6, 11, 3, 2, 8, 1, 1, 6, 8, 7, 3, 13, 9, 13, 1, 15, 1, 10, 10, 13, 1, 18, 12, 16, 2, 16, 1, 8, 8, 11, 11, 11, 14, 16, 15, 16, 17, 12, 11, 11, 12, 11, 13, 14, 16, 5, 16, 8, 12, 16, 13, 14, 19, 16, 6, 7, 4, 2, 10, 12, 8, 11, 12, 7, 13, 19, 16, 12, 16, 13, 16, 9, 12, 9, 6, 15, 6, 7, 6, 11, 15, 6, 15, 9, 10, 11, 10, 10, 17, 9, 11, 11, 11, 10, 15, 9, 2, 1, 18, 8, 10, 16, 8, 6, 5, 6, 8, 11, 16, 1, 10, 1, 1, 4, 11, 17, 9, 12, 13, 14, 16, 20, 2, 17, 5, 10, 12, 13, 12, 15, 9, 14, 8, 10, 6, 6, 14, 6, 6, 2, 9, 12, 9, 17, 12, 7, 12, 4, 4, 9, 13, 10, 7, 14, 13, 8, 13, 7, 12, 16, 5, 6, 11, 11, 12, 7, 17, 17, 12, 1, 13, 7, 15, 8, 1, 11, 12, 10, 9, 23, 6, 4, 8, 18, 7, 1, 6, 13, 10, 5, 9, 5, 3, 11, 10, 7, 7, 12, 10, 7, 6, 13, 10, 6, 11, 5, 5, 16, 4, 10, 11, 4, 15, 9, 14, 6, 9, 4, 9, 16, 7, 4, 6, 10, 4, 10, 5, 4, 15, 8, 12, 7, 4, 7, 11, 18, 10, 14, 13, 10, 10, 15, 15, 10, 13, 11, 15, 16, 2, 10, 16, 15, 6, 11, 7, 11, 14, 13, 14, 9, 11, 7, 2, 6, 8, 7, 1, 9, 6, 15, 14, 13, 4, 11, 15, 13, 13, 10, 13, 5, 9, 18, 14, 8, 5, 16, 14, 11, 6, 12, 13, 5, 9, 13, 9, 5, 13, 12, 2, 8, 17, 7, 10, 10, 15, 7, 18, 14, 5, 9, 9, 10, 5, 3, 9, 9, 3, 1, 8, 16, 2, 11, 12, 8, 17, 5, 4, 16, 12, 13, 10, 3, 11, 5, 13, 2, 10, 16, 5, 2, 10, 9, 10, 7, 11, 2, 3, 14, 11, 13, 12, 10, 14, 3, 3, 11, 6, 12, 12, 1, 13, 12, 11, 5, 8, 9, 9, 3, 13, 11, 12, 12, 7, 10, 14, 10, 9, 4, 13, 7, 9, 6, 6, 10, 20, 11, 8, 6, 11, 13, 14, 10, 12, 12, 15, 5, 4, 9, 6, 10, 16, 5, 22, 12, 15, 15, 13, 8, 16, 6, 7, 1, 12, 8, 9, 6, 16, 7, 9, 10, 10, 5, 3, 5, 14, 11, 7, 14, 7, 7, 5, 14, 15, 11, 10, 13, 15, 18, 3, 12, 16, 15, 10, 8, 12, 9, 16, 8, 14, 9, 9, 13, 21, 15, 15, 11, 13, 13, 8, 1, 12, 4, 10, 9, 11, 8, 16, 12, 14, 3, 9, 5, 15, 2, 2, 10, 5, 10, 10, 15, 11, 13, 11, 4, 13, 3, 10, 10, 19, 6, 14, 7, 14, 20, 4, 10, 17, 15, 12, 7, 3, 14, 14, 14, 2, 2, 8, 7, 10, 15, 9, 7, 8, 17, 10, 3, 13, 13, 11, 15, 10, 19, 7, 8, 4, 11, 6, 7, 6, 8, 5, 6, 12, 13, 6, 21, 10, 2, 11, 9, 6, 15, 8, 3, 15, 9, 7, 5, 7, 11, 12, 11, 11, 6, 10, 14, 12, 15, 14, 19, 4, 10, 12, 14, 16, 14, 9, 10, 14, 13, 14, 8, 17, 18, 7, 4, 12, 17, 4, 10, 11, 12, 7, 19, 13, 8, 14, 9, 10, 7, 9, 10, 2, 6, 11, 9, 10, 13, 5, 16, 10, 7, 4, 2, 5, 11, 10, 1, 17, 18, 14, 6, 5, 14, 4, 5, 6, 2, 10, 9, 14, 11, 9, 14, 20, 6, 17, 15, 6, 11, 10, 1, 8, 5, 10, 3, 11, 16, 4, 11, 11, 14, 11, 11, 6, 5, 6, 13, 4, 6, 2, 16, 8, 13, 12, 9, 13, 17, 14, 9, 13, 15, 11, 16, 14, 9, 15, 4, 9, 16, 8, 14, 8, 14, 4, 14, 5, 12, 12, 7, 8, 13, 12, 4, 4, 1, 9, 8, 11, 15, 10, 16, 17, 23, 11, 8, 13, 8, 7, 11, 13, 15, 18, 3, 4, 15, 13, 11, 10, 19, 13, 19, 11, 9, 15, 9, 13, 3, 13, 15, 15, 12, 14, 11, 10, 15, 3, 11, 5, 11, 10, 13, 9, 8, 12, 8, 10, 18, 12, 13, 6, 12, 11, 1, 15, 9, 15, 8, 13, 12, 19, 16, 16, 13, 19, 28, 12, 12, 8, 18, 11, 19, 16, 12, 10, 10, 12, 15, 18, 17, 5, 17, 8, 14, 12, 15, 12, 13, 8, 15, 13, 11, 6, 2, 3, 11, 1, 9, 11, 12, 3, 8, 1, 1, 1, 13, 9, 15, 10, 13, 10, 11, 10, 13, 8, 8, 12, 13, 12, 3, 5, 9, 11, 3, 12, 12, 7, 4, 9, 20, 6, 5, 15, 3, 16, 9, 10, 15, 3, 12, 3, 9, 11, 11, 14, 11, 17, 1, 15, 12, 5, 15, 12, 13, 3, 3, 9, 15, 9, 9, 9, 4, 6, 18, 9, 16, 14, 1, 13, 21, 15, 13, 9, 20, 10, 11, 11, 14, 15, 18, 14, 15, 11, 12, 12, 10, 18, 5, 7, 12, 13, 6, 6, 2, 3, 7, 5, 9, 23, 7, 10, 6, 9, 8, 12, 16, 14, 14, 7, 16, 15, 14, 6, 6, 7, 6, 6, 7, 6, 4, 3, 10, 2, 4, 7, 6, 5, 5, 4, 5, 12, 7, 2, 5, 5, 9, 5, 7, 9, 5, 3, 13, 3, 11, 3, 8, 12, 8, 9, 7, 4, 2, 2, 4, 11, 6, 3, 8, 3, 10, 2, 6, 6, 8, 14, 5, 8, 18, 15, 7, 14, 3, 6, 13, 7, 10, 9, 14, 17, 8, 4, 6, 11, 6, 12, 14, 16, 11, 12, 8, 11, 7, 7, 12, 6, 8, 15, 10, 12, 12, 11, 5, 6, 11, 6, 12, 2, 1, 13, 7, 8, 6, 12, 6, 8, 10, 15, 6, 14, 15, 11, 8, 11, 7, 1, 9, 14, 8, 8, 10, 5, 11, 6, 3, 8, 9, 6, 7, 10, 3, 5, 11, 8, 4, 15, 16, 8, 9, 10, 13, 11, 21, 7, 13, 10, 7, 3, 14, 12, 18, 14, 11, 11, 5, 10, 5, 10, 6, 12, 13, 11, 17, 6, 2, 14, 6, 10, 12, 14, 16, 8, 8, 11, 15, 10, 13, 10, 17, 11, 17, 6, 14, 12, 14, 12, 7, 22, 7, 7, 15, 4, 9, 4, 10, 13, 12, 16, 14, 11, 16, 5, 4, 14, 11, 5, 10, 7, 18, 14, 12, 11, 9, 13, 9, 18, 14, 8, 13, 10, 9, 14, 12, 9, 16, 13, 8, 11, 10, 11, 11, 16, 12, 12, 17, 5, 9, 10, 16, 17, 8, 4, 16, 14, 6, 17, 8, 10, 9, 10, 12, 9, 21, 14, 11, 7, 15, 9, 15, 15, 13, 11, 7, 12, 14, 12, 14, 14, 14, 10, 11, 19, 12, 13, 18, 5, 11, 12, 9, 8, 8, 12, 10, 14, 3, 11, 6, 12, 13, 23, 14, 12, 12, 4, 2, 8, 9, 17, 21, 8, 9, 7, 9, 15, 11, 10, 15, 8, 7, 7, 5, 11, 12, 10, 11, 12, 7, 9, 13, 15, 12, 20, 9, 14, 12, 7, 16, 11, 12, 7, 7, 11, 14, 18, 16, 19, 14, 17, 12, 22, 14, 13, 13, 15, 15, 11, 6, 18, 6, 14, 18, 17, 11, 17, 8, 16, 14, 15, 10, 6, 11, 5, 14, 7, 15, 16, 7, 5, 14, 9, 10, 15, 14, 14, 17, 7, 12, 13, 15, 12, 13, 17, 18, 10, 16, 10, 13, 10, 10, 16, 11, 20, 9, 12, 16, 14, 4, 12, 14, 9, 9, 6, 12, 14, 13, 12, 11, 17, 11, 18, 19, 18, 14, 12, 13, 14, 20, 12, 13, 17, 10, 14, 16, 6, 20, 3, 14, 9, 13, 9, 13, 12, 16, 10, 11, 7, 14, 14, 18, 11, 10, 7, 11, 13, 25, 11, 14, 16, 7, 8, 17, 10, 9, 15, 11, 14, 6, 2, 15, 7, 11, 7, 16, 4, 12, 10, 10, 13, 14, 13, 3, 9, 4, 14, 17, 5, 12, 5, 12, 7, 13, 4, 21, 14, 19, 13, 6, 14, 13, 4, 12, 10, 12, 14, 11, 2, 14, 2, 15, 13, 7, 13, 12, 2, 9, 3, 9, 2, 5, 10, 11, 4, 7, 16, 9, 3, 4, 12, 10, 19, 12, 4, 8, 8, 14, 5, 10, 15, 14, 4, 17, 17, 15, 11, 3, 6, 15, 16, 15, 15, 16, 15, 12, 6, 5, 7, 11, 15, 9, 14, 7, 13, 3, 7, 7, 7, 11, 5, 12, 8, 3, 4, 2, 4, 11, 12, 11, 7, 6, 2, 3, 8, 12, 5, 15, 8, 14, 14, 15, 13, 8, 13, 13, 13, 5, 13, 12, 16, 13, 16, 19, 14, 11, 7, 7, 15, 9, 16, 4, 9, 10, 7, 5, 7, 10, 7, 14, 16, 7, 16, 9, 18, 10, 7, 9, 9, 8, 6, 11, 14, 9, 16, 12, 18, 8, 15, 8, 10, 5, 14, 3, 2, 14, 22, 13, 15, 15, 13, 17, 8, 20, 11, 16, 10, 10, 13, 3, 14, 19, 8, 5, 10, 3, 18, 11, 11, 4, 11, 3, 15, 11, 7, 14, 11, 14, 7, 11, 21, 11, 11, 18, 10, 10, 9, 11, 4, 14, 7, 10, 11, 10, 10, 21, 15, 14, 9, 12, 4, 6, 11, 12, 5, 7, 3, 4, 13, 15, 5, 7, 9, 5, 19, 6, 15, 7, 8, 12, 9, 16, 19, 11, 19, 11, 11, 14, 14, 9, 5, 12, 6, 7, 2, 6, 3, 11, 16, 12, 7, 6, 13, 10, 7, 10, 8, 16, 7, 6, 15, 10, 11, 7, 3, 8, 12, 12, 3, 7, 10, 15, 16, 10, 16, 9, 15, 9, 12, 8, 4, 5, 19, 16, 10, 16, 13, 20, 13, 15, 12, 18, 16, 13, 3, 15, 14, 11, 4, 15, 15, 3, 16, 10, 3, 20, 19, 11, 4, 19, 13, 13, 11, 9, 19, 8, 7, 15, 4, 3, 7, 4, 9, 6, 6, 5, 4, 12, 8, 14, 4, 21, 6, 2, 3, 5, 4, 2, 11, 5, 6, 5, 14, 3, 3, 16, 9, 6, 3, 5, 8, 4, 4, 12, 12, 17, 11, 6, 13, 12, 16, 8, 13, 10, 12, 19, 13, 7, 8, 5, 8, 7, 10, 9, 9, 8, 4, 10, 4, 1, 7, 6, 11, 1, 12, 12, 10, 6, 8, 2, 8, 5, 9, 14, 14, 8, 5, 15, 14, 15, 12, 9, 8, 12, 11, 11, 20, 8, 20, 12, 10, 11, 9, 17, 11, 7, 8, 14, 6, 13, 14, 10, 14, 15, 16, 3, 11, 3, 14, 13, 4, 15, 13, 7, 19, 1, 12, 10, 14, 3, 10, 9, 10, 16, 12, 10, 10, 10, 3, 19, 11, 6, 13, 20, 18, 8, 6, 9, 10, 11, 12, 10, 10, 10, 7, 12, 5, 11, 12, 10, 9, 10, 17, 12, 9, 11, 13, 10, 5, 8, 6, 10, 8, 14, 4, 8, 16, 20, 6, 9, 7, 11, 12, 8, 6, 10, 7, 17, 8, 7, 12, 10, 10, 6, 11, 12, 9, 15, 11, 19, 15, 10, 9, 14, 7, 4, 9, 16, 9, 10, 13, 15, 17, 13, 12, 15, 18, 11, 11, 7, 8, 12, 8, 9, 4, 16, 13, 3, 4, 13, 5, 7, 12, 4, 16, 2, 11, 8, 7, 12, 11, 11, 10, 11, 12, 7, 8, 16, 18, 11, 6, 6, 17, 16, 12, 16, 13, 14, 14, 9, 4, 9, 17, 5, 2, 15, 10, 4, 9, 9, 8, 4, 11, 14, 17, 15, 9, 14, 15, 13, 10, 13, 13, 3, 11, 7, 15, 4, 11, 6, 6, 5, 5, 16, 5, 10, 3, 14, 8, 10, 7, 12, 4, 4, 9, 5, 8, 3, 5, 15, 7, 4, 12, 15, 4, 12, 12, 3, 9, 5, 7, 3, 12, 2, 6, 4, 6, 5, 13, 7, 3, 8, 4, 4, 10, 3, 4, 12, 5, 8, 3, 4, 7, 17, 4, 11, 15, 11, 8, 4, 3, 4, 11, 15, 2, 19, 18, 3, 9, 12, 4, 9, 11, 7, 3, 13, 8, 12, 12, 8, 6, 10, 3, 17, 3, 6, 12, 11, 13, 12, 10, 10, 5, 18, 4, 4, 15, 18, 10, 16, 18, 2, 13, 8, 8, 7, 14, 9, 13, 12, 13, 11, 5, 5, 3, 3, 7, 3, 3, 4, 5, 5, 5, 16, 3, 17, 3, 5, 4, 4, 5, 14, 8, 5, 3, 1, 14, 6, 7, 1, 4, 11, 13, 12, 13, 3, 11, 2, 3, 7, 3, 4, 21, 19, 3, 11, 4, 3, 4, 6, 6, 8, 1, 4, 3, 11, 6, 4, 4, 5, 7, 12, 6, 3, 10, 5, 16, 11, 20, 14, 18, 10, 12, 13, 13, 14, 14, 16, 12, 11, 17, 13, 4, 9, 2, 5, 3, 3, 5, 6, 2, 3, 4, 9, 1, 3, 10, 5, 3, 4, 6, 4, 8, 5, 10, 5, 5, 4, 4, 3, 5, 4, 8, 5, 5, 5, 11, 4, 4, 2, 15, 3, 3, 3, 5, 4, 5, 14, 4, 6, 11, 4, 4, 16, 10, 7, 12, 2, 7, 17, 8, 5, 5, 4, 3, 6, 9, 2, 4, 18, 5, 3, 12, 13, 14, 11, 15, 12, 13, 12, 4, 1, 5, 10, 8, 6, 5, 8, 10, 3, 4, 4, 6, 2, 12, 9, 2, 9, 4, 15, 5, 3, 11, 3, 4, 3, 11, 2, 4, 5, 4, 21, 3, 24, 9, 3, 14, 5, 1, 2, 4, 5, 5, 10, 5, 16, 3, 2, 4, 14, 17, 5, 4, 15, 5, 2, 2, 3, 4, 4, 3, 19, 3, 6, 4, 3, 4, 6, 5, 3, 4, 5, 3, 3, 1, 3, 4, 5, 4, 22, 5, 4, 10, 2, 4, 2, 5, 4, 11, 5, 5, 4, 8, 2, 6, 5, 13, 6, 13, 5, 3, 6, 6, 15, 6, 15, 14, 5, 8, 13, 4, 15, 2, 5, 3, 4, 15, 13, 15, 5, 4, 5, 3, 4, 2, 4, 3, 7, 3, 3, 20, 4, 7, 10, 2, 2, 4, 7, 13, 5, 8, 6, 2, 3, 15, 14, 8, 6, 3, 5, 7, 3, 8, 5, 5, 4, 16, 6, 17, 4, 4, 2, 5, 5, 18, 2, 4, 8, 3, 6, 3, 1, 7, 6, 7, 7, 6, 5, 11, 9, 10, 4, 4, 7, 4, 3, 5, 3, 5, 12, 5, 6, 3, 13, 12, 15, 3, 5, 7, 5, 6, 3, 2, 5, 5, 10, 3, 4, 17, 4, 3, 13, 15, 10, 13, 19, 18, 14, 6, 6, 16, 2, 10, 2, 12, 4, 10, 6, 5, 24, 4, 5, 11, 4, 1, 5, 12, 7, 2, 2, 7, 7, 5, 21, 3, 3, 3, 4, 2, 7, 3, 3, 5, 3, 7, 4, 5, 3, 2, 8, 5, 4, 17, 14, 5, 15, 3, 4, 12, 9, 8, 8, 7, 7, 12, 7, 14, 8, 3, 6, 14, 12, 9, 5, 15, 17, 20, 3, 5, 1, 14, 12, 9, 8, 6, 9, 18, 6, 15, 8, 14, 9, 9, 15, 4, 5, 15, 12, 4, 11, 15, 6, 5, 9, 17, 10, 7, 20, 6, 15, 9, 15, 1, 12, 5, 7, 10, 9, 13, 6, 7, 8, 12, 11, 13, 14, 12, 2, 12, 11, 14, 11, 7, 18, 15, 6, 15, 2, 15, 9, 5, 15, 4, 14, 12, 2, 11, 12, 7, 7, 9, 9, 21, 19, 14, 8, 8, 14, 10, 12, 10, 8, 15, 14, 13, 3, 14, 5, 15, 12, 2, 8, 15, 4, 10, 18, 4, 15, 10, 16, 11, 15, 8, 16, 16, 6, 9, 6, 10, 12, 7, 7, 12, 8, 12, 7, 13, 17, 13, 7, 12, 14, 11, 10, 19, 12, 12, 4, 10, 9, 9, 15, 20, 10, 4, 5, 2, 3, 14, 12, 10, 18, 12, 11, 6, 12, 9, 2, 13, 17, 14, 5, 7, 10, 9, 17, 11, 10, 12, 7, 13, 12, 15, 7, 5, 13, 15, 12, 15, 6, 12, 15, 13, 12, 9, 12, 15, 15, 10, 13, 6, 15, 12, 15, 14, 13, 9, 13, 10, 18, 12, 15, 14, 14, 12, 15, 7, 14, 14, 8, 10, 11, 6, 10, 17, 14, 6, 4, 14, 23, 13, 12, 14, 8, 12, 5, 6, 15, 15, 5, 12, 5, 10, 11, 15, 15, 6, 12, 10, 7, 9, 17, 5, 11, 7, 19, 13, 14, 12, 11, 8, 10, 10, 4, 8, 5, 15, 16, 11, 10, 7, 9, 14, 3, 15, 17, 9, 7, 13, 8, 13, 12, 9, 10, 11, 12, 6, 18, 7, 14, 10, 20, 13, 10, 11, 16, 8, 14, 11, 13, 4, 11, 10, 19, 5, 10, 5, 8, 18, 8, 13, 9, 12, 7, 11, 14, 5, 15, 11, 13, 11, 3, 8, 10, 11, 11, 8, 10, 19, 18, 13, 7, 9, 13, 12, 16, 14, 19, 9, 12, 18, 9, 8, 10, 15, 14, 13, 10, 7, 12, 9, 9, 16, 8, 10, 10, 14, 16, 10, 9, 8, 14, 12, 11, 27, 18, 17, 11, 11, 7, 13, 12, 17, 13, 17, 15, 14, 13, 8, 16, 13, 13, 9, 15, 24, 17, 11, 14, 7, 7, 11, 12, 8, 12, 11, 12, 16, 16, 10, 13, 14, 9, 3, 6, 3, 2, 7, 13, 5, 18, 4, 5, 8, 7, 10, 12, 15, 6, 7, 9, 7, 18, 9, 19, 10, 17, 10, 13, 10, 6, 11, 14, 13, 12, 13, 5, 10, 11, 21, 9, 12, 10, 6, 4, 12, 12, 5, 10, 18, 16, 15, 11, 9, 15, 17, 10, 12, 9, 5, 17, 13, 14, 16, 5, 19, 12, 16, 16, 3, 17, 12, 9, 7, 13, 15, 8, 6, 6, 11, 14, 5, 18, 7, 7, 5, 10, 11, 7, 9, 14, 8, 13, 12, 13, 6, 9, 11, 11, 10, 12, 10, 23, 9, 10, 15, 11, 16, 7, 9, 7, 16, 17, 18, 13, 8, 17, 18, 14, 10, 10, 9, 14, 13, 13, 9, 13, 12, 6, 14, 9, 11, 15, 13, 8, 9, 10, 10, 10, 11, 12, 11, 20, 10, 5, 4, 8, 13, 15, 11, 4, 9, 9, 4, 13, 7, 11, 14, 13, 6, 4, 20, 9, 9, 13, 9, 14, 5, 10, 11, 6, 10, 15, 12, 9, 11, 16, 19, 13, 11, 26, 11, 12, 15, 13, 9, 15, 22, 14, 18, 15, 4, 10, 12, 11, 17, 9, 7, 14, 15, 8, 12, 8, 15, 4, 13, 6, 6, 15, 25, 7, 3, 11, 9, 8, 13, 17, 18, 14, 12, 13, 17, 9, 13, 10, 8, 4, 9, 17, 9, 11, 13, 12, 15, 8, 15, 10, 9, 5, 6, 15, 16, 8, 11, 6, 12, 10, 7, 11, 7, 7, 11, 11, 15, 8, 12, 11, 7, 13, 16, 6, 14, 5, 12, 7, 13, 4, 11, 9, 10, 8, 11, 11, 8, 11, 5, 14, 11, 4, 6, 11, 5, 5, 18, 15, 12, 12, 8, 11, 8, 11, 5, 16, 7, 9, 5, 5, 10, 11, 3, 10, 4, 11, 13, 9, 9, 12, 12, 9, 2, 13, 7, 15, 12, 15, 13, 11, 12, 13, 14, 9, 11, 9, 13, 17, 9, 16, 1, 2, 4, 13, 16, 12, 18, 11, 7, 12, 8, 10, 6, 9, 18, 17, 14, 11, 4, 7, 3, 6, 7, 11, 10, 4, 2, 3, 11, 9, 5, 5, 14, 12, 14, 17, 1, 13, 16, 14, 6, 9, 9, 7, 3, 4, 11, 1, 7, 14, 4, 8, 5, 11, 4, 5, 12, 12, 14, 12, 9, 8, 12, 6, 11, 10, 18, 3, 10, 10, 10, 4, 3, 4, 14, 17, 16, 8, 10, 17, 14, 16, 11, 16, 8, 9, 9, 4, 14, 14, 10, 14, 3, 15, 2, 5, 4, 5, 11, 17, 16, 12, 15, 9, 10, 10, 13, 13, 10, 13, 12, 13, 10, 12, 11, 1, 2, 8, 4, 16, 11, 1, 7, 13, 10, 13, 9, 7, 10, 11, 6, 12, 1, 13, 3, 13, 10, 17, 10, 8, 14, 5, 10, 14, 9, 12, 11, 2, 4, 11, 10, 8, 4, 11, 1, 16, 13, 3, 3, 14, 14, 15, 11, 14, 7, 16, 5, 9, 5, 10, 12, 4, 8, 7, 11, 17, 5, 10, 11, 14, 16, 17, 3, 8, 16, 14, 11, 2, 11, 25, 7, 13, 5, 1, 1, 7, 10, 3, 14, 10, 12, 15, 14, 13, 6, 12, 14, 16, 12, 11, 15, 13, 4, 13, 1, 17, 4, 12, 3, 13, 10, 6, 12, 15, 16, 1, 3, 16, 14, 10, 13, 24, 10, 14, 13, 10, 13, 8, 14, 7, 9, 7, 13, 18, 10, 10, 1, 6, 10, 10, 6, 8, 12, 7, 12, 12, 8, 11, 15, 16, 13, 16, 2, 2, 10, 11, 8, 14, 5, 6, 6, 11, 8, 13, 11, 11, 10, 8, 6, 7, 12, 10, 10, 9, 9, 5, 9, 14, 1, 10, 12, 1, 12, 9, 12, 11, 14, 10, 11, 11, 8, 14, 4, 11, 2, 11, 5, 4, 3, 4, 6, 2, 9, 12, 12, 14, 14, 6, 11, 8, 12, 10, 11, 7, 10, 12, 16, 6, 9, 10, 9, 9, 9, 7, 9, 10, 15, 10, 8, 5, 10, 11, 8, 8, 6, 14, 4, 12, 16, 17, 19, 7, 16, 15, 16, 11, 6, 17, 9, 11, 14, 6, 9, 17, 13, 12, 8, 10, 15, 17, 1, 6, 12, 11, 14, 16, 8, 13, 11, 13, 8, 17, 11, 19, 9, 11, 9, 18, 12, 10, 16, 11, 15, 13, 7, 11, 11, 16, 15, 14, 14, 5, 11, 14, 11, 9, 10, 10, 11, 9, 10, 8, 9, 8, 11, 14, 2, 8, 14, 4, 3, 13, 7, 8, 13, 12, 12, 18, 4, 4, 11, 2, 7, 2, 10, 12, 12, 5, 11, 7, 13, 7, 11, 10, 11, 14, 12, 3, 7, 1, 10, 2, 6, 12, 14, 8, 13, 15, 18, 16, 11, 11, 10, 11, 1, 11, 8, 4, 13, 8, 13, 15, 1, 18, 15, 9, 8, 14, 14, 11, 14, 5, 12, 8, 14, 11, 10, 5, 15, 9, 8, 9, 6, 10, 4, 9, 4, 1, 9, 10, 13, 4, 8, 4, 11, 10, 9, 10, 10, 16, 7, 17, 16, 10, 5, 2, 10, 5, 15, 20, 10, 10, 3, 1, 10, 17, 6, 2, 6, 4, 14, 13, 7, 10, 6, 8, 14, 15, 11, 10, 2, 13, 14, 5, 5, 10, 4, 6, 11, 11, 2, 12, 12, 13, 13, 17, 12, 11, 5, 16, 11, 3, 4, 16, 7, 12, 9, 11, 11, 14, 3, 13, 4, 12, 12, 8, 13, 11, 13, 12, 11, 10, 11, 11, 12, 7, 11, 15, 8, 13, 9, 14, 13, 6, 7, 9, 13, 14, 8, 10, 7, 13, 15, 7, 19, 12, 11, 16, 1, 14, 14, 8, 4, 10, 16, 10, 8, 11, 5, 10, 13, 3, 4, 10, 24, 15, 9, 12, 15, 10, 11, 9, 13, 8, 11, 12, 8, 14, 14, 15, 13, 8, 16, 3, 17, 12, 14, 12, 12, 14, 6, 7, 13, 6, 11, 14, 11, 7, 9, 8, 9, 12, 5, 16, 11, 17, 7, 13, 6, 2, 12, 5, 8, 18, 4, 32, 8, 6, 7, 8, 10, 11, 6, 8, 12, 4, 2, 5, 2, 3, 9, 9, 6, 4, 12, 11, 9, 5, 12, 13, 8, 10, 10, 15, 7, 10, 8, 10, 16, 9, 16, 14, 7, 8, 9, 19, 15, 7, 8, 4, 16, 11, 18, 3, 13, 12, 12, 13, 12, 14, 18, 10, 4, 12, 4, 2, 7, 8, 14, 13, 12, 10, 16, 14, 5, 15, 12, 7, 14, 4, 14, 12, 16, 15, 13, 17, 5, 12, 13, 14, 10, 12, 11, 9, 12, 17, 7, 10, 8, 12, 12, 16, 5, 11, 16, 2, 10, 16, 14, 8, 7, 11, 9, 7, 6, 13, 17, 7, 7, 11, 13, 12, 8, 4, 17, 9, 17, 11, 17, 7, 10, 12, 18, 5, 2, 6, 8, 7, 12, 8, 13, 15, 7, 14, 9, 6, 22, 13, 13, 12, 17, 15, 14, 11, 3, 10, 11, 5, 17, 6, 5, 11, 20, 11, 7, 12, 8, 6, 10, 5, 7, 2, 2, 19, 17, 2, 10, 6, 11, 13, 8, 3, 14, 18, 18, 12, 3, 8, 11, 9, 14, 10, 6, 11, 8, 1, 3, 10, 13, 1, 17, 12, 9, 8, 8, 12, 11, 6, 16, 7, 9, 7, 5, 15, 11, 10, 8, 4, 11, 8, 7, 8, 3, 12, 17, 8, 14, 3, 15, 15, 15, 10, 11, 16, 2, 4, 16, 17, 13, 1, 9, 15, 16, 10, 12, 12, 9, 16, 9, 14, 16, 7, 18, 9, 11, 12, 10, 10, 6, 9, 9, 6, 4, 9, 10, 7, 10, 13, 1, 3, 9, 7, 1, 12, 12, 3, 9, 4, 9, 11, 14, 3, 8, 5, 2, 9, 13, 4, 2, 15, 12, 7, 13, 9, 5, 6, 5, 15, 10, 7, 12, 7, 1, 10, 16, 12, 12, 13, 11, 19, 6, 12, 13, 15, 15, 13, 8, 13, 9, 11, 10, 11, 7, 14, 12, 11, 10, 9, 12, 9, 12, 15, 15, 16, 12, 6, 5, 1, 11, 13, 10, 11, 9, 16, 6, 10, 9, 9, 9, 11, 5, 18, 1, 4, 12, 7, 11, 11, 6, 12, 12, 11, 14, 11, 11, 9, 11, 22, 13, 9, 11, 7, 9, 13, 12, 16, 10, 13, 8, 7, 12, 10, 12, 14, 11, 10, 14, 9, 10, 11, 10, 11, 6, 11, 6, 10, 5, 14, 19, 13, 16, 14, 16, 16, 5, 16, 10, 5, 7, 17, 4, 4, 1, 12, 14, 16, 2, 8, 1, 2, 13, 16, 7, 10, 14, 8, 10, 9, 5, 11, 10, 15, 10, 10, 15, 14, 24, 10, 11, 11, 9, 11, 6, 9, 13, 13, 19, 12, 11, 13, 11, 15, 11, 15, 11, 15, 10, 14, 17, 14, 15, 7, 16, 11, 5, 9, 15, 13, 8, 9, 6, 6, 8, 15, 16, 7, 8, 6, 6, 4, 1, 7, 11, 21, 4, 13, 14, 13, 4, 10, 11, 15, 13, 10, 10, 9, 3, 13, 3, 11, 16, 13, 11, 15, 3, 9, 9, 19, 13, 1, 19, 5, 1, 20, 11, 15, 10, 13, 16, 7, 8, 13, 15, 9, 10, 11, 10, 9, 11, 13, 14, 6, 22, 19, 12, 4, 8, 13, 6, 14, 7, 18, 10, 17, 11, 3, 6, 3, 18, 10, 9, 7, 7, 14, 10, 11, 12, 5, 7, 4, 11, 9, 7, 20, 11, 13, 18, 7, 3, 8, 21, 15, 9, 17, 13, 12, 11, 14, 9, 10, 12, 6, 16, 10, 16, 10, 16, 2, 13, 9, 14, 6, 3, 16, 7, 20, 7, 2, 9, 7, 14, 13, 4, 13, 6, 8, 8, 7, 14, 8, 14, 10, 10, 12, 9, 8, 22, 9, 12, 7, 9, 7, 12, 14, 4, 14, 16, 13, 8, 8, 9, 8, 1, 9, 15, 4, 15, 5, 14, 7, 8, 11, 5, 12, 21, 15, 2, 9, 9, 15, 13, 6, 9, 16, 17, 1, 11, 12, 13, 15, 22, 14, 11, 12, 16, 12, 12, 3, 14, 5, 10, 16, 14, 7, 11, 16, 10, 13, 6, 13, 14, 7, 8, 8, 10, 12, 13, 9, 5, 4, 12, 12, 17, 10, 7, 10, 7, 7, 13, 9, 23, 25, 12, 13, 9, 18, 9, 15, 10, 10, 17, 9, 8, 8, 5, 17, 5, 9, 19, 14, 16, 8, 12, 10, 16, 14, 12, 7, 16, 15, 10, 7, 15, 14, 14, 6, 13, 3, 15, 10, 10, 14, 17, 15, 7, 10, 10, 22, 9, 14, 9, 8, 7, 13, 21, 16, 11, 6, 14, 7, 9, 8, 12, 12, 11, 8, 17, 8, 8, 11, 19, 13, 17, 16, 12, 12, 12, 13, 9, 14, 7, 11, 13, 10, 14, 7, 11, 16, 9, 9, 6, 4, 10, 13, 6, 12, 5, 12, 1, 5, 11, 3, 11, 11, 31, 10, 18, 7, 10, 7, 19, 7, 12, 14, 3, 10, 14, 9, 11, 18, 9, 16, 10, 15, 16, 6, 15, 8, 2, 1, 6, 12, 12, 19, 11, 12, 11, 4, 12, 22, 12, 11, 17, 10, 13, 10, 15, 6, 10, 6, 10, 1, 4, 10, 12, 2, 10, 7, 11, 11, 7, 9, 12, 10, 16, 12, 11, 8, 9, 10, 9, 8, 12, 3, 15, 14, 6, 12, 10, 10, 15, 14, 3, 11, 9, 12, 13, 12, 5, 3, 15, 10, 10, 9, 14, 18, 10, 15, 9, 6, 5, 10, 5, 11, 12, 4, 11, 5, 13, 15, 13, 14, 15, 3, 13, 14, 13, 12, 19, 12, 17, 14, 14, 16, 9, 9, 17, 16, 21, 7, 9, 13, 5, 2, 12, 15, 12, 5, 10, 5, 7, 5, 12, 14, 18, 16, 11, 11, 4, 8, 11, 5, 13, 6, 15, 5, 6, 7, 8, 4, 12, 18, 16, 4, 16, 6, 10, 8, 6, 10, 10, 15, 5, 15, 6, 8, 11, 3, 6, 16, 18, 13, 13, 10, 4, 10, 13, 15, 15, 21, 13, 12, 7, 15, 11, 14, 14, 12, 4, 12, 14, 11, 12, 12, 10, 14, 13, 10, 11, 10, 5, 9, 6, 10, 14, 13, 10, 16, 12, 12, 3, 13, 10, 7, 17, 11, 15, 17, 12, 12, 13, 5, 13, 6, 7, 5, 5, 11, 4, 8, 17, 5, 12, 21, 13, 9, 10, 7, 15, 17, 9, 10, 7, 6, 7, 4, 7, 8, 18, 8, 11, 13, 6, 11, 12, 2, 8, 2, 15, 6, 11, 4, 13, 17, 16, 7, 9, 9, 8, 7, 12, 1, 1, 12, 11, 18, 8, 13, 12, 11, 12, 6, 11, 13, 8, 10, 9, 18, 15, 6, 11, 1, 3, 3, 12, 9, 11, 14, 8, 12, 10, 12, 9, 12, 18, 13, 6, 16, 8, 4, 14, 12, 9, 11, 15, 15, 14, 13, 5, 32, 9, 12, 15, 8, 15, 8, 12, 9, 8, 13, 4, 13, 14, 4, 16, 18, 4, 12, 11, 12, 12, 12, 13, 7, 20, 12, 13, 11, 5, 8, 10, 11, 11, 13, 18, 12, 5, 9, 4, 11, 4, 16, 1, 17, 10, 13, 4, 12, 6, 10, 6, 16, 18, 3, 8, 10, 5, 13, 5, 9, 19, 13, 9, 3, 15, 13, 18, 14, 15, 12, 11, 12, 14, 12, 10, 9, 12, 17, 8, 14, 8, 9, 14, 11, 14, 13, 18, 3, 20, 6, 9, 8, 13, 3, 11, 12, 6, 18, 11, 17, 12, 16, 10, 11, 12, 5, 11, 11, 12, 14, 11, 10, 11, 14, 12, 6, 7, 9, 12, 12, 13, 5, 17, 11, 14, 15, 14, 6, 24, 14, 3, 15, 11, 13, 14, 5, 11, 8, 12, 16, 10, 14, 15, 11, 9, 13, 12, 10, 12, 1, 5, 7, 12, 3, 13, 15, 16, 13, 7, 10, 10, 13, 18, 20, 10, 9, 11, 13, 9, 15, 15, 13, 13, 14, 10, 7, 6, 9, 11, 3, 7, 8, 9, 7, 5, 10, 11, 11, 17, 9, 11, 18, 6, 3, 7, 13, 7, 4, 14, 13, 12, 10, 9, 4, 13, 18, 14, 8, 15, 7, 13, 10, 12, 6, 15, 4, 11, 12, 9, 9, 15, 5, 3, 12, 13, 13, 15, 13, 15, 13, 9, 4, 6, 13, 4, 11, 14, 3, 10, 9, 8, 9, 12, 12, 6, 16, 5, 10, 12, 11, 12, 10, 15, 11, 12, 11, 11, 5, 11, 4, 4, 23, 13, 14, 13, 16, 9, 22, 15, 13, 2, 5, 2, 15, 7, 14, 3, 7, 15, 5, 15, 10, 3, 13, 5, 10, 8, 3, 7, 12, 9, 14, 12, 14, 14, 18, 11, 13, 11, 4, 5, 7, 6, 4, 12, 18, 14, 8, 15, 13, 11, 17, 4, 7, 8, 13, 2, 16, 7, 11, 8, 14, 7, 10, 12, 8, 5, 13, 11, 11, 15, 12, 11, 9, 16, 12, 6, 12, 12, 13, 22, 7, 13, 4, 13, 13, 13, 13, 14, 12, 7, 10, 13, 12, 11, 17, 14, 10, 9, 18, 8, 10, 9, 13, 13, 15, 1, 12, 11, 14, 7, 2, 14, 10, 13, 15, 11, 3, 14, 16, 20, 11, 6, 18, 9, 9, 10, 14, 12, 13, 11, 11, 11, 1, 6, 1, 5, 6, 4, 11, 10, 5, 9, 9, 11, 2, 7, 17, 13, 10, 13, 10, 7, 9, 5, 6, 9, 10, 8, 1, 11, 10, 5, 10, 8, 13, 9, 12, 18, 8, 14, 8, 16, 9, 12, 15, 12, 21, 13, 17, 14, 15, 11, 2, 13, 10, 10, 10, 5, 10, 7, 13, 12, 12, 6, 10, 9, 33, 9, 15, 9, 12, 14, 14, 12, 13, 5, 13, 8, 16, 19, 14, 9, 19, 8, 9, 12, 14, 11, 14, 15, 9, 3, 10, 7, 9, 14, 1, 5, 13, 1, 13, 10, 13, 15, 14, 11, 14, 9, 12, 15, 10, 8, 12, 15, 1, 10, 16, 1, 20, 10, 1, 11, 9, 2, 5, 12, 9, 8, 11, 13, 11, 4, 4, 4, 16, 15, 9, 3, 9, 10, 7, 10, 15, 16, 14, 9, 7, 9, 12, 6, 6, 12, 15, 12, 10, 7, 12, 9, 9, 13, 16, 11, 21, 15, 10, 9, 7, 9, 6, 17, 8, 15, 12, 11, 11, 3, 11, 9, 17, 15, 9, 18, 11, 16, 9, 5, 3, 3, 11, 12, 2, 4, 4, 10, 7, 1, 13, 11, 12, 7, 10, 11, 3, 5, 12, 9, 13, 13, 12, 13, 11, 10, 13, 7, 16, 10, 16, 11, 15, 12, 11, 11, 10, 15, 7, 18, 14, 13, 12, 10, 10, 11, 7, 8, 13, 11, 13, 13, 5, 2, 12, 2, 7, 11, 7, 12, 10, 12, 11, 6, 9, 11, 17, 13, 15, 27, 17, 12, 12, 4, 4, 11, 12, 2, 7, 15, 13, 19, 4, 15, 1, 16, 16, 8, 15, 20, 9, 12, 16, 7, 9, 22, 10, 26, 16, 12, 9, 7, 10, 6, 23, 5, 11, 11, 12, 4, 5, 14, 4, 13, 3, 13, 6, 12, 16, 15, 4, 11, 2, 8, 12, 16, 18, 10, 16, 13, 2, 16, 7, 14, 8, 10, 15, 8, 5, 9, 10, 11, 3, 6, 9, 10, 14, 12, 9, 10, 15, 8, 9, 15, 6, 9, 13, 8, 8, 9, 14, 11, 19, 10, 17, 4, 11, 6, 18, 14, 15, 13, 9, 9, 6, 9, 4, 9, 15, 10, 3, 4, 12, 11, 18, 10, 16, 4, 8, 13, 13, 8, 17, 8, 12, 19, 4, 15, 8, 3, 13, 15, 12, 12, 1, 7, 6, 12, 4, 10, 12, 3, 8, 12, 11, 16, 10, 7, 17, 17, 1, 2, 6, 2, 13, 18, 7, 8, 17, 12, 5, 8, 13, 16, 8, 8, 20, 14, 12, 12, 10, 15, 1, 9, 12, 10, 11, 3, 10, 14, 7, 11, 8, 16, 13, 9, 10, 11, 15, 10, 7, 3, 14, 4, 10, 7, 1, 11, 10, 6, 19, 6, 11, 16, 11, 3, 9, 13, 4, 1, 10, 8, 13, 13, 13, 14, 4, 15, 5, 22, 7, 8, 12, 8, 14, 11, 13, 17, 13, 6, 11, 8, 13, 10, 11, 12, 8, 13, 9, 8, 10, 9, 7, 11, 9, 12, 16, 11, 9, 10, 11, 16, 13, 16, 11, 16, 14, 12, 13, 11, 11, 14, 16, 9, 12, 15, 15, 16, 5, 1, 13, 4, 15, 7, 13, 13, 1, 7, 9, 12, 18, 21, 8, 8, 9, 15, 12, 15, 11, 11, 15, 4, 1, 17, 8, 12, 15, 10, 11, 15, 13, 13, 9, 8, 20, 9, 17, 3, 4, 13]\n"
     ]
    }
   ],
   "source": [
    "lenghts_en = [len(i) for i in sentences_en]\n",
    "print(lenghts_en)"
   ]
  },
  {
   "cell_type": "code",
   "execution_count": 46,
   "metadata": {},
   "outputs": [
    {
     "name": "stdout",
     "output_type": "stream",
     "text": [
      "Number of differing values: 8553\n"
     ]
    }
   ],
   "source": [
    "def count_differences(list1, list2):\n",
    "    # Ensure both lists have the same length\n",
    "    if len(list1) != len(list2):\n",
    "        raise ValueError(\"Lists must be of the same length.\")\n",
    "\n",
    "    difference_count = 0\n",
    "    for a, b in zip(list1, list2):\n",
    "        if a != b:\n",
    "            difference_count += 1\n",
    "            \n",
    "    return difference_count\n",
    "\n",
    "# Example usage\n",
    "list1 = [1, 2, 3, 4, 5]\n",
    "list2 = [1, 3, 2, 4, 6]\n",
    "diff_count = count_differences(lenghts_sr, lenghts_en)\n",
    "print(f\"Number of differing values: {diff_count}\")"
   ]
  },
  {
   "cell_type": "code",
   "execution_count": 40,
   "metadata": {},
   "outputs": [
    {
     "name": "stdout",
     "output_type": "stream",
     "text": [
      "                                            sentences_sr\n",
      "0      Predmet rada je proučavanje arhitekture rimoka...\n",
      "1      U vremenima koja su usledila po završetku aust...\n",
      "2      Vreme društvenog i ekonomskog prosperiteta, ko...\n",
      "3      Kontinuitet izgradnje sakralnih građevina drža...\n",
      "4      Tokom skoro dva i po veka izgrađen je na podru...\n",
      "...                                                  ...\n",
      "66890  Brizantno dejstvo eksplozije izraženo je dejst...\n",
      "66891  Od policije i sudskih veštaka sud traži određi...\n",
      "66892  Očekivani doprinos ovog rada je u oblasti fore...\n",
      "66893  U prilog opravdanosti istraživanja data je ana...\n",
      "66894                    na teritoriji Republike Srbije.\n",
      "\n",
      "[66895 rows x 1 columns]\n"
     ]
    }
   ],
   "source": [
    "flattened_list = [string for sublist in sentences_sr for string in sublist]\n",
    "\n",
    "# Create a DataFrame\n",
    "df_sr = pd.DataFrame(flattened_list, columns=[\"sentences_sr\"])\n",
    "\n",
    "# Display the DataFrame\n",
    "print(df_sr)"
   ]
  },
  {
   "cell_type": "code",
   "execution_count": 47,
   "metadata": {},
   "outputs": [],
   "source": [
    "df_sr.to_parquet(\"../datasets/science_sentences_sr.parquet\")"
   ]
  },
  {
   "cell_type": "code",
   "execution_count": 39,
   "metadata": {},
   "outputs": [
    {
     "name": "stdout",
     "output_type": "stream",
     "text": [
      "                                             sentences_en\n",
      "0       The aim of the paper is to present an architec...\n",
      "1       The revitalization of the southern Hungarian r...\n",
      "2                  & Austro-Hungarian Empire, 1867-1918.)\n",
      "3       in the times after the Austro-Turkish wars and...\n",
      "4                                   and Pozarevac (1718.)\n",
      "...                                                   ...\n",
      "104816  Activation of explosive devices, whether inten...\n",
      "104817  From the forensic aspect the damage in the for...\n",
      "104818  Dimensions and shape of the crater are closely...\n",
      "104819  Calculation of the mass of the explosive used ...\n",
      "104820  This paper contains the review of the existing...\n",
      "\n",
      "[104821 rows x 1 columns]\n"
     ]
    }
   ],
   "source": [
    "flattened_list = [string for sublist in sentences_en for string in sublist]\n",
    "\n",
    "# Create a DataFrame\n",
    "df_en = pd.DataFrame(flattened_list, columns=[\"sentences_en\"])\n",
    "# Display the DataFrame\n",
    "print(df_en)"
   ]
  },
  {
   "cell_type": "code",
   "execution_count": 48,
   "metadata": {},
   "outputs": [],
   "source": [
    "df_en.to_parquet(\"../datasets/science_sentences_en.parquet\")"
   ]
  },
  {
   "cell_type": "code",
   "execution_count": null,
   "metadata": {},
   "outputs": [],
   "source": []
  }
 ],
 "metadata": {
  "kernelspec": {
   "display_name": ".venv",
   "language": "python",
   "name": "python3"
  },
  "language_info": {
   "codemirror_mode": {
    "name": "ipython",
    "version": 3
   },
   "file_extension": ".py",
   "mimetype": "text/x-python",
   "name": "python",
   "nbconvert_exporter": "python",
   "pygments_lexer": "ipython3",
   "version": "3.11.5"
  }
 },
 "nbformat": 4,
 "nbformat_minor": 2
}
