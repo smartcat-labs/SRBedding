{
 "cells": [
  {
   "cell_type": "code",
   "execution_count": 19,
   "metadata": {},
   "outputs": [],
   "source": [
    "from datasets import load_dataset\n",
    "import pandas as pd\n",
    "import os\n",
    "from dotenv import load_dotenv\n",
    "import numpy as np\n",
    "import pyarrow as pa\n",
    "import pyarrow.parquet as pq\n",
    "import pandas\n",
    "import openai\n",
    "from openai import APIError\n",
    "import os\n",
    "import json\n",
    "import re\n",
    "import numpy as np\n",
    "from sklearn.cluster import KMeans\n",
    "from pprint import pprint\n",
    "from pathlib import Path\n",
    "import tiktoken\n",
    "\n",
    "pd.set_option('display.max_colwidth', None)  # None means no limit on column width\n",
    "pd.set_option('display.width', 300)  \n"
   ]
  },
  {
   "cell_type": "code",
   "execution_count": 20,
   "metadata": {},
   "outputs": [],
   "source": [
    "datasets = ['news', 'science', 'wiki']\n",
    "query_types = {'short_query': 0}"
   ]
  },
  {
   "cell_type": "code",
   "execution_count": 22,
   "metadata": {},
   "outputs": [],
   "source": [
    "def merge_of_query_type(query_type):\n",
    "    dataframes = []\n",
    "    for data_set in datasets:\n",
    "        loaded_table = pq.read_table(f'../datasets/{data_set}_{query_type}_neg.parquet')\n",
    "        df = loaded_table.to_pandas()\n",
    "        df.rename(columns={query_type: 'query'}, inplace=True)\n",
    "        dataframes.append(df)\n",
    "\n",
    "    merged_df = pd.concat(dataframes, ignore_index=True)\n",
    "    merged_df.to_parquet(f'../datasets/{query_type}_neg.parquet')\n"
   ]
  },
  {
   "cell_type": "code",
   "execution_count": 23,
   "metadata": {},
   "outputs": [],
   "source": [
    "def merge_all_to_one():\n",
    "    dataframes = []\n",
    "    for query_type in query_types.keys():\n",
    "        loaded_table = pq.read_table(f'../datasets/{query_type}_neg.parquet')\n",
    "        df = loaded_table.to_pandas()\n",
    "        # df.rename(columns={query_type: 'query'}, inplace=True)\n",
    "        df[\"query_type\"] = query_types[query_type]\n",
    "        dataframes.append(df)\n",
    "    merged_df = pd.concat(dataframes, ignore_index=True)\n",
    "    merged_df.to_parquet('../datasets/TRAIN11k_neg.parquet')"
   ]
  },
  {
   "cell_type": "code",
   "execution_count": 25,
   "metadata": {},
   "outputs": [],
   "source": [
    "merge_of_query_type('short_query')"
   ]
  },
  {
   "cell_type": "code",
   "execution_count": 29,
   "metadata": {},
   "outputs": [],
   "source": [
    "loaded_table = pq.read_table('../datasets/short_query_neg.parquet')\n",
    "df = loaded_table.to_pandas()\n",
    "# df"
   ]
  },
  {
   "cell_type": "code",
   "execution_count": 27,
   "metadata": {},
   "outputs": [],
   "source": [
    "merge_all_to_one()"
   ]
  },
  {
   "cell_type": "code",
   "execution_count": 30,
   "metadata": {},
   "outputs": [],
   "source": [
    "loaded_table = pq.read_table('../datasets/TRAIN11k_neg.parquet')\n",
    "df = loaded_table.to_pandas()\n",
    "# df"
   ]
  }
 ],
 "metadata": {
  "kernelspec": {
   "display_name": ".venv",
   "language": "python",
   "name": "python3"
  },
  "language_info": {
   "codemirror_mode": {
    "name": "ipython",
    "version": 3
   },
   "file_extension": ".py",
   "mimetype": "text/x-python",
   "name": "python",
   "nbconvert_exporter": "python",
   "pygments_lexer": "ipython3",
   "version": "3.10.14"
  }
 },
 "nbformat": 4,
 "nbformat_minor": 2
}
