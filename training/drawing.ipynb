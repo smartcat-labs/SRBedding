{
 "cells": [
  {
   "cell_type": "code",
   "execution_count": 4,
   "metadata": {},
   "outputs": [],
   "source": [
    "import json\n",
    "import matplotlib.pyplot as plt\n",
    "from pathlib import Path\n"
   ]
  },
  {
   "cell_type": "code",
   "execution_count": 10,
   "metadata": {},
   "outputs": [],
   "source": [
    "def read_and_plot_one(jsonl_file: str, x_asis: str, y_asis:str):\n",
    "    epochs = []\n",
    "    losses = []\n",
    "\n",
    "    with open(jsonl_file, \"r\", encoding=\"utf-8\") as f:\n",
    "        for line in f:\n",
    "            data = json.loads(line.strip())\n",
    "            if x_asis in data and y_asis in data:\n",
    "                epochs.append(data[x_asis])\n",
    "                losses.append(data[y_asis])\n",
    "            else:\n",
    "                print(\"WRONG KEZ\")\n",
    "\n",
    "    # Plotting\n",
    "    plt.figure(figsize=(10, 6))\n",
    "    plt.plot(epochs, losses, marker='o')\n",
    "    plt.xlabel(x_asis)\n",
    "    plt.ylabel(y_asis)\n",
    "    plt.title('Loss vs. Epoch')\n",
    "    plt.grid(True)\n",
    "    plt.show()"
   ]
  },
  {
   "cell_type": "code",
   "execution_count": 12,
   "metadata": {},
   "outputs": [],
   "source": [
    "def helper(jsonl_file: str, x_asis: str, y_asis: str):\n",
    "    epochs = []\n",
    "    losses = []\n",
    "\n",
    "    with open(jsonl_file, \"r\", encoding=\"utf-8\") as f:\n",
    "        for line in f:\n",
    "            data = json.loads(line.strip())\n",
    "            if x_asis in data and y_asis in data:\n",
    "                epochs.append(data[x_asis])\n",
    "                losses.append(data[y_asis])\n",
    "            else:\n",
    "                print(\"WRONG KEZ\")\n",
    "    return epochs, losses\n",
    "\n",
    "def read_and_plot(jsonl_files: list[str], x_asis: str, y_asis: list[str]):\n",
    "    plt.figure(figsize=(10, 6))\n",
    "    \n",
    "    for i in range(len(jsonl_files)):\n",
    "        x_values, y_values = helper(jsonl_files[i], x_asis, y_asis[i])\n",
    "    # Plotting\n",
    "        plt.plot(x_values, y_values, marker='o', label=y_asis[i])\n",
    "\n",
    "    plt.xlabel(x_asis)\n",
    "    plt.ylabel(\"Values\")\n",
    "    plt.title(f\"{x_asis} vs. Metrics\")\n",
    "    plt.legend()\n",
    "    plt.grid(True)\n",
    "    plt.show()"
   ]
  },
  {
   "cell_type": "code",
   "execution_count": 14,
   "metadata": {},
   "outputs": [],
   "source": [
    "jsonl_files = [Path(\"output/bi_encoder_29-08-2024_07-56-12/logs/on_log_1.jsonl\"), Path(\"output/bi_encoder_29-08-2024_07-56-12/logs/on_evaluate.jsonl\")]\n",
    "read_and_plot(jsonl_files, \"epoch\", [\"loss\", \"eval_loss\"])"
   ]
  }
 ],
 "metadata": {
  "kernelspec": {
   "display_name": ".venv",
   "language": "python",
   "name": "python3"
  },
  "language_info": {
   "codemirror_mode": {
    "name": "ipython",
    "version": 3
   },
   "file_extension": ".py",
   "mimetype": "text/x-python",
   "name": "python",
   "nbconvert_exporter": "python",
   "pygments_lexer": "ipython3",
   "version": "3.10.14"
  }
 },
 "nbformat": 4,
 "nbformat_minor": 2
}
