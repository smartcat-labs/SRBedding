{
 "cells": [
  {
   "cell_type": "code",
   "execution_count": 101,
   "metadata": {},
   "outputs": [],
   "source": [
    "import pandas as pd\n",
    "import os\n",
    "from dotenv import load_dotenv\n",
    "import numpy as np\n",
    "import pyarrow as pa\n",
    "import pyarrow.parquet as pq\n",
    "import pandas\n",
    "import openai\n",
    "from openai import APIError\n",
    "import os\n",
    "import json\n",
    "import re\n",
    "import numpy as np\n",
    "from sklearn.cluster import KMeans\n",
    "from pprint import pprint\n",
    "from pathlib import Path\n",
    "import tiktoken\n",
    "from typing import List, Dict\n",
    "from sentence_transformers import SentenceTransformer,  models, util\n",
    "from sentence_transformers.readers import InputExample\n",
    "from enum import Enum\n",
    "from torch.utils.data import DataLoader, random_split\n",
    "from datetime import datetime\n",
    "import math\n",
    "import sentence_transformers.losses  as losses\n",
    "from sentence_transformers import SentenceTransformerTrainingArguments\n",
    "from sentence_transformers.evaluation import EmbeddingSimilarityEvaluator, SimilarityFunction\n",
    "from sentence_transformers import SentenceTransformerTrainer\n",
    "from sklearn.model_selection import train_test_split\n",
    "from datasets import Dataset\n",
    "import tqdm\n",
    "from sentence_transformers.cross_encoder import CrossEncoder\n",
    "from sentence_transformers.cross_encoder.evaluation import CECorrelationEvaluator\n",
    "import torch\n",
    "import logging\n",
    "\n",
    "# Set up basic configuration for logging\n",
    "logging.basicConfig(level=logging.INFO)\n"
   ]
  },
  {
   "cell_type": "code",
   "execution_count": 76,
   "metadata": {},
   "outputs": [],
   "source": [
    "def load_df(file: Path) -> pandas.DataFrame:\n",
    "    loaded_table = pq.read_table(file)\n",
    "    return loaded_table.to_pandas()"
   ]
  },
  {
   "cell_type": "code",
   "execution_count": 77,
   "metadata": {},
   "outputs": [],
   "source": [
    "class QueryType(Enum):\n",
    "    SHORT = 'short_query'\n",
    "    MEDIUM = 'medium_query'\n",
    "    LONG = 'long_query'"
   ]
  },
  {
   "cell_type": "code",
   "execution_count": 78,
   "metadata": {},
   "outputs": [],
   "source": [
    "\n",
    "\n",
    "def convert_dataset(dataframe: pandas.DataFrame, question_type: str) -> List[InputExample]:\n",
    "    dataset_samples = []\n",
    "    for _, row in dataframe.iterrows():\n",
    "        score = float(row['scores'][question_type]) / 5.0\n",
    "        sample = InputExample(texts=[row['context'], row[question_type]],\n",
    "                                 label=score)\n",
    "        dataset_samples.append(sample)\n",
    "    return dataset_samples"
   ]
  },
  {
   "cell_type": "code",
   "execution_count": 79,
   "metadata": {},
   "outputs": [],
   "source": [
    "def convert_to_hf_dataset(input_examples):\n",
    "    # Convert each InputExample into a dictionary\n",
    "    data_dict = {\n",
    "        \"sentence1\": [ex.texts[0] for ex in input_examples],\n",
    "        \"sentence2\": [ex.texts[1] for ex in input_examples],\n",
    "        \"score\": [ex.label for ex in input_examples]\n",
    "    }\n",
    "    \n",
    "    # Create a Hugging Face Dataset\n",
    "    return Dataset.from_dict(data_dict)\n",
    "\n",
    "def get_train_and_eval_datasets():\n",
    "    df = load_df(file=Path(\"datasets/train.parquet\"))\n",
    "    training_samples = convert_dataset(df, QueryType.LONG.value)\n",
    "\n",
    "    # Manually split the dataset while retaining the original structure\n",
    "    dataset_size = len(training_samples)\n",
    "    train_size = int(0.8 * dataset_size)\n",
    "\n",
    "    train_samples = training_samples[:train_size]\n",
    "    eval_samples = training_samples[train_size:]\n",
    "\n",
    "    # Convert lists to Hugging Face Datasets\n",
    "    train_dataset = convert_to_hf_dataset(train_samples)\n",
    "    eval_dataset = convert_to_hf_dataset(eval_samples)\n",
    "\n",
    "    return train_dataset, eval_dataset, eval_samples"
   ]
  },
  {
   "cell_type": "code",
   "execution_count": 80,
   "metadata": {},
   "outputs": [],
   "source": [
    "def make_sentence_transformer(model_name :str) -> SentenceTransformer:\n",
    "    max_seq_length = 512\n",
    "    word_embedding_model = models.Transformer(model_name, max_seq_length=max_seq_length)\n",
    "    # Apply mean pooling to get one fixed sized sentence vector\n",
    "    \"\"\"Performs pooling (max or mean) on the token embeddings.\n",
    "    Iit generates from a variable sized sentence a fixed sized sentence embedding, \n",
    "    allows to use the CLS token if it is returned by the underlying word embedding model.\n",
    "    We can concatenate multiple poolings together.\n",
    "    - word_embedding_dimension: Dimensions for the word embeddings\n",
    "    - pooling_mode_cls_token: Use the first token (CLS token) as text representations\n",
    "    - pooling_mode_max_tokens: Use max in each dimension over all tokens.\n",
    "    - pooling_mode_mean_tokens: Perform mean-pooling\n",
    "    \"\"\"\n",
    "    pooling_model = models.Pooling(word_embedding_model.get_word_embedding_dimension(),\n",
    "                                pooling_mode_cls_token=False,\n",
    "                                pooling_mode_max_tokens=False,\n",
    "                                pooling_mode_mean_tokens=True)\n",
    "    return SentenceTransformer(modules=[word_embedding_model, pooling_model])"
   ]
  },
  {
   "cell_type": "code",
   "execution_count": 95,
   "metadata": {},
   "outputs": [],
   "source": [
    "train_dataset, eval_dataset, eval_with_text = get_train_and_eval_datasets()\n"
   ]
  },
  {
   "cell_type": "code",
   "execution_count": 94,
   "metadata": {},
   "outputs": [],
   "source": [
    "model_name = \"google-bert/bert-base-multilingual-cased\"\n",
    "model_save_path = 'output/training_stsbenchmark_'+model_name.replace(\"/\", \"-\")+'-'+datetime.now().strftime(\"%d-%m-%Y_%H-%M-%S\")\n",
    "\n",
    "num_epochs = 10\n",
    "warmup_steps = math.ceil(len(train_dataset) * num_epochs  * 0.1)\n",
    "\n",
    "args = SentenceTransformerTrainingArguments(\n",
    "        # Required parameter:\n",
    "        output_dir=model_save_path,\n",
    "        # Optional training parameters:\n",
    "        num_train_epochs=num_epochs,\n",
    "        per_device_train_batch_size=16,\n",
    "        per_device_eval_batch_size=16,\n",
    "        learning_rate=2e-5,\n",
    "        warmup_ratio=0.1,\n",
    "        fp16=True,  # Set to False if you get an error that your GPU can't run on FP16\n",
    "        bf16=False,  # Set to True if you have a GPU that supports BF16\n",
    "        # batch_sampler=BatchSamplers.NO_DUPLICATES,  # losses that use \"in-batch negatives\" benefit from no duplicates\n",
    "        # Optional tracking/debugging parameters:\n",
    "        eval_strategy=\"steps\",\n",
    "        eval_steps=100,\n",
    "        save_strategy=\"steps\",\n",
    "        save_steps=100,\n",
    "        save_total_limit=2,\n",
    "        logging_steps=100,\n",
    "        run_name=\"proba\",  # Will be used in W&B if `wandb` is installed\n",
    "        warmup_steps=warmup_steps,\n",
    "    )"
   ]
  },
  {
   "cell_type": "code",
   "execution_count": 83,
   "metadata": {},
   "outputs": [
    {
     "name": "stdout",
     "output_type": "stream",
     "text": [
      "{'sentence1': 'Za izvršavanje programa koje pišemo na Pajtonu, potreban nam je program koji se zove Pajton interpreter. Ovaj program tumači (interpretira), a zatim i izvršava Pajton naredbe. Pajton interpreteri mogu da prihvate cele programe i da ih izvrše, a mogu da rade i u interaktivnom režimu, ', 'sentence2': 'Koja je uloga Pajton interpretera u izvršavanju programa na Pajtonu i na koji način tumači Pajton naredbe?', 'score': 0.8}\n",
      "{'sentence1': 'Sredinom 6. veka, područje naseljavaju Sloveni. U 9. veku, tvrđava Petrikon (ili na slovenskim jezicima - Petrik) ulazi u sastav Bugarskog carstva, a u 11. veku njom vlada sremski vojvoda Sermon, čiji su zlatnici u 19. veku pronađeni u jednom petrovaradinskom vinogradu. Pošto je Bugarska poražena od Vizantije a Sermon ubijen, tvrđava ponovo postaje deo Vizantije, da bi, posle borbi Vizantinaca i Mađara, krajem 12. veka, ušla u sastav srednjovekovne Kraljevine Ugarske. Na području Bačke, ugarska vlast se ustaljuje nešto ranije, tokom 10. veka.', 'sentence2': 'Kako je tvrđava Petrikon menjala vlasnike od 6. do 12. veka i koje su ključne bitke obeležile tu promenu vlasti?', 'score': 0.6}\n",
      "{'sentence1': 'U vreme Osmanske uprave poznat pod imenom Varadin, Petrovaradin je bio sedište nahije u okviru Sremskog sandžaka. Podgrađe tvrđave imalo je oko 200 kuća, tu se nalazila Sulejman-hanova džamija, a postojale su i dve manje džamije, Hadži-Ibrahimova i Huseinova. Pored dve turske mahale, u sastavu grada nalazila se i hrišćanska četvrt sa 35 kuća, naseljenih isključivo Srbima.[8] Od praistorije pa sve do kraja 17. veka, centar urbanog života na području današnjeg grada nalazio se na sremskoj strani Dunava, na prostoru današnjeg Petrovaradina, koji je svojim značajem uvek zasenjivao naselja na bačkoj strani.', 'sentence2': 'Koliko kuća je bilo u hrišćanskoj četvrti u Petrovaradinu, naseljenoj isključivo Srbima?', 'score': 0.4}\n",
      "{'sentence1': 'Novi Sad je Evropska prestonica kulture 2022. Novi Sad je, posle Beograda, drugi grad u Srbiji po broju stanovnika (bez podataka za područje Kosova i Metohije). Na poslednjem zvaničnom popisu iz 2011. godine, sam grad je imao 231.798[2] stanovnika. Na opštinskom području Novog Sada (uključujući i prigradska nasenja) broj stanovnika je 2011. godine iznosio 341.625.[', 'sentence2': 'Koje je godine Novi Sad proglašen za Evropsku prestonicu kulture i koliko je stanovnika imao prema poslednjem zvaničnom popisu iz 2011. godine?', 'score': 0.6}\n",
      "{'sentence1': ' Novom Sadu je, tokom celog rata, delovao pokret otpora i oslobodilački pokret pod vođstvom Komunističke Partije Jugoslavije. U gradu se nalazilo sedište okružnog komiteta Komunističke Partije Jugoslavije, koji je u okviru narodnooslobodilačkog pokreta bio deo Pokrajinskog komiteta KPJ za Vojvodinu. U narodnooslobodilačkoj borbi, u partizanskim odredima i vojvođanskim brigadama, neposredno je učestvovalo 2.365 Novosađana, pripadnika svih nacionalnosti, (Srba, Mađara, Slovaka i ostalih)', 'sentence2': 'Ko je bio na čelu okružnog komiteta Komunističke Partije Jugoslavije u Novom Sadu tokom rata?', 'score': 0.8}\n",
      "{'sentence1': 'Još jedan način da pokrenete Pajton školjku je da otvorite komandni prozor (na Windows sistemima to se radi pokretanjem programa cmd), a zatim u komandnom prozoru otkucate Python (ovde podrazumevamo da je Pajton instaliran tako da je dostupan iz svakog foldera, u protivnom treba se prvo pozicionirati u folder u kome se nalazi Pajton interpreter).', 'sentence2': 'Kako se može pokrenuti Pajton školjka putem komandnog prozora na Windows sistemima ako je Pajton dostupan iz svakog foldera?', 'score': 0.8}\n",
      "{'sentence1': 'Pajton je veoma popularan programski jezik opšte namene. Postao je poznat po svojoj jednostavnosti, lakoći učenja i brzini programiranja. Mnogi profesionalni programeri koriste Pajton bar kao pomoćni jezik, jer pomoću njega brzo i lako automatizuju razne poslove. ', 'sentence2': 'Koje su karakteristike Pajtona zbog kojih je postao popularan među programerima i kako ga koriste u automatizaciji poslova?', 'score': 0.8}\n",
      "{'sentence1': 'Najstariji arheološki ostaci (iz vremena kamenog doba) pronađeni su sa obe strane Dunava, na području današnjeg Petrovaradina (koji je u kontinuitetu nastanjen od praistorije do danas) i području današnje Klise. Istraživanjem ostataka naselja iz mlađeg bronzanog doba (3000. godina pne.) na području današnjeg Petrovaradina, arheolozi su pronašli i bedeme pojačane koljem i palisadama iz tog perioda, koji svedoče da je još u vreme vučedolske kulture ovde postojalo utvrđeno naselje.', 'sentence2': 'Koje su specifične strukture pronađene na području Petrovaradina koje svedoče o postojanju utvrđenog naselja u vreme vučedolske kulture?', 'score': 0.4}\n"
     ]
    }
   ],
   "source": [
    "for s in train_dataset:\n",
    "    print(s)"
   ]
  },
  {
   "cell_type": "code",
   "execution_count": 96,
   "metadata": {},
   "outputs": [],
   "source": [
    "def train_a_model(model_name:str, args: SentenceTransformerTrainingArguments):\n",
    "    num_epochs = 10\n",
    "    train_dataset, eval_dataset, eval_inp = get_train_and_eval_datasets()\n",
    "    sentence_transformer = make_sentence_transformer(model_name)\n",
    "    warmup_steps = math.ceil(len(train_dataset) * num_epochs  * 0.1) #10% of train data for warm-up\n",
    "    train_loss = losses.CosineSimilarityLoss(model=sentence_transformer)\n",
    "    train_loss = losses.MatryoshkaLoss(sentence_transformer, train_loss, [768, 512, 256, 128, 64])\n",
    "  \n",
    "\n",
    "    sentences1 = [sample['sentence1'] for sample in eval_dataset]\n",
    "    sentences2 = [sample['sentence2'] for sample in eval_dataset]\n",
    "    scores = [sample['score'] for sample in eval_dataset]\n",
    "    print(f'duzina {len(sentences1)}')\n",
    "    # # 6. (Optional) Create an evaluator & evaluate the base model\n",
    "    dev_evaluator = EmbeddingSimilarityEvaluator(\n",
    "        sentences1=sentences1,\n",
    "        sentences2=sentences2,\n",
    "        scores=scores,\n",
    "        main_similarity=SimilarityFunction.COSINE,\n",
    "        name=\"sts-dev\",\n",
    "        write_csv=True\n",
    "    )\n",
    "\n",
    "    dev_evaluator(model=sentence_transformer)\n",
    "\n",
    "    # 7. Create a trainer & train\n",
    "    trainer = SentenceTransformerTrainer(\n",
    "        model=sentence_transformer,\n",
    "        args=args,\n",
    "        train_dataset=train_dataset,\n",
    "        eval_dataset=eval_dataset,\n",
    "        loss=train_loss,\n",
    "        evaluator=dev_evaluator,\n",
    "        \n",
    "    )\n",
    "    trainer.train()\n",
    "\n",
    "    # # (Optional) Evaluate the trained model on the test set\n",
    "    test_evaluator = EmbeddingSimilarityEvaluator(\n",
    "        sentences1=sentences1,\n",
    "        sentences2=sentences2,\n",
    "        scores=eval_dataset[\"score\"],\n",
    "        main_similarity=SimilarityFunction.COSINE,\n",
    "        name=\"sts-dev\",\n",
    "        write_csv= True\n",
    "    )\n",
    "    test_evaluator(sentence_transformer)\n",
    "\n",
    "    # 8. Save the trained model\n",
    "    sentence_transformer.save_pretrained(\"output/mpnet-base-all-nli-triplet/final\")\n",
    "\n",
    "    # 9. (Optional) Push it to the Hugging Face Hub\n",
    "    # model.push_to_hub(\"mpnet-base-all-nli-triplet\")"
   ]
  },
  {
   "cell_type": "code",
   "execution_count": 97,
   "metadata": {},
   "outputs": [
    {
     "name": "stderr",
     "output_type": "stream",
     "text": [
      "A parameter name that contains `beta` will be renamed internally to `bias`. Please use a different name to suppress this warning.\n",
      "A parameter name that contains `gamma` will be renamed internally to `weight`. Please use a different name to suppress this warning.\n",
      "A parameter name that contains `beta` will be renamed internally to `bias`. Please use a different name to suppress this warning.\n",
      "A parameter name that contains `gamma` will be renamed internally to `weight`. Please use a different name to suppress this warning.\n",
      "A parameter name that contains `beta` will be renamed internally to `bias`. Please use a different name to suppress this warning.\n",
      "A parameter name that contains `gamma` will be renamed internally to `weight`. Please use a different name to suppress this warning.\n",
      "A parameter name that contains `beta` will be renamed internally to `bias`. Please use a different name to suppress this warning.\n",
      "A parameter name that contains `gamma` will be renamed internally to `weight`. Please use a different name to suppress this warning.\n",
      "A parameter name that contains `beta` will be renamed internally to `bias`. Please use a different name to suppress this warning.\n",
      "A parameter name that contains `gamma` will be renamed internally to `weight`. Please use a different name to suppress this warning.\n",
      "A parameter name that contains `beta` will be renamed internally to `bias`. Please use a different name to suppress this warning.\n",
      "A parameter name that contains `gamma` will be renamed internally to `weight`. Please use a different name to suppress this warning.\n",
      "A parameter name that contains `beta` will be renamed internally to `bias`. Please use a different name to suppress this warning.\n",
      "A parameter name that contains `gamma` will be renamed internally to `weight`. Please use a different name to suppress this warning.\n",
      "A parameter name that contains `beta` will be renamed internally to `bias`. Please use a different name to suppress this warning.\n",
      "A parameter name that contains `gamma` will be renamed internally to `weight`. Please use a different name to suppress this warning.\n",
      "A parameter name that contains `beta` will be renamed internally to `bias`. Please use a different name to suppress this warning.\n",
      "A parameter name that contains `gamma` will be renamed internally to `weight`. Please use a different name to suppress this warning.\n",
      "A parameter name that contains `beta` will be renamed internally to `bias`. Please use a different name to suppress this warning.\n",
      "A parameter name that contains `gamma` will be renamed internally to `weight`. Please use a different name to suppress this warning.\n",
      "A parameter name that contains `beta` will be renamed internally to `bias`. Please use a different name to suppress this warning.\n",
      "A parameter name that contains `gamma` will be renamed internally to `weight`. Please use a different name to suppress this warning.\n",
      "A parameter name that contains `beta` will be renamed internally to `bias`. Please use a different name to suppress this warning.\n",
      "A parameter name that contains `gamma` will be renamed internally to `weight`. Please use a different name to suppress this warning.\n",
      "A parameter name that contains `beta` will be renamed internally to `bias`. Please use a different name to suppress this warning.\n",
      "A parameter name that contains `gamma` will be renamed internally to `weight`. Please use a different name to suppress this warning.\n",
      "A parameter name that contains `beta` will be renamed internally to `bias`. Please use a different name to suppress this warning.\n",
      "A parameter name that contains `gamma` will be renamed internally to `weight`. Please use a different name to suppress this warning.\n",
      "A parameter name that contains `beta` will be renamed internally to `bias`. Please use a different name to suppress this warning.\n",
      "A parameter name that contains `gamma` will be renamed internally to `weight`. Please use a different name to suppress this warning.\n",
      "A parameter name that contains `beta` will be renamed internally to `bias`. Please use a different name to suppress this warning.\n",
      "A parameter name that contains `gamma` will be renamed internally to `weight`. Please use a different name to suppress this warning.\n",
      "A parameter name that contains `beta` will be renamed internally to `bias`. Please use a different name to suppress this warning.\n",
      "A parameter name that contains `gamma` will be renamed internally to `weight`. Please use a different name to suppress this warning.\n",
      "A parameter name that contains `beta` will be renamed internally to `bias`. Please use a different name to suppress this warning.\n",
      "A parameter name that contains `gamma` will be renamed internally to `weight`. Please use a different name to suppress this warning.\n",
      "A parameter name that contains `beta` will be renamed internally to `bias`. Please use a different name to suppress this warning.\n",
      "A parameter name that contains `gamma` will be renamed internally to `weight`. Please use a different name to suppress this warning.\n",
      "A parameter name that contains `beta` will be renamed internally to `bias`. Please use a different name to suppress this warning.\n",
      "A parameter name that contains `gamma` will be renamed internally to `weight`. Please use a different name to suppress this warning.\n",
      "A parameter name that contains `beta` will be renamed internally to `bias`. Please use a different name to suppress this warning.\n",
      "A parameter name that contains `gamma` will be renamed internally to `weight`. Please use a different name to suppress this warning.\n",
      "A parameter name that contains `beta` will be renamed internally to `bias`. Please use a different name to suppress this warning.\n",
      "A parameter name that contains `gamma` will be renamed internally to `weight`. Please use a different name to suppress this warning.\n",
      "A parameter name that contains `beta` will be renamed internally to `bias`. Please use a different name to suppress this warning.\n",
      "A parameter name that contains `gamma` will be renamed internally to `weight`. Please use a different name to suppress this warning.\n",
      "A parameter name that contains `beta` will be renamed internally to `bias`. Please use a different name to suppress this warning.\n",
      "A parameter name that contains `gamma` will be renamed internally to `weight`. Please use a different name to suppress this warning.\n",
      "A parameter name that contains `beta` will be renamed internally to `bias`. Please use a different name to suppress this warning.\n",
      "A parameter name that contains `gamma` will be renamed internally to `weight`. Please use a different name to suppress this warning.\n",
      "A parameter name that contains `beta` will be renamed internally to `bias`. Please use a different name to suppress this warning.\n",
      "A parameter name that contains `gamma` will be renamed internally to `weight`. Please use a different name to suppress this warning.\n",
      "/home/selena/sele/SRBedding/.venv/lib/python3.10/site-packages/transformers/tokenization_utils_base.py:1601: FutureWarning: `clean_up_tokenization_spaces` was not set. It will be set to `True` by default. This behavior will be depracted in transformers v4.45, and will be then set to `False` by default. For more details check this issue: https://github.com/huggingface/transformers/issues/31884\n",
      "  warnings.warn(\n"
     ]
    },
    {
     "name": "stdout",
     "output_type": "stream",
     "text": [
      "duzina 2\n"
     ]
    },
    {
     "data": {
      "application/vnd.jupyter.widget-view+json": {
       "model_id": "11030c8c19154e1bbaf5a858175dce1f",
       "version_major": 2,
       "version_minor": 0
      },
      "text/plain": [
       "  0%|          | 0/10 [00:00<?, ?it/s]"
      ]
     },
     "metadata": {},
     "output_type": "display_data"
    },
    {
     "data": {
      "application/vnd.jupyter.widget-view+json": {
       "model_id": "d599df9978324949a690be221b6c4d26",
       "version_major": 2,
       "version_minor": 0
      },
      "text/plain": [
       "Computing widget examples:   0%|          | 0/1 [00:00<?, ?example/s]"
      ]
     },
     "metadata": {},
     "output_type": "display_data"
    },
    {
     "data": {
      "application/vnd.jupyter.widget-view+json": {
       "model_id": "10e03e8db2344eeab42b6ac527731d12",
       "version_major": 2,
       "version_minor": 0
      },
      "text/plain": [
       "Computing widget examples:   0%|          | 0/1 [00:00<?, ?example/s]"
      ]
     },
     "metadata": {},
     "output_type": "display_data"
    },
    {
     "name": "stdout",
     "output_type": "stream",
     "text": [
      "{'train_runtime': 39.6876, 'train_samples_per_second': 2.016, 'train_steps_per_second': 0.252, 'train_loss': 0.08415066003799439, 'epoch': 10.0}\n"
     ]
    },
    {
     "data": {
      "application/vnd.jupyter.widget-view+json": {
       "model_id": "54ec2e78c4fa44adaefa2f3ccb95ed3b",
       "version_major": 2,
       "version_minor": 0
      },
      "text/plain": [
       "Computing widget examples:   0%|          | 0/1 [00:00<?, ?example/s]"
      ]
     },
     "metadata": {},
     "output_type": "display_data"
    },
    {
     "data": {
      "application/vnd.jupyter.widget-view+json": {
       "model_id": "736c3e281318483397d0d11259653cf7",
       "version_major": 2,
       "version_minor": 0
      },
      "text/plain": [
       "Computing widget examples:   0%|          | 0/1 [00:00<?, ?example/s]"
      ]
     },
     "metadata": {},
     "output_type": "display_data"
    }
   ],
   "source": [
    "train_a_model(model_name, args=args)"
   ]
  },
  {
   "cell_type": "code",
   "execution_count": 86,
   "metadata": {},
   "outputs": [],
   "source": [
    "def make_gold_samle(df_train):\n",
    "    gold_samples = []\n",
    "    batch_size = 16\n",
    "    for df in df_train:\n",
    "        score = float(df['score'])/5.0  # Normalize score to range 0 ... 1\n",
    "        gold_samples.append(InputExample(texts=[df['sentence1'], df['sentence2']], label=score))\n",
    "        gold_samples.append(InputExample(texts=[df['sentence2'], df['sentence1']], label=score))\n",
    "    # We wrap gold_samples (which is a List[InputExample]) into a pytorch DataLoader\n",
    "    return DataLoader(gold_samples, shuffle=True, batch_size=batch_size), gold_samples"
   ]
  },
  {
   "cell_type": "code",
   "execution_count": 87,
   "metadata": {},
   "outputs": [
    {
     "name": "stderr",
     "output_type": "stream",
     "text": [
      "A parameter name that contains `beta` will be renamed internally to `bias`. Please use a different name to suppress this warning.\n",
      "A parameter name that contains `gamma` will be renamed internally to `weight`. Please use a different name to suppress this warning.\n",
      "A parameter name that contains `beta` will be renamed internally to `bias`. Please use a different name to suppress this warning.\n",
      "A parameter name that contains `gamma` will be renamed internally to `weight`. Please use a different name to suppress this warning.\n",
      "A parameter name that contains `beta` will be renamed internally to `bias`. Please use a different name to suppress this warning.\n",
      "A parameter name that contains `gamma` will be renamed internally to `weight`. Please use a different name to suppress this warning.\n",
      "A parameter name that contains `beta` will be renamed internally to `bias`. Please use a different name to suppress this warning.\n",
      "A parameter name that contains `gamma` will be renamed internally to `weight`. Please use a different name to suppress this warning.\n",
      "A parameter name that contains `beta` will be renamed internally to `bias`. Please use a different name to suppress this warning.\n",
      "A parameter name that contains `gamma` will be renamed internally to `weight`. Please use a different name to suppress this warning.\n",
      "A parameter name that contains `beta` will be renamed internally to `bias`. Please use a different name to suppress this warning.\n",
      "A parameter name that contains `gamma` will be renamed internally to `weight`. Please use a different name to suppress this warning.\n",
      "A parameter name that contains `beta` will be renamed internally to `bias`. Please use a different name to suppress this warning.\n",
      "A parameter name that contains `gamma` will be renamed internally to `weight`. Please use a different name to suppress this warning.\n",
      "A parameter name that contains `beta` will be renamed internally to `bias`. Please use a different name to suppress this warning.\n",
      "A parameter name that contains `gamma` will be renamed internally to `weight`. Please use a different name to suppress this warning.\n",
      "A parameter name that contains `beta` will be renamed internally to `bias`. Please use a different name to suppress this warning.\n",
      "A parameter name that contains `gamma` will be renamed internally to `weight`. Please use a different name to suppress this warning.\n",
      "A parameter name that contains `beta` will be renamed internally to `bias`. Please use a different name to suppress this warning.\n",
      "A parameter name that contains `gamma` will be renamed internally to `weight`. Please use a different name to suppress this warning.\n",
      "A parameter name that contains `beta` will be renamed internally to `bias`. Please use a different name to suppress this warning.\n",
      "A parameter name that contains `gamma` will be renamed internally to `weight`. Please use a different name to suppress this warning.\n",
      "A parameter name that contains `beta` will be renamed internally to `bias`. Please use a different name to suppress this warning.\n",
      "A parameter name that contains `gamma` will be renamed internally to `weight`. Please use a different name to suppress this warning.\n",
      "A parameter name that contains `beta` will be renamed internally to `bias`. Please use a different name to suppress this warning.\n",
      "A parameter name that contains `gamma` will be renamed internally to `weight`. Please use a different name to suppress this warning.\n",
      "A parameter name that contains `beta` will be renamed internally to `bias`. Please use a different name to suppress this warning.\n",
      "A parameter name that contains `gamma` will be renamed internally to `weight`. Please use a different name to suppress this warning.\n",
      "A parameter name that contains `beta` will be renamed internally to `bias`. Please use a different name to suppress this warning.\n",
      "A parameter name that contains `gamma` will be renamed internally to `weight`. Please use a different name to suppress this warning.\n",
      "A parameter name that contains `beta` will be renamed internally to `bias`. Please use a different name to suppress this warning.\n",
      "A parameter name that contains `gamma` will be renamed internally to `weight`. Please use a different name to suppress this warning.\n",
      "A parameter name that contains `beta` will be renamed internally to `bias`. Please use a different name to suppress this warning.\n",
      "A parameter name that contains `gamma` will be renamed internally to `weight`. Please use a different name to suppress this warning.\n",
      "A parameter name that contains `beta` will be renamed internally to `bias`. Please use a different name to suppress this warning.\n",
      "A parameter name that contains `gamma` will be renamed internally to `weight`. Please use a different name to suppress this warning.\n",
      "A parameter name that contains `beta` will be renamed internally to `bias`. Please use a different name to suppress this warning.\n",
      "A parameter name that contains `gamma` will be renamed internally to `weight`. Please use a different name to suppress this warning.\n",
      "A parameter name that contains `beta` will be renamed internally to `bias`. Please use a different name to suppress this warning.\n",
      "A parameter name that contains `gamma` will be renamed internally to `weight`. Please use a different name to suppress this warning.\n",
      "A parameter name that contains `beta` will be renamed internally to `bias`. Please use a different name to suppress this warning.\n",
      "A parameter name that contains `gamma` will be renamed internally to `weight`. Please use a different name to suppress this warning.\n",
      "A parameter name that contains `beta` will be renamed internally to `bias`. Please use a different name to suppress this warning.\n",
      "A parameter name that contains `gamma` will be renamed internally to `weight`. Please use a different name to suppress this warning.\n",
      "A parameter name that contains `beta` will be renamed internally to `bias`. Please use a different name to suppress this warning.\n",
      "A parameter name that contains `gamma` will be renamed internally to `weight`. Please use a different name to suppress this warning.\n",
      "A parameter name that contains `beta` will be renamed internally to `bias`. Please use a different name to suppress this warning.\n",
      "A parameter name that contains `gamma` will be renamed internally to `weight`. Please use a different name to suppress this warning.\n",
      "A parameter name that contains `beta` will be renamed internally to `bias`. Please use a different name to suppress this warning.\n",
      "A parameter name that contains `gamma` will be renamed internally to `weight`. Please use a different name to suppress this warning.\n",
      "A parameter name that contains `beta` will be renamed internally to `bias`. Please use a different name to suppress this warning.\n",
      "A parameter name that contains `gamma` will be renamed internally to `weight`. Please use a different name to suppress this warning.\n",
      "Some weights of BertForSequenceClassification were not initialized from the model checkpoint at google-bert/bert-base-multilingual-cased and are newly initialized: ['classifier.bias', 'classifier.weight']\n",
      "You should probably TRAIN this model on a down-stream task to be able to use it for predictions and inference.\n",
      "/home/selena/sele/SRBedding/.venv/lib/python3.10/site-packages/transformers/tokenization_utils_base.py:1601: FutureWarning: `clean_up_tokenization_spaces` was not set. It will be set to `True` by default. This behavior will be depracted in transformers v4.45, and will be then set to `False` by default. For more details check this issue: https://github.com/huggingface/transformers/issues/31884\n",
      "  warnings.warn(\n"
     ]
    }
   ],
   "source": [
    "cross_encoder_path = 'output/cross-encoder/stsb_indomain_'+model_name.replace(\"/\", \"-\")+'-'+datetime.now().strftime(\"%d-%m-%Y_%H-%M-%S\")\n",
    "\n",
    "###### Cross-encoder (simpletransformers) ######\n",
    "# Use Huggingface/transformers model (like BERT, RoBERTa, XLNet, XLM-R) for cross-encoder model\n",
    "cross_encoder = CrossEncoder(model_name, num_labels=1)\n",
    "\n",
    "evaluator = CECorrelationEvaluator.from_input_examples(eval_with_text, name='sts-dev')\n",
    "train_dataloader, gold_samples = make_gold_samle(train_dataset)\n",
    "# Configure the training\n",
    "# warmup_steps = math.ceil(len(train_dataloader) * num_epochs * 0.1) #10% of train data for warm-up"
   ]
  },
  {
   "cell_type": "code",
   "execution_count": 88,
   "metadata": {},
   "outputs": [
    {
     "data": {
      "application/vnd.jupyter.widget-view+json": {
       "model_id": "a412ad335ca841cab0aacd6e76bdb2b1",
       "version_major": 2,
       "version_minor": 0
      },
      "text/plain": [
       "Epoch:   0%|          | 0/10 [00:00<?, ?it/s]"
      ]
     },
     "metadata": {},
     "output_type": "display_data"
    },
    {
     "data": {
      "application/vnd.jupyter.widget-view+json": {
       "model_id": "54f0c03bb26c46c99b6f287aa05eefba",
       "version_major": 2,
       "version_minor": 0
      },
      "text/plain": [
       "Iteration:   0%|          | 0/1 [00:00<?, ?it/s]"
      ]
     },
     "metadata": {},
     "output_type": "display_data"
    },
    {
     "data": {
      "application/vnd.jupyter.widget-view+json": {
       "model_id": "7bc17fd06cea4e9099e88d9a9cb2e6d5",
       "version_major": 2,
       "version_minor": 0
      },
      "text/plain": [
       "Iteration:   0%|          | 0/1 [00:00<?, ?it/s]"
      ]
     },
     "metadata": {},
     "output_type": "display_data"
    },
    {
     "data": {
      "application/vnd.jupyter.widget-view+json": {
       "model_id": "46fd244441f846c7abce6e6ce9bd0b5c",
       "version_major": 2,
       "version_minor": 0
      },
      "text/plain": [
       "Iteration:   0%|          | 0/1 [00:00<?, ?it/s]"
      ]
     },
     "metadata": {},
     "output_type": "display_data"
    },
    {
     "data": {
      "application/vnd.jupyter.widget-view+json": {
       "model_id": "2284f3c69724438283f9e49972d1ac98",
       "version_major": 2,
       "version_minor": 0
      },
      "text/plain": [
       "Iteration:   0%|          | 0/1 [00:00<?, ?it/s]"
      ]
     },
     "metadata": {},
     "output_type": "display_data"
    },
    {
     "data": {
      "application/vnd.jupyter.widget-view+json": {
       "model_id": "87a2639519e54e779a5f2a7639775957",
       "version_major": 2,
       "version_minor": 0
      },
      "text/plain": [
       "Iteration:   0%|          | 0/1 [00:00<?, ?it/s]"
      ]
     },
     "metadata": {},
     "output_type": "display_data"
    },
    {
     "data": {
      "application/vnd.jupyter.widget-view+json": {
       "model_id": "05654b69004a47e4bc930d1e417a5547",
       "version_major": 2,
       "version_minor": 0
      },
      "text/plain": [
       "Iteration:   0%|          | 0/1 [00:00<?, ?it/s]"
      ]
     },
     "metadata": {},
     "output_type": "display_data"
    },
    {
     "data": {
      "application/vnd.jupyter.widget-view+json": {
       "model_id": "efa7d3aa89964ca6917de036b1c6b701",
       "version_major": 2,
       "version_minor": 0
      },
      "text/plain": [
       "Iteration:   0%|          | 0/1 [00:00<?, ?it/s]"
      ]
     },
     "metadata": {},
     "output_type": "display_data"
    },
    {
     "data": {
      "application/vnd.jupyter.widget-view+json": {
       "model_id": "59b8731ab0374c6ea20627f43d838522",
       "version_major": 2,
       "version_minor": 0
      },
      "text/plain": [
       "Iteration:   0%|          | 0/1 [00:00<?, ?it/s]"
      ]
     },
     "metadata": {},
     "output_type": "display_data"
    },
    {
     "data": {
      "application/vnd.jupyter.widget-view+json": {
       "model_id": "504204885a3d413abc8efe498b86b35c",
       "version_major": 2,
       "version_minor": 0
      },
      "text/plain": [
       "Iteration:   0%|          | 0/1 [00:00<?, ?it/s]"
      ]
     },
     "metadata": {},
     "output_type": "display_data"
    },
    {
     "data": {
      "application/vnd.jupyter.widget-view+json": {
       "model_id": "54b6b1417b204936b0b241419c689e4c",
       "version_major": 2,
       "version_minor": 0
      },
      "text/plain": [
       "Iteration:   0%|          | 0/1 [00:00<?, ?it/s]"
      ]
     },
     "metadata": {},
     "output_type": "display_data"
    }
   ],
   "source": [
    "num_epochs = 10\n",
    "warmup_steps = math.ceil(len(train_dataloader) * num_epochs * 0.1) #10% of train data for warm-up\n",
    "\n",
    "cross_encoder.fit(train_dataloader=train_dataloader,\n",
    "          evaluator=evaluator,\n",
    "          epochs=num_epochs,\n",
    "          evaluation_steps=1000,\n",
    "          optimizer_params={'lr': 1e-5, \n",
    "                            'eps': 1e-6,},\n",
    "          warmup_steps=warmup_steps,\n",
    "          output_path=cross_encoder_path)"
   ]
  },
  {
   "cell_type": "code",
   "execution_count": 89,
   "metadata": {},
   "outputs": [],
   "source": [
    "def get_silver_datset(gold_samples):\n",
    "\n",
    "    # Generation of the sentences\n",
    "    sentences = set()\n",
    "\n",
    "    for sample in gold_samples:\n",
    "        sentences.update(sample.texts)\n",
    "\n",
    "    sentences = list(sentences) # unique sentences\n",
    "    sent2idx = {sentence: idx for idx, sentence in enumerate(sentences)} # storing id and sentence in dictionary\n",
    "    duplicates = set((sent2idx[data.texts[0]], sent2idx[data.texts[1]]) for data in gold_samples) # not to include gold pairs of sentences again\n",
    "    return sentences, sent2idx, duplicates\n"
   ]
  },
  {
   "cell_type": "code",
   "execution_count": 90,
   "metadata": {},
   "outputs": [],
   "source": [
    "def load_model(model_save_path: str) -> SentenceTransformer:\n",
    "    \"\"\"\n",
    "    Load a SentenceTransformer model from a specified path.\n",
    "\n",
    "    :param model_save_path: The directory where the model is saved.\n",
    "    :return: The loaded SentenceTransformer model.\n",
    "    \"\"\"\n",
    "    model = SentenceTransformer(model_save_path)\n",
    "    return model"
   ]
  },
  {
   "cell_type": "code",
   "execution_count": 91,
   "metadata": {},
   "outputs": [
    {
     "name": "stdout",
     "output_type": "stream",
     "text": [
      "16\n"
     ]
    },
    {
     "name": "stderr",
     "output_type": "stream",
     "text": [
      "  0%|          | 0/16 [00:00<?, ?docs/s]"
     ]
    },
    {
     "name": "stdout",
     "output_type": "stream",
     "text": [
      "AAAAAaaaaaaaaaaa\n",
      "AAAAAaaaaaaaaaaa\n",
      "AAAAAaaaaaaaaaaa\n",
      "AAAAAaaaaaaaaaaa\n",
      "AAAAAaaaaaaaaaaa\n",
      "AAAAAaaaaaaaaaaa\n",
      "AAAAAaaaaaaaaaaa\n",
      "AAAAAaaaaaaaaaaa\n",
      "AAAAAaaaaaaaaaaa\n",
      "AAAAAaaaaaaaaaaa\n",
      "AAAAAaaaaaaaaaaa\n",
      "AAAAAaaaaaaaaaaa\n",
      "AAAAAaaaaaaaaaaa\n",
      "AAAAAaaaaaaaaaaa\n",
      "AAAAAaaaaaaaaaaa\n",
      "AAAAAaaaaaaaaaaa\n"
     ]
    },
    {
     "name": "stderr",
     "output_type": "stream",
     "text": [
      "\n"
     ]
    }
   ],
   "source": [
    "\n",
    "# Load the bi-encoder model which is trained in Phase 1\n",
    "\n",
    "\n",
    "sentences, sent2idx, duplicates = get_silver_datset(gold_samples=gold_samples)\n",
    "print(len(sentences))\n",
    "semantic_search_model = load_model(model_save_path=f'{model_save_path}/checkpoint-1/')\n",
    "# logging.info(\"Encoding unique sentences with semantic search model: {}\".format(semantic_model_name))\n",
    "\n",
    "# encoding all unique sentences present in the training dataset\n",
    "embeddings = semantic_search_model.encode(sentences, batch_size=16, convert_to_tensor=True)\n",
    "\n",
    "# logging.info(\"Retrieve top-{} with semantic search model: {}\".format(top_k, semantic_model_name))\n",
    "\n",
    "# retrieving top-k sentences given a sentence from the dataset\n",
    "top_k=2\n",
    "silver_data = []\n",
    "progress = tqdm.tqdm(unit=\"docs\", total=len(sent2idx))\n",
    "for idx in range(len(sentences)):\n",
    "    print(\"AAAAAaaaaaaaaaaa\")\n",
    "    sentence_embedding = embeddings[idx]\n",
    "    cos_scores = util.cos_sim(sentence_embedding, embeddings)[0]\n",
    "    cos_scores = cos_scores.cpu()\n",
    "    progress.update(1)\n",
    "\n",
    "    # We use torch.topk to find the highest 5 scores\n",
    "    top_results = torch.topk(cos_scores, k=top_k+1)\n",
    "    \n",
    "    for score, iid in zip(top_results[0], top_results[1]):\n",
    "        if iid != idx and (iid, idx) not in duplicates:\n",
    "            silver_data.append((sentences[idx], sentences[iid]))\n",
    "            duplicates.add((idx,iid))            \n",
    "progress.reset()\n",
    "progress.close()"
   ]
  },
  {
   "cell_type": "code",
   "execution_count": 92,
   "metadata": {},
   "outputs": [],
   "source": [
    "cross_encoder = CrossEncoder(cross_encoder_path)\n",
    "silver_scores = cross_encoder.predict(silver_data)\n",
    "\n",
    "# All model predictions should be between [0,1]\n",
    "assert all(0.0 <= score <= 1.0 for score in silver_scores)\n"
   ]
  },
  {
   "cell_type": "code",
   "execution_count": 93,
   "metadata": {},
   "outputs": [],
   "source": [
    "silver_samples = list(InputExample(texts=[data[0], data[1]], label=score) for \\\n",
    "    data, score in zip(silver_data, silver_scores))\n",
    "train_dataloader = DataLoader(gold_samples + silver_samples, shuffle=True, batch_size=16)\n"
   ]
  },
  {
   "cell_type": "code",
   "execution_count": 100,
   "metadata": {},
   "outputs": [
    {
     "data": {
      "application/vnd.jupyter.widget-view+json": {
       "model_id": "439d52c0d8314257bdb488e73987bb58",
       "version_major": 2,
       "version_minor": 0
      },
      "text/plain": [
       "  0%|          | 0/30 [00:00<?, ?it/s]"
      ]
     },
     "metadata": {},
     "output_type": "display_data"
    },
    {
     "name": "stdout",
     "output_type": "stream",
     "text": [
      "{'train_runtime': 354.8044, 'train_samples_per_second': 1.353, 'train_steps_per_second': 0.085, 'train_loss': 0.20320353507995606, 'epoch': 10.0}\n"
     ]
    }
   ],
   "source": [
    "train_loss = losses.CosineSimilarityLoss(model=semantic_search_model)\n",
    "train_loss = losses.MatryoshkaLoss(model=semantic_search_model, loss=train_loss, matryoshka_dims=[768, 512, 256, 128, 64])\n",
    "  \n",
    "# logging.info(\"Read STSbenchmark dev dataset\")\n",
    "# evaluator = EmbeddingSimilarityEvaluator.from_input_examples(dev_samples, name='sts-dev')\n",
    "evaluator = EmbeddingSimilarityEvaluator(\n",
    "        sentences1=eval_dataset['sentence1'],\n",
    "        sentences2=eval_dataset['sentence2'],\n",
    "        scores=eval_dataset['score'],\n",
    "        main_similarity=SimilarityFunction.COSINE,\n",
    "        name=\"sts-dev\",\n",
    "        write_csv=True\n",
    "    )\n",
    "# Configure the training.\n",
    "warmup_steps = math.ceil(len(train_dataloader) * num_epochs * 0.1) #10% of train data for warm-up\n",
    "# logging.info(\"Warmup-steps: {}\".format(warmup_steps))\n",
    "# Train the bi-encoder model\n",
    "semantic_search_model.fit(train_objectives=[(train_dataloader, train_loss)],\n",
    "          evaluator=evaluator,\n",
    "          epochs=num_epochs,\n",
    "          evaluation_steps=1000,\n",
    "          warmup_steps=warmup_steps,\n",
    ")"
   ]
  }
 ],
 "metadata": {
  "kernelspec": {
   "display_name": "srbedding-4dwWae5r-py3.10",
   "language": "python",
   "name": "python3"
  },
  "language_info": {
   "codemirror_mode": {
    "name": "ipython",
    "version": 3
   },
   "file_extension": ".py",
   "mimetype": "text/x-python",
   "name": "python",
   "nbconvert_exporter": "python",
   "pygments_lexer": "ipython3",
   "version": "3.10.14"
  }
 },
 "nbformat": 4,
 "nbformat_minor": 2
}
