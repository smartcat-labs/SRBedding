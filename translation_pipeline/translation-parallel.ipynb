{
 "cells": [
  {
   "cell_type": "code",
   "execution_count": 28,
   "metadata": {},
   "outputs": [],
   "source": [
    "from pathlib import Path\n",
    "from pprint import pprint\n",
    "from datasets import load_dataset\n",
    "\n",
    "import json\n",
    "import os\n",
    "from openai import OpenAI\n",
    "from typing import List, Dict"
   ]
  },
  {
   "cell_type": "code",
   "execution_count": 26,
   "metadata": {},
   "outputs": [],
   "source": [
    "client = OpenAI(api_key=os.environ[\"OPENAI_API_KEY\"])"
   ]
  },
  {
   "cell_type": "code",
   "execution_count": 18,
   "metadata": {},
   "outputs": [
    {
     "name": "stdout",
     "output_type": "stream",
     "text": [
      "/Users/studeni/Datasets/SRBedding_datasets/ms_marco_v1\n"
     ]
    }
   ],
   "source": [
    "datasets_dir = Path(\"~/Datasets/\").expanduser()\n",
    "assert datasets_dir.exists(), \"Datasets directory not found\"\n",
    "datasets_dir = datasets_dir / \"SRBedding_datasets/ms_marco_v1\"\n",
    "print(datasets_dir)\n",
    "datasets_dir.mkdir(parents=True, exist_ok=True)"
   ]
  },
  {
   "cell_type": "code",
   "execution_count": 19,
   "metadata": {},
   "outputs": [
    {
     "data": {
      "text/plain": [
       "Dataset({\n",
       "    features: ['passages', 'query', 'query_id'],\n",
       "    num_rows: 9650\n",
       "})"
      ]
     },
     "execution_count": 19,
     "metadata": {},
     "output_type": "execute_result"
    }
   ],
   "source": [
    "data = load_dataset(\"microsoft/ms_marco\", \"v1.1\", cache_dir=datasets_dir)\n",
    "data_test = data[\"test\"]\n",
    "ms_marco = data_test.select_columns([\"passages\", \"query\", \"query_id\"])\n",
    "ms_marco"
   ]
  },
  {
   "cell_type": "code",
   "execution_count": 22,
   "metadata": {},
   "outputs": [
    {
     "name": "stdout",
     "output_type": "stream",
     "text": [
      "{'passage_text': ['We have been feeding our back yard squirrels for the fall '\n",
      "                  'and winter and we noticed that a few of them have missing '\n",
      "                  'fur. One has a patch missing down his back and under both '\n",
      "                  'arms. Also another has some missing on his whole chest. '\n",
      "                  'They are all eating and seem to have a good appetite.',\n",
      "                  'Critters cannot stand the smell of human hair, so '\n",
      "                  'sprinkling a barrier of hair clippings around your garden, '\n",
      "                  'or lightly working it into the soil when you plant bulbs, '\n",
      "                  'apparently does have some merit. The whole thing kind of '\n",
      "                  'makes me laugh. It never occurred to me that we are the '\n",
      "                  'ones that stink.',\n",
      "                  'Spread some human hair around your vegetable and flower '\n",
      "                  'gardens. This will scare the squirrels away because humans '\n",
      "                  \"are predators of squirrels. It is better if the hair hasn't \"\n",
      "                  'been washed so the squirrels will easily pick up the human '\n",
      "                  'scent.',\n",
      "                  '1 You can sprinkle blood meal around your garden as well. '\n",
      "                  '2  Don’t trap and relocate squirrels. 3  This is a losing '\n",
      "                  'battle since the population of squirrels is extremely high. '\n",
      "                  '4  Also, if the animal is a female there is a high '\n",
      "                  'likelihood that you will remove her from babies that depend '\n",
      "                  'on her for survival.',\n",
      "                  'Hair loss in squirrels can be caused by mange or fungal '\n",
      "                  'disease. Mange is a disease caused by microscopic mites '\n",
      "                  'that burrow under the skin. The squirrel mange mite has '\n",
      "                  'been reported in both fox and gray squirrels. There have '\n",
      "                  'been no reports of this type of mange being transmitted to '\n",
      "                  'humans or domestic pets.',\n",
      "                  '1 You can also scatter dog or human hair around your '\n",
      "                  'garden. 2  One readers shares, “I used to have a problem '\n",
      "                  'with squirrels digging up my bulbs. 3  Now, once in the '\n",
      "                  'spring and once in the fall, I ask my hairdresser to save a '\n",
      "                  'big bag of hair for me. 4  I lightly dig this into the '\n",
      "                  'soil.',\n",
      "                  'Rabbit repellent. Human hair will keep rabbits out of your '\n",
      "                  'garden!! Collect hair from your brushes and spread it '\n",
      "                  'around your garden! (via Pioneer Thinking). Natural mulch. '\n",
      "                  'When woven into a mat, it retains moisture, it deters '\n",
      "                  'weeds. In some instances, it can actually reduce soil '\n",
      "                  'erosion. (via NPR). Plant fertilizer.'],\n",
      " 'query': 'does human hair stop squirrels',\n",
      " 'query_id': 0}\n"
     ]
    }
   ],
   "source": [
    "test_data = []\n",
    "for i in range(3):\n",
    "    test_data.append(\n",
    "        {\n",
    "            \"query_id\": ms_marco[\"query_id\"][i],\n",
    "            \"query\": ms_marco[\"query\"][i],\n",
    "            \"passage_text\": ms_marco[\"passages\"][i][\"passage_text\"],\n",
    "        }\n",
    "    )\n",
    "\n",
    "pprint(test_data[0])"
   ]
  },
  {
   "cell_type": "code",
   "execution_count": 29,
   "metadata": {},
   "outputs": [],
   "source": [
    "SYSTEM_PROMPT = \"\"\"\n",
    "***TRANSLATION FROM ENGLISH TO SERBIAN***\n",
    "\n",
    "**GOALS**\n",
    "\n",
    "You are a professional translator fluent in English and Serbian. \n",
    "Your primary goal is to produce a high-quality, natural-sounding translation from English to Serbian. \n",
    "You are translating texts and questions pertaining to the texts. The translation is intended for dataset creation. Look at the example below:\n",
    "\n",
    "***TRANSLATION EXAMPLE***\n",
    "***ENGLISH***\n",
    "query: 'What is a unicorn?'\n",
    "passage_text: 'The unicorn is a legendary creature that has been described since antiquity as a beast with a single large, pointed, spiraling horn projecting from its forehead.'\n",
    "\n",
    "***SERBIAN TRANSLATION***\n",
    "query: 'Šta je jednorog?'\n",
    "passage_text: 'Jednorog je mitsko stvorenje koje se od davnina opisuje kao zver sa jednim velikim, šiljastim, spiralnim rogom koji mu viri iz čela.'\n",
    "***END OF TRANSLATION EXAMPLE***\n",
    "\n",
    "To translate, follow the steps below:\n",
    "   **TRANSLATION INSTRUCTIONS**\n",
    "   1. Read and understand the sentence in English.\n",
    "   2. When you understand the English sentence, start to translate.\n",
    "   3. Pay close attention to both left and right context when you are making translation decisions.  4. Convey the original context, tone and meaning in the Serbian translation.\n",
    "   4. Avoid literal translations and ensure the output reads naturally in Serbian.\n",
    "   5. The translation must be contextually accurate, fluent, and adhere to the grammatical rules and lexicon of the Serbian language.\n",
    "   6. The declination of nouns, adjectives, and pronouns must be correct.\n",
    "   7. Make sure to proofread the translated text in Serbian and revise any mistakes. If no revisions are needed, provide the translations as they are.\n",
    "\n",
    "   **FORMATTING INSTRUCTIONS**\n",
    "   1. Strings should be enclosed within single quotation marks ('').\n",
    "   2. Use double quotes for strings and escape internal quotes with a backslashes (\\).\n",
    " \n",
    "   **OUTPUT FORMATTING**\n",
    "   1. The output must be a valid JSON file.\n",
    "   2. The output must be parsable by Python's 'json.loads()' function.\n",
    "   3. Ensure consistent JSON formatting as illustrated in the example below:\n",
    "\n",
    "      **EXAMPLE**\n",
    "      {'translations' : [{'query' : 'This is a query',\n",
    "                      ''passage_text ' : {'This is one passage. With another sentence.',\n",
    "                                          'This is yet another passage. With yet another sentence.'}]\n",
    "      }\n",
    "       **END OF EXAMPLE**\n",
    "\n",
    "   - Strictly follow the structure provided in the example when generating the output.   \n",
    "   - Make sure to translate text under both \"query\" and \"passage_text\" keys.\n",
    "\n",
    "\"\"\""
   ]
  },
  {
   "cell_type": "code",
   "execution_count": 35,
   "metadata": {},
   "outputs": [],
   "source": [
    "def save_jsonl(jobs: List[Dict], filename: str | Path) -> None:\n",
    "    with open(filename, \"w\", encoding=\"utf-8\") as f:\n",
    "        for job in jobs:\n",
    "            json_string = json.dumps(job, ensure_ascii=False)\n",
    "            f.write(json_string + \"\\n\")\n",
    "\n",
    "\n",
    "def make_jobs(\n",
    "    model: str, prompt: str, filename: str | Path, dataset: List[Dict[str, str]]\n",
    ") -> None:\n",
    "    jobs = [\n",
    "        {\n",
    "            \"model\": model,\n",
    "            \"response_format\": {\"type\": \"json_object\"},\n",
    "            \"temperature\": 0,\n",
    "            \"metadata\": {\"id\": sample[\"query_id\"]},\n",
    "            \"messages\": [\n",
    "                {\"role\": \"system\", \"content\": prompt},  # Can be done in one line\n",
    "                {\"role\": \"user\", \"content\": json.dumps(sample)},\n",
    "            ],\n",
    "        }\n",
    "        for sample in dataset\n",
    "    ]\n",
    "\n",
    "    save_jsonl(jobs, filename)"
   ]
  },
  {
   "cell_type": "code",
   "execution_count": 36,
   "metadata": {},
   "outputs": [],
   "source": [
    "model = \"gpt-3.5-turbo-0125\"\n",
    "make_jobs(model=model, prompt=SYSTEM_PROMPT, filename=\"test.jsonl\", dataset=test_data)"
   ]
  },
  {
   "cell_type": "markdown",
   "metadata": {},
   "source": [
    "## Terminal command"
   ]
  },
  {
   "cell_type": "markdown",
   "metadata": {},
   "source": [
    "python translation-pipeline-test/api_request_parallel_processor.py \\\n",
    "  --requests_filepath translation-pipeline-test/test.jsonl \\\n",
    "  --save_filepath translation-pipeline-test/test_results.jsonl \\\n",
    "  --request_url https://api.openai.com/v1/chat/completions \\\n",
    "  --max_requests_per_minute 4000 \\\n",
    "  --max_tokens_per_minute 1_250_000 \\\n",
    "  --token_encoding_name cl100k_base \\\n",
    "  --max_attempts 5 \\\n",
    "  --logging_level 20"
   ]
  },
  {
   "cell_type": "code",
   "execution_count": null,
   "metadata": {},
   "outputs": [],
   "source": [
    "# How to set env variable in terminal\n",
    "# export"
   ]
  }
 ],
 "metadata": {
  "kernelspec": {
   "display_name": ".venv",
   "language": "python",
   "name": "python3"
  },
  "language_info": {
   "codemirror_mode": {
    "name": "ipython",
    "version": 3
   },
   "file_extension": ".py",
   "mimetype": "text/x-python",
   "name": "python",
   "nbconvert_exporter": "python",
   "pygments_lexer": "ipython3",
   "version": "3.10.13"
  }
 },
 "nbformat": 4,
 "nbformat_minor": 2
}
