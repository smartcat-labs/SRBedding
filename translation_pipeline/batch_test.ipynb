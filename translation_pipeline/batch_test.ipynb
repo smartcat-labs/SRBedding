{
 "cells": [
  {
   "cell_type": "code",
   "execution_count": 4,
   "metadata": {},
   "outputs": [],
   "source": [
    "from openai import OpenAI\n",
    "client = OpenAI()\n",
    "import json\n",
    "import pandas as pd"
   ]
  },
  {
   "cell_type": "code",
   "execution_count": 61,
   "metadata": {},
   "outputs": [],
   "source": [
    "\n",
    "batch_input_file = client.files.create(\n",
    "  file=open(\"commands/batchinput.jsonl\", \"rb\"),\n",
    "  purpose=\"batch\"\n",
    ")"
   ]
  },
  {
   "cell_type": "code",
   "execution_count": 62,
   "metadata": {},
   "outputs": [
    {
     "data": {
      "text/plain": [
       "'file-4zkl7lVGXUzZ5gvYJnXXpfRa'"
      ]
     },
     "execution_count": 62,
     "metadata": {},
     "output_type": "execute_result"
    }
   ],
   "source": [
    "batch_input_file_id = batch_input_file.id\n",
    "\n",
    "nesto = client.batches.create(\n",
    "    input_file_id=batch_input_file_id,\n",
    "    endpoint=\"/v1/chat/completions\",\n",
    "    completion_window=\"24h\",\n",
    "    metadata={\n",
    "      \"description\": \"nightly eval job\"\n",
    "    }\n",
    ")\n",
    "\n",
    "batch_input_file_id"
   ]
  },
  {
   "cell_type": "code",
   "execution_count": 63,
   "metadata": {},
   "outputs": [
    {
     "data": {
      "text/plain": [
       "Batch(id='batch_Z9hM4ER1TLmPWM0fXkWSZUBr', completion_window='24h', created_at=1724315557, endpoint='/v1/chat/completions', input_file_id='file-4zkl7lVGXUzZ5gvYJnXXpfRa', object='batch', status='validating', cancelled_at=None, cancelling_at=None, completed_at=None, error_file_id=None, errors=None, expired_at=None, expires_at=1724401957, failed_at=None, finalizing_at=None, in_progress_at=None, metadata={'description': 'nightly eval job'}, output_file_id=None, request_counts=BatchRequestCounts(completed=0, failed=0, total=0))"
      ]
     },
     "execution_count": 63,
     "metadata": {},
     "output_type": "execute_result"
    }
   ],
   "source": [
    "nesto"
   ]
  },
  {
   "cell_type": "code",
   "execution_count": 64,
   "metadata": {},
   "outputs": [
    {
     "data": {
      "text/plain": [
       "'batch_Z9hM4ER1TLmPWM0fXkWSZUBr'"
      ]
     },
     "execution_count": 64,
     "metadata": {},
     "output_type": "execute_result"
    }
   ],
   "source": [
    "nesto.id"
   ]
  },
  {
   "cell_type": "code",
   "execution_count": 65,
   "metadata": {},
   "outputs": [],
   "source": [
    "nesto.output_file_id"
   ]
  },
  {
   "cell_type": "code",
   "execution_count": 66,
   "metadata": {},
   "outputs": [],
   "source": [
    "batch_job = client.batches.retrieve(nesto.id)\n"
   ]
  },
  {
   "cell_type": "code",
   "execution_count": 75,
   "metadata": {},
   "outputs": [
    {
     "data": {
      "text/plain": [
       "'completed'"
      ]
     },
     "execution_count": 75,
     "metadata": {},
     "output_type": "execute_result"
    }
   ],
   "source": [
    "batch_job.status"
   ]
  },
  {
   "cell_type": "code",
   "execution_count": 67,
   "metadata": {},
   "outputs": [
    {
     "data": {
      "text/plain": [
       "'file-gbr6B7dAJfsIkQdC0EQWKn0X'"
      ]
     },
     "execution_count": 67,
     "metadata": {},
     "output_type": "execute_result"
    }
   ],
   "source": [
    "batch_job.output_file_id"
   ]
  },
  {
   "cell_type": "code",
   "execution_count": 52,
   "metadata": {},
   "outputs": [
    {
     "data": {
      "text/plain": [
       "SyncPage[FileObject](data=[FileObject(id='file-hB8l332rrbox2I7UwC64slXS', bytes=638, created_at=1724314004, filename='batch_Dil24G7j9Tfx5kYSHsAgoTTu_error.jsonl', object='file', purpose='batch_output', status='processed', status_details=None), FileObject(id='file-4boNepsCWA7tR0EZcAlu8ZV9', bytes=604, created_at=1724313999, filename='batchinput.jsonl', object='file', purpose='batch', status='processed', status_details=None), FileObject(id='file-LdeD1rqnl5NKinD6ruB2OKwB', bytes=1179, created_at=1724313204, filename='batch_moIvyRlt4y7RPuXB5jbf1dc9_output.jsonl', object='file', purpose='batch_output', status='processed', status_details=None), FileObject(id='file-9hk6bYhnNaqjFNU9CGiRvEZJ', bytes=516, created_at=1724313194, filename='batchinput.jsonl', object='file', purpose='batch', status='processed', status_details=None), FileObject(id='file-xYbTaC9zM8gQLB6gzXRP6HqB', bytes=1192, created_at=1724312260, filename='batch_5wV532FUKDGnWqgFdhnkjZPS_output.jsonl', object='file', purpose='batch_output', status='processed', status_details=None), FileObject(id='file-JWyVqNrMWNUvVwvHhz4cJeyk', bytes=1191, created_at=1724312218, filename='batch_Ww0YH1YjPte0qVfwg92DLGs2_output.jsonl', object='file', purpose='batch_output', status='processed', status_details=None), FileObject(id='file-T5KvEKgJDXhWCOy2yteOtPAJ', bytes=1185, created_at=1724312079, filename='batch_5VREZQt5vOipLjovR22Te2gJ_output.jsonl', object='file', purpose='batch_output', status='processed', status_details=None), FileObject(id='file-dbtQwuF5aUFxGKs4rx9PHIkw', bytes=516, created_at=1724312035, filename='batchinput.jsonl', object='file', purpose='batch', status='processed', status_details=None), FileObject(id='file-tfJC5tYggzWO2xxTN2fiuiCi', bytes=516, created_at=1724312027, filename='batchinput.jsonl', object='file', purpose='batch', status='processed', status_details=None)], object='list', has_more=False)"
      ]
     },
     "execution_count": 52,
     "metadata": {},
     "output_type": "execute_result"
    }
   ],
   "source": [
    "file_list = client.files.list()\n",
    "file_list"
   ]
  },
  {
   "cell_type": "code",
   "execution_count": 53,
   "metadata": {},
   "outputs": [
    {
     "data": {
      "text/plain": [
       "[FileObject(id='file-hB8l332rrbox2I7UwC64slXS', bytes=638, created_at=1724314004, filename='batch_Dil24G7j9Tfx5kYSHsAgoTTu_error.jsonl', object='file', purpose='batch_output', status='processed', status_details=None),\n",
       " FileObject(id='file-4boNepsCWA7tR0EZcAlu8ZV9', bytes=604, created_at=1724313999, filename='batchinput.jsonl', object='file', purpose='batch', status='processed', status_details=None),\n",
       " FileObject(id='file-LdeD1rqnl5NKinD6ruB2OKwB', bytes=1179, created_at=1724313204, filename='batch_moIvyRlt4y7RPuXB5jbf1dc9_output.jsonl', object='file', purpose='batch_output', status='processed', status_details=None),\n",
       " FileObject(id='file-9hk6bYhnNaqjFNU9CGiRvEZJ', bytes=516, created_at=1724313194, filename='batchinput.jsonl', object='file', purpose='batch', status='processed', status_details=None),\n",
       " FileObject(id='file-xYbTaC9zM8gQLB6gzXRP6HqB', bytes=1192, created_at=1724312260, filename='batch_5wV532FUKDGnWqgFdhnkjZPS_output.jsonl', object='file', purpose='batch_output', status='processed', status_details=None),\n",
       " FileObject(id='file-JWyVqNrMWNUvVwvHhz4cJeyk', bytes=1191, created_at=1724312218, filename='batch_Ww0YH1YjPte0qVfwg92DLGs2_output.jsonl', object='file', purpose='batch_output', status='processed', status_details=None),\n",
       " FileObject(id='file-T5KvEKgJDXhWCOy2yteOtPAJ', bytes=1185, created_at=1724312079, filename='batch_5VREZQt5vOipLjovR22Te2gJ_output.jsonl', object='file', purpose='batch_output', status='processed', status_details=None),\n",
       " FileObject(id='file-dbtQwuF5aUFxGKs4rx9PHIkw', bytes=516, created_at=1724312035, filename='batchinput.jsonl', object='file', purpose='batch', status='processed', status_details=None),\n",
       " FileObject(id='file-tfJC5tYggzWO2xxTN2fiuiCi', bytes=516, created_at=1724312027, filename='batchinput.jsonl', object='file', purpose='batch', status='processed', status_details=None)]"
      ]
     },
     "execution_count": 53,
     "metadata": {},
     "output_type": "execute_result"
    }
   ],
   "source": [
    "file_list.data"
   ]
  },
  {
   "cell_type": "code",
   "execution_count": 54,
   "metadata": {},
   "outputs": [
    {
     "name": "stdout",
     "output_type": "stream",
     "text": [
      "file-hB8l332rrbox2I7UwC64slXS\n"
     ]
    }
   ],
   "source": [
    "for file_info in file_list.data:\n",
    "    if nesto.id in file_info.filename:\n",
    "        print(file_info.id)\n",
    "    # if file_info[\"filename\"] == \"your_file_name.txt\":\n",
    "    #     file_id = file_info[\"id\"]\n",
    "    #     print(f\"File ID: {file_id}\")\n",
    "    #     break"
   ]
  },
  {
   "cell_type": "code",
   "execution_count": 68,
   "metadata": {},
   "outputs": [
    {
     "name": "stdout",
     "output_type": "stream",
     "text": [
      "{\"id\": \"batch_req_up5WRFQzNWqInYkmol6LaLkj\", \"custom_id\": \"request-1\", \"response\": {\"status_code\": 200, \"request_id\": \"fc20b91593553b798db59c48075bd41e\", \"body\": {\"id\": \"chatcmpl-9yxXDPpBTpPmuiK1fq8MTEBpdw84o\", \"object\": \"chat.completion\", \"created\": 1724315559, \"model\": \"gpt-3.5-turbo-0125\", \"choices\": [{\"index\": 0, \"message\": {\"role\": \"assistant\", \"content\": \"Hello! How can I assist you today?\", \"refusal\": null}, \"logprobs\": null, \"finish_reason\": \"stop\"}], \"usage\": {\"prompt_tokens\": 20, \"completion_tokens\": 9, \"total_tokens\": 29}, \"system_fingerprint\": null}}, \"error\": null}\n",
      "{\"id\": \"batch_req_zxEKWQeVXM7plhCrIEDCqOiI\", \"custom_id\": \"request-2\", \"response\": {\"status_code\": 200, \"request_id\": \"2268077e22d32426f9259abd54efef51\", \"body\": {\"id\": \"chatcmpl-9yxXEyTkiGoDCutnKi7zEgHxbQB8z\", \"object\": \"chat.completion\", \"created\": 1724315560, \"model\": \"gpt-3.5-turbo-0125\", \"choices\": [{\"index\": 0, \"message\": {\"role\": \"assistant\", \"content\": \"Greetings. How may I not assist you today?\", \"refusal\": null}, \"logprobs\": null, \"finish_reason\": \"stop\"}], \"usage\": {\"prompt_tokens\": 22, \"completion_tokens\": 10, \"total_tokens\": 32}, \"system_fingerprint\": null}}, \"error\": null}\n",
      "\n",
      "3\n",
      "{'id': 'batch_req_up5WRFQzNWqInYkmol6LaLkj', 'custom_id': 'request-1', 'response': {'status_code': 200, 'request_id': 'fc20b91593553b798db59c48075bd41e', 'body': {'id': 'chatcmpl-9yxXDPpBTpPmuiK1fq8MTEBpdw84o', 'object': 'chat.completion', 'created': 1724315559, 'model': 'gpt-3.5-turbo-0125', 'choices': [{'index': 0, 'message': {'role': 'assistant', 'content': 'Hello! How can I assist you today?', 'refusal': None}, 'logprobs': None, 'finish_reason': 'stop'}], 'usage': {'prompt_tokens': 20, 'completion_tokens': 9, 'total_tokens': 29}, 'system_fingerprint': None}}, 'error': None}\n",
      "{'id': 'batch_req_zxEKWQeVXM7plhCrIEDCqOiI', 'custom_id': 'request-2', 'response': {'status_code': 200, 'request_id': '2268077e22d32426f9259abd54efef51', 'body': {'id': 'chatcmpl-9yxXEyTkiGoDCutnKi7zEgHxbQB8z', 'object': 'chat.completion', 'created': 1724315560, 'model': 'gpt-3.5-turbo-0125', 'choices': [{'index': 0, 'message': {'role': 'assistant', 'content': 'Greetings. How may I not assist you today?', 'refusal': None}, 'logprobs': None, 'finish_reason': 'stop'}], 'usage': {'prompt_tokens': 22, 'completion_tokens': 10, 'total_tokens': 32}, 'system_fingerprint': None}}, 'error': None}\n"
     ]
    }
   ],
   "source": [
    "file_response = client.files.content(batch_job.output_file_id)\n",
    "print(file_response.text)\n",
    "print(len(file_response.text.split(\"\\n\")))\n",
    "for line in file_response.text.split(\"\\n\"):\n",
    "    if line:\n",
    "        obj = json.loads(line)\n",
    "        print(obj)"
   ]
  },
  {
   "cell_type": "code",
   "execution_count": 70,
   "metadata": {},
   "outputs": [],
   "source": [
    "res = client.files.content(batch_job.output_file_id).content"
   ]
  },
  {
   "cell_type": "code",
   "execution_count": 71,
   "metadata": {},
   "outputs": [],
   "source": [
    "result_file_name = \"commands/batch_job_results_movies.jsonl\"\n",
    "\n",
    "with open(result_file_name, 'wb') as file:\n",
    "    file.write(res)"
   ]
  },
  {
   "cell_type": "code",
   "execution_count": 72,
   "metadata": {},
   "outputs": [],
   "source": [
    "# Loading data from saved file\n",
    "results = []\n",
    "with open(result_file_name, 'r') as file:\n",
    "    for line in file:\n",
    "        # Parsing the JSON string into a dict and appending to the list of results\n",
    "        json_object = json.loads(line.strip())\n",
    "        results.append(json_object)"
   ]
  },
  {
   "cell_type": "code",
   "execution_count": 73,
   "metadata": {},
   "outputs": [
    {
     "data": {
      "text/plain": [
       "[{'id': 'batch_req_up5WRFQzNWqInYkmol6LaLkj',\n",
       "  'custom_id': 'request-1',\n",
       "  'response': {'status_code': 200,\n",
       "   'request_id': 'fc20b91593553b798db59c48075bd41e',\n",
       "   'body': {'id': 'chatcmpl-9yxXDPpBTpPmuiK1fq8MTEBpdw84o',\n",
       "    'object': 'chat.completion',\n",
       "    'created': 1724315559,\n",
       "    'model': 'gpt-3.5-turbo-0125',\n",
       "    'choices': [{'index': 0,\n",
       "      'message': {'role': 'assistant',\n",
       "       'content': 'Hello! How can I assist you today?',\n",
       "       'refusal': None},\n",
       "      'logprobs': None,\n",
       "      'finish_reason': 'stop'}],\n",
       "    'usage': {'prompt_tokens': 20, 'completion_tokens': 9, 'total_tokens': 29},\n",
       "    'system_fingerprint': None}},\n",
       "  'error': None},\n",
       " {'id': 'batch_req_zxEKWQeVXM7plhCrIEDCqOiI',\n",
       "  'custom_id': 'request-2',\n",
       "  'response': {'status_code': 200,\n",
       "   'request_id': '2268077e22d32426f9259abd54efef51',\n",
       "   'body': {'id': 'chatcmpl-9yxXEyTkiGoDCutnKi7zEgHxbQB8z',\n",
       "    'object': 'chat.completion',\n",
       "    'created': 1724315560,\n",
       "    'model': 'gpt-3.5-turbo-0125',\n",
       "    'choices': [{'index': 0,\n",
       "      'message': {'role': 'assistant',\n",
       "       'content': 'Greetings. How may I not assist you today?',\n",
       "       'refusal': None},\n",
       "      'logprobs': None,\n",
       "      'finish_reason': 'stop'}],\n",
       "    'usage': {'prompt_tokens': 22,\n",
       "     'completion_tokens': 10,\n",
       "     'total_tokens': 32},\n",
       "    'system_fingerprint': None}},\n",
       "  'error': None}]"
      ]
     },
     "execution_count": 73,
     "metadata": {},
     "output_type": "execute_result"
    }
   ],
   "source": [
    "results"
   ]
  },
  {
   "cell_type": "code",
   "execution_count": 83,
   "metadata": {},
   "outputs": [],
   "source": [
    "from pathlib import Path\n",
    "from typing import List, Dict\n",
    "\n",
    "\n",
    "def save_failed_ids(failed: List[Dict[str, str]], dataset_name: str) -> None:\n",
    "    file_path = Path(f\"failed/failed_{dataset_name}.json\")\n",
    "    file_path.parent.mkdir(parents=True, exist_ok=True)\n",
    "    # Write the IDs to a text file, one per line\n",
    "    with open(file_path, \"w\") as f:\n",
    "        # Convert exceptions to string because exceptions are not JSON serializable\n",
    "        json.dump(failed, f, default=str, indent=4)\n",
    "\n",
    "def make_dataset(\n",
    "    processed_commands_path: Path, dataset_name: str\n",
    ") -> Dict[str, str | List[str]]:\n",
    "    returned_dict = {\n",
    "        \"id\": [],\n",
    "        \"query\": [],\n",
    "        \"passage_text\": [],\n",
    "    }\n",
    "    failed = []\n",
    "    # Open and iterate through the .jsonl file\n",
    "    with open(processed_commands_path, \"r\") as file:\n",
    "        for line in file:\n",
    "            id_ = None\n",
    "            print(line)\n",
    "            try:\n",
    "                data = json.loads(line)\n",
    "                id_ = data[\"custom_id\"].replace(\"task-\", \"\")\n",
    "                returned_data = data['response']['body']['choices'][0]['message']['content']\n",
    "                tranlation = json.loads(\n",
    "                    returned_data\n",
    "                )  # gpt message i.e. translation in this case\n",
    "                returned_dict[\"id\"].append(id_)\n",
    "                returned_dict[\"query\"].append(tranlation[\"query\"])\n",
    "                returned_dict[\"passage_text\"].append(tranlation[\"passage_text\"])\n",
    "            except Exception as e:\n",
    "                failed.append({\"id\": id_, \"exception\": e})\n",
    "    if failed:\n",
    "        save_failed_ids(failed, dataset_name=dataset_name)\n",
    "    return returned_dict"
   ]
  },
  {
   "cell_type": "code",
   "execution_count": 84,
   "metadata": {},
   "outputs": [
    {
     "name": "stdout",
     "output_type": "stream",
     "text": [
      "{\"id\": \"batch_req_st8Ee5AZ9Z8IouuXaa6O9ZzB\", \"custom_id\": \"task-0\", \"response\": {\"status_code\": 200, \"request_id\": \"bc8e8afe52b6f73bd609691b47eefd99\", \"body\": {\"id\": \"chatcmpl-9yy7fLf2PpHJxAg7Y30xUps2MbClh\", \"object\": \"chat.completion\", \"created\": 1724317819, \"model\": \"gpt-3.5-turbo-0125\", \"choices\": [{\"index\": 0, \"message\": {\"role\": \"assistant\", \"content\": \"{\\n    \\\"query\\\": \\\"da li ljudska kosa zaustavlja veverice\\\",\\n    \\\"passage_text\\\": [\\\"Hranimo veverice u na\\u0161em dvori\\u0161tu tokom jeseni i zime i primetili smo da neke od njih imaju \\u0107elave fleke. Jedna ima nedostatak krzna du\\u017e le\\u0111a i ispod oba pazuha. Tako\\u0111e, druga ima nekoliko mesta bez krzna na celom grudnom ko\\u0161u. Sve one jedu i \\u010dini se da imaju dobar apetit.\\\", \\\"\\u017divotinje ne podnose miris ljudske kose, pa posipanje barijere od odse\\u010denih dlaka oko va\\u0161e ba\\u0161te, ili lagano udubljivanje u zemlju prilikom sadnje lukovica, o\\u010digledno ima neku vrednost. \\u010citava situacija me pomalo nasmejava. Nikada mi nije palo na pamet da smo mi ti koji smrde.\\\", \\\"Rasporedite malo ljudske kose oko va\\u0161e povrtnja\\u010dke ba\\u0161te i cve\\u0107a. Ovo \\u0107e oterati veverice jer su ljudi predator i veverica. Bolje je ako kosa nije oprana tako da \\u0107e veverice lako uhvatiti miris \\u010doveka.\\\", \\\"1 Mo\\u017eete posuti krvavi obrok oko va\\u0161e ba\\u0161te tako\\u0111e. 2 Ne hvatajte i premestite veverice. 3 Ovo je izgubljena bitka jer je populacija veverica izuzetno visoka. 4 Tako\\u0111e, ako je \\u017eivotinja \\u017eenskog pola postoji velika verovatno\\u0107a da \\u0107ete je odvojiti od beba koje zavise od nje za pre\\u017eivljavanje.\\\", \\\"Gubitak krzna kod veverica mo\\u017ee biti uzrokovan \\u0161ugaravicom ili gljivi\\u010dnom bole\\u0161\\u0107u. \\u0160ugaravica je bolest izazvana mikroskopskim grudicama koje se uvla\\u010de pod ko\\u017eu. Grudice od \\u0161ugaravice kod veverica su zabele\\u017eene kod lisica i sivih veverica. Nema izve\\u0161taja o ovom tipu \\u0161ugaravice koji bi se preneo na ljude ili ku\\u0107ne ljubimce.\\\", \\\"1 Tako\\u0111e mo\\u017eete rasuti pse\\u0107e ili ljudske dla\\u010dice oko va\\u0161e ba\\u0161te. 2 Jedan \\u010ditalac deli svoje iskustvo: \\u201eImao sam problem sa vevericama koje su kopale moje lukovice. 3 Sada, jednom u prole\\u0107e i jednom u jesen, zamolim svoju frizerku da mi sa\\u010duva veliku kesu dlaka. 4 Lagano ih zakopam u zemlju.\\\", \\\"Repelent za ze\\u010deve. Ljudska kosa \\u0107e dr\\u017eati ze\\u010deve van va\\u0161e ba\\u0161te!! Skupite dla\\u010dice sa \\u010detki i rasporedite ih po ba\\u0161ti! (preko Pioneer Thinking). Prirodni mal\\u010d. Kada se isplete u mat, zadr\\u017eava vlagu, odbija korov. U nekim slu\\u010dajevima, zapravo mo\\u017ee smanjiti eroziju zemlji\\u0161ta. (preko NPR). Biljni \\u0111ubrivo.\\\"]\\n}\", \"refusal\": null}, \"logprobs\": null, \"finish_reason\": \"stop\"}], \"usage\": {\"prompt_tokens\": 1096, \"completion_tokens\": 812, \"total_tokens\": 1908}, \"system_fingerprint\": null}}, \"error\": null}\n",
      "\n",
      "{\"id\": \"batch_req_y1PNLUETalQg5dxm1uS9aU9K\", \"custom_id\": \"task-1\", \"response\": {\"status_code\": 200, \"request_id\": \"7061713516faa907d6be82d3f012fa68\", \"body\": {\"id\": \"chatcmpl-9yy7fl5jsDYU0EirXrtxKZEfev9Yq\", \"object\": \"chat.completion\", \"created\": 1724317819, \"model\": \"gpt-3.5-turbo-0125\", \"choices\": [{\"index\": 0, \"message\": {\"role\": \"assistant\", \"content\": \"{\\n    \\\"query\\\": \\\"Koji su benefiti fosilnih goriva?\\\",\\n    \\\"passage_text\\\": [\\n        \\\"Najve\\u0107a prednost kori\\u0161\\u0107enja fosilnih goriva je ta \\u0161to se lako mogu skladi\\u0161titi i transportovati sa jednog mesta na drugo. Velike rezerve uglja se stoga prenose iz rudnika uglja do industrija koje su udaljene mnogo milja od rudnika. Tako\\u0111e, nafta se transportuje do udaljenih elektrana kako bi proizvela energiju. Fosilna goriva su najve\\u0107i proizvo\\u0111a\\u010di kalori\\u010dne vrednosti u smislu energije. To je tako\\u0111e jedan od razloga za\\u0161to se i dalje preferiraju u odnosu na obnovljive izvore energije ili alternativne izvore.\\\",\\n        \\\"Benefiti fosilnih goriva. Fosilna goriva su uglavnom ostaci \\u017eivotinja i biljaka i ona su dobra energetska resursa. Tri glavna fosilna goriva su prirodni gas, nafta i ugalj. Fosilna goriva su niska po ceni i veoma va\\u017eni resursi za na\\u0161u ekonomiju. Fosilna goriva se koriste za proizvodnju elektri\\u010dne energije i kao goriva za transport.\\\",\\n        \\\"Fosilna goriva su energetski resursi koji poti\\u010du od ostataka biljaka i \\u017eivotinja. Ovi ostaci su milionima godina stari. Postoje tri fosilna goriva: nafta, prirodni gas i ugalj. Fosilna goriva, poput uglja, nafte i prirodnog gasa, obezbe\\u0111uju energiju koja pokre\\u0107e na\\u0161e na\\u010dine \\u017eivota i na\\u0161u ekonomiju. Fosilna goriva pokre\\u0107u sve, od aviona na nebu do automobila na putu. Greju na\\u0161e domove i osvetljavaju no\\u0107. Ona su osnova na kojoj zasnivamo na\\u0161 energetski miks.\\\",\\n        \\\"Prednosti fosilnih goriva. Glavna prednost fosilnih goriva je njihova sposobnost da generi\\u0161u ogromne koli\\u010dine elektri\\u010dne energije na samo jednoj lokaciji. Fosilna goriva su veoma lako dostupna. Kada se ugalj koristi u elektranama, veoma su efikasna u smislu cene. Ugalj je tako\\u0111e u obilnom snabdevanju. Transportovanje nafte i gasa do elektrana mo\\u017ee se obaviti kroz upotrebu cevi, \\u0161to olak\\u0161ava zadatke. Nedostaci fosilnih goriva Zaga\\u0111enje je veliki nedostatak fosilnih goriva. To je zato \\u0161to emituju ugljen-dioksid prilikom sagorevanja, \\u010dime uzrokuju efekat staklene ba\\u0161te. To je tako\\u0111e glavni uzro\\u010dni faktor globalnog zagrevanja koje danas do\\u017eivljava Zemlja.\\\",\\n        \\\"Benefiti Jedna od najve\\u0107ih prednosti fosilnih goriva je njihova cena. Ugalj, nafta i prirodni gas su trenutno obilni i relativno jeftini za va\\u0111enje ili kopanje. U stvari, ugalj je najobilnije fosilno gorivo i nalazi se \\u0161irom sveta. Fosilna goriva, poput uglja, nafte i prirodnog gasa, obezbe\\u0111uju energiju koja pokre\\u0107e na\\u0161e na\\u010dine \\u017eivota i na\\u0161u ekonomiju. Fosilna goriva pokre\\u0107u sve, od aviona na nebu do automobila na putu. Greju na\\u0161e domove i osvetljavaju no\\u0107. Ona su osnova na kojoj zasnivamo na\\u0161 energetski miks.\\\",\\n        \\\"Fosilna goriva tako\\u0111e generi\\u0161u velike koli\\u010dine novca i predstavljaju dobar izvor prihoda za mnoge zemlje. Tako\\u0111e poma\\u017eu povezanim industrijama da pru\\u017ee poslove ljudima \\u0161irom sveta, \\u0161to je dobro za celokupnu ekonomiju. Fosilna goriva se koriste i u stambene i komercijalne svrhe. Tri glavna fosilna goriva su prirodni gas, nafta i ugalj. Fosilna goriva su niska po ceni i veoma va\\u017eni resursi za na\\u0161u ekonomiju. Fosilna goriva se koriste za proizvodnju elektri\\u010dne energije i kao goriva za transport.\\\",\\n        \\\"1. Lako dostupni: Po\\u0161to su ova fosilna goriva bila takav veliki izvor energije, svakodnevno se vr\\u0161e sve vi\\u0161e i vi\\u0161e ekstrakcija. Geolozi \\u0161irom sveta poku\\u0161avaju da otkriju rudnike uglja. Pritisak je jo\\u0161 ve\\u0107i kako populacija raste iz dana u dan. Fosilna goriva su najve\\u0107i proizvo\\u0111a\\u010di kalori\\u010dne vrednosti u smislu energije. To je tako\\u0111e jedan od razloga za\\u0161to se i dalje preferiraju u odnosu na obnovljive izvore energije ili alternativne izvore.\\\",\\n        \\\"Verovatno ste \\u010duli za goriva poput uglja, nafte i prirodnog gasa. To su tri glavne vrste fosilnih goriva. Svaki dan se oslanjate na fosilna goriva za zadatke kao \\u0161to je snabdevanje gorivom va\\u0161eg automobila i grejanje va\\u0161eg doma. Tako\\u0111e je veoma verovatno da elektri\\u010dna energija u va\\u0161em domu poti\\u010de od elektrane koja koristi fosilna goriva. Hajde da razmotrimo. Fosilna goriva su izvori energije koji su se formirali od nakupljenih ostataka \\u017eivih organizama koji su bili sahranjeni milione godina ranije. Pritisak, toplota i vreme omogu\\u0107avaju organskoj materiji da se transformi\\u0161e u jednu od tri glavne vrste fosilnih goriva, koje su ugalj, nafta i prirodni gas.\\\",\\n        \\\"Fosilna goriva su izvori energije koji su se razvili unutar Zemlje tokom miliona godina. Zbog toga \\u0161to fosilna goriva - nafta, prirodni gas i ugalj - tako dugo traju da se formiraju, smatraju se neobnovljivim. Hajde da razmotrimo. Fosilna goriva su izvori energije koji su se formirali od nakupljenih ostataka \\u017eivih organizama koji su bili sahranjeni pre milione godina. Pritisak, toplota i vreme omogu\\u0107avaju organskoj materiji da se transformi\\u0161e u jednu od tri glavne vrste fosilnih goriva, koje su ugalj, nafta i prirodni gas.\\\"\\n    ]\\n}\", \"refusal\": null}, \"logprobs\": null, \"finish_reason\": \"stop\"}], \"usage\": {\"prompt_tokens\": 1579, \"completion_tokens\": 1737, \"total_tokens\": 3316}, \"system_fingerprint\": null}}, \"error\": null}\n",
      "\n",
      "{\"id\": \"batch_req_8WDkQrcMDTKQMNRfRlq9o08e\", \"custom_id\": \"task-2\", \"response\": {\"status_code\": 200, \"request_id\": \"cd3416ea933cb4854e12e7c83312caee\", \"body\": {\"id\": \"chatcmpl-9yy7fWWRVGz58aZY4pJ1bLJf0RSCJ\", \"object\": \"chat.completion\", \"created\": 1724317819, \"model\": \"gpt-3.5-turbo-0125\", \"choices\": [{\"index\": 0, \"message\": {\"role\": \"assistant\", \"content\": \"{\\n    \\\"query\\\": \\\"\\u0161ta je apotel\\\",\\n    \\\"passage_text\\\": [\\n        \\\"Apotel. Apotel pravilnog mnogougla je segment nacrtan iz centra mnogougla (tj. centra kru\\u017enice koja opisuje mnogougao) do jedne strane, tako da je normalan na stranu. Ako pravilni mnogougao ima povr\\u0161inu od A kvadratnih jedinica, obim P jedinica, apotel a jedinica, tada je povr\\u0161ina polovina proizvoda obima i apotela. Budite pa\\u017eljivi s ovom formulom, me\\u0111utim: za dati apotel, postoji SAMO JEDNA MOGU\\u0106A vrednost P.\\\",\\n        \\\"Apoteli. Apotel pravilnog mnogougla je rastojanje od centra do ta\\u010dke na sredini jedne od njegovih stranica. Apotel kvadrata je jednak polovini du\\u017eine jedne stranice.\\\",\\n        \\\"Apotel pravilnog mnogougla. Definicija: Linijski segment od centra pravilnog mnogougla do ta\\u010dke na sredini stranice. Poku\\u0161ajte ovo Da biste podesili donji mnogougao, prevucite bilo koje narand\\u017easto ta\\u010dkicu, ili promenite broj strana. Obratite pa\\u017enju na putanju apotela prikazanu plavom bojom. Re\\u010d apotel mo\\u017ee se odnositi na samu liniju ili du\\u017einu te linije. Dakle, mo\\u017eete ispravno re\\u0107i 'nacrtaj apotel' i 'apotela je 4cm'. Svaka formula ispod pokazuje kako prona\\u0107i du\\u017einu apotela pravilnog mnogougla. Koristite formulu koja koristi \\u010dinjenice koje su vam date da biste po\\u010deli.\\\",\\n        \\\"jo\\u0161 ... Rastojanje od centra pravilnog mnogougla do ta\\u010dke na sredini stranice. (Za krug je to rastojanje od centra do ta\\u010dke na sredini \\u017eice.). Pravilni mnogougli - svojstva.\\\",\\n        \\\"Apotel je tako\\u0111e polupre\\u010dnik inkrozod klasicne pravilne mnogougla. Za mnogougao sa n stranama, postoji n mogu\\u0107ih apotela, sve iste du\\u017eine, naravno. Re\\u010d apotel mo\\u017ee se odnositi na samu liniju ili du\\u017einu te linije. Dakle, mo\\u017eete ispravno re\\u0107i 'nacrtaj apotel' i 'apotela je 4cm'. Svaka formula ispod pokazuje kako prona\\u0107i du\\u017einu apotela pravilnog mnogougla. Koristite formulu koja koristi \\u010dinjenice koje su vam date da biste po\\u010deli.\\\",\\n        \\\"Apotel heksagona. Apotel pravilnog mnogougla je linisji segment od centra prema ta\\u010dki na sredini jedne od njegovih stranica. Sa druge strane, to je linija nacrtana od centra mnogougla koja je normalna na jednu od njegovih stranica. Re\\u010d apotel tako\\u0111e mo\\u017ee se odnositi na du\\u017einu tog segmentske. Zbog toga, svi apoteli u mnogouglu \\u0107e biti kongruentni. Za pravilnu piramidu, koja je piramida \\u010dija je osnova pravilan mnogougao, apotel je kosina visni bo\\u010dne strane; tj. najkra\\u0107e rastojanje od vrha do osnove na datoji strani.\\\",\\n        \\\"Za jednakokraki trougao, apotel odgovara du\\u0161inskom segmentu od ta\\u010dke na sredini stranice do bilo kojeg centra trougla, budu\\u0107i da se centri jednakokrakog trougla poklapaju kao posledica definicije. Zbog toga \\u0107e svi apoteli u mnogouglu biti kongruentni. Za pravilnu piramidu, koja je piramida \\u010dija je osnova pravilan mnogougao, apotel je kosina visine figura; tj. najkra\\u0107e rastojanje od vrha do osnove na datoji strani.\\\",\\n        \\\"Za dati krug, apotel je normalno rastojanje od ta\\u010dke na sredini \\u017eice do centra kruga. Tako\\u0111e je jednak polupre\\u010dniku minus sagita, Za pravilni mnogougao, apotel jednostavno jeste rastojanje od centra do jedne strane, tj. polupre\\u010dnik mnogougla. VIDI TAKO\\u0110E: \\u017dica, kru\\u017eni sektor, kru\\u017eni segment, polupre\\u010dnik, polupre\\u010dnik, pravilni mnogougli, apotel OVO NAVODITE KAO: Weisstein, Eric W. Apotel.. Iz MathWorld -A Wolfram Web Resource.\\\",\\n        \\\"Apotel je linisji segment od centra pravilnog mnogougla do ta\\u010dke na sredini jedne od njegovih stranica. Tako\\u0111e je definisan kao polupre\\u010dnik inkrokruga mnogougla. Za pravilan mnogougao od n stranica, postoji n mogu\\u0107ih apotela iste du\\u017eine. Ako pretpostavimo pravougli trougao gde je apotel prile\\u017ena stranica, polovina stranice mnogougla suprotna stranica i linija koja spaja centar mnogougla i vrh mnogougla da bude hipotenuza. Pretpostavimo ugao formiran prate\\u0107om stranicom i hipotenuzom da bude $\\\\\\\\theta$.\\\"\\n    ]\\n}\", \"refusal\": null}, \"logprobs\": null, \"finish_reason\": \"stop\"}], \"usage\": {\"prompt_tokens\": 1564, \"completion_tokens\": 1429, \"total_tokens\": 2993}, \"system_fingerprint\": null}}, \"error\": null}\n",
      "\n",
      "{\"id\": \"batch_req_FQpnWemymMNjp5AOYCbMXKsf\", \"custom_id\": \"task-3\", \"response\": {\"status_code\": 200, \"request_id\": \"040d3cc6748d1f7e80b12f72916e7990\", \"body\": {\"id\": \"chatcmpl-9yy7fPqpxmY2O3xqGdS1shyyKpAWq\", \"object\": \"chat.completion\", \"created\": 1724317819, \"model\": \"gpt-3.5-turbo-0125\", \"choices\": [{\"index\": 0, \"message\": {\"role\": \"assistant\", \"content\": \"{\\n    \\\"query\\\": \\\"prose\\u010dna cena za prilago\\u0111eni baldahin\\\",\\n    \\\"passage_text\\\": [\\\"\\u010cestitamo! Prona\\u0161li ste BuyShade.com, va\\u0161 izvor za \\u0161atore koji se brzo postavljaju, prekriva\\u010de za stolove, prilago\\u0111ene \\u0161atore, \\u0161tampane zastave i jo\\u0161 mnogo toga. Sa stotinama proizvodnih konfiguracija i stilova u na\\u0161em portfoliu i timom vrhunskih dizajnera, specijalizujemo se za pravljenje prilago\\u0111enih re\\u0161enja za sve \\u0161to vam treba.\\\", \\\"Staraost. Jo\\u0161 jedan va\\u017ean faktor u ceni baldahina je starost baldahina koji planirate da kupite. Ako razmi\\u0161ljate o kupovini potpuno novog od prodavca, verovatno mo\\u017eete o\\u010dekivati da platite negde u rasponu od 600 do 1400 dolara, pri \\u010demu je prose\\u010dna cena verovatno oko 1000 dolara. Sve zavisi od toga kakve funkcije \\u017eelite.\\\", \\\"1 \\u0160ator koji je idealan za kampovanje i brza postavljanja mo\\u017ee ko\\u0161tati od 120 do \\u010dak 300 dolara za kompletan set. 2 Gazebo baldahin sa zatvorenim stranama kako bi \\u0161titio od vetra i ki\\u0161e mo\\u017ee ko\\u0161tati od 80 do 200 dolara. 3 Onaj koji je napravljen od metala mo\\u017ee ko\\u0161tati od 200 do \\u010dak 2.000 dolara. 1 Gazebo baldahin sa zatvorenim stranama kako bi \\u0161titio od vetra i ki\\u0161e mo\\u017ee ko\\u0161tati od 80 do 200 dolara. 2 Onaj koji je napravljen od metala mo\\u017ee ko\\u0161tati od 200 do \\u010dak 2.000 dolara. 3 Na primer, Swiss Gear 10 x 10 Foot Smart Shade.\\\", \\\"Nema problema. Mi smo proizvo\\u0111a\\u010di na\\u0161ih vlastitih. Ace Canopy brend \\u0161atora koji se brzo postavljaju i tendi. Svi na\\u0161i prilago\\u0111eni baldahini i \\u0161atori koji se brzo postavljaju dolaze sa petogodi\\u0161njim garantnim rokom. Popravi\\u0107emo ili zameniti vrh baldahina ili vrh \\u0161atora koji se brzo postavlja u roku od 30 dana od kupovine ako su o\\u0161te\\u0107eni. \\u0160tete nastale usled nemara korisnika, vetra, snega, vatre ili bilo kog vi\\u0161eg sile ne\\u0107e biti pokrivene. Materijali izuzetnog kvaliteta: Svi prilago\\u0111eni baldahini se prave sa na\\u0161im materijalima izuzetne ja\\u010dine marke Ace.\\\", \\\"Prilago\\u0111eni \\u0161ator 10x10. Za sajmove, konvencije i ve\\u0107inu vanjskih sajmova, prilago\\u0111eni \\u0161ator od 10 x 10 stopa \\u0107e u potpunosti maksimizirati va\\u0161 prostor. Nudimo potpunu liniju prilago\\u0111enih \\u0161atora veli\\u010dine 10 x 10 stopa - po\\u010dev\\u0161i od samo 199 dolara - od na\\u0161eg lagane Dome II do na\\u0161eg najprodavanijeg profesionalnog Eclipse II Aluminum. Saznajte vi\\u0161e. Boja: Molimo dozvolite 10 dana za proizvodnju, plus vreme dostave\\\", \\\"1 Prose\\u010dan baldahin \\u0107e ko\\u0161tati negde od 45 do 210 dolara. 2 Ovo se odnosi na baldahin namenjen privremenim potrebama. 3 Ba\\u0161 kao i \\u0161ator, baldahin se mo\\u017ee sklopiti i rasklopiti u roku od 15 minuta. 4 Baldahin od 10 x 20 stopa dizajniran za proslave koji uklju\\u010duje bo\\u010dne stranice mo\\u017ee ko\\u0161tati od 120 do 200 dolara. 1 Gazebo baldahin sa zatvorenim stranama kako bi \\u0161titio od vetra i ki\\u0161e mo\\u017ee ko\\u0161tati od 80 do 200 dolara. 2 Onaj koji je napravljen od metala mo\\u017ee ko\\u0161tati od 200 do \\u010dak 2.000 dolara. 3 Na primer, Swiss Gear 10 x 10 Foot Smart Shade.\\\", \\\"1 Baldahin od 10 x 10 stopa bez bo\\u010dnih strana mo\\u017ee ko\\u0161tati od 75 do 100 dolara. 2 Prenosni, lak\\u0161i baldahin koji dolazi sa kompletima za prozor\\u010di\\u0107e mo\\u017ee ko\\u0161tati od 45 do 95 dolara. 3 \\u0160ator koji se brzo postavlja, idealan za kampovanje i spontane postavke, mo\\u017ee ko\\u0161tati od 120 do \\u010dak 300 dolara za kompletan set. 1 Gazebo baldahin sa zatvorenim stranama kako bi \\u0161titio od vetra i ki\\u0161e mo\\u017ee ko\\u0161tati od 80 do 200 dolara. 2 Onaj koji je napravljen od metala mo\\u017ee ko\\u0161tati od 200 do \\u010dak 2.000 dolara. 3 Na primer, Swiss Gear 10 x 10 Foot Smart Shade.\\\", \\\"Niste samo dobijate Najni\\u017eu cenu garantovano! BILO GDE. Imamo preko 30 godina industrijskog iskustva; specijalizovani smo za prilago\\u0111ene baldahine i pokriva\\u010de. Garancija vode\\u0107a na tr\\u017ei\\u0161tu: Svaki okvir baldahina i \\u0161atora koji se brzo postavlja dolazi sa garancijom od 12 meseci koja vas \\u0161titi u slu\\u010daju bilo kakvih proizvodnih gre\\u0161aka. Popravi\\u0107emo ili zameniti vrh baldahina ili vrh \\u0161atora koji se brzo postavlja u roku od 30 dana od kupovine ako su o\\u0161te\\u0107eni. \\u0160tete nastale usled nemara korisnika, vetra, snega, vatre ili bilo kog vi\\u0161eg sile ne\\u0107e biti pokrivene. Materijali izuzetne kvaliteta: Svi prilago\\u0111eni baldahini se prave sa na\\u0161im materijalima izuzetne ja\\u010dine marke Ace.\\\", \\\"Prilago\\u0111eni baldahin 10x10. Prilago\\u0111eni \\u0161atori dimenzija 10 x 10 stopa sa opcionalnim bo\\u010dnim skidama i zadnjim zidom na \\u0161tampanom materijalu pru\\u017eaju hlad i za\\u0161titu za va\\u0161a unutra\\u0161nja ili spoljnja de\\u0161avanja.\\\"]\\n}\", \"refusal\": null}, \"logprobs\": null, \"finish_reason\": \"stop\"}], \"usage\": {\"prompt_tokens\": 1581, \"completion_tokens\": 1623, \"total_tokens\": 3204}, \"system_fingerprint\": null}}, \"error\": null}\n",
      "\n",
      "{\"id\": \"batch_req_DGHhMbEHE1rcEnWFAifURSnP\", \"custom_id\": \"task-4\", \"response\": {\"status_code\": 200, \"request_id\": \"14ea2e00cba2bea7a5f2f9f5b0f7eb05\", \"body\": {\"id\": \"chatcmpl-9yy7fmJvwIBhHymZGSZG9DapdFGF0\", \"object\": \"chat.completion\", \"created\": 1724317819, \"model\": \"gpt-3.5-turbo-0125\", \"choices\": [{\"index\": 0, \"message\": {\"role\": \"assistant\", \"content\": \"{\\n    \\\"query\\\": \\\"\\u0161ta je hardver na ra\\u010dunaru\\\",\\n    \\\"passage_text\\\": [\\\"Hardver je najbolje opisan kao ure\\u0111aj, poput tvrdog diska, koji je fizi\\u010dki povezan sa ra\\u010dunarom ili ne\\u0161to \\u0161to se mo\\u017ee fizi\\u010dki dodirnuti. CD-ROM, monitor ra\\u010dunarskog ekrana, \\u0161tampa\\u010d i grafi\\u010dka kartica su sve primeri ra\\u010dunarskog hardvera. Hardver slu\\u017ei kao sistem isporuke za softverska re\\u0161enja. Hardver ra\\u010dunara se retko menja, u pore\\u0111enju sa softverom i podacima, koji su \\u201emeki\\u201c u smislu da se lako stvaraju, menjaju ili bri\\u0161u na ra\\u010dunaru. Da biste obavili odre\\u0111eni zadatak, potreban je odgovaraju\\u0107i hardver.\\\", \\\"Ra\\u010dunarski hardver (obi\\u010dno jednostavno nazvan hardver kada je ra\\u010dunarski kontekst podrazumevan) predstavlja skup fizi\\u010dkih elemenata koji \\u010dine ra\\u010dunarski sistem. Za razliku od toga, softver su uputstva koja se mogu skladi\\u0161titi i izvoditi uz pomo\\u0107 hardvera. Softver je bilo koji set ma\\u0161inski \\u010ditljivih instrukcija koje usmeravaju ra\\u010dunarski procesor da obavlja odre\\u0111ene operacije. Kombinacija hardvera i softvera \\u010dini upotrebljiv ra\\u010dunarski sistem.\\\", \\\"Ra\\u010dunarski hardver su fizi\\u010dki delovi ili komponente ra\\u010dunara, poput monitora, mi\\u0161a, tastature, skladi\\u0161ta podataka ra\\u010dunara, tvrdog diska, grafi\\u010dkih kartica, zvu\\u010dnih kartica, memorije, mati\\u010dne plo\\u010de i tako dalje, sve fizi\\u010dke stvari koje su opipljive. Za razliku, softver su uputstva koja se mogu skladi\\u0161titi i izvoditi uz pomo\\u0107 hardvera. Softver predstavlja bilo koji set ma\\u0161inski \\u010ditljivih instrukcija koje usmeravaju ra\\u010dunarski procesor da obavlja odre\\u0111ene operacije. Kombinacija hardvera i softvera \\u010dini upotrebljiv ra\\u010dunarski sistem.\\\", \\\"Ra\\u010dunarski hardver predstavlja kolekciju fizi\\u010dkih delova ra\\u010dunarskog sistema. To uklju\\u010duje ku\\u0107i\\u0161te ra\\u010dunara, monitor, tastaturu i mi\\u0161a. Tako\\u0111e uklju\\u010duje sve delove unutar ku\\u0107i\\u0161ta ra\\u010dunara, poput tvrdog diska, mati\\u010dne plo\\u010de, grafi\\u010dke kartice i mnoge druge. Ra\\u010dunarski hardver je ono \\u0161to mo\\u017eete fizi\\u010dki dodirnuti.\\\", \\\"Definicija ra\\u010dunarskog hardvera. Hardver je sveobuhvatan termin za sve fizi\\u010dke delove ra\\u010dunara, u suprotnosti sa podacima koje sadr\\u017ei ili operi\\u0161e na njima i softverom koji pru\\u017ea instrukcije hardveru kako bi izvr\\u0161io zadatke.\\\", \\\"Skra\\u0107eno kao HW, hardver je najbolje opisan kao bilo koji fizi\\u010dki komponent ra\\u010dunarskog sistema koji sadr\\u017ei mati\\u010dnu plo\\u010du, integrisane kola ili druge elektronike. Savr\\u0161en primer hardvera je ekran na kom gledate ovu stranicu. Bez ikakvog hardvera, va\\u0161 ra\\u010dunar ne bi postojao, a softver ne bi mogao da se koristi. Slika je Logitech veb kamera, primer spoljnog hardverskog periferijskog ure\\u0111aja. Ovaj hardverski ure\\u0111aj omogu\\u0107ava korisnicima da snimaju video zapise ili slike i prenose ih preko interneta.\\\", \\\"Definicije. Ra\\u010dunarski sistem se sastoji od dva glavna elementa: hardvera i softvera. Ra\\u010dunarski hardver predstavlja kolekciju svih delova koje mo\\u017eete fizi\\u010dki dodirnuti. Sa druge strane, softver nije ne\\u0161to \\u0161to mo\\u017eete dodirnuti. Softver je skup instrukcija za ra\\u010dunar da obavlja odre\\u0111ene operacije. Ovo uklju\\u010duje ku\\u0107i\\u0161te ra\\u010dunara, monitor, tastaturu i mi\\u0161a. Tako\\u0111e uklju\\u010duje sve delove unutar ku\\u0107i\\u0161ta ra\\u010dunara, poput tvrdog diska, mati\\u010dne plo\\u010de, grafi\\u010dke kartice i mnoge druge. Ra\\u010dunarski hardver je ono \\u0161to mo\\u017eete fizi\\u010dki dodirnuti.\\\", \\\"Ra\\u010dunarski hardver predstavlja bilo koji fizi\\u010dki ure\\u0111aj koji se koristi u ili uz va\\u0161u ma\\u0161inu, dok je softver kolekcija koda instalirana na tvrdi disk va\\u0161eg ra\\u010dunara. Na primer, monitor ra\\u010dunara koji koristite za \\u010ditanje ovog teksta i mi\\u0161 koji koristite za navigaciju ove web stranice je ra\\u010dunarski hardver. Sav softver koristi barem jedan hardverski ure\\u0111aj za rad. Na primer, video igra, koja je softver, koristi ra\\u010dunarski procesor (CPU), memoriju (RAM), tvrdi disk i grafi\\u010dku karticu za rad. Softver za obradu teksta koristi ra\\u010dunarski procesor, memoriju i tvrdi disk za kreiranje i \\u010duvanje dokumenata.\\\", \\\"Uvod. Ra\\u010dunarski hardver je fizi\\u010dki deo ra\\u010dunara, za razliku od toga koji izvr\\u0161ava ili se pokre\\u0107e na hardveru. Hardver ra\\u010dunara se re\\u0111e menja, dok se softver i podaci \\u010desto menjaju. Izraz mek se odnosi na lako stvaranje, izmenu ili brisanje\\\", \\\"Ra\\u010dunarski hardver se odnosi na fizi\\u010dke komponente koje \\u010dine ra\\u010dunarski sistem. Postoje mnoge razli\\u010dite vrste hardvera koji se mogu instalirati unutar, i povezati sa spolja, ra\\u010dunara.\\\"]\\n}\", \"refusal\": null}, \"logprobs\": null, \"finish_reason\": \"stop\"}], \"usage\": {\"prompt_tokens\": 1450, \"completion_tokens\": 1550, \"total_tokens\": 3000}, \"system_fingerprint\": null}}, \"error\": null}\n",
      "\n",
      "{\"id\": \"batch_req_6IwyiiuJAdkY7lRMGLtBHH5n\", \"custom_id\": \"task-5\", \"response\": {\"status_code\": 200, \"request_id\": \"b033e337b150f5d47b376b9f8e4d695a\", \"body\": {\"id\": \"chatcmpl-9yy7fktCT9VK1YchhLwjMps3BUoaG\", \"object\": \"chat.completion\", \"created\": 1724317819, \"model\": \"gpt-3.5-turbo-0125\", \"choices\": [{\"index\": 0, \"message\": {\"role\": \"assistant\", \"content\": \"{\\n    \\\"query\\\": \\\"definicija logsitike EDI\\\",\\n    \\\"passage_text\\\": [\\\"Kao i mnoge druge rane informacione tehnologije, EDI je inspirisan razvojem vojne logistike. Slo\\u017eenost berlinske blokade 1948. godine zahtevala je razvoj pojmova i metoda za razmenu, ponekad preko 300 baud teletajp modema, ogromnih koli\\u010dina podataka i informacija o prevo\\u017eenim robama. U EDI terminologiji, \\\\u201culazno\\\\u201d (inbound) i \\\\u201cizlazno\\\\u201d (outbound) se odnose na pravac prenosa EDI dokumenta u odnosu na odre\\u0111eni sistem, a ne na pravac robe, novca ili drugih stvari koje dokument predstavlja.\\\", \\\"Svaki termin u definiciji je va\\u017ean za razumevanje kako EDI funkcioni\\u0161e: Ra\\u010dunar-na-ra\\u010dunar - EDI zamenjuje po\\u0161tansku po\\u0161tu, faks i email. Iako je i e-po\\u0161ta elektronski pristup, dokumenti razmenjeni putem e-po\\u0161te ipak moraju biti obra\\u0111eni od strane ljudi, a ne ra\\u010dunara. Naj\\u010de\\u0161\\u0107e kori\\u0161\\u0107eni skupovi transakcija EDI u transportnoj industriji su: 1 204 - Motor Carrier Load Tender: \\u0160pediter ili 3PL putem TMS-a \\u0161alju ovaj skup transakcija prevozniku YRC-u kako bi zatra\\u017eili preuzimanje po\\u0161iljke.\\\", \\\"Vreme je novac, i to nikada nije bilo ta\\u010dnije nego kod kompanija u logistici i distribuciji, pru\\u017eaocima logisti\\u010dkih usluga (LSP) i 3PL skladi\\u0161tima. Osigurajte da se narud\\u017ebine isporu\\u010duju i fakturi\\u0161u bezbolno koriste\\u0107i EDI re\\u0161enje dizajnirano za va\\u0161e specifi\\u010dne izazove - EDI/HQ\\\\u2122. EDI/HQ\\\\u2122 ima podatke o korisnicima dostupne na korisni\\u010dki prijateljskom kontrolnom panelu, koji prati transportne naloge i fakture u svim fazama ispunjenja. U dana\\u0161njem svetu brzih promena, brza reakcija na menjanje kupaca ili tr\\u017ei\\u0161nih dinamika predstavlja konkurentsku prednost.\\\", \\\"Dobavlja\\u010d logisti\\u010dkih usluga tre\\u0107e strane (skra\\u0107eno 3PL, ili ponekad TPL) je firma koja pru\\u017ea usluge svojim klijentima u vezi sa outsoursovanim (ili tre\\u0107epartijskim) logisti\\u010dkim uslugama za deo, ili sve svoje upravlja\\u010dke funkcije lanca snadbevanja.\\\", \\\"Da se malo vratimo unazad pre nego \\u0161to se specifi\\u010dno bavimo EDI-jem u transportu. Prvo moramo razumeti i saglasiti se sa tim \\u0161ta je Elektronska Razmena Podataka, ili EDI, jer se ona ne koristi samo u industriji transporta. Naj\\u010de\\u0161\\u0107e kori\\u0161\\u0107eni skupovi transakcija EDI u transportnoj industriji su: 1 204 - Motor Carrier Load Tender: \\u0160pediter ili 3PL putem TMS-a \\u0161alju ovaj skup transakcija prevozniku YRC-u kako bi zatra\\u017eili preuzimanje po\\u0161iljke.\\\", \\\"Elektronska Razmena Podataka (EDI) se odnosi na razmenu izme\\u0111u razli\\u010ditih kompanija putem ra\\u010dunara putem elektronskih komunikacionih kanala. Na po\\u010detku EDI-ja (1970-ih) nije postojao standard za format podataka. Kada su kompanije odlu\\u010dile uspostaviti EDI sa poslovnim partnerom, dogovarale su se bilateralno koji format koristiti. Da bi se smanjila ova kompleksnost i napor, vreme i tro\\u0161kovi uklju\\u010deni, u 1980-ih su uvedeni prvi standardi.\\\", \\\"EDI se mo\\u017ee prenositi kori\\u0161\\u0107enjem bilo koje metodologije koju su dogovorili po\\u0161iljalac i primalac. To uklju\\u010duje razli\\u010dite tehnologije, uklju\\u010duju\\u0107i modem (asinhroni i sinhroni), FTP, e-po\\u0161tu, HTTP, AS1, AS2, itd. Va\\u017eno je razlikovati izme\\u0111u EDI dokumenata i metoda za njihovo slanje. U EDI terminologiji, \\\\u201culazno\\\\u201d (inbound) i \\\\u201cizlazno\\\\u201d (outbound) se odnose na pravac prenosa EDI dokumenta u odnosu na odre\\u0111eni sistem, a ne na pravac robe, novca ili drugih stvari koje dokument predstavlja.\\\", \\\"EDI je standardni format za razmenu poslovnih podataka izme\\u0111u organizacija putem elektronskih sredstava. Koristi se za prenos elektronskih dokumenata ili poslovnih podataka sa jednog ra\\u010dunarskog sistema na drugi kao elektronski ekvivalent za prijemne papirne dokumentacije, potvrda i faktura izme\\u0111u trgovinskih partnera. Neki od klju\\u010dnih prednosti EDI-a uklju\\u010duju:\\\", \\\"\\u0160ta je EDI? U osnovi je to elektronska razmena poslovnih dokumenata u standardizovanom formatu. U svetu EDI-a, ovi poslovni dokumenti se nazivaju skupovi transakcija, a kupci i prevoznici sa kojima sara\\u0111ujete su trgovinski partneri. Ve\\u0107ina softvera za kamione ima mogu\\u0107nost slanja i primanja EDI po tom formatu. Postoje dva osnovna na\\u010dina da va\\u0161 ra\\u010dunar po\\u0161alje ili primi EDI transakcije sa ra\\u010dunarom va\\u0161eg partnera: direktna komunikacija, i Value Added Network (VAN).\\\", \\\"Definicija tre\\u0107e strane logistike. Tre\\u0107a strana snabdeva logisti\\u010dkim operacijama izme\\u0111u trgovaca putem nezavisne organizacije. Eyefortransport. Logistika tre\\u0107e strane je aktivnost outsourcinga aktivnosti u vezi sa logistikom i distribucijom. Industrija 3PL uklju\\u010duje pru\\u017eaoce re\\u0161enja za logistiku (LSP) i \\u0161peditera \\u010dije poslovne procese podr\\u017eavaju.\\\"]\\n}\", \"refusal\": null}, \"logprobs\": null, \"finish_reason\": \"stop\"}], \"usage\": {\"prompt_tokens\": 1539, \"completion_tokens\": 1649, \"total_tokens\": 3188}, \"system_fingerprint\": null}}, \"error\": null}\n",
      "\n",
      "{\"id\": \"batch_req_6XlcbQM2dZvmDwZf494xBbNG\", \"custom_id\": \"task-6\", \"response\": {\"status_code\": 200, \"request_id\": \"860aa799ee926718d01a8e03563acb15\", \"body\": {\"id\": \"chatcmpl-9yy7f67vCel9URcEJcA7tvQaEj1Tc\", \"object\": \"chat.completion\", \"created\": 1724317819, \"model\": \"gpt-3.5-turbo-0125\", \"choices\": [{\"index\": 0, \"message\": {\"role\": \"assistant\", \"content\": \"{\\n    \\\"query\\\": \\\"za\\u0161to bi trebalo da bude ilegalno rekreativno kori\\u0161\\u0107enje marihuane\\\",\\n    \\\"passage_text\\\": [\\n        \\\"Neki se pitaju 'za\\u0161to bi marihuana trebalo da bude legalizovana?' ali mi bismo trebali pitati Za\\u0161to bi marihuana trebala biti ilegalna?. Filozofski posmatrano, pojedinci zaslu\\u017euju pravo da sami donose odluke. Vlada ima pravo da ograni\\u010di te odluke samo ako postupci pojedinca ugro\\u017eavaju druge. SA\\u017dETAK: Imali bismo vi\\u0161e novca za tro\\u0161enje na va\\u017ene probleme ako bi marihuana bila legalna. Tre\\u0107i glavni razlog za\\u0161to bi marihuana trebala biti legalna jeste jer zabrana na bilo koji na\\u010din ne poma\\u017ee zemlji, ve\\u0107 izaziva mnogo problema.\\\",\\n        \\\"Dakle, iako bi se marihuana bazirane na lekovima trebala mo\\u0107i nabavljati na recept iz apoteke, upotreba marihuane ne bi trebala biti normalizovana i droga iz marihuane bi trebala biti ilegalna. Bob Enyart je pastor Denver Bible crkve u Arvadi, Kolorado. Molimo dodajte korisni\\u010dko ime da biste videli ili dodali komentare. \\u0160to se ti\\u010de upotrebe marihuane ili bilo kog moralnog pitanja, argumenti za pravo i krivo u savremenom dru\\u0161tvu su posebno te\\u0161ki jer sve ve\\u0107i broj ljudi odbacuje apsolutno pravo i krivo.\\\",\\n        \\\"Marihuana je naj\\u010de\\u0161\\u0107e zloupotrebljena ilegalna droga u SAD-u i \\u0161irom sveta. Oni koji podr\\u017eavaju njenu legalizaciju, zbog medicinske ili op\\u0161te upotrebe, ne prepoznaju da su najve\\u0107i tro\\u0161kovi marihuane povezani sa samo njenom zabranom; oni su tro\\u0161kovi koji proizilaze iz same upotrebe marihuane. Mnogi ljudi koji \\u017eele da legalizuju marihuanu strastveni su po pitanju njihovog vi\\u0111enja navodnih neuspeha politika usmerenih na smanjenje upotrebe marihuane, ali ti pobornici legalizacije retko - ako uop\\u0161te ikad - opisuju sopstveni plan za oporezivanje i regulisanje marihuane kao legalne droge.\\\",\\n        \\\"Tro\\u0161kovi legalizacije marihuane ne bi bili samo finansijski. Novi korisnici marihuane ne bi bili ograni\\u010deni na odrasle ako bi marihuana bila legalizovana, ba\\u0161 kao \\u0161to regulative o alkoholu i duvanu ne spre\\u010davaju upotrebu od strane mladih. Mnogi ljudi koji \\u017eele da legalizuju marihuanu strastveni su po pitanju njihovog vi\\u0111enja navodnih neuspeha politika usmerenih na smanjenje upotrebe marihuane, ali ti pobornici legalizacije retko - ako uop\\u0161te ikad - opisuju sopstveni plan za oporezivanje i regulisanje marihuane kao legalne droge.\\\",\\n        \\\"Rekreativna upotreba marihuane samo \\u0107e dovesti do ve\\u0107eg stepena zavisnosti od droga u Sjedinjenim Dr\\u017eavama. Jednom kada legalizujemo rekreativnu upotrebu marihuane, klizavica je ka legalizaciji ostalih ilegalnih droga koje su ja\\u010de. Jer ljudi \\u017eele da je koriste rekreativno i to smanjuje rizik od hap\\u0161enja zbog upotrebe. Jer korisnici marihuane manje verovatno \\u0161tete nekome i tako\\u0111e ima zdravstvene beneficije kao \\u0161to le\\u010di kancer i druge bolesti/zdravstvene probleme kao \\u0161to su dijabetes i druge \\u0161tetne bolesti. Alkohol je nekada bio ilegalan. Prijava.\\\",\\n        \\\"Za\\u0161to ne bismo trebali legalizovati marihuanu. DELJENJA. Za razliku od uverenja onih koji zagovaraju legalizaciju marihuane, trenutne uravnote\\u017eene, restriktivne i bipartitne politike droga Sjedinjenih Dr\\u017eava relativno dobro funkcioni\\u0161u i doprinele su smanjenju stope upotrebe marihuane u na\\u0161oj naciji. Mnogi ljudi koji \\u017eele da legalizuju marihuanu strastveni su po pitanju njihovog vi\\u0111enja navodnih neuspeha politika usmerenih na smanjenje upotrebe marihuane, ali ti pobornici legalizacije retko - ako uop\\u0161te ikad - opisuju sopstveni plan za oporezivanje i regulisanje marihuane kao legalne droge.\\\",\\n        \\\"Ako bi SAD legalizovale marihuanu, broj korisnika marihuane bi se pove\\u0107ao. Danas ima 15,2 miliona trenutnih korisnika marihuane u pore\\u0111enju sa 129 miliona korisnika alkohola i 70,9 miliona korisnika duvana. Mnogi ljudi koji \\u017eele da legalizuju marihuanu strastveni su po pitanju njihovog vi\\u0111enja navodnih neuspeha politika usmerenih na smanjenje upotrebe marihuane, ali ti pobornici legalizacije retko - ako uop\\u0161te ikad - opisuju sopstveni plan za oporezivanje i regulisanje marihuane kao legalne droge.\\\",\\n        \\\"Marihuana ne bi trebala biti legalizovana za rekreativnu upotrebu jer \\u0107e imati drasti\\u010dno negativne efekte na ameri\\u010dku ekonomiju. Osobe koje su pod uticajem narkotika poput marihuane nisu u mogu\\u0107nosti da obavljaju poslove svakodnevne prirode potrebne za posao. Jer ljudi \\u017eele da je koriste rekreativno i to smanjuje rizik od hap\\u0161enja zbog upotrebe. Jer korisnici marihuane manje verovatno \\u0161tete nekome i tako\\u0111e ima zdravstvene beneficije kao \\u0161to le\\u010di kancer i druge bolesti/zdravstvene probleme kao \\u0161to su dijabetes i druge \\u0161tetne bolesti. Alkohol je nekada bio ilegalan. Prijava.\\\",\\n        \\\"Po mom li\\u010dnom mi\\u0161ljenju, marihuana bi trebala biti legalizovana za rekreativnu upotrebu. Ne samo \\u0161to je statisti\\u010dki najsigurnija od svih droga koje se koriste u Americi ili \\u0161irom sveta, ve\\u0107 nema prijavljenih smrti usled upotrebe. Jer ljudi \\u017eele da je koriste rekreativno i to smanjuje rizik od hap\\u0161enja zbog upotrebe. Jer korisnici marihuane manje verovatno \\u0161tete nekome i tako\\u0111e ima zdravstvene beneficije kao \\u0161to le\\u010di kancer i druge bolesti/zdravstvene probleme kao \\u0161to su dijabetes i druge \\u0161tetne bolesti. Alkohol je nekada bio ilegalan. Prijava.\\\"\\n    ]\\n}\", \"refusal\": null}, \"logprobs\": null, \"finish_reason\": \"stop\"}], \"usage\": {\"prompt_tokens\": 1554, \"completion_tokens\": 1854, \"total_tokens\": 3408}, \"system_fingerprint\": null}}, \"error\": null}\n",
      "\n",
      "{\"id\": \"batch_req_eT5CMGcNant7KDCmWvKEOvoW\", \"custom_id\": \"task-7\", \"response\": {\"status_code\": 200, \"request_id\": \"2534688dd739e50c578bba038d3dccbb\", \"body\": {\"id\": \"chatcmpl-9yy7geotfC1yFgEEhLP9hft2fMvmZ\", \"object\": \"chat.completion\", \"created\": 1724317820, \"model\": \"gpt-3.5-turbo-0125\", \"choices\": [{\"index\": 0, \"message\": {\"role\": \"assistant\", \"content\": \"{\\n    \\\"query\\\": \\\"U koju klasu spadaju paukovi?\\\",\\n    \\\"passage_text\\\": [\\\"PODNARE\\u0110ENA JEDINICA HELE\\u0106ERATA, KLASA ARACHNIDA. Paukovi. Ova grupa sadr\\u017ei mnoga poznata bi\\u0107a, uklju\\u010duju\\u0107i paukove, grinje, \\u0161korpije i krpelje. Posmatrajte velikog pauka sa desne strane. Primetite ponovo da postoje dva dela tela, glavotu\\u010dak i abdomen. Na glavotu\\u010dku se nalazi dva do \\u010detiri para jednostavnih o\\u010diju.\\\", \\\"Klasa Arachnida obuhvata raznovrsnu grupu \\u010dlankono\\u017eaca: paukove, \\u0161korpije, krpelje, grinje, prugaste pauke i njihove ro\\u0111ake. Nau\\u010dnici opisuju preko 75.000 vrsta paukova, ve\\u0107ina njih su paukovi. Ve\\u0107ina arahida su meso\\u017ederi, obi\\u010dno se hrane\\u0107i insektima, i terestri\\u010dne, \\u017eive\\u0107i na zemlji.\\\", \\\"Paukovi pripadaju tipu Arthropoda, zajedno sa insektima i rakovima. Red paukova, Araneae - zajedno sa \\u0161korpijama, prugastim paukovima i velikim redom krpelja i grinja - \\u010dine klasu Arachnida. Paukovi se razlikuju od drugih arahida po tome \\u0161to im je telo podeljeno na glavotu\\u010dak i abdomen.\\\", \\\"Klasa Araneae sadr\\u017ei paukove, veliku i fascinantnu grupu. Paukovi imaju tipi\\u010dne arahidne karakteristike - osam nogu, pedipalpe, helicere i dva glavna dela tela. Me\\u0111utim, helicere su izgubile unutra\\u0161nje pal\\u010deve i spolja\\u0161nji segment koji se savio postao je zub.\\\", \\\"Unapre\\u0111uju\\u0107i svet, jedan odgovor odjednom, klasa jednog pauka je arahida. Paukovi pripadaju arahnidnoj porodici zajedno sa svim ostalim vrstama paukova. Paukovi nisu insekti. Oni su arahidi. Tako su i \\u0161korpije, grinje, krpelji, prugasti paukovi i mnogi drugi.\\\", \\\"Prema tome, pauk je sme\\u0161ten u tip Arthropoda, klasu (klasa) Arachnida, red (red) Araneae. Ovaj red je dalje podeljen na 3 pod-reda. Migalomorfe (primitivni paukovi), Arahneomorfe (moderni paukovi) i Mezotelae, sa jednom porodicom paukova Liphistiidae.\\\"]\\n}\", \"refusal\": null}, \"logprobs\": null, \"finish_reason\": \"stop\"}], \"usage\": {\"prompt_tokens\": 1100, \"completion_tokens\": 709, \"total_tokens\": 1809}, \"system_fingerprint\": null}}, \"error\": null}\n",
      "\n",
      "{\"id\": \"batch_req_cMVARDtG8MTnspd9eHre8fjb\", \"custom_id\": \"task-8\", \"response\": {\"status_code\": 200, \"request_id\": \"18108d8f94df4f142f9f298856c90938\", \"body\": {\"id\": \"chatcmpl-9yy7g6NcajiJsBFtlcVVyZdibnP29\", \"object\": \"chat.completion\", \"created\": 1724317820, \"model\": \"gpt-3.5-turbo-0125\", \"choices\": [{\"index\": 0, \"message\": {\"role\": \"assistant\", \"content\": \"{\\n    \\\"query\\\": \\\"gde se nalazi amurski leopard\\\",\\n    \\\"passage_text\\\": [\\\"Amurski leopardi imaju najseverniji raspon od svih podvrsta leoparda. Amurski leopardi se nalaze u isto\\u010dnoj Rusiji, blizu reke Amur unutar uskog pojasa ju\\u017eno od jezera Khanka; i u provinciji Jilin u Kini.\\\", \\\"RHWA je sponzor Tigris Fondacije. Tigris Fondacija podr\\u017eava o\\u010duvanje amurskih leoparda. Za vi\\u0161e informacija, posetite veb sajt Tigris Fondacije. Leopardi (Panthera pardus) su me\\u0111u najprilagodljivijim vrstama ma\\u010daka i nalaze se u raznovrsnim stani\\u0161tima \\u0161irom Afrike i Azije.\\\", \\\"Amurski leopard (Panthera pardus orientalis), tako\\u0111e poznat kao mand\\u017eurski leopard, je divlji grabljivac ma\\u010dka koji je autohton u planinskim predelima tajge, kao i drugim umerenim \\u0161umama u Koreji, severoisto\\u010dnoj Kini i ruskom Dalekom istoku.\\\", \\\"Saznajte vi\\u0161e o ovom \\u010dlanku. Amurski leopard (Panthera pardus orientalis) je podvrsta leoparda koja je autohtona za Primorje region jugoisto\\u010dne Rusije i provinciju Jilin severoisto\\u010dne Kine. Klasifikovan je kao kriti\\u010dno ugro\\u017eena vrsta od 1996. godine prema IUCN.\\\", \\\"Amurski leopard (Panthera pardus orientalis) je podvrsta leoparda koja je autohtona za Primorje region jugoisto\\u010dne Rusije i provinciju Jilin severoisto\\u010dne Kine. Klasifikovan je kao kriti\\u010dno ugro\\u017eena vrsta od 1996. godine prema IUCN. U 2007. godini, procenjeno je da je preostalo samo 19-26 divljih amurskih leoparda.\\\", \\\"Ve\\u0107ina ljudi zapravo nije svesna gde amurski leopardi \\u017eive! Amurski leopardi \\u017eive u Severnoj Koreji, Rusiji, Kini i Japanu. \\u010cinjenice o amurskom leopardu o njegovom stani\\u0161tu pokazuju da se ovi \\u017eivotinje nalaze du\\u017e obale Japana i severnog bazena Suchana. Herman \\u0160legel je bio prvi istra\\u017eiva\\u010d koji je otkrio ove \\u017eivotinje jo\\u0161 1857. godine.\\\"]\\n}\", \"refusal\": null}, \"logprobs\": null, \"finish_reason\": \"stop\"}], \"usage\": {\"prompt_tokens\": 1028, \"completion_tokens\": 624, \"total_tokens\": 1652}, \"system_fingerprint\": null}}, \"error\": null}\n",
      "\n",
      "{\"id\": \"batch_req_gJrkwhrgqdpTCaOe1AUNo6F9\", \"custom_id\": \"task-9\", \"response\": {\"status_code\": 200, \"request_id\": \"d4693d7468b5cf1199a46f54375a1842\", \"body\": {\"id\": \"chatcmpl-9yy7fxex9sk09wgEYD6V4wmPZGcbZ\", \"object\": \"chat.completion\", \"created\": 1724317819, \"model\": \"gpt-3.5-turbo-0125\", \"choices\": [{\"index\": 0, \"message\": {\"role\": \"assistant\", \"content\": \"{\\n    \\\"query\\\": \\\"koliko ko\\u0161ta da se sterilizuje moja \\u017eenka kuni\\u0107a\\\",\\n    \\\"passage_text\\\": [\\n        \\\"1 Rizik od reproduktivnih karcinoma (jajnika, materice, mle\\u010dnih \\u017elezda) kod ne sterilisane \\u017eenke kuni\\u0107a se gotovo elimini\\u0161e sterilizacijom va\\u0161e \\u017eenke kuni\\u0107a. 2 Va\\u0161 kastrirani mu\\u017ejaka kuni\\u0107a \\u0107e tako\\u0111e \\u017eiveti du\\u017ee, s obzirom da ne\\u0107e biti sklon borbi sa drugim \\u017eivotinjama (kuni\\u0107i, ma\\u010dke, itd.) zbog njegove seksualne agresije. Tro\\u0161kovi sterilizacije/varanje zna\\u010dajno variraju u razli\\u010ditim delovima zemlje. Na donjoj granici opsega mogu biti jeftini i ko\\u0161tati od $50-75 (\\u010desto u klinikama za sterilizaciju/varanje), dok veterinari u velikim metropolitanskim regionima, gde su kirije i tro\\u0161kovi rada veoma visoki, \\u010desto napla\\u0107uju nekoliko stotina dolara. Pogledajte na\\u0161e veterinarske listinge.\\\",\\n        \\\"Cena sterilizacije va\\u0161eg kuni\\u0107a \\u0107e se veoma razlikovati na osnovu nekoliko razli\\u010ditih faktora. 1 U manje naseljenim podru\\u010djima gde je tro\\u0161ak \\u017eivota relativno nizak, cene mogu varirati od $85 do $200. 2 Prose\\u010dno, ve\\u0107ina tipi\\u010dnih klinika \\u0107e napla\\u0107ivati izme\\u0111u $150 i $300. 1 Lekovi za kuni\\u0107a \\u0107e po\\u010deti od oko $20 - $80+ Potrebna je injekcija poput metakam injekcije pre nego \\u0161to procedura po\\u010dne. 2 Injekcija poput ove mo\\u017ee ko\\u0161tati od $10 do $30 u zavisnosti od veterinara. 3 Veterinar \\u0107e verovatno zahtevati kontrolni pregled.\\\",\\n        \\\"Koliko ko\\u0161ta operacija? Tro\\u0161kovi sterilizacije/varanja zna\\u010dajno variraju u razli\\u010ditim delovima zemlje. Na donjoj granici opsega mogu biti jeftini i ko\\u0161tati od $50-75 (\\u010desto u klinikama za sterilizaciju/varanje), dok veterinari u velikim metropolitanskim regionima, gde su kirije i tro\\u0161kovi rada veoma visoki, \\u010desto napla\\u0107uju nekoliko stotina dolara. Pogledajte na\\u0161e veterinarske listinge.\\\",\\n        \\\"Nije jeftino, me\\u0111utim. O\\u010dekujte oko $100+ za varanje i $200+ za sterilizaciju, potrebno je koristiti druga\\u010diju anesteziju za kuni\\u0107e nego za pse i ma\\u010dke, pobrinite se da koristite veterinara koji je upoznat sa kuni\\u0107ima. Kuni\\u0107i mogu biti dobri ku\\u0107ni ljubimci za neke ljude, pod uslovom da imate realna o\\u010dekivanja. Kuni\\u0107i mogu ostati trudni ve\\u0107 sa 13 nedelja starosti, zato ih dr\\u017eite odvojene dok se ne sterilizuju. \\u017denke kuni\\u0107a imaju stopu reproduktivnih karcinoma od skoro 85%, tako da ne sterilisana \\u017eenka skoro uvek ima veoma kratak \\u017eivot.\\\",\\n        \\\"1 Lekovi nakon zavr\\u0161ene procedure \\u0107e biti neophodni. 2 Lekovi za kuni\\u0107a \\u0107e po\\u010deti od oko $20 - $80+ Potrebna je injekcija poput metakam injekcije pre nego \\u0161to procedura po\\u010dne. 3 Injekcija poput ove mo\\u017ee ko\\u0161tati od $10 do $30 u zavisnosti od veterinara. 4 Veterinar \\u0107e verovatno zahtevati kontrolni pregled. 1 Lekovi za kuni\\u0107a \\u0107e po\\u010deti od oko $20 - $80+ Potrebna je injekcija poput metakam injekcije pre nego \\u0161to procedura po\\u010dne. 2 Injekcija poput ove mo\\u017ee ko\\u0161tati od $10 do $30 u zavisnosti od veterinara. 3\\\",\\n        \\\"U mom kraju \\u0107e vas ko\\u0161tati $140 - $230 kod veterinara. To je tipi\\u010dno. Me\\u0111utim, ako imate kliniku ili uto\\u010di\\u0161te koje radi jeftinu sterilizaciju/varanje za kuni\\u0107e, mo\\u017eda \\u0107ete platiti samo $50. To je retko ali vredno istra\\u017eiti da prona\\u0111ete takvo mesto. Preporu\\u010dujem da se uverite da je va\\u0161 mu\\u017ejak zaista mu\\u017ejak i va\\u0161a \\u017eenka zaista \\u017eenka. Ako su stariji od \\u0161est nedelja onda biste trebali mo\\u0107i da uo\\u010dite razliku\\\",\\n        \\\"Tro\\u0161kovi kastracije kuni\\u0107a su obi\\u010dno oko iste cene kao ekvivalentne operacije izvedene na ma\\u010dkama - ali vredi proveriti ovo sa va\\u0161im veterinarom koliko napla\\u0107uju za kastraciju mu\\u017ejaka i sterilizaciju \\u017eenki.\\\",\\n        \\\"Koliko ko\\u0161ta sterilizacija \\u017eenke kuni\\u0107a? Moj holandski kuni\\u0107 ima otprilike 8 i po meseci i znam da su sklone karcinomu materice. Moram da znam koliko bi ko\\u0161talo da je sterilizujem negde u okrugu Pinelas, FL i eventualno gde bi bilo najjeftinije.\\\",\\n        \\\"$100 za mu\\u017ejaka, $200 za \\u017eenku ako mo\\u017eete prona\\u0107i dobrog veterinara koji \\u0107e to uraditi. Barem, to je cena u mom kraju. To je IZVRSNO za njihovo zdravlje, ali je skupo. Oni su sjajni ljubimci koji u\\u017eivaju u dru\\u0161tvu drugog kuni\\u0107a. Kuni\\u0107i mogu ostati trudni ve\\u0107 sa 13 nedelja starosti, zato ih dr\\u017eite odvojene dok se ne sterilizuju. \\u017denke kuni\\u0107a imaju stopu reproduktivnih karcinoma od skoro 85%, tako da ne sterilisana \\u017eenka skoro uvek ima veoma kratak \\u017eivot.\\\",\\n        \\\"1 Sterilizacija i kastracija za kuni\\u0107e postala je sigurna procedura kada se izvodi od strane iskusnih veterinara za kuni\\u0107e. 2 Ku\\u0107a za kuni\\u0107e je imala preko 1000 sterilizovanih ili kastriranih kuni\\u0107a sa pribli\\u017eno 0.1% smrtnosti zbog anestezije. Tro\\u0161kovi sterilizacije/varanja zna\\u010dajno variraju u razli\\u010ditim delovima zemlje. Na donjoj granici opsega mogu biti jeftini i ko\\u0161tati od $50-75 (\\u010desto u klinikama za sterilizaciju/varanje), dok veterinari u velikim metropolitanskim regionima, gde su kirije i tro\\u0161kovi rada veoma visoki, \\u010desto napla\\u0107uju nekoliko stotina dolara. Pogledajte na\\u0161e veterinarske listinge.\\\"\\n    ]\\n}\", \"refusal\": null}, \"logprobs\": null, \"finish_reason\": \"stop\"}], \"usage\": {\"prompt_tokens\": 1691, \"completion_tokens\": 1809, \"total_tokens\": 3500}, \"system_fingerprint\": null}}, \"error\": null}\n",
      "\n"
     ]
    },
    {
     "data": {
      "text/plain": [
       "{'id': ['0', '1', '2', '3', '4', '5', '6', '7', '8', '9'],\n",
       " 'query': ['da li ljudska kosa zaustavlja veverice',\n",
       "  'Koji su benefiti fosilnih goriva?',\n",
       "  'šta je apotel',\n",
       "  'prosečna cena za prilagođeni baldahin',\n",
       "  'šta je hardver na računaru',\n",
       "  'definicija logsitike EDI',\n",
       "  'zašto bi trebalo da bude ilegalno rekreativno korišćenje marihuane',\n",
       "  'U koju klasu spadaju paukovi?',\n",
       "  'gde se nalazi amurski leopard',\n",
       "  'koliko košta da se sterilizuje moja ženka kunića'],\n",
       " 'passage_text': [['Hranimo veverice u našem dvorištu tokom jeseni i zime i primetili smo da neke od njih imaju ćelave fleke. Jedna ima nedostatak krzna duž leđa i ispod oba pazuha. Takođe, druga ima nekoliko mesta bez krzna na celom grudnom košu. Sve one jedu i čini se da imaju dobar apetit.',\n",
       "   'Životinje ne podnose miris ljudske kose, pa posipanje barijere od odsečenih dlaka oko vaše bašte, ili lagano udubljivanje u zemlju prilikom sadnje lukovica, očigledno ima neku vrednost. Čitava situacija me pomalo nasmejava. Nikada mi nije palo na pamet da smo mi ti koji smrde.',\n",
       "   'Rasporedite malo ljudske kose oko vaše povrtnjačke bašte i cveća. Ovo će oterati veverice jer su ljudi predator i veverica. Bolje je ako kosa nije oprana tako da će veverice lako uhvatiti miris čoveka.',\n",
       "   '1 Možete posuti krvavi obrok oko vaše bašte takođe. 2 Ne hvatajte i premestite veverice. 3 Ovo je izgubljena bitka jer je populacija veverica izuzetno visoka. 4 Takođe, ako je životinja ženskog pola postoji velika verovatnoća da ćete je odvojiti od beba koje zavise od nje za preživljavanje.',\n",
       "   'Gubitak krzna kod veverica može biti uzrokovan šugaravicom ili gljivičnom bolešću. Šugaravica je bolest izazvana mikroskopskim grudicama koje se uvlače pod kožu. Grudice od šugaravice kod veverica su zabeležene kod lisica i sivih veverica. Nema izveštaja o ovom tipu šugaravice koji bi se preneo na ljude ili kućne ljubimce.',\n",
       "   '1 Takođe možete rasuti pseće ili ljudske dlačice oko vaše bašte. 2 Jedan čitalac deli svoje iskustvo: „Imao sam problem sa vevericama koje su kopale moje lukovice. 3 Sada, jednom u proleće i jednom u jesen, zamolim svoju frizerku da mi sačuva veliku kesu dlaka. 4 Lagano ih zakopam u zemlju.',\n",
       "   'Repelent za zečeve. Ljudska kosa će držati zečeve van vaše bašte!! Skupite dlačice sa četki i rasporedite ih po bašti! (preko Pioneer Thinking). Prirodni malč. Kada se isplete u mat, zadržava vlagu, odbija korov. U nekim slučajevima, zapravo može smanjiti eroziju zemljišta. (preko NPR). Biljni đubrivo.'],\n",
       "  ['Najveća prednost korišćenja fosilnih goriva je ta što se lako mogu skladištiti i transportovati sa jednog mesta na drugo. Velike rezerve uglja se stoga prenose iz rudnika uglja do industrija koje su udaljene mnogo milja od rudnika. Takođe, nafta se transportuje do udaljenih elektrana kako bi proizvela energiju. Fosilna goriva su najveći proizvođači kalorične vrednosti u smislu energije. To je takođe jedan od razloga zašto se i dalje preferiraju u odnosu na obnovljive izvore energije ili alternativne izvore.',\n",
       "   'Benefiti fosilnih goriva. Fosilna goriva su uglavnom ostaci životinja i biljaka i ona su dobra energetska resursa. Tri glavna fosilna goriva su prirodni gas, nafta i ugalj. Fosilna goriva su niska po ceni i veoma važni resursi za našu ekonomiju. Fosilna goriva se koriste za proizvodnju električne energije i kao goriva za transport.',\n",
       "   'Fosilna goriva su energetski resursi koji potiču od ostataka biljaka i životinja. Ovi ostaci su milionima godina stari. Postoje tri fosilna goriva: nafta, prirodni gas i ugalj. Fosilna goriva, poput uglja, nafte i prirodnog gasa, obezbeđuju energiju koja pokreće naše načine života i našu ekonomiju. Fosilna goriva pokreću sve, od aviona na nebu do automobila na putu. Greju naše domove i osvetljavaju noć. Ona su osnova na kojoj zasnivamo naš energetski miks.',\n",
       "   'Prednosti fosilnih goriva. Glavna prednost fosilnih goriva je njihova sposobnost da generišu ogromne količine električne energije na samo jednoj lokaciji. Fosilna goriva su veoma lako dostupna. Kada se ugalj koristi u elektranama, veoma su efikasna u smislu cene. Ugalj je takođe u obilnom snabdevanju. Transportovanje nafte i gasa do elektrana može se obaviti kroz upotrebu cevi, što olakšava zadatke. Nedostaci fosilnih goriva Zagađenje je veliki nedostatak fosilnih goriva. To je zato što emituju ugljen-dioksid prilikom sagorevanja, čime uzrokuju efekat staklene bašte. To je takođe glavni uzročni faktor globalnog zagrevanja koje danas doživljava Zemlja.',\n",
       "   'Benefiti Jedna od najvećih prednosti fosilnih goriva je njihova cena. Ugalj, nafta i prirodni gas su trenutno obilni i relativno jeftini za vađenje ili kopanje. U stvari, ugalj je najobilnije fosilno gorivo i nalazi se širom sveta. Fosilna goriva, poput uglja, nafte i prirodnog gasa, obezbeđuju energiju koja pokreće naše načine života i našu ekonomiju. Fosilna goriva pokreću sve, od aviona na nebu do automobila na putu. Greju naše domove i osvetljavaju noć. Ona su osnova na kojoj zasnivamo naš energetski miks.',\n",
       "   'Fosilna goriva takođe generišu velike količine novca i predstavljaju dobar izvor prihoda za mnoge zemlje. Takođe pomažu povezanim industrijama da pruže poslove ljudima širom sveta, što je dobro za celokupnu ekonomiju. Fosilna goriva se koriste i u stambene i komercijalne svrhe. Tri glavna fosilna goriva su prirodni gas, nafta i ugalj. Fosilna goriva su niska po ceni i veoma važni resursi za našu ekonomiju. Fosilna goriva se koriste za proizvodnju električne energije i kao goriva za transport.',\n",
       "   '1. Lako dostupni: Pošto su ova fosilna goriva bila takav veliki izvor energije, svakodnevno se vrše sve više i više ekstrakcija. Geolozi širom sveta pokušavaju da otkriju rudnike uglja. Pritisak je još veći kako populacija raste iz dana u dan. Fosilna goriva su najveći proizvođači kalorične vrednosti u smislu energije. To je takođe jedan od razloga zašto se i dalje preferiraju u odnosu na obnovljive izvore energije ili alternativne izvore.',\n",
       "   'Verovatno ste čuli za goriva poput uglja, nafte i prirodnog gasa. To su tri glavne vrste fosilnih goriva. Svaki dan se oslanjate na fosilna goriva za zadatke kao što je snabdevanje gorivom vašeg automobila i grejanje vašeg doma. Takođe je veoma verovatno da električna energija u vašem domu potiče od elektrane koja koristi fosilna goriva. Hajde da razmotrimo. Fosilna goriva su izvori energije koji su se formirali od nakupljenih ostataka živih organizama koji su bili sahranjeni milione godina ranije. Pritisak, toplota i vreme omogućavaju organskoj materiji da se transformiše u jednu od tri glavne vrste fosilnih goriva, koje su ugalj, nafta i prirodni gas.',\n",
       "   'Fosilna goriva su izvori energije koji su se razvili unutar Zemlje tokom miliona godina. Zbog toga što fosilna goriva - nafta, prirodni gas i ugalj - tako dugo traju da se formiraju, smatraju se neobnovljivim. Hajde da razmotrimo. Fosilna goriva su izvori energije koji su se formirali od nakupljenih ostataka živih organizama koji su bili sahranjeni pre milione godina. Pritisak, toplota i vreme omogućavaju organskoj materiji da se transformiše u jednu od tri glavne vrste fosilnih goriva, koje su ugalj, nafta i prirodni gas.'],\n",
       "  ['Apotel. Apotel pravilnog mnogougla je segment nacrtan iz centra mnogougla (tj. centra kružnice koja opisuje mnogougao) do jedne strane, tako da je normalan na stranu. Ako pravilni mnogougao ima površinu od A kvadratnih jedinica, obim P jedinica, apotel a jedinica, tada je površina polovina proizvoda obima i apotela. Budite pažljivi s ovom formulom, međutim: za dati apotel, postoji SAMO JEDNA MOGUĆA vrednost P.',\n",
       "   'Apoteli. Apotel pravilnog mnogougla je rastojanje od centra do tačke na sredini jedne od njegovih stranica. Apotel kvadrata je jednak polovini dužine jedne stranice.',\n",
       "   \"Apotel pravilnog mnogougla. Definicija: Linijski segment od centra pravilnog mnogougla do tačke na sredini stranice. Pokušajte ovo Da biste podesili donji mnogougao, prevucite bilo koje narandžasto tačkicu, ili promenite broj strana. Obratite pažnju na putanju apotela prikazanu plavom bojom. Reč apotel može se odnositi na samu liniju ili dužinu te linije. Dakle, možete ispravno reći 'nacrtaj apotel' i 'apotela je 4cm'. Svaka formula ispod pokazuje kako pronaći dužinu apotela pravilnog mnogougla. Koristite formulu koja koristi činjenice koje su vam date da biste počeli.\",\n",
       "   'još ... Rastojanje od centra pravilnog mnogougla do tačke na sredini stranice. (Za krug je to rastojanje od centra do tačke na sredini žice.). Pravilni mnogougli - svojstva.',\n",
       "   \"Apotel je takođe poluprečnik inkrozod klasicne pravilne mnogougla. Za mnogougao sa n stranama, postoji n mogućih apotela, sve iste dužine, naravno. Reč apotel može se odnositi na samu liniju ili dužinu te linije. Dakle, možete ispravno reći 'nacrtaj apotel' i 'apotela je 4cm'. Svaka formula ispod pokazuje kako pronaći dužinu apotela pravilnog mnogougla. Koristite formulu koja koristi činjenice koje su vam date da biste počeli.\",\n",
       "   'Apotel heksagona. Apotel pravilnog mnogougla je linisji segment od centra prema tački na sredini jedne od njegovih stranica. Sa druge strane, to je linija nacrtana od centra mnogougla koja je normalna na jednu od njegovih stranica. Reč apotel takođe može se odnositi na dužinu tog segmentske. Zbog toga, svi apoteli u mnogouglu će biti kongruentni. Za pravilnu piramidu, koja je piramida čija je osnova pravilan mnogougao, apotel je kosina visni bočne strane; tj. najkraće rastojanje od vrha do osnove na datoji strani.',\n",
       "   'Za jednakokraki trougao, apotel odgovara dušinskom segmentu od tačke na sredini stranice do bilo kojeg centra trougla, budući da se centri jednakokrakog trougla poklapaju kao posledica definicije. Zbog toga će svi apoteli u mnogouglu biti kongruentni. Za pravilnu piramidu, koja je piramida čija je osnova pravilan mnogougao, apotel je kosina visine figura; tj. najkraće rastojanje od vrha do osnove na datoji strani.',\n",
       "   'Za dati krug, apotel je normalno rastojanje od tačke na sredini žice do centra kruga. Takođe je jednak poluprečniku minus sagita, Za pravilni mnogougao, apotel jednostavno jeste rastojanje od centra do jedne strane, tj. poluprečnik mnogougla. VIDI TAKOĐE: Žica, kružni sektor, kružni segment, poluprečnik, poluprečnik, pravilni mnogougli, apotel OVO NAVODITE KAO: Weisstein, Eric W. Apotel.. Iz MathWorld -A Wolfram Web Resource.',\n",
       "   'Apotel je linisji segment od centra pravilnog mnogougla do tačke na sredini jedne od njegovih stranica. Takođe je definisan kao poluprečnik inkrokruga mnogougla. Za pravilan mnogougao od n stranica, postoji n mogućih apotela iste dužine. Ako pretpostavimo pravougli trougao gde je apotel priležna stranica, polovina stranice mnogougla suprotna stranica i linija koja spaja centar mnogougla i vrh mnogougla da bude hipotenuza. Pretpostavimo ugao formiran pratećom stranicom i hipotenuzom da bude $\\\\theta$.'],\n",
       "  ['Čestitamo! Pronašli ste BuyShade.com, vaš izvor za šatore koji se brzo postavljaju, prekrivače za stolove, prilagođene šatore, štampane zastave i još mnogo toga. Sa stotinama proizvodnih konfiguracija i stilova u našem portfoliu i timom vrhunskih dizajnera, specijalizujemo se za pravljenje prilagođenih rešenja za sve što vam treba.',\n",
       "   'Staraost. Još jedan važan faktor u ceni baldahina je starost baldahina koji planirate da kupite. Ako razmišljate o kupovini potpuno novog od prodavca, verovatno možete očekivati da platite negde u rasponu od 600 do 1400 dolara, pri čemu je prosečna cena verovatno oko 1000 dolara. Sve zavisi od toga kakve funkcije želite.',\n",
       "   '1 Šator koji je idealan za kampovanje i brza postavljanja može koštati od 120 do čak 300 dolara za kompletan set. 2 Gazebo baldahin sa zatvorenim stranama kako bi štitio od vetra i kiše može koštati od 80 do 200 dolara. 3 Onaj koji je napravljen od metala može koštati od 200 do čak 2.000 dolara. 1 Gazebo baldahin sa zatvorenim stranama kako bi štitio od vetra i kiše može koštati od 80 do 200 dolara. 2 Onaj koji je napravljen od metala može koštati od 200 do čak 2.000 dolara. 3 Na primer, Swiss Gear 10 x 10 Foot Smart Shade.',\n",
       "   'Nema problema. Mi smo proizvođači naših vlastitih. Ace Canopy brend šatora koji se brzo postavljaju i tendi. Svi naši prilagođeni baldahini i šatori koji se brzo postavljaju dolaze sa petogodišnjim garantnim rokom. Popravićemo ili zameniti vrh baldahina ili vrh šatora koji se brzo postavlja u roku od 30 dana od kupovine ako su oštećeni. Štete nastale usled nemara korisnika, vetra, snega, vatre ili bilo kog višeg sile neće biti pokrivene. Materijali izuzetnog kvaliteta: Svi prilagođeni baldahini se prave sa našim materijalima izuzetne jačine marke Ace.',\n",
       "   'Prilagođeni šator 10x10. Za sajmove, konvencije i većinu vanjskih sajmova, prilagođeni šator od 10 x 10 stopa će u potpunosti maksimizirati vaš prostor. Nudimo potpunu liniju prilagođenih šatora veličine 10 x 10 stopa - počevši od samo 199 dolara - od našeg lagane Dome II do našeg najprodavanijeg profesionalnog Eclipse II Aluminum. Saznajte više. Boja: Molimo dozvolite 10 dana za proizvodnju, plus vreme dostave',\n",
       "   '1 Prosečan baldahin će koštati negde od 45 do 210 dolara. 2 Ovo se odnosi na baldahin namenjen privremenim potrebama. 3 Baš kao i šator, baldahin se može sklopiti i rasklopiti u roku od 15 minuta. 4 Baldahin od 10 x 20 stopa dizajniran za proslave koji uključuje bočne stranice može koštati od 120 do 200 dolara. 1 Gazebo baldahin sa zatvorenim stranama kako bi štitio od vetra i kiše može koštati od 80 do 200 dolara. 2 Onaj koji je napravljen od metala može koštati od 200 do čak 2.000 dolara. 3 Na primer, Swiss Gear 10 x 10 Foot Smart Shade.',\n",
       "   '1 Baldahin od 10 x 10 stopa bez bočnih strana može koštati od 75 do 100 dolara. 2 Prenosni, lakši baldahin koji dolazi sa kompletima za prozorčiće može koštati od 45 do 95 dolara. 3 Šator koji se brzo postavlja, idealan za kampovanje i spontane postavke, može koštati od 120 do čak 300 dolara za kompletan set. 1 Gazebo baldahin sa zatvorenim stranama kako bi štitio od vetra i kiše može koštati od 80 do 200 dolara. 2 Onaj koji je napravljen od metala može koštati od 200 do čak 2.000 dolara. 3 Na primer, Swiss Gear 10 x 10 Foot Smart Shade.',\n",
       "   'Niste samo dobijate Najnižu cenu garantovano! BILO GDE. Imamo preko 30 godina industrijskog iskustva; specijalizovani smo za prilagođene baldahine i pokrivače. Garancija vodeća na tržištu: Svaki okvir baldahina i šatora koji se brzo postavlja dolazi sa garancijom od 12 meseci koja vas štiti u slučaju bilo kakvih proizvodnih grešaka. Popravićemo ili zameniti vrh baldahina ili vrh šatora koji se brzo postavlja u roku od 30 dana od kupovine ako su oštećeni. Štete nastale usled nemara korisnika, vetra, snega, vatre ili bilo kog višeg sile neće biti pokrivene. Materijali izuzetne kvaliteta: Svi prilagođeni baldahini se prave sa našim materijalima izuzetne jačine marke Ace.',\n",
       "   'Prilagođeni baldahin 10x10. Prilagođeni šatori dimenzija 10 x 10 stopa sa opcionalnim bočnim skidama i zadnjim zidom na štampanom materijalu pružaju hlad i zaštitu za vaša unutrašnja ili spoljnja dešavanja.'],\n",
       "  ['Hardver je najbolje opisan kao uređaj, poput tvrdog diska, koji je fizički povezan sa računarom ili nešto što se može fizički dodirnuti. CD-ROM, monitor računarskog ekrana, štampač i grafička kartica su sve primeri računarskog hardvera. Hardver služi kao sistem isporuke za softverska rešenja. Hardver računara se retko menja, u poređenju sa softverom i podacima, koji su „meki“ u smislu da se lako stvaraju, menjaju ili brišu na računaru. Da biste obavili određeni zadatak, potreban je odgovarajući hardver.',\n",
       "   'Računarski hardver (obično jednostavno nazvan hardver kada je računarski kontekst podrazumevan) predstavlja skup fizičkih elemenata koji čine računarski sistem. Za razliku od toga, softver su uputstva koja se mogu skladištiti i izvoditi uz pomoć hardvera. Softver je bilo koji set mašinski čitljivih instrukcija koje usmeravaju računarski procesor da obavlja određene operacije. Kombinacija hardvera i softvera čini upotrebljiv računarski sistem.',\n",
       "   'Računarski hardver su fizički delovi ili komponente računara, poput monitora, miša, tastature, skladišta podataka računara, tvrdog diska, grafičkih kartica, zvučnih kartica, memorije, matične ploče i tako dalje, sve fizičke stvari koje su opipljive. Za razliku, softver su uputstva koja se mogu skladištiti i izvoditi uz pomoć hardvera. Softver predstavlja bilo koji set mašinski čitljivih instrukcija koje usmeravaju računarski procesor da obavlja određene operacije. Kombinacija hardvera i softvera čini upotrebljiv računarski sistem.',\n",
       "   'Računarski hardver predstavlja kolekciju fizičkih delova računarskog sistema. To uključuje kućište računara, monitor, tastaturu i miša. Takođe uključuje sve delove unutar kućišta računara, poput tvrdog diska, matične ploče, grafičke kartice i mnoge druge. Računarski hardver je ono što možete fizički dodirnuti.',\n",
       "   'Definicija računarskog hardvera. Hardver je sveobuhvatan termin za sve fizičke delove računara, u suprotnosti sa podacima koje sadrži ili operiše na njima i softverom koji pruža instrukcije hardveru kako bi izvršio zadatke.',\n",
       "   'Skraćeno kao HW, hardver je najbolje opisan kao bilo koji fizički komponent računarskog sistema koji sadrži matičnu ploču, integrisane kola ili druge elektronike. Savršen primer hardvera je ekran na kom gledate ovu stranicu. Bez ikakvog hardvera, vaš računar ne bi postojao, a softver ne bi mogao da se koristi. Slika je Logitech veb kamera, primer spoljnog hardverskog periferijskog uređaja. Ovaj hardverski uređaj omogućava korisnicima da snimaju video zapise ili slike i prenose ih preko interneta.',\n",
       "   'Definicije. Računarski sistem se sastoji od dva glavna elementa: hardvera i softvera. Računarski hardver predstavlja kolekciju svih delova koje možete fizički dodirnuti. Sa druge strane, softver nije nešto što možete dodirnuti. Softver je skup instrukcija za računar da obavlja određene operacije. Ovo uključuje kućište računara, monitor, tastaturu i miša. Takođe uključuje sve delove unutar kućišta računara, poput tvrdog diska, matične ploče, grafičke kartice i mnoge druge. Računarski hardver je ono što možete fizički dodirnuti.',\n",
       "   'Računarski hardver predstavlja bilo koji fizički uređaj koji se koristi u ili uz vašu mašinu, dok je softver kolekcija koda instalirana na tvrdi disk vašeg računara. Na primer, monitor računara koji koristite za čitanje ovog teksta i miš koji koristite za navigaciju ove web stranice je računarski hardver. Sav softver koristi barem jedan hardverski uređaj za rad. Na primer, video igra, koja je softver, koristi računarski procesor (CPU), memoriju (RAM), tvrdi disk i grafičku karticu za rad. Softver za obradu teksta koristi računarski procesor, memoriju i tvrdi disk za kreiranje i čuvanje dokumenata.',\n",
       "   'Uvod. Računarski hardver je fizički deo računara, za razliku od toga koji izvršava ili se pokreće na hardveru. Hardver računara se ređe menja, dok se softver i podaci često menjaju. Izraz mek se odnosi na lako stvaranje, izmenu ili brisanje',\n",
       "   'Računarski hardver se odnosi na fizičke komponente koje čine računarski sistem. Postoje mnoge različite vrste hardvera koji se mogu instalirati unutar, i povezati sa spolja, računara.'],\n",
       "  ['Kao i mnoge druge rane informacione tehnologije, EDI je inspirisan razvojem vojne logistike. Složenost berlinske blokade 1948. godine zahtevala je razvoj pojmova i metoda za razmenu, ponekad preko 300 baud teletajp modema, ogromnih količina podataka i informacija o prevoženim robama. U EDI terminologiji, “ulazno” (inbound) i “izlazno” (outbound) se odnose na pravac prenosa EDI dokumenta u odnosu na određeni sistem, a ne na pravac robe, novca ili drugih stvari koje dokument predstavlja.',\n",
       "   'Svaki termin u definiciji je važan za razumevanje kako EDI funkcioniše: Računar-na-računar - EDI zamenjuje poštansku poštu, faks i email. Iako je i e-pošta elektronski pristup, dokumenti razmenjeni putem e-pošte ipak moraju biti obrađeni od strane ljudi, a ne računara. Najčešće korišćeni skupovi transakcija EDI u transportnoj industriji su: 1 204 - Motor Carrier Load Tender: Špediter ili 3PL putem TMS-a šalju ovaj skup transakcija prevozniku YRC-u kako bi zatražili preuzimanje pošiljke.',\n",
       "   'Vreme je novac, i to nikada nije bilo tačnije nego kod kompanija u logistici i distribuciji, pružaocima logističkih usluga (LSP) i 3PL skladištima. Osigurajte da se narudžbine isporučuju i fakturišu bezbolno koristeći EDI rešenje dizajnirano za vaše specifične izazove - EDI/HQ™. EDI/HQ™ ima podatke o korisnicima dostupne na korisnički prijateljskom kontrolnom panelu, koji prati transportne naloge i fakture u svim fazama ispunjenja. U današnjem svetu brzih promena, brza reakcija na menjanje kupaca ili tržišnih dinamika predstavlja konkurentsku prednost.',\n",
       "   'Dobavljač logističkih usluga treće strane (skraćeno 3PL, ili ponekad TPL) je firma koja pruža usluge svojim klijentima u vezi sa outsoursovanim (ili trećepartijskim) logističkim uslugama za deo, ili sve svoje upravljačke funkcije lanca snadbevanja.',\n",
       "   'Da se malo vratimo unazad pre nego što se specifično bavimo EDI-jem u transportu. Prvo moramo razumeti i saglasiti se sa tim šta je Elektronska Razmena Podataka, ili EDI, jer se ona ne koristi samo u industriji transporta. Najčešće korišćeni skupovi transakcija EDI u transportnoj industriji su: 1 204 - Motor Carrier Load Tender: Špediter ili 3PL putem TMS-a šalju ovaj skup transakcija prevozniku YRC-u kako bi zatražili preuzimanje pošiljke.',\n",
       "   'Elektronska Razmena Podataka (EDI) se odnosi na razmenu između različitih kompanija putem računara putem elektronskih komunikacionih kanala. Na početku EDI-ja (1970-ih) nije postojao standard za format podataka. Kada su kompanije odlučile uspostaviti EDI sa poslovnim partnerom, dogovarale su se bilateralno koji format koristiti. Da bi se smanjila ova kompleksnost i napor, vreme i troškovi uključeni, u 1980-ih su uvedeni prvi standardi.',\n",
       "   'EDI se može prenositi korišćenjem bilo koje metodologije koju su dogovorili pošiljalac i primalac. To uključuje različite tehnologije, uključujući modem (asinhroni i sinhroni), FTP, e-poštu, HTTP, AS1, AS2, itd. Važno je razlikovati između EDI dokumenata i metoda za njihovo slanje. U EDI terminologiji, “ulazno” (inbound) i “izlazno” (outbound) se odnose na pravac prenosa EDI dokumenta u odnosu na određeni sistem, a ne na pravac robe, novca ili drugih stvari koje dokument predstavlja.',\n",
       "   'EDI je standardni format za razmenu poslovnih podataka između organizacija putem elektronskih sredstava. Koristi se za prenos elektronskih dokumenata ili poslovnih podataka sa jednog računarskog sistema na drugi kao elektronski ekvivalent za prijemne papirne dokumentacije, potvrda i faktura između trgovinskih partnera. Neki od ključnih prednosti EDI-a uključuju:',\n",
       "   'Šta je EDI? U osnovi je to elektronska razmena poslovnih dokumenata u standardizovanom formatu. U svetu EDI-a, ovi poslovni dokumenti se nazivaju skupovi transakcija, a kupci i prevoznici sa kojima sarađujete su trgovinski partneri. Većina softvera za kamione ima mogućnost slanja i primanja EDI po tom formatu. Postoje dva osnovna načina da vaš računar pošalje ili primi EDI transakcije sa računarom vašeg partnera: direktna komunikacija, i Value Added Network (VAN).',\n",
       "   'Definicija treće strane logistike. Treća strana snabdeva logističkim operacijama između trgovaca putem nezavisne organizacije. Eyefortransport. Logistika treće strane je aktivnost outsourcinga aktivnosti u vezi sa logistikom i distribucijom. Industrija 3PL uključuje pružaoce rešenja za logistiku (LSP) i špeditera čije poslovne procese podržavaju.'],\n",
       "  [\"Neki se pitaju 'zašto bi marihuana trebalo da bude legalizovana?' ali mi bismo trebali pitati Zašto bi marihuana trebala biti ilegalna?. Filozofski posmatrano, pojedinci zaslužuju pravo da sami donose odluke. Vlada ima pravo da ograniči te odluke samo ako postupci pojedinca ugrožavaju druge. SAŽETAK: Imali bismo više novca za trošenje na važne probleme ako bi marihuana bila legalna. Treći glavni razlog zašto bi marihuana trebala biti legalna jeste jer zabrana na bilo koji način ne pomaže zemlji, već izaziva mnogo problema.\",\n",
       "   'Dakle, iako bi se marihuana bazirane na lekovima trebala moći nabavljati na recept iz apoteke, upotreba marihuane ne bi trebala biti normalizovana i droga iz marihuane bi trebala biti ilegalna. Bob Enyart je pastor Denver Bible crkve u Arvadi, Kolorado. Molimo dodajte korisničko ime da biste videli ili dodali komentare. Što se tiče upotrebe marihuane ili bilo kog moralnog pitanja, argumenti za pravo i krivo u savremenom društvu su posebno teški jer sve veći broj ljudi odbacuje apsolutno pravo i krivo.',\n",
       "   'Marihuana je najčešće zloupotrebljena ilegalna droga u SAD-u i širom sveta. Oni koji podržavaju njenu legalizaciju, zbog medicinske ili opšte upotrebe, ne prepoznaju da su najveći troškovi marihuane povezani sa samo njenom zabranom; oni su troškovi koji proizilaze iz same upotrebe marihuane. Mnogi ljudi koji žele da legalizuju marihuanu strastveni su po pitanju njihovog viđenja navodnih neuspeha politika usmerenih na smanjenje upotrebe marihuane, ali ti pobornici legalizacije retko - ako uopšte ikad - opisuju sopstveni plan za oporezivanje i regulisanje marihuane kao legalne droge.',\n",
       "   'Troškovi legalizacije marihuane ne bi bili samo finansijski. Novi korisnici marihuane ne bi bili ograničeni na odrasle ako bi marihuana bila legalizovana, baš kao što regulative o alkoholu i duvanu ne sprečavaju upotrebu od strane mladih. Mnogi ljudi koji žele da legalizuju marihuanu strastveni su po pitanju njihovog viđenja navodnih neuspeha politika usmerenih na smanjenje upotrebe marihuane, ali ti pobornici legalizacije retko - ako uopšte ikad - opisuju sopstveni plan za oporezivanje i regulisanje marihuane kao legalne droge.',\n",
       "   'Rekreativna upotreba marihuane samo će dovesti do većeg stepena zavisnosti od droga u Sjedinjenim Državama. Jednom kada legalizujemo rekreativnu upotrebu marihuane, klizavica je ka legalizaciji ostalih ilegalnih droga koje su jače. Jer ljudi žele da je koriste rekreativno i to smanjuje rizik od hapšenja zbog upotrebe. Jer korisnici marihuane manje verovatno štete nekome i takođe ima zdravstvene beneficije kao što leči kancer i druge bolesti/zdravstvene probleme kao što su dijabetes i druge štetne bolesti. Alkohol je nekada bio ilegalan. Prijava.',\n",
       "   'Zašto ne bismo trebali legalizovati marihuanu. DELJENJA. Za razliku od uverenja onih koji zagovaraju legalizaciju marihuane, trenutne uravnotežene, restriktivne i bipartitne politike droga Sjedinjenih Država relativno dobro funkcionišu i doprinele su smanjenju stope upotrebe marihuane u našoj naciji. Mnogi ljudi koji žele da legalizuju marihuanu strastveni su po pitanju njihovog viđenja navodnih neuspeha politika usmerenih na smanjenje upotrebe marihuane, ali ti pobornici legalizacije retko - ako uopšte ikad - opisuju sopstveni plan za oporezivanje i regulisanje marihuane kao legalne droge.',\n",
       "   'Ako bi SAD legalizovale marihuanu, broj korisnika marihuane bi se povećao. Danas ima 15,2 miliona trenutnih korisnika marihuane u poređenju sa 129 miliona korisnika alkohola i 70,9 miliona korisnika duvana. Mnogi ljudi koji žele da legalizuju marihuanu strastveni su po pitanju njihovog viđenja navodnih neuspeha politika usmerenih na smanjenje upotrebe marihuane, ali ti pobornici legalizacije retko - ako uopšte ikad - opisuju sopstveni plan za oporezivanje i regulisanje marihuane kao legalne droge.',\n",
       "   'Marihuana ne bi trebala biti legalizovana za rekreativnu upotrebu jer će imati drastično negativne efekte na američku ekonomiju. Osobe koje su pod uticajem narkotika poput marihuane nisu u mogućnosti da obavljaju poslove svakodnevne prirode potrebne za posao. Jer ljudi žele da je koriste rekreativno i to smanjuje rizik od hapšenja zbog upotrebe. Jer korisnici marihuane manje verovatno štete nekome i takođe ima zdravstvene beneficije kao što leči kancer i druge bolesti/zdravstvene probleme kao što su dijabetes i druge štetne bolesti. Alkohol je nekada bio ilegalan. Prijava.',\n",
       "   'Po mom ličnom mišljenju, marihuana bi trebala biti legalizovana za rekreativnu upotrebu. Ne samo što je statistički najsigurnija od svih droga koje se koriste u Americi ili širom sveta, već nema prijavljenih smrti usled upotrebe. Jer ljudi žele da je koriste rekreativno i to smanjuje rizik od hapšenja zbog upotrebe. Jer korisnici marihuane manje verovatno štete nekome i takođe ima zdravstvene beneficije kao što leči kancer i druge bolesti/zdravstvene probleme kao što su dijabetes i druge štetne bolesti. Alkohol je nekada bio ilegalan. Prijava.'],\n",
       "  ['PODNAREĐENA JEDINICA HELEĆERATA, KLASA ARACHNIDA. Paukovi. Ova grupa sadrži mnoga poznata bića, uključujući paukove, grinje, škorpije i krpelje. Posmatrajte velikog pauka sa desne strane. Primetite ponovo da postoje dva dela tela, glavotučak i abdomen. Na glavotučku se nalazi dva do četiri para jednostavnih očiju.',\n",
       "   'Klasa Arachnida obuhvata raznovrsnu grupu člankonožaca: paukove, škorpije, krpelje, grinje, prugaste pauke i njihove rođake. Naučnici opisuju preko 75.000 vrsta paukova, većina njih su paukovi. Većina arahida su mesožderi, obično se hraneći insektima, i terestrične, živeći na zemlji.',\n",
       "   'Paukovi pripadaju tipu Arthropoda, zajedno sa insektima i rakovima. Red paukova, Araneae - zajedno sa škorpijama, prugastim paukovima i velikim redom krpelja i grinja - čine klasu Arachnida. Paukovi se razlikuju od drugih arahida po tome što im je telo podeljeno na glavotučak i abdomen.',\n",
       "   'Klasa Araneae sadrži paukove, veliku i fascinantnu grupu. Paukovi imaju tipične arahidne karakteristike - osam nogu, pedipalpe, helicere i dva glavna dela tela. Međutim, helicere su izgubile unutrašnje palčeve i spoljašnji segment koji se savio postao je zub.',\n",
       "   'Unapređujući svet, jedan odgovor odjednom, klasa jednog pauka je arahida. Paukovi pripadaju arahnidnoj porodici zajedno sa svim ostalim vrstama paukova. Paukovi nisu insekti. Oni su arahidi. Tako su i škorpije, grinje, krpelji, prugasti paukovi i mnogi drugi.',\n",
       "   'Prema tome, pauk je smešten u tip Arthropoda, klasu (klasa) Arachnida, red (red) Araneae. Ovaj red je dalje podeljen na 3 pod-reda. Migalomorfe (primitivni paukovi), Arahneomorfe (moderni paukovi) i Mezotelae, sa jednom porodicom paukova Liphistiidae.'],\n",
       "  ['Amurski leopardi imaju najseverniji raspon od svih podvrsta leoparda. Amurski leopardi se nalaze u istočnoj Rusiji, blizu reke Amur unutar uskog pojasa južno od jezera Khanka; i u provinciji Jilin u Kini.',\n",
       "   'RHWA je sponzor Tigris Fondacije. Tigris Fondacija podržava očuvanje amurskih leoparda. Za više informacija, posetite veb sajt Tigris Fondacije. Leopardi (Panthera pardus) su među najprilagodljivijim vrstama mačaka i nalaze se u raznovrsnim staništima širom Afrike i Azije.',\n",
       "   'Amurski leopard (Panthera pardus orientalis), takođe poznat kao mandžurski leopard, je divlji grabljivac mačka koji je autohton u planinskim predelima tajge, kao i drugim umerenim šumama u Koreji, severoistočnoj Kini i ruskom Dalekom istoku.',\n",
       "   'Saznajte više o ovom članku. Amurski leopard (Panthera pardus orientalis) je podvrsta leoparda koja je autohtona za Primorje region jugoistočne Rusije i provinciju Jilin severoistočne Kine. Klasifikovan je kao kritično ugrožena vrsta od 1996. godine prema IUCN.',\n",
       "   'Amurski leopard (Panthera pardus orientalis) je podvrsta leoparda koja je autohtona za Primorje region jugoistočne Rusije i provinciju Jilin severoistočne Kine. Klasifikovan je kao kritično ugrožena vrsta od 1996. godine prema IUCN. U 2007. godini, procenjeno je da je preostalo samo 19-26 divljih amurskih leoparda.',\n",
       "   'Većina ljudi zapravo nije svesna gde amurski leopardi žive! Amurski leopardi žive u Severnoj Koreji, Rusiji, Kini i Japanu. Činjenice o amurskom leopardu o njegovom staništu pokazuju da se ovi životinje nalaze duž obale Japana i severnog bazena Suchana. Herman Šlegel je bio prvi istraživač koji je otkrio ove životinje još 1857. godine.'],\n",
       "  ['1 Rizik od reproduktivnih karcinoma (jajnika, materice, mlečnih žlezda) kod ne sterilisane ženke kunića se gotovo eliminiše sterilizacijom vaše ženke kunića. 2 Vaš kastrirani mužjaka kunića će takođe živeti duže, s obzirom da neće biti sklon borbi sa drugim životinjama (kunići, mačke, itd.) zbog njegove seksualne agresije. Troškovi sterilizacije/varanje značajno variraju u različitim delovima zemlje. Na donjoj granici opsega mogu biti jeftini i koštati od $50-75 (često u klinikama za sterilizaciju/varanje), dok veterinari u velikim metropolitanskim regionima, gde su kirije i troškovi rada veoma visoki, često naplaćuju nekoliko stotina dolara. Pogledajte naše veterinarske listinge.',\n",
       "   'Cena sterilizacije vašeg kunića će se veoma razlikovati na osnovu nekoliko različitih faktora. 1 U manje naseljenim područjima gde je trošak života relativno nizak, cene mogu varirati od $85 do $200. 2 Prosečno, većina tipičnih klinika će naplaćivati između $150 i $300. 1 Lekovi za kunića će početi od oko $20 - $80+ Potrebna je injekcija poput metakam injekcije pre nego što procedura počne. 2 Injekcija poput ove može koštati od $10 do $30 u zavisnosti od veterinara. 3 Veterinar će verovatno zahtevati kontrolni pregled.',\n",
       "   'Koliko košta operacija? Troškovi sterilizacije/varanja značajno variraju u različitim delovima zemlje. Na donjoj granici opsega mogu biti jeftini i koštati od $50-75 (često u klinikama za sterilizaciju/varanje), dok veterinari u velikim metropolitanskim regionima, gde su kirije i troškovi rada veoma visoki, često naplaćuju nekoliko stotina dolara. Pogledajte naše veterinarske listinge.',\n",
       "   'Nije jeftino, međutim. Očekujte oko $100+ za varanje i $200+ za sterilizaciju, potrebno je koristiti drugačiju anesteziju za kuniće nego za pse i mačke, pobrinite se da koristite veterinara koji je upoznat sa kunićima. Kunići mogu biti dobri kućni ljubimci za neke ljude, pod uslovom da imate realna očekivanja. Kunići mogu ostati trudni već sa 13 nedelja starosti, zato ih držite odvojene dok se ne sterilizuju. Ženke kunića imaju stopu reproduktivnih karcinoma od skoro 85%, tako da ne sterilisana ženka skoro uvek ima veoma kratak život.',\n",
       "   '1 Lekovi nakon završene procedure će biti neophodni. 2 Lekovi za kunića će početi od oko $20 - $80+ Potrebna je injekcija poput metakam injekcije pre nego što procedura počne. 3 Injekcija poput ove može koštati od $10 do $30 u zavisnosti od veterinara. 4 Veterinar će verovatno zahtevati kontrolni pregled. 1 Lekovi za kunića će početi od oko $20 - $80+ Potrebna je injekcija poput metakam injekcije pre nego što procedura počne. 2 Injekcija poput ove može koštati od $10 do $30 u zavisnosti od veterinara. 3',\n",
       "   'U mom kraju će vas koštati $140 - $230 kod veterinara. To je tipično. Međutim, ako imate kliniku ili utočište koje radi jeftinu sterilizaciju/varanje za kuniće, možda ćete platiti samo $50. To je retko ali vredno istražiti da pronađete takvo mesto. Preporučujem da se uverite da je vaš mužjak zaista mužjak i vaša ženka zaista ženka. Ako su stariji od šest nedelja onda biste trebali moći da uočite razliku',\n",
       "   'Troškovi kastracije kunića su obično oko iste cene kao ekvivalentne operacije izvedene na mačkama - ali vredi proveriti ovo sa vašim veterinarom koliko naplaćuju za kastraciju mužjaka i sterilizaciju ženki.',\n",
       "   'Koliko košta sterilizacija ženke kunića? Moj holandski kunić ima otprilike 8 i po meseci i znam da su sklone karcinomu materice. Moram da znam koliko bi koštalo da je sterilizujem negde u okrugu Pinelas, FL i eventualno gde bi bilo najjeftinije.',\n",
       "   '$100 za mužjaka, $200 za ženku ako možete pronaći dobrog veterinara koji će to uraditi. Barem, to je cena u mom kraju. To je IZVRSNO za njihovo zdravlje, ali je skupo. Oni su sjajni ljubimci koji uživaju u društvu drugog kunića. Kunići mogu ostati trudni već sa 13 nedelja starosti, zato ih držite odvojene dok se ne sterilizuju. Ženke kunića imaju stopu reproduktivnih karcinoma od skoro 85%, tako da ne sterilisana ženka skoro uvek ima veoma kratak život.',\n",
       "   '1 Sterilizacija i kastracija za kuniće postala je sigurna procedura kada se izvodi od strane iskusnih veterinara za kuniće. 2 Kuća za kuniće je imala preko 1000 sterilizovanih ili kastriranih kunića sa približno 0.1% smrtnosti zbog anestezije. Troškovi sterilizacije/varanja značajno variraju u različitim delovima zemlje. Na donjoj granici opsega mogu biti jeftini i koštati od $50-75 (često u klinikama za sterilizaciju/varanje), dok veterinari u velikim metropolitanskim regionima, gde su kirije i troškovi rada veoma visoki, često naplaćuju nekoliko stotina dolara. Pogledajte naše veterinarske listinge.']]}"
      ]
     },
     "execution_count": 84,
     "metadata": {},
     "output_type": "execute_result"
    }
   ],
   "source": [
    "result_file_name = \"commands/results_msmarco.jsonl\"\n",
    "\n",
    "a = make_dataset(processed_commands_path=result_file_name, dataset_name='msmarco')\n",
    "a"
   ]
  },
  {
   "cell_type": "markdown",
   "metadata": {},
   "source": [
    "## Checking tanslation results"
   ]
  },
  {
   "cell_type": "code",
   "execution_count": 47,
   "metadata": {},
   "outputs": [
    {
     "data": {
      "text/html": [
       "<div>\n",
       "<style scoped>\n",
       "    .dataframe tbody tr th:only-of-type {\n",
       "        vertical-align: middle;\n",
       "    }\n",
       "\n",
       "    .dataframe tbody tr th {\n",
       "        vertical-align: top;\n",
       "    }\n",
       "\n",
       "    .dataframe thead th {\n",
       "        text-align: right;\n",
       "    }\n",
       "</style>\n",
       "<table border=\"1\" class=\"dataframe\">\n",
       "  <thead>\n",
       "    <tr style=\"text-align: right;\">\n",
       "      <th></th>\n",
       "      <th>id</th>\n",
       "      <th>query</th>\n",
       "      <th>passage_text</th>\n",
       "    </tr>\n",
       "  </thead>\n",
       "  <tbody>\n",
       "    <tr>\n",
       "      <th>0</th>\n",
       "      <td>1</td>\n",
       "      <td>Koji su benefiti fosilnih goriva?</td>\n",
       "      <td>[Najveća prednost korišćenja fosilnih goriva je ta što se lako mogu skladištiti i transportovati sa jednog mesta na drugo. Velike rezerve uglja se stoga prenose iz rudnika uglja do industrijskih postrojenja koja su udaljena od rudnika. Nafta se takođe prenosi do udaljenih elektrana kako bi se pr...</td>\n",
       "    </tr>\n",
       "    <tr>\n",
       "      <th>1</th>\n",
       "      <td>2</td>\n",
       "      <td>šta je apotema</td>\n",
       "      <td>[Apotema. Apotema pravilnog mnogougla je segment nacrtan od centra mnogougla (tj. centra kruga koji opisuje mnogougao) do jedne strane, tako da je normalan na stranu. Ako pravilni mnogougao ima površinu od A kvadratnih jedinica, obim od P jedinica, apotemu od a jedinica, tada je površina jednaka...</td>\n",
       "    </tr>\n",
       "    <tr>\n",
       "      <th>2</th>\n",
       "      <td>3</td>\n",
       "      <td>average cost for custom canopy</td>\n",
       "      <td>[Čestitamo! Pronašli ste BuyShade.com, vaš izvor za šatore koji se brzo postavljaju, prekrivače za stolove, prilagođene šatore, štampane zastave i još mnogo toga. Sa stotinama konfiguracija proizvoda i stilova u našem portfoliju i timom vrhunskih dizajnera, specijalizovani smo za pravljenje pril...</td>\n",
       "    </tr>\n",
       "    <tr>\n",
       "      <th>3</th>\n",
       "      <td>4</td>\n",
       "      <td>šta je hardver u računaru</td>\n",
       "      <td>[Hardver se najbolje opisuje kao uređaj, poput tvrdog diska, koji je fizički povezan sa računarom ili nešto što se može fizički dodirnuti. CD-ROM, monitor računarskog ekrana, štampač i grafička kartica su primeri računarskog hardvera. Hardver služi kao sistem za isporuku softverskih rešenja. Har...</td>\n",
       "    </tr>\n",
       "    <tr>\n",
       "      <th>4</th>\n",
       "      <td>5</td>\n",
       "      <td>edi logistics definition</td>\n",
       "      <td>[Kao i mnoge druge rane informacione tehnologije, EDI je bio inspirisan razvojem vojne logistike. Složenost berlinske blokade iz 1948. zahtevala je razvoj koncepata i metoda za razmenu, ponekad preko 300 baud teletipskog modema, ogromnih količina podataka i informacija o prevoženim robama. U EDI...</td>\n",
       "    </tr>\n",
       "    <tr>\n",
       "      <th>5</th>\n",
       "      <td>6</td>\n",
       "      <td>Zašto bi trebalo da bude ilegalno rekreativno korišćenje marihuane?</td>\n",
       "      <td>[Neki se pitaju 'zašto bi marihuana trebalo da bude legalizovana?' ali mi bismo trebali da se zapitamo Zašto bi marihuana trebalo da bude ilegalna?. Sa filozofskog stanovišta, pojedinci zaslužuju pravo da sami donose odluke. Vlada ima pravo da ograniči te odluke samo ako postupci pojedinca ugrož...</td>\n",
       "    </tr>\n",
       "    <tr>\n",
       "      <th>6</th>\n",
       "      <td>7</td>\n",
       "      <td>U koju klasu spadaju paukovi?</td>\n",
       "      <td>[PODFAKULTET HELICERATA, KLASA ARACHNIDA. Paukovi. Ova grupa sadrži mnoge poznate organizme, uključujući paukove, grinje, škorpije i krpelje. Pogledajte velikog pauka sa desne strane. Ponovo primetite da postoje dva dela tela, glavotučak i abdomen. Na glavotučku se nalaze dva do četiri para jedn...</td>\n",
       "    </tr>\n",
       "    <tr>\n",
       "      <th>7</th>\n",
       "      <td>9</td>\n",
       "      <td>Koliko košta da sterilizujem svoju ženku kunića?</td>\n",
       "      <td>[Rizik od reproduktivnih karcinoma (jajnika, materice, mlečnih žlezda) kod nekastrirane ženke kunića gotovo je eliminisan sterilizacijom vaše ženke kunića. Vaš kastrirani mužjak kunić takođe će živeti duže, s obzirom na to da neće biti izazvan da se bori sa drugim životinjama (kunićima, mačkama,...</td>\n",
       "    </tr>\n",
       "  </tbody>\n",
       "</table>\n",
       "</div>"
      ],
      "text/plain": [
       "  id                                                                query  \\\n",
       "0  1                                    Koji su benefiti fosilnih goriva?   \n",
       "1  2                                                       šta je apotema   \n",
       "2  3                                       average cost for custom canopy   \n",
       "3  4                                            šta je hardver u računaru   \n",
       "4  5                                             edi logistics definition   \n",
       "5  6  Zašto bi trebalo da bude ilegalno rekreativno korišćenje marihuane?   \n",
       "6  7                                        U koju klasu spadaju paukovi?   \n",
       "7  9                     Koliko košta da sterilizujem svoju ženku kunića?   \n",
       "\n",
       "                                                                                                                                                                                                                                                                                                  passage_text  \n",
       "0  [Najveća prednost korišćenja fosilnih goriva je ta što se lako mogu skladištiti i transportovati sa jednog mesta na drugo. Velike rezerve uglja se stoga prenose iz rudnika uglja do industrijskih postrojenja koja su udaljena od rudnika. Nafta se takođe prenosi do udaljenih elektrana kako bi se pr...  \n",
       "1  [Apotema. Apotema pravilnog mnogougla je segment nacrtan od centra mnogougla (tj. centra kruga koji opisuje mnogougao) do jedne strane, tako da je normalan na stranu. Ako pravilni mnogougao ima površinu od A kvadratnih jedinica, obim od P jedinica, apotemu od a jedinica, tada je površina jednaka...  \n",
       "2  [Čestitamo! Pronašli ste BuyShade.com, vaš izvor za šatore koji se brzo postavljaju, prekrivače za stolove, prilagođene šatore, štampane zastave i još mnogo toga. Sa stotinama konfiguracija proizvoda i stilova u našem portfoliju i timom vrhunskih dizajnera, specijalizovani smo za pravljenje pril...  \n",
       "3  [Hardver se najbolje opisuje kao uređaj, poput tvrdog diska, koji je fizički povezan sa računarom ili nešto što se može fizički dodirnuti. CD-ROM, monitor računarskog ekrana, štampač i grafička kartica su primeri računarskog hardvera. Hardver služi kao sistem za isporuku softverskih rešenja. Har...  \n",
       "4  [Kao i mnoge druge rane informacione tehnologije, EDI je bio inspirisan razvojem vojne logistike. Složenost berlinske blokade iz 1948. zahtevala je razvoj koncepata i metoda za razmenu, ponekad preko 300 baud teletipskog modema, ogromnih količina podataka i informacija o prevoženim robama. U EDI...  \n",
       "5  [Neki se pitaju 'zašto bi marihuana trebalo da bude legalizovana?' ali mi bismo trebali da se zapitamo Zašto bi marihuana trebalo da bude ilegalna?. Sa filozofskog stanovišta, pojedinci zaslužuju pravo da sami donose odluke. Vlada ima pravo da ograniči te odluke samo ako postupci pojedinca ugrož...  \n",
       "6  [PODFAKULTET HELICERATA, KLASA ARACHNIDA. Paukovi. Ova grupa sadrži mnoge poznate organizme, uključujući paukove, grinje, škorpije i krpelje. Pogledajte velikog pauka sa desne strane. Ponovo primetite da postoje dva dela tela, glavotučak i abdomen. Na glavotučku se nalaze dva do četiri para jedn...  \n",
       "7  [Rizik od reproduktivnih karcinoma (jajnika, materice, mlečnih žlezda) kod nekastrirane ženke kunića gotovo je eliminisan sterilizacijom vaše ženke kunića. Vaš kastrirani mužjak kunić takođe će živeti duže, s obzirom na to da neće biti izazvan da se bori sa drugim životinjama (kunićima, mačkama,...  "
      ]
     },
     "execution_count": 47,
     "metadata": {},
     "output_type": "execute_result"
    }
   ],
   "source": [
    "import pandas as pd\n",
    "pd.set_option('display.max_colwidth', 300)\n",
    "\n",
    "msmarco_path = \"datasets/msmarco.parquet\"\n",
    "pd.read_parquet(msmarco_path, engine='fastparquet')"
   ]
  },
  {
   "cell_type": "code",
   "execution_count": 46,
   "metadata": {},
   "outputs": [
    {
     "data": {
      "text/html": [
       "<div>\n",
       "<style scoped>\n",
       "    .dataframe tbody tr th:only-of-type {\n",
       "        vertical-align: middle;\n",
       "    }\n",
       "\n",
       "    .dataframe tbody tr th {\n",
       "        vertical-align: top;\n",
       "    }\n",
       "\n",
       "    .dataframe thead th {\n",
       "        text-align: right;\n",
       "    }\n",
       "</style>\n",
       "<table border=\"1\" class=\"dataframe\">\n",
       "  <thead>\n",
       "    <tr style=\"text-align: right;\">\n",
       "      <th></th>\n",
       "      <th>id</th>\n",
       "      <th>query</th>\n",
       "      <th>passage_text</th>\n",
       "    </tr>\n",
       "  </thead>\n",
       "  <tbody>\n",
       "    <tr>\n",
       "      <th>0</th>\n",
       "      <td>-5501481664893105662</td>\n",
       "      <td>ko je predložio da elektroni pokazuju svojstva talasa i čestica</td>\n",
       "      <td>[Kroz rad Maks Planka, Alberta Einštajna, Luj de Broglia, Artura Komptona, Nilsa Bora i mnogih drugih, trenutna naučna teorija tvrdi da sve čestice takođe imaju prirodu talasa (i obrnuto). Ovaj fenomen je potvrđen ne samo za elementarne čestice, već i za složene čestice poput atoma pa čak i mole...</td>\n",
       "    </tr>\n",
       "    <tr>\n",
       "      <th>1</th>\n",
       "      <td>8594030243394572667</td>\n",
       "      <td>Koliko senatora ima u Senatu SAD-a?</td>\n",
       "      <td>[Senat Sjedinjenih Američkih Država se sastoji od 100 članova, po dva iz svake od 50 saveznih država. U nastavku je lista trenutnih senatora SAD-a koji sede u 115. Kongresu Sjedinjenih Američkih Država.]</td>\n",
       "    </tr>\n",
       "    <tr>\n",
       "      <th>2</th>\n",
       "      <td>-716176363900512091</td>\n",
       "      <td>Faza promene gasa u čvrsto se naziva</td>\n",
       "      <td>[Depozicija je termodinamički proces, faza prelaska u kojoj gas prelazi u čvrsto stanje bez prolaska kroz tečnu fazu. Suprotno od depozicije je sublimacija i zbog toga se ponekad depozicija naziva desublimacija.]</td>\n",
       "    </tr>\n",
       "    <tr>\n",
       "      <th>3</th>\n",
       "      <td>-5593761806871287545</td>\n",
       "      <td>Koja je najduža engleska reč u rečniku?</td>\n",
       "      <td>[Najduža reč u bilo kom od glavnih engleskih jezičkih rečnika je pneumonoultramicroscopicsilicovolcanoconiosis, reč koja se odnosi na bolest pluća koja se dobija udisanjem veoma finih čestica silicijuma, specifično sa vulkana; medicinski, isto značenje ima kao silikoza. Reč je namerno skovana ka...</td>\n",
       "    </tr>\n",
       "    <tr>\n",
       "      <th>4</th>\n",
       "      <td>2074579308847994444</td>\n",
       "      <td>koliki procenat Zemljine površine je voda</td>\n",
       "      <td>[Voda je raspoređena širom Zemlje. Većina vode u Zemljinoj atmosferi i kori potiče iz slane morske vode svetskog okeana, dok slatka voda čini samo 2.5% ukupne količine. Zbog okeana koji pokrivaju otprilike 78% površine Zemlje reflektujući plavu svetlost, Zemlja izgleda plavo iz svemira i često s...</td>\n",
       "    </tr>\n",
       "    <tr>\n",
       "      <th>5</th>\n",
       "      <td>-4418682909598136345</td>\n",
       "      <td>Odakle potiče supa od gnezda ptica?</td>\n",
       "      <td>[Jesti gnezda ptica su gnezda ptica koja stvaraju ptice lastavice koristeći zgrušanu pljuvačku, koja se bere radi ljudske konzumacije. Posebno su cenjena u kineskoj kulturi zbog svoje retkosti, navodno visoke nutritivne vrednosti i izuzetnog ukusa. Jesti gnezda ptica su među najskupljim životinj...</td>\n",
       "    </tr>\n",
       "    <tr>\n",
       "      <th>6</th>\n",
       "      <td>-4809486218828226485</td>\n",
       "      <td>Odakle dolaze neutroni u nuklearnoj fisiji?</td>\n",
       "      <td>[Izvor neutrona za pokretanje je izvor neutrona koji se koristi za stabilno i pouzdano pokretanje lančane nuklearne reakcije u nuklearnim reaktorima, kada su punjeni svežim nuklearnim gorivom, čiji neutronski fluks od spontane fisije nije dovoljan za pouzdano pokretanje, ili nakon produženih per...</td>\n",
       "    </tr>\n",
       "  </tbody>\n",
       "</table>\n",
       "</div>"
      ],
      "text/plain": [
       "                     id  \\\n",
       "0  -5501481664893105662   \n",
       "1   8594030243394572667   \n",
       "2   -716176363900512091   \n",
       "3  -5593761806871287545   \n",
       "4   2074579308847994444   \n",
       "5  -4418682909598136345   \n",
       "6  -4809486218828226485   \n",
       "\n",
       "                                                             query  \\\n",
       "0  ko je predložio da elektroni pokazuju svojstva talasa i čestica   \n",
       "1                              Koliko senatora ima u Senatu SAD-a?   \n",
       "2                             Faza promene gasa u čvrsto se naziva   \n",
       "3                          Koja je najduža engleska reč u rečniku?   \n",
       "4                        koliki procenat Zemljine površine je voda   \n",
       "5                              Odakle potiče supa od gnezda ptica?   \n",
       "6                      Odakle dolaze neutroni u nuklearnoj fisiji?   \n",
       "\n",
       "                                                                                                                                                                                                                                                                                                  passage_text  \n",
       "0  [Kroz rad Maks Planka, Alberta Einštajna, Luj de Broglia, Artura Komptona, Nilsa Bora i mnogih drugih, trenutna naučna teorija tvrdi da sve čestice takođe imaju prirodu talasa (i obrnuto). Ovaj fenomen je potvrđen ne samo za elementarne čestice, već i za složene čestice poput atoma pa čak i mole...  \n",
       "1                                                                                                  [Senat Sjedinjenih Američkih Država se sastoji od 100 članova, po dva iz svake od 50 saveznih država. U nastavku je lista trenutnih senatora SAD-a koji sede u 115. Kongresu Sjedinjenih Američkih Država.]  \n",
       "2                                                                                         [Depozicija je termodinamički proces, faza prelaska u kojoj gas prelazi u čvrsto stanje bez prolaska kroz tečnu fazu. Suprotno od depozicije je sublimacija i zbog toga se ponekad depozicija naziva desublimacija.]  \n",
       "3  [Najduža reč u bilo kom od glavnih engleskih jezičkih rečnika je pneumonoultramicroscopicsilicovolcanoconiosis, reč koja se odnosi na bolest pluća koja se dobija udisanjem veoma finih čestica silicijuma, specifično sa vulkana; medicinski, isto značenje ima kao silikoza. Reč je namerno skovana ka...  \n",
       "4  [Voda je raspoređena širom Zemlje. Većina vode u Zemljinoj atmosferi i kori potiče iz slane morske vode svetskog okeana, dok slatka voda čini samo 2.5% ukupne količine. Zbog okeana koji pokrivaju otprilike 78% površine Zemlje reflektujući plavu svetlost, Zemlja izgleda plavo iz svemira i često s...  \n",
       "5  [Jesti gnezda ptica su gnezda ptica koja stvaraju ptice lastavice koristeći zgrušanu pljuvačku, koja se bere radi ljudske konzumacije. Posebno su cenjena u kineskoj kulturi zbog svoje retkosti, navodno visoke nutritivne vrednosti i izuzetnog ukusa. Jesti gnezda ptica su među najskupljim životinj...  \n",
       "6  [Izvor neutrona za pokretanje je izvor neutrona koji se koristi za stabilno i pouzdano pokretanje lančane nuklearne reakcije u nuklearnim reaktorima, kada su punjeni svežim nuklearnim gorivom, čiji neutronski fluks od spontane fisije nije dovoljan za pouzdano pokretanje, ili nakon produženih per...  "
      ]
     },
     "execution_count": 46,
     "metadata": {},
     "output_type": "execute_result"
    }
   ],
   "source": [
    "import pandas as pd\n",
    "pd.set_option('display.max_colwidth', 300)\n",
    "\n",
    "nq_path = \"datasets/naquestions.parquet\"\n",
    "pd.read_parquet(nq_path, engine='fastparquet')"
   ]
  },
  {
   "cell_type": "code",
   "execution_count": 53,
   "metadata": {},
   "outputs": [
    {
     "data": {
      "text/plain": [
       "Batch(id='batch_XK2ZF1N0f4TjjG6O5SvbmFab', completion_window='24h', created_at=1724333607, endpoint='/v1/chat/completions', input_file_id='file-hR5Qe1c0sSYdhJ8ulOKU45cJ', object='batch', status='completed', cancelled_at=None, cancelling_at=None, completed_at=1724333649, error_file_id=None, errors=None, expired_at=None, expires_at=1724420007, failed_at=None, finalizing_at=1724333649, in_progress_at=1724333607, metadata=None, output_file_id='file-PRJn5nsDIsX8OnedXNuDzzCu', request_counts=BatchRequestCounts(completed=10, failed=0, total=10))"
      ]
     },
     "execution_count": 53,
     "metadata": {},
     "output_type": "execute_result"
    }
   ],
   "source": [
    "from openai import OpenAI\n",
    "client = OpenAI()\n",
    "# nq\n",
    "client.batches.retrieve(\"batch_XK2ZF1N0f4TjjG6O5SvbmFab\")"
   ]
  },
  {
   "cell_type": "code",
   "execution_count": 54,
   "metadata": {},
   "outputs": [
    {
     "data": {
      "text/plain": [
       "Batch(id='batch_qFbTrX90NiVLCZ9ij4WtOljJ', completion_window='24h', created_at=1724333601, endpoint='/v1/chat/completions', input_file_id='file-L8mLrI8xszNDhmjFVBOtn8X5', object='batch', status='completed', cancelled_at=None, cancelling_at=None, completed_at=1724333675, error_file_id=None, errors=None, expired_at=None, expires_at=1724420001, failed_at=None, finalizing_at=1724333674, in_progress_at=1724333601, metadata=None, output_file_id='file-QhzI3UzzXhcSPcunIY0hdBCb', request_counts=BatchRequestCounts(completed=10, failed=0, total=10))"
      ]
     },
     "execution_count": 54,
     "metadata": {},
     "output_type": "execute_result"
    }
   ],
   "source": [
    "from openai import OpenAI\n",
    "client = OpenAI()\n",
    "# ms_marco\n",
    "client.batches.retrieve(\"batch_qFbTrX90NiVLCZ9ij4WtOljJ\")"
   ]
  }
 ],
 "metadata": {
  "kernelspec": {
   "display_name": ".venv",
   "language": "python",
   "name": "python3"
  },
  "language_info": {
   "codemirror_mode": {
    "name": "ipython",
    "version": 3
   },
   "file_extension": ".py",
   "mimetype": "text/x-python",
   "name": "python",
   "nbconvert_exporter": "python",
   "pygments_lexer": "ipython3",
   "version": "3.10.14"
  }
 },
 "nbformat": 4,
 "nbformat_minor": 2
}
