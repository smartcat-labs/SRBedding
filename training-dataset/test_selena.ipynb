{
 "cells": [
  {
   "cell_type": "markdown",
   "metadata": {},
   "source": []
  },
  {
   "cell_type": "code",
   "execution_count": 2,
   "metadata": {},
   "outputs": [],
   "source": [
    "from datasets import load_dataset\n",
    "import pandas as pd\n",
    "import os\n",
    "from dotenv import load_dotenv\n",
    "import numpy as np\n",
    "import pyarrow as pa\n",
    "import pyarrow.parquet as pq\n",
    "import pandas\n",
    "import openai\n",
    "from openai import APIError\n",
    "import os\n",
    "import json\n",
    "import re\n",
    "import numpy as np\n",
    "from sklearn.cluster import KMeans\n",
    "from pprint import pprint\n",
    "from pathlib import Path\n",
    "import tiktoken\n",
    "\n",
    "\n",
    "# Load the .env file\n",
    "load_dotenv()\n",
    "\n",
    "# Access the variables\n",
    "OPENAI_API_KEY = os.getenv(\"OPENAI_API_KEY\")\n",
    "openai.api_key = OPENAI_API_KEY\n"
   ]
  },
  {
   "cell_type": "code",
   "execution_count": 3,
   "metadata": {},
   "outputs": [],
   "source": [
    "loaded_table = pq.read_table('datasets/wiki_train.parquet')\n",
    "df_wiki = loaded_table.to_pandas()\n",
    "\n",
    "loaded_table = pq.read_table('datasets/science_train.parquet')\n",
    "df_science = loaded_table.to_pandas()\n",
    "\n",
    "loaded_table = pq.read_table('datasets/news_train.parquet')\n",
    "df_news = loaded_table.to_pandas()\n",
    "\n",
    "loaded_table = pq.read_table('datasets/literature_train.parquet')\n",
    "df_literature = loaded_table.to_pandas()"
   ]
  },
  {
   "cell_type": "code",
   "execution_count": 4,
   "metadata": {},
   "outputs": [
    {
     "name": "stdout",
     "output_type": "stream",
     "text": [
      "673\n",
      "894\n",
      "135\n",
      "487\n",
      "167\n",
      "1002\n"
     ]
    }
   ],
   "source": [
    "for query in df_wiki['context']:\n",
    "    print(len(query))"
   ]
  },
  {
   "cell_type": "code",
   "execution_count": 5,
   "metadata": {},
   "outputs": [
    {
     "name": "stdout",
     "output_type": "stream",
     "text": [
      "394\n",
      "759\n",
      "839\n",
      "196\n",
      "589\n",
      "215\n",
      "357\n",
      "273\n",
      "156\n",
      "361\n",
      "154\n",
      "247\n",
      "189\n"
     ]
    }
   ],
   "source": [
    "for query in df_news['context']:\n",
    "    print(len(query))"
   ]
  },
  {
   "cell_type": "code",
   "execution_count": 6,
   "metadata": {},
   "outputs": [
    {
     "name": "stdout",
     "output_type": "stream",
     "text": [
      "540\n",
      "141\n",
      "436\n",
      "293\n",
      "495\n",
      "729\n",
      "670\n"
     ]
    }
   ],
   "source": [
    "for query in df_literature['context']:\n",
    "    print(len(query))"
   ]
  },
  {
   "cell_type": "code",
   "execution_count": 7,
   "metadata": {},
   "outputs": [
    {
     "name": "stdout",
     "output_type": "stream",
     "text": [
      "146\n",
      "185\n",
      "213\n",
      "614\n",
      "183\n",
      "299\n",
      "200\n",
      "317\n",
      "669\n"
     ]
    }
   ],
   "source": [
    "for query in df_science['context']:\n",
    "    print(len(query))"
   ]
  },
  {
   "cell_type": "code",
   "execution_count": 8,
   "metadata": {},
   "outputs": [
    {
     "name": "stdout",
     "output_type": "stream",
     "text": [
      "                                                                                                                                                                                                                                                                                                                                                                                                                                                                                                                                                                                                                                                                                                                                                                                                                                                                                                                                                                                                                                      context                                                      short_query                                                                                    medium_query                                                                                                                         long_query                                                                                                    keywords                                                  scores\n",
      "0                                                                                                                                                                                                                                                                                                                                           Sparta povlači sve trupe iz okoline Atine i odlučuje se na akciju i napada atinsku utvrdu na ostrvu Sfakteriji. Demosten uspeva da se odupre i protera spartansku flotu, a spartanski hopliti ostaju u okruženju na Sfakteriji. Konačno, Kleon predvodi Atinjane koji u bici na Sfakteriji zarobljavaju 300-400 spartanskih hoplita. Ta poraz je bio ponižavajući za Spartu. Posle poniženja u bici kod Sfakterije, spartanski general Brasida, zauzima važnu atinsku koloniju Amfipolj, koja je sa nekoliko okolnih rudnika srebra bila vrlo važna za finansiranje rata. U bici kod Amfipolja ubijeni su i Brasida i Kleon. Smrću Braside i Kleona nestali su najveći protivnici sklapanja mira.                   Ko je predvodio Atinjane u bici na Sfakteriji?                                          Koje su posledice poraza Sparte u bici kod Sfakterije?                                           Kako su se odvijali događaji nakon što su Brasida i Kleon poginuli u bici kod Amfipolja?                                                              [Sparta, Atina, Sfakterija, Demosten, Brasida]  {'long_query': 2, 'medium_query': 3, 'short_query': 4}\n",
      "1                                                                                                              Osnovna kodna strana na personalnim računarima (\"-{PC437}-\") u tom gornjem setu karaktera definiše razne grafičke karaktere za crtanje tekstualnih prozora i slično. Kasnije je razvijeno još puno kodnih strana koje podržavaju određene jezike. Drugi značajni umjetnici koji rade s tradicionalnim medijima ili figurativne slike su Martin Kipenberger, Gerhard Rihter, Šigmar Polke i Neo Rauh. Vodeći njemački konceptualni umjetnici su Bernd i Hila Beher, Hane Darboven, Hans-Peter Feldman, Hans Hake, Jozef Bojs, HA Šult, Aris Kalajciz, Neo Rauh (Nova lajpciška škola) i Andreas Gurski (fotografija). Glavne umjetničke izložbe i festivali u Njemačkoj su Dokumenta Kasel, Berlin bienale, transmedijale i Art Keln. Arhitektonski doprinosi iz Njemačke su karolinški i otonski stil, koji su preteče romanske arhitekture. Ciglena gotika je prepoznatljivi srednjovjekovni stil koji se razvio u Njemačkoj.     Šta definiše osnovna kodna strana na personalnim računarima?              Ko su neki od značajnih umjetnika koji rade s tradicionalnim medijima u Njemačkoj?                                                               Koje su neke od glavnih umjetničkih izložbi i festivala u Njemačkoj?                              [kodna strana, graficke karaktere, umjetnici, konceptualni umjetnici, izložbe]  {'long_query': 3, 'medium_query': 5, 'short_query': 4}\n",
      "2                                                                                                                                                                                                                                                                                                                                                                                                                                                                                                                                                                                                                                                                                                                                                                                                                                                                                                     U renesansnoj i baroknoj umjetnosti, razvili su se regionalni i tipično njemački elementi (npr. Veserova renesansa i Drezdenski barok).  Šta su regionalni elementi u renesansnoj i baroknoj umjetnosti?  Kako su se razvili regionalni i tipično njemački elementi u renesansnoj i baroknoj umjetnosti?                                                       Koje su karakteristike Veserove renesanse i Drezdenskog baroka u umjetnosti?       [Renesansna umjetnost, Barokna umjetnost, Regionalni elementi, Njemački elementi, Veserova renesansa]  {'long_query': 3, 'medium_query': 5, 'short_query': 4}\n",
      "3                                                                                                                                                                                                                                                                                                                                                                                                                                                                                                                                     Među najpoznatijim baroknim majstorima su Pipelman, Baltazar Nojman, Knobelzdorf i braća Asam. Vesobrunska škola imala je odlučujući uticaj, a ponekad i dominantan, na štuko umjetnost u južnoj Njemačkoj u 18. vijeku. Gornjošvapska barokna ruta nudi baroknu tematsku turističku rutu koja naglašava doprinos umjetnika i zanatlija kao što su vajar i moler Johan Mihel Fojhtmajer, jedan od najistaknutijih članova porodice Fojhtmajer, kao i braća Johan Baptist Cimerman i Dominikus Cimerman.                                     Ko su bili barokni majstori?                    Koje umetničke škole su imale uticaj na baroknu umetnost u južnoj Njemačkoj?                                      Ko su bili najistaknutiji članovi porodice Fojhtmajer i kako su doprineli baroknoj umetnosti?  [barokni majstori, Vesobrunska škola, štuko umjetnost, Gornjošvapska barokna ruta, Johan Mihel Fojhtmajer]  {'long_query': 2, 'medium_query': 3, 'short_query': 4}\n",
      "4                                                                                                                                                                                                                                                                                                                                                                                                                                                                                                                                                                                                                                                                                                                                                                                                                                                                     Narodna arhitektura u Njemačkoj često se odlikuje po tradiciji okvirne konstrukcije od drveta i varira u različitim regionima i stolarskim stilovima. Heloti su bežali.                        Kakva je narodna arhitektura u Njemačkoj?          Kako se tradicionalno gradi narodna arhitektura u Njemačkoj i koje materijale koristi?  Koje su karakteristike okvirne konstrukcije od drveta u narodnoj arhitekturi Njemačke i kako se razlikuju u različitim regionima?                              [Narodna arhitektura, Njemačka, okvirna konstrukcija, drvo, stolarski stilovi]  {'long_query': 4, 'medium_query': 5, 'short_query': 4}\n",
      "5  UTF-8 UTF-8 varijanta je najzgodnija za kodiranje većinski latiničnog teksta. Dato je i kratko uputstvo za korišćenje te varijante u Microsoft Word-u, Netscape Composer-u i tekstualnom editoru Kate. U tekstu su takođe preporučeni standardni Unicode fontovi koji omogućavaju laku prenosivost teksta sa računara na računar ili za objavljivanje teksta na Internet. Prvi računari su bili pravljeni pretežno za englesko govorno područje i imali su podršku samo za engleski alfabet, za brojeve, zagrade i još po neki kontrolni karakter, što je činilo ukupno 128 mogućih slova (u 7 bita). To je bio tzv. \"-{ASCII}-\" ili \"-{US-ASCII}-\" standard. 1968. godine je skup karaktera proširen na 256 (8 bita), a \"gornjih\" 128 karaktera je bilo korišćeno za dodatne karaktere. Iz neke navike je i ovaj prošireni \"-{ASCII}-\" nazivan \"-{ASCII}-\", tako da tu često dolazi do zabune. Da bi postojala podrška za više jezika, smišljane su tzv. kodne strane (\"-{Code Page}-\") koje definišu ponašanje tog dodatnog skupa slova.     Šta je najzgodnija varijanta za kodiranje latiničnog teksta?                               Kako su prvi računari podržavali samo engleski alfabet i brojeve?                                                            Kako su se kodne strane koristile za podršku više jezika na računarima?                                                               [UTF-8, kodiranje, Unicode, ASCII, Code Page]  {'long_query': 2, 'medium_query': 3, 'short_query': 4}\n"
     ]
    }
   ],
   "source": [
    "pd.set_option('display.max_rows', None)  # Show all rows\n",
    "pd.set_option('display.max_columns', None)  # Show all columns\n",
    "pd.set_option('display.max_colwidth', None)  # Show full column width\n",
    "pd.set_option('display.expand_frame_repr', False)  # Prevent wrapping to multiple lines\n",
    "\n",
    "# Print DataFrame\n",
    "print(df_wiki)"
   ]
  },
  {
   "cell_type": "code",
   "execution_count": 9,
   "metadata": {},
   "outputs": [
    {
     "name": "stdout",
     "output_type": "stream",
     "text": [
      "                                                                                                                                                                                                                                                                                                                                                                                                                                                                                                                                                                                                                                                                                                                                                                                                                                                                    context                                            short_query                                                                                          medium_query                                                                                                                                           long_query                                                                                     keywords                                                  scores\n",
      "0                                                                                                                                                                                                                                                                                                                                                                                                                                                                Izložba je otvorena juče i trajaće preko vikenda od devet do 19 časova, a cena ulaznice je 100 dinara. – Ovo je treća po redu prolećna izložba gljiva i nadamo se da će prerasti u tradiciju, s obzirom na to da Beograđani vole da vide gljive i interesuju se za ovo posebno carstvo živih bića, koja ne spadaju ni u biljke ni u životinje – rekla je Olivera Popović, PR Botaničke bašte „Jevremovac“.                                 Koliko košta ulaznica?                                                      Kada je otvorena izložba gljiva i do kada traje?                                                                           Ko je izjavio da se nadaju da će izložba prerasti u tradiciju i zbog čega?                                     [izložba, prolećna, gljive, Botanička bašta, Beograđani]  {'long_query': 3, 'medium_query': 5, 'short_query': 4}\n",
      "1                                                                                   Tako je 1982. godine promovisano koncept-vozilo NAFA, dugačko dva i po metra i namenjeno prevozu roba na manjim distancama i u urbanoj gužvi; na bazi toga će, 1999. godine, početi proizvodnja automobilčića smart u saradnji sa fabrikom satova Svoč. Potom je, celu deceniju kasnije, na auto-salonu u Detroitu skinut veo tajne i sa projekta F-100, mini-vena sa solarnom baterijom ugrađenom u krov i fenomenalnim koeficijentom otpora vazduha (ć=0,20), koji bi trebao da parira automobilima kakvi su reno espas, tojota previja ili 'pontijak transport. Konačno, na frankfurtskom sajmu, u jesen 1993, predstavljen je i prototip vižn A, što je izazvalo nevericu jer je nagovestilo skori Mercedesov silazak u srednji (konfekcijski) tržišni segment, diktiran recesijom.        Šta je predstavljeno na auto-salonu u Detroitu?                                           Koja vozila su pomenuta kao konkurencija za projekat F-100?                                                                            Kako je recesija uticala na Mercedesov silazak u srednji tržišni segment?                                        [koncept-vozilo, NAFA, automobilčić, smart, prototip]  {'long_query': 2, 'medium_query': 3, 'short_query': 4}\n",
      "2   Mečka na usijanom limenom krovu Piše: Dušan Vidaković Kada je austrijski konzul u Nici Emil Jelinek 1901. naručio od nemačkog Dajmlera, odjednom, čak 36 automobila, čija je ukupna cena premašila fantastičnih 550 hiljada zlatnih maraka, imao je samo jedan uslov: da sva ta kola nose ime njegove ćerke. Ljudi iz kanstatske firme, naravno, nisu imali ništa protiv, a istorija automobilizma je imala sreću da je Jelinekovoj mezimici kum dao (pogotovo za Špance) vrlo graciozno ime - Mercedes, što na jeziku konkvistadora znaci ljupkost, umilnost, prijatnost. Jelinekova porudžbina značila prekretnicu u poslovanju Dajmlera, a naziv Mercedes je preživeo i fuziju sa fabrikom Karla Benca, 1926. godine, održavši se do danas kao sinonim za kvalitetne, luksuzne i, nadasve, bezbedne automobile svojstvenih vozačima koji ne kriju brige u novčaniku.              Ko je naručio 36 automobila 1901. godine?                                                        Kako je nastao naziv 'Mercedes' za automobile?                                                                            Koje osobine su karakteristične za automobile koji nose naziv 'Mercedes'?                      [Dajmler, Emil Jelinek, Mercedes, automobilizam, kvalitetni automobili]  {'long_query': 3, 'medium_query': 5, 'short_query': 4}\n",
      "3                                                                                                                                                                                                                                                                                                                                                                                                                                                                                                                                                                                                                                                                      U naselju Resnik, u utorak 12.06.2007. godine od 8 do 16 sati bez vode će ostati potrošači u sledećim podavalskim naseljima: Gradonačelnik je dodao i da pevoz u Beogradu neće poskupeti 1. januara.                                 Ko će ostati bez vode?                                          Ko je najavio da pevoz u Beogradu neće poskupeti 1. januara?                                                                         Koje naselje će ostati bez vode u utorak 12.06.2007. godine od 8 do 16 sati?                                       [Resnik, utorak, 12.06.2007., bez vode, Gradonačelnik]  {'long_query': 5, 'medium_query': 3, 'short_query': 4}\n",
      "4                                                                                                                                                                                                                                                             U ulici Zdravka Čelara 12 juče su započeli radovi na montiranju mobilne trafo-stanice koja će stanarima privremeno obezbediti „slabiju struju“, do izgradnje dve trafo-stanice koja će biti završena na proleće. Prema rečima Milana Bogićevića, tehničkog direktora Elektrodistribucije Beograd, plan EDB je da unutrašnje instalacije dovedu u ispravno stanje, brojila i tzv. razvodne ormane. Sem toga, na sastanku u EDB dogovoreno je da stanari postanu legalni potrošači kad pribave odobrenje za priključenje, odnosno, „energetsku saglasnost“, kako bi ih to preduzeće evidentiralo kao potrošače.                                Gde su započeli radovi?                           Ko će obezbediti 'slabiju struju' stanarima do izgradnje dve trafo-stanice?                                                                                   Kako stanari postaju legalni potrošači i šta im je potrebno za to?  [radovi, montiranje, mobilna trafo-stanica, Elektrodistribucija Beograd, legalni potrošači]  {'long_query': 3, 'medium_query': 5, 'short_query': 4}\n",
      "5                                                                                                                                                                                                                                                                                                                                                                                                                                                                                                                                                                                                                                                   Preduzeće je u vlasništvu Jagoša Đuretića, Svetozara Stevanovića, Slobodana Divljaka kao i Jovana Cvjetkovića, a okupiće bivše urednike i saradnike izdavačke kuće „Filipa Višnjića“ čiju će idejnu koncepciju slediti.                              Ko su vlasnici preduzeća?                                              Ko su osnivači preduzeća i čiju idejnu koncepciju sledi?           Ko su Jagoš Đuretić, Svetozar Stevanović, Slobodan Divljak i Jovan Cvjetković u vezi sa preduzećem i koja je idejna koncepcija koju sledi?                   [Preduzeće, vlasništvo, Jagoš Đuretić, Svetozar Stevanović, Filip Višnjić]  {'long_query': 5, 'medium_query': 5, 'short_query': 4}\n",
      "6                                                                                                                                                                                                                                                                                                                                                                                                                                                                                                     Međutim, upravo legenda o blistavosti trokrake zvezde doživljava ovih dana ozbiljnu proveru zahvaljujući mercedesu A klase. A sve je, ustvari, počelo kada je tim vrhunskih stručnjaka, pod rukovodstvom Haralda Leskea, još početkom osamdesetih, krenuo u stvaranje generacija jednozapreminskih kombi-limuzina za potrebe štutgartskog koncerna iz Mercedesstrase.      Šta je dovelo do provere legende trokrake zvezde?  Kako je tim stručnjaka pod rukovodstvom Haralda Leskea doprineo stvaranju generacija kombi-limuzina?    Kako je tim vrhunskih stručnjaka pod rukovodstvom Haralda Leskea započeo stvaranje generacija jednozapreminskih kombi-limuzina za Mercedesstrase?               [trokraka zvezda, mercedes A klasa, Harald Leske, osamdesetih, Mercedesstrase]  {'long_query': 3, 'medium_query': 5, 'short_query': 4}\n",
      "7                                                                                                                                                                                                                                                                                                                                                                                                                                                                                                                                                                                         Ne obazirući se na skeptičnost četvorotaktne planete, Mercedes je prošle jeseni vižn A proizveo u svoju A klasu i gurnuo ga na tržište sa dva benzinska motora od 1,4 (82KS) i 1,6 (102KS) litara i parom turbo-dizela od 1700 kubika, ali sa različitom snagom - 60 i 90 'konja.                      Koje motore Mercedes A klasa ima?                           Koje su karakteristike motora u Mercedes A klasi i kolika je njihova snaga?                             Kakvi su benzinski i turbo-dizel motori u Mercedes A klasi, koja je razlika u snazi između njih i koliki je obim motora?                                    [Mercedes, A klasa, benzinski motori, turbo-dizel, snaga]  {'long_query': 4, 'medium_query': 5, 'short_query': 4}\n",
      "8                                                                                                                                                                                                                                                                                                                                                                                                                                                                                                                                                                                                                                                                                                              Novo izdavačko preduzeće „Albatros plus“ svojim izdanjima biće profilisano u različitim bibliotekama, najavljeno je na jučerašnjoj konferenciji za novinare.       Ko je osnovao izdavačko preduzeće Albatros plus?          Koja je svrha novog izdavačkog preduzeća Albatros plus i gde će se njihova izdanja nalaziti?                                                   Koje su najavljene karakteristike izdanja izdavačkog preduzeća Albatros plus i gde su ih najavili?                      [Albatros plus, izdavačko preduzeće, izdanja, biblioteke, konferencija]  {'long_query': 2, 'medium_query': 4, 'short_query': 3}\n",
      "9                                                                                                                                                                                                                                                                                                                                                                                                                                                                                                 To je Cantharellus cibarius, u narodu poznata kao gljiva lisičarka – rekla je Popović. Na izložbi je predstavljena i nova knjiga Mirjane Davidović „Gljive – blago naših krajeva“. Zbog planiranih radova na vodovodnoj mreži u Ulici Trajka Stamenkovića, u ponedeljak od 9 do 14 sati bez vode će ostati potrošači u ovoj ulici na delu od Vranjske do Vojislava Ilića.                 Koja je nova knjiga Mirjane Davidović?                  Koje su posledice planiranih radova na vodovodnoj mreži u Ulici Trajka Stamenkovića?                                                     Kako se zove gljiva poznata u narodu kao lisičarka i koja je tema nove knjige Mirjane Davidović?        [Cantharellus cibarius, gljiva lisičarka, Mirjana Davidović, knjiga, vodovodna mreža]  {'long_query': 2, 'medium_query': 3, 'short_query': 4}\n",
      "10                                                                                                                                                                                                                                                                                                                                                                                                                                                                                                                                                                                                                                                                                                               – Simbol prošlogodišnje izložbe bio je vrganj, a ove godine odlučili smo se za jednu jestivu i izuzetno ukusnu gljivu, koja se koristi i u lekovite svrhe.                    Koji je simbol ovogodišnje izložbe?                    Koja jestiva gljiva je simbol ovogodišnje izložbe i koristi se i u lekovite svrhe?                                    Koja jestiva i izuzetno ukusna gljiva je odabrana za simbol ovogodišnje izložbe, a koristi se i u lekovite svrhe?                                                   [izložba, vrganj, jestiva, ukusna, gljiva]  {'long_query': 5, 'medium_query': 5, 'short_query': 4}\n",
      "11                                                                                                                                                                                                                                                                                                                                                                                                                                                                                                                                                                                                                  Prema njenim rečima, posetioci će moći da vide više od 200 različitih vrsta prolećnih gljiva. Takođe, organizovan je i mali prodajni deo gde će zainteresovani moći da se snabdeju suvim šumskim jestivim gljivama, industrijskim i lekovitim gljivama.  Koliko vrsta prolećnih gljiva posetioci mogu da vide?                    Koje vrste gljiva posetioci mogu da kupe na prodajnom delu pored prolećnih gljiva?                                 Koje su konkretne vrste suvih šumskih jestivih gljiva dostupne za kupovinu na prodajnom delu pored prolećnih gljiva?  [prolećne gljive, posetioci, prodajni deo, suve šumske jestive gljive, industrijske gljive]  {'long_query': 2, 'medium_query': 3, 'short_query': 4}\n",
      "12                                                                                                                                                                                                                                                                                                                                                                                                                                                                                                                                                                                                                                                                            Takođe, zbog planiranih radova na vodovodnoj mreži u Dunavskoj ulici, u ponedeljak od 8.30 do 13 sati bez vode će ostati potrošači u Dunavskom keju broj 33, toplana „Dorćol“ i KCS „Dorćol“.                    Ko će ostati bez vode u ponedeljak?     Koje institucije će biti bez vode zbog radova na vodovodnoj mreži u Dunavskoj ulici u ponedeljak?  Koje su lokacije obuhvaćene planiranim radovima na vodovodnoj mreži u Dunavskoj ulici u ponedeljak i koliko dugo će trajati prekid vodosnabdevanja?                            [radovi, vodovodna mreža, Dunavska ulica, Dunavski kej, bez vode]  {'long_query': 3, 'medium_query': 5, 'short_query': 4}\n"
     ]
    }
   ],
   "source": [
    "print(df_news)"
   ]
  },
  {
   "cell_type": "code",
   "execution_count": 10,
   "metadata": {},
   "outputs": [
    {
     "name": "stdout",
     "output_type": "stream",
     "text": [
      "                                                                                                                                                                                                                                                                                                                                                                                                                                                                                                                                                                                                                                                                                                                                                     context                                    short_query                                                         medium_query                                                                                     long_query                                                            keywords                                                  scores\n",
      "0                                                                                                                                                                                               U njemu je Srem sa svojim gorama i dolinama, brdima i planinama, sa svojim lepim voćnjacima i vinogradima, sa šumama koje su neprohodne. Plaho Dunavo, plava Tisa i druge ponosite reke jesu bogaština Vojvodstva, kakve nema svaka zemlja. „Dvadeset forinti! e, hvala Bogu, eto nešto zasluge — iz ovih ću novaca moći nešto radosti stvoriti mojoj sirotnoj porodici, — kolača i šarenih jaja deci za Uskrs, a mojoj ženi nešto malo haljinice, — jest to mora biti, neka im je veselje na blag dan, ta i tako im je dosta tuge preko cele godine dana...                            Gde se nalazi Srem?                               Koje prirodne lepote karakterišu Srem?                                                 Kako će autor iskoristiti novac koji je dobio?                   [Srem, gorama, dolinama, voćnjacima, vinogradima]  {'long_query': 2, 'medium_query': 4, 'short_query': 3}\n",
      "1                                                                                                                                                                                                                                                                                                                                                                                                                                                                                                                                                                                                              „A za sebe? — za mog starog oca? — što za nas? „E, mi smo ljudi — Bog je nas obdario čvrstim srcem i jakom naravlju — mi smo jači na nesreći!                   Ko je obdaren čvrstim srcem?                       Kako se osećaju ljudi kada su jači na nesreći?               Kako se opisuje karakter ljudi koje je Bog obdario čvrstim srcem i jakom naravi?                     [starac, porodica, snaga, nesreća, čvrsto srce]  {'long_query': 5, 'medium_query': 3, 'short_query': 4}\n",
      "2                                                                                                                                                                                                                                                                                                       „U tome moj se brat venča sa svojom Anđom. Svatovi nisu tako veseli bili kao što je u nas običaj, a mi smo sve učinili da se zaboravi ova nesreća, koju smo pretrpeli bili. Moj se otac bio usilio i još tome uzajmio od Isaka seoskog Čivutina 410 forinti, pa kupio darove Anđi, isto tako kao što je kupio bio mojoj Jeki; obukao je bio u svilu od glave do pete, al’ baš ovo nam je na nesreću bilo — sirota Anđa, mora da se u zao čas rodila.                                  Ko se venčao?                     Kako su prošli svatovi na venčanju bratove Anđe?                     Kako je otac reagovao na nesreću i šta je uradio povodom toga na venčanju?                        [venčanje, svatovi, darovi, nesreća, sirota]  {'long_query': 2, 'medium_query': 3, 'short_query': 4}\n",
      "3                                                                                                                                                                                                                                                                                                                                                                                                                                                      Posle pogleda oko sebe sumnitelno kao da se straši od toga što je izrekao. „E, bilo pa i nije; — reče posle malo ćutanja — Bog je dao a rđavi ljudi uzeše, pomislih u sebi, al’ ću se od sad uzeti u pamet; pa naumim uvek u avliji ili u košari noćivati, jer sam u srcu zebao zbog moja dva žerava.             Da li se plaši onoga što je rekao?                  Zašto je odlučio uvek noćivati u avliji ili košari?        Kako je došao do zaključka da je bolje noćivati u avliji ili košari zbog svojih žerava?                       [straši, izrekao, Bog, rđavi ljudi, noćivati]  {'long_query': 3, 'medium_query': 5, 'short_query': 4}\n",
      "4                                                                                                                                                                                                                                            ŠTAMPANO U DRŽ. ŠTAMPARIJI KRALjEVINE SRBIJE Ala je lepa zemlja to Srpsko Vojvodstvo, - pravo da je Srpska zemlja, al i jeste gnezdo sokolova - baš je Bog krasnu zemlju stvorio za krasan narod! - Lepo je to Srpsko Vojvodstvo, u njemu je Bačka i Banat, prostrana ravnica, ili bolje reći golema bašča od svakog bilja, a osobito od šenice i druge rane, sa livadama, pašama i poljanama, koje oko ne može pregledati, po kojima se odranjuju silne ergele konja i čoporovi druge stoke, kojoj broja nema.  Gde je smeštena Štamparija Kraljevine Srbije?            Kako se opisuje Srpsko Vojvodstvo i koje regije obuhvata?          Koje biljke se najviše gaje u Srpskom Vojvodstvu i kako se koriste prostrane ravnice?  [ŠTAMPANO, DRŽ. ŠTAMPARIJI, KRALjEVINE, SRBIJE, Srpsko Vojvodstvo]  {'long_query': 3, 'medium_query': 5, 'short_query': 4}\n",
      "5  „A mom bratu?! — bratu mom, koji ne vidi bela danka — do kog ne dopire ii slobodan zrak, ni Božje sunašce — šta njemu? Zar da ne dopru do njega ni znaci bratinskog milovanja? „O, ne, prvi novci za njega — njemu sve ovo, neka zna da ima nas, koji ga se sećamo; moja deca i moja žena ugledaće se na mene i na mog starog oca, pa ćemo lakše snositi sirotinju — odla’nuće našem srcu, jer mi ako i jesmo u svačem siromašni, al’ smo bogati u ljubavi jedno prema drugome, pa je i to lep od Boga dar za nas. — „Svi, svi ovi novci za moga brata, neka lakše provede svoj blagi danak u crnoj svojoj tamnici — sve ovo njemu, ta i to je tako malo, kad pomislim da on za pas tamo pati.“ Posle ovih reči, koje je u sebi premišljao, stade hukati.                       Kome su namenjeni novci?                       Zašto je važno da brat dobije novac i podršku?                            Kako porodica planira da podrži brata i olakša mu patnju u tamnici?                            [brat, novac, sirotinja, ljubav, patnja]  {'long_query': 3, 'medium_query': 5, 'short_query': 4}\n",
      "6                                                             „Pa ja još onde sedim te pijem vino, kad mi je svaka krajcara kao kapljica krvi iz srca. — O, Bože, ja sam nevaljao, zločest čovek.“ Za ovim spusti glavu pa stade gorko uzdisati. „Znam, znam, — reče opet Bačvanin, — al’ još onda to nisam znao, ta do onda sam ja tek s poštenim ljudma imao posla; al’ baš da sam i znao, ja mu ne bih bio poklonio dva vola. Meni su bila sva četiri mila: kojeg od četiri da pregorim? Ne bih mogao, ne bih mogao ni jednog — bolje da nemam ni jednog nego da ih ja delim, ta i oni su se tako bili naučili jedan uz drugog, — pa onda ne bi ni njemu toliki greh bio — a ovako će im Bog suditi na onome svetu, — a na ovom? — Ako dođe do zgode....“                      Da li je osoba pila vino?  Kako se osoba osećala dok je pila vino i razgovarala sa Bačvaninom?  Kako je osoba opisala svoje postupke i osećanja dok je pila vino i razgovarala sa Bačvaninom?                            [vino, nevaljao, zločest, Bačvanin, vol]  {'long_query': 5, 'medium_query': 4, 'short_query': 3}\n"
     ]
    }
   ],
   "source": [
    "print(df_literature)"
   ]
  },
  {
   "cell_type": "code",
   "execution_count": 10,
   "metadata": {},
   "outputs": [
    {
     "data": {
      "text/plain": [
       "'train'"
      ]
     },
     "execution_count": 10,
     "metadata": {},
     "output_type": "execute_result"
    }
   ],
   "source": [
    "path = Path(\"datasets/train.parquet\")\n",
    "path.stem"
   ]
  },
  {
   "cell_type": "code",
   "execution_count": null,
   "metadata": {},
   "outputs": [],
   "source": []
  },
  {
   "cell_type": "code",
   "execution_count": null,
   "metadata": {},
   "outputs": [],
   "source": []
  }
 ],
 "metadata": {
  "kernelspec": {
   "display_name": ".venv",
   "language": "python",
   "name": "python3"
  },
  "language_info": {
   "codemirror_mode": {
    "name": "ipython",
    "version": 3
   },
   "file_extension": ".py",
   "mimetype": "text/x-python",
   "name": "python",
   "nbconvert_exporter": "python",
   "pygments_lexer": "ipython3",
   "version": "3.10.14"
  }
 },
 "nbformat": 4,
 "nbformat_minor": 2
}
