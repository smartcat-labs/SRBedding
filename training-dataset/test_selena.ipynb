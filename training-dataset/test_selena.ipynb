{
 "cells": [
  {
   "cell_type": "markdown",
   "metadata": {},
   "source": []
  },
  {
   "cell_type": "code",
   "execution_count": 1,
   "metadata": {},
   "outputs": [],
   "source": [
    "from datasets import load_dataset\n",
    "import pandas as pd\n",
    "import os\n",
    "from dotenv import load_dotenv\n",
    "import numpy as np\n",
    "import pyarrow as pa\n",
    "import pyarrow.parquet as pq\n",
    "import pandas\n",
    "import openai\n",
    "from openai import APIError\n",
    "import os\n",
    "import json\n",
    "import re\n",
    "import numpy as np\n",
    "from sklearn.cluster import KMeans\n",
    "from pprint import pprint\n",
    "from pathlib import Path\n",
    "import tiktoken\n",
    "\n",
    "\n",
    "# Load the .env file\n",
    "load_dotenv()\n",
    "\n",
    "# Access the variables\n",
    "OPENAI_API_KEY = os.getenv(\"OPENAI_API_KEY\")\n",
    "openai.api_key = OPENAI_API_KEY\n"
   ]
  },
  {
   "cell_type": "code",
   "execution_count": 2,
   "metadata": {},
   "outputs": [],
   "source": [
    "loaded_table = pq.read_table('datasets/wiki_train.parquet')\n",
    "df_wiki = loaded_table.to_pandas()\n",
    "\n",
    "loaded_table = pq.read_table('datasets/science_train.parquet')\n",
    "df_science = loaded_table.to_pandas()\n",
    "\n",
    "loaded_table = pq.read_table('datasets/news_train.parquet')\n",
    "df_news = loaded_table.to_pandas()\n",
    "\n",
    "loaded_table = pq.read_table('datasets/literature_train.parquet')\n",
    "df_literature = loaded_table.to_pandas()"
   ]
  },
  {
   "cell_type": "code",
   "execution_count": 3,
   "metadata": {},
   "outputs": [
    {
     "name": "stdout",
     "output_type": "stream",
     "text": [
      "208\n",
      "138\n",
      "483\n",
      "760\n",
      "229\n",
      "1070\n",
      "135\n",
      "186\n",
      "168\n"
     ]
    }
   ],
   "source": [
    "for query in df_wiki['context']:\n",
    "    print(len(query))"
   ]
  },
  {
   "cell_type": "code",
   "execution_count": 4,
   "metadata": {},
   "outputs": [
    {
     "name": "stdout",
     "output_type": "stream",
     "text": [
      "147\n",
      "150\n",
      "356\n",
      "858\n",
      "273\n",
      "933\n",
      "298\n",
      "264\n",
      "133\n",
      "147\n",
      "298\n"
     ]
    }
   ],
   "source": [
    "for query in df_news['context']:\n",
    "    print(len(query))"
   ]
  },
  {
   "cell_type": "code",
   "execution_count": 5,
   "metadata": {},
   "outputs": [
    {
     "name": "stdout",
     "output_type": "stream",
     "text": [
      "188\n",
      "323\n",
      "194\n",
      "169\n",
      "280\n",
      "755\n",
      "382\n"
     ]
    }
   ],
   "source": [
    "for query in df_literature['context']:\n",
    "    print(len(query))"
   ]
  },
  {
   "cell_type": "code",
   "execution_count": 6,
   "metadata": {},
   "outputs": [
    {
     "name": "stdout",
     "output_type": "stream",
     "text": [
      "130\n",
      "245\n",
      "669\n",
      "962\n",
      "200\n",
      "418\n",
      "201\n",
      "902\n"
     ]
    }
   ],
   "source": [
    "for query in df_science['context']:\n",
    "    print(len(query))"
   ]
  },
  {
   "cell_type": "code",
   "execution_count": 7,
   "metadata": {},
   "outputs": [
    {
     "name": "stdout",
     "output_type": "stream",
     "text": [
      "                                                                                                                                                                                                                                                                                                                                                                                                                                                                                                                                                                                                                                                                                                                                                                                                                                                                                                                                                                                                                                                                                                          context                                                   short_query                                                                                            medium_query                                                                                                                                             long_query                                                         keywords                                                  scores\n",
      "0                                                                                                                                                                                                                                                                                                                                                                                                                                                                                                                                                                                                                                                                                                                                                                                                                                                                                                Prva vetrenjača pojavila se u Iranu u 9. veku. Iranci su značajno doprineli razumevanju mnogih naučnih područja poput astronomije, medicine, matematike i filozofije. Muhamed el Horezmi se smatra ocem algebre.                                    Ko se smatra ocem algebre?                                               Koje naučne oblasti su bile značajne za Irance u 9. veku?                                                                   Kada se prva vetrenjača pojavila i kako su Iranci doprineli razvoju nauke u 9. veku?                       [vetrenjača, Iran, 9. vek, nauka, algebra]  {'long_query': 3, 'medium_query': 4, 'short_query': 5}\n",
      "1                                                                                                                                                                                                                                                                                                                                                                                                                                                                                                                                                                                                                                                                                                                                                                                                                                                                                                                                                                       Veliki broj iranskih jela kombinacija su riže s mesom (piletina, jagnjetina) ili s ribom, s puno češnjaka, luka, povrća i drugih dodataka                         Koje su karakteristike iranskih jela?                                Kako se pripremaju tradicionalna iranska jela sa rižom, mesom i povrćem?                          Koje su osnovne sastojke i začine koji se koriste u iranskim jelima, kao što su riža, meso i povrće, sa puno češnjaka i luka?                      [iranska jela, riža, meso, češnjak, povrće]  {'long_query': 4, 'medium_query': 5, 'short_query': 4}\n",
      "2                                                                                                                                                                                                                                                                                                                                                                                                                                                                                                                                                                                                             Iz neke navike je i ovaj prošireni \"-{ASCII}-\" nazivan \"-{ASCII}-\", tako da tu često dolazi do zabune. Da bi postojala podrška za više jezika, smišljane su tzv. kodne strane (\"-{Code Page}-\") koje definišu ponašanje tog dodatnog skupa slova. Osnovna kodna strana na personalnim računarima (\"-{PC437}-\") u tom gornjem setu karaktera definiše razne grafičke karaktere za crtanje tekstualnih prozora i slično. Kasnije je razvijeno još puno kodnih strana koje podržavaju određene jezike.                                          Šta su kodne strane?                  Kako su kodne strane povezane sa ASCII karakterima i podrškom za jezike na računarima?                                                       Kako su se razvijale kodne strane na računarima i zašto su važne za podršku različitim jezicima?                  [ASCII, kodne strane, PC437, jezici, karakteri]  {'long_query': 3, 'medium_query': 5, 'short_query': 4}\n",
      "3                                                                                                                                                                                                                                                                                                                        UTF-8 UTF-8 varijanta je najzgodnija za kodiranje većinski latiničnog teksta. Dato je i kratko uputstvo za korišćenje te varijante u Microsoft Word-u, Netscape Composer-u i tekstualnom editoru Kate. U tekstu su takođe preporučeni standardni Unicode fontovi koji omogućavaju laku prenosivost teksta sa računara na računar ili za objavljivanje teksta na Internet. Prvi računari su bili pravljeni pretežno za englesko govorno područje i imali su podršku samo za engleski alfabet, za brojeve, zagrade i još po neki kontrolni karakter, što je činilo ukupno 128 mogućih slova (u 7 bita). To je bio tzv. \"-{ASCII}-\" ili \"-{US-ASCII}-\" standard. 1968. godine je skup karaktera proširen na 256 (8 bita), a \"gornjih\" 128 karaktera je bilo korišćeno za dodatne karaktere.  Šta je preporučena varijanta za kodiranje latiničnog teksta?                  Kako se naziva standard koji omogućava laku prenosivost teksta sa računara na računar?                                                                           Koje su karakteristike prvih računara u vezi sa podrškom za jezik i brojeve?            [UTF-8, kodiranje, latinični tekst, Unicode, fontovi]  {'long_query': 3, 'medium_query': 5, 'short_query': 4}\n",
      "4                                                                                                                                                                                                                                                                                                                                                                                                                                                                                                                                                                                                                                                                                                                                                                                                                                                                           Andrić, prirodno, nikada ne izneverava tipičnost sredine i vremena, ali on pri tom tako kompleksne ličnosti ume da dogradi i u njima podvuče ono što je opštije i životno šire od osobenosti određenih konkretnom sredinom i vremenom                                             Ko je bio Andrić?                                              Kako Andrić prikazuje kompleksne ličnosti u svojim delima?                                Kako Andrić uspeva da istakne opštije i životno šire teme kroz kompleksne ličnosti u specifičnim sredinama i vremenima?                         [Andrić, ličnost, sredina, vreme, život]  {'long_query': 5, 'medium_query': 5, 'short_query': 4}\n",
      "5  Unositi svetlost naučne istine u događaje prošlosti, znači služiti sadašnjosti\". Svrha umetnosti je u povezivanju prošlosti, sadašnjosti i budućnosti, u povezivanju \"suprotnih obala života, u prostoru, u vremenu, u duhu\". U načinu izgrađivanja likova i umetničkom postupku pri oblikovanju svojih misli o životu i ljudima, Andrić se ne odvaja od najlepših tradicija škole realističke književnosti, iako takav njegov postupak ne znači i ponavljanje tradicionalnih realističkih manira. Njegove slike života nisu samo realistički izraz određene životne i istorijske stvarnosti, jer on u njih utkiva i znatno šira uopštavanja i opštija, gotovo trajna životna značenja. Legendarni bosanski junak Alija Đerzelez nije samo tip osmanlijskog pustolova i avanturiste, već i večiti čovek pred večitim problemom žene. Tamnica iz pripovetke \"Prokleta avlija\" ima znatno šire značenje: ona je izvan vremena i mesta kojima ih je pisac lokalizovao. Iako se u Andrićevom književnom delu najčešće javlja Bosna, gotovo svi njeni likovi se izdižu izvan životnog kruga u kome ih pisac nalazi.                    Koje su teme u Andrićevom književnom delu?                            Kako umetnost povezuje prošlost, sadašnjost i budućnost u Andrićevim delima?                                                                     Kako Andrićevi likovi reflektuju širu životnu značenja i izlaze iz životnog kruga?       [umetnost, likovi, Andrić, realistička književnost, Bosna]  {'long_query': 4, 'medium_query': 5, 'short_query': 4}\n",
      "6                                                                                                                                                                                                                                                                                                                                                                                                                                                                                                                                                                                                                                                                                                                                                                                                                                                                                                                                                                         Istina je, naprotiv, da je sve ono što je čovek mislio i osećao i radio neraskidivo utkao u ono što mi danas mislimo, osećamo i radimo.              Kako je čovek utkao svoje misli, osećaje i dela?                              Kako su misli, osećaji i dela čoveka povezani sa onim što mi danas radimo?                                                Na koji način su misli, osećaji i dela čoveka postali deo onoga što mi danas mislimo, osećamo i radimo?                            [čovek, mislio, osećao, radio, utkao]  {'long_query': 5, 'medium_query': 5, 'short_query': 4}\n",
      "7                                                                                                                                                                                                                                                                                                                                                                                                                                                                                                                                                                                                                                                                                                                                                                                                                                                                                                                       Kulinarstvo je vrlo raznoliko u Iranu, svaka pokrajina ima svoja vlastita jela, kao i način priprave i gastronomsku tradiciju Hrana nije ljuta, a priprema se obično uz puno bilja i voća                                       Kakva je iranska hrana?                                           Kako se razlikuje kulinarstvo u različitim pokrajinama Irana?                                                  Koje su karakteristike iranske hrane i način pripreme, te kako se razlikuje u različitim pokrajinama?                       [Kulinarstvo, Iran, jela, priprema, bilje]  {'long_query': 5, 'medium_query': 4, 'short_query': 3}\n",
      "8                                                                                                                                                                                                                                                                                                                                                                                                                                                                                                                                                                                                                                                                                                                                                                                                                                                                                                                                         Iranska kuhinja je ostavila veliki uticaj na kuhinje u susednim zemljama Ovo se posebno odnosi na Avganistan, države na jugu središnje Azije, severnu Indiju i Pakistan                    Koja kuhinja je uticala na susedne zemlje?  Koja kuhinja je ostavila veliki uticaj na kuhinje u Avganistanu, Pakistanu i drugim susednim zemljama?  Koja kuhinja je imala poseban uticaj na kuhinje u susednim zemljama kao što su Avganistan, države na jugu središnje Azije, severna Indija i Pakistan?  [Iranska kuhinja, uticaj, susedne zemlje, Avganistan, Pakistan]  {'long_query': 5, 'medium_query': 5, 'short_query': 4}\n"
     ]
    }
   ],
   "source": [
    "pd.set_option('display.max_rows', None)  # Show all rows\n",
    "pd.set_option('display.max_columns', None)  # Show all columns\n",
    "pd.set_option('display.max_colwidth', None)  # Show full column width\n",
    "pd.set_option('display.expand_frame_repr', False)  # Prevent wrapping to multiple lines\n",
    "\n",
    "# Print DataFrame\n",
    "print(df_wiki)"
   ]
  },
  {
   "cell_type": "code",
   "execution_count": 8,
   "metadata": {},
   "outputs": [
    {
     "name": "stdout",
     "output_type": "stream",
     "text": [
      "                                                                                                                                                                                                                                                                                                                                                                                                                                                                                                                                                                                                                                                                                                                                                                                                                                                                                                                                                                  context                                     short_query                                                                                              medium_query                                                                                                                                                        long_query                                                                        keywords                                                  scores\n",
      "0                                                                                                                                                                                                                                                                                                                                                                                                                                                                                                                                                                                                                                                                                                                                                                                                                     Stan je na prvom spratu, a saobraćaj u ovoj ulici kod Bajlonijeve pijace je potpuno obustavljen. Oko 20.50 sati pustio je majku da izađe na terasu.                             Gde se nalazi stan?                                          Koja je situacija sa saobraćajem u ulici kod Bajlonijeve pijace?                                                                     Kada je majka izašla na terasu i šta se dešava sa saobraćajem u ulici kod Bajlonijeve pijace?                        [stan, prvi sprat, saobraćaj, ulica, Bajlonijeva pijaca]  {'long_query': 2, 'medium_query': 3, 'short_query': 4}\n",
      "1                                                                                                                                                                                                                                                                                                                                                                                                                                                                                                                                                                                                                                                                                                                                                                                                                   godine promovisano koncept-vozilo NAFA, dugačko dva i po metra i namenjeno prevozu roba na manjim distancama i u urbanoj gužvi; na bazi toga će, 1999                                    Šta je NAFA?                                                 Kako je opisan koncept-vozilo NAFA i za šta je namenjeno?                                                                                          Koja je svrha koncept-vozila NAFA i u kojim situacijama će se koristiti?                             [koncept-vozilo, NAFA, dugačko, roba, urbana gužva]  {'long_query': 4, 'medium_query': 5, 'short_query': 4}\n",
      "2                                                                                                                                                                                                                                                                                                                                                                                                                                                                                                                                                                                                     Međutim, upravo legenda o blistavosti trokrake zvezde doživljava ovih dana ozbiljnu proveru zahvaljujući mercedesu A klase A sve je, ustvari, počelo kada je tim vrhunskih stručnjaka, pod rukovodstvom Haralda Leskea, još početkom osamdesetih, krenuo u stvaranje generacija jednozapreminskih kombi-limuzina za potrebe štutgartskog koncerna iz Mercedesstrase     Šta je doživelo ozbiljnu proveru ovih dana?              Ko je bio rukovodilac tima stručnjaka koji je kreirao generacije kombi-limuzina za Mercedes?                                                 Kako je počelo stvaranje generacija jednozapreminskih kombi-limuzina za Mercedes pod rukovodstvom Haralda Leskea?  [trokraka zvezda, mercedes A klasa, Harald Leske, osamdesetih, Mercedesstrase]  {'long_query': 3, 'medium_query': 5, 'short_query': 4}\n",
      "3                                                                              Izložbu je otvorio Aca Kovačević, sekretar za sport i omladinu, koji je istakao da je počastvovan što je i on postao deo priče uz koju je odraslo više hiljada dece. U umetničkom delu programa nastupila je grupa pevača iz Osnovne škole „Dositej Obradović“. Ove godine prvu nagradu za najbolju dečju karikaturu osvojili su Jana Mišić, učenica petog razreda OŠ „Pavle Savić“ iz Mirijeva, i Ivana Srejić, učenica trećeg razreda Srednje škole iz Varvarina, a drugu Anastasija Kocić, učenica šestog razreda OŠ „Stefan Nemanja“ iz Niša. Treće mesto osvojili su Vukašin Milićević, Dečji kulturni centar, Milica Đoković, OŠ „Marija Bursać“ sa Zvezdare, i Jelena Mihajlović, OŠ „Vuk Karadžić“ iz Požarevca. Dodeljene su i nagrade za portret, crtež, ideju i kolekciju. Na konkursu „Mali Pjer“ učestvovalo je oko 11.000 učenika iz 217 osnovnih i srednjih škola u Srbiji.                          Ko je otvorio izložbu?                                        Ko su dobitnici prve i druge nagrade za najbolju dečju karikaturu?                                                                              Koliko učenika je učestvovalo na konkursu 'Mali Pjer' i iz koliko škola su dolazili?                                   [izložba, deca, karikatura, nagrade, konkurs]  {'long_query': 3, 'medium_query': 5, 'short_query': 4}\n",
      "4                                                                                                                                                                                                                                                                                                                                                                                                                                                                                                                                                                                                                                                                                        Ne obazirući se na skeptičnost četvorotaktne planete, Mercedes je prošle jeseni vižn A proizveo u svoju A klasu i gurnuo ga na tržište sa dva benzinska motora od 1,4 (82KS) i 1,6 (102KS) litara i parom turbo-dizela od 1700 kubika, ali sa različitom snagom - 60 i 90 'konja  Koje motore Mercedes koristi u modelu A klase?                           Koje su karakteristike motora u Mercedesovoj A klasi i kolika je njihova snaga?                                                Kakvi su benzinski i turbo-dizel motori koji se koriste u Mercedesovoj A klasi i koja je razlika u njihovoj snazi?                       [Mercedes, A klasa, benzinski motori, turbo-dizel, snaga]  {'long_query': 5, 'medium_query': 5, 'short_query': 4}\n",
      "5   Najbeograđanin – Predrag Marić Ovogodišnji dobitnik nagrade „Najbeograđanin“, koju šesti put dodeljuje Studio B, jeste Predrag Marić, načelnik sektora za zaštitu i spasavanje. Podsetimo se eksplozije u magacinu pesticida fabrike Galenika u Zemunu i pogonu za proizvodnju goriva za protivgradne rakete u Leštanima, požara u lozničkoj fabrici Viskoza i izlivanja sone kiseline u krugu Beogradske industrije piva, kada nas je Marić, zajedno sa svojim timom, sa kriznih područja obaveštavao o stanju na terenu i o tome kada će situacija biti stabilizovana. Odbranio je i Šamforovu maksimu koja funkcioniše kao hedonistički kategorički imperativ: „uživaj i pružaj uživanje, ne nanoseći zlo ni sebi ni bilo kome, to je sav moral“ – napisao je Božović. Tamara Ognjević, istoričarka umetnosti, ocenila je da je knjiga „Golicava trpeza“ sadržajna i provokativna. Takođe, ona je govorila o afrodizijacima, koji, kako je kazala, postoje oduvek.          Ko je dobitnik nagrade Najbeograđanin?                         Ko je načelnik sektora za zaštitu i spasavanje i dobitnik nagrade Najbeograđanin?                                                  Ko je Predrag Marić i zašto je dobio nagradu Najbeograđanin? Kako je doprineo u situacijama eksplozija i požara?     [Predrag Marić, Najbeograđanin, Studio B, zaštita i spasavanje, eksplozije]  {'long_query': 4, 'medium_query': 5, 'short_query': 4}\n",
      "6                                                                                                                                                                                                                                                                                                                                                                                                                                                                                                                                                                                                                                                              Mečka na usijanom limenom krovu Piše: Dušan Vidaković Kada je austrijski konzul u Nici Emil Jelinek 1901 naručio od nemačkog Dajmlera, odjednom, čak 36 automobila, čija je ukupna cena premašila fantastičnih 550 hiljada zlatnih maraka, imao je samo jedan uslov: da sva ta kola nose ime njegove ćerke                    Ko je naručio 36 automobila?                             Ko je bio austrijski konzul u Nici i šta je naručio od Dajmlera 1901. godine?                              Ko je bio austrijski konzul u Nici, koliko automobila je naručio od Dajmlera 1901. godine i ko je trebalo da bude ime na tim kolima?                                [Dajmler, automobili, Emil Jelinek, Nica, ćerka]  {'long_query': 5, 'medium_query': 5, 'short_query': 4}\n",
      "7                                                                                                                                                                                                                                                                                                                                                                                                                                                                                                                                                                                                                                                                                                Pretio da će skočiti sa zgrade kod Bajlonijeve pijace Muškarac V. R. (37) sa nožem u rukama sinoć oko 18.30 sati izašao je na terasu stana u Ulici Đorđa Jovanovića na Dorćolu i zapretio da će skočiti, ali do zaključenja ovog izdanja nije bio poznat ishod događaja.                   Ko je zapretio da će skočiti?                                     Šta je muškarac držao u rukama dok je pretio da će skočiti sa zgrade?                                                                       Koja adresa je u pitanju gde se muškarac sa nožem pojavio na terasi i pretio da će skočiti?                                        [muškarac, nož, terasa, zgrada, pretnja]  {'long_query': 2, 'medium_query': 3, 'short_query': 4}\n",
      "8                                                                                                                                                                                                                                                                                                                                                                                                                                                                                                                                                                                                                                                                                                                                                                                                                                    Jelinekova porudžbina značila prekretnicu u poslovanju Dajmlera, a naziv Mercedes je preživeo i fuziju sa fabrikom Karla Benca, 1926           Šta je značila Jelinekova porudžbina?  Kako je Jelinekova porudžbina uticala na poslovanje Dajmlera i preživela fuziju sa fabrikom Karla Benca?  Kako je Jelinekova porudžbina označila prekretnicu u poslovanju Dajmlera i doprinela opstanku naziva Mercedes nakon fuzije sa fabrikom Karla Benca 1926. godine?             [Jelinekova porudžbina, prekretnica, poslovanje, Dajmler, Mercedes]  {'long_query': 5, 'medium_query': 5, 'short_query': 4}\n",
      "9                                                                                                                                                                                                                                                                                                                                                                                                                                                                                                                                                                                                                                                                                                                                                                                                                     Ulicu su blokirali policajci i vatrogasci, a zabranjen je prolazak vozila. Policiju je pozvala njegova majka, uplašena da će sin ostvariti pretnje.                           Ko je blokirao ulicu?                                                                                Zašto je policija pozvana?                                                                                                         Koje pretnje je sin ostvarivao da je majka bila uplašena?                     [ulica, blokada, policajci, vatrogasci, zabranjen prolazak]  {'long_query': 3, 'medium_query': 5, 'short_query': 4}\n",
      "10                                                                                                                                                                                                                                                                                                                                                                                                                                                                                                                                                                                                                                                              Potom je, celu deceniju kasnije, na auto-salonu u Detroitu skinut veo tajne i sa projekta F-100, mini-vena sa solarnom baterijom ugrađenom u krov i fenomenalnim koeficijentom otpora vazduha (ć=0,20), koji bi trebao da parira automobilima kakvi su reno espas, tojota previja ili 'pontijak transport                        Gde je skinut veo tajne?                                                                   Koje karakteristike ima projekat F-100?                                                                                          Koje automobile F-100 treba da parira prema koeficijentu otpora vazduha?                        [auto-salon, Detroit, F-100, mini-ven, solarna baterija]  {'long_query': 2, 'medium_query': 3, 'short_query': 4}\n"
     ]
    }
   ],
   "source": [
    "print(df_news)"
   ]
  },
  {
   "cell_type": "code",
   "execution_count": 9,
   "metadata": {},
   "outputs": [
    {
     "name": "stdout",
     "output_type": "stream",
     "text": [
      "                                                                                                                                                                                                                                                                                                                                                                                                                                                                                                                                                                                                                                                                                                                                                                               context                                 short_query                                                           medium_query                                                                                             long_query                                              keywords                                                  scores\n",
      "0                                                                                                                                                                                                                                                                                                                                                                                                                                                                                                                                                                                          Kao da je nečastivi bio u meni tako se pomamim, kad vidim čoveka pred vratima od košare, koja su bila otvorena — a ja sam ih mojom rukom zaključao na bravu, pre nego što sam ušao večerati                     Ko je bio pred vratima?                   Zašto su vrata od košare bila otvorena i zaključana?                    Kako se osećao autor kada je video čoveka pred vratima od košare koje je zaključao?        [nečastivi, košara, otvorena, brava, večerati]  {'long_query': 3, 'medium_query': 5, 'short_query': 4}\n",
      "1                                                                                                                                                                                                                                                                                                                                                                                                                                                   „Jesam ga s obadve ruke obuhvatio i rastrgao bih ga kao jastreb tiče, da se u taj čas drugo opet nije dogodilo“ „Što to?“ „Kako sam ga lako o zemlju spustio, mislio sam da su mu se izmrvile sve koščice — jest da, nije tako lako umoriti pasji rod: u glavu treba besnu vašku, jer će te ujesti i onda kad si je u polak utukao                  Kako je pasji rod umoriti?                             Kako je autor opisao svoj odnos prema psu?                Kako je autor reagovao nakon što je rastrgao psa i šta je primetio o njegovoj reakciji?       [pasji rod, jastreb, vaška, rastrgati, umoriti]  {'long_query': 2, 'medium_query': 3, 'short_query': 4}\n",
      "2                                                                                                                                                                                                                                                                                                                                                                                                                                                                                                                                                                                    Zatrčim se k njemu, no, čini mi se, on se nadao tome kolaču, jer me dočeka s jednom drenovačom  te me lupi u po glave Sam me je Bog sačuvao i sveti njegov dan, koji slavismo, što mrtav ne padoh                     Da li je dočekao kolač?               Kako je reagovao kada sam ga udarila drenovačom u glavu?                    Kako je izgledao njegov izraz lica kada sam ga nenadano udarila drenovačom u glavu?              [kolač, drenovača, udarac, glava, sreća]  {'long_query': 5, 'medium_query': 4, 'short_query': 3}\n",
      "3                                                                                                                                                                                                                                                                                                                                                                                                                                                                                                                                                                                                            „Al’ kako to da si sad tako siromah? Ta da ste samo sedeli pa jeli i pili, ne biste mogli potrošiti sve to, što si nam napripovedao da si imao, ako vam nije bilo nesreće                    Zašto si sada siromašan?         Kako si potrošio sve što si imao ako si samo sedeo, jeo i pio?      Kako je došlo do toga da si potrošio sve što si imao, iako si samo sedeo, jeo i pio, bez nesreće?                [siromah, sedeli, jeli, pili, nesreća]  {'long_query': 3, 'medium_query': 5, 'short_query': 4}\n",
      "4                                                                                                                                                                                                                                                                                                                                                                                                                                                                                             “ „Ta zato — reče opet Sremac — toliko imanje, ta to je bogatstvo, pa još tamo u vas, gde je Bog blagoslovio svačim svet“ „Jeste, brate, u našoj zemlji ima svašta što čoveku treba, naše su njive dobre, naša jo stoka slavna, — ali šta ćeš, kad ne možemo uživati od proklete gospode                Kakvo je bogatstvo u zemlji?                  Koje su karakteristike imanja i stoke u našoj zemlji?        Kako se opisuje bogatstvo imanja i stoke u našoj zemlji, i zašto se ne može uživati od gospode?             [imanje, bogatstvo, zemlja, njive, stoka]  {'long_query': 5, 'medium_query': 5, 'short_query': 4}\n",
      "5  ŠTAMPANO U DRŽ. ŠTAMPARIJI KRALjEVINE SRBIJE Ala je lepa zemlja to Srpsko Vojvodstvo, - pravo da je Srpska zemlja, al i jeste gnezdo sokolova - baš je Bog krasnu zemlju stvorio za krasan narod! - Lepo je to Srpsko Vojvodstvo, u njemu je Bačka i Banat, prostrana ravnica, ili bolje reći golema bašča od svakog bilja, a osobito od šenice i druge rane, sa livadama, pašama i poljanama, koje oko ne može pregledati, po kojima se odranjuju silne ergele konja i čoporovi druge stoke, kojoj broja nema. U njemu je Srem sa svojim gorama i dolinama, brdima i planinama, sa svojim lepim voćnjacima i vinogradima, sa šumama koje su neprohodne. Plaho Dunavo, plava Tisa i druge ponosite reke jesu bogaština Vojvodstva, kakve nema svaka zemlja. Jedan između njih reče:  Koje su karakteristike Srpskog Vojvodstva?       Kako se opisuje zemlja Srpsko Vojvodstvo i koje regije obuhvata?  Koje prirodne lepote i resursi se mogu pronaći u Srpskom Vojvodstvu, uključujući Bačku, Banat i Srem?      [Srpsko Vojvodstvo, Bačka, Banat, livade, konji]  {'long_query': 5, 'medium_query': 5, 'short_query': 4}\n",
      "6                                                                                                                                                                                                                                                                                                                                                                                        „Pripovedi nam, pripovedi kako si postradao — povikaše nekolicina njih iz kruga — ta i mi patimo od njih“ „Pre je još kako tako bilo — produži Bačvanin na poziv Sremaca — dok su nam zapovedala naša gospoda — jesu i oni mnogima žao učinili, ali su naši bili, a tek svoj svoga većma žali; ali kako su došli oni da zapovedaju, koje mi ne razumemo, ni oni nas, od to doba zlo i naopako                             Kako su patili?  Možete li nam ispričati više o zapovedanju i patnji koju su doživeli?           Kako su naši ljudi patili od zapovedanja i nedostatka razumevanja od strane novih gospodara?  [povreda, patnja, zapovedanje, gospoda, razumevanje]  {'long_query': 3, 'medium_query': 5, 'short_query': 4}\n"
     ]
    }
   ],
   "source": [
    "print(df_literature)"
   ]
  },
  {
   "cell_type": "code",
   "execution_count": 10,
   "metadata": {},
   "outputs": [
    {
     "data": {
      "text/plain": [
       "'train'"
      ]
     },
     "execution_count": 10,
     "metadata": {},
     "output_type": "execute_result"
    }
   ],
   "source": [
    "path = Path(\"datasets/train.parquet\")\n",
    "path.stem"
   ]
  },
  {
   "cell_type": "code",
   "execution_count": null,
   "metadata": {},
   "outputs": [],
   "source": []
  },
  {
   "cell_type": "code",
   "execution_count": null,
   "metadata": {},
   "outputs": [],
   "source": []
  }
 ],
 "metadata": {
  "kernelspec": {
   "display_name": ".venv",
   "language": "python",
   "name": "python3"
  },
  "language_info": {
   "codemirror_mode": {
    "name": "ipython",
    "version": 3
   },
   "file_extension": ".py",
   "mimetype": "text/x-python",
   "name": "python",
   "nbconvert_exporter": "python",
   "pygments_lexer": "ipython3",
   "version": "3.10.11"
  }
 },
 "nbformat": 4,
 "nbformat_minor": 2
}
