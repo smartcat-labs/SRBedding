{
 "cells": [
  {
   "cell_type": "markdown",
   "metadata": {},
   "source": []
  },
  {
   "cell_type": "code",
   "execution_count": 2,
   "metadata": {},
   "outputs": [],
   "source": [
    "from datasets import load_dataset\n",
    "import pandas as pd\n",
    "import os\n",
    "from dotenv import load_dotenv\n",
    "import numpy as np\n",
    "import pyarrow as pa\n",
    "import pyarrow.parquet as pq\n",
    "import pandas\n",
    "import openai\n",
    "from openai import APIError\n",
    "import os\n",
    "import json\n",
    "import re\n",
    "import numpy as np\n",
    "from sklearn.cluster import KMeans\n",
    "from pprint import pprint\n",
    "from pathlib import Path\n",
    "import tiktoken\n",
    "\n",
    "\n",
    "# Load the .env file\n",
    "load_dotenv()\n",
    "\n",
    "# Access the variables\n",
    "OPENAI_API_KEY = os.getenv(\"OPENAI_API_KEY\")\n",
    "openai.api_key = OPENAI_API_KEY\n"
   ]
  },
  {
   "cell_type": "code",
   "execution_count": 3,
   "metadata": {},
   "outputs": [
    {
     "data": {
      "text/plain": [
       "PosixPath('/home/selena/Datasets/SRBendding')"
      ]
     },
     "execution_count": 3,
     "metadata": {},
     "output_type": "execute_result"
    }
   ],
   "source": [
    "dir = Path(\"~/Datasets/SRBendding\").expanduser()\n",
    "dir.mkdir(parents=True, exist_ok=True)\n",
    "dir"
   ]
  },
  {
   "cell_type": "code",
   "execution_count": 15,
   "metadata": {},
   "outputs": [],
   "source": [
    "loaded_table = pq.read_table('datasets/train.parquet')\n",
    "df = loaded_table.to_pandas()"
   ]
  },
  {
   "cell_type": "code",
   "execution_count": 16,
   "metadata": {},
   "outputs": [
    {
     "name": "stdout",
     "output_type": "stream",
     "text": [
      "Za izvršavanje programa koje pišemo na Pajtonu, potreban nam je program koji se zove Pajton interpreter. Ovaj program tumači (interpretira), a zatim i izvršava Pajton naredbe. Pajton interpreteri mogu da prihvate cele programe i da ih izvrše, a mogu da rade i u interaktivnom režimu, \n",
      "Još jedan način da pokrenete Pajton školjku je da otvorite komandni prozor (na Windows sistemima to se radi pokretanjem programa cmd), a zatim u komandnom prozoru otkucate Python (ovde podrazumevamo da je Pajton instaliran tako da je dostupan iz svakog foldera, u protivnom treba se prvo pozicionirati u folder u kome se nalazi Pajton interpreter).\n",
      "Pajton je veoma popularan programski jezik opšte namene. Postao je poznat po svojoj jednostavnosti, lakoći učenja i brzini programiranja. Mnogi profesionalni programeri koriste Pajton bar kao pomoćni jezik, jer pomoću njega brzo i lako automatizuju razne poslove. \n"
     ]
    }
   ],
   "source": [
    "for query in df['context']:\n",
    "    print(query)"
   ]
  },
  {
   "cell_type": "code",
   "execution_count": 18,
   "metadata": {},
   "outputs": [
    {
     "data": {
      "text/plain": [
       "'train'"
      ]
     },
     "execution_count": 18,
     "metadata": {},
     "output_type": "execute_result"
    }
   ],
   "source": [
    "path = Path(\"datasets/train.parquet\")\n",
    "path.stem"
   ]
  },
  {
   "cell_type": "code",
   "execution_count": 2,
   "metadata": {},
   "outputs": [
    {
     "name": "stdout",
     "output_type": "stream",
     "text": [
      "wiki\n",
      "news\n",
      "science\n",
      "literature\n"
     ]
    }
   ],
   "source": [
    "def get_ds():\n",
    "    return {\n",
    "        \"wiki\": {\n",
    "            # \"loading_function\": get_wiki_sentences,\n",
    "            \"final_lenght\": 8_000,\n",
    "            \"chunked_lenght\": 30,\n",
    "            \"random_step\":10_000,\n",
    "            \"random_step_start\": 2_000\n",
    "        },\n",
    "        \"news\": {\n",
    "            # \"loading_function\": get_news_sentences,\n",
    "            \"final_lenght\": 2_000,\n",
    "            \"chunked_lenght\": 30,\n",
    "            \"random_step\":100_000,\n",
    "            \"random_step_start\": 2_000\n",
    "        },\n",
    "        \"science\": {\n",
    "            # \"loading_function\": get_sience_sentences,\n",
    "            \"final_lenght\": 1_250,\n",
    "            \"chunked_lenght\": 30,\n",
    "            \"random_step\":10_000,\n",
    "            \"random_step_start\": 2_000\n",
    "        },\n",
    "        \"literature\": {\n",
    "            # \"loading_function\": get_literature_sentences,\n",
    "            \"final_lenght\": 1_250,\n",
    "            \"chunked_lenght\": 30,\n",
    "            \"random_step\":100,\n",
    "            \"random_step_start\": 0\n",
    "        },\n",
    "    }\n",
    "\n",
    "datasets = get_ds()\n",
    "for dataset_name, dataset_args in datasets.items():\n",
    "    print(dataset_name)"
   ]
  }
 ],
 "metadata": {
  "kernelspec": {
   "display_name": ".venv",
   "language": "python",
   "name": "python3"
  },
  "language_info": {
   "codemirror_mode": {
    "name": "ipython",
    "version": 3
   },
   "file_extension": ".py",
   "mimetype": "text/x-python",
   "name": "python",
   "nbconvert_exporter": "python",
   "pygments_lexer": "ipython3",
   "version": "3.10.14"
  }
 },
 "nbformat": 4,
 "nbformat_minor": 2
}
