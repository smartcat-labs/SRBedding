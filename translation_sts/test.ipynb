{
 "cells": [
  {
   "cell_type": "code",
   "execution_count": 23,
   "metadata": {},
   "outputs": [],
   "source": [
    "from datasets import load_dataset\n",
    "import pandas as pd\n",
    "import os\n",
    "from dotenv import load_dotenv\n",
    "import numpy as np\n",
    "import pyarrow as pa\n",
    "import pyarrow.parquet as pq\n",
    "import pandas\n",
    "import openai\n",
    "from openai import APIError\n",
    "import os\n",
    "import json\n",
    "import re\n",
    "import numpy as np\n",
    "from sklearn.cluster import KMeans\n",
    "from pprint import pprint\n",
    "from pathlib import Path\n",
    "import tiktoken\n",
    "from sentence_transformers import SentenceTransformer\n",
    "\n",
    "\n",
    "# Load the .env file\n",
    "load_dotenv()\n",
    "\n",
    "# Access the variables\n",
    "OPENAI_API_KEY = os.getenv(\"OPENAI_API_KEY\")\n",
    "openai.api_key = OPENAI_API_KEY\n",
    "pd.set_option('display.max_colwidth', None)  # None means no limit on column width\n",
    "pd.set_option('display.width', 300)  "
   ]
  },
  {
   "cell_type": "code",
   "execution_count": 4,
   "metadata": {},
   "outputs": [],
   "source": [
    "df = pd.read_parquet('datasets/STS.parquet')"
   ]
  },
  {
   "cell_type": "code",
   "execution_count": 5,
   "metadata": {},
   "outputs": [
    {
     "data": {
      "text/html": [
       "<div>\n",
       "<style scoped>\n",
       "    .dataframe tbody tr th:only-of-type {\n",
       "        vertical-align: middle;\n",
       "    }\n",
       "\n",
       "    .dataframe tbody tr th {\n",
       "        vertical-align: top;\n",
       "    }\n",
       "\n",
       "    .dataframe thead th {\n",
       "        text-align: right;\n",
       "    }\n",
       "</style>\n",
       "<table border=\"1\" class=\"dataframe\">\n",
       "  <thead>\n",
       "    <tr style=\"text-align: right;\">\n",
       "      <th></th>\n",
       "      <th>split</th>\n",
       "      <th>genre</th>\n",
       "      <th>dataset</th>\n",
       "      <th>year</th>\n",
       "      <th>sid</th>\n",
       "      <th>score</th>\n",
       "      <th>sentence1</th>\n",
       "      <th>sentence2</th>\n",
       "    </tr>\n",
       "  </thead>\n",
       "  <tbody>\n",
       "    <tr>\n",
       "      <th>0</th>\n",
       "      <td>test</td>\n",
       "      <td>main-captions</td>\n",
       "      <td>MSRvid</td>\n",
       "      <td>2012test</td>\n",
       "      <td>0024</td>\n",
       "      <td>2.5</td>\n",
       "      <td>A girl is styling her hair.</td>\n",
       "      <td>Devojčica češlja kosu.</td>\n",
       "    </tr>\n",
       "    <tr>\n",
       "      <th>1</th>\n",
       "      <td>test</td>\n",
       "      <td>main-captions</td>\n",
       "      <td>MSRvid</td>\n",
       "      <td>2012test</td>\n",
       "      <td>0033</td>\n",
       "      <td>3.6</td>\n",
       "      <td>A group of men play soccer on the beach.</td>\n",
       "      <td>Grupa dečaka igra fudbal na plaži.</td>\n",
       "    </tr>\n",
       "    <tr>\n",
       "      <th>2</th>\n",
       "      <td>test</td>\n",
       "      <td>main-captions</td>\n",
       "      <td>MSRvid</td>\n",
       "      <td>2012test</td>\n",
       "      <td>0045</td>\n",
       "      <td>5.0</td>\n",
       "      <td>One woman is measuring another woman's ankle.</td>\n",
       "      <td>Jedna žena meri gležanj druge žene.</td>\n",
       "    </tr>\n",
       "    <tr>\n",
       "      <th>3</th>\n",
       "      <td>test</td>\n",
       "      <td>main-captions</td>\n",
       "      <td>MSRvid</td>\n",
       "      <td>2012test</td>\n",
       "      <td>0063</td>\n",
       "      <td>4.2</td>\n",
       "      <td>A man is cutting up a cucumber.</td>\n",
       "      <td>Čovek secka krastavac.</td>\n",
       "    </tr>\n",
       "    <tr>\n",
       "      <th>4</th>\n",
       "      <td>test</td>\n",
       "      <td>main-captions</td>\n",
       "      <td>MSRvid</td>\n",
       "      <td>2012test</td>\n",
       "      <td>0066</td>\n",
       "      <td>1.5</td>\n",
       "      <td>A man is playing a harp.</td>\n",
       "      <td>Čovek svira klavijaturu.</td>\n",
       "    </tr>\n",
       "    <tr>\n",
       "      <th>...</th>\n",
       "      <td>...</td>\n",
       "      <td>...</td>\n",
       "      <td>...</td>\n",
       "      <td>...</td>\n",
       "      <td>...</td>\n",
       "      <td>...</td>\n",
       "      <td>...</td>\n",
       "      <td>...</td>\n",
       "    </tr>\n",
       "    <tr>\n",
       "      <th>1374</th>\n",
       "      <td>test</td>\n",
       "      <td>main-news</td>\n",
       "      <td>headlines</td>\n",
       "      <td>2016</td>\n",
       "      <td>1354</td>\n",
       "      <td>0.0</td>\n",
       "      <td>Philippines, Canada pledge to further boost relations</td>\n",
       "      <td>Philippines saves 100 after ferry sinks</td>\n",
       "    </tr>\n",
       "    <tr>\n",
       "      <th>1375</th>\n",
       "      <td>test</td>\n",
       "      <td>main-news</td>\n",
       "      <td>headlines</td>\n",
       "      <td>2016</td>\n",
       "      <td>1360</td>\n",
       "      <td>1.0</td>\n",
       "      <td>Israel bars Palestinians from Jerusalem's Old City</td>\n",
       "      <td>Two-state solution between Palestinians, Israel pie in sky</td>\n",
       "    </tr>\n",
       "    <tr>\n",
       "      <th>1376</th>\n",
       "      <td>test</td>\n",
       "      <td>main-news</td>\n",
       "      <td>headlines</td>\n",
       "      <td>2016</td>\n",
       "      <td>1368</td>\n",
       "      <td>1.0</td>\n",
       "      <td>How much do you know about Secret Service?</td>\n",
       "      <td>Lawmakers from both sides express outrage at Secret Service</td>\n",
       "    </tr>\n",
       "    <tr>\n",
       "      <th>1377</th>\n",
       "      <td>test</td>\n",
       "      <td>main-news</td>\n",
       "      <td>headlines</td>\n",
       "      <td>2016</td>\n",
       "      <td>1420</td>\n",
       "      <td>0.0</td>\n",
       "      <td>Obama Struggles to Soothe Saudi Fears As Iran Talks Resume</td>\n",
       "      <td>Myanmar Struggles to Finalize Voter Lists for Sunday Polls</td>\n",
       "    </tr>\n",
       "    <tr>\n",
       "      <th>1378</th>\n",
       "      <td>test</td>\n",
       "      <td>main-news</td>\n",
       "      <td>headlines</td>\n",
       "      <td>2016</td>\n",
       "      <td>1432</td>\n",
       "      <td>0.0</td>\n",
       "      <td>South Korea declares end to MERS outbreak</td>\n",
       "      <td>North Korea Delegation Meets With South Korean Officials</td>\n",
       "    </tr>\n",
       "  </tbody>\n",
       "</table>\n",
       "<p>1379 rows × 8 columns</p>\n",
       "</div>"
      ],
      "text/plain": [
       "     split          genre    dataset      year   sid  score                                                   sentence1                                                    sentence2\n",
       "0     test  main-captions     MSRvid  2012test  0024    2.5                                 A girl is styling her hair.                                       Devojčica češlja kosu.\n",
       "1     test  main-captions     MSRvid  2012test  0033    3.6                    A group of men play soccer on the beach.                           Grupa dečaka igra fudbal na plaži.\n",
       "2     test  main-captions     MSRvid  2012test  0045    5.0               One woman is measuring another woman's ankle.                          Jedna žena meri gležanj druge žene.\n",
       "3     test  main-captions     MSRvid  2012test  0063    4.2                             A man is cutting up a cucumber.                                       Čovek secka krastavac.\n",
       "4     test  main-captions     MSRvid  2012test  0066    1.5                                    A man is playing a harp.                                     Čovek svira klavijaturu.\n",
       "...    ...            ...        ...       ...   ...    ...                                                         ...                                                          ...\n",
       "1374  test      main-news  headlines      2016  1354    0.0       Philippines, Canada pledge to further boost relations                      Philippines saves 100 after ferry sinks\n",
       "1375  test      main-news  headlines      2016  1360    1.0          Israel bars Palestinians from Jerusalem's Old City   Two-state solution between Palestinians, Israel pie in sky\n",
       "1376  test      main-news  headlines      2016  1368    1.0                  How much do you know about Secret Service?  Lawmakers from both sides express outrage at Secret Service\n",
       "1377  test      main-news  headlines      2016  1420    0.0  Obama Struggles to Soothe Saudi Fears As Iran Talks Resume   Myanmar Struggles to Finalize Voter Lists for Sunday Polls\n",
       "1378  test      main-news  headlines      2016  1432    0.0                   South Korea declares end to MERS outbreak     North Korea Delegation Meets With South Korean Officials\n",
       "\n",
       "[1379 rows x 8 columns]"
      ]
     },
     "execution_count": 5,
     "metadata": {},
     "output_type": "execute_result"
    }
   ],
   "source": [
    "df"
   ]
  },
  {
   "cell_type": "code",
   "execution_count": 6,
   "metadata": {},
   "outputs": [
    {
     "data": {
      "text/plain": [
       "(1379, 8)"
      ]
     },
     "execution_count": 6,
     "metadata": {},
     "output_type": "execute_result"
    }
   ],
   "source": [
    "df.shape"
   ]
  },
  {
   "cell_type": "code",
   "execution_count": 7,
   "metadata": {},
   "outputs": [],
   "source": [
    "from datasets import Dataset\n",
    "def get_sts_dataset():\n",
    "    df = pd.read_parquet(\"datasets/STS.parquet\")\n",
    "    data_dict = {\"sentence1\": [], \"sentence2\": [], \"score\": []}\n",
    "    for _, row in df.iterrows():\n",
    "        data_dict[\"sentence1\"].append(row[\"sentence1\"])\n",
    "        data_dict[\"sentence2\"].append(row[\"sentence2\"])\n",
    "        data_dict[\"score\"].append(row[\"score\"] / 5.0)\n",
    "    # Create a Hugging Face Dataset\n",
    "    return Dataset.from_dict(data_dict)"
   ]
  },
  {
   "cell_type": "code",
   "execution_count": 8,
   "metadata": {},
   "outputs": [],
   "source": [
    "sts = get_sts_dataset()"
   ]
  },
  {
   "cell_type": "code",
   "execution_count": 9,
   "metadata": {},
   "outputs": [
    {
     "data": {
      "text/plain": [
       "Dataset({\n",
       "    features: ['sentence1', 'sentence2', 'score'],\n",
       "    num_rows: 1379\n",
       "})"
      ]
     },
     "execution_count": 9,
     "metadata": {},
     "output_type": "execute_result"
    }
   ],
   "source": [
    "sts"
   ]
  },
  {
   "cell_type": "code",
   "execution_count": 11,
   "metadata": {},
   "outputs": [
    {
     "data": {
      "text/html": [
       "<div>\n",
       "<style scoped>\n",
       "    .dataframe tbody tr th:only-of-type {\n",
       "        vertical-align: middle;\n",
       "    }\n",
       "\n",
       "    .dataframe tbody tr th {\n",
       "        vertical-align: top;\n",
       "    }\n",
       "\n",
       "    .dataframe thead th {\n",
       "        text-align: right;\n",
       "    }\n",
       "</style>\n",
       "<table border=\"1\" class=\"dataframe\">\n",
       "  <thead>\n",
       "    <tr style=\"text-align: right;\">\n",
       "      <th></th>\n",
       "      <th>sentence1</th>\n",
       "      <th>sentence2</th>\n",
       "      <th>score</th>\n",
       "    </tr>\n",
       "  </thead>\n",
       "  <tbody>\n",
       "    <tr>\n",
       "      <th>0</th>\n",
       "      <td>A girl is styling her hair.</td>\n",
       "      <td>Devojčica češlja kosu.</td>\n",
       "      <td>0.50</td>\n",
       "    </tr>\n",
       "    <tr>\n",
       "      <th>1</th>\n",
       "      <td>A group of men play soccer on the beach.</td>\n",
       "      <td>Grupa dečaka igra fudbal na plaži.</td>\n",
       "      <td>0.72</td>\n",
       "    </tr>\n",
       "    <tr>\n",
       "      <th>2</th>\n",
       "      <td>One woman is measuring another woman's ankle.</td>\n",
       "      <td>Jedna žena meri gležanj druge žene.</td>\n",
       "      <td>1.00</td>\n",
       "    </tr>\n",
       "    <tr>\n",
       "      <th>3</th>\n",
       "      <td>A man is cutting up a cucumber.</td>\n",
       "      <td>Čovek secka krastavac.</td>\n",
       "      <td>0.84</td>\n",
       "    </tr>\n",
       "    <tr>\n",
       "      <th>4</th>\n",
       "      <td>A man is playing a harp.</td>\n",
       "      <td>Čovek svira klavijaturu.</td>\n",
       "      <td>0.30</td>\n",
       "    </tr>\n",
       "    <tr>\n",
       "      <th>...</th>\n",
       "      <td>...</td>\n",
       "      <td>...</td>\n",
       "      <td>...</td>\n",
       "    </tr>\n",
       "    <tr>\n",
       "      <th>1374</th>\n",
       "      <td>Philippines, Canada pledge to further boost relations</td>\n",
       "      <td>Philippines saves 100 after ferry sinks</td>\n",
       "      <td>0.00</td>\n",
       "    </tr>\n",
       "    <tr>\n",
       "      <th>1375</th>\n",
       "      <td>Israel bars Palestinians from Jerusalem's Old City</td>\n",
       "      <td>Two-state solution between Palestinians, Israel pie in sky</td>\n",
       "      <td>0.20</td>\n",
       "    </tr>\n",
       "    <tr>\n",
       "      <th>1376</th>\n",
       "      <td>How much do you know about Secret Service?</td>\n",
       "      <td>Lawmakers from both sides express outrage at Secret Service</td>\n",
       "      <td>0.20</td>\n",
       "    </tr>\n",
       "    <tr>\n",
       "      <th>1377</th>\n",
       "      <td>Obama Struggles to Soothe Saudi Fears As Iran Talks Resume</td>\n",
       "      <td>Myanmar Struggles to Finalize Voter Lists for Sunday Polls</td>\n",
       "      <td>0.00</td>\n",
       "    </tr>\n",
       "    <tr>\n",
       "      <th>1378</th>\n",
       "      <td>South Korea declares end to MERS outbreak</td>\n",
       "      <td>North Korea Delegation Meets With South Korean Officials</td>\n",
       "      <td>0.00</td>\n",
       "    </tr>\n",
       "  </tbody>\n",
       "</table>\n",
       "<p>1379 rows × 3 columns</p>\n",
       "</div>"
      ],
      "text/plain": [
       "                                                       sentence1                                                    sentence2  score\n",
       "0                                    A girl is styling her hair.                                       Devojčica češlja kosu.   0.50\n",
       "1                       A group of men play soccer on the beach.                           Grupa dečaka igra fudbal na plaži.   0.72\n",
       "2                  One woman is measuring another woman's ankle.                          Jedna žena meri gležanj druge žene.   1.00\n",
       "3                                A man is cutting up a cucumber.                                       Čovek secka krastavac.   0.84\n",
       "4                                       A man is playing a harp.                                     Čovek svira klavijaturu.   0.30\n",
       "...                                                          ...                                                          ...    ...\n",
       "1374       Philippines, Canada pledge to further boost relations                      Philippines saves 100 after ferry sinks   0.00\n",
       "1375          Israel bars Palestinians from Jerusalem's Old City   Two-state solution between Palestinians, Israel pie in sky   0.20\n",
       "1376                  How much do you know about Secret Service?  Lawmakers from both sides express outrage at Secret Service   0.20\n",
       "1377  Obama Struggles to Soothe Saudi Fears As Iran Talks Resume   Myanmar Struggles to Finalize Voter Lists for Sunday Polls   0.00\n",
       "1378                   South Korea declares end to MERS outbreak     North Korea Delegation Meets With South Korean Officials   0.00\n",
       "\n",
       "[1379 rows x 3 columns]"
      ]
     },
     "execution_count": 11,
     "metadata": {},
     "output_type": "execute_result"
    }
   ],
   "source": [
    "pd.DataFrame(sts)"
   ]
  },
  {
   "cell_type": "code",
   "execution_count": 26,
   "metadata": {},
   "outputs": [],
   "source": [
    "teacher_model_name = \"paraphrase-distilroberta-base-v2\"\n",
    "teacher_model = SentenceTransformer(teacher_model_name)\n",
    "inference_batch_size = 64 "
   ]
  },
  {
   "cell_type": "code",
   "execution_count": 14,
   "metadata": {},
   "outputs": [],
   "source": [
    "def convert_to_hf_dataset(dataframe: pandas.DataFrame) -> Dataset:\n",
    "    # Convert each InputExample into a dictionary\n",
    "    data_dict = {\"english\": [], \"non_english\": []}\n",
    "    for _, row in dataframe.iterrows():\n",
    "        data_dict[\"english\"].append(row[\"sentence1\"])\n",
    "        data_dict[\"non_english\"].append(row[\"sentence2\"])\n",
    "    # Create a Hugging Face Dataset\n",
    "    return Dataset.from_dict(data_dict)"
   ]
  },
  {
   "cell_type": "code",
   "execution_count": 17,
   "metadata": {},
   "outputs": [],
   "source": [
    "def load_pandas_df(file: Path) -> pandas.DataFrame:\n",
    "    loaded_table = pq.read_table(file)\n",
    "    return loaded_table.to_pandas()"
   ]
  },
  {
   "cell_type": "code",
   "execution_count": 25,
   "metadata": {},
   "outputs": [],
   "source": [
    "from typing import Tuple\n",
    "from sklearn.model_selection import train_test_split\n",
    "\n",
    "\n",
    "def get_train_and_eval_datasets(dataset_name: Path) -> Tuple[Dataset, Dataset]:\n",
    "    df = load_pandas_df(file=dataset_name)\n",
    "    train_df, eval_df = train_test_split(df, test_size=0.2, random_state=42)\n",
    "    # sanity_check(train_df, eval_df)\n",
    "    # Convert lists to Hugging Face Datasets\n",
    "    train_dataset = convert_to_hf_dataset(train_df)\n",
    "    eval_dataset = convert_to_hf_dataset(eval_df)\n",
    "\n",
    "    return train_dataset, eval_dataset"
   ]
  },
  {
   "cell_type": "code",
   "execution_count": 27,
   "metadata": {},
   "outputs": [
    {
     "data": {
      "application/vnd.jupyter.widget-view+json": {
       "model_id": "453576b7495b40b3b4bb219b4bce3dfd",
       "version_major": 2,
       "version_minor": 0
      },
      "text/plain": [
       "Map:   0%|          | 0/1103 [00:00<?, ? examples/s]"
      ]
     },
     "metadata": {},
     "output_type": "display_data"
    },
    {
     "data": {
      "application/vnd.jupyter.widget-view+json": {
       "model_id": "a39985b896d54bbabc7f59aec0cc92a3",
       "version_major": 2,
       "version_minor": 0
      },
      "text/plain": [
       "Map:   0%|          | 0/276 [00:00<?, ? examples/s]"
      ]
     },
     "metadata": {},
     "output_type": "display_data"
    }
   ],
   "source": [
    "def prepare_dataset(batch):\n",
    "    return {\n",
    "        \"english\": batch[\"english\"],\n",
    "        \"non_english\": batch[\"non_english\"],\n",
    "        \"label\": teacher_model.encode(\n",
    "            batch[\"english\"], batch_size=inference_batch_size, show_progress_bar=False\n",
    "        ),\n",
    "    }\n",
    "\n",
    "\n",
    "train_dataset, eval_dataset = get_train_and_eval_datasets(dataset_name=\"datasets/STS.parquet\")\n",
    "column_names = train_dataset.column_names\n",
    "\n",
    "train_dataset_dict = train_dataset.map(\n",
    "    prepare_dataset, batched=True, batch_size=30000, remove_columns=column_names\n",
    ")\n",
    "eval_dataset = eval_dataset.map(\n",
    "    prepare_dataset, batched=True, batch_size=30000, remove_columns=column_names\n",
    ")"
   ]
  },
  {
   "cell_type": "code",
   "execution_count": 28,
   "metadata": {},
   "outputs": [
    {
     "data": {
      "text/plain": [
       "Dataset({\n",
       "    features: ['english', 'non_english', 'label'],\n",
       "    num_rows: 1103\n",
       "})"
      ]
     },
     "execution_count": 28,
     "metadata": {},
     "output_type": "execute_result"
    }
   ],
   "source": [
    "train_dataset_dict"
   ]
  },
  {
   "cell_type": "code",
   "execution_count": 32,
   "metadata": {},
   "outputs": [],
   "source": [
    "df = pd.DataFrame(train_dataset_dict)\n",
    "for i in df['label']:\n",
    "    if type(i) == None:\n",
    "        print(i)"
   ]
  },
  {
   "cell_type": "code",
   "execution_count": 29,
   "metadata": {},
   "outputs": [
    {
     "data": {
      "text/plain": [
       "Dataset({\n",
       "    features: ['english', 'non_english', 'label'],\n",
       "    num_rows: 276\n",
       "})"
      ]
     },
     "execution_count": 29,
     "metadata": {},
     "output_type": "execute_result"
    }
   ],
   "source": [
    "eval_dataset"
   ]
  },
  {
   "cell_type": "code",
   "execution_count": null,
   "metadata": {},
   "outputs": [],
   "source": []
  }
 ],
 "metadata": {
  "kernelspec": {
   "display_name": ".venv",
   "language": "python",
   "name": "python3"
  },
  "language_info": {
   "codemirror_mode": {
    "name": "ipython",
    "version": 3
   },
   "file_extension": ".py",
   "mimetype": "text/x-python",
   "name": "python",
   "nbconvert_exporter": "python",
   "pygments_lexer": "ipython3",
   "version": "3.10.14"
  }
 },
 "nbformat": 4,
 "nbformat_minor": 2
}
