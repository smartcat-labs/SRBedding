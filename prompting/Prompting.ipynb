{
  "nbformat": 4,
  "nbformat_minor": 0,
  "metadata": {
    "colab": {
      "provenance": []
    },
    "kernelspec": {
      "name": "python3",
      "display_name": "Python 3"
    },
    "language_info": {
      "name": "python"
    }
  },
  "cells": [
    {
      "cell_type": "markdown",
      "source": [
        "Scifact prompting"
      ],
      "metadata": {
        "id": "hQQtgsnP-G9J"
      }
    },
    {
      "cell_type": "code",
      "execution_count": 5,
      "metadata": {
        "colab": {
          "base_uri": "https://localhost:8080/"
        },
        "collapsed": true,
        "id": "uN6T2p94I3b2",
        "outputId": "1f069269-f1c4-46a9-83e8-51b3bc7e2b60"
      },
      "outputs": [
        {
          "output_type": "stream",
          "name": "stdout",
          "text": [
            "Collecting openai\n",
            "  Downloading openai-1.30.1-py3-none-any.whl (320 kB)\n",
            "\u001b[?25l     \u001b[90m━━━━━━━━━━━━━━━━━━━━━━━━━━━━━━━━━━━━━━━━\u001b[0m \u001b[32m0.0/320.6 kB\u001b[0m \u001b[31m?\u001b[0m eta \u001b[36m-:--:--\u001b[0m\r\u001b[2K     \u001b[91m━━━━━━━━━━━━━━━━━━━━━\u001b[0m\u001b[91m╸\u001b[0m\u001b[90m━━━━━━━━━━━━━━━━━━\u001b[0m \u001b[32m174.1/320.6 kB\u001b[0m \u001b[31m5.1 MB/s\u001b[0m eta \u001b[36m0:00:01\u001b[0m\r\u001b[2K     \u001b[90m━━━━━━━━━━━━━━━━━━━━━━━━━━━━━━━━━━━━━━━━\u001b[0m \u001b[32m320.6/320.6 kB\u001b[0m \u001b[31m5.4 MB/s\u001b[0m eta \u001b[36m0:00:00\u001b[0m\n",
            "\u001b[?25hRequirement already satisfied: anyio<5,>=3.5.0 in /usr/local/lib/python3.10/dist-packages (from openai) (3.7.1)\n",
            "Requirement already satisfied: distro<2,>=1.7.0 in /usr/lib/python3/dist-packages (from openai) (1.7.0)\n",
            "Collecting httpx<1,>=0.23.0 (from openai)\n",
            "  Downloading httpx-0.27.0-py3-none-any.whl (75 kB)\n",
            "\u001b[2K     \u001b[90m━━━━━━━━━━━━━━━━━━━━━━━━━━━━━━━━━━━━━━━━\u001b[0m \u001b[32m75.6/75.6 kB\u001b[0m \u001b[31m4.9 MB/s\u001b[0m eta \u001b[36m0:00:00\u001b[0m\n",
            "\u001b[?25hRequirement already satisfied: pydantic<3,>=1.9.0 in /usr/local/lib/python3.10/dist-packages (from openai) (2.7.1)\n",
            "Requirement already satisfied: sniffio in /usr/local/lib/python3.10/dist-packages (from openai) (1.3.1)\n",
            "Requirement already satisfied: tqdm>4 in /usr/local/lib/python3.10/dist-packages (from openai) (4.66.4)\n",
            "Requirement already satisfied: typing-extensions<5,>=4.7 in /usr/local/lib/python3.10/dist-packages (from openai) (4.11.0)\n",
            "Requirement already satisfied: idna>=2.8 in /usr/local/lib/python3.10/dist-packages (from anyio<5,>=3.5.0->openai) (3.7)\n",
            "Requirement already satisfied: exceptiongroup in /usr/local/lib/python3.10/dist-packages (from anyio<5,>=3.5.0->openai) (1.2.1)\n",
            "Requirement already satisfied: certifi in /usr/local/lib/python3.10/dist-packages (from httpx<1,>=0.23.0->openai) (2024.2.2)\n",
            "Collecting httpcore==1.* (from httpx<1,>=0.23.0->openai)\n",
            "  Downloading httpcore-1.0.5-py3-none-any.whl (77 kB)\n",
            "\u001b[2K     \u001b[90m━━━━━━━━━━━━━━━━━━━━━━━━━━━━━━━━━━━━━━━━\u001b[0m \u001b[32m77.9/77.9 kB\u001b[0m \u001b[31m8.3 MB/s\u001b[0m eta \u001b[36m0:00:00\u001b[0m\n",
            "\u001b[?25hCollecting h11<0.15,>=0.13 (from httpcore==1.*->httpx<1,>=0.23.0->openai)\n",
            "  Downloading h11-0.14.0-py3-none-any.whl (58 kB)\n",
            "\u001b[2K     \u001b[90m━━━━━━━━━━━━━━━━━━━━━━━━━━━━━━━━━━━━━━━━\u001b[0m \u001b[32m58.3/58.3 kB\u001b[0m \u001b[31m8.6 MB/s\u001b[0m eta \u001b[36m0:00:00\u001b[0m\n",
            "\u001b[?25hRequirement already satisfied: annotated-types>=0.4.0 in /usr/local/lib/python3.10/dist-packages (from pydantic<3,>=1.9.0->openai) (0.6.0)\n",
            "Requirement already satisfied: pydantic-core==2.18.2 in /usr/local/lib/python3.10/dist-packages (from pydantic<3,>=1.9.0->openai) (2.18.2)\n",
            "Installing collected packages: h11, httpcore, httpx, openai\n",
            "Successfully installed h11-0.14.0 httpcore-1.0.5 httpx-0.27.0 openai-1.30.1\n"
          ]
        }
      ],
      "source": [
        "!pip install openai"
      ]
    },
    {
      "cell_type": "code",
      "source": [
        "from openai import OpenAI\n",
        "from google.colab import userdata\n",
        "\n",
        "OPENAI_KEY = userdata.get('OPENAI_API_KEY')\n",
        "client = OpenAI(api_key=OPENAI_KEY)"
      ],
      "metadata": {
        "id": "PxV9GSTNJBFV"
      },
      "execution_count": 6,
      "outputs": []
    },
    {
      "cell_type": "code",
      "source": [
        "def translate(query: str, model: str = 'gpt-4o') -> str:\n",
        "  \"\"\" Translate to Serbian via OPENAI API. \"\"\"\n",
        "\n",
        "  response = client.chat.completions.create(\n",
        "    model=model,\n",
        "    messages=[\n",
        "      {\n",
        "        \"role\": \"system\",\n",
        "        \"content\": SYSTEM_PROMPT\n",
        "      },\n",
        "      {\n",
        "        \"role\": \"user\",\n",
        "        \"content\": query\n",
        "      }\n",
        "    ],\n",
        "    temperature=0.7,\n",
        "    top_p=1\n",
        "  )\n",
        "\n",
        "  return response"
      ],
      "metadata": {
        "id": "vX9NA-PwMqa2"
      },
      "execution_count": 13,
      "outputs": []
    },
    {
      "cell_type": "markdown",
      "source": [
        "# Scifact prompting"
      ],
      "metadata": {
        "id": "sDKaMo-eqa6g"
      }
    },
    {
      "cell_type": "code",
      "source": [
        "SYSTEM_PROMPT = \"\"\"\n",
        "I would like you to help me translate the provided passages from English into Serbian (Latin script).\n",
        "\n",
        "Since this is a scientific dataset, it is crucial to maintain accuracy and consistency in the translation. Please adhere to the following guidelines:\n",
        "\n",
        "1. **Accuracy of Terminology:**\n",
        "   - Ensure that all scientific terms and terminology are translated accurately and consistently.\n",
        "   - Use appropriate Serbian scientific terminology where applicable.\n",
        "   - avoid using english terms when there is an appropriate serbian term available\n",
        "\n",
        "2. **Numeric Data Integrity:**\n",
        "   - Keep all numeric data unchanged, including decimal points and numeric values.\n",
        "   - Verify that units of measurement are translated correctly and consistently according to Serbian language conventions.\n",
        "\n",
        "3. **Context Preservation:**\n",
        "   - Preserve the scientific context of the dataset to avoid misinterpretation.\n",
        "   - Ensure that the translation maintains the original meaning and context.\n",
        "\n",
        "4. **Consistency:**\n",
        "   - Maintain consistency in terminology, units, and formatting throughout the entire text.\n",
        "\n",
        "5. **Grammatical Accuracy:**\n",
        "   - Follow the grammatical rules of the Serbian language and make sure to use the correct declension when translating nouns, adjectives and pronouns.\n",
        "   - Ensure that the translation is grammatically correct and natural-sounding in Serbian\n",
        "   - If there is a term and its acronym present, they should be also translated to serbian. You can follow the guideline bellow:\n",
        "\n",
        "    EXAMPLE (acronym):\n",
        "\n",
        "    ENGLISH:\n",
        "    \"Epidemiologic analysis of family data on blood pressure (BP) is often compromised by the effects of antihypertensive medications.\"\n",
        "\n",
        "    SERBIAN:\n",
        "    \"Epidemiološka analiza porodičnih podataka o krvnom pritisku (BP) često je ugrožena efektima antihipertenzivnih lekova.\"\n",
        "\n",
        "    REASONING:\n",
        "    * The translation is not correct because there is a term \"blood pressure\" and the acronym BP, and it is translated as \"krvnom pritisku\" and BP,\n",
        "    instead, the acronym should be built from the translated term, in this case that is KP.\n",
        "\n",
        "\n",
        "Translate the following dataset while adhering to these guidelines.\n",
        "The output should be the translated passage from English to Serbian (Latin script).\n",
        "\n",
        "\"\"\"\n"
      ],
      "metadata": {
        "id": "AHYkuKr4Maol"
      },
      "execution_count": 34,
      "outputs": []
    },
    {
      "cell_type": "markdown",
      "source": [
        "# ![gpt-3-5-turbo-0301-vs-gpt-3-5-turbo-v0-d8oo8sk990pa1.webp](data:image/webp;base64,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)"
      ],
      "metadata": {
        "id": "rvrZct6y8P_H"
      }
    },
    {
      "cell_type": "markdown",
      "source": [],
      "metadata": {
        "id": "HvUBFwwXyObp"
      }
    },
    {
      "cell_type": "code",
      "source": [
        "query = \"Identifying genomic elements required for viability is central to our understanding of the basic physiology of bacterial pathogens. Recently, the combination of high-density mutagenesis and deep sequencing has allowed for the identification of required and conditionally required genes in many bacteria. Genes, however, make up only a part of the complex genomes of important bacterial pathogens. Here, we use an unbiased analysis to comprehensively identify genomic regions, including genes, domains, and intergenic elements, required for the optimal growth of Mycobacterium tuberculosis, a major global health pathogen. We found that several proteins jointly contain both domains required for optimal growth and domains that are dispensable. In addition, many non-coding regions, including regulatory elements and non-coding RNAs, are critical for mycobacterial growth. Our analysis shows that the genetic requirements for growth are more complex than can be appreciated using gene-centric analysis.\"\n",
        "\n",
        "res = translate(query, model='gpt-3.5-turbo')\n",
        "res.choices[0].message.content"
      ],
      "metadata": {
        "colab": {
          "base_uri": "https://localhost:8080/",
          "height": 143
        },
        "id": "bquRCdrIOLJw",
        "outputId": "9ef60bb4-fc57-49fc-a1bf-85031874ae7c"
      },
      "execution_count": 68,
      "outputs": [
        {
          "output_type": "execute_result",
          "data": {
            "text/plain": [
              "'Identifikacija genomičkih elemenata potrebnih za vitalnost je centralna za naše razumevanje osnovne fiziologije bakterijskih patogena. Nedavno, kombinacija visokog intenziteta mutageneze i dubinskog sekvenciranja omogućila je identifikaciju gena koji su potrebni i uslovno potrebni u mnogim bakterijama. Geni, međutim, čine samo deo složenih genoma važnih bakterijskih patogena. Ovde koristimo nepristrasnu analizu kako bismo sveobuhvatno identifikovali genomski regione, uključujući gene, domene i intergeničke elemente, potrebne za optimalan rast Mycobacterium tuberculosis, važnog globalnog zdravstvenog patogena. Utvrdili smo da nekoliko proteina zajedno sadrži i domene potrebne za optimalan rast i domene koje su nepotrebne. Pored toga, mnoge nekodirajuće regione, uključujući regulatorne elemente i nekodirajuće RNK, su ključne za rast mikobakterija. Naša analiza pokazuje da su genetski zahtevi za rast složeniji nego što se može razumeti korišćenjem analize usmerene na gene.'"
            ],
            "application/vnd.google.colaboratory.intrinsic+json": {
              "type": "string"
            }
          },
          "metadata": {},
          "execution_count": 68
        }
      ]
    },
    {
      "cell_type": "code",
      "source": [
        "query = \"Identifying genomic elements required for viability is central to our understanding of the basic physiology of bacterial pathogens. Recently, the combination of high-density mutagenesis and deep sequencing has allowed for the identification of required and conditionally required genes in many bacteria. Genes, however, make up only a part of the complex genomes of important bacterial pathogens. Here, we use an unbiased analysis to comprehensively identify genomic regions, including genes, domains, and intergenic elements, required for the optimal growth of Mycobacterium tuberculosis, a major global health pathogen. We found that several proteins jointly contain both domains required for optimal growth and domains that are dispensable. In addition, many non-coding regions, including regulatory elements and non-coding RNAs, are critical for mycobacterial growth. Our analysis shows that the genetic requirements for growth are more complex than can be appreciated using gene-centric analysis.\"\n",
        "\n",
        "res = translate(query, model='gpt-4o')\n",
        "res.choices[0].message.content"
      ],
      "metadata": {
        "colab": {
          "base_uri": "https://localhost:8080/",
          "height": 143
        },
        "id": "EucajnyNY9Qx",
        "outputId": "b9faa1c0-409e-40e9-fe21-2ac1b7879b08"
      },
      "execution_count": 12,
      "outputs": [
        {
          "output_type": "execute_result",
          "data": {
            "text/plain": [
              "'Identifikacija genetskih elemenata neophodnih za održivost je centralna za naše razumevanje osnovne fiziologije bakterijskih patogena. Nedavno su kombinacija visoko-gustinske mutageneze i dubokog sekvenciranja omogućile identifikaciju neophodnih i uslovno neophodnih gena kod mnogih bakterija. Geni, međutim, čine samo deo kompleksnih genoma važnih bakterijskih patogena. Ovde koristimo nepristrasnu analizu kako bismo sveobuhvatno identifikovali genomske regione, uključujući gene, domene i intergenske elemente, neophodne za optimalan rast Mycobacterium tuberculosis, glavnog globalnog zdravstvenog patogena. Otkrili smo da nekoliko proteina zajednički sadrži i domene potrebne za optimalan rast i domene koji su nepotrebni. Pored toga, mnoge nekodirajuće regije, uključujući regulatorne elemente i nekodirajuće RNK, su kritične za mikobakterijski rast. Naša analiza pokazuje da su genetski zahtevi za rast složeniji nego što se može shvatiti korišćenjem analize usmerene na gene.'"
            ],
            "application/vnd.google.colaboratory.intrinsic+json": {
              "type": "string"
            }
          },
          "metadata": {},
          "execution_count": 12
        }
      ]
    },
    {
      "cell_type": "markdown",
      "source": [],
      "metadata": {
        "id": "5RAw2bUj-FwZ"
      }
    },
    {
      "cell_type": "code",
      "source": [
        "query = \"Neuregulin 1 (NRG1) and its receptor ErbB4 are both susceptibility genes of schizophrenia. However, little is known about the underlying mechanisms of their malfunction. Although ErbB4 is enriched in GABAergic interneurons, the role of NRG1 in excitatory synapse formation in these neurons remains poorly understood. We showed that NRG1 increased both the number and size of PSD-95 puncta and the frequency and amplitude of miniature EPSCs (mEPSCs) in GABAergic interneurons, indicating that NRG1 stimulates the formation of new synapses and strengthens existing synapses. In contrast, NRG1 treatment had no effect on either the number or size of excitatory synapses in glutamatergic neurons, suggesting its synaptogenic effect is specific to GABAergic interneurons. Ecto-ErbB4 treatment diminished both the number and size of excitatory synapses, suggesting that endogenous NRG1 may be critical for basal synapse formation. NRG1 could stimulate the stability of PSD-95 in the manner that requires tyrosine kinase activity of ErbB4. Finally, deletion of ErbB4 in parvalbumin-positive interneurons led to reduced frequency and amplitude of mEPSCs, providing in vivo evidence that ErbB4 is important in excitatory synaptogenesis in interneurons. Together, our findings suggested a novel synaptogenic role of NRG1 in excitatory synapse development, possibly via stabilizing PSD-95, and this effect is specific to GABAergic interneurons. In light of the association of the genes of both NRG1 and ErbB4 with schizophrenia and dysfunction of GABAergic system in this disorder, these results provide insight into its potential pathological mechanism.\"\n",
        "res = translate(query, model='gpt-3.5-turbo')\n",
        "res.choices[0].message.content"
      ],
      "metadata": {
        "colab": {
          "base_uri": "https://localhost:8080/",
          "height": 196
        },
        "id": "GioJStDOaYzF",
        "outputId": "f3f50591-5a37-4f91-fb19-6f2ffcfdc15a"
      },
      "execution_count": 52,
      "outputs": [
        {
          "output_type": "execute_result",
          "data": {
            "text/plain": [
              "'Neuregulin 1 (NRG1) i njegov receptor ErbB4 su oba gena sklonosti šizofreniji. Međutim, malo se zna o osnovnom mehanizmu njihovog neispravnog funkcionisanja. Iako je ErbB4 obilno prisutan u GABAergičkim interneuronima, uloga NRG1 u formiranju egzitatornih sinapsi kod ovih neurona je slabo razumljiva. Pokazali smo da NRG1 povećava broj i veličinu PSD-95 puncta, frekvenciju i amplitudu minijaturnih EPSC-a (mEPSCs) u GABAergičkim interneuronima, što ukazuje da NRG1 stimuliše formiranje novih sinapsi i jačanje postojećih sinapsi. Nasuprot tome, tretman NRG1 nije imao nikakav uticaj na broj ili veličinu egzitatornih sinapsi u glutamatergičkim neuronima, što ukazuje da je njegov sinaptogeni efekat specifičan za GABAergičke interneurone. Tretman Ecto-ErbB4 je smanjio broj i veličinu egzitatornih sinapsi, što ukazuje da endogeni NRG1 može biti ključan za bazalno formiranje sinapsi. NRG1 bi mogao stimulisati stabilnost PSD-95 na način koji zahteva tirozin kinaznu aktivnost ErbB4. Konačno, brisanje ErbB4 kod interneurona parvalbumina pozitivnih dovelo je do smanjenja frekvencije i amplitude mEPSCs, pružajući in vivo dokaze da je ErbB4 važan u egzitatornom sinaptogenezi kod interneurona. Naša otkrića sugerišu novu sinaptogenu ulogu NRG1 u razvoju egzitatornih sinapsi, moguće putem stabilizacije PSD-95, a ovaj efekat je specifičan za GABAergičke interneurone. U svetlu povezanosti gena NRG1 i ErbB4 sa šizofrenijom i disfunkcijom GABAergičkog sistema kod ove bolesti, ovi rezultati pružaju uvid u njen potencijalni patološki mehanizam.'"
            ],
            "application/vnd.google.colaboratory.intrinsic+json": {
              "type": "string"
            }
          },
          "metadata": {},
          "execution_count": 52
        }
      ]
    },
    {
      "cell_type": "code",
      "source": [
        "query = \"Neuregulin 1 (NRG1) and its receptor ErbB4 are both susceptibility genes of schizophrenia. However, little is known about the underlying mechanisms of their malfunction. Although ErbB4 is enriched in GABAergic interneurons, the role of NRG1 in excitatory synapse formation in these neurons remains poorly understood. We showed that NRG1 increased both the number and size of PSD-95 puncta and the frequency and amplitude of miniature EPSCs (mEPSCs) in GABAergic interneurons, indicating that NRG1 stimulates the formation of new synapses and strengthens existing synapses. In contrast, NRG1 treatment had no effect on either the number or size of excitatory synapses in glutamatergic neurons, suggesting its synaptogenic effect is specific to GABAergic interneurons. Ecto-ErbB4 treatment diminished both the number and size of excitatory synapses, suggesting that endogenous NRG1 may be critical for basal synapse formation. NRG1 could stimulate the stability of PSD-95 in the manner that requires tyrosine kinase activity of ErbB4. Finally, deletion of ErbB4 in parvalbumin-positive interneurons led to reduced frequency and amplitude of mEPSCs, providing in vivo evidence that ErbB4 is important in excitatory synaptogenesis in interneurons. Together, our findings suggested a novel synaptogenic role of NRG1 in excitatory synapse development, possibly via stabilizing PSD-95, and this effect is specific to GABAergic interneurons. In light of the association of the genes of both NRG1 and ErbB4 with schizophrenia and dysfunction of GABAergic system in this disorder, these results provide insight into its potential pathological mechanism.\"\n",
        "res = translate(query, model='gpt-4o')\n",
        "res.choices[0].message.content"
      ],
      "metadata": {
        "colab": {
          "base_uri": "https://localhost:8080/",
          "height": 143
        },
        "id": "9_hweOdqagKB",
        "outputId": "c410678a-6503-4b9e-c288-906b165e57b9"
      },
      "execution_count": 14,
      "outputs": [
        {
          "output_type": "execute_result",
          "data": {
            "text/plain": [
              "'Neuregulin 1 (NRG1) i njegov receptor ErbB4 su geni predispozicije za šizofreniju. Međutim, malo se zna o osnovnim mehanizmima njihovog neispravnog rada. Iako je ErbB4 obogaćen u GABAergičkim interneronima, uloga NRG1 u formiranju ekscitatornih sinapsi u ovim neuronima još uvek nije dovoljno shvaćena. Pokazali smo da NRG1 povećava i broj i veličinu PSD-95 punkata, kao i učestalost i amplitudu minijaturnih EPSC-ova (mEPSC-ova) u GABAergičkim interneronima, što ukazuje da NRG1 stimuliše formiranje novih sinapsi i jača postojeće sinapse. Nasuprot tome, tretman NRG1 nije imao efekta na broj ili veličinu ekscitatornih sinapsi u glutamatergičkim neuronima, što sugeriše da je njegov sinaptogeni efekat specifičan za GABAergičke internerone. Tretman Ecto-ErbB4 smanjio je i broj i veličinu ekscitatornih sinapsi, što sugeriše da endogeni NRG1 može biti kritičan za bazalno formiranje sinapsi. NRG1 bi mogao da stimuliše stabilnost PSD-95 na način koji zahteva aktivnost tirozinske kinaze ErbB4. Konačno, delecija ErbB4 u parvalbumin-pozitivnim interneronima dovela je do smanjenja učestalosti i amplitude mEPSC-ova, pružajući in vivo dokaz da je ErbB4 važan u ekscitatornoj sinaptogenezi u interneronima. Zajedno, naši nalazi sugerišu novu sinaptogenu ulogu NRG1 u razvoju ekscitatornih sinapsi, verovatno putem stabilizacije PSD-95, i ovaj efekat je specifičan za GABAergičke internerone. U svetlu povezanosti gena NRG1 i ErbB4 sa šizofrenijom i disfunkcijom GABAergičkog sistema u ovom poremećaju, ovi rezultati pružaju uvid u njegov potencijalni patološki mehanizam.'"
            ],
            "application/vnd.google.colaboratory.intrinsic+json": {
              "type": "string"
            }
          },
          "metadata": {},
          "execution_count": 14
        }
      ]
    },
    {
      "cell_type": "code",
      "source": [
        "query = \"The long non-coding RNA nuclear paraspeckle assembly transcript 1 (NEAT1) was reported to be upregulated and be involved in oncogenic growth and drug resistance in nasopharyngeal carcinoma (NPC). However, the exact roles of NEAT1 and its underlying mechanisms in the drug resistance of NPC remain largely unclear. In this study, the expressions of NEAT1, let-72-5p and Rsf-1 mRNA were detected by reverse transcription-quantitative polymerase chain reaction (RT-qPCR). The effects of NEAT1 and let-72-5p on cell proliferation and cisplatin resistance of NPC cells were investigated by 3-(4,5-dimethylthiazol-2-yl)-2,5-diphenyl tetrazolium bromide (MTT) assay and 5-ethynyl-20-deoxyuridine (EdU) assay. Western blot analysis was performed to detect the protein levels of Rsf-1, Ras, p-Raf1, Raf1, p-MEK1, MEK1, p-ERK1/2 and ERK1/2. Xenograft tumor assay was done to elucidate the role of NEAT1 involved in NPC tumor growth in vivo. We found that NEAT1 was upregulated and let-7a-5p was downregulated in NPC tissues, as well as NPC cell lines. Inhibition of NEAT1 markedly repressed the cisplatin resistance of NPC cells. NEAT1 was demonstrated to interact with let-7a-5p. Besides, a negative correlation between NEAT1 and let-7a-5p expression was observed in NPC tissues. Rsf-1 was confirmed as a target of let-7a-5p. NEAT1 remarkably reversed the inhibitory effect of let-7q-5p on the cisplatin resistance of NPC cells in vitro. Additionally, NEAT1 knockdown inhibited the Ras-MAPK pathway in NPC cells. NEAT1 knockdown suppressed tumor growth in the presence of cisplatin in vivo. Overall, these findings suggest that NEAT1/let-7a-5p axis regulates the cisplatin resistance in NPC by targeting Rsf-1 and modulating the Ras-MAPK signaling pathway.\"\n",
        "res = translate(query,  model='gpt-3.5-turbo')\n",
        "res.choices[0].message.content"
      ],
      "metadata": {
        "colab": {
          "base_uri": "https://localhost:8080/",
          "height": 143
        },
        "id": "5e0cKgADVFRY",
        "outputId": "2316f9db-6930-41ed-8682-1d44b1408c5c"
      },
      "execution_count": 63,
      "outputs": [
        {
          "output_type": "execute_result",
          "data": {
            "text/plain": [
              "'Dugi nekodirajući RNK nuklearni paraspekularni sklopni transkript 1 (NEAT1) je prijavljen da je povećan i da je uključen u onkogeni rast i otpornost na lekove kod karcinoma nosne šupljine (NPC). Međutim, tačne uloge NEAT1 i njeni osnovni mehanizmi u otpornosti na lekove kod NPC-a ostaju uglavnom nejasni. U ovom istraživanju, ekspresije NEAT1, let-72-5p i Rsf-1 mRNA su detektovane reverznom transkripcijom-kvantitativnom polimeraznom lančanom reakcijom (RT-qPCR). Efekti NEAT1 i let-72-5p na proliferaciju ćelija i otpornost na cispaltin NPC ćelija su istraženi metodom 3-(4,5-dimetiltiazol-2-il)-2,5-difeniltetrazolijum bromid (MTT) i metodom 5-etinil-20-dezoksiridin (EdU). Analiza zapadnog blota je izvršena kako bi se detektovali nivoi proteina Rsf-1, Ras, p-Raf1, Raf1, p-MEK1, MEK1, p-ERK1/2 i ERK1/2. Istražen je ksienograftni tumorski test kako bi se razjasnila uloga NEAT1 uključena u rast tumora NPC u vivo. Utvrdili smo da je NEAT1 povećan, a let-7a-5p smanjen u NPC tkivima, kao i NPC ćelijskim linijama. Inhibicija NEAT1 značajno je potisnula otpornost na cispaltin NPC ćelija. Dokazano je da NEAT1 interaguje sa let-7a-5p. Pored toga, negativna korelacija između ekspresije NEAT1 i let-7a-5p je primećena u NPC tkivima. Rsf-1 je potvrđen kao cilj let-7a-5p. NEAT1 je značajno reverzovao inhibicioni efekat let-7q-5p na otpornost na cispaltin NPC ćelija in vitro. Dodatno, suzbijanje NEAT1 inhibiralo je Ras-MAPK putanju u NPC ćelijama. Suzbijanje NEAT1 je suzbilo rast tumora u prisustvu cispaltina in vivo. Uopšteno, ova saznanja sugeriraju da NEAT1/let-7a-5p osovina reguliše otpornost na cispaltin kod NPC-a ciljajući Rsf-1 i modulišući Ras-MAPK signalni put.'"
            ],
            "application/vnd.google.colaboratory.intrinsic+json": {
              "type": "string"
            }
          },
          "metadata": {},
          "execution_count": 63
        }
      ]
    },
    {
      "cell_type": "code",
      "source": [
        "query = \"The long non-coding RNA nuclear paraspeckle assembly transcript 1 (NEAT1) was reported to be upregulated and be involved in oncogenic growth and drug resistance in nasopharyngeal carcinoma (NPC). However, the exact roles of NEAT1 and its underlying mechanisms in the drug resistance of NPC remain largely unclear. In this study, the expressions of NEAT1, let-72-5p and Rsf-1 mRNA were detected by reverse transcription-quantitative polymerase chain reaction (RT-qPCR). The effects of NEAT1 and let-72-5p on cell proliferation and cisplatin resistance of NPC cells were investigated by 3-(4,5-dimethylthiazol-2-yl)-2,5-diphenyl tetrazolium bromide (MTT) assay and 5-ethynyl-20-deoxyuridine (EdU) assay. Western blot analysis was performed to detect the protein levels of Rsf-1, Ras, p-Raf1, Raf1, p-MEK1, MEK1, p-ERK1/2 and ERK1/2. Xenograft tumor assay was done to elucidate the role of NEAT1 involved in NPC tumor growth in vivo. We found that NEAT1 was upregulated and let-7a-5p was downregulated in NPC tissues, as well as NPC cell lines. Inhibition of NEAT1 markedly repressed the cisplatin resistance of NPC cells. NEAT1 was demonstrated to interact with let-7a-5p. Besides, a negative correlation between NEAT1 and let-7a-5p expression was observed in NPC tissues. Rsf-1 was confirmed as a target of let-7a-5p. NEAT1 remarkably reversed the inhibitory effect of let-7q-5p on the cisplatin resistance of NPC cells in vitro. Additionally, NEAT1 knockdown inhibited the Ras-MAPK pathway in NPC cells. NEAT1 knockdown suppressed tumor growth in the presence of cisplatin in vivo. Overall, these findings suggest that NEAT1/let-7a-5p axis regulates the cisplatin resistance in NPC by targeting Rsf-1 and modulating the Ras-MAPK signaling pathway.\"\n",
        "res = translate(query,  model='gpt-4o')\n",
        "res.choices[0].message.content"
      ],
      "metadata": {
        "colab": {
          "base_uri": "https://localhost:8080/",
          "height": 143
        },
        "id": "rMiqGfCcbcAc",
        "outputId": "f14819b5-51ca-48d9-e2dd-9480bb640ad5"
      },
      "execution_count": 15,
      "outputs": [
        {
          "output_type": "execute_result",
          "data": {
            "text/plain": [
              "'Duga nekodirajuća RNA nuklearni paraspeckle assembly transcript 1 (NEAT1) je prijavljena kao upregulisana i uključena u onkogeni rast i otpornost na lekove kod nazofaringealnog karcinoma (NPC). Međutim, tačne uloge NEAT1 i njegovi osnovni mehanizmi u otpornosti na lekove kod NPC ostaju uglavnom nejasni. U ovoj studiji, izrazi NEAT1, let-72-5p i Rsf-1 mRNA su detektovani pomoću reverzne transkripcije-kvantitativne lančane reakcije polimeraze (RT-qPCR). Efekti NEAT1 i let-72-5p na proliferaciju ćelija i otpornost na cisplatin kod NPC ćelija su istraženi pomoću 3-(4,5-dimetiltiazol-2-il)-2,5-difenil tetrazolijum bromida (MTT) testa i 5-etinil-20-deoksiuridina (EdU) testa. Western blot analiza je izvedena da se detektuju nivoi proteina Rsf-1, Ras, p-Raf1, Raf1, p-MEK1, MEK1, p-ERK1/2 i ERK1/2. Xenograft tumor test je urađen da se razjasni uloga NEAT1 u rastu tumora NPC in vivo. Otkrili smo da je NEAT1 upregulisan, a let-7a-5p downregulisan u NPC tkivima, kao i u NPC ćelijskim linijama. Inhibicija NEAT1 je značajno potisnula otpornost NPC ćelija na cisplatin. Pokazano je da NEAT1 interaguje sa let-7a-5p. Pored toga, negativna korelacija između ekspresije NEAT1 i let-7a-5p je primećena u NPC tkivima. Rsf-1 je potvrđen kao meta let-7a-5p. NEAT1 je značajno poništio inhibitorni efekat let-7a-5p na otpornost NPC ćelija na cisplatin in vitro. Dodatno, knockdown NEAT1 je inhibirao Ras-MAPK put u NPC ćelijama. Knockdown NEAT1 je suprimirao rast tumora u prisustvu cisplatina in vivo. Sve u svemu, ovi nalazi sugerišu da NEAT1/let-7a-5p osa reguliše otpornost na cisplatin kod NPC ciljajući Rsf-1 i modulišući Ras-MAPK signalni put.'"
            ],
            "application/vnd.google.colaboratory.intrinsic+json": {
              "type": "string"
            }
          },
          "metadata": {},
          "execution_count": 15
        }
      ]
    },
    {
      "cell_type": "code",
      "source": [
        "query = \"Mexico harbors great cultural and ethnic diversity, yet fine-scale patterns of human genome-wide variation from this region remain largely uncharacterized. We studied genomic variation within Mexico from over 1000 individuals representing 20 indigenous and 11 mestizo populations. We found striking genetic stratification among indigenous populations within Mexico at varying degrees of geographic isolation. Some groups were as differentiated as Europeans are from East Asians. Pre-Columbian genetic substructure is recapitulated in the indigenous ancestry of admixed mestizo individuals across the country. Furthermore, two independently phenotyped cohorts of Mexicans and Mexican Americans showed a significant association between subcontinental ancestry and lung function. Thus, accounting for fine-scale ancestry patterns is critical for medical and population genetic studies within Mexico, in Mexican-descent populations, and likely in many other populations worldwide.\"\n",
        "res = translate(query,  model='gpt-3.5-turbo')\n",
        "res.choices[0].message.content"
      ],
      "metadata": {
        "colab": {
          "base_uri": "https://localhost:8080/",
          "height": 143
        },
        "id": "7bwd4LKW4w9e",
        "outputId": "6b0254b7-32a7-4b67-ff34-69908122fbfe"
      },
      "execution_count": 62,
      "outputs": [
        {
          "output_type": "execute_result",
          "data": {
            "text/plain": [
              "'Meksiko obiluje velikom kulturnom i etničkom raznolikošću, ali detaljni obrasci varijacija ljudskog genoma na ovoj teritoriji uglavnom nisu karakterisani. Pratili smo genomsku varijabilnost unutar Meksika kod preko 1000 jedinki koje predstavljaju 20 autohtonih i 11 mešanih populacija. Otkrili smo značajnu genetsku stratifikaciju među autohtonim populacijama u Meksiku na različitim stepenima geografske izolacije. Neke grupe su bile toliko diferencirane koliko su Evropljani različiti od Istočnih Azijata. Prekolumbovsku genetsku podstrukturu možemo videti u autohtonom nasleđu mešovitih meksičkih jedinki širom zemlje. Štaviše, dve nezavisno fenotipski određene kohorte Meksikanaca i Meksiko-Amerikanaca pokazale su značajnu asocijaciju između podkontinentalnog nasleđa i funkcije pluća. Stoga je bitno uzeti u obzir detaljne obrasce nasleđa za medicinska i populaciona genetička istraživanja unutar Meksika, kod populacija meksičkog porekla, kao i verovatno kod mnogih drugih populacija širom sveta.'"
            ],
            "application/vnd.google.colaboratory.intrinsic+json": {
              "type": "string"
            }
          },
          "metadata": {},
          "execution_count": 62
        }
      ]
    },
    {
      "cell_type": "code",
      "source": [
        "query = \"Mexico harbors great cultural and ethnic diversity, yet fine-scale patterns of human genome-wide variation from this region remain largely uncharacterized. We studied genomic variation within Mexico from over 1000 individuals representing 20 indigenous and 11 mestizo populations. We found striking genetic stratification among indigenous populations within Mexico at varying degrees of geographic isolation. Some groups were as differentiated as Europeans are from East Asians. Pre-Columbian genetic substructure is recapitulated in the indigenous ancestry of admixed mestizo individuals across the country. Furthermore, two independently phenotyped cohorts of Mexicans and Mexican Americans showed a significant association between subcontinental ancestry and lung function. Thus, accounting for fine-scale ancestry patterns is critical for medical and population genetic studies within Mexico, in Mexican-descent populations, and likely in many other populations worldwide.\"\n",
        "res = translate(query,  model='gpt-4o')\n",
        "res.choices[0].message.content"
      ],
      "metadata": {
        "colab": {
          "base_uri": "https://localhost:8080/",
          "height": 143
        },
        "id": "pzYDJy_8crUd",
        "outputId": "be9811e0-6163-4ba2-a548-32931f44cac9"
      },
      "execution_count": 18,
      "outputs": [
        {
          "output_type": "execute_result",
          "data": {
            "text/plain": [
              "'Meksiko poseduje veliku kulturnu i etničku raznolikost, ali obrasci varijacija ljudskog genoma na finom nivou iz ovog regiona ostaju uglavnom nekarakterisani. Proučavali smo genetsku varijaciju unutar Meksika kod preko 1000 osoba koje predstavljaju 20 autohtonih i 11 mestizo populacija. Otkrili smo zapanjujuću genetsku stratifikaciju među autohtonim populacijama unutar Meksika u različitim stepenima geografske izolacije. Neke grupe su bile toliko diferencirane koliko su Evropljani različiti od Istočnih Azijata. Prekolumbijska genetska podstruktura se reprizira u autohtonom poreklu mešovitih mestizo osoba širom zemlje. Štaviše, dve nezavisno fenotipizirane kohorte Meksikanaca i Meksikano-Amerikanaca pokazale su značajnu povezanost između supkontinentalnog porekla i funkcije pluća. Dakle, uzimanje u obzir obrazaca porekla na finom nivou je kritično za medicinske i genetske studije populacija unutar Meksika, u populacijama meksičkog porekla, i verovatno u mnogim drugim populacijama širom sveta.'"
            ],
            "application/vnd.google.colaboratory.intrinsic+json": {
              "type": "string"
            }
          },
          "metadata": {},
          "execution_count": 18
        }
      ]
    },
    {
      "cell_type": "code",
      "source": [
        "query = (\n",
        "    \"A human placental soluble \\\"high Km\\\" 5'-nucleotidase has been separated from \\\"low Km\\\" 5'-nucleotidase and nonspecific \"\n",
        "    \"phosphatase by AMP-Sepharose affinity chromatography. The enzyme was purified 8000-fold to a specific activity of 25.6 mumol/min/mg. \"\n",
        "    \"The subunit molecular mass is 53 kDa, and the native molecular mass is 210 kDa, suggesting a tetrameric structure. Soluble high Km 5'-nucleotidase \"\n",
        "    \"is most active with IMP and GMP and their deoxy derivatives. IMP is hydrolyzed 15 times faster than AMP. The enzyme has a virtually absolute requirement \"\n",
        "    \"for magnesium ions and is regulated by them. Purine nucleoside 5'-triphosphates strongly activate the enzyme with the potency order dATP greater than ATP \"\n",
        "    \"greater than GTP. 2,3-Diphosphoglycerate activates the enzyme as potently as ATP. Three millimolar ATP decreased the Km for IMP from 0.33 to 0.09 mM and \"\n",
        "    \"increased the Vmax 12-fold. ATP activation was modified by the IMP concentration. At 20 microM IMP the ATP-dependent activation curve was sigmoidal, \"\n",
        "    \"while at 2 mM IMP it was hyperbolic. The A0.5 values for ATP were 2.26 and 0.70 mM, and the relative maximal velocities were 32.9 and 126.0 nmol/min, \"\n",
        "    \"respectively. Inorganic phosphate shifts the hyperbolic substrate velocity relationship for IMP to a sigmoidal one. With physiological concentrations of \"\n",
        "    \"cofactors (3 mM ATP, 1-4 mM Pi, 150 mM KCl) at pH 7.4, the enzyme is 25-35 times more active toward 100 microM IMP than 100 microM AMP. These data show \"\n",
        "    \"that: (a) soluble human placental high Km 5'-nucleotidase coexists in human placenta with the low Km enzyme; (b) under physiological conditions the enzyme \"\n",
        "    \"favors the hydrolysis of IMP and is critically regulated by IMP, ATP, and Pi levels; and (c) kinetic properties of ATP and IMP are each modified by the other \"\n",
        "    \"compound suggesting complex interaction of the associated binding sites.\"\n",
        ")\n",
        "res = translate(query,  model='gpt-3.5-turbo')\n",
        "res.choices[0].message.content"
      ],
      "metadata": {
        "colab": {
          "base_uri": "https://localhost:8080/",
          "height": 214
        },
        "id": "NVW8VOXqCi93",
        "outputId": "69414f1f-7e2b-423b-fed6-a3e1299738ae"
      },
      "execution_count": 70,
      "outputs": [
        {
          "output_type": "execute_result",
          "data": {
            "text/plain": [
              "'Rastvorni \"high Km\" 5\\'-nukleotidaza posteljice čoveka je odvojena od \"low Km\" 5\\'-nukleotidaze i nespecifične fosfataze pomoću AMP-Sepharose afinitetne hromatografije. Enzim je pročišćen 8000 puta do specifične aktivnosti od 25.6 mumol/min/mg. Molekulska masa podjedinice je 53 kDa, a molekulska masa u prirodnom stanju je 210 kDa, što sugerira tetramernu strukturu. Rastvorna visoka Km 5\\'-nukleotidaza je najaktivnija sa IMP i GMP i njihovim dezoksi derivatima. IMP se hidrolizuje 15 puta brže od AMP. Enzim ima skoro apsolutnu potrebu za jonskim magnezijumom i regulisan je od strane njih. Purinske nukleozid 5\\'-trifosfati snažno aktiviraju enzim sa redosledom efikasnosti dATP veće od ATP veće od GTP. 2,3-Difosfoglicerat aktivira enzim jednako snažno kao ATP. Tri milimola ATP smanjuju Km za IMP sa 0.33 na 0.09 mM i povećavaju Vmax 12 puta. Aktivacija ATP-om je modifikovana koncentracijom IMP-a. Na 20 mikromola IMP-a, kriva zavisnosti od ATP-a je sigmoidna, dok je na 2 mM IMP-a hiperbolična. A0.5 vrednosti za ATP su 2.26 i 0.70 mM, a relativne maksimalne brzine su 32.9 i 126.0 nmol/min, redom. Anorganski fosfat pomera hiperbolični odnos brzine supstrata za IMP u sigmoidni. Sa fiziološkim koncentracijama koenzima (3 mM ATP, 1-4 mM Pi, 150 mM KCl) na pH 7.4, enzim je 25-35 puta aktivniji prema 100 mikromola IMP-a nego prema 100 mikromola AMP-a. Ovi podaci pokazuju da: (a) rastvorna visoka Km 5\\'-nukleotidaza posteljice čoveka koegzistira u ljudskoj posteljici sa enzimom niske Km; (b) pod fiziološkim uslovima, enzim favorizuje hidrolizu IMP-a i kritično je regulisan od strane IMP-a, ATP-a i Pi nivoa; i (c) kinetičke osobine ATP-a i IMP-a su modifikovane od strane drugog jedinjenja, sugerišući kompleksnu interakciju povezanih vezivnih mesta.'"
            ],
            "application/vnd.google.colaboratory.intrinsic+json": {
              "type": "string"
            }
          },
          "metadata": {},
          "execution_count": 70
        }
      ]
    },
    {
      "cell_type": "code",
      "source": [
        "query = (\n",
        "    \"A human placental soluble \\\"high Km\\\" 5'-nucleotidase has been separated from \\\"low Km\\\" 5'-nucleotidase and nonspecific \"\n",
        "    \"phosphatase by AMP-Sepharose affinity chromatography. The enzyme was purified 8000-fold to a specific activity of 25.6 mumol/min/mg. \"\n",
        "    \"The subunit molecular mass is 53 kDa, and the native molecular mass is 210 kDa, suggesting a tetrameric structure. Soluble high Km 5'-nucleotidase \"\n",
        "    \"is most active with IMP and GMP and their deoxy derivatives. IMP is hydrolyzed 15 times faster than AMP. The enzyme has a virtually absolute requirement \"\n",
        "    \"for magnesium ions and is regulated by them. Purine nucleoside 5'-triphosphates strongly activate the enzyme with the potency order dATP greater than ATP \"\n",
        "    \"greater than GTP. 2,3-Diphosphoglycerate activates the enzyme as potently as ATP. Three millimolar ATP decreased the Km for IMP from 0.33 to 0.09 mM and \"\n",
        "    \"increased the Vmax 12-fold. ATP activation was modified by the IMP concentration. At 20 microM IMP the ATP-dependent activation curve was sigmoidal, \"\n",
        "    \"while at 2 mM IMP it was hyperbolic. The A0.5 values for ATP were 2.26 and 0.70 mM, and the relative maximal velocities were 32.9 and 126.0 nmol/min, \"\n",
        "    \"respectively. Inorganic phosphate shifts the hyperbolic substrate velocity relationship for IMP to a sigmoidal one. With physiological concentrations of \"\n",
        "    \"cofactors (3 mM ATP, 1-4 mM Pi, 150 mM KCl) at pH 7.4, the enzyme is 25-35 times more active toward 100 microM IMP than 100 microM AMP. These data show \"\n",
        "    \"that: (a) soluble human placental high Km 5'-nucleotidase coexists in human placenta with the low Km enzyme; (b) under physiological conditions the enzyme \"\n",
        "    \"favors the hydrolysis of IMP and is critically regulated by IMP, ATP, and Pi levels; and (c) kinetic properties of ATP and IMP are each modified by the other \"\n",
        "    \"compound suggesting complex interaction of the associated binding sites.\"\n",
        ")\n",
        "res = translate(query,  model='gpt-4o')\n",
        "res.choices[0].message.content"
      ],
      "metadata": {
        "colab": {
          "base_uri": "https://localhost:8080/",
          "height": 143
        },
        "id": "ZeXxvAnKez_q",
        "outputId": "35d46aed-bff5-4867-ddaa-af39ff290ef5"
      },
      "execution_count": 19,
      "outputs": [
        {
          "output_type": "execute_result",
          "data": {
            "text/plain": [
              "'Topiva ljudska placentna rastvorljiva \"visokog Km\" 5\\'-nukleotidaza je odvojena od \"niskog Km\" 5\\'-nukleotidaze i nespecifične fosfataze pomoću AMP-Sepharose afinitetne hromatografije. Enzim je pročišćen 8000 puta do specifične aktivnosti od 25,6 mumol/min/mg. Molekulska masa podjedinica je 53 kDa, a nativna molekulska masa je 210 kDa, što sugeriše tetramernu strukturu. Rastvorljiva visokog Km 5\\'-nukleotidaza je najaktivnija sa IMP i GMP i njihovim deoksi derivatima. IMP se hidrolizuje 15 puta brže od AMP. Enzim ima gotovo apsolutnu potrebu za magnezijumovim jonima i reguliše se njima. Purinski nukleozid 5\\'-trifosfati snažno aktiviraju enzim sa sledećim redosledom potencije: dATP veći od ATP veći od GTP. 2,3-Difosfoglicerat aktivira enzim jednako snažno kao ATP. Tri milimolara ATP smanjuje Km za IMP sa 0,33 na 0,09 mM i povećava Vmax 12 puta. Aktivacija ATP-a je modifikovana koncentracijom IMP. Na 20 mikroM IMP, ATP-zavisna kriva aktivacije je sigmoidna, dok je na 2 mM IMP hiperbolična. A0.5 vrednosti za ATP su 2,26 i 0,70 mM, a relativne maksimalne brzine su 32,9 i 126,0 nmol/min, respektivno. Neorganski fosfat prebacuje hiperboličnu zavisnost brzine supstrata za IMP u sigmoidnu. Sa fiziološkim koncentracijama kofaktora (3 mM ATP, 1-4 mM Pi, 150 mM KCl) na pH 7,4, enzim je 25-35 puta aktivniji prema 100 mikroM IMP nego prema 100 mikroM AMP. Ovi podaci pokazuju da: (a) rastvorljiva ljudska placentna visokog Km 5\\'-nukleotidaza koegzistira u ljudskoj placenti sa enzimom niskog Km; (b) pod fiziološkim uslovima enzim favorizuje hidrolizu IMP i kritično se reguliše nivoima IMP, ATP i Pi; i (c) kinetička svojstva ATP-a i IMP-a su međusobno modifikovana, što sugeriše složenu interakciju povezanih vezivnih mesta.'"
            ],
            "application/vnd.google.colaboratory.intrinsic+json": {
              "type": "string"
            }
          },
          "metadata": {},
          "execution_count": 19
        }
      ]
    },
    {
      "cell_type": "code",
      "source": [
        "query = (\n",
        "    \"UNLABELLED MesoRD is a tool for stochastic simulation of chemical reactions and diffusion. \"\n",
        "    \"In particular, it is an implementation of the next subvolume method, which is an exact method to simulate the Markov process corresponding to the reaction-diffusion master equation. \"\n",
        "    \"AVAILABILITY MesoRD is free software, written in C++ and licensed under the GNU general public license (GPL). \"\n",
        "    \"MesoRD runs on Linux, Mac OS X, NetBSD, Solaris and Windows XP. It can be downloaded from http://mesord.sourceforge.net. \"\n",
        "    \"CONTACT johan.elf@icm.uu.se; johan.hattne@embl-hamburg.de \"\n",
        "    \"SUPPLEMENTARY INFORMATION 'MesoRD User's Guide' and other documents are available at http://mesord.sourceforge.net.\"\n",
        ")\n",
        "res = translate(query,  model='gpt-3.5-turbo')\n",
        "res.choices[0].message.content"
      ],
      "metadata": {
        "colab": {
          "base_uri": "https://localhost:8080/",
          "height": 107
        },
        "id": "Z4XYY7cQoDRR",
        "outputId": "8915b1eb-3a60-417c-d774-f7d577528af4"
      },
      "execution_count": 10,
      "outputs": [
        {
          "output_type": "execute_result",
          "data": {
            "text/plain": [
              "\"NEOZNAČENI MesoRD je alat za stohastičku simulaciju hemijskih reakcija i difuzije. Konkretno, to je implementacija metode sledeće subvolumena, koja je tačna metoda za simulaciju Markovljevog procesa koji odgovara reakcioni-difuzionoj master jednačini. DOSTUPNOST MesoRD je besplatan softver napisan u C++ programskom jeziku i licenciran pod GNU opštom javnom licencom (GPL). MesoRD radi na Linuxu, Mac OS X-u, NetBSD-u, Solarisu i Windows XP-u. Može se preuzeti sa http://mesord.sourceforge.net. KONTAKT johan.elf@icm.uu.se; johan.hattne@embl-hamburg.de DODATNE INFORMACIJE 'MesoRD Vodič za korisnike' i drugi dokumenti su dostupni na http://mesord.sourceforge.net.\""
            ],
            "application/vnd.google.colaboratory.intrinsic+json": {
              "type": "string"
            }
          },
          "metadata": {},
          "execution_count": 10
        }
      ]
    },
    {
      "cell_type": "code",
      "source": [
        "query = (\n",
        "    \"UNLABELLED MesoRD is a tool for stochastic simulation of chemical reactions and diffusion. \"\n",
        "    \"In particular, it is an implementation of the next subvolume method, which is an exact method to simulate the Markov process corresponding to the reaction-diffusion master equation. \"\n",
        "    \"AVAILABILITY MesoRD is free software, written in C++ and licensed under the GNU general public license (GPL). \"\n",
        "    \"MesoRD runs on Linux, Mac OS X, NetBSD, Solaris and Windows XP. It can be downloaded from http://mesord.sourceforge.net. \"\n",
        "    \"CONTACT johan.elf@icm.uu.se; johan.hattne@embl-hamburg.de \"\n",
        "    \"SUPPLEMENTARY INFORMATION 'MesoRD User's Guide' and other documents are available at http://mesord.sourceforge.net.\"\n",
        ")\n",
        "res = translate(query,  model='gpt-4o')\n",
        "res.choices[0].message.content"
      ],
      "metadata": {
        "colab": {
          "base_uri": "https://localhost:8080/",
          "height": 107
        },
        "id": "R1G_9CfflNGR",
        "outputId": "b819df75-0a22-4938-f51e-045133be73fe"
      },
      "execution_count": 35,
      "outputs": [
        {
          "output_type": "execute_result",
          "data": {
            "text/plain": [
              "\"NEOZNAČENO MesoRD je alat za stohastičku simulaciju hemijskih reakcija i difuzije. Konkretno, to je implementacija metode sledećeg podzapreminskog pristupa, koja je tačna metoda za simulaciju Markovljevog procesa koji odgovara glavnoj jednačini reakcije-difuzije. DOSTUPNOST MesoRD je besplatan softver, napisan u C++ i licenciran pod GNU opštom javnom licencom (GPL). MesoRD radi na Linux-u, Mac OS X, NetBSD, Solaris-u i Windows XP-u. Može se preuzeti sa http://mesord.sourceforge.net. KONTAKT johan.elf@icm.uu.se; johan.hattne@embl-hamburg.de DODATNE INFORMACIJE 'MesoRD Korisnički vodič' i drugi dokumenti dostupni su na http://mesord.sourceforge.net.\""
            ],
            "application/vnd.google.colaboratory.intrinsic+json": {
              "type": "string"
            }
          },
          "metadata": {},
          "execution_count": 35
        }
      ]
    },
    {
      "cell_type": "code",
      "source": [
        "query = \"BACKGROUND Epidemiologic analysis of family data on blood pressure (BP) is often compromised by the effects of antihypertensive medications. A review of numerous clinical trials that investigated the effects of BP-lowering medications is summarized here. METHODS Published clinical trials, including 137 clinical trials with monodrug therapies and 28 clinical trials of combination drug therapies with a total of 11,739 participants, were reviewed from PubMed. Six major classes/groups of antihypertensive medications were categorized by ethnicity, including angiotensin-converting enzyme (ACE) inhibitors, alpha1-blockers, cardioselective beta-blockers (beta1-blockers), calcium channel blockers, thiazide and thiazide-like diuretics, and loop diuretics. RESULTS Using sitting or supine BP, for ethnic groups combined, monodrug therapy with ACE inhibitors showed a weighted average effect of lowering the systolic and diastolic BP by 12.5/9.5 mm Hg; alpha1-blockers by 15.5/11.7 mm Hg; beta1-blockers by 14.8/12.2 mm Hg; calcium channel blockers by 15.3/10.5 mm Hg; thiazide diuretics by 15.3/9.8 mm Hg; and loop diuretics by 15.8/8.2 mm Hg. However, ACE inhibitors, alpha1-blockers, and beta1-blockers were less effective in African Americans than in non-African Americans, whereas calcium channel blockers, thiazide diuretics, and loop diuretics were more effective in African Americans than in non-African Americans. For two-drug combination therapy with ethnic groups combined, the BP-lowering effect of the second medication, when compared to its effect as monodrug therapy, was 84% and 65% for systolic and diastolic BP, respectively. CONCLUSIONS The BP-lowering effects reported here may be used to impute the pretreatment BP levels, which can improve the information content and hence the power of epidemiologic analysis in studies where use of antihypertensive medications is a confounding factor in the BP measurements.\"\n",
        "res = translate(query,  model='gpt-4o')\n",
        "res.choices[0].message.content"
      ],
      "metadata": {
        "colab": {
          "base_uri": "https://localhost:8080/",
          "height": 232
        },
        "id": "jyUqdDNOsqjP",
        "outputId": "49c3f708-4bf7-48b2-e149-9e70f9f4897e"
      },
      "execution_count": 24,
      "outputs": [
        {
          "output_type": "execute_result",
          "data": {
            "text/plain": [
              "'POZADINA Epidemiološka analiza porodičnih podataka o krvnom pritisku (KP) često je ugrožena efektima antihipertenzivnih lekova. Pregled brojnih kliničkih ispitivanja koja su istraživala efekte lekova za snižavanje KP je ovde sažet. METODE Pregledana su objavljena klinička ispitivanja, uključujući 137 kliničkih ispitivanja sa monoterapijama i 28 kliničkih ispitivanja kombinovanih terapija sa ukupno 11,739 učesnika, iz PubMed-a. Šest glavnih klasa/grupa antihipertenzivnih lekova svrstano je prema etničkoj pripadnosti, uključujući inhibitore enzima koji konvertuje angiotenzin (ACE), alfa1-blokatore, kardioselektivne beta-blokatore (beta1-blokatore), blokatore kalcijumskih kanala, tiazidne i tiazidima slične diuretike, i diuretike Henleove petlje. REZULTATI Koristeći sedeći ili ležeći KP, za kombinovane etničke grupe, monoterapija sa ACE inhibitorima pokazala je ponderisani prosečan efekat snižavanja sistolnog i dijastolnog KP za 12.5/9.5 mm Hg; alfa1-blokatori za 15.5/11.7 mm Hg; beta1-blokatori za 14.8/12.2 mm Hg; blokatori kalcijumskih kanala za 15.3/10.5 mm Hg; tiazidni diuretici za 15.3/9.8 mm Hg; i diuretici Henleove petlje za 15.8/8.2 mm Hg. Međutim, ACE inhibitori, alfa1-blokatori i beta1-blokatori su bili manje efikasni kod Afroamerikanaca nego kod ne-Afroamerikanaca, dok su blokatori kalcijumskih kanala, tiazidni diuretici i diuretici Henleove petlje bili efikasniji kod Afroamerikanaca nego kod ne-Afroamerikanaca. Za kombinovanu terapiju sa dva leka kod kombinovanih etničkih grupa, efekat snižavanja KP kod drugog leka, u poređenju sa njegovim efektom kao monoterapije, bio je 84% i 65% za sistolni i dijastolni KP, respektivno. ZAKLJUČCI Efekti snižavanja KP navedeni ovde mogu se koristiti za imputaciju nivoa KP pre tretmana, što može poboljšati sadržaj informacija i time snagu epidemiološke analize u studijama gde je upotreba antihipertenzivnih lekova zbunjujući faktor u merenjima KP.'"
            ],
            "application/vnd.google.colaboratory.intrinsic+json": {
              "type": "string"
            }
          },
          "metadata": {},
          "execution_count": 24
        }
      ]
    },
    {
      "cell_type": "code",
      "source": [
        "query = \"The Set1-containing complex COMPASS, which is the yeast homolog of the human MLL complex, is required for mono-, di-, and trimethylation of lysine 4 of histone H3. We have performed a comparative global proteomic screen to better define the role of COMPASS in histone trimethylation. We report that both Cps60 and Cps40 components of COMPASS are required for proper histone H3 trimethylation, but not for proper regulation of telomere-associated gene silencing. Purified COMPASS lacking Cps60 can mono- and dimethylate but is not capable of trimethylating H3(K4). Chromatin immunoprecipitation (ChIP) studies indicate that the loss subunits of COMPASS required for histone trimethylation do not affect the localization of Set1 to chromatin for the genes tested. Collectively, our results suggest a molecular requirement for several components of COMPASS for proper histone H3 trimethylation and regulation of telomere-associated gene expression, indicating multiple roles for different forms of histone methylation by COMPASS.\"\n",
        "res = translate(query,  model='gpt-4o')\n",
        "res.choices[0].message.content"
      ],
      "metadata": {
        "colab": {
          "base_uri": "https://localhost:8080/",
          "height": 143
        },
        "id": "sv7xxuwdisRv",
        "outputId": "047e74c1-c056-4c9c-cf33-6299628e57e1"
      },
      "execution_count": 25,
      "outputs": [
        {
          "output_type": "execute_result",
          "data": {
            "text/plain": [
              "'Kompleks COMPASS koji sadrži Set1, a koji je kvasčev homolog ljudskog MLL kompleksa, potreban je za mono-, di- i trimetilaciju lizina 4 histona H3. Izvršili smo komparativni globalni proteomski skrining kako bismo bolje definisali ulogu kompleksa COMPASS u trimetilaciji histona. Izveštavamo da su i komponente Cps60 i Cps40 kompleksa COMPASS potrebne za pravilnu trimetilaciju histona H3, ali ne i za pravilnu regulaciju ćutanja gena povezanih sa telomerima. Pročišćeni kompleks COMPASS koji nedostaje Cps60 može vršiti mono- i dimetilaciju, ali nije sposoban za trimetilaciju H3(K4). Studije imunoprecipitacije hromatina (ChIP) ukazuju na to da gubitak podjedinica kompleksa COMPASS koje su potrebne za trimetilaciju histona ne utiče na lokalizaciju Set1 na hromatin za testirane gene. Zajedno, naši rezultati sugerišu molekularnu potrebu za nekoliko komponenti kompleksa COMPASS za pravilnu trimetilaciju histona H3 i regulaciju ekspresije gena povezanih sa telomerima, ukazujući na višestruke uloge različitih oblika metilacije histona od strane kompleksa COMPASS.'"
            ],
            "application/vnd.google.colaboratory.intrinsic+json": {
              "type": "string"
            }
          },
          "metadata": {},
          "execution_count": 25
        }
      ]
    },
    {
      "cell_type": "code",
      "source": [
        "query = \"We report a simple method, using p53 suppression and nontransforming L-Myc, to generate human induced pluripotent stem cells (iPSCs) with episomal plasmid vectors. We generated human iPSCs from multiple donors, including two putative human leukocyte antigen (HLA)-homozygous donors who match ∼20% of the Japanese population at major HLA loci; most iPSCs are integrated transgene-free. This method may provide iPSCs suitable for autologous and allologous stem-cell therapy in the future.\"\n",
        "res = translate(query,  model='gpt-4o')\n",
        "res.choices[0].message.content"
      ],
      "metadata": {
        "colab": {
          "base_uri": "https://localhost:8080/",
          "height": 89
        },
        "id": "00HbxY-GjGF4",
        "outputId": "382955c5-d11f-4313-e8c0-e9bb82c52560"
      },
      "execution_count": 26,
      "outputs": [
        {
          "output_type": "execute_result",
          "data": {
            "text/plain": [
              "'Izveštavamo o jednostavnom metodu, koristeći supresiju p53 i netransformišući L-Myc, za generisanje ljudskih indukovanih pluripotentnih matičnih ćelija (iPSCs) sa epizomalnim plazmidnim vektorima. Generisali smo ljudske iPSCs od više donora, uključujući dva pretpostavljena donora homozigotna za ljudski leukocitni antigen (HLA), koji odgovaraju ∼20% japanske populacije na glavnim HLA lokusima; većina iPSCs su bez integrisanih transgena. Ovaj metod može obezbediti iPSCs pogodne za autologne i alologne terapije matičnim ćelijama u budućnosti.'"
            ],
            "application/vnd.google.colaboratory.intrinsic+json": {
              "type": "string"
            }
          },
          "metadata": {},
          "execution_count": 26
        }
      ]
    },
    {
      "cell_type": "code",
      "source": [
        "query = \"Imunološko pamćenje je ključna karakteristika adaptivnog imuniteta i važan cilj strategija vakcinacije. Ovde ističemo napredak u razumevanju različitih podgrupa T limfocita koji pružaju akutnu i dugoročnu zaštitu od infekcije. Ovo uključuje nove uvide u transkripcione faktore, kao i gornje 'pionirske' faktore koji regulišu njihovu dostupnost ključnim mestima regulacije gena, kao i metaboličke regulatore koji doprinose diferencijaciji efektora i podgrupa memorije; ontogeneza i definisanje karakteristika limfocita rezidentne memorije; i poreklo izuzetne heterogenosti koju pokazuju aktivirane T ćelije. Zajedno, ovi nalazi naglašavaju napredak u razjašnjavanju osnovnih puteva koji kontrolišu diverzifikaciju u T ćelijskim odgovorima, ali takođe otkrivaju praznine u znanju, kao i izazove koji nastaju pri primeni ovog znanja za racionalno izazivanje željenih T ćelijskih odgovora kroz vakcinaciju i imunoterapiju.\"\n",
        "res = translate(query,  model='gpt-4o')\n",
        "res.choices[0].message.content"
      ],
      "metadata": {
        "colab": {
          "base_uri": "https://localhost:8080/",
          "height": 143
        },
        "id": "oqYWm1FHkJsC",
        "outputId": "47f21bc2-e2a2-4274-ed89-d149312ad52d"
      },
      "execution_count": 32,
      "outputs": [
        {
          "output_type": "execute_result",
          "data": {
            "text/plain": [
              "\"Imunološko pamćenje je ključna karakteristika adaptivnog imuniteta i važan cilj strategija vakcinacije. Ovde ističemo napredak u razumevanju različitih podgrupa T limfocita koji pružaju akutnu i dugoročnu zaštitu od infekcije. Ovo uključuje nove uvide u transkripcione faktore, kao i gornje 'pionirske' faktore koji regulišu njihovu dostupnost ključnim mestima regulacije gena, kao i metaboličke regulatore koji doprinose diferencijaciji efektora i podgrupa memorije; ontogenezu i definisanje karakteristika limfocita rezidentne memorije; i poreklo izuzetne heterogenosti koju pokazuju aktivirane T ćelije. Zajedno, ovi nalazi naglašavaju napredak u razjašnjavanju osnovnih puteva koji kontrolišu diverzifikaciju u T ćelijskim odgovorima, ali takođe otkrivaju praznine u znanju, kao i izazove koji nastaju pri primeni ovog znanja za racionalno izazivanje željenih T ćelijskih odgovora kroz vakcinaciju i imunoterapiju.\\n\\n*** ISSUES ***\\nNema problema u skladu sa navedenim smernicama.\""
            ],
            "application/vnd.google.colaboratory.intrinsic+json": {
              "type": "string"
            }
          },
          "metadata": {},
          "execution_count": 32
        }
      ]
    }
  ]
}