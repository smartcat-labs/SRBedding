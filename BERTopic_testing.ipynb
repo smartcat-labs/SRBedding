{
 "cells": [
  {
   "cell_type": "code",
   "execution_count": 1,
   "metadata": {},
   "outputs": [],
   "source": [
    "from datasets import load_dataset\n",
    "dataset = load_dataset(\"jerteh/SrpKorNews\")"
   ]
  },
  {
   "cell_type": "code",
   "execution_count": 2,
   "metadata": {},
   "outputs": [
    {
     "name": "stdout",
     "output_type": "stream",
     "text": [
      "<s>Mečka na usijanom limenom krovu</s><s>Piše: Dušan Vidaković Kada je austrijski konzul u Nici Emil Jelinek 1901. naručio od nemačkog Dajmlera, odjednom, čak 36 automobila, čija je ukupna cena premašila fantastičnih 550 hiljada zlatnih maraka, imao je samo jedan uslov: da sva ta kola nose ime njegove ćerke.</s><s>Ljudi iz kanstatske firme, naravno, nisu imali ništa protiv, a istorija automobilizma je imala sreću da je Jelinekovoj mezimici kum dao (pogotovo za Špance) vrlo graciozno ime - Mercedes, što na jeziku konkvistadora znaci ljupkost, umilnost, prijatnost.</s><s>Jelinekova porudžbina značila prekretnicu u poslovanju Dajmlera, a naziv Mercedes je preživeo i fuziju sa fabrikom Karla Benca, 1926. godine, održavši se do danas kao sinonim za kvalitetne, luksuzne i, nadasve, bezbedne automobile svojstvenih vozačima koji ne kriju brige u novčaniku.</s><s>Međutim, upravo legenda o blistavosti trokrake zvezde doživljava ovih dana ozbiljnu proveru zahvaljujući mercedesu A klase.</s><s>A sve je, ustvari, počelo kada je tim vrhunskih stručnjaka, pod rukovodstvom Haralda Leskea, još početkom osamdesetih, krenuo u stvaranje generacija jednozapreminskih kombi-limuzina za potrebe štutgartskog koncerna iz Mercedesstrase.</s><s>Tako je 1982. godine promovisano koncept-vozilo NAFA, dugačko dva i po metra i namenjeno prevozu roba na manjim distancama i u urbanoj gužvi; na bazi toga će, 1999. godine, početi proizvodnja automobilčića smart u saradnji sa fabrikom satova Svoč.</s><s>Potom je, celu deceniju kasnije, na auto-salonu u Detroitu skinut veo tajne i sa projekta F-100, mini-vena sa solarnom baterijom ugrađenom u krov i fenomenalnim koeficijentom otpora vazduha (ć=0,20), koji bi trebao da parira automobilima kakvi su reno espas, tojota previja ili 'pontijak transport.</s><s>Konačno, na frankfurtskom sajmu, u jesen 1993, predstavljen je i prototip vižn A, što je izazvalo nevericu jer je nagovestilo skori Mercedesov silazak u srednji (konfekcijski) tržišni segment, diktiran recesijom.</s><s>Ne obazirući se na skeptičnost četvorotaktne planete, Mercedes je prošle jeseni vižn A proizveo u svoju A klasu i gurnuo ga na tržište sa dva benzinska motora od 1,4 (82KS) i 1,6 (102KS) litara i parom turbo-dizela od 1700 kubika, ali sa različitom snagom - 60 i 90 'konja.</s><s>Najveću sablazan tom prilikom proizvele su patuljaste dimenzije klase A: sa tri i po metra dužine novi merdža je, na primer, 33 santimetra kraći od stojadina.</s><s>Kako je i red, volana malog automobila najpre su se prihvatili specijalizovani poslenici sedme sile.</s><s>Njih 1.500 je, tokom dva godišnja doba promotivnih vožnji, prevalilo pola miliona kilometara klasom A bez ikakvih problema i zakeranja, i kada se činilo da ce najnoviji mercedes stići pred kupce sa odličnim preporukama, dogodila se vlažna pista jednog švedskog aerodroma.</s><s>Drugim recima: znameniti loštest.</s><s>Pri punom opterećenju i brzini od 65 km/h vozilo je, trebalo da pređe iz desne u levu kolovoznu traku i da se vrati natrag, da bi eskiviralo zamišljenog severnog jelena koji je 'iznikao na putu.</s><s>Takav manevar A klasa nije izdržala: mercedes se obrnuo na krov, a novinari koji su bili u njemu - u bolnici.</s><s>Treba li naglašavati: Šveđani kao autori ovog testa i glavnih Mercedesovih konkurenata - Saaba i Volvoa - posebno su insistirali na nestabilnosti najnovijeg virtemberskog pulena.</s><s>Da smola bude potpuna, sve se to dogodilo nedugo pošto je najprestižniji model, mercedes 600, opremljen svim mogućim čudesima pasivne bezbednosti, nije uspeo da spase princezu Dajanu posle bliskog susreta sa jednim pariskim betonskim stubom.</s><s>Nemajući kud, Mercedes je pravdanje započeo pričom da su gume na A klasi (175/65 R 15) imale odveć slabu koncentraciju nadražujućih sastojaka, pa je kod naglog usporavanja, došlo do distribucije opterećenja sa pneumatika na sistem vešanja uz iznenadno ubrzavanje točkova.</s><s>Ipak, uskoro je Jirgen Hubert iz Mercedesovog Upravnog odbora podvio rep dozvolivši mogućnost da se mala mečka našla sa točkovima u vazduhu zbog mehaničke mane.</s><s>Zato je u pomoć pozvan Elektronski stabilizacioni program (ESP) po prvi put instaliran, pre tri godine, u mercedesima elitnog ranga.</s><s>Ovde je, u stvari, reč o senzorima, primenjenim u formuli 1, koji korespondiraju sa sistemima protiv blokiranja kočnica i proklizavanja.</s><s>Tako ESP iskljućuje mogućnost vozačevog previda pri korišćenju papučice gasa ili kočnice.</s><s>Ova spravica košta oko 5.000 DEM i, blagodareći lošu, ni krivi ni dužni, za džabe su je dobili vlasnici i najmanjeg mercedesa, ali je, bogme, tek uz njen angažman i klasa A uspela da zaobiđe severnog jelena.</s><s>A da se ne bi provukla jos kakva neprijatnost, mercedesovci su pribegli i dopunskim starovremenskim trikovima za uravnoteženje automobila: ugrađeni su tvrdi amortizeri i spojleri, skoljka je primaknuta tlu za 13 (napred), odnosno 10 milimetara (nazad), dok je razmak između točkova povećan za 1 na prednjoj i 12 milimetara na zadnjoj osovini.</s><s>Već pominjani pneumatici su zamenjeni novim, dimenzija 195/50 R 15.</s><s>Konačno, u akciju obnove poverenja u (tradicionalnu?) germansku stabilnost uključen je i austrijski avioprevoznik Niki Lauda, trostruki šampion formule 1, ali su, za svaku sigurnost, superuspešna testiranja mercedesa A podržanog ESP-om obavljena su u mediteranskoj atmosferi staze Katalunja kraj Barselone, gde losovi retko zalaze.</s><s>Posle ovako mučne epizode, kao da su u drugi plan potisnute sve novotarije malog mercedesa: automatsko kvačilo za manuelni menjač, neverovatno lak (70kg) mehanizam transmisije kod automatika ili ASSYST uređaj koji vozača podseća da je trenutak za redovni servis.</s><s>Minorizovane su vrednosti duplog dna automobila u koje su smešteni menjač i dobar deo motora.</s><s>Da ne govorim koliko je postalo sumnjivo to što je A klasa prvi mercedes sa pogonom preko prednjih točkova.</s><s>ABS sistem, servo-ojačivač volana i er-begovi su tek mačka u džaku, baš kao i branik koji, bez oštećenja, trpi udarce do 5 km/h.</s><s>Razume se, dobra PR agencija će, ipak, lako isfabrikovati dovoljno zapadnoevropskih kupaca kojima ce baš ovakav autić biti neophodan, ali se, naposletku samo nameće pitanje kako bi se tek ovaj mikromini-ven ponašao na testu izbegavanja rupa po našim drumovima, koje svakodnevno i uživo upražnjavaju domaći šoferi.</s><s>I onda sledi logičan zaključak: verovatno zato A klasa još nije stigla na naše tržište.</s><s>Blow up</s><s>UOBLIČAVANJE SVETOVA</s><s>IKON knjige - edicija za početnike</s><s>Piše Nikola Suica Svojevrsni vodiči Za početnike izdavačke kuće Ikona iz Kembridža, trasirani su kao misaoni zadaci saznavanja.</s><s>Principi i idejne osnove određenih civilizacijskih fondacija i pojava, kao i biografska kretanja izabranih ličnosti, podvrgnuti su rigoroznom izboru odgovarajućih scenarija i adaptaciji stručnjaka iz različitih oblasti.</s><s>Makijaveli, Njutn, Hegel ili Lakan, na primer, predstavljeni Za početnike, oblikovani su vizuelno tekstualnim prepletom zahtevnim za pažnju čitalačkog stupanja u značaj njihovih dostignuća.</s><s>Postajući izazov za primenjeni slikovni zanat crno -belih predstava, ilustracija i kolaža, ovi putevi postmodernističkog prosvećivanja umnogome su koristan odraz vremena prezasićenog informacijama.</s><s>Početkom osamdesetih godina, beogradski izdavač Studentski izdavački centar, objavio je tri naslova, zapravo prva ostvarenja na principu ovih konciznih i bogatih zamisli: Marks, Frojd i Ajnštajn za početnike, sada su već stekli antikvarnu vrednost.</s><s>Uključene u ediciju, koju je smislio urednik Ričard Apinjanezi, te tri knjige kolosalnih ličnosti modernog doba upotpunjene su izazovnim eklektičkim stapanjem pristupa i razmišljanja.</s><s>Bez digresija, primeri povezivanja reči i stvorene slike, na pozitivistički način usmeravaju duhovite pretrage i uvide.</s><s>Podela između pisaca teksta i autora slikovne pripovesti kroz delovanje određene ličnosti ili pojave u većini knjiga ispunjena je efektnim predstavljanjima tekstovima univerzitetskih stručnjaka ili pisaca i jednako, primenjenim ilustratorskim rešenjima na način grafičke novele.</s><s>Imajući umnogome posao svođenja i demonstracije apstraktnijih ideja ili asocijativnih povezivanja, mnogi ilustratori i strip crtači - kakav je uz Apinjanezija, jedan od inicijatora edicije - Oskar Zarate (između ostalih naslova, odgovoran za vizuelnu stranu Frojda, Lenjina, Kvantne teorije i Makijavelija) - pribegli su efektnom prelamanju svake stranice kao posebne epizode objašnjenja, stvarajući pregledna polja u parametrima brze jezgrovite informacije.</s><s>Tako Makijaveli za početnike, uz tekst londonskog istoričara i pisca Patrika Karija predstavlja renesansnu ličnost u domenu prodornih opservacija i značaja unutar aktuelnih zbivanja.</s><s>Kako je makijavelizam raxirena zamenica za prevaru i oportunizam, analiza renesansnog prototipa u društvenim neredima uzdiže se prema recepturama uspešnog kolektivnog upravljanja u duhovitim instruktivnim zapažanjima.</s><s>Izgnan od strane Medičija iz firentiske Republike, putem predstavljenih idejnih uticaja, Makijaveli postaje vesnik moderne političke misli i ponasanja.</s><s>I kako se u knjizi očigledno demonstrira, ozračje uticaja ideja iz 16. veka sudeluje u raznim vidovima ovovremene vrednosne i građanske prirode ponašanja, utemeljivši savremene političke teorije i ekonomska očekivanja.</s><s>Mobilni telefoni ili amplitude berzanskih akcija imaju zapaženo mesto, kao i Klinton, Margaret Tačer ili mapa balkanskih ratovanja.</s><s>Mislilac i pisac Vladaoca predstavljen od strane Karija i Zaratea upotpunjuje analizu temelja funkcionisanja civilizacije, ujedno u vidu republikanskih načela i oštroumnih zapažanja uspešnog upravljanja.</s><s>Ne samo kao priručnik za komandujuće kadrove i diktatore, knjiga je koncezna povest kontroverznog oslobodioca sila nemilosti u diplomatiji, poslovanju, upotrebi religije i ratovanju u ime slobode građanima firentinske republike.</s><s>Društvo u predvorju rane moderne Evrope pokazuje mehanizme koji su proistekli u pozitivne strane trgovačkih i državnih promena, preko kasnijih zakonskih preispitivanja morala Monteskjea, temelja civilnog društva i ekonomije profita.</s><s>Tako se pođarmljenost u senci slobodne trgovine i voluntarističkih načela Adama Smita ili republikanskih kritičara sticanja korumpirane moći, pokazuje trasiranom od strane Makijavelijeve misli.</s><s>Njegov republikanizam kao kasnije razvijana politička filozofija upisan je u rušenja i formiranja institucija, sezući do prelomnih decenija sticanja američke nezavisnosti i francuske revolucije.</s><s>Društveni kontrasti i aktuelizovani savremen cinizam pokazuju paradoksalni realizam društvenih odnosa Nikola Makijavelija po konciznom pogovoru knjige objašnjenog kao ličnost istinski ovovremenog političkog naučnika od središnje važnosti za postmodernističku debatu o civilnom društvu.</s><s>Njegov model vladara, tiranin Cezare Bordžija, samo je amblematska figura za užasavajuće ličnosti koje je kasnije donela istorija, a iz kojih su proistekli raznorodni nakazni oblici u usitnjenim društvima.</s><s>Tipovi vladarskih pozicioniranja i kratkih i podmuklih prevrata odvijaju se u kolektivima zamorenih, etički isfrustriranih pojedinaca organizovanih u svojoj nemoći i združenom mediokritetstvu, stanjima plodnim za demonijačke, zlobne principe lobiranja, intriga, nameštanja i podmuklog koristoljubivog otimanja.</s><s>Zbog tih osobina, pogotovo u smesi neuravnoteženih nakaznosti poznih devedesetih godina u Srbiji, promišljanje Makijavelijevih postavki iznesenih u grafičkoj i deklamacijskoj gustini odlomaka, prevoda, neposrednih povoda i aluzija postaje korisna saznajna satisfakcija.</s><s>Tako se njegov odlomak pokazuje realno opravdanim: šire zahvaćeno, ljudi i dalje proizvode i stvaraju posledice svoje gluposti, uskogrudosti i štete ne samo jedni prema drugima, već i prema ostalim oblicima života na zemlji i planeti u celosti.</s><s>Predstavljeni u zasebnim knjigama u dometu za početnike su i sledeći fenomeni: Genetika, Univerzum, Astrologija, Ekologija, Fašizam, Mafija, Holokaust, Feminizam i Postmodernizam, a otpočeli su i sa uticajnim ličnostima iz likovne umetnosti kao što je u individualnom zamahu svojih etapa bio Pikaso.</s><s>Otvorene su i izražene kontraverzne debate oko medijske suštine i tehnoloških pružanja danasnje globalne kulture oličene u Bodrijaru za početnike.</s><s>Ovaj francuski pisac, filozof, sociolog i autor fotografija, dat je u preciznim uvidima u probleme simulacije poimanja masovne kulture.</s><s>Tekst Krisa Horokosa i ilustracije Zorana Jevtića čine da se u najavama ove knjige o dejstvu ideje i zapažanja Žana Bodrijara, razumljivo postavi pitanje - da li se radi o mogućnosti izlečenja od vrtoglavice savremene kulture ili samo jednom od njenih simptoma?</s><s>S druge strane, temelje suprotnih raščlanjivanja ponašanja i sistematizacije morala, pojedinačnih postupaka i patoloških pojava civilizacije (isto tako francuskog autora) daje Fuko za početnike.</s><s>Delo istih autora iz 1997. prepliće filozofiju, istoriju, psihoanalizu i politički aktivizam upisan u savremeno iskustvo ludila, kriminala, seksualnosti i društvenih užasa, u institucionalizaciji nadziranja, kažnjavanja i discipline.</s><s>Putevi koji su Mišela Fukoa doveli do vlastitih prestupničkih pozicija sopstvene seksualnosti i političkih suprotstavljanja, objašnjeni su u grafičkoj, sintaksičkoj misiji knjige o vezama između humanističkih nauka, njihovih diskursa i genealogije suprotstavljene istoriji.</s><s>Tako se suprotnosti razuma i ludila pokazuju u vidu biografskog korpusa žive misli, po njegovoj smrti (1984), opisanog kao jedan od najvažnijih načina razmišljanja u veku.</s><s>U razmaku između medicine i pravnih sistema, Fukoova specijalnost bila je istorijsko poniranje u preispitivanju zakonitosti jezika, postupaka i razloga pojednih slučajeva u istoriji.</s><s>Govor kroz drugog bio je način metodološkog opita u znanju i istoriji, diskurs između liberalnosti i represije, gde se iskazivao subjekt kao uvid u restauraciju određenih prestupničkih ličnosti obeleženih i definisanih u istorijskoj nauci.</s><s>Tako se uspostavljena pravila diskursa pokazuju kao fenomen za sebe, u čemu je Fuko odredio društvena i kulturna polja poput porodice i zajednice u kojima se za svaku javlja i određeni tip diskursa, što se naslojavalo sve do političkog angažmana i cirkulisanja informacije u određenim institucionalnim sistemima.</s><s>Imajući u vidu čak i civilno društvo i napredne tehnologije i pravce povezivanja do kraja veka, prevratnički je izjavio: Niko od nas ne može biti siguran da će izbeći zatvor.</s><s>Policijska kontrola svakog dana postaje sve očiglednija: na ulicama i putevima; prema strancima i mladim ljudima.</s><s>Ponovo se javxa činjenica da je uvredljivo iznositi mišljenje.</s><s>Plasman i zastupljenost edicije Ikona u Britaniji naišli su na velika odobravanja pogotovo i u preobražavanju osobina nekadašnjih ponegde dogmatskih univerzitetskih nastavnika, koji su po mnogim priznanjima i sami bili zaplašeni ovim pojednostavljujućim načinom predstavljanja značajnih tema i mislilaca.</s><s>Ideja o spajanju humora i intelektualnosti, a što odlikuje veliki broj ostvarenja, pokazala se produktivnom u domenu približavanja alternativne i visoke kulture.</s><s>Na ohrabrujuću pristupačnost za sve veći broj ljudi (upravo kroz duhovitu stranu mnogih pojava) podseća glasnogovornik edicije Lori Tejlor, profesor Birkbek koledža prisećajući se jednog skeča iz TV serije Montija Pajtona: Neko kuca na Sartrova vrata, i Simon ih otvara. - Da li je Sartr slobodan- pita posetilac, na šta mu ovaj odgovara: - Slobodan? to pitanje je pokušavao da razreši tokom celog života.</s><s>Edicija koja je u 1998. objavila i Prosvetiteljstvo i Valtera Benjamina, a u planu je i Niče za početnike, sve je više nalik na enciklopedijski posao za koji urednik i osnivač Ričard Apinjanezi izjavljuje: Bilo bi nepromišljeno da upoređujem knjige za početnike sa modelom enciklopedije.</s><s>Niti da zamišljam da sam Deni Didro (premda ni Didro nije bio Didro u 1751. godini izdavanja enciklopedije).</s><s>Ono što me zanima je u okviru dometa ovakvog posla.</s><s>Pa, iako nemamo očiglednog Voltera među našim piscima i saradnicima, verujem da je tu dovoljno prosvećenosti koja će pokrenuti naše čitaoce.</s><s>Uostalom, ko zna šta ce postati autori serije Za početnike.</s><s>Enciklopedija je imala kvalitet borhesovske umetnosti pamćenja, začarana lavirintskim etimonima, lingvističkim račvanjima stabala i krošnje znanja - u smislu metafore sjedinjenih nauka.</s><s>Oduvek je postojala neuronska mreža u ovoj potrazi za saznavanjem i stvaranjem artificijelne mašine mišljenja.</s><s>Uostalom, takvo nastojanje jasno je i kod španskog mistika Rajmona Lula iz 13. veka, svojevrsnog ranog enciklopediste, čija je bizarna logička mašina kombinovanih kruženja prethodila kompjuteru.</s><s>Konceptualizovana razmišljanja, logički ishodi ili plodne digresije u paralelna delovanja, obeležavaju pripovedni i predstavljački princip stranica množnih celina.</s><s>Približene otvaranju određenih obaveštenja koje donose softverske verzije aplikacija za Windows, knjige nude razložno iskustvo zadovoljstva i zelje, podvlačeći da se zaista sve, makar u pokušaju spoja slike i reči, može podvrći razjašnjavanju i poređenju na mentalnoj mapi odrednica trećeg milenijuma.</s><s>IZMEĐU PRAVILA I KREATIVNOSTI</s><s>Razgovarala: Olivija Rušovac Dobri dizajneri u Jugoslaviji imaju ideje i obrazovanje, ali ne i novac.</s><s>On je na nekom drugom mestu.</s><s>Možda zato i ima toliko ružnih i nemaštovitih oglasa i plakata.</s><s>Song Dju Jong, Koreanka iz Tengua, magistrirala je iz oblasti grafičkog dizajna na Univerzitetu u Beogradu.</s><s>Tema njenog magistarskog rada glasi: Grafička identifikacija Sportskog centa Mladost.</s><s>Vođena rukom mentora profesora Miloša Ćirića, Song DJu Jong je, prema sopstvenom priznanju, shvatila da je za dobar dizajn najvažnija ideja.</s><s>Kao i mnoge moje kolege u Koreji, mislila sam o dizajnu samo u kategoriji estetskog.</s><s>Misao o ideji kod nas nije razvijena i zato se u Koreji uglavnom u ovoj oblasti samo kopira ono što donose Amerikanci.</s><s>U Beogradu sam naučila šta je kreacija, dodaje Song DJu Jong na tečnom srpskom jeziku.</s><s>Njen suprug Kim takođe govori srpski i uskoro ce magistrirati, takođe u Beogradu.</s><s>Njegova magistarska teza odnosi se na pesništvo Laze Kostića.</s><s>Song DJu Jong, je u Jugosalviju došla pre tri godine.</s><s>Iz zemlje svetla i reklame stigla je na beogradski aerodrom koji je baš tada bio u potpunom mraku.</s><s>Mislila je da je došla u pakao, plašila se rata, ali se kasnije privikla.</s><s>Da sam ostala u Koreji imala bih samo jedan svet.</s><s>U Beogradu sam mnogo čitala , diskutovala o umetnosti i književnosti i to me je izmenilo.</s><s>Postala sam nova ličnost, kaže DJu Jong.</s><s>Primećuje da je naš fakultet lošije opremljen literaturom i učilima nego u Koreji i da u prodavnicama nedostaje mnogo materijala potrebnog dizajnerima.</s><s>KAKO DIZAJNIRATI Mladost</s><s>Za razgovor sa Song DJu Jong odlučila sam se pošto sam pogledala ilustracije njenog magistarskog rada kojima su bili ukrašeni zidovi holova Univerziteta umetnosti.</s><s>Izrađeni do perfekcije, bogato i maštovito, one svedoče o jasno i čisto sprovedenoj ideji jednog sportskog centra, o postovanju pravila i kreaciji i originalnosti.</s><s>Počinje se od znaka, kaže DJu Jong i ističe da je u sportu zahvalnija ljudska figura nego rekvizit.</s><s>Potom sledi izbor između jedno i mnogo, a tek se posle unose ostali idejni elementi znaka.</s><s>- Opredelila sam se da idejni projekat baziram na ideji kolo koja je zajednička svim kulturama.</s><s>To je vizuelni prikaz dobronamernog druženja.</s><s>Polazište je piktogram za informaciju mesto za okupljanje koji u sredini ima veliku tačku i četiri strelice usmerene ka toj tački.</s><s>Umesto strelice stavila sam ljudske figure, kao kolo, jer se pojam Centra odnosi na ljude.</s><s>Drugi deo ideje je olimpijski znak sa pet prepletenih krugova.</s><s>Tako je dobijena kompozicija u obliku krsta.</s><s>Pošto je znak tako rešen statičan, crtež sam postavila u perspektivu i tako dobila utisak dinamičnosti.</s><s>Ovo se postiže primenom Albertinovog metoda kvadrata u ugaonoj perspektivi.</s><s>LOGOTIP I PIKTOGRAM</s><s>Nova istraživanja vezana su za dvolinijsku tipografiju koja je oživljena različitim debljinama slova: napred u sredini i pozadi.</s><s>Takva rešenja daju ritam logotipu.</s><s>Piktogram ima zanimljivu istoriju.</s><s>Do polovine 20. veka piktogrami imaju rešenu samo funkciju, da pokažu vrstu posla koju označava figura.</s><s>Moderni piktogram je stilizovan i radi se u seriji.</s><s>Za olimpijske igre u Tokiju 1964. stručnjaci su 4 godine analizirali piktograme, i tada su postavljeni temelji nove logike i rešenja.</s><s>Reč je o kombinaciji tamne ljudske siluete i prosečenog sportskog dresa u blagoj stilizaciji figura.</s><s>Kreativni postupak kod piktograma najjasniji je u seriji.</s><s>MASKOTA, LOGOSIT I LOGOTIP</s><s>Maskota je neka vrsta savremene amajlije ili totema koja pomaže plasmanu proizvoda i treba da predstavlja živi stvor.</s><s>U grafičkoj identifikaciji to je jedini živi element.</s><s>Tražeći lik za maskotu Centra opredelila sam se za mladog vepra.</s><s>Figuru veprove glave probodene strelom videla sam na pečatu Sovijeta iz Prvog srpskog ustanka 1804, kao grb Tribalije (Tribali su tračko pleme i najstariji stanovnici severnoistočne Srbije.</s><s>Veprova glava javlja se prvi put u 15. veku u grbovniku Ulriha Rihentala kao grb srpskog carstva, a docnije se smatrao grbom Braničeva, u istočnoj Srbiji.) Vepar je simbol hrabrosti, silovitosti i strasti.</s><s>Moja maskota mladog vepra ima kraću njušku, ruke se završavaju u špicu kao kod piktograma, a noge su izvedene u obliku opanaka.</s><s>U logositu maskota nosi upaljenu baklju.</s><s>Gornja polovina maskote je u pravougaoniku koji je isti kao i kod znaka Centra, kako bi se ispod logosita mogao postaviti logotip, pod istim uslovima kao kod znaka Centra.</s><s>Osnovne boje logosita su crvena, plava i bela, čime je dobijen srpski trikolor.</s><s>Pored slogana Mladost rumenih obraza koji podrazumeva da su rumeni obrazi vizuelni odraz zdravlja, preko bavljenja sportom u sportskom centru Mladost, zbog čega se slogan prikazuje sa znakom i logotipom, postoji i šara centra.</s><s>Ona je nastala od ideje i likovne logike logotipa: kretanje sleva na desno, od tamnog ka svetlom, u izlomljenoj liniji koja asocira na inicijal M u logotipu Mladost.</s><s>Inicijal je zajednički u ćirilici i latinici.</s><s>Ovaj geometrijski motiv ponavlja se beskrajno u plavoj boji.</s><s>PROBLEMATIČNOST SEKULARIZMA</s><s>Žarko Puhovski</s><s>U Beogradu je 5. i 6. juna održan međunarodni okrugli sto Crkva, država, civilno društvo.</s><s>Na skupu je učestvovao i Žarko Puhovski, profesor na Zagrebačkom sveučilištu.</s><s>Dopustite mi da svoje izlaganje započnem jednom isprikom.</s><s>Čini se, ideologijski gledano, pomalo neodgovornim, dolazeći iz postjugoslavenske i postkomunističke sredine, govoriti o prijepornosti i problematičnosti sekularizacije.</s><s>Činjenica je da u državama koje su nastale nakon Jugoslavije sekularizacije nema dovoljno.</s><s>No, problem nije tako jednostavan.</s><s>Činjenica je, također, barem po mojem sudu, da su neki od bitnih problema sa kojima smo suočeni posljednjih godina, teorijski i ideologijski, izvedeni iz rezultata jedne varijante sekularizacije.</s><s>Jednostavno rečeno, moja je teza, koja na koncu nije nova, da je suvremeni nacionalizam neposredna posljedica moderne sekularizacije.</s><s>Pod sekularizacijom bih razumio stanje u kojem religijsko mišljenje, običaji ili rituali, odnosno ustanove, nemaju neposrednu pravnu i političku posljedičnost, uz zajamčenu njihovu autonomiju.</s><s>Ono što se, međutim, odatle događa, a što je veoma često opisivano veoma zgodnom formulom Maksa Vebera očaravanje svijeta, značilo je, zapravo, u jednoj varijanti da su vrijednosti koje su bile pridavane religiji sekularizirane paralelno sa nekim neposrednim političkim procesima, u kojima dolazi do razdiobe na pravno uređenu zajednicu naspram zajednice spasa.</s><s>Pravno uređena zajednica će se naći pred pitanjem o vlastitom vrijednosnom utemeljenju.</s><s>Da preskočim stoljeća, to se, posebice, odnosi na modernu demokratski legitimiranu pravnu zajednicu.</s><s>Jer, koliko god to ideolozi demokratizacije tesko mogu priznati, bitna je pretpostavka demokracije etički relativizam.</s><s>Kad to kažem, mislim na liberalnu, tj. pluralističku demokraciju.</s><s>Bitna karakteristika demokracije je, jednostavno rečeno, da forma postaje sadržaj, a procedura nadomjesta vrijednost.</s><s>U jednoj razini analize, a to sasvim sigurno nije jedina, moderni se nacionalizam pojavljuje u demokratskom postavu kao reakcija na taj institucijski zadan relativizam vrijednosti.</s><s>On daje neku vrstu čvrstog ili barem naizgled čvrstog uporišta, riječ je nešto što se pije s majčinim mlijekom, nešto što je u varijantama srednjoevropskim, prije svega iz njemačke tradicije izvedenima, a koje su mjerodavne i za Balkan, ima mješavinu biologijske i kulturne pretpostavke; on dovodi do toga da se uspostavlja nešto što zapravo odgovara onoj često navođenoj Dirkemovoj odredbi o religiji, gdje se, zapravo, kao bitna odrednica religije navodi da je to jedna vrsta sustava vjerovanja koja vezuju ljude u skupine.</s><s>Potom je Maks Veber bio taj koji je u Privredi i društvu napisao da su Srbi i Hrvati specifičan primjer nacija koje se razlikuju isključivo po religiji.</s><s>I to je nešto što ovaj tip vezivanja u zajednicu jasno pokazuje.</s><s>Ako se, nasuprot tome, upravo u osloncu na Vebera, uzmu u obzir teolozi, kao na primjer Paul Tilih, koji vide religiju kao neku vrst koherentnog odgovora na egzistencijske dileme kao sto su rođenje ili smrt, itd, onda smo, po mom sudu, sa jednim dalekosežnim pristupom, pristupom koji će biti teško zadržati u sferi privatnosti.</s><s>Tendencija je svake religije, posebice ako je organizirana kao crkva, da se prelijeva van crkve.</s><s>Njezina je pozicija u etičkom smislu, naglasavam - etičkom smislu, fundamentalistička i to ne treba miješati sa političkim frazama iz dnevnih novina.</s><s>Jer, nasuprot drugog metodičkog tipa etika to je konzekvencionalizam ili posljedičnost koji ljudske čini etički promišlja sa stajališta toga da li je konačan rezultat dobar ili loš.</s><s>Fundamentalizam, ili apsolutizam, kako se kad i kad naziva, odbija svaku mogućnost da činimo makar i najmanje zlo, neovisno o tomu kakvo bi smo dobro mogli postići.</s><s>Ako, međutim, odbijemo konzekvencionalizam, onda postavljamo tako visoki etički standard koji ljudski ne možemo izdržati, standard koji nas neposredno postavlja u situaciju greha, odnosno dovodi crkvu u poziciju da bude ustanova reproduciranja greha...</s><s>Međutim, u bilo kojoj varijanti, čovjek koji ozbiljno vjeruje u svoje vrijednosti ne može tek tako gledati kako oko njega teče zivot koji te vrijednosti nipodaštava.</s><s>Od njega se traži intervencija ili, da citiram veoma zgodan, moglo bi se reći slogan, Karla Jaspersa: Promatranje nije egzistencija.</s><s>Sudjelovanje je egzistencija.</s><s>Odatle, sekularizam samo naizgled oslobađa društvenu sferu vrijednosti, jer - vakum je u ovom smislu zapravo neprirodan - on će biti ispunjen drugim vrijednostima, najčešće vrijednostima nacionalne baštine ili tradicije.</s><s>U tom kontekstu je, posebice za naše okolnosti, veoma primjerena formula o izmisljanju tradicije kojom se upravo nacionalizmi bave.</s><s>Dopuštam sebi primjer iz svoje države - molim da se ovo \"svoje\" shvati formalno-pravno.</s><s>Hrvatska je nedavno proslavila osmogodišnjicu državnosti u državi koja formalno postoji šest i pol godina.</s><s>Hrvati se često, po mojem sudu, s pravom zabavljaju na račun srpske fascinacije Kosovom, ali Srbi barem imaju taj izgovor da su njihove legende šest stotina godina stare, pa je jako teško provjeriti što je zapravo bila istina.</s><s>Mnogo je indikativnije da živimo u državama koje su u stanju izmisliti legende stare od šest do osam godina.</s><s>To je ta razlika između, po mojem sudu, sekulariziranih i nesekulariziranih vrijednosti.</s><s>Nesekularizirane vrijednosti nemaju u svojoj konstituciji potrebu za dokazivanjem istina, one su obznanjene kao vjera, a sekulizirane nisu ništa manje mitskoga karaktera, ali iza sebe imaju tvrdnju kako su, ujedno, dokazivo istinite i time su, zapravo, opasnije po istinu.</s><s>U prvom slučaju, imate naprosto bajku - tko hoće može vjerovati, tko neće ne mora, barem u naše vrijeme, a u drugom slučaju imate nešto što za sebe tvrdi da je znanstveno, najčešće povjesno fundirano, a to je, naravno, mnogo teže intelektualno opterećenje.</s><s>Povijest sekularizacije počinje u političkoj filozofiji s Makijavelijem i zato ga teolozi, tako očito, ne vole.</s><s>Konzekvenca toga jest jedna formula koju su demokrati, liberali i ljevičari uvijek napadali.</s><s>Formula glasi autoritas non veritas.</s><s>To je formula sekularizirane države i ona je, u političkom smislu, manje zlo od obrnute formule, koliko god to paradoksalno zvučalo.</s><s>Jer, zakon jest, kako to Fuko u jednom od svojih posljednjih predavanja kaže, također ratno stanje.</s><s>Stanje rata sa prekrsiteljima, a ne, naizgled, mir nasuprot ratu i taj zakon, kako znamo, počiva u osnovi na moći.</s><s>Ako imamo sreće, on će biti odličan, ako imamo puno sreće, bit će pravedan, ali istinitost mu uopće nije dana kao zadaća, jer to nije zadaća zakona u modernoj državi.</s><s>Kad govorimo u tom kontekstu o rađanju nacionalizma iz duha sekularizacije, onda se pokazuje kako je nacionalizam ono što su stari vjerski autori nazivali idolopoklonstvo u punome smislu riječi.</s><s>Pre dva tjedna je u Zagrebu bila homilija nadbiskupu Stepincu, u kojoj je jedan svećenik nota bene doslovce rekao kako je za Stepinca čovjek bio najviša vrijednost.</s><s>Ne može se biti ni vjernik, a kamoli kardinal, ako je za vas covjek najviša vrijednost.</s><s>Covjek kao imago dei je vec drugorazredna vrijednost, a nacija će u nacionalističkoj varijanti biti ona po čijem liku se mi uspostavljamo.</s><s>Bogu barem možemo, po želji, priznati pozitivne karakteristike, ako u njega vjerujemo.</s><s>To se često kod nacionalista čini sa nacijom, jedino što nacionalisti tvrde da za to imaju empirijsko pokriće, tvrde da su pripadnici njihove nacije lijepi kao takvi i ne priznaju nikakav prigovor na to.</s><s>U odnosu, dakle, na modernu državu, za koju je jedan poznati njemački pravnik rekao da nastaje upravo sa procesom sekularizacije, dogodilo se da u odnosu države i crkve treći član, civilno društvo, ostaje, rekao bih srećom, po strani.</s><s>Ono što, međutim, njih politologijski povezuje jest stroga vertikala u njihovoj izvedbi, hijerahija.</s><s>Nasuprot tomu, načelo civilnog društva jest stroga horizontalnost.</s><s>Načelo civilnog društva jest u tomu da vrijednost jedne osobe, koju ne zastupa ni jedna druga osoba u društvu, ima jednako mjesno važenje, kao i vrijednost koju zastupaju svi ostali.</s><s>Imamo, dakle, dvije vrijednosti i načelo većine tu ne važi i zato je prava sekularizacija, radikalna sekularizacija, da tako kažem, moguća tek onda kada se, ono što je država ućinila sa crkvom, oduzevši joj, ne rijetko nasilnim putem, privilegiju monopola na vrijednosti, barem pokuša iz pozicije civilnoga društva učiniti dostupnim</s><s>Kolega Cvitković je u jednom trenutku rekao da je poteškoća s postkomunističkim državama u tome što imamo jednu crkvu koja je superiorna, a da bi za toleranciju bilo dobro da su tri crkve, ili tri vjere, ravnopravne.</s><s>Međutim, tolerancija nema smisla u ravnopravnosti.</s><s>Ja mogu da toleriram samo ono što mogu, a ne želim da zabranim.</s><s>Dakle, tolerantan je samo onaj tko ima moć.</s><s>Ne smije se mješati nemoć i tolerancija.</s><s>Ja ne mogu biti tolerantan ako nisam moćan; samo kada sam superioran mogu biti tolerantan spram nečega što mi se ne sviđa, ali sam zbog nekog višeg načela odlučio ne intervenirati.</s><s>Dakle, tolerancija ima smisla u Makedoniji, ako su tačni ovdije izneseni podaci, da tamo postoji samo 0,3% ateista.</s><s>Ako su podaci točni, onda je tamo nužna tolerancija prema jednoj irelevantnoj manjini.</s><s>U odnosu 33, prema 33, prema 33 - nema tolerancije, nego je to ravnoteža.</s><s>Jos jedna stvar.</s><s>Kod nas jesu bile sekularizirane vrijednosti, ali iz njih nije nastala civilna religija, nego je nastala religija rata i to je ono što je tragedija ovog kraja.</s><s>Jer, sekularizirane su vrijednosti shvaćene u formuli do istrage naše ili vaše.</s><s>Mržnja spram Drugoga je imala mnogo veće posljedice od prave ljubavi i dogodilo se ono što Njemci nazivaju veselje u šteti ili, kako mi to kazemo, da susjedu crkne krava.</s><s>To je jedan tip interpretacije sekularno-religijske svijesti pod imenom nacionalnog.</s><s>Kod nas je, na žalost, proces sekularizacije pomagao militarnost i imao je, u smislu civilnosti, kontra efekte.</s><s>Sedma Božja zapovijest</s><s>Ne bih imao poteškoća prihvatiti da su deset božjih zapovjesti osnova jedne moralnosti zapadne civilizacije, neovisno o tome da li su one božje ili ne, kada tu ne bi bilo jedne zapovjesti s kojom imamo poteškoća.</s><s>To je ona koja kaže: Ne poželi ženu bližnjega svoga.</s><s>Ovde se ne radi o odbrani promiskuiteta, nego se radi o glagolu poželi.</s><s>Nije rečeno ne poželi tuđe stvari, rečeno je ne ukradi.</s><s>Da je rečeno, da vulgariziram, ne uštipni ženu bližnjega svoga, to bih mogao prihvatiti ili, recimo, nemoj napastvovati ženu bližnjega svoga.</s><s>Ali, ne mogu prihvatiti moralni sustav koji želju inkriminira, jer je zelja prije čina, pa čak, možda, i prije svijesti.</s><s>Znam da se danas teolozi pokusavaju izvuci na razne nacine, interpretirajući pojam želje mimo izvornog značenja; ali s tom odredbom je deset božjih zapovjesti za moderni moral neprihvatljivo, jer znači totalitarnu intervenciju u privatnost osobe.</s><s>To je moje duboko uvjerenje.</s><s>Politički klerikalizam</s><s>Kad govorimo o pluralizmu, indikativno je da, gledate li literaturu, gotovo podjednako i liberalni, i kršćanski autori, s indignacijom odbijaju ideju političkog klerikalizma kao pogrešnu i pogubnu.</s><s>Meni se nasuprot tomu čini, tu sam veoma usamljen, da klerikalizam uopće nije nešto tako loše.</s><s>U demokratskom društvu uopće nije tako loše da postoji jasna politička opcija neposredno vezana za crkvu, ako ona to hoće, jer ona time priznaje pluralizam vrijednosti kao osnovu demokracije, u što, inače, nismo baš kod svih crkava sigurni.</s><s>Vjeronauk ili nešto drugo Trebali bismo imati komparativne religijske kulture kao predmet koji bi obavještavao učenike što je to što nazivamo kršćanskom, pa onda katoličkom, protestantskom, pravoslavnom, islamskom i nekom drugom kulturom, kako bi se u literaturi i svemu drugome mogli snalaziti.</s><s>Meni se, pak, čini da nastavu religijske kulture ne mogu izvoditi samo svećenici ili svećena lica.</s><s>Tako dugo dok postoji predmet u školi, ma kako se on zvao, koji mogu izvoditi samo svećenici meni se čini, da sekularizacije nema.</s><s>To je za mene načelno pogrešno.</s><s>Ko hoće imati vjeronauk ima crkve, inače se državu upliće u određivanje o tomu tko je ovlašten za religijsku naobražbu ili vjeronauk; a to zapravo znači da se daju državi neke ingerencije koje ona ne može imati, a crkvi ingerencije ulaza u državnu ovlast nad školstvom.</s><s>PINA BAUS I NEMAČKI PLESNI TEATAR</s><s>Piše: Dubravka Đurić</s><s>Pina Baus (Pina Bausch) je rođena 1940. godine u Nemačkoj. školovala se u Esenu u školi Folkwangschule, koju je vodio Kurt Jos (Kurt Jooss), pored Meri Vigman (Mary Wigman) najuticajniji učenik Rudolfa fon Labana (Rudolf von Laban).</s><s>Krajem pedesetih školovala se u Sjedinjenim Američkim Državama, u čuvenoj školi Julliard School of Music.</s><s>Od 1973. vodi Plesni teatar Wuppertal.</s><s>Nemački plesni teatar (Tanztheater) obnavlja tradiciju nemačkog ekspresionističkog plesa, a najpoznatiji je izvan Nemačke upravo po radu Pine Baus i njene trupe Wuppertal Tanztheater.</s><s>Pomenućemo predstave: ''Posvećenje proleća'' (1975), ''1980'' (1980), ''Na planini se čuo krik'' (1984), itd.</s><s>Pina Baus svojim teatrom želi da provocira emocionalne reakcije publike i, kako zaključuju neki kritičari, u tome uspeva.</s><s>Budući da je učenica Kurta Josa i Entonija Tjudora (Anthony Tudor), ne iznenađuje činjenica da se bavi ljudima i uslovima u kojima oni žive, i da na sceni izražava neprijatna i uznemirujuća osećanja.</s><s>Ona gledaoce primorava da se suoče sa osećanjima koja bi većina ljudi želela da sakrije.</s><s>To je i jedno od bitnih svojstava nemačkog ekspresionističkog plesa.</s><s>Predstave plesnog teatra Wuppertal raspoloženjem i dramaturgijom pričaju o veoma ličnim promašajima ''junaka'' i ''junakinja'', o frustracijama pojedinaca.</s><s>Scene se u ogoljenom vidu strukturalno nižu na pozornici.</s><s>Predstave Pine Baus su revije psiho-patologije svakidašnjeg života.</s><s>Te revije pokazuju nemogućnosti i ograničenja koje nameću društvene norme i društvene igre.</s><s>Sve je to propraćeno obaveznim bausovskim smeškom.</s><s>S druge strane, predstavljene dečije igre u repetetivnim ponavljanjima razotkrivaju svu okrutnost.</s><s>Emil Hrvatin ističe da Pina Baus gradi teatralnost na odnosu prema plesu i telu plesača i plesačice.</s><s>Dinamika teatralnosti je zasnovana na napetosti između imaginarnog i simboličkog, u kojoj provaljuju elementi realnog.</s><s>Telo je teatralni objekt par excellence.</s><s>Pina Baus se zanima za telo, ali ne teži oblikovanju novog plesnog govora.</s><s>Subjekt njenog plesa je telo koje pati i trpi, a ono je stalni predmet istraživanja nemačkog ekspresionističkog plesa.</s><s>U njenim koreografijama izraženo je ironiziranje baleta i društvenih plesova.</s><s>Ona teatralno zahvata tradicionalne oblike i upotrebljava ih kao označitelje.</s><s>Ograničen opseg ''pokreta'' u plesnom teatru izraz je njegovog antiestetskog stava.</s><s>Kada Pina Baus objašnjava da je mnogo ne zanima kako se ljudi kreću već ono što ih pokreće, obraća se i klasičnom baletu, koji represivnost maskira lepim akrobatskim i čarobnim spektaklima.</s><s>Ples postoji, ali je često prekriven slojem imaginarnog i simbolnog, koji su upisani u telo plesača/plesačice.</s><s>U tom smislu, ova koreografkinja i izvođačica razlikuje ''predplesno'' stanje tela.</s><s>To znaći da je suštinski materijal nove teatralnosti postalo telo u svim aspektima svoje pojavnosti.</s><s>To nije telo u antropološkom smislu, koje se obraća ritualnom u pozorištu tragajući za ''prvobitnošću''.</s><s>Traganje za prvobitnošću u plesu podstakla je Isidora Dankan.</s><s>Nasuprot tome, kod Pine Baus u pitanju je telo upisano u specifične simboličke strukture.</s><s>Ona prikazuje napetosti između imaginarnog tela plesača/plesačice i njegove/njene upregnutosti u simbolne strukture plesa, pozorišta, društvenih konvencija manifestovanja samog tela.</s><s>U toj napetosti, piše Emil Hrvatin, koja konstituiše teatralnost, imaginacija plesača/plesačice sudara se s represivnošću simboličkog.</s><s>I Johanes Biringer (Johannes Birringer) ukazuje na važnost tela u plesnom teatru Pine Baus.</s><s>Granična linija u njenom teatru je konkretno ljudsko telo.</s><s>To telo ima specifične kvalitete i ličnu istoriju.</s><s>Ali to je i telo o kojem se piše, koje je upisano u društvena prikazivanja roda, rase i klase.</s><s>Najcešće smatramo da su reprezentacije tela same po sebi date, bez obzira da li se pojavljuju u reklamama, filmovima, fotografijama, pornografiji ili u lepim ''večnim'' pozama baletskih igrača i igračica.</s><s>Međutim, Biringer ističe da svaka poza, svaki kadar i svaki pokret tela učestvuje u specifičnoj prikazivačkoj ekonomiji kojom upravlja kultura.</s><s>Kultura određuje ono što ćemo videti kao realnost.</s><s>Pina Baus nas okrutno suočava sa konvencijama prikazivanja seksualizovanog tela, sa normama koje više ne primećujemo, usled automatizovane percepcije ''naturalizovanih'' konvencija.</s><s>Tako, na primer, u njenim predstavama žene poziraju ili su stavljene u pozu kao žrtve društva.</s><s>Ona ih smešta u kontekst ironičnog tretiranja brehtovskog didaktizma.</s><s>Često se suočavamo sa nepomičnim plesačima i plesačicama i poznatim ritualima izvođenim sa snažnim emocionalnim intenzitetom.</s><s>Scene su tako konstituisane da nas sam proces posmatranja primorava da postanemo svesni njegovih konvencija.</s><s>S druge strane, plesači i plesačice su svesni prisustva publike i istražuju odnos prema njoj.</s><s>Mada se retko bavi specifičnim karakterima, Pina Baus pokazuje prepoznatljive tipove ljudi - na primer, ženu koja dugo pati u predstavi ''Plavobradi'' (1977).</s><s>Glavni muški izvođac je vuče po podu i ona se na kraju davi pod mnogim slojevima odeće u koju se obukla.</s><s>Grabežljivo ili patetično, muškarci i žene tragaju za ljubavlju u ambijentu plesne dvorane u delu ''Kontakthof'��(1978).</s><s>Bitka između polova nazire se u mnogim radovima, a ponekad se izražava prikazivanjem brutalnog nasilja.</s><s>Žene su najčešće prikazane kao žrtve, a muškarci kao napadači.</s><s>Grupa muškaraca nasilno grli ženu u predstavi ''Kontakthof'.</s><s>U ''Plavobradom'' usamljeni napadač lako dolazi do žena, koje ne pružaju otpor nasilju.</s><s>Komad 'Plavobradi'' obrađuje temu o opsesivnom muškarcu sadisti koji ubija voljene žene.</s><s>U predstavi ''Na planini se čuo krik'' plesačica uvek iznova kleči da bi je njen muški tlačitelj kaznio.</s><s>Preteća figura izvođača zamenjuje mnoge očeve i ljubavnike koji se kao deca igraju oružjem, da bi naučili takmičarska pravila igre.</s><s>Lepota žene se ističe u scenama kada se one igraju poput deteta, ili kada im je lice prekriveno dugom kosom, ispod koje se samo nazire.</s><s>Ove predstave pokazuju kako pojedinci osećaju psihičku prisilu da učestvuju u igrama koje igraju zreli ljudi, žudeći za priznanjem, naklonošću i prihvatanjem u društvu.</s><s>Ispod krhke vanjske politure društvenih konvencija, koje negiraju senzualnu slobodu, jasno vidimo ljudsku psihu kako se suočava i bori sa njima.</s><s>Popularne romantične pesme i holivudski klišei postavljeni su nasuprot tragikomičnim efektima koje proizvode plesači ''ispunjenjem'' naših očekivanja.</s><s>Plesaći i plesaćice pokazuju koliko su lepi, ispunjeni ljubavlju i koliko mogu biti uspešni kada ispoljavaju agresivnost, ali i koliko očajnički žude za komunikacijom.</s><s>Ovakve eksplicitne reference prema društvenoj realnosti u teatru ističu proces kroz koji ''koreografija društvene psihe'' Pine Baus prevodi emocionalne potrebe (opresivne prirode koje pretpostavljaju specifične ženske i muške forme) u širu konstelaciju odnosa kulture prema žanrovima koji su u srži takvih odnosa.</s><s>Bez napora, predstave uvek iznova prelaze granice žanrova, od ljubavne pesme, filma, baleta, revije, cirkusa do društvenog plesa.</s><s>Svako takvo prelaženje učinjeno je svešću o sadržaju i potencijalnim zabranama koje nameću izabrane forme.</s><s>Očekivanja publike, kao i odgovori na forme inkorporirani su u parodične događaje na sceni.</s><s>Pina Baus primenjuje princip montaže nasleđen od brehtovskog teatra.</s><s>Koristeći ga, ona prepliće ceo repetitivni katalog gestova i ponasanja kojima pojedinci predstavljaju sebe u najboljem svetlu.</s><s>Izvođači i izvodjačice su često obučeni u neuglednu savremenu odeću i izgledaju kao obični muškarci i žene, a zapravo su izuzetno utrenirani plesači.</s><s>Njihove aktivnosti, od kojih neke izgledaju kao sasvim obične, značenjski su istaknute.</s><s>Muškarac u ''Plavobradom'', na primer, posesivno pali i gasi traku na kojoj je snimak opere ''Zamka Plavobradog'' Bele Bartoka po kojem je komad dobio ime.</s><s>Biringer objašnjava da su, u radu Pine Baus i drugih posleratnih nemačkih koreografa, parodija konvencije i istina parodije, uvek povezane sa osećanjem ličnog iskustva istorije.</s><s>Potisnuta sećanja na traume iz detinjstva mogu se nadoknaditi samo ako neko sluša dovoljno pazljivo ponavljanje socijalizovanog tela.</s><s>Tako nam izvođačica u predstavi ''1980'' stalno ponavlja priču kako se kao dete plašila mraka i kako je plakala sama u mračnoj sobi, kako je dadilja ulazila, palila svetlo i tukla je.</s><s>Nekonvencionalnost Pine Baus manifestuje se i kada uzmemo u razmatranje površine na kojima njeni igrači i igračice igraju.</s><s>U ''Obredima proleća'' pozornica je prekrivena zemljom, a u ''Arijama'' vodom do članaka.</s><s>Oni se kupaju u bazenu sa lažnim nilskim konjem u ''Arijama'', povremeno govore, pevaju, viču ili se smeju.</s><s>U predstavi ''1980'' ispovedaju strahove ispitivaču.</s><s>Ivet Biro (Yvette Biro) piše da su tri sata izvođenja predstave ''Nur Du'' prepuna događaja.</s><s>Nižu se nadanja i agresije, nesretni slučajevi i katastrofe, zavođenja i nostalgične strasti kuju zastrašujući plan.</s><s>Pina Baus tokom dugih napornih proba koristi operativne reči.</s><s>Ona postavlja pitanja izvođacima, prisiljavajući ih da smisle najprikladnije, najličnije odgovore na zahteve zamišljene situacije.</s><s>Nižu se pitanja: šta znači postaviti nekom zamku?</s><s>Pričanje priče stvara samo zvuke i buku.</s><s>Pokoriti ili se osvetiti.</s><s>Poziranje za fotografije.</s><s>Naljutiti se.</s><s>Mrmljati psovke.</s><s>Svaki zadatak podrazumeva pravo lice stvari, da bi pronašli samo njihovu ličnu realnost.</s><s>Ta realnost se zatim prevodi u očaravajući jezik gesta, kretnji, zvukova.</s><s>Često se oblače u odeću suprotnog pola.</s><s>Pa ipak, rad Pine Baus se često usredsređuje na nemogućnost da se komunicira ili uspostavi kontakt, na nedostatak saosećanja između pojedinaca i između polova.</s><s>Gorčina, ljutnja i brutalnost kao da dominiraju njenim teatrom.</s><s>Pošto proizilazi iz plesa, psihopatologija prisutnosti će se reflektovati u odnosu prema baletu i nepsihološko-realističkom pozorištu.</s><s>Bauseva iz plesača povlači krutost i jednodimenzionalnost baletskog rituala, ali umesto virtuoznosti, lepotica i lepotana - postavlja ih kao osakaćena, neoblikovana tela, umorna i zamorena dosadom.</s><s>Oni zbunjeno pokušavaju da sakriju fizičke nedostatke (grudi su male, nos je veliki, haljina nikada sasvim ne pristaje).</s><s>Svi ti elementi mešaju se sa provalom bolesnog egzibicionizma, kojem članovi trupe plješću.</s><s>U ranijem radu Pina Baus nije bila toliko zainteresovana za groteskne aspekte muškog nasilja .</s><s>U njenom koreografskom tretiranju ''Obreda proleća'' Stravinskog, ritualni ples stalno se iznova izvodi do trenutka potpune iscrpljenosti izvođača i izvođačice.</s><s>On je bio sredisnja metafora za dobro uvežbano ponasanje muškaraca koji slede pravila društva i usredsređuju se na žene koje postaju žrtve.</s><s>U ''Arijama'', pozornica je pokrivena vodom i okružena ogledalima koje stvaraju nadrealne površine.</s><s>U nizovima parodičkih slika narcističkog samoposmatranja, u ''Arijama'' dominira melanholično raspoloženje izazvano stalnim naporima pojedinca da se samoizrazi i da pokaže samorazumevanje uprkos mehaničkom nasilju koje tako često dominira pojavnostima.</s><s>U kasnijim teatarskim radovima takvi napori postaju komični jer doslovno iznose lepe metafore naših opera i klasičnih baleta.</s><s>U ''Arijama'' kraljice iz bajki i dive oblače i groteskno ukrašavaju njihovi partneri, uranjajući u fraze pokreta i litanije reči.</s><s>Oni izgledaju i zvuče besmisleno u poređenju sa junacima klasičnih opera.</s><s>Biringer zaključuje da gledajući ove predstave dobijamo utisak kao da fotografišemo društvo osuđeno da potiskuje svoje katastrofične zelje u stalnoj maskaradi optimizma i neprekidne zabave.</s><s>On opisuje da je početkom osamdesetih godina američka publika negativno reagovala na nasilje prikazano u predstavi Pine Baus ''Na planini se čuo krik'', i pita se zašto su reakcije bile takve.</s><s>Zašto publika nije reagovala na usredsređen proces koji vodi od patosa samoapsorbovane seksualne opsesije do većih modela koji razotkrivaju činjenicu da društvo stalno tezi da porekne posledice svoje stalne agresivnosti.</s><s>Nemački plesni teatar i američki postmoderni ples imaju zajedničke korene, ali su se razvijali u različitim pravcima.</s><s>Johanes Biringer ističe snažan uticaj Mersa Kaningama (Merce Cunningham) u Sjedinjenim Američkim Državama, bez kojeg se danasnji američki postmoderni ples ne može razumeti.</s><s>Kaningam je programski odbacio stil modernog plesa Marte Gream (Martha Graham).</s><s>Odbacio je njegovo naglašavanje emocija, teatralnih kostima, karaktera, dramskog fraziranja i naracije.</s><s>Biringer objašnjava razliku između američkog postmodernog plesa i nemačkog plesnog teatra.</s><s>Američki postmoderni ples je formalan i usredsređuje se na pokret.</s><s>Nemački plesni teatar bavi se konkretnim emocionalnim i društvenim kontekstom.</s><s>Ovi različiti kulturološki konteksti ukazuju na različito shvatanje odnosa forme i sadržaja.</s><s>Uobičajeni rečnik koji podrazumeva značenja reči kao što su ''pokret'', ''naracija'', itd, u različitim kulturološkim kontekstima ne podrazumeva isto značenje.</s><s>Reči se ponovo moraju definisati s obzirom na specifične estetske, ali i političke dimenzije konteksta unutar kojeg se upotrebljava.</s><s>Na primeru plesova američke postmoderne plesačice Lore Din (Laura Dean), Biringer ukazuje na lepotu kvaliteta pokreta ili ritmičkih formi, značajnih za američki ples.</s><s>Nasuprot tome, nemački koreografi ispituju uslove samih društvenih performansa.</s><s>Oni ispituju uloge koje se identifikuju zahvaljujući rodu i ponašanju koji određuju naše međusobne odnose prema našoj kulturi u najširem smislu.</s><s>Društvene uloge i ponašanja nisu uvek lepi.</s><s>Zato nemački koreografi dramatizuju različite slike prostitucije, samougnjetavanja, teskobe i samo ponižavanja.</s><s>One se realistički postavljaju nasuprot popularnim mitovima o lepoti, sreći i uspehu.</s><s>Realnost fantazija, predstavljena je svakodnevnom rutinom i uvek ponavljanim naporima da se impresioniraju drugi.</s><s>Ta realnost je pokazana kao konstruktivna mreža internalizovanih društvenih konvencija.</s><s>U jednoj sceni, plesači paradiraju ispred velikih ogledala, a pre toga, ogledala su vezana za njihova leđa.</s><s>Vidimo ih kako nose teret sopstvenih slika.</s><s>Biringer ističe da se repetitivni mazohistički rituali Pine Baus i borba za ljubav i priznanje koje njeni plesači izvode jedni u odnosu na druge sa agresivnim pretvaranjem, mogu razumeti kao implicitna kritika društva.</s><s>S druge strane, piše on, da bismo ovu umetnost shvatili kao oblik kulturološke intervencije, moramo se setiti specifične nemačke teatarske, operske i baletske tradicije čiji su klasici uvek dominirali repertoarom od države finansiranih pozorišta.</s><s>Protiv tog repertoara i njegovih društvenih i političkih implikacija pobunile su se žene - koreografi, istinske naslednice Brehtovog epskog teatra.</s><s>One su to učinile sa žarom, budući da su bile svedoci uspešne rekonstrukcije starog patrijarhalnog poretka, ubrzo nakon što su se stišale strahote fašizma proizašle iz zapadne civilizacije.</s><s>Nasuprot tome, emancipacija ''čistog plesa'' u Sjedinjenim Američkim Državama postignuta je kada je Kaningamova generacija sebe oslobodila ne od prisila struktura finansiranih od države, već od emocionalne drame karakteristične za koreografije prethodnih koreografa.</s><s>S druge strane, u američkoj kulturi bodi-bildinga i aerobika slike patnje i straha remete uspostavljeni pejzaž, remete retoriku lepog, moći i brzine u tehnološkom Diznilendu.</s><s>Biringer zaključuje da su slike nasilja prihvatljve u filmovima i na MTV-u, gde se mogu izvesti tako da izgledaju lepe.</s><s>Ali u plesu niko ne bi želeo da vidi nakazna tela žrtava koja čak i ne plešu sve vreme.</s><s>SLAVENKO GRGUREVIĆ</s><s>Predsednik Lige za zaštitu privatne svojine i ljudskih prava.</s><s>Razgovarali: Slavko Živanov i Milorad Đurić Liga je formirana 1995. godine od brojnih organizacija i udruženja građana nastalih u periodu 1991. - 1994.</s><s>Članovi Lige su mali i srednji preduzetnici, zemljoposednici, naslednici nekadašnjih preduzetnika i vlasnika oduzete imovine od strane komunističkog režima bivše i sadašnje Jugoslavije, opljačkanih stediša, penzionera, brojnih uglednih ličnosti iz javnog i naučnog života Srbije i Crne Gore.</s><s>Osnovni cilj Lige je - kreiranje podrške i konkretno učešće u ravnoju procesa privatizacije, demokratskih institucija, pravnog ambijenta neophodnog za sprovođenje temeljnih društvenih i ekonomskih reformi u Srbiji i Crnoj Gori.</s><s>Liga neposredno sarađuje na najvišem nivou sa vodećim poslovnim krugovima u svetu, finansijskim institucijama (MMF, Svetska banka) i drugim organizacijama (UN, UNICEF, Helsinški komitet, CIVICUS).</s><s>Liga je inicirala i organizovala Savet za saradnju nevladinih organizacija u koji se uključilo preko sedamdeset nevladinih organizacija različitog profila: profesionalna udružena, nezavisni sindikati, udruženja građana za zaštitu ljudskih prava i dr.</s><s>KOŠAVA: U jednom od ranijih tekstova govorite o Privredniku - Srpskom privrednom društvu, osnovanom u Zagrebu krajem XIX veka, kao dobrom primeru građanskog samoorganizovanja.</s><s>Kakva je bila sudbina građanskih udruženja na našem prostoru u proteklih sto godina?</s><s>GRGUREVIĆ: Ideja civilnog društva nije novost na ovim prostorima.</s><s>Hteo bih, pre svega, da vas podsetim da je još u Kraljevini Jugoslaviji - ali i ranije, u Srbiji i drugim južnoslovenskim zemljama gde su živeli brojni narodi, postojao i razvijao se duh građanstva.</s><s>To se najpre odnosi na velike porodice koje su ostavile dubok trag u našoj istoriji.</s><s>U Novom Sadu, Petrovgradu (Velikom Bečkereku), Somboru, Vršcu, Beogradu, Nišu, Kragujevcu, Kraljevu i drugde, postojao je i razvijao se duh evropejstva, tolerancije i nacionalnog dostojanstva.</s><s>Duh građanstva se razvijao u brojnim udruženjima koja su osnivana još pre prvog svetskog rata.</s><s>To nije bio samo Privrednik koji je okupljao više desetina hiljada zanatlija i trgovaca - koji su pak i sami osnivali druga građanska udruženja, na primer za školovanje dece iz siromašnih zanatlijskih i seoskih porodica.</s><s>Između dva svetska rata su formirana brojna humanitarna društva, društva za vaspitavanje dece i omladine, razne vrlo uticajne organizacije: sokolska udruženja, ženska društva, sportska i prosvetna udruženja, itd.</s><s>Štedljivost, marljivost, patriotizam i poštovanje tuđih merila i vrednosti bili su osnovne odlike domaćeg vaspitanja u našim porodicama i to ne samo u gradskim sredinama.</s><s>Sazrevanje građanstva išlo je naporedo sa postupnim i mukotrpnim stvaranjem srednje klase u Kraljevini Jugoslaviji, što je nasilno prekinuto stradanjima u Drugom svetskom ratu i odmah po njegovom završetku - kada su predstavnici građanske klase fizički maltretirani, ubijani i proganjani od strane komunističkog režima.</s><s>Zato je ideja civilnog društva u komunističkoj Jugoslaviji proskribovana kao buržoaska.</s><s>Razlog je jednostavan: građansko društvo (građanin - na francuskom burzoa - bourgeois) je smatrano najvećim neprijateljem komunizma.</s><s>Sredinom osamdesetih godina ponovo dolazi do razvoja srednje klase u Jugoslaviji, koja je potom surovo uništena u ratnim razaranjima, totalnoj destrukciji i opštoj kriminalizaciji na području Srbije i Jugoslavije.</s><s>Mi smo sada ponovo na početku, a sama ta činjenica kazuje da bez srednje klase nema očekivanih društvenih promena.</s><s>Ako ista može spasiti Srbiju, to je uzdizanje srednje klase i razvoj civilnog društva.</s><s>KOŠAVA: Širom sveta civilna udruženja igraju kljucnu ulogu u razvoju demokratije.</s><s>Početkom devedesetih, nevladin sektor oživljava i u Srbiji.</s><s>U kojoj meri su naše nevladine organizacije nosioci društvenih promena?</s><s>GRGUREVIĆ: Jedan od glavnih nosilaca civilnog društva su nevladine organizacije.</s><s>Tu spadaju razna društva i udruženja, forumi, fondovi, klubovi i pokreti.</s><s>Njihove bitne karakteristike su: da ih nije stvorila vlast (iako vlast može sarađivati sa njima); da su neprofitne, odnosno da svoje prihode ne koriste nizasta drugo osim za sopstveno funkcionisanje; da je učešće u njima uvek dobrovoljno; da imaju elementarnu infrastrukturu (članove, izborne organe, statut i sl.); i da su autonomne.</s><s>Vladavina prava je temeljno načelo u funkcionisanju ovih organizacija koje isključuje voluntarizam lične vlasti, piramidalnu strukturu, princip jednoobraznosti i vladavinu većine nad manjinom.</s><s>Širom sveta ove organizacije igraju klučnu ulogu u razvoju demokratije, promociji pluralizma, jačanju uloge pravne države, borbi protiv siromaštva, i sl.</s><s>Sektor nevladinih organizacija je postao osnovna ekonomska snaga nacija širom sveta, u njemu je angaxovano na desetine miliona ljudi koji sve više pomažu oblikovanje nacionalne strategije i politike.</s><s>KOŠAVA: Jesu li nevladine organizacije partneri ili suparnici političkim strankama?</s><s>Ili se radi o paralelnim procesima?</s><s>GRGUREVIĆ: Zadatak političkih organizacija je da artikulišu i sprovode zahteve nevladinih organizacija.</s><s>Otuda nevladin sektor koji okuplja interesne neprofitne i lobističke organizacije ne funkcioniše kao politička organizacija, ali utiče na formiranje političkog mišljenja.</s><s>Zato su političke organizacije i nevladina građanska udruženja saradnici u procesu demokratizacije i stvaranju građanske atmosfere u svim zemljama sveta.</s><s>U SR Jugoslaviji je razvoj ovog sektora na početku: procenjuje se da na području Srbije i Crne gore funkcioniše oko pet hiljada ovakvih udruženja (u Hrvatskoj 12.000, u Mađarskoj 17.000, u Nemačkoj 820.000, u Francuskoj 600.000, a u SAD 1,200.000).</s><s>KOŠAVA: Nalazite se na čelu Lige za zaštitu privatne svojine i ljudskih prava, jedinstvene organizacije na području Istočne Evrope.</s><s>Privatna svojina je temeljno načelo na kojem počivaju moderna društva.</s><s>Možemo li kroz kategoriju privatne svojine razmišljati o razrešenju nekih aktuelnih problema - Kosova, na primer?</s><s>GRGUREVIĆ: Početkom devedesetih godina među malobrojnim nevladinim organizacijama bila su i udruženja građana za zaštitu privatne svojine i ljudskih prava u Čačku, Nišu, Užicu, Beogradu, Novom Sadu; ta udruženja su 1995. godine formirala Ligu za zaštitu privatne svojine i ljudskih prava, kao prvu mrežu nevladinih organizacija na području Srbije i Crne Gore.</s><s>Naše celokupno dosadašnje angažovanje je bilo u ključnom segmentu tranzicije u Srbiji i Crnoj Gori - u stvaranju atmosfere i uslova za sprovođenje pravne regulative u oblasti zaštite i unapređenja privatne svojine.</s><s>Naša velika preokupacija jesu restitucija i razvoj malog i srednjeg privatnog preduzetništva, jer smo uvereni da to predstavlja jedinstven put za razvoj preduzetničke energije i stvaranje podsticajnog poslovnog ambijenta - za slobodnu cirkulaciju kapitala, demokratsku atmosferu i duh građanstva - koga nema u zatvorenim i socijalno nestabilnim sredinama.</s><s>To je razlog što je faktor socijalne kohezije od presudne važnosti za motivisanost transnacionalnog kapitala na lokalnom i regionalnom nivou - gde je upravo razvoj malog i srednjeg privatnog preduzetništva glavni faktor socijalne stabilnosti i ekonomske efikasnosti.</s><s>Ovaj razvoj malog i srednjeg preduzetništva imao je veliki uticaj na stvaranje uspešnog paralelnog socijalnog i ekonomskog sistema Albanaca na Kosmetu.</s><s>Mi smatramo da je to bio iznuđeni proces koji se odvijao u okolnostima potpunog odsustva demokratske atmosfere, podsticajnog privrednog sistema a pod stalnim pritiskom totalitarnog režima iz Beograda.</s><s>Prava je šteta što se ti procesi nisu odvijali u normalnoj atmosferi koja bi omogućila stvaranje podsticajnih uslova za razvoj malog biznisa u trgovini, servisima i porodičnim proizvodnim pogonima.</s><s>Da je postojala takva poslovna atmosfera uspešno bi se razvijali i poslovni odnosi između Srba i Albanaca, a ne samo unutar njihovih getoiziranih populacija.</s><s>Ne smemo zaboraviti opšte priznato istorijsko iskustvo da ništa tako ne zblixzava ljude kao trgovina i poslovi.</s><s>Iz ovih odnosa se razvijaju partnerstvo, prijateljstvo a često i rodbinske veze.</s><s>Rešavanjem svojinskih pitanja na Kosmetu i u Srbiji oslobodila bi se ogromna preduzetnička energija za kreativne ciljeve, za povratak poverenja i prijateljstva između Srba i Albanaca koji vekovima žive zajedno na ovim prostorima.</s><s>Liga za zaštitu privatne svojine i ljudskih prava to oseća kao svoj strateški građanski i patriotski zadatak.</s><s>KOŠAVA: Možete li nam nešto više reći o tranziciji, odnosno, možete li nam dati izveštaj o stanju u postkomunističkim zemljama.</s><s>GRGUREVIĆ: Kada bi se jednom pojednostavljenom konstatacijom htelo da definiše stanje tranzicije, možda bi to bilo moguće tumačenjem da tranzicija znači put do kolektivnog ka individualnom poimanju sveta.</s><s>To je razlog što je u svim bivšim komunističkim zemljama prva mera bila restitucija svojinskih odnosa - reprivatizacija.</s><s>Pravni poredak je ustrojen na temeljima zaštite privatnog vlasništva koje predstavlja skup prava koje društvo, kroz različite zakonske sankcije, naslovljava na pojedinca.</s><s>To podrazumeva da sopstvenik poseduje pravo da koristi dobra, da isključi druge iz njihove upotrebe, da ubire koristi iz njih, da im menja oblik i sadržaj i da ih prenese drugima.</s><s>U takvim okolnostima motivacija je jasna: uvećanje dobiti, iz čega sledi slobodno preduzetništvo - odnosno pravo pojedinca da odabere ekonomsku aktivnost koju želi, a pod uslovima koje slobodno ugovara i dogovara sa svojim partnerima ili ostalim ekonomskim akterima.</s><s>Osnovni uslov za takav poslovni odnos je institucija ugovora, čiju zaštitu preuzima država.</s><s>Zaštićeni prodavci i kupci ulaze u razne poslovne odnose na tržištu, gde se realizuje njihovo međusobno rivalstvo - konkurencija.</s><s>Svaki privatni akter se trudi da u datim okolnostima na tržištu (cene) maksimizira profit, što ga tera da se racionalno i pravedno ponaša: svako prisvaja samo onoliko koliko su drugi ljudi spremni da mu plate.</s><s>Međutim, stvaranje efikasne tržišne ekonomije u bivšim komunističkim državama je bio znatno veći poduhvat od same (re)privatizacije.</s><s>Privatizacija je jezgro tranzicije i njegov najsloženiji deo, ali reforma podrazumeva akciju u gotovo svim drugim oblastima ekonomskog života.</s><s>Zadatak je epohalan.</s><s>I mada su mnogi elementi takve ekonomske reforme poznati i već viđeni u drugim zemljama, složenost problema i neminovnost sveobuhvatne reforme čini put kojim se mora proći umnogome neispitanim.</s><s>Posebne teškoce donosi poprilična politička nestabilnost u mnogim zemljama gde se mlade demokratije i dosta nestabilne vlade suočavaju ne samo sa ekonomskim problemima, već i sa izraženim nacionalnim i drugim političkim tenzijama.</s><s>Najveći broj zemalja koje su donedavno imale socijalističke (komunističke) privrede zasnovane na kolektivnoj svojini, centralno-planskoj privredi i suspenziji tržišnog mehanizma - doživele su civilizacijski neuspeh i nalaze se na putu tranzicije u tržišnu privredu (izuzev Srbije, gde vladaju retrogradni procesi).</s><s>Tranzicioni procesi koji su započeti krajem osamdesetih godina obuhvatili su ekonomsku i političku rekonstrukciju bivših komunističkih režima.</s><s>Ekonomska reforma se sastojala iz četiri faze: makroekonomska stabilizacija, cenovna i spoljnotrgovinska liberalizacija, privatizacija, rekonstruiranje preduzeća i finansijskih institucija.</s><s>Započet sa velikim entuzijazmom, ovaj proces je ubrzo kod jednog broja zemalja (Rumunija i Bugarska) naišao na neočekivano visoke cene tranzicije.</s><s>U prvoj fazi nisu ostvareni svi ciljevi makroekonomske stabilizacije, a započeti procesi privatizacije praćeni su brojnim problemima, zloupotrebama i neefikasnošću.</s><s>Nejednaka startna pozicija, ritam i sadržina tranzicionih procesa u pojedinim zemljama stvorili su prepoznatljive tranzicione razlike.</s><s>Međutim, pravac promena u svim ovim zemljama je isti, a rešenost sa kojom se ove promene sprovode u 1997. i prvoj polovini 1998. godine npr. u Bugarskoj, gde je cena tranzicije bila najviša, ukazuje na stabilnost kursa usklađivanja institucionalnih uslova u zemljama u tranziciji Centralne i Istočne Evrope.</s><s>Ovo je posebno važno, jer iskustva razvijenih evropskih inicijativa ukazuju da zemlje sa različitom ekonomskom snagom, različitim međunarodnim položajem i čak nekompatibilnim privrednim sistemima - mogu biti kreatori uspešnog regionalnog okupljanja.</s><s>Zemlje u tranziciji sa podrućja Centralne i Istočne Evrope predstavljaju vrlo važan i podsticajni faktor globalne evropske integracije.</s><s>Istorijska usmerenost, geografska bliskost, značajni privredni i prirodni potencijali, pokrenuti i odmakli reformski procesi i strukturna prilagođavanja ukazuju na to da su zemlje Centralne i Istočne Evrope na putu da dostignu potreban nivo homogenizacije kao uslov za uspešno uključivanje u evropske integracione procese.</s><s>Naime, slobodna cirkulacija kapitala i radne snage podrazumeva stvaranje uslova za neutralisanje prekograničnih barijera - ali to nije jedini, iako jeste važan uslov za harmonizaciju privredno-sistemskih pretpostavki i regionalnu integraciju.</s><s>Zemlje Istočne i Centralne Evrope su u prilici da, kao promoteri novog regionalizma koji se zasniva na višim oblicima regionalne integracije (tzv. dubinske integracije) - svoju poslovnu sredinu u potpunosti prilagode institucijama i odnosima koji vladaju na razvijenom tržištu.</s><s>To će doprineti da se strani investitori na ovim novim tržištima osećaju kao u svom poslovnom ambijentu (u Zapadnoj Evropi), što ce biti podsticaj direktnijim stranim investicijama.</s><s>Zato reforme ekonomske politike u ovim zemljama imaju sofisticirane zadatke koji se sastoje u prilagođavanju zahtevima razvijenih tržišta (usklađivanje ekonomskog i političkog sistema, sinhronizacija ekonomskih prilika i dr.), ali i forsiranju sopstvenih prirodnih i drugih pogodnosti.</s><s>To je osnovni smisao i bit tranzicionih procesa u ovim zemljama.</s><s>Stara biblijska legenda o sedam mršavih krava je simbolično poredenje sa sedam nesrećnih godina propadanja Srbije i Jugoslavije (1991-1998.).</s><s>Poznavaocima ove legende je prepoznatljiva njena simbolika, ali tragičnost naše zbilje je u odsustvu vizije, kreativne energije i elementarne odgovornosti aktera jugoslovenske drame.</s><s>Tokom perioda 1991-1998. u Srbiji su ispoljene izrazito negativne tendencije i ograničenja u pogledu uslova i mogućnosti sveobuhvatnih strukturnih promena i prilagođavanja medjunarodnom okruženju.</s><s>Razmere destrukcije su sveobuhvatne: institucionalne, tehnološke, socijalne i ekonomske.</s><s>Najteža su socijalna i psihološka razaranja koja su dovela do strmoglave duhovne i moralne saturacije.</s><s>Povratak Srbije i Jugoslavije u svet zahteva temeljnu rekonceptualizaciju i dubinsku promenu strukture, povratak osnovnim civilizacijskim vrednostima - individualnoj odgovornosti, kreaciji i toleranciji.</s><s>Takav poduhvat pre svega podrazumeva znanje, neophodnu preduzetničku energiju i politićku volju.</s><s>KOŠAVA: Koji metod privatizacije, s obzirom na naše uslove, treba primeniti?</s><s>Ima li u tom metodu mesta za holding-kompanije, kao spone između državnog i privatnog kapitala?</s><s>GRGUREVIĆ: Pri izboru najboljeg metoda privatizacije treba imati u vidu tri ključna kriterijuma: doprinos dobrom upravljanju, brzinu i pravednost.</s><s>Treba znati da je restitucija bila prva faza privatizacije u svim zemljama oslobođenim od komunističkog režima.</s><s>Druga značajna činjenica je da je privatizacija sprovedena zarad stvaranja modernog i efikasnog društva gde je doprinos valjanom upravljanju preduzećima od presudne važnosti.</s><s>Osim toga, svaki dan odugovlačenja sa privatizacijom nanosi veliku materijalnu štetu pa je potrebno da se to obavi što je moguće brže.</s><s>Sigurno je da privatizacija kroz prodaju obezbeđuje dobro upravljanje preduzećem, pošto će onaj ko ulozi sopstveni novac učiniti sve da ono posluje što bole.</s><s>Dosadašnja iskustva su pokazala da postoje razna ograničenja privatizacije kroz prodaju društvene i državne imovine (nedovoljna kupovna snaga, problem procene vrednosti predužeća, nejednakost građana - nepravednost i sporost) što podstiče traganje za alternativnim rešenjima.</s><s>Jedan takav koncept je besplatna podela vlasništva svim građanima jedne države.</s><s>Jedan vid besplatne privatizacije - pomoću holding kompanija daje krupne vlasnike što je pretpostavka dobrog upravljanja.</s><s>No, nije sasvim jasno ko će upravljati samim kompanijama jer će vlasništvo nad njima biti jako disperzivno - biće na milione vlasnika.</s><s>Samim tim javlja se realna opasnost da ili uprava holding kompanija bude potpuno samostalna i nenadzirana (što bi se neminovno negativno odrazilo na efikasnost i kompanije i preduzeća u njihovom vlasništvu) ili da se država umeša i radi zaštite nacionalnih interesa preuzme (formalno ili neformalno) kontrolu nad tim kompanijama, sa lošim posledicama.</s><s>Drugi vid besplatne podele je vaucerska privatizacija.</s><s>U Istoćnoj Evropi poslednjih godina je primetna prevaga koncepta besplatne privatizacije, i to prvenstveno vaucerima.</s><s>Brojne bivše komunističke zemlje sprovode ili pripremaju takvu privatizaciju: Ceška, Slovačka, Rusija, Ukrajina, Estonija, Litvanija, Mongolija - i Crna Gora predviđa u svom postojećem zakonu o transformaciji mogućnosti izdavanja vaucera.</s><s>U Srbiji je odobrena prodaja preduzeća - a ne besplatna podela; dominacija akcionarstva zaposlenih - a ne spoljnih vlasnika; relativno brzo stvaranje nekompletne svojinske strukture a zatim njena dekapitalizacija.</s><s>Takav koncept ima određene prednosti (ubiranje prihoda od strane države, relativno široka disperzija vlasništva, mogućnost dosta brzog stvaranja upravljačke strukture u nekim preduzećima, zasnovane na (nekompletnom) privatnom vlasništvu - ali su zato nedostaci preovlađujući.</s><s>Da pomenem neke: nedovoljan obim domaćeg kapitala, sporost privatizacije, iscrpljivanje privatne štednje, teškoće sa ocenom vrednosti preduzeća; dominacija unutrašnjih investitora - zaposlenih; sporo stvaranje trzišta kapitala usled dominacije internih, neotplaćenih akcija; podržavljenje značajnog dela privrede, itd.</s><s>Važan problem je činjenica da je velika većina transformacija izvedena stvaranjem mešovitih društava u kojima dominira društveni kapital, dok je privatni od marginalnog značaja.</s><s>Takva konstelacija stvara mogućnost za razne spekulacije onih koji upravljaju preduzećem (prelivanje prinosa društvenog kapitala kroz zarade).</s><s>Zanimljivo je da je u Srbiji oko jedne trećine preduzeća transformisano u akcionarska društva ali je ucešće privatnog kapitala vrlo malo - verovatno manje od 5%.</s><s>To je još jedan razlog koji ide u prilog vaucerskoj privatizaciji u Srbiji.</s><s>Međutim, sva prethodna razmatranja o metodama privatizacije kao neophodnu prethodnu fazu podrazumevaju restituciju.</s><s>Budući da smo ovde govorili o privatizaciji preduzeća, valja reći da postoje transparentna i efikasna iskustva za neophodnu restituciju u procesu njihove privatizacije.</s><s>Postoje dva načina fizičkog povraćaja - uz nadoknadu vrednosti ulaganja koja su usledila posle nacionalizacije, i uz pomoć denacionalizacionih vaucera koji omogućuju učešće u upravxanju preduzećima.</s><s>Nikad se ne sme zaboraviti činjenica da je restitucija bila model privatizacije u svim zemljama oslobođenim od komunističkog režima.</s><s>U svim ovim zemljama ona je bila dokaz da su njihove vlade iskreno opredelene za privatizaciju, a to je bio i najbolji podsticaj stranim investitorima.</s><s>Osim toga, restitucija je poslužila kao snažan motivacioni faktor u revitalizaciji srednje klase koja se pokazala efikasnom u sprovođenju reformskih procesa.</s><s>KOŠAVA: Ipak, glavni konkurent privatnoj svojini kod nas i dalje ostaje - društvena svojina...</s><s>GRGUREVIĆ: Vaše pitanje me je podsetilo na jedan istinit događaj koji se zbio u Americi 1962. godine.</s><s>Tadašnji predsednik SAD, Džon Kenedi vraćao se sa svojim saradnicima iz vojne baze u Kejp Kanaveralu.</s><s>U predsedničkom helikopteru se desio kvar i Kenedi je, na nagovor svojih saradnika, naredio sletanje.</s><s>Nisu bili takoreći ni par minuta na zemlji kada je iz jednog sumarka istrčao nepoznat čovek sa uperenom puškom, vičući kako će ih sve pobiti ukoliko odmah ne napuste njegovo imanje.</s><s>Kenedi je momentalno naredio poletanje njegovog i pet vojnih helikoptera koji su bili u pratnji, jer je znao da bi svaki dalji ostanak u ovoj situaciji doveo do incidenta.</s><s>Ovaj događaj pokazuje svu paradoksalnost naše situacije u pogledu statusa privatne svojine koja je od legalnih vlasnika oduzeta posle Drugog svetskog rata - od kojih su mnogi poubijani, proveli godine u zatvorima a porodice im bile maltretirane.</s><s>Autoritarna vlast je tako poništila srednju klasu, ukinula privatnu svojinu i srušila demokratiju.</s><s>Društvena svojina je postala vladajući oblik svojine - ona je bila ničija i svačija - i sve dotle dok je bivša Jugoslavija bila korisnik inostrane pomoći (od pedesetih do polovine osamdesetih) privreda, državne i socijalne ustanove su mogle da funkcionišu na ovakvom obliku vlasništva.</s><s>Onog trenutka kada je ta pomoć presahla, jugoslovenska privreda i društveni sistem su propali.</s><s>Dakle - ne postoje prednosti, vec samo nedostaci društvene svojine u odnosu na jedine oblike svojine: državnu i privatnu.</s><s>Ustvari, društvena svojina je partijska svojina komunosocijalističke oligarhije i njen osnovni nedostatak je u sferi motivacije - njeni ciljevi nisu dobit i uvećanje imovine već raspodela (zaposlenost, poreski prihodi i politička popularnost).</s><s>Jedini priznati stvaralački akter je rad a ne kapital, što osnovni ekonomski cilj - EFIKASNOST čini nedostižnim.</s><s>Osim toga, radnici - samoupravljači u društvenom preduzeću nisu u principu motivisani da štede i na taj način uvećavaju imovinu preduzeća; oni dobro znaju da društvena imovina nikada neće biti njihova (privatna), tako da je štednja na nivou preduzeća destimulisana u poređenju sa štednjom kapitalističkog preduzeća i privatnom štednjom.</s><s>Prosto rečeno: samoupravljači u društvenim firmama jedino su zainteresovani za što je moguće veće lične dohotke, jer jedino na taj način mogu povećati svoju imovinu.</s><s>Da bi se onemogućilo prelivanje društvene imovine u lične dohotke, kao vršilac kontrolne funkcije koja je u stvari vlasnička - javlja se država odnosno državno-partijski aparat.</s><s>Preuzimanjem mnogih vlasničkih kompetencija posao državno-partijskih organa postaje neefikasan, jer njegovi predstavnici donose odluke ne snoseći nikakav - ni finansijski ni vlasnički rizik, a pored toga po pravilu nisu ni stručni za taj posao.</s><s>To je razlog za razne promašene investicije i održavanje temelj privrede i društva a profit ciljna funkcija, individualna odluka vezuje rizik i ličnu odgovornost - zbog čega se favorizuje znanje, a nepresušna preduzetnička energija u slobodnom nadmetanju na tržištu stiže do cilja: uvećanje imovine i bolji kvalitet života.</s><s>Osnovnu funkciju države u takvim sistemima formira biračko telo: milioni malih i srednjih vlasnika čiji je osnovni cilj- zaštita sopstvene imovine kao i kulturnih i socijalnih institucija društva kojima pripadaju.</s><s>Zato se u tim zemljama može često čuti sledeće tumačenje (kad je privatna svojina u pitanju): kad je čovek svoj na svome onda je on ekonomski nezavisan - slobodna ličnost koja bira vlast upravo onakvu kakvu želi; ako ona ne ispunjava njegove zahteve, on je menja.</s><s>Dakle, u društvima gde vlada privatna svojina moć nije u državnoj administraciji, već kod onih koji vlast biraju.</s><s>KOŠAVA: Društvena moć je decentralizovana...</s><s>GRGUREVIĆ: U takvim državama model organizacije društva je decentralizacija, jer se izuzetna važnost pridaje lokalnoj samoupravi odnosno mestu gde ljudi žive i rade.</s><s>U malim decentralizovanim zajednicama je život kvalitetniji, zavidna je socijalna kohezija: niski troškovi života, podsticajni socijalni uslovi, brojne mogućnosti za razvoj i održanje malog porodičnog biznisa (niska poreska izdvajanja).</s><s>To je razlog što se posebna pažnja poklanja prevashodno razvoju malih i srednjih preduzeća a ne velikim, centralno ustrojenim firmama koje su spore i nefleksibilne.</s><s>Decentralizacija i minizacija nisu samo model organizacije preduzeća već su i model državnog uređenja.</s><s>Današnje moderne države su u stvari mreže malih decentralizovanih zajednica.</s><s>U sličnim okolnostima, kada se na lokalnom nivou postiže neophodni nivo ekonomske efikasnosti i socijalne koherencije i odnos građana prema klasičnim institucijama države se menja - države bivaju sve manje značajne.</s><s>U okolnostima dostignute socijalne kohezije, klasične forme države u razvijenim zemljama sve više dobijaju karakter regionalnih i subregionalnih integracija koje oslobađaju prostor za slobodnu cirkulaciju ljudi, znanja i ideja.</s><s>U našim uslovima na sceni su sasvim suprotni trendovi: maksimilizacija umesto minimalizacije, centralizacija umesto decentralizacije, autoritarna vlast umesto demokratskih institucija, jednoobraznost umesto raznovrsnosti - i sve to u okolnostima odsustva realnih svojinskih odnosa i institucija privatnog vlasništva.</s><s>Cena za takav anticivilizacijski trend je surova: Srbija je izbačena iz civilizovanog sveta - usamljena u svojoj propasti.</s><s>OBJAVA BROJA 46 486 800 ILI STILSKE VEŽBE</s><s>Razgovarao: Milorad Đurić</s><s>foto: Saša Gajin</s><s>Intervju sa Lidijom Merenik, umetničkim direktorom III Jugoslovenskog likovnog bijenala mladih u Vršcu</s><s>KOŠAVA: Imenovani ste za umetničkog direktora 3. Jugoslovenskog likovnog bijenala mladih.</s><s>Šta za Vas predstavljx Bijenale?</s><s>Sa kojim pretenzijama ulazite u ovaj projekat?</s><s>MERENIK: Bijenale je za mene fantastičan izazov.</s><s>Da bi se ovakva izložba uspešno zaokružxila, potrebno je i dosta iskustva, i dosta hrabrosti, a najviše ljubavi.</s><s>Već sam radila na organizaciji velikih izložbi, prva dva Bijenala na Cetinju, recimo, tako da znam šta me čeka.</s><s>Ali, s druge strane, ja zaista obožavam da radim izložbe.</s><s>U rad na izložbi smo svih petoro (Jelena Vesić, Nenad Radić, Dragan Jelenković, Ivan Jović i ja), ušli, pre svega, sa velikom radoznalošću i \"borbenim\" duhom.</s><s>Naša najveća pretenzija je da budemo kreativni i pozitivni, i da, nakon obavljenog posla, izložbu poklonimo vama i umetnicima.</s><s>Ovi mladi umetnici takođe mnogo očekuju od izložbe i vidim da joj se zaista raduju i da se ozbiljno pripremaju.</s><s>Mojim mlađim kolegama, Jeleni, Nenadu i Ivanu, rad na izložbi će takođe značiti jedno dragoceno iskustvo istoričarsko umetničke prakse.</s><s>KOŠAVA: Na koji način je izvršena selekcija umetnika?</s><s>MERENIK: Bijenale kao da je prethodne četiri godine patilo od neodlučnosti: da li izložbu raditi po uzoru na predratno Bijenale na Rijeci, Oktobarski salon i sl, ili usvojiti drugačiji organizacioni model.</s><s>Prethodnih godina selektori su kombinovali otvoreni konkurs sa \"pozivom\".</s><s>Time je, nehotice, napravljena kastinska podela izlagača: onih koji čekaju pred šalterom \"komisije\" i onih \"koji se podrazumevaju\".</s><s>S druge strane, ispostavilo se da većina umetnika svoj rad nekako \"podrazumeva\" i da ne želi da odgovori na otvoreni oglas-konkurs.</s><s>Ja nisam želela socrealistički princip uranilovke niti takve, demagoske jednakosti za jedne i privilegovanosti za druge.</s><s>Nije umetnost za oglas, ni na oglas.</s><s>Iako vas, priznajem, \"oglas\" često lišava istinske, autorske, lične, odgovornosti.</s><s>Uvek možete da kažete: Pa, eto, ovi su se javili, to vam je to, ja nisam odavde.</s><s>E, upravo da se tako šta ne bi desilo, ja sam uvek spremna da podelim dobro i zlo sa izložbom koju radim, zato što uvek, potpuno, stojim iza svog izbora i ne svaljujem krivicu na \"oglas\", metaforicki rečeno.</s><s>Duboko verujem u autorski pristup, u snagu individualnog.</s><s>U umetnosti i kulturi ovakav je pristup neophodan, jer nas samo on odvaja od totalitarnih, dogmatskih, u populizmu i kolektivizmu usančenih parakulturnih modela.</s><s>Potrudili smo se da pogledamo radove ili dokumentacije oko 70 mladih umetnika.</s><s>Pozvali smo ih zatim sve na tzv. pozivni konkurs i molili ih da predlože novi rad, projekat ili već postojeći rad.</s><s>Nismo im ništa uslovljavali, znajući da rade u finansijski mizernim okolnostima, i da je i samo Bijenale finansijski iznureno do mere da ne može da finansira izradu umetničkih radova.</s><s>Na ovaj poziv odgovorilo je 95% umetnika.</s><s>Zatim smo ponovo gledali njihove radove i projekte, razgovarali sa njima i sl.</s><s>Onda smo odabrali 45 umetnika, iza kojih sada stojimo, i za koje odgovaramo.</s><s>\"Jedini\" kriterijum je bio dobar, zanimljiv, kvalitetan, simpatičan, duhovit, maštovit predlog.</s><s>To su ljudi koji misle izvan šablona, ljudi koji znaju da srce nije srcastog oblika, ili barem u to često sumnjaju.</s><s>KOŠAVA: Slaz ete li se sa stavom da su se uloge kritičara i umetnika približile?</s><s>Nameravate li da samo registrujete stanje ili da kreirate (svoju) sliku umetničke scene?</s><s>MERENIK: Ne znam koliko su se, kako Vi kazete, \"uloge\" umetnika i kritičara približile.</s><s>Uistinu ne znam šta to znači, niti sam o sebi ikada mislila kao o \"kritičaru\" koji \"kreira\" bilo šta, osim, možda, sopstveni tekst o umetnosti.</s><s>Uvek je bilo umetnika koji su umeli da sopstveni rad protumače bolje od istoričara umetnosti, ili su, nezadovoljni, mislili da to umeju, uvek je bilo kritičara koji su nekada opravdano, nekada neopravdano, stvarali trendove ili ih promovisali.</s><s>Sve su to, zapravo, legitimne pojave umetničkog života; vreme je da se na njih naviknemo.</s><s>Ali, ovde nije o tome reč.</s><s>Ta vrsta liderstva (ili, u krajnjoj konsekvenci, autoritarizma) me nije nikada zanimala.</s><s>Pogotovo me ne zanima sada, kada treba predstaviti najmlađu umetničku scenu.</s><s>Bilo bi nepravedno i nemoralno praviti bilo kakve \"hirurške\", \"prokrustovske\" zahvate unutar jedne inventivne, duhovite, iskrene umetnosti, kakva je ova koju ćemo videti na Bijenalu.</s><s>Moja teza će slediti umetnički materijal, neće mu prethoditi.</s><s>Ja u ovom trenutku ni nemam tezu.</s><s>To je razlog što izložba nije imala unapred \"zadatu\" temu ili naslov.</s><s>Jednostavno, moji saradnici i ja smo hteli da damo što objektivniji presek scene.</s><s>U pitanju su umetnici čiji je prosek godina oko 25-26.</s><s>Dakle, pomerili smo starosnu granicu u korist mladih.</s><s>S druge strane, pomerili smo granicu u korist neetablirane, neafirmisane umetnosti ogromnih potencjala, a izvan bilo kakvog imaginarnog ili postojećeg mainstreama.</s><s>Rizikujemo da nam kažu: Fuj, napravili ste panoramu.</s><s>Ušli smo u rizik rada sa novim/nepoznatim umetničkim vrednostima koje nije \"verifikovao\" nekakav spoljni autoritet, koji bi kazao: ovo je in, ovo je out.</s><s>Verujemo jedino u autoritet slobode mišljenja i slobode stvaranja.</s><s>Idemo against all odds, uzvodno.</s><s>KOŠAVA: Planirate li prateće programe na ovogodišnjem Bijenalu?</s><s>Da li će i ovog puta biti organizovan simpozijum?</s><s>MERENIK: Nema pratećih programa, osim izložbe u staroj Apoteci.</s><s>Odustali smo, pre svega zbog finansijskih problema, od drugih pratećih sadržaja.</s><s>Simpozijum Pop vision organizovan pre dve godine je bio odličan, ali, nije izazvao širu pažnju kolega.</s><s>Doživeo je i niz malicioznih \"komentara\" upravo od ljudi koji nisu bili tamo prisutni.</s><s>Mi ove godine nemamo mogućnosti da napravimo tako kvalitetan simpozijum, pre svega zbog toga što za njega nemamo sredstva.</s><s>S druge strane, procenili smo da je besmisleno organizovati simpozijum za koji ne bi, iz raznih razloga, bili zainteresovani baš oni kojima je namenjen.</s><s>Sami \"okrugli stolovi\" su sasvim jalove, nemaštovite forme, gde se učesnici obraćaju sopstvenim sujetama, pa smo i to hteli da izbegnemo.</s><s>Naša izložba je otvorena za sve stručnjake i kolege koji žele da je vide, prikazu, kritikuju i sl.</s><s>Verujem da će srpska likovna kritika već naći prostor u javnim glasilima da izložbu oceni, a ostali mogu da nam se jave dopisnicom ili e-mailom.</s><s>Radimo ambiciozan katalog koji producira Centar za savremenu umetnost i koji ćemo promovisati na jesen.</s><s>U ovom trenutku, katalog nam je daleko važxniji od bilo kog pratećeg sadržaja, upravo zato što će postati važan i vredan dokument najmlađe likovne scene danas.</s><s>KOŠxAVA: Centralna izložba biće postavljena u Konkordiji.</s><s>Da li ćete koristiti i neke vangalerijske prostore u Vrscu?</s><s>MERENIK: Vršac ima toliko genijalnih potencijalno-izlagačkih prostora, da je zaista prava šteta što za njih skoro niko nije zainteresovan, osim samih organizatora Bijenala.</s><s>Stalno se, u našoj zemlji, u tako divnim prostorima otvaraju neki \"klubovi\" i neke kafane.</s><s>Malo je ljudi koji ulazu u nekomercijalnu umetnost, i zato ih, sve, jako poštujem.</s><s>Što se tiče Konkordije, to je prostor veoma komplikovan za izložbu, ali istovremeno zaista savršen.</s><s>Žilavo ćemo se sa njim boriti.</s><s>Izložba će biti otvorena još i tamo gde nam se to omogući, videćemo da li u prostoru Mlina ili, pak, stare Robne kuce ili nekom trećem.</s><s>Ja više ne znam od koga sve to zavisi, niti sam sigurna je li sam grad Vršac dovoljno zainteresovan za uspeh izložbe, ili je čitav ambiciozni projekat pao na teret organizatora.</s><s>KOŠAVA: Recite nam nešto i o metodologiji i artikulaciji izložbe</s><s>MERENIK: U jednom kratkom trenutku sam mislila da pravimo Potemkinova sela.</s><s>Onda sam mislila da je sve to skupa jedno Sumnjivo lice, neka neobična fela ljudi iznikla daleko od stabla turbo-dance scene i ideala \"lakog\" i \"novog\" novca, neka \"plava riba, kljukana dinastija\", nešto potpuno OFF.</s><s>Sad mislim da su to za nas Stilske vežbe, nešto po Kenou: može dvostruko, može subjektivno, može neusiljeno, medicinski, ironično, metaforično, blesavo, popularno, nervozno, zastrašeno ili veselo.</s><s>U suštini naše \"metodologije\" je (da nemamo metodologiju), s jedne strane, pozitivna potemkinizacija, s druge, stilske vežbe koje pokazuju lepotu kraja veka: mnoštvo, zamor, vrt.</s><s>To je neartikulisana artikulacija i obrnuto.</s><s>Tu negde ćemo \"situirati\" izložbu.</s><s>Zato će u naslovu stajati: Objava broja 46486800 (to će, da Vam otkrijem tajnu, biti i naša mala posveta Tomasu Pinconu).</s><s>I mene zanima šta će se dalje dešavati.</s><s>�Mečka� na usijanom limenom krovu</s><s>Piše: Dušan Vidaković Kada je austrijski konzul u Nici Emil Jelinek 1901. naručio od nemačkog Dajmlera, odjednom, čak 36 automobila, čija je ukupna cena premašila fantastičnih 550 hiljada zlatnih maraka, imao je samo jedan uslov: da sva ta kola nose ime njegove ćerke.</s><s>Ljudi iz kanstatske firme, naravno, nisu imali ništa protiv, a istorija automobilizma je imala sreću da je Jelinekovoj mezimici kum dao (pogotovo za Špance) vrlo graciozno ime - Mercedes, što na jeziku konkvistadora znaci ljupkost, umilnost, prijatnost.</s><s>Jelinekova porudžbina značila prekretnicu u poslovanju Dajmlera, a naziv Mercedes je preživeo i fuziju sa fabrikom Karla Benca, 1926. godine, održavši se do danas kao sinonim za kvalitetne, luksuzne i, nadasve, bezbedne automobile svojstvenih vozačima koji ne kriju brige u novčaniku.</s><s>Međutim, upravo legenda o blistavosti trokrake zvezde doživljava ovih dana ozbiljnu proveru zahvaljujući mercedesu A klase.</s><s>A sve je, ustvari, počelo kada je tim vrhunskih stručnjaka, pod rukovodstvom Haralda Leskea, još početkom osamdesetih, krenuo u stvaranje generacija jednozapreminskih kombi-limuzina za potrebe štutgartskog koncerna iz Mercedesstrase.</s><s>Tako je 1982. godine promovisano koncept-vozilo NAFA, dugačko dva i po metra i namenjeno prevozu roba na manjim distancama i u urbanoj gužvi; na bazi toga će, 1999. godine, početi proizvodnja automobilčića smart u saradnji sa fabrikom satova Svoč.</s><s>Potom je, celu deceniju kasnije, na auto-salonu u Detroitu skinut veo tajne i sa projekta F-100, mini-vena sa solarnom baterijom ugrađenom u krov i fenomenalnim koeficijentom otpora vazduha (ć=0,20), koji bi trebao da parira automobilima kakvi su reno espas, tojota previja ili 'pontijak transport.</s><s>Konačno, na frankfurtskom sajmu, u jesen 1993, predstavljen je i prototip vižn A, što je izazvalo nevericu jer je nagovestilo skori Mercedesov silazak u srednji (konfekcijski) tržišni segment, diktiran recesijom.</s><s>Ne obazirući se na skeptičnost četvorotaktne planete, Mercedes je prošle jeseni vižn A proizveo u svoju A klasu i gurnuo ga na tržište sa dva benzinska motora od 1,4 (82KS) i 1,6 (102KS) litara i parom turbo-dizela od 1700 kubika, ali sa različitom snagom - 60 i 90 'konja.</s><s>Najveću sablazan tom prilikom proizvele su patuljaste dimenzije klase A: sa tri i po metra dužine novi merdža je, na primer, 33 santimetra kraći od stojadina.</s><s>Kako je i red, volana malog automobila najpre su se prihvatili specijalizovani poslenici sedme sile.</s><s>Njih 1.500 je, tokom dva godišnja doba promotivnih vožnji, prevalilo pola miliona kilometara klasom A bez ikakvih problema i zakeranja, i kada se činilo da ce najnoviji mercedes stići pred kupce sa odličnim preporukama, dogodila se vlažna pista jednog švedskog aerodroma.</s><s>Drugim recima: znameniti loštest.</s><s>Pri punom opterećenju i brzini od 65 km/h vozilo je, trebalo da pređe iz desne u levu kolovoznu traku i da se vrati natrag, da bi eskiviralo zamišljenog severnog jelena koji je 'iznikao na putu.</s><s>Takav manevar A klasa nije izdržala: mercedes se obrnuo na krov, a novinari koji su bili u njemu - u bolnici.</s><s>Treba li naglašavati: Šveđani kao autori ovog testa i glavnih Mercedesovih konkurenata - Saaba i Volvoa - posebno su insistirali na nestabilnosti najnovijeg virtemberskog pulena.</s><s>Da smola bude potpuna, sve se to dogodilo nedugo pošto je najprestižniji model, mercedes 600, opremljen svim mogućim čudesima pasivne bezbednosti, nije uspeo da spase princezu Dajanu posle bliskog susreta sa jednim pariskim betonskim stubom.</s><s>Nemajući kud, Mercedes je pravdanje započeo pričom da su gume na A klasi (175/65 R 15) imale odveć slabu koncentraciju nadražujućih sastojaka, pa je kod naglog usporavanja, došlo do distribucije opterećenja sa pneumatika na sistem vešanja uz iznenadno ubrzavanje točkova.</s><s>Ipak, uskoro je Jirgen Hubert iz Mercedesovog Upravnog odbora podvio rep dozvolivši mogućnost da se mala mečka našla sa točkovima u vazduhu zbog mehaničke mane.</s><s>Zato je u pomoć pozvan Elektronski stabilizacioni program (ESP) po prvi put instaliran, pre tri godine, u mercedesima elitnog ranga.</s><s>Ovde je, u stvari, reč o senzorima, primenjenim u formuli 1, koji korespondiraju sa sistemima protiv blokiranja kočnica i proklizavanja.</s><s>Tako ESP iskljućuje mogućnost vozačevog previda pri korišćenju papučice gasa ili kočnice.</s><s>Ova spravica košta oko 5.000 DEM i, blagodareći lošu, ni krivi ni dužni, za džabe su je dobili vlasnici i najmanjeg mercedesa, ali je, bogme, tek uz njen angažman i klasa A uspela da zaobiđe severnog jelena.</s><s>A da se ne bi provukla jos kakva neprijatnost, mercedesovci su pribegli i dopunskim starovremenskim trikovima za uravnoteženje automobila: ugrađeni su tvrdi amortizeri i spojleri, skoljka je primaknuta tlu za 13 (napred), odnosno 10 milimetara (nazad), dok je razmak između točkova povećan za 1 na prednjoj i 12 milimetara na zadnjoj osovini.</s><s>Već pominjani pneumatici su zamenjeni novim, dimenzija 195/50 R 15.</s><s>Konačno, u akciju obnove poverenja u (tradicionalnu?) germansku stabilnost uključen je i austrijski avioprevoznik Niki Lauda, trostruki šampion formule 1, ali su, za svaku sigurnost, superuspešna testiranja mercedesa A podržanog ESP-om obavljena su u mediteranskoj atmosferi staze Katalunja kraj Barselone, gde losovi retko zalaze.</s><s>Posle ovako mučne epizode, kao da su u drugi plan potisnute sve novotarije malog mercedesa: automatsko kvačilo za manuelni menjač, neverovatno lak (70kg) mehanizam transmisije kod automatika ili ASSYST uređaj koji vozača podseća da je trenutak za redovni servis.</s><s>Minorizovane su vrednosti duplog dna automobila u koje su smešteni menjač i dobar deo motora.</s><s>Da ne govorim koliko je postalo sumnjivo to što je A klasa prvi mercedes sa pogonom preko prednjih točkova.</s><s>ABS sistem, servo-ojačivač volana i er-begovi su tek mačka u džaku, baš kao i branik koji, bez oštećenja, trpi udarce do 5 km/h.</s><s>Razume se, dobra PR agencija će, ipak, lako isfabrikovati dovoljno zapadnoevropskih kupaca kojima ce baš ovakav autić biti neophodan, ali se, naposletku samo nameće pitanje kako bi se tek ovaj mikromini-ven ponašao na testu izbegavanja rupa po našim drumovima, koje svakodnevno i uživo upražnjavaju domaći šoferi.</s><s>I onda sledi logičan zaključak: verovatno zato A klasa još nije stigla na naše tržište.</s><s>Blow up</s><s>UOBLIČAVANJE SVETOVA</s><s>IKON knjige - edicija za početnike</s><s>Piše Nikola Suica Svojevrsni vodiči Za početnike izdavačke kuće Ikona iz Kembridža, trasirani su kao misaoni zadaci saznavanja.</s><s>Principi i idejne osnove određenih civilizacijskih fondacija i pojava, kao i biografska kretanja izabranih ličnosti, podvrgnuti su rigoroznom izboru odgovarajućih scenarija i adaptaciji stručnjaka iz različitih oblasti.</s><s>Makijaveli, Njutn, Hegel ili Lakan, na primer, predstavljeni Za početnike, oblikovani su vizuelno tekstualnim prepletom zahtevnim za pažnju čitalačkog stupanja u značaj njihovih dostignuća.</s><s>Postajući izazov za primenjeni slikovni zanat crno -belih predstava, ilustracija i kolaža, ovi putevi postmodernističkog prosvećivanja umnogome su koristan odraz vremena prezasićenog informacijama.</s><s>Početkom osamdesetih godina, beogradski izdavač Studentski izdavački centar, objavio je tri naslova, zapravo prva ostvarenja na principu ovih konciznih i bogatih zamisli: Marks, Frojd i Ajnštajn za početnike, sada su već stekli antikvarnu vrednost.</s><s>Uključene u ediciju, koju je smislio urednik Ričard Apinjanezi, te tri knjige kolosalnih ličnosti modernog doba upotpunjene su izazovnim eklektičkim stapanjem pristupa i razmišljanja.</s><s>Bez digresija, primeri povezivanja reči i stvorene slike, na pozitivistički način usmeravaju duhovite pretrage i uvide.</s><s>Podela između pisaca teksta i autora slikovne pripovesti kroz delovanje određene ličnosti ili pojave u većini knjiga ispunjena je efektnim predstavljanjima tekstovima univerzitetskih stručnjaka ili pisaca i jednako, primenjenim ilustratorskim rešenjima na način grafičke novele.</s><s>Imajući umnogome posao svođenja i demonstracije apstraktnijih ideja ili asocijativnih povezivanja, mnogi ilustratori i strip crtači - kakav je uz Apinjanezija, jedan od inicijatora edicije - Oskar Zarate (između ostalih naslova, odgovoran za vizuelnu stranu Frojda, Lenjina, Kvantne teorije i Makijavelija) - pribegli su efektnom prelamanju svake stranice kao posebne epizode objašnjenja, stvarajući pregledna polja u parametrima brze jezgrovite informacije.</s><s>Tako Makijaveli za početnike, uz tekst londonskog istoričara i pisca Patrika Karija predstavlja renesansnu ličnost u domenu prodornih opservacija i značaja unutar aktuelnih zbivanja.</s><s>Kako je makijavelizam raxirena zamenica za prevaru i oportunizam, analiza renesansnog prototipa u društvenim neredima uzdiže se prema recepturama uspešnog kolektivnog upravljanja u duhovitim instruktivnim zapažanjima.</s><s>Izgnan od strane Medičija iz firentiske Republike, putem predstavljenih idejnih uticaja, Makijaveli postaje vesnik moderne političke misli i ponasanja.</s><s>I kako se u knjizi očigledno demonstrira, ozračje uticaja ideja iz 16. veka sudeluje u raznim vidovima ovovremene vrednosne i građanske prirode ponašanja, utemeljivši savremene političke teorije i ekonomska očekivanja.</s><s>Mobilni telefoni ili amplitude berzanskih akcija imaju zapaženo mesto, kao i Klinton, Margaret Tačer ili mapa balkanskih ratovanja.</s><s>Mislilac i pisac Vladaoca predstavljen od strane Karija i Zaratea upotpunjuje analizu temelja funkcionisanja civilizacije, ujedno u vidu republikanskih načela i oštroumnih zapažanja uspešnog upravljanja.</s><s>Ne samo kao priručnik za komandujuće kadrove i diktatore, knjiga je koncezna povest kontroverznog oslobodioca sila nemilosti u diplomatiji, poslovanju, upotrebi religije i ratovanju u ime slobode građanima firentinske republike.</s><s>Društvo u predvorju rane moderne Evrope pokazuje mehanizme koji su proistekli u pozitivne strane trgovačkih i državnih promena, preko kasnijih zakonskih preispitivanja morala Monteskjea, temelja civilnog društva i ekonomije profita.</s><s>Tako se pođarmljenost u senci slobodne trgovine i voluntarističkih načela Adama Smita ili republikanskih kritičara sticanja korumpirane moći, pokazuje trasiranom od strane Makijavelijeve misli.</s><s>Njegov republikanizam kao kasnije razvijana politička filozofija upisan je u rušenja i formiranja institucija, sezući do prelomnih decenija sticanja američke nezavisnosti i francuske revolucije.</s><s>Društveni kontrasti i aktuelizovani savremen cinizam pokazuju paradoksalni realizam društvenih odnosa Nikola Makijavelija po konciznom pogovoru knjige objašnjenog kao ličnost istinski ovovremenog političkog naučnika od središnje važnosti za postmodernističku debatu o civilnom društvu.</s><s>Njegov model vladara, tiranin Cezare Bordžija, samo je amblematska figura za užasavajuće ličnosti koje je kasnije donela istorija, a iz kojih su proistekli raznorodni nakazni oblici u usitnjenim društvima.</s><s>Tipovi vladarskih pozicioniranja i kratkih i podmuklih prevrata odvijaju se u kolektivima zamorenih, etički isfrustriranih pojedinaca organizovanih u svojoj nemoći i združenom mediokritetstvu, stanjima plodnim za demonijačke, zlobne principe lobiranja, intriga, nameštanja i podmuklog koristoljubivog otimanja.</s><s>Zbog tih osobina, pogotovo u smesi neuravnoteženih nakaznosti poznih devedesetih godina u Srbiji, promišljanje Makijavelijevih postavki iznesenih u grafičkoj i deklamacijskoj gustini odlomaka, prevoda, neposrednih povoda i aluzija postaje korisna saznajna satisfakcija.</s><s>Tako se njegov odlomak pokazuje realno opravdanim: šire zahvaćeno, ljudi i dalje proizvode i stvaraju posledice svoje gluposti, uskogrudosti i štete ne samo jedni prema drugima, već i prema ostalim oblicima života na zemlji i planeti u celosti.</s><s>Predstavljeni u zasebnim knjigama u dometu za početnike su i sledeći fenomeni: Genetika, Univerzum, Astrologija, Ekologija, Fašizam, Mafija, Holokaust, Feminizam i Postmodernizam, a otpočeli su i sa uticajnim ličnostima iz likovne umetnosti kao što je u individualnom zamahu svojih etapa bio Pikaso.</s><s>Otvorene su i izražene kontraverzne debate oko medijske suštine i tehnoloških pružanja danasnje globalne kulture oličene u Bodrijaru za početnike.</s><s>Ovaj francuski pisac, filozof, sociolog i autor fotografija, dat je u preciznim uvidima u probleme simulacije poimanja masovne kulture.</s><s>Tekst Krisa Horokosa i ilustracije Zorana Jevtića čine da se u najavama ove knjige o dejstvu ideje i zapažanja Žana Bodrijara, razumljivo postavi pitanje - da li se radi o mogućnosti izlečenja od vrtoglavice savremene kulture ili samo jednom od njenih simptoma?</s><s>S druge strane, temelje suprotnih raščlanjivanja ponašanja i sistematizacije morala, pojedinačnih postupaka i patoloških pojava civilizacije (isto tako francuskog autora) daje Fuko za početnike.</s><s>Delo istih autora iz 1997. prepliće filozofiju, istoriju, psihoanalizu i politički aktivizam upisan u savremeno iskustvo ludila, kriminala, seksualnosti i društvenih užasa, u institucionalizaciji nadziranja, kažnjavanja i discipline.</s><s>Putevi koji su Mišela Fukoa doveli do vlastitih prestupničkih pozicija sopstvene seksualnosti i političkih suprotstavljanja, objašnjeni su u grafičkoj, sintaksičkoj misiji knjige o vezama između humanističkih nauka, njihovih diskursa i genealogije suprotstavljene istoriji.</s><s>Tako se suprotnosti razuma i ludila pokazuju u vidu biografskog korpusa žive misli, po njegovoj smrti (1984), opisanog kao jedan od najvažnijih načina razmišljanja u veku.</s><s>U razmaku između medicine i pravnih sistema, Fukoova specijalnost bila je istorijsko poniranje u preispitivanju zakonitosti jezika, postupaka i razloga pojednih slučajeva u istoriji.</s><s>Govor kroz drugog bio je način metodološkog opita u znanju i istoriji, diskurs između liberalnosti i represije, gde se iskazivao subjekt kao uvid u restauraciju određenih prestupničkih ličnosti obeleženih i definisanih u istorijskoj nauci.</s><s>Tako se uspostavljena pravila diskursa pokazuju kao fenomen za sebe, u čemu je Fuko odredio društvena i kulturna polja poput porodice i zajednice u kojima se za svaku javlja i određeni tip diskursa, što se naslojavalo sve do političkog angažmana i cirkulisanja informacije u određenim institucionalnim sistemima.</s><s>Imajući u vidu čak i civilno društvo i napredne tehnologije i pravce povezivanja do kraja veka, prevratnički je izjavio: Niko od nas ne može biti siguran da će izbeći zatvor.</s><s>Policijska kontrola svakog dana postaje sve očiglednija: na ulicama i putevima; prema strancima i mladim ljudima.</s><s>Ponovo se javxa činjenica da je uvredljivo iznositi mišljenje.</s><s>Plasman i zastupljenost edicije Ikona u Britaniji naišli su na velika odobravanja pogotovo i u preobražavanju osobina nekadašnjih ponegde dogmatskih univerzitetskih nastavnika, koji su po mnogim priznanjima i sami bili zaplašeni ovim pojednostavljujućim načinom predstavljanja značajnih tema i mislilaca.</s><s>Ideja o spajanju humora i intelektualnosti, a što odlikuje veliki broj ostvarenja, pokazala se produktivnom u domenu približavanja alternativne i visoke kulture.</s><s>Na ohrabrujuću pristupačnost za sve veći broj ljudi (upravo kroz duhovitu stranu mnogih pojava) podseća glasnogovornik edicije Lori Tejlor, profesor Birkbek koledža prisećajući se jednog skeča iz TV serije Montija Pajtona: Neko kuca na Sartrova vrata, i Simon ih otvara. - Da li je Sartr slobodan- pita posetilac, na šta mu ovaj odgovara: - Slobodan? to pitanje je pokušavao da razreši tokom celog života.</s><s>Edicija koja je u 1998. objavila i Prosvetiteljstvo i Valtera Benjamina, a u planu je i Niče za početnike, sve je više nalik na enciklopedijski posao za koji urednik i osnivač Ričard Apinjanezi izjavljuje: Bilo bi nepromišljeno da upoređujem knjige za početnike sa modelom enciklopedije.</s><s>Niti da zamišljam da sam Deni Didro (premda ni Didro nije bio Didro u 1751. godini izdavanja enciklopedije).</s><s>Ono što me zanima je u okviru dometa ovakvog posla.</s><s>Pa, iako nemamo očiglednog Voltera među našim piscima i saradnicima, verujem da je tu dovoljno prosvećenosti koja će pokrenuti naše čitaoce.</s><s>Uostalom, ko zna šta ce postati autori serije Za početnike.</s><s>Enciklopedija je imala kvalitet borhesovske umetnosti pamćenja, začarana lavirintskim etimonima, lingvističkim račvanjima stabala i krošnje znanja - u smislu metafore sjedinjenih nauka.</s><s>Oduvek je postojala neuronska mreža u ovoj potrazi za saznavanjem i stvaranjem artificijelne mašine mišljenja.</s><s>Uostalom, takvo nastojanje jasno je i kod španskog mistika Rajmona Lula iz 13. veka, svojevrsnog ranog enciklopediste, čija je bizarna logička mašina kombinovanih kruženja prethodila kompjuteru.</s><s>Konceptualizovana razmišljanja, logički ishodi ili plodne digresije u paralelna delovanja, obeležavaju pripovedni i predstavljački princip stranica množnih celina.</s><s>Približene otvaranju određenih obaveštenja koje donose softverske verzije aplikacija za Windows, knjige nude razložno iskustvo zadovoljstva i zelje, podvlačeći da se zaista sve, makar u pokušaju spoja slike i reči, može podvrći razjašnjavanju i poređenju na mentalnoj mapi odrednica trećeg milenijuma.</s><s>IZMEĐU PRAVILA I KREATIVNOSTI</s><s>Razgovarala: Olivija Rušovac Dobri dizajneri u Jugoslaviji imaju ideje i obrazovanje, ali ne i novac.</s><s>On je na nekom drugom mestu.</s><s>Možda zato i ima toliko ružnih i nemaštovitih oglasa i plakata.</s><s>Song Dju Jong, Koreanka iz Tengua, magistrirala je iz oblasti grafičkog dizajna na Univerzitetu u Beogradu.</s><s>Tema njenog magistarskog rada glasi: Grafička identifikacija Sportskog centa Mladost.</s><s>Vođena rukom mentora profesora Miloša Ćirića, Song DJu Jong je, prema sopstvenom priznanju, shvatila da je za dobar dizajn najvažnija ideja.</s><s>Kao i mnoge moje kolege u Koreji, mislila sam o dizajnu samo u kategoriji estetskog.</s><s>Misao o ideji kod nas nije razvijena i zato se u Koreji uglavnom u ovoj oblasti samo kopira ono što donose Amerikanci.</s><s>U Beogradu sam naučila šta je kreacija, dodaje Song DJu Jong na tečnom srpskom jeziku.</s><s>Njen suprug Kim takođe govori srpski i uskoro ce magistrirati, takođe u Beogradu.</s><s>Njegova magistarska teza odnosi se na pesništvo Laze Kostića.</s><s>Song DJu Jong, je u Jugosalviju došla pre tri godine.</s><s>Iz zemlje svetla i reklame stigla je na beogradski aerodrom koji je baš tada bio u potpunom mraku.</s><s>Mislila je da je došla u pakao, plašila se rata, ali se kasnije privikla.</s><s>Da sam ostala u Koreji imala bih samo jedan svet.</s><s>U Beogradu sam mnogo čitala , diskutovala o umetnosti i književnosti i to me je izmenilo.</s><s>Postala sam nova ličnost, kaže DJu Jong.</s><s>Primećuje da je naš fakultet lošije opremljen literaturom i učilima nego u Koreji i da u prodavnicama nedostaje mnogo materijala potrebnog dizajnerima.</s><s>KAKO DIZAJNIRATI Mladost</s><s>Za razgovor sa Song DJu Jong odlučila sam se pošto sam pogledala ilustracije njenog magistarskog rada kojima su bili ukrašeni zidovi holova Univerziteta umetnosti.</s><s>Izrađeni do perfekcije, bogato i maštovito, one svedoče o jasno i čisto sprovedenoj ideji jednog sportskog centra, o postovanju pravila i kreaciji i originalnosti.</s><s>Počinje se od znaka, kaže DJu Jong i ističe da je u sportu zahvalnija ljudska figura nego rekvizit.</s><s>Potom sledi izbor između jedno i mnogo, a tek se posle unose ostali idejni elementi znaka.</s><s>- Opredelila sam se da idejni projekat baziram na ideji kolo koja je zajednička svim kulturama.</s><s>To je vizuelni prikaz dobronamernog druženja.</s><s>Polazište je piktogram za informaciju mesto za okupljanje koji u sredini ima veliku tačku i četiri strelice usmerene ka toj tački.</s><s>Umesto strelice stavila sam ljudske figure, kao kolo, jer se pojam Centra odnosi na ljude.</s><s>Drugi deo ideje je olimpijski znak sa pet prepletenih krugova.</s><s>Tako je dobijena kompozicija u obliku krsta.</s><s>Pošto je znak tako rešen statičan, crtež sam postavila u perspektivu i tako dobila utisak dinamičnosti.</s><s>Ovo se postiže primenom Albertinovog metoda kvadrata u ugaonoj perspektivi.</s><s>LOGOTIP I PIKTOGRAM</s><s>Nova istraživanja vezana su za dvolinijsku tipografiju koja je oživljena različitim debljinama slova: napred u sredini i pozadi.</s><s>Takva rešenja daju ritam logotipu.</s><s>Piktogram ima zanimljivu istoriju.</s><s>Do polovine 20. veka piktogrami imaju rešenu samo funkciju, da pokažu vrstu posla koju označava figura.</s><s>Moderni piktogram je stilizovan i radi se u seriji.</s><s>Za olimpijske igre u Tokiju 1964. stručnjaci su 4 godine analizirali piktograme, i tada su postavljeni temelji nove logike i rešenja.</s><s>Reč je o kombinaciji tamne ljudske siluete i prosečenog sportskog dresa u blagoj stilizaciji figura.</s><s>Kreativni postupak kod piktograma najjasniji je u seriji.</s><s>MASKOTA, LOGOSIT I LOGOTIP</s><s>Maskota je neka vrsta savremene amajlije ili totema koja pomaže plasmanu proizvoda i treba da predstavlja živi stvor.</s><s>U grafičkoj identifikaciji to je jedini živi element.</s><s>Tražeći lik za maskotu Centra opredelila sam se za mladog vepra.</s><s>Figuru veprove glave probodene strelom videla sam na pečatu Sovijeta iz Prvog srpskog ustanka 1804, kao grb Tribalije (Tribali su tračko pleme i najstariji stanovnici severnoistočne Srbije.</s><s>Veprova glava javlja se prvi put u 15. veku u grbovniku Ulriha Rihentala kao grb srpskog carstva, a docnije se smatrao grbom Braničeva, u istočnoj Srbiji.) Vepar je simbol hrabrosti, silovitosti i strasti.</s><s>Moja maskota mladog vepra ima kraću njušku, ruke se završavaju u špicu kao kod piktograma, a noge su izvedene u obliku opanaka.</s><s>U logositu maskota nosi upaljenu baklju.</s><s>Gornja polovina maskote je u pravougaoniku koji je isti kao i kod znaka Centra, kako bi se ispod logosita mogao postaviti logotip, pod istim uslovima kao kod znaka Centra.</s><s>Osnovne boje logosita su crvena, plava i bela, čime je dobijen srpski trikolor.</s><s>Pored slogana Mladost rumenih obraza koji podrazumeva da su rumeni obrazi vizuelni odraz zdravlja, preko bavljenja sportom u sportskom centru Mladost, zbog čega se slogan prikazuje sa znakom i logotipom, postoji i šara centra.</s><s>Ona je nastala od ideje i likovne logike logotipa: kretanje sleva na desno, od tamnog ka svetlom, u izlomljenoj liniji koja asocira na inicijal M u logotipu Mladost.</s><s>Inicijal je zajednički u ćirilici i latinici.</s><s>Ovaj geometrijski motiv ponavlja se beskrajno u plavoj boji.</s><s>PROBLEMATIČNOST SEKULARIZMA</s><s>Žarko Puhovski</s><s>U Beogradu je 5. i 6. juna održan međunarodni okrugli sto Crkva, država, civilno društvo.</s><s>Na skupu je učestvovao i Žarko Puhovski, profesor na Zagrebačkom sveučilištu.</s><s>Dopustite mi da svoje izlaganje započnem jednom isprikom.</s><s>Čini se, ideologijski gledano, pomalo neodgovornim, dolazeći iz postjugoslavenske i postkomunističke sredine, govoriti o prijepornosti i problematičnosti sekularizacije.</s><s>Činjenica je da u državama koje su nastale nakon Jugoslavije sekularizacije nema dovoljno.</s><s>No, problem nije tako jednostavan.</s><s>Činjenica je, također, barem po mojem sudu, da su neki od bitnih problema sa kojima smo suočeni posljednjih godina, teorijski i ideologijski, izvedeni iz rezultata jedne varijante sekularizacije.</s><s>Jednostavno rečeno, moja je teza, koja na koncu nije nova, da je suvremeni nacionalizam neposredna posljedica moderne sekularizacije.</s><s>Pod sekularizacijom bih razumio stanje u kojem religijsko mišljenje, običaji ili rituali, odnosno ustanove, nemaju neposrednu pravnu i političku posljedičnost, uz zajamčenu njihovu autonomiju.</s><s>Ono što se, međutim, odatle događa, a što je veoma često opisivano veoma zgodnom formulom Maksa Vebera očaravanje svijeta, značilo je, zapravo, u jednoj varijanti da su vrijednosti koje su bile pridavane religiji sekularizirane paralelno sa nekim neposrednim političkim procesima, u kojima dolazi do razdiobe na pravno uređenu zajednicu naspram zajednice spasa.</s><s>Pravno uređena zajednica će se naći pred pitanjem o vlastitom vrijednosnom utemeljenju.</s><s>Da preskočim stoljeća, to se, posebice, odnosi na modernu demokratski legitimiranu pravnu zajednicu.</s><s>Jer, koliko god to ideolozi demokratizacije tesko mogu priznati, bitna je pretpostavka demokracije etički relativizam.</s><s>Kad to kažem, mislim na liberalnu, tj. pluralističku demokraciju.</s><s>Bitna karakteristika demokracije je, jednostavno rečeno, da forma postaje sadržaj, a procedura nadomjesta vrijednost.</s><s>U jednoj razini analize, a to sasvim sigurno nije jedina, moderni se nacionalizam pojavljuje u demokratskom postavu kao reakcija na taj institucijski zadan relativizam vrijednosti.</s><s>On daje neku vrstu čvrstog ili barem naizgled čvrstog uporišta, riječ je nešto što se pije s majčinim mlijekom, nešto što je u varijantama srednjoevropskim, prije svega iz njemačke tradicije izvedenima, a koje su mjerodavne i za Balkan, ima mješavinu biologijske i kulturne pretpostavke; on dovodi do toga da se uspostavlja nešto što zapravo odgovara onoj često navođenoj Dirkemovoj odredbi o religiji, gdje se, zapravo, kao bitna odrednica religije navodi da je to jedna vrsta sustava vjerovanja koja vezuju ljude u skupine.</s><s>Potom je Maks Veber bio taj koji je u Privredi i društvu napisao da su Srbi i Hrvati specifičan primjer nacija koje se razlikuju isključivo po religiji.</s><s>I to je nešto što ovaj tip vezivanja u zajednicu jasno pokazuje.</s><s>Ako se, nasuprot tome, upravo u osloncu na Vebera, uzmu u obzir teolozi, kao na primjer Paul Tilih, koji vide religiju kao neku vrst koherentnog odgovora na egzistencijske dileme kao sto su rođenje ili smrt, itd, onda smo, po mom sudu, sa jednim dalekosežnim pristupom, pristupom koji će biti teško zadržati u sferi privatnosti.</s><s>Tendencija je svake religije, posebice ako je organizirana kao crkva, da se prelijeva van crkve.</s><s>Njezina je pozicija u etičkom smislu, naglasavam - etičkom smislu, fundamentalistička i to ne treba miješati sa političkim frazama iz dnevnih novina.</s><s>Jer, nasuprot drugog metodičkog tipa etika to je konzekvencionalizam ili posljedičnost koji ljudske čini etički promišlja sa stajališta toga da li je konačan rezultat dobar ili loš.</s><s>Fundamentalizam, ili apsolutizam, kako se kad i kad naziva, odbija svaku mogućnost da činimo makar i najmanje zlo, neovisno o tomu kakvo bi smo dobro mogli postići.</s><s>Ako, međutim, odbijemo konzekvencionalizam, onda postavljamo tako visoki etički standard koji ljudski ne možemo izdržati, standard koji nas neposredno postavlja u situaciju greha, odnosno dovodi crkvu u poziciju da bude ustanova reproduciranja greha...</s><s>Međutim, u bilo kojoj varijanti, čovjek koji ozbiljno vjeruje u svoje vrijednosti ne može tek tako gledati kako oko njega teče zivot koji te vrijednosti nipodaštava.</s><s>Od njega se traži intervencija ili, da citiram veoma zgodan, moglo bi se reći slogan, Karla Jaspersa: Promatranje nije egzistencija.</s><s>Sudjelovanje je egzistencija.</s><s>Odatle, sekularizam samo naizgled oslobađa društvenu sferu vrijednosti, jer - vakum je u ovom smislu zapravo neprirodan - on će biti ispunjen drugim vrijednostima, najčešće vrijednostima nacionalne baštine ili tradicije.</s><s>U tom kontekstu je, posebice za naše okolnosti, veoma primjerena formula o izmisljanju tradicije kojom se upravo nacionalizmi bave.</s><s>Dopuštam sebi primjer iz svoje države - molim da se ovo \"svoje\" shvati formalno-pravno.</s><s>Hrvatska je nedavno proslavila osmogodišnjicu državnosti u državi koja formalno postoji šest i pol godina.</s><s>Hrvati se često, po mojem sudu, s pravom zabavljaju na račun srpske fascinacije Kosovom, ali Srbi barem imaju taj izgovor da su njihove legende šest stotina godina stare, pa je jako teško provjeriti što je zapravo bila istina.</s><s>Mnogo je indikativnije da živimo u državama koje su u stanju izmisliti legende stare od šest do osam godina.</s><s>To je ta razlika između, po mojem sudu, sekulariziranih i nesekulariziranih vrijednosti.</s><s>Nesekularizirane vrijednosti nemaju u svojoj konstituciji potrebu za dokazivanjem istina, one su obznanjene kao vjera, a sekulizirane nisu ništa manje mitskoga karaktera, ali iza sebe imaju tvrdnju kako su, ujedno, dokazivo istinite i time su, zapravo, opasnije po istinu.</s><s>U prvom slučaju, imate naprosto bajku - tko hoće može vjerovati, tko neće ne mora, barem u naše vrijeme, a u drugom slučaju imate nešto što za sebe tvrdi da je znanstveno, najčešće povjesno fundirano, a to je, naravno, mnogo teže intelektualno opterećenje.</s><s>Povijest sekularizacije počinje u političkoj filozofiji s Makijavelijem i zato ga teolozi, tako očito, ne vole.</s><s>Konzekvenca toga jest jedna formula koju su demokrati, liberali i ljevičari uvijek napadali.</s><s>Formula glasi autoritas non veritas.</s><s>To je formula sekularizirane države i ona je, u političkom smislu, manje zlo od obrnute formule, koliko god to paradoksalno zvučalo.</s><s>Jer, zakon jest, kako to Fuko u jednom od svojih posljednjih predavanja kaže, također ratno stanje.</s><s>Stanje rata sa prekrsiteljima, a ne, naizgled, mir nasuprot ratu i taj zakon, kako znamo, počiva u osnovi na moći.</s><s>Ako imamo sreće, on će biti odličan, ako imamo puno sreće, bit će pravedan, ali istinitost mu uopće nije dana kao zadaća, jer to nije zadaća zakona u modernoj državi.</s><s>Kad govorimo u tom kontekstu o rađanju nacionalizma iz duha sekularizacije, onda se pokazuje kako je nacionalizam ono što su stari vjerski autori nazivali idolopoklonstvo u punome smislu riječi.</s><s>Pre dva tjedna je u Zagrebu bila homilija nadbiskupu Stepincu, u kojoj je jedan svećenik nota bene doslovce rekao kako je za Stepinca čovjek bio najviša vrijednost.</s><s>Ne može se biti ni vjernik, a kamoli kardinal, ako je za vas covjek najviša vrijednost.</s><s>Covjek kao imago dei je vec drugorazredna vrijednost, a nacija će u nacionalističkoj varijanti biti ona po čijem liku se mi uspostavljamo.</s><s>Bogu barem možemo, po želji, priznati pozitivne karakteristike, ako u njega vjerujemo.</s><s>To se često kod nacionalista čini sa nacijom, jedino što nacionalisti tvrde da za to imaju empirijsko pokriće, tvrde da su pripadnici njihove nacije lijepi kao takvi i ne priznaju nikakav prigovor na to.</s><s>U odnosu, dakle, na modernu državu, za koju je jedan poznati njemački pravnik rekao da nastaje upravo sa procesom sekularizacije, dogodilo se da u odnosu države i crkve treći član, civilno društvo, ostaje, rekao bih srećom, po strani.</s><s>Ono što, međutim, njih politologijski povezuje jest stroga vertikala u njihovoj izvedbi, hijerahija.</s><s>Nasuprot tomu, načelo civilnog društva jest stroga horizontalnost.</s><s>Načelo civilnog društva jest u tomu da vrijednost jedne osobe, koju ne zastupa ni jedna druga osoba u društvu, ima jednako mjesno važenje, kao i vrijednost koju zastupaju svi ostali.</s><s>Imamo, dakle, dvije vrijednosti i načelo većine tu ne važi i zato je prava sekularizacija, radikalna sekularizacija, da tako kažem, moguća tek onda kada se, ono što je država ućinila sa crkvom, oduzevši joj, ne rijetko nasilnim putem, privilegiju monopola na vrijednosti, barem pokuša iz pozicije civilnoga društva učiniti dostupnim</s><s>Kolega Cvitković je u jednom trenutku rekao da je poteškoća s postkomunističkim državama u tome što imamo jednu crkvu koja je superiorna, a da bi za toleranciju bilo dobro da su tri crkve, ili tri vjere, ravnopravne.</s><s>Međutim, tolerancija nema smisla u ravnopravnosti.</s><s>Ja mogu da toleriram samo ono što mogu, a ne želim da zabranim.</s><s>Dakle, tolerantan je samo onaj tko ima moć.</s><s>Ne smije se mješati nemoć i tolerancija.</s><s>Ja ne mogu biti tolerantan ako nisam moćan; samo kada sam superioran mogu biti tolerantan spram nečega što mi se ne sviđa, ali sam zbog nekog višeg načela odlučio ne intervenirati.</s><s>Dakle, tolerancija ima smisla u Makedoniji, ako su tačni ovdije izneseni podaci, da tamo postoji samo 0,3% ateista.</s><s>Ako su podaci točni, onda je tamo nužna tolerancija prema jednoj irelevantnoj manjini.</s><s>U odnosu 33, prema 33, prema 33 - nema tolerancije, nego je to ravnoteža.</s><s>Jos jedna stvar.</s><s>Kod nas jesu bile sekularizirane vrijednosti, ali iz njih nije nastala civilna religija, nego je nastala religija rata i to je ono što je tragedija ovog kraja.</s><s>Jer, sekularizirane su vrijednosti shvaćene u formuli do istrage naše ili vaše.</s><s>Mržnja spram Drugoga je imala mnogo veće posljedice od prave ljubavi i dogodilo se ono što Njemci nazivaju veselje u šteti ili, kako mi to kazemo, da susjedu crkne krava.</s><s>To je jedan tip interpretacije sekularno-religijske svijesti pod imenom nacionalnog.</s><s>Kod nas je, na žalost, proces sekularizacije pomagao militarnost i imao je, u smislu civilnosti, kontra efekte.</s><s>Sedma Božja zapovijest</s><s>Ne bih imao poteškoća prihvatiti da su deset božjih zapovjesti osnova jedne moralnosti zapadne civilizacije, neovisno o tome da li su one božje ili ne, kada tu ne bi bilo jedne zapovjesti s kojom imamo poteškoća.</s><s>To je ona koja kaže: Ne poželi ženu bližnjega svoga.</s><s>Ovde se ne radi o odbrani promiskuiteta, nego se radi o glagolu poželi.</s><s>Nije rečeno ne poželi tuđe stvari, rečeno je ne ukradi.</s><s>Da je rečeno, da vulgariziram, ne uštipni ženu bližnjega svoga, to bih mogao prihvatiti ili, recimo, nemoj napastvovati ženu bližnjega svoga.</s><s>Ali, ne mogu prihvatiti moralni sustav koji želju inkriminira, jer je zelja prije čina, pa čak, možda, i prije svijesti.</s><s>Znam da se danas teolozi pokusavaju izvuci na razne nacine, interpretirajući pojam želje mimo izvornog značenja; ali s tom odredbom je deset božjih zapovjesti za moderni moral neprihvatljivo, jer znači totalitarnu intervenciju u privatnost osobe.</s><s>To je moje duboko uvjerenje.</s><s>Politički klerikalizam</s><s>Kad govorimo o pluralizmu, indikativno je da, gledate li literaturu, gotovo podjednako i liberalni, i kršćanski autori, s indignacijom odbijaju ideju političkog klerikalizma kao pogrešnu i pogubnu.</s><s>Meni se nasuprot tomu čini, tu sam veoma usamljen, da klerikalizam uopće nije nešto tako loše.</s><s>U demokratskom društvu uopće nije tako loše da postoji jasna politička opcija neposredno vezana za crkvu, ako ona to hoće, jer ona time priznaje pluralizam vrijednosti kao osnovu demokracije, u što, inače, nismo baš kod svih crkava sigurni.</s><s>Vjeronauk ili nešto drugo Trebali bismo imati komparativne religijske kulture kao predmet koji bi obavještavao učenike što je to što nazivamo kršćanskom, pa onda katoličkom, protestantskom, pravoslavnom, islamskom i nekom drugom kulturom, kako bi se u literaturi i svemu drugome mogli snalaziti.</s><s>Meni se, pak, čini da nastavu religijske kulture ne mogu izvoditi samo svećenici ili svećena lica.</s><s>Tako dugo dok postoji predmet u školi, ma kako se on zvao, koji mogu izvoditi samo svećenici meni se čini, da sekularizacije nema.</s><s>To je za mene načelno pogrešno.</s><s>Ko hoće imati vjeronauk ima crkve, inače se državu upliće u određivanje o tomu tko je ovlašten za religijsku naobražbu ili vjeronauk; a to zapravo znači da se daju državi neke ingerencije koje ona ne može imati, a crkvi ingerencije ulaza u državnu ovlast nad školstvom.</s><s>PINA BAUS I NEMAČKI PLESNI TEATAR</s><s>Piše: Dubravka Đurić</s><s>Pina Baus (Pina Bausch) je rođena 1940. godine u Nemačkoj. školovala se u Esenu u školi Folkwangschule, koju je vodio Kurt Jos (Kurt Jooss), pored Meri Vigman (Mary Wigman) najuticajniji učenik Rudolfa fon Labana (Rudolf von Laban).</s><s>Krajem pedesetih školovala se u Sjedinjenim Američkim Državama, u čuvenoj školi Julliard School of Music.</s><s>Od 1973. vodi Plesni teatar Wuppertal.</s><s>Nemački plesni teatar (Tanztheater) obnavlja tradiciju nemačkog ekspresionističkog plesa, a najpoznatiji je izvan Nemačke upravo po radu Pine Baus i njene trupe Wuppertal Tanztheater.</s><s>Pomenućemo predstave: ''Posvećenje proleća'' (1975), ''1980'' (1980), ''Na planini se čuo krik'' (1984), itd.</s><s>Pina Baus svojim teatrom želi da provocira emocionalne reakcije publike i, kako zaključuju neki kritičari, u tome uspeva.</s><s>Budući da je učenica Kurta Josa i Entonija Tjudora (Anthony Tudor), ne iznenađuje činjenica da se bavi ljudima i uslovima u kojima oni žive, i da na sceni izražava neprijatna i uznemirujuća osećanja.</s><s>Ona gledaoce primorava da se suoče sa osećanjima koja bi većina ljudi želela da sakrije.</s><s>To je i jedno od bitnih svojstava nemačkog ekspresionističkog plesa.</s><s>Predstave plesnog teatra Wuppertal raspoloženjem i dramaturgijom pričaju o veoma ličnim promašajima ''junaka'' i ''junakinja'', o frustracijama pojedinaca.</s><s>Scene se u ogoljenom vidu strukturalno nižu na pozornici.</s><s>Predstave Pine Baus su revije psiho-patologije svakidašnjeg života.</s><s>Te revije pokazuju nemogućnosti i ograničenja koje nameću društvene norme i društvene igre.</s><s>Sve je to propraćeno obaveznim bausovskim smeškom.</s><s>S druge strane, predstavljene dečije igre u repetetivnim ponavljanjima razotkrivaju svu okrutnost.</s><s>Emil Hrvatin ističe da Pina Baus gradi teatralnost na odnosu prema plesu i telu plesača i plesačice.</s><s>Dinamika teatralnosti je zasnovana na napetosti između imaginarnog i simboličkog, u kojoj provaljuju elementi realnog.</s><s>Telo je teatralni objekt par excellence.</s><s>Pina Baus se zanima za telo, ali ne teži oblikovanju novog plesnog govora.</s><s>Subjekt njenog plesa je telo koje pati i trpi, a ono je stalni predmet istraživanja nemačkog ekspresionističkog plesa.</s><s>U njenim koreografijama izraženo je ironiziranje baleta i društvenih plesova.</s><s>Ona teatralno zahvata tradicionalne oblike i upotrebljava ih kao označitelje.</s><s>Ograničen opseg ''pokreta'' u plesnom teatru izraz je njegovog antiestetskog stava.</s><s>Kada Pina Baus objašnjava da je mnogo ne zanima kako se ljudi kreću već ono što ih pokreće, obraća se i klasičnom baletu, koji represivnost maskira lepim akrobatskim i čarobnim spektaklima.</s><s>Ples postoji, ali je često prekriven slojem imaginarnog i simbolnog, koji su upisani u telo plesača/plesačice.</s><s>U tom smislu, ova koreografkinja i izvođačica razlikuje ''predplesno'' stanje tela.</s><s>To znaći da je suštinski materijal nove teatralnosti postalo telo u svim aspektima svoje pojavnosti.</s><s>To nije telo u antropološkom smislu, koje se obraća ritualnom u pozorištu tragajući za ''prvobitnošću''.</s><s>Traganje za prvobitnošću u plesu podstakla je Isidora Dankan.</s><s>Nasuprot tome, kod Pine Baus u pitanju je telo upisano u specifične simboličke strukture.</s><s>Ona prikazuje napetosti između imaginarnog tela plesača/plesačice i njegove/njene upregnutosti u simbolne strukture plesa, pozorišta, društvenih konvencija manifestovanja samog tela.</s><s>U toj napetosti, piše Emil Hrvatin, koja konstituiše teatralnost, imaginacija plesača/plesačice sudara se s represivnošću simboličkog.</s><s>I Johanes Biringer (Johannes Birringer) ukazuje na važnost tela u plesnom teatru Pine Baus.</s><s>Granična linija u njenom teatru je konkretno ljudsko telo.</s><s>To telo ima specifične kvalitete i ličnu istoriju.</s><s>Ali to je i telo o kojem se piše, koje je upisano u društvena prikazivanja roda, rase i klase.</s><s>Najcešće smatramo da su reprezentacije tela same po sebi date, bez obzira da li se pojavljuju u reklamama, filmovima, fotografijama, pornografiji ili u lepim ''večnim'' pozama baletskih igrača i igračica.</s><s>Međutim, Biringer ističe da svaka poza, svaki kadar i svaki pokret tela učestvuje u specifičnoj prikazivačkoj ekonomiji kojom upravlja kultura.</s><s>Kultura određuje ono što ćemo videti kao realnost.</s><s>Pina Baus nas okrutno suočava sa konvencijama prikazivanja seksualizovanog tela, sa normama koje više ne primećujemo, usled automatizovane percepcije ''naturalizovanih'' konvencija.</s><s>Tako, na primer, u njenim predstavama žene poziraju ili su stavljene u pozu kao žrtve društva.</s><s>Ona ih smešta u kontekst ironičnog tretiranja brehtovskog didaktizma.</s><s>Često se suočavamo sa nepomičnim plesačima i plesačicama i poznatim ritualima izvođenim sa snažnim emocionalnim intenzitetom.</s><s>Scene su tako konstituisane da nas sam proces posmatranja primorava da postanemo svesni njegovih konvencija.</s><s>S druge strane, plesači i plesačice su svesni prisustva publike i istražuju odnos prema njoj.</s><s>Mada se retko bavi specifičnim karakterima, Pina Baus pokazuje prepoznatljive tipove ljudi - na primer, ženu koja dugo pati u predstavi ''Plavobradi'' (1977).</s><s>Glavni muški izvođac je vuče po podu i ona se na kraju davi pod mnogim slojevima odeće u koju se obukla.</s><s>Grabežljivo ili patetično, muškarci i žene tragaju za ljubavlju u ambijentu plesne dvorane u delu ''Kontakthof'��(1978).</s><s>Bitka između polova nazire se u mnogim radovima, a ponekad se izražava prikazivanjem brutalnog nasilja.</s><s>Žene su najčešće prikazane kao žrtve, a muškarci kao napadači.</s><s>Grupa muškaraca nasilno grli ženu u predstavi ''Kontakthof'.</s><s>U ''Plavobradom'' usamljeni napadač lako dolazi do žena, koje ne pružaju otpor nasilju.</s><s>Komad 'Plavobradi'' obrađuje temu o opsesivnom muškarcu sadisti koji ubija voljene žene.</s><s>U predstavi ''Na planini se čuo krik'' plesačica uvek iznova kleči da bi je njen muški tlačitelj kaznio.</s><s>Preteća figura izvođača zamenjuje mnoge očeve i ljubavnike koji se kao deca igraju oružjem, da bi naučili takmičarska pravila igre.</s><s>Lepota žene se ističe u scenama kada se one igraju poput deteta, ili kada im je lice prekriveno dugom kosom, ispod koje se samo nazire.</s><s>Ove predstave pokazuju kako pojedinci osećaju psihičku prisilu da učestvuju u igrama koje igraju zreli ljudi, žudeći za priznanjem, naklonošću i prihvatanjem u društvu.</s><s>Ispod krhke vanjske politure društvenih konvencija, koje negiraju senzualnu slobodu, jasno vidimo ljudsku psihu kako se suočava i bori sa njima.</s><s>Popularne romantične pesme i holivudski klišei postavljeni su nasuprot tragikomičnim efektima koje proizvode plesači ''ispunjenjem'' naših očekivanja.</s><s>Plesaći i plesaćice pokazuju koliko su lepi, ispunjeni ljubavlju i koliko mogu biti uspešni kada ispoljavaju agresivnost, ali i koliko očajnički žude za komunikacijom.</s><s>Ovakve eksplicitne reference prema društvenoj realnosti u teatru ističu proces kroz koji ''koreografija društvene psihe'' Pine Baus prevodi emocionalne potrebe (opresivne prirode koje pretpostavljaju specifične ženske i muške forme) u širu konstelaciju odnosa kulture prema žanrovima koji su u srži takvih odnosa.</s><s>Bez napora, predstave uvek iznova prelaze granice žanrova, od ljubavne pesme, filma, baleta, revije, cirkusa do društvenog plesa.</s><s>Svako takvo prelaženje učinjeno je svešću o sadržaju i potencijalnim zabranama koje nameću izabrane forme.</s><s>Očekivanja publike, kao i odgovori na forme inkorporirani su u parodične događaje na sceni.</s><s>Pina Baus primenjuje princip montaže nasleđen od brehtovskog teatra.</s><s>Koristeći ga, ona prepliće ceo repetitivni katalog gestova i ponasanja kojima pojedinci predstavljaju sebe u najboljem svetlu.</s><s>Izvođači i izvodjačice su često obučeni u neuglednu savremenu odeću i izgledaju kao obični muškarci i žene, a zapravo su izuzetno utrenirani plesači.</s><s>Njihove aktivnosti, od kojih neke izgledaju kao sasvim obične, značenjski su istaknute.</s><s>Muškarac u ''Plavobradom'', na primer, posesivno pali i gasi traku na kojoj je snimak opere ''Zamka Plavobradog'' Bele Bartoka po kojem je komad dobio ime.</s><s>Biringer objašnjava da su, u radu Pine Baus i drugih posleratnih nemačkih koreografa, parodija konvencije i istina parodije, uvek povezane sa osećanjem ličnog iskustva istorije.</s><s>Potisnuta sećanja na traume iz detinjstva mogu se nadoknaditi samo ako neko sluša dovoljno pazljivo ponavljanje socijalizovanog tela.</s><s>Tako nam izvođačica u predstavi ''1980'' stalno ponavlja priču kako se kao dete plašila mraka i kako je plakala sama u mračnoj sobi, kako je dadilja ulazila, palila svetlo i tukla je.</s><s>Nekonvencionalnost Pine Baus manifestuje se i kada uzmemo u razmatranje površine na kojima njeni igrači i igračice igraju.</s><s>U ''Obredima proleća'' pozornica je prekrivena zemljom, a u ''Arijama'' vodom do članaka.</s><s>Oni se kupaju u bazenu sa lažnim nilskim konjem u ''Arijama'', povremeno govore, pevaju, viču ili se smeju.</s><s>U predstavi ''1980'' ispovedaju strahove ispitivaču.</s><s>Ivet Biro (Yvette Biro) piše da su tri sata izvođenja predstave ''Nur Du'' prepuna događaja.</s><s>Nižu se nadanja i agresije, nesretni slučajevi i katastrofe, zavođenja i nostalgične strasti kuju zastrašujući plan.</s><s>Pina Baus tokom dugih napornih proba koristi operativne reči.</s><s>Ona postavlja pitanja izvođacima, prisiljavajući ih da smisle najprikladnije, najličnije odgovore na zahteve zamišljene situacije.</s><s>Nižu se pitanja: šta znači postaviti nekom zamku?</s><s>Pričanje priče stvara samo zvuke i buku.</s><s>Pokoriti ili se osvetiti.</s><s>Poziranje za fotografije.</s><s>Naljutiti se.</s><s>Mrmljati psovke.</s><s>Svaki zadatak podrazumeva pravo lice stvari, da bi pronašli samo njihovu ličnu realnost.</s><s>Ta realnost se zatim prevodi u očaravajući jezik gesta, kretnji, zvukova.</s><s>Često se oblače u odeću suprotnog pola.</s><s>Pa ipak, rad Pine Baus se često usredsređuje na nemogućnost da se komunicira ili uspostavi kontakt, na nedostatak saosećanja između pojedinaca i između polova.</s><s>Gorčina, ljutnja i brutalnost kao da dominiraju njenim teatrom.</s><s>Pošto proizilazi iz plesa, psihopatologija prisutnosti će se reflektovati u odnosu prema baletu i nepsihološko-realističkom pozorištu.</s><s>Bauseva iz plesača povlači krutost i jednodimenzionalnost baletskog rituala, ali umesto virtuoznosti, lepotica i lepotana - postavlja ih kao osakaćena, neoblikovana tela, umorna i zamorena dosadom.</s><s>Oni zbunjeno pokušavaju da sakriju fizičke nedostatke (grudi su male, nos je veliki, haljina nikada sasvim ne pristaje).</s><s>Svi ti elementi mešaju se sa provalom bolesnog egzibicionizma, kojem članovi trupe plješću.</s><s>U ranijem radu Pina Baus nije bila toliko zainteresovana za groteskne aspekte muškog nasilja .</s><s>U njenom koreografskom tretiranju ''Obreda proleća'' Stravinskog, ritualni ples stalno se iznova izvodi do trenutka potpune iscrpljenosti izvođača i izvođačice.</s><s>On je bio sredisnja metafora za dobro uvežbano ponasanje muškaraca koji slede pravila društva i usredsređuju se na žene koje postaju žrtve.</s><s>U ''Arijama'', pozornica je pokrivena vodom i okružena ogledalima koje stvaraju nadrealne površine.</s><s>U nizovima parodičkih slika narcističkog samoposmatranja, u ''Arijama'' dominira melanholično raspoloženje izazvano stalnim naporima pojedinca da se samoizrazi i da pokaže samorazumevanje uprkos mehaničkom nasilju koje tako često dominira pojavnostima.</s><s>U kasnijim teatarskim radovima takvi napori postaju komični jer doslovno iznose lepe metafore naših opera i klasičnih baleta.</s><s>U ''Arijama'' kraljice iz bajki i dive oblače i groteskno ukrašavaju njihovi partneri, uranjajući u fraze pokreta i litanije reči.</s><s>Oni izgledaju i zvuče besmisleno u poređenju sa junacima klasičnih opera.</s><s>Biringer zaključuje da gledajući ove predstave dobijamo utisak kao da fotografišemo društvo osuđeno da potiskuje svoje katastrofične zelje u stalnoj maskaradi optimizma i neprekidne zabave.</s><s>On opisuje da je početkom osamdesetih godina američka publika negativno reagovala na nasilje prikazano u predstavi Pine Baus ''Na planini se čuo krik'', i pita se zašto su reakcije bile takve.</s><s>Zašto publika nije reagovala na usredsređen proces koji vodi od patosa samoapsorbovane seksualne opsesije do većih modela koji razotkrivaju činjenicu da društvo stalno tezi da porekne posledice svoje stalne agresivnosti.</s><s>Nemački plesni teatar i američki postmoderni ples imaju zajedničke korene, ali su se razvijali u različitim pravcima.</s><s>Johanes Biringer ističe snažan uticaj Mersa Kaningama (Merce Cunningham) u Sjedinjenim Američkim Državama, bez kojeg se danasnji američki postmoderni ples ne može razumeti.</s><s>Kaningam je programski odbacio stil modernog plesa Marte Gream (Martha Graham).</s><s>Odbacio je njegovo naglašavanje emocija, teatralnih kostima, karaktera, dramskog fraziranja i naracije.</s><s>Biringer objašnjava razliku između američkog postmodernog plesa i nemačkog plesnog teatra.</s><s>Američki postmoderni ples je formalan i usredsređuje se na pokret.</s><s>Nemački plesni teatar bavi se konkretnim emocionalnim i društvenim kontekstom.</s><s>Ovi različiti kulturološki konteksti ukazuju na različito shvatanje odnosa forme i sadržaja.</s><s>Uobičajeni rečnik koji podrazumeva značenja reči kao što su ''pokret'', ''naracija'', itd, u različitim kulturološkim kontekstima ne podrazumeva isto značenje.</s><s>Reči se ponovo moraju definisati s obzirom na specifične estetske, ali i političke dimenzije konteksta unutar kojeg se upotrebljava.</s><s>Na primeru plesova američke postmoderne plesačice Lore Din (Laura Dean), Biringer ukazuje na lepotu kvaliteta pokreta ili ritmičkih formi, značajnih za američki ples.</s><s>Nasuprot tome, nemački koreografi ispituju uslove samih društvenih performansa.</s><s>Oni ispituju uloge koje se identifikuju zahvaljujući rodu i ponašanju koji određuju naše međusobne odnose prema našoj kulturi u najširem smislu.</s><s>Društvene uloge i ponašanja nisu uvek lepi.</s><s>Zato nemački koreografi dramatizuju različite slike prostitucije, samougnjetavanja, teskobe i samo ponižavanja.</s><s>One se realistički postavljaju nasuprot popularnim mitovima o lepoti, sreći i uspehu.</s><s>Realnost fantazija, predstavljena je svakodnevnom rutinom i uvek ponavljanim naporima da se impresioniraju drugi.</s><s>Ta realnost je pokazana kao konstruktivna mreža internalizovanih društvenih konvencija.</s><s>U jednoj sceni, plesači paradiraju ispred velikih ogledala, a pre toga, ogledala su vezana za njihova leđa.</s><s>Vidimo ih kako nose teret sopstvenih slika.</s><s>Biringer ističe da se repetitivni mazohistički rituali Pine Baus i borba za ljubav i priznanje koje njeni plesači izvode jedni u odnosu na druge sa agresivnim pretvaranjem, mogu razumeti kao implicitna kritika društva.</s><s>S druge strane, piše on, da bismo ovu umetnost shvatili kao oblik kulturološke intervencije, moramo se setiti specifične nemačke teatarske, operske i baletske tradicije čiji su klasici uvek dominirali repertoarom od države finansiranih pozorišta.</s><s>Protiv tog repertoara i njegovih društvenih i političkih implikacija pobunile su se žene - koreografi, istinske naslednice Brehtovog epskog teatra.</s><s>One su to učinile sa žarom, budući da su bile svedoci uspešne rekonstrukcije starog patrijarhalnog poretka, ubrzo nakon što su se stišale strahote fašizma proizašle iz zapadne civilizacije.</s><s>Nasuprot tome, emancipacija ''čistog plesa'' u Sjedinjenim Američkim Državama postignuta je kada je Kaningamova generacija sebe oslobodila ne od prisila struktura finansiranih od države, već od emocionalne drame karakteristične za koreografije prethodnih koreografa.</s><s>S druge strane, u američkoj kulturi bodi-bildinga i aerobika slike patnje i straha remete uspostavljeni pejzaž, remete retoriku lepog, moći i brzine u tehnološkom Diznilendu.</s><s>Biringer zaključuje da su slike nasilja prihvatljve u filmovima i na MTV-u, gde se mogu izvesti tako da izgledaju lepe.</s><s>Ali u plesu niko ne bi želeo da vidi nakazna tela žrtava koja čak i ne plešu sve vreme.</s><s>SLAVENKO GRGUREVIĆ</s><s>Predsednik Lige za zaštitu privatne svojine i ljudskih prava.</s><s>Razgovarali: Slavko Živanov i Milorad Đurić Liga je formirana 1995. godine od brojnih organizacija i udruženja građana nastalih u periodu 1991. - 1994.</s><s>Članovi Lige su mali i srednji preduzetnici, zemljoposednici, naslednici nekadašnjih preduzetnika i vlasnika oduzete imovine od strane komunističkog režima bivše i sadašnje Jugoslavije, opljačkanih stediša, penzionera, brojnih uglednih ličnosti iz javnog i naučnog života Srbije i Crne Gore.</s><s>Osnovni cilj Lige je - kreiranje podrške i konkretno učešće u ravnoju procesa privatizacije, demokratskih institucija, pravnog ambijenta neophodnog za sprovođenje temeljnih društvenih i ekonomskih reformi u Srbiji i Crnoj Gori.</s><s>Liga neposredno sarađuje na najvišem nivou sa vodećim poslovnim krugovima u svetu, finansijskim institucijama (MMF, Svetska banka) i drugim organizacijama (UN, UNICEF, Helsinški komitet, CIVICUS).</s><s>Liga je inicirala i organizovala Savet za saradnju nevladinih organizacija u koji se uključilo preko sedamdeset nevladinih organizacija različitog profila: profesionalna udružena, nezavisni sindikati, udruženja građana za zaštitu ljudskih prava i dr.</s><s>KOŠAVA: U jednom od ranijih tekstova govorite o Privredniku - Srpskom privrednom društvu, osnovanom u Zagrebu krajem XIX veka, kao dobrom primeru građanskog samoorganizovanja.</s><s>Kakva je bila sudbina građanskih udruženja na našem prostoru u proteklih sto godina?</s><s>GRGUREVIĆ: Ideja civilnog društva nije novost na ovim prostorima.</s><s>Hteo bih, pre svega, da vas podsetim da je još u Kraljevini Jugoslaviji - ali i ranije, u Srbiji i drugim južnoslovenskim zemljama gde su živeli brojni narodi, postojao i razvijao se duh građanstva.</s><s>To se najpre odnosi na velike porodice koje su ostavile dubok trag u našoj istoriji.</s><s>U Novom Sadu, Petrovgradu (Velikom Bečkereku), Somboru, Vršcu, Beogradu, Nišu, Kragujevcu, Kraljevu i drugde, postojao je i razvijao se duh evropejstva, tolerancije i nacionalnog dostojanstva.</s><s>Duh građanstva se razvijao u brojnim udruženjima koja su osnivana još pre prvog svetskog rata.</s><s>To nije bio samo Privrednik koji je okupljao više desetina hiljada zanatlija i trgovaca - koji su pak i sami osnivali druga građanska udruženja, na primer za školovanje dece iz siromašnih zanatlijskih i seoskih porodica.</s><s>Između dva svetska rata su formirana brojna humanitarna društva, društva za vaspitavanje dece i omladine, razne vrlo uticajne organizacije: sokolska udruženja, ženska društva, sportska i prosvetna udruženja, itd.</s><s>Štedljivost, marljivost, patriotizam i poštovanje tuđih merila i vrednosti bili su osnovne odlike domaćeg vaspitanja u našim porodicama i to ne samo u gradskim sredinama.</s><s>Sazrevanje građanstva išlo je naporedo sa postupnim i mukotrpnim stvaranjem srednje klase u Kraljevini Jugoslaviji, što je nasilno prekinuto stradanjima u Drugom svetskom ratu i odmah po njegovom završetku - kada su predstavnici građanske klase fizički maltretirani, ubijani i proganjani od strane komunističkog režima.</s><s>Zato je ideja civilnog društva u komunističkoj Jugoslaviji proskribovana kao buržoaska.</s><s>Razlog je jednostavan: građansko društvo (građanin - na francuskom burzoa - bourgeois) je smatrano najvećim neprijateljem komunizma.</s><s>Sredinom osamdesetih godina ponovo dolazi do razvoja srednje klase u Jugoslaviji, koja je potom surovo uništena u ratnim razaranjima, totalnoj destrukciji i opštoj kriminalizaciji na području Srbije i Jugoslavije.</s><s>Mi smo sada ponovo na početku, a sama ta činjenica kazuje da bez srednje klase nema očekivanih društvenih promena.</s><s>Ako ista može spasiti Srbiju, to je uzdizanje srednje klase i razvoj civilnog društva.</s><s>KOŠAVA: Širom sveta civilna udruženja igraju kljucnu ulogu u razvoju demokratije.</s><s>Početkom devedesetih, nevladin sektor oživljava i u Srbiji.</s><s>U kojoj meri su naše nevladine organizacije nosioci društvenih promena?</s><s>GRGUREVIĆ: Jedan od glavnih nosilaca civilnog društva su nevladine organizacije.</s><s>Tu spadaju razna društva i udruženja, forumi, fondovi, klubovi i pokreti.</s><s>Njihove bitne karakteristike su: da ih nije stvorila vlast (iako vlast može sarađivati sa njima); da su neprofitne, odnosno da svoje prihode ne koriste nizasta drugo osim za sopstveno funkcionisanje; da je učešće u njima uvek dobrovoljno; da imaju elementarnu infrastrukturu (članove, izborne organe, statut i sl.); i da su autonomne.</s><s>Vladavina prava je temeljno načelo u funkcionisanju ovih organizacija koje isključuje voluntarizam lične vlasti, piramidalnu strukturu, princip jednoobraznosti i vladavinu većine nad manjinom.</s><s>Širom sveta ove organizacije igraju klučnu ulogu u razvoju demokratije, promociji pluralizma, jačanju uloge pravne države, borbi protiv siromaštva, i sl.</s><s>Sektor nevladinih organizacija je postao osnovna ekonomska snaga nacija širom sveta, u njemu je angaxovano na desetine miliona ljudi koji sve više pomažu oblikovanje nacionalne strategije i politike.</s><s>KOŠAVA: Jesu li nevladine organizacije partneri ili suparnici političkim strankama?</s><s>Ili se radi o paralelnim procesima?</s><s>GRGUREVIĆ: Zadatak političkih organizacija je da artikulišu i sprovode zahteve nevladinih organizacija.</s><s>Otuda nevladin sektor koji okuplja interesne neprofitne i lobističke organizacije ne funkcioniše kao politička organizacija, ali utiče na formiranje političkog mišljenja.</s><s>Zato su političke organizacije i nevladina građanska udruženja saradnici u procesu demokratizacije i stvaranju građanske atmosfere u svim zemljama sveta.</s><s>U SR Jugoslaviji je razvoj ovog sektora na početku: procenjuje se da na području Srbije i Crne gore funkcioniše oko pet hiljada ovakvih udruženja (u Hrvatskoj 12.000, u Mađarskoj 17.000, u Nemačkoj 820.000, u Francuskoj 600.000, a u SAD 1,200.000).</s><s>KOŠAVA: Nalazite se na čelu Lige za zaštitu privatne svojine i ljudskih prava, jedinstvene organizacije na području Istočne Evrope.</s><s>Privatna svojina je temeljno načelo na kojem počivaju moderna društva.</s><s>Možemo li kroz kategoriju privatne svojine razmišljati o razrešenju nekih aktuelnih problema - Kosova, na primer?</s><s>GRGUREVIĆ: Početkom devedesetih godina među malobrojnim nevladinim organizacijama bila su i udruženja građana za zaštitu privatne svojine i ljudskih prava u Čačku, Nišu, Užicu, Beogradu, Novom Sadu; ta udruženja su 1995. godine formirala Ligu za zaštitu privatne svojine i ljudskih prava, kao prvu mrežu nevladinih organizacija na području Srbije i Crne Gore.</s><s>Naše celokupno dosadašnje angažovanje je bilo u ključnom segmentu tranzicije u Srbiji i Crnoj Gori - u stvaranju atmosfere i uslova za sprovođenje pravne regulative u oblasti zaštite i unapređenja privatne svojine.</s><s>Naša velika preokupacija jesu restitucija i razvoj malog i srednjeg privatnog preduzetništva, jer smo uvereni da to predstavlja jedinstven put za razvoj preduzetničke energije i stvaranje podsticajnog poslovnog ambijenta - za slobodnu cirkulaciju kapitala, demokratsku atmosferu i duh građanstva - koga nema u zatvorenim i socijalno nestabilnim sredinama.</s><s>To je razlog što je faktor socijalne kohezije od presudne važnosti za motivisanost transnacionalnog kapitala na lokalnom i regionalnom nivou - gde je upravo razvoj malog i srednjeg privatnog preduzetništva glavni faktor socijalne stabilnosti i ekonomske efikasnosti.</s><s>Ovaj razvoj malog i srednjeg preduzetništva imao je veliki uticaj na stvaranje uspešnog paralelnog socijalnog i ekonomskog sistema Albanaca na Kosmetu.</s><s>Mi smatramo da je to bio iznuđeni proces koji se odvijao u okolnostima potpunog odsustva demokratske atmosfere, podsticajnog privrednog sistema a pod stalnim pritiskom totalitarnog režima iz Beograda.</s><s>Prava je šteta što se ti procesi nisu odvijali u normalnoj atmosferi koja bi omogućila stvaranje podsticajnih uslova za razvoj malog biznisa u trgovini, servisima i porodičnim proizvodnim pogonima.</s><s>Da je postojala takva poslovna atmosfera uspešno bi se razvijali i poslovni odnosi između Srba i Albanaca, a ne samo unutar njihovih getoiziranih populacija.</s><s>Ne smemo zaboraviti opšte priznato istorijsko iskustvo da ništa tako ne zblixzava ljude kao trgovina i poslovi.</s><s>Iz ovih odnosa se razvijaju partnerstvo, prijateljstvo a često i rodbinske veze.</s><s>Rešavanjem svojinskih pitanja na Kosmetu i u Srbiji oslobodila bi se ogromna preduzetnička energija za kreativne ciljeve, za povratak poverenja i prijateljstva između Srba i Albanaca koji vekovima žive zajedno na ovim prostorima.</s><s>Liga za zaštitu privatne svojine i ljudskih prava to oseća kao svoj strateški građanski i patriotski zadatak.</s><s>KOŠAVA: Možete li nam nešto više reći o tranziciji, odnosno, možete li nam dati izveštaj o stanju u postkomunističkim zemljama.</s><s>GRGUREVIĆ: Kada bi se jednom pojednostavljenom konstatacijom htelo da definiše stanje tranzicije, možda bi to bilo moguće tumačenjem da tranzicija znači put do kolektivnog ka individualnom poimanju sveta.</s><s>To je razlog što je u svim bivšim komunističkim zemljama prva mera bila restitucija svojinskih odnosa - reprivatizacija.</s><s>Pravni poredak je ustrojen na temeljima zaštite privatnog vlasništva koje predstavlja skup prava koje društvo, kroz različite zakonske sankcije, naslovljava na pojedinca.</s><s>To podrazumeva da sopstvenik poseduje pravo da koristi dobra, da isključi druge iz njihove upotrebe, da ubire koristi iz njih, da im menja oblik i sadržaj i da ih prenese drugima.</s><s>U takvim okolnostima motivacija je jasna: uvećanje dobiti, iz čega sledi slobodno preduzetništvo - odnosno pravo pojedinca da odabere ekonomsku aktivnost koju želi, a pod uslovima koje slobodno ugovara i dogovara sa svojim partnerima ili ostalim ekonomskim akterima.</s><s>Osnovni uslov za takav poslovni odnos je institucija ugovora, čiju zaštitu preuzima država.</s><s>Zaštićeni prodavci i kupci ulaze u razne poslovne odnose na tržištu, gde se realizuje njihovo međusobno rivalstvo - konkurencija.</s><s>Svaki privatni akter se trudi da u datim okolnostima na tržištu (cene) maksimizira profit, što ga tera da se racionalno i pravedno ponaša: svako prisvaja samo onoliko koliko su drugi ljudi spremni da mu plate.</s><s>Međutim, stvaranje efikasne tržišne ekonomije u bivšim komunističkim državama je bio znatno veći poduhvat od same (re)privatizacije.</s><s>Privatizacija je jezgro tranzicije i njegov najsloženiji deo, ali reforma podrazumeva akciju u gotovo svim drugim oblastima ekonomskog života.</s><s>Zadatak je epohalan.</s><s>I mada su mnogi elementi takve ekonomske reforme poznati i već viđeni u drugim zemljama, složenost problema i neminovnost sveobuhvatne reforme čini put kojim se mora proći umnogome neispitanim.</s><s>Posebne teškoce donosi poprilična politička nestabilnost u mnogim zemljama gde se mlade demokratije i dosta nestabilne vlade suočavaju ne samo sa ekonomskim problemima, već i sa izraženim nacionalnim i drugim političkim tenzijama.</s><s>Najveći broj zemalja koje su donedavno imale socijalističke (komunističke) privrede zasnovane na kolektivnoj svojini, centralno-planskoj privredi i suspenziji tržišnog mehanizma - doživele su civilizacijski neuspeh i nalaze se na putu tranzicije u tržišnu privredu (izuzev Srbije, gde vladaju retrogradni procesi).</s><s>Tranzicioni procesi koji su započeti krajem osamdesetih godina obuhvatili su ekonomsku i političku rekonstrukciju bivših komunističkih režima.</s><s>Ekonomska reforma se sastojala iz četiri faze: makroekonomska stabilizacija, cenovna i spoljnotrgovinska liberalizacija, privatizacija, rekonstruiranje preduzeća i finansijskih institucija.</s><s>Započet sa velikim entuzijazmom, ovaj proces je ubrzo kod jednog broja zemalja (Rumunija i Bugarska) naišao na neočekivano visoke cene tranzicije.</s><s>U prvoj fazi nisu ostvareni svi ciljevi makroekonomske stabilizacije, a započeti procesi privatizacije praćeni su brojnim problemima, zloupotrebama i neefikasnošću.</s><s>Nejednaka startna pozicija, ritam i sadržina tranzicionih procesa u pojedinim zemljama stvorili su prepoznatljive tranzicione razlike.</s><s>Međutim, pravac promena u svim ovim zemljama je isti, a rešenost sa kojom se ove promene sprovode u 1997. i prvoj polovini 1998. godine npr. u Bugarskoj, gde je cena tranzicije bila najviša, ukazuje na stabilnost kursa usklađivanja institucionalnih uslova u zemljama u tranziciji Centralne i Istočne Evrope.</s><s>Ovo je posebno važno, jer iskustva razvijenih evropskih inicijativa ukazuju da zemlje sa različitom ekonomskom snagom, različitim međunarodnim položajem i čak nekompatibilnim privrednim sistemima - mogu biti kreatori uspešnog regionalnog okupljanja.</s><s>Zemlje u tranziciji sa podrućja Centralne i Istočne Evrope predstavljaju vrlo važan i podsticajni faktor globalne evropske integracije.</s><s>Istorijska usmerenost, geografska bliskost, značajni privredni i prirodni potencijali, pokrenuti i odmakli reformski procesi i strukturna prilagođavanja ukazuju na to da su zemlje Centralne i Istočne Evrope na putu da dostignu potreban nivo homogenizacije kao uslov za uspešno uključivanje u evropske integracione procese.</s><s>Naime, slobodna cirkulacija kapitala i radne snage podrazumeva stvaranje uslova za neutralisanje prekograničnih barijera - ali to nije jedini, iako jeste važan uslov za harmonizaciju privredno-sistemskih pretpostavki i regionalnu integraciju.</s><s>Zemlje Istočne i Centralne Evrope su u prilici da, kao promoteri novog regionalizma koji se zasniva na višim oblicima regionalne integracije (tzv. dubinske integracije) - svoju poslovnu sredinu u potpunosti prilagode institucijama i odnosima koji vladaju na razvijenom tržištu.</s><s>To će doprineti da se strani investitori na ovim novim tržištima osećaju kao u svom poslovnom ambijentu (u Zapadnoj Evropi), što ce biti podsticaj direktnijim stranim investicijama.</s><s>Zato reforme ekonomske politike u ovim zemljama imaju sofisticirane zadatke koji se sastoje u prilagođavanju zahtevima razvijenih tržišta (usklađivanje ekonomskog i političkog sistema, sinhronizacija ekonomskih prilika i dr.), ali i forsiranju sopstvenih prirodnih i drugih pogodnosti.</s><s>To je osnovni smisao i bit tranzicionih procesa u ovim zemljama.</s><s>Stara biblijska legenda o sedam mršavih krava je simbolično poredenje sa sedam nesrećnih godina propadanja Srbije i Jugoslavije (1991-1998.).</s><s>Poznavaocima ove legende je prepoznatljiva njena simbolika, ali tragičnost naše zbilje je u odsustvu vizije, kreativne energije i elementarne odgovornosti aktera jugoslovenske drame.</s><s>Tokom perioda 1991-1998. u Srbiji su ispoljene izrazito negativne tendencije i ograničenja u pogledu uslova i mogućnosti sveobuhvatnih strukturnih promena i prilagođavanja medjunarodnom okruženju.</s><s>Razmere destrukcije su sveobuhvatne: institucionalne, tehnološke, socijalne i ekonomske.</s><s>Najteža su socijalna i psihološka razaranja koja su dovela do strmoglave duhovne i moralne saturacije.</s><s>Povratak Srbije i Jugoslavije u svet zahteva temeljnu rekonceptualizaciju i dubinsku promenu strukture, povratak osnovnim civilizacijskim vrednostima - individualnoj odgovornosti, kreaciji i toleranciji.</s><s>Takav poduhvat pre svega podrazumeva znanje, neophodnu preduzetničku energiju i politićku volju.</s><s>KOŠAVA: Koji metod privatizacije, s obzirom na naše uslove, treba primeniti?</s><s>Ima li u tom metodu mesta za holding-kompanije, kao spone između državnog i privatnog kapitala?</s><s>GRGUREVIĆ: Pri izboru najboljeg metoda privatizacije treba imati u vidu tri ključna kriterijuma: doprinos dobrom upravljanju, brzinu i pravednost.</s><s>Treba znati da je restitucija bila prva faza privatizacije u svim zemljama oslobođenim od komunističkog režima.</s><s>Druga značajna činjenica je da je privatizacija sprovedena zarad stvaranja modernog i efikasnog društva gde je doprinos valjanom upravljanju preduzećima od presudne važnosti.</s><s>Osim toga, svaki dan odugovlačenja sa privatizacijom nanosi veliku materijalnu štetu pa je potrebno da se to obavi što je moguće brže.</s><s>Sigurno je da privatizacija kroz prodaju obezbeđuje dobro upravljanje preduzećem, pošto će onaj ko ulozi sopstveni novac učiniti sve da ono posluje što bole.</s><s>Dosadašnja iskustva su pokazala da postoje razna ograničenja privatizacije kroz prodaju društvene i državne imovine (nedovoljna kupovna snaga, problem procene vrednosti predužeća, nejednakost građana - nepravednost i sporost) što podstiče traganje za alternativnim rešenjima.</s><s>Jedan takav koncept je besplatna podela vlasništva svim građanima jedne države.</s><s>Jedan vid besplatne privatizacije - pomoću holding kompanija daje krupne vlasnike što je pretpostavka dobrog upravljanja.</s><s>No, nije sasvim jasno ko će upravljati samim kompanijama jer će vlasništvo nad njima biti jako disperzivno - biće na milione vlasnika.</s><s>Samim tim javlja se realna opasnost da ili uprava holding kompanija bude potpuno samostalna i nenadzirana (što bi se neminovno negativno odrazilo na efikasnost i kompanije i preduzeća u njihovom vlasništvu) ili da se država umeša i radi zaštite nacionalnih interesa preuzme (formalno ili neformalno) kontrolu nad tim kompanijama, sa lošim posledicama.</s><s>Drugi vid besplatne podele je vaucerska privatizacija.</s><s>U Istoćnoj Evropi poslednjih godina je primetna prevaga koncepta besplatne privatizacije, i to prvenstveno vaucerima.</s><s>Brojne bivše komunističke zemlje sprovode ili pripremaju takvu privatizaciju: Ceška, Slovačka, Rusija, Ukrajina, Estonija, Litvanija, Mongolija - i Crna Gora predviđa u svom postojećem zakonu o transformaciji mogućnosti izdavanja vaucera.</s><s>U Srbiji je odobrena prodaja preduzeća - a ne besplatna podela; dominacija akcionarstva zaposlenih - a ne spoljnih vlasnika; relativno brzo stvaranje nekompletne svojinske strukture a zatim njena dekapitalizacija.</s><s>Takav koncept ima određene prednosti (ubiranje prihoda od strane države, relativno široka disperzija vlasništva, mogućnost dosta brzog stvaranja upravljačke strukture u nekim preduzećima, zasnovane na (nekompletnom) privatnom vlasništvu - ali su zato nedostaci preovlađujući.</s><s>Da pomenem neke: nedovoljan obim domaćeg kapitala, sporost privatizacije, iscrpljivanje privatne štednje, teškoće sa ocenom vrednosti preduzeća; dominacija unutrašnjih investitora - zaposlenih; sporo stvaranje trzišta kapitala usled dominacije internih, neotplaćenih akcija; podržavljenje značajnog dela privrede, itd.</s><s>Važan problem je činjenica da je velika većina transformacija izvedena stvaranjem mešovitih društava u kojima dominira društveni kapital, dok je privatni od marginalnog značaja.</s><s>Takva konstelacija stvara mogućnost za razne spekulacije onih koji upravljaju preduzećem (prelivanje prinosa društvenog kapitala kroz zarade).</s><s>Zanimljivo je da je u Srbiji oko jedne trećine preduzeća transformisano u akcionarska društva ali je ucešće privatnog kapitala vrlo malo - verovatno manje od 5%.</s><s>To je još jedan razlog koji ide u prilog vaucerskoj privatizaciji u Srbiji.</s><s>Međutim, sva prethodna razmatranja o metodama privatizacije kao neophodnu prethodnu fazu podrazumevaju restituciju.</s><s>Budući da smo ovde govorili o privatizaciji preduzeća, valja reći da postoje transparentna i efikasna iskustva za neophodnu restituciju u procesu njihove privatizacije.</s><s>Postoje dva načina fizičkog povraćaja - uz nadoknadu vrednosti ulaganja koja su usledila posle nacionalizacije, i uz pomoć denacionalizacionih vaucera koji omogućuju učešće u upravxanju preduzećima.</s><s>Nikad se ne sme zaboraviti činjenica da je restitucija bila model privatizacije u svim zemljama oslobođenim od komunističkog režima.</s><s>U svim ovim zemljama ona je bila dokaz da su njihove vlade iskreno opredelene za privatizaciju, a to je bio i najbolji podsticaj stranim investitorima.</s><s>Osim toga, restitucija je poslužila kao snažan motivacioni faktor u revitalizaciji srednje klase koja se pokazala efikasnom u sprovođenju reformskih procesa.</s><s>KOŠAVA: Ipak, glavni konkurent privatnoj svojini kod nas i dalje ostaje - društvena svojina...</s><s>GRGUREVIĆ: Vaše pitanje me je podsetilo na jedan istinit događaj koji se zbio u Americi 1962. godine.</s><s>Tadašnji predsednik SAD, Džon Kenedi vraćao se sa svojim saradnicima iz vojne baze u Kejp Kanaveralu.</s><s>U predsedničkom helikopteru se desio kvar i Kenedi je, na nagovor svojih saradnika, naredio sletanje.</s><s>Nisu bili takoreći ni par minuta na zemlji kada je iz jednog sumarka istrčao nepoznat čovek sa uperenom puškom, vičući kako će ih sve pobiti ukoliko odmah ne napuste njegovo imanje.</s><s>Kenedi je momentalno naredio poletanje njegovog i pet vojnih helikoptera koji su bili u pratnji, jer je znao da bi svaki dalji ostanak u ovoj situaciji doveo do incidenta.</s><s>Ovaj događaj pokazuje svu paradoksalnost naše situacije u pogledu statusa privatne svojine koja je od legalnih vlasnika oduzeta posle Drugog svetskog rata - od kojih su mnogi poubijani, proveli godine u zatvorima a porodice im bile maltretirane.</s><s>Autoritarna vlast je tako poništila srednju klasu, ukinula privatnu svojinu i srušila demokratiju.</s><s>Društvena svojina je postala vladajući oblik svojine - ona je bila ničija i svačija - i sve dotle dok je bivša Jugoslavija bila korisnik inostrane pomoći (od pedesetih do polovine osamdesetih) privreda, državne i socijalne ustanove su mogle da funkcionišu na ovakvom obliku vlasništva.</s><s>Onog trenutka kada je ta pomoć presahla, jugoslovenska privreda i društveni sistem su propali.</s><s>Dakle - ne postoje prednosti, vec samo nedostaci društvene svojine u odnosu na jedine oblike svojine: državnu i privatnu.</s><s>Ustvari, društvena svojina je partijska svojina komunosocijalističke oligarhije i njen osnovni nedostatak je u sferi motivacije - njeni ciljevi nisu dobit i uvećanje imovine već raspodela (zaposlenost, poreski prihodi i politička popularnost).</s><s>Jedini priznati stvaralački akter je rad a ne kapital, što osnovni ekonomski cilj - EFIKASNOST čini nedostižnim.</s><s>Osim toga, radnici - samoupravljači u društvenom preduzeću nisu u principu motivisani da štede i na taj način uvećavaju imovinu preduzeća; oni dobro znaju da društvena imovina nikada neće biti njihova (privatna), tako da je štednja na nivou preduzeća destimulisana u poređenju sa štednjom kapitalističkog preduzeća i privatnom štednjom.</s><s>Prosto rečeno: samoupravljači u društvenim firmama jedino su zainteresovani za što je moguće veće lične dohotke, jer jedino na taj način mogu povećati svoju imovinu.</s><s>Da bi se onemogućilo prelivanje društvene imovine u lične dohotke, kao vršilac kontrolne funkcije koja je u stvari vlasnička - javlja se država odnosno državno-partijski aparat.</s><s>Preuzimanjem mnogih vlasničkih kompetencija posao državno-partijskih organa postaje neefikasan, jer njegovi predstavnici donose odluke ne snoseći nikakav - ni finansijski ni vlasnički rizik, a pored toga po pravilu nisu ni stručni za taj posao.</s><s>To je razlog za razne promašene investicije i održavanje temelj privrede i društva a profit ciljna funkcija, individualna odluka vezuje rizik i ličnu odgovornost - zbog čega se favorizuje znanje, a nepresušna preduzetnička energija u slobodnom nadmetanju na tržištu stiže do cilja: uvećanje imovine i bolji kvalitet života.</s><s>Osnovnu funkciju države u takvim sistemima formira biračko telo: milioni malih i srednjih vlasnika čiji je osnovni cilj- zaštita sopstvene imovine kao i kulturnih i socijalnih institucija društva kojima pripadaju.</s><s>Zato se u tim zemljama može često čuti sledeće tumačenje (kad je privatna svojina u pitanju): kad je čovek svoj na svome onda je on ekonomski nezavisan - slobodna ličnost koja bira vlast upravo onakvu kakvu želi; ako ona ne ispunjava njegove zahteve, on je menja.</s><s>Dakle, u društvima gde vlada privatna svojina moć nije u državnoj administraciji, već kod onih koji vlast biraju.</s><s>KOŠAVA: Društvena moć je decentralizovana...</s><s>GRGUREVIĆ: U takvim državama model organizacije društva je decentralizacija, jer se izuzetna važnost pridaje lokalnoj samoupravi odnosno mestu gde ljudi žive i rade.</s><s>U malim decentralizovanim zajednicama je život kvalitetniji, zavidna je socijalna kohezija: niski troškovi života, podsticajni socijalni uslovi, brojne mogućnosti za razvoj i održanje malog porodičnog biznisa (niska poreska izdvajanja).</s><s>To je razlog što se posebna pažnja poklanja prevashodno razvoju malih i srednjih preduzeća a ne velikim, centralno ustrojenim firmama koje su spore i nefleksibilne.</s><s>Decentralizacija i minizacija nisu samo model organizacije preduzeća već su i model državnog uređenja.</s><s>Današnje moderne države su u stvari mreže malih decentralizovanih zajednica.</s><s>U sličnim okolnostima, kada se na lokalnom nivou postiže neophodni nivo ekonomske efikasnosti i socijalne koherencije i odnos građana prema klasičnim institucijama države se menja - države bivaju sve manje značajne.</s><s>U okolnostima dostignute socijalne kohezije, klasične forme države u razvijenim zemljama sve više dobijaju karakter regionalnih i subregionalnih integracija koje oslobađaju prostor za slobodnu cirkulaciju ljudi, znanja i ideja.</s><s>U našim uslovima na sceni su sasvim suprotni trendovi: maksimilizacija umesto minimalizacije, centralizacija umesto decentralizacije, autoritarna vlast umesto demokratskih institucija, jednoobraznost umesto raznovrsnosti - i sve to u okolnostima odsustva realnih svojinskih odnosa i institucija privatnog vlasništva.</s><s>Cena za takav anticivilizacijski trend je surova: Srbija je izbačena iz civilizovanog sveta - usamljena u svojoj propasti.</s><s>OBJAVA BROJA 46 486 800 ILI STILSKE VEŽBE</s><s>Razgovarao: Milorad Đurić</s><s>foto: Saša Gajin</s><s>Intervju sa Lidijom Merenik, umetničkim direktorom III Jugoslovenskog likovnog bijenala mladih u Vršcu</s><s>KOŠAVA: Imenovani ste za umetničkog direktora 3. Jugoslovenskog likovnog bijenala mladih.</s><s>Šta za Vas predstavljx Bijenale?</s><s>Sa kojim pretenzijama ulazite u ovaj projekat?</s><s>MERENIK: Bijenale je za mene fantastičan izazov.</s><s>Da bi se ovakva izložba uspešno zaokružxila, potrebno je i dosta iskustva, i dosta hrabrosti, a najviše ljubavi.</s><s>Već sam radila na organizaciji velikih izložbi, prva dva Bijenala na Cetinju, recimo, tako da znam šta me čeka.</s><s>Ali, s druge strane, ja zaista obožavam da radim izložbe.</s><s>U rad na izložbi smo svih petoro (Jelena Vesić, Nenad Radić, Dragan Jelenković, Ivan Jović i ja), ušli, pre svega, sa velikom radoznalošću i \"borbenim\" duhom.</s><s>Naša najveća pretenzija je da budemo kreativni i pozitivni, i da, nakon obavljenog posla, izložbu poklonimo vama i umetnicima.</s><s>Ovi mladi umetnici takođe mnogo očekuju od izložbe i vidim da joj se zaista raduju i da se ozbiljno pripremaju.</s><s>Mojim mlađim kolegama, Jeleni, Nenadu i Ivanu, rad na izložbi će takođe značiti jedno dragoceno iskustvo istoričarsko umetničke prakse.</s><s>KOŠAVA: Na koji način je izvršena selekcija umetnika?</s><s>MERENIK: Bijenale kao da je prethodne četiri godine patilo od neodlučnosti: da li izložbu raditi po uzoru na predratno Bijenale na Rijeci, Oktobarski salon i sl, ili usvojiti drugačiji organizacioni model.</s><s>Prethodnih godina selektori su kombinovali otvoreni konkurs sa \"pozivom\".</s><s>Time je, nehotice, napravljena kastinska podela izlagača: onih koji čekaju pred šalterom \"komisije\" i onih \"koji se podrazumevaju\".</s><s>S druge strane, ispostavilo se da većina umetnika svoj rad nekako \"podrazumeva\" i da ne želi da odgovori na otvoreni oglas-konkurs.</s><s>Ja nisam želela socrealistički princip uranilovke niti takve, demagoske jednakosti za jedne i privilegovanosti za druge.</s><s>Nije umetnost za oglas, ni na oglas.</s><s>Iako vas, priznajem, \"oglas\" često lišava istinske, autorske, lične, odgovornosti.</s><s>Uvek možete da kažete: Pa, eto, ovi su se javili, to vam je to, ja nisam odavde.</s><s>E, upravo da se tako šta ne bi desilo, ja sam uvek spremna da podelim dobro i zlo sa izložbom koju radim, zato što uvek, potpuno, stojim iza svog izbora i ne svaljujem krivicu na \"oglas\", metaforicki rečeno.</s><s>Duboko verujem u autorski pristup, u snagu individualnog.</s><s>U umetnosti i kulturi ovakav je pristup neophodan, jer nas samo on odvaja od totalitarnih, dogmatskih, u populizmu i kolektivizmu usančenih parakulturnih modela.</s><s>Potrudili smo se da pogledamo radove ili dokumentacije oko 70 mladih umetnika.</s><s>Pozvali smo ih zatim sve na tzv. pozivni konkurs i molili ih da predlože novi rad, projekat ili već postojeći rad.</s><s>Nismo im ništa uslovljavali, znajući da rade u finansijski mizernim okolnostima, i da je i samo Bijenale finansijski iznureno do mere da ne može da finansira izradu umetničkih radova.</s><s>Na ovaj poziv odgovorilo je 95% umetnika.</s><s>Zatim smo ponovo gledali njihove radove i projekte, razgovarali sa njima i sl.</s><s>Onda smo odabrali 45 umetnika, iza kojih sada stojimo, i za koje odgovaramo.</s><s>\"Jedini\" kriterijum je bio dobar, zanimljiv, kvalitetan, simpatičan, duhovit, maštovit predlog.</s><s>To su ljudi koji misle izvan šablona, ljudi koji znaju da srce nije srcastog oblika, ili barem u to često sumnjaju.</s><s>KOŠAVA: Slaz ete li se sa stavom da su se uloge kritičara i umetnika približile?</s><s>Nameravate li da samo registrujete stanje ili da kreirate (svoju) sliku umetničke scene?</s><s>MERENIK: Ne znam koliko su se, kako Vi kazete, \"uloge\" umetnika i kritičara približile.</s><s>Uistinu ne znam šta to znači, niti sam o sebi ikada mislila kao o \"kritičaru\" koji \"kreira\" bilo šta, osim, možda, sopstveni tekst o umetnosti.</s><s>Uvek je bilo umetnika koji su umeli da sopstveni rad protumače bolje od istoričara umetnosti, ili su, nezadovoljni, mislili da to umeju, uvek je bilo kritičara koji su nekada opravdano, nekada neopravdano, stvarali trendove ili ih promovisali.</s><s>Sve su to, zapravo, legitimne pojave umetničkog života; vreme je da se na njih naviknemo.</s><s>Ali, ovde nije o tome reč.</s><s>Ta vrsta liderstva (ili, u krajnjoj konsekvenci, autoritarizma) me nije nikada zanimala.</s><s>Pogotovo me ne zanima sada, kada treba predstaviti najmlađu umetničku scenu.</s><s>Bilo bi nepravedno i nemoralno praviti bilo kakve \"hirurške\", \"prokrustovske\" zahvate unutar jedne inventivne, duhovite, iskrene umetnosti, kakva je ova koju ćemo videti na Bijenalu.</s><s>Moja teza će slediti umetnički materijal, neće mu prethoditi.</s><s>Ja u ovom trenutku ni nemam tezu.</s><s>To je razlog što izložba nije imala unapred \"zadatu\" temu ili naslov.</s><s>Jednostavno, moji saradnici i ja smo hteli da damo što objektivniji presek scene.</s><s>U pitanju su umetnici čiji je prosek godina oko 25-26.</s><s>Dakle, pomerili smo starosnu granicu u korist mladih.</s><s>S druge strane, pomerili smo granicu u korist neetablirane, neafirmisane umetnosti ogromnih potencjala, a izvan bilo kakvog imaginarnog ili postojećeg mainstreama.</s><s>Rizikujemo da nam kažu: Fuj, napravili ste panoramu.</s><s>Ušli smo u rizik rada sa novim/nepoznatim umetničkim vrednostima koje nije \"verifikovao\" nekakav spoljni autoritet, koji bi kazao: ovo je in, ovo je out.</s><s>Verujemo jedino u autoritet slobode mišljenja i slobode stvaranja.</s><s>Idemo against all odds, uzvodno.</s><s>KOŠAVA: Planirate li prateće programe na ovogodišnjem Bijenalu?</s><s>Da li će i ovog puta biti organizovan simpozijum?</s><s>MERENIK: Nema pratećih programa, osim izložbe u staroj Apoteci.</s><s>Odustali smo, pre svega zbog finansijskih problema, od drugih pratećih sadržaja.</s><s>Simpozijum Pop vision organizovan pre dve godine je bio odličan, ali, nije izazvao širu pažnju kolega.</s><s>Doživeo je i niz malicioznih \"komentara\" upravo od ljudi koji nisu bili tamo prisutni.</s><s>Mi ove godine nemamo mogućnosti da napravimo tako kvalitetan simpozijum, pre svega zbog toga što za njega nemamo sredstva.</s><s>S druge strane, procenili smo da je besmisleno organizovati simpozijum za koji ne bi, iz raznih razloga, bili zainteresovani baš oni kojima je namenjen.</s><s>Sami \"okrugli stolovi\" su sasvim jalove, nemaštovite forme, gde se učesnici obraćaju sopstvenim sujetama, pa smo i to hteli da izbegnemo.</s><s>Naša izložba je otvorena za sve stručnjake i kolege koji žele da je vide, prikazu, kritikuju i sl.</s><s>Verujem da će srpska likovna kritika već naći prostor u javnim glasilima da izložbu oceni, a ostali mogu da nam se jave dopisnicom ili e-mailom.</s><s>Radimo ambiciozan katalog koji producira Centar za savremenu umetnost i koji ćemo promovisati na jesen.</s><s>U ovom trenutku, katalog nam je daleko važxniji od bilo kog pratećeg sadržaja, upravo zato što će postati važan i vredan dokument najmlađe likovne scene danas.</s><s>KOŠxAVA: Centralna izložba biće postavljena u Konkordiji.</s><s>Da li ćete koristiti i neke vangalerijske prostore u Vrscu?</s><s>MERENIK: Vršac ima toliko genijalnih potencijalno-izlagačkih prostora, da je zaista prava šteta što za njih skoro niko nije zainteresovan, osim samih organizatora Bijenala.</s><s>Stalno se, u našoj zemlji, u tako divnim prostorima otvaraju neki \"klubovi\" i neke kafane.</s><s>Malo je ljudi koji ulazu u nekomercijalnu umetnost, i zato ih, sve, jako poštujem.</s><s>Što se tiče Konkordije, to je prostor veoma komplikovan za izložbu, ali istovremeno zaista savršen.</s><s>Žilavo ćemo se sa njim boriti.</s><s>Izložba će biti otvorena još i tamo gde nam se to omogući, videćemo da li u prostoru Mlina ili, pak, stare Robne kuce ili nekom trećem.</s><s>Ja više ne znam od koga sve to zavisi, niti sam sigurna je li sam grad Vršac dovoljno zainteresovan za uspeh izložbe, ili je čitav ambiciozni projekat pao na teret organizatora.</s><s>KOŠAVA: Recite nam nešto i o metodologiji i artikulaciji izložbe</s><s>MERENIK: U jednom kratkom trenutku sam mislila da pravimo Potemkinova sela.</s><s>Onda sam mislila da je sve to skupa jedno Sumnjivo lice, neka neobična fela ljudi iznikla daleko od stabla turbo-dance scene i ideala \"lakog\" i \"novog\" novca, neka \"plava riba, kljukana dinastija\", nešto potpuno OFF.</s><s>Sad mislim da su to za nas Stilske vežbe, nešto po Kenou: može dvostruko, može subjektivno, može neusiljeno, medicinski, ironično, metaforično, blesavo, popularno, nervozno, zastrašeno ili veselo.</s><s>U suštini naše \"metodologije\" je (da nemamo metodologiju), s jedne strane, pozitivna potemkinizacija, s druge, stilske vežbe koje pokazuju lepotu kraja veka: mnoštvo, zamor, vrt.</s><s>To je neartikulisana artikulacija i obrnuto.</s><s>Tu negde ćemo \"situirati\" izložbu.</s><s>Zato će u naslovu stajati: Objava broja 46486800 (to će, da Vam otkrijem tajnu, biti i naša mala posveta Tomasu Pinconu).</s><s>I mene zanima šta će se dalje dešavati.</s><s>�Mečka� na usijanom limenom krovu</s><s>Piše: Dušan Vidaković</s><s>Kada je austrijski konzul u Nici Emil Jelinek 1901.naručio od nemačkog Dajmlera, odjednom, čak 36 automobila, čija je ukupna cena premašila fantastičnih 550 hiljada zlatnih maraka, imao je samo jedan uslov: da sva ta kola nose ime njegove ćerke.</s><s>Ljudi iz kanstatske firme, naravno, nisu imali ništa protiv, a istorija automobilizma je imala sreću da je Jelinekovoj mezimici kum dao (pogotovo za Špance) vrlo graciozno ime - Mercedes, što na jeziku konkvistadora znaci ljupkost, umilnost, prijatnost.</s><s>Jelinekova porudžbina značila prekretnicu u poslovanju Dajmlera, a naziv Mercedes je preživeo i fuziju sa fabrikom Karla Benca, 1926.godine, održavši se do danas kao sinonim za kvalitetne, luksuzne i, nadasve, bezbedne automobile svojstvenih vozačima koji ne kriju brige u novčaniku.</s><s>Međutim, upravo legenda o blistavosti trokrake zvezde doživljava ovih dana ozbiljnu proveru zahvaljujući mercedesu A klase.</s><s>A sve je, ustvari, počelo kada je tim vrhunskih stručnjaka, pod rukovodstvom Haralda Leskea, još početkom osamdesetih, krenuo u stvaranje generacija jednozapreminskih kombi-limuzina za potrebe štutgartskog koncerna iz Mercedesstrase.</s><s>Tako je 1982.godine promovisano koncept-vozilo NAFA, dugačko dva i po metra i namenjeno prevozu roba na manjim distancama i u urbanoj gužvi; na bazi toga će, 1999.godine, početi proizvodnja automobilčića smart u saradnji sa fabrikom satova Svoč.</s><s>Potom je, celu deceniju kasnije, na auto-salonu u Detroitu skinut veo tajne i sa projekta F-100, mini-vena sa solarnom baterijom ugrađenom u krov i fenomenalnim koeficijentom otpora vazduha (ć=0,20), koji bi trebao da parira automobilima kakvi su reno espas, tojota previja ili 'pontijak transport.</s><s>Konačno, na frankfurtskom sajmu, u jesen 1993, predstavljen je i prototip vižn A, što je izazvalo nevericu jer je nagovestilo skori Mercedesov silazak u srednji (konfekcijski) tržišni segment, diktiran recesijom.</s><s>Ne obazirući se na skeptičnost četvorotaktne planete, Mercedes je prošle jeseni vižn A proizveo u svoju A klasu i gurnuo ga na tržište sa dva benzinska motora od 1,4 (82KS) i 1,6 (102KS) litara i parom turbo-dizela od 1700 kubika, ali sa različitom snagom - 60 i 90 'konja.</s><s>Najveću sablazan tom prilikom proizvele su patuljaste dimenzije klase A: sa tri i po metra dužine novi merdža je, na primer, 33 santimetra kraći od stojadina.</s><s>Kako je i red, volana malog automobila najpre su se prihvatili specijalizovani poslenici sedme sile.</s><s>Njih 1.500 je, tokom dva godišnja doba promotivnih vožnji, prevalilo pola miliona kilometara klasom,a bez ikakvih problema i zakeranja, i kada se činilo da ce najnoviji mercedes stići pred kupce sa odličnim preporukama, dogodila se vlažna pista jednog švedskog aerodroma.</s><s>Drugim recima: znameniti loštest.</s><s>Pri punom opterećenju i brzini od 65 km/h vozilo je, trebalo da pređe iz desne u levu kolovoznu traku i da se vrati natrag, da bi eskiviralo zamišljenog severnog jelena koji je 'iznikao na putu.</s><s>Takav manevar A klasa nije izdržala: mercedes se obrnuo na krov, a novinari koji su bili u njemu - u bolnici.</s><s>Treba li naglašavati: Šveđani kao autori ovog testa i glavnih Mercedesovih konkurenata - Saaba i Volvoa - posebno su insistirali na nestabilnosti najnovijeg virtemberskog pulena.</s><s>Da smola bude potpuna, sve se to dogodilo nedugo pošto je najprestižniji model, mercedes 600, opremljen svim mogućim čudesima pasivne bezbednosti, nije uspeo da spase princezu Dajanu posle bliskog susreta sa jednim pariskim betonskim stubom.</s><s>Nemajući kud, Mercedes je pravdanje započeo pričom da su gume na A klasi (175/65 R 15) imale odveć slabu koncentraciju nadražujućih sastojaka, pa je kod naglog usporavanja, došlo do distribucije opterećenja sa pneumatika na sistem vešanja uz iznenadno ubrzavanje točkova.</s><s>Ipak, uskoro je Jirgen Hubert iz Mercedesovog Upravnog odbora podvio rep dozvolivši mogućnost da se mala mečka našla sa točkovima u vazduhu zbog mehaničke mane.</s><s>Zato je u pomoć pozvan Elektronski stabilizacioni program (ESP) po prvi put instaliran, pre tri godine, u mercedesima elitnog ranga.</s><s>Ovde je, u stvari, reč o senzorima, primenjenim u formuli 1, koji korespondiraju sa sistemima protiv blokiranja kočnica i proklizavanja.</s><s>Tako ESP iskljućuje mogućnost vozačevog previda pri korišćenju papučice gasa ili kočnice.</s><s>Ova spravica košta oko 5.000 DEM i, blagodareći lošu, ni krivi ni dužni, za džabe su je dobili vlasnici i najmanjeg mercedesa, ali je, bogme, tek uz njen angažman i klasa A uspela da zaobiđe severnog jelena.</s><s>A da se ne bi provukla jos kakva neprijatnost, mercedesovci su pribegli i dopunskim starovremenskim trikovima za uravnoteženje automobila: ugrađeni su tvrdi amortizeri i spojleri, skoljka je primaknuta tlu za 13 (napred), odnosno 10 milimetara (nazad), dok je razmak između točkova povećan za 1 na prednjoj i 12 milimetara na zadnjoj osovini.</s><s>Već pominjani pneumatici su zamenjeni novim, dimenzija 195/50 R 15.</s><s>Konačno, u akciju obnove poverenja u (tradicionalnu?) germansku stabilnost uključen je i austrijski avioprevoznik Niki Lauda, trostruki šampion formule 1, ali su, za svaku sigurnost, superuspešna testiranja mercedesa A podržanog ESP-om obavljena su u mediteranskoj atmosferi staze Katalunja kraj Barselone, gde losovi retko zalaze.</s><s>Posle ovako mučne epizode, kao da su u drugi plan potisnute sve novotarije malog mercedesa: automatsko kvačilo za manuelni menjač, neverovatno lak (70kg) mehanizam transmisije kod automatika ili ASSYST uređaj koji vozača podseća da je trenutak za redovni servis.</s><s>Minorizovane su vrednosti duplog dna automobila u koje su smešteni menjač i dobar deo motora.</s><s>Da ne govorim koliko je postalo sumnjivo to što je A klasa prvi mercedes sa pogonom preko prednjih točkova.</s><s>ABS sistem, servo-ojačivač volana i er-begovi su tek mačka u džaku, baš kao i branik koji, bez oštećenja, trpi udarce do 5 km/h.</s><s>Razume se, dobra PR agencija će, ipak, lako isfabrikovati dovoljno zapadnoevropskih kupaca kojima ce baš ovakav autić biti neophodan, ali se, naposletku samo nameće pitanje kako bi se tek ovaj mikromini-ven ponašao na testu izbegavanja rupa po našim drumovima, koje svakodnevno i uživo upražnjavaju domaći šoferi.</s><s>I onda sledi logičan zaključak: verovatno zato A klasa još nije stigla na naše tržište.</s><s>Blow up</s><s>UOBLIČAVANJE SVETOVA</s><s>IKON knjige - edicija za početnike</s><s>Piše Nikola Suica.</s><s>Svojevrsni vodiči Za početnike izdavačke kuće Ikona iz Kembridža, trasirani su kao misaoni zadaci saznavanja.</s><s>Principi i idejne osnove određenih civilizacijskih fondacija i pojava, kao i biografska kretanja izabranih ličnosti, podvrgnuti su rigoroznom izboru odgovarajućih scenarija i adaptaciji stručnjaka iz različitih oblasti.</s><s>Makijaveli, Njutn, Hegel ili Lakan, na primer, predstavljeni Za početnike, oblikovani su vizuelno tekstualnim prepletom zahtevnim za pažnju čitalačkog stupanja u značaj njihovih dostignuća.</s><s>Postajući izazov za primenjeni slikovni zanat crno -belih predstava, ilustracija i kolaža, ovi putevi postmodernističkog prosvećivanja umnogome su koristan odraz vremena prezasićenog informacijama.</s><s>Početkom osamdesetih godina, beogradski izdavač Studentski izdavački centar, objavio je tri naslova, zapravo prva ostvarenja na principu ovih konciznih i bogatih zamisli: Marks, Frojd i Ajnštajn za početnike, sada su već stekli antikvarnu vrednost.</s><s>Uključene u ediciju, koju je smislio urednik Ričard Apinjanezi, te tri knjige kolosalnih ličnosti modernog doba upotpunjene su izazovnim eklektičkim stapanjem pristupa i razmišljanja.</s><s>Bez digresija, primeri povezivanja reči i stvorene slike, na pozitivistički način usmeravaju duhovite pretrage i uvide.</s><s>Podela između pisaca teksta i autora slikovne pripovesti kroz delovanje određene ličnosti ili pojave u većini knjiga ispunjena je efektnim predstavljanjima tekstovima univerzitetskih stručnjaka ili pisaca i jednako, primenjenim ilustratorskim rešenjima na način grafičke novele.</s><s>Imajući umnogome posao svođenja i demonstracije apstraktnijih ideja ili asocijativnih povezivanja, mnogi ilustratori i strip crtači - kakav je uz Apinjanezija, jedan od inicijatora edicije - Oskar Zarate (između ostalih naslova, odgovoran za vizuelnu stranu Frojda, Lenjina, Kvantne teorije i Makijavelija) - pribegli su efektnom prelamanju svake stranice kao posebne epizode objašnjenja, stvarajući pregledna polja u parametrima brze jezgrovite informacije.</s><s>Tako Makijaveli za početnike, uz tekst londonskog istoričara i pisca Patrika Karija predstavlja renesansnu ličnost u domenu prodornih opservacija i značaja unutar aktuelnih zbivanja.</s><s>Kako je makijavelizam raxirena zamenica za prevaru i oportunizam, analiza renesansnog prototipa u društvenim neredima uzdiže se prema recepturama uspešnog kolektivnog upravljanja u duhovitim instruktivnim zapažanjima.</s><s>Izgnan od strane Medičija iz firentiske Republike, putem predstavljenih idejnih uticaja, Makijaveli postaje vesnik moderne političke misli i ponasanja.</s><s>I kako se u knjizi očigledno demonstrira, ozračje uticaja ideja iz 16.veka sudeluje u raznim vidovima ovovremene vrednosne i građanske prirode ponašanja, utemeljivši savremene političke teorije i ekonomska očekivanja.</s><s>Mobilni telefoni ili amplitude berzanskih akcija imaju zapaženo mesto, kao i Klinton, Margaret Tačer ili mapa balkanskih ratovanja.</s><s>Mislilac i pisac Vladaoca predstavljen od strane Karija i Zaratea upotpunjuje analizu temelja funkcionisanja civilizacije, ujedno u vidu republikanskih načela i oštroumnih zapažanja uspešnog upravljanja.</s><s>Ne samo kao priručnik za komandujuće kadrove i diktatore, knjiga je koncezna povest kontroverznog oslobodioca sila nemilosti u diplomatiji, poslovanju, upotrebi religije i ratovanju u ime slobode građanima firentinske republike.</s><s>Društvo u predvorju rane moderne Evrope pokazuje mehanizme koji su proistekli u pozitivne strane trgovačkih i državnih promena, preko kasnijih zakonskih preispitivanja morala Monteskjea, temelja civilnog društva i ekonomije profita.</s><s>Tako se pođarmljenost u senci slobodne trgovine i voluntarističkih načela Adama Smita ili republikanskih kritičara sticanja korumpirane moći, pokazuje trasiranom od strane Makijavelijeve misli.</s><s>Njegov republikanizam kao kasnije razvijana politička filozofija upisan je u rušenja i formiranja institucija, sezući do prelomnih decenija sticanja američke nezavisnosti i francuske revolucije.</s><s>Društveni kontrasti i aktuelizovani savremen cinizam pokazuju paradoksalni realizam društvenih odnosa Nikola Makijavelija po konciznom pogovoru knjige objašnjenog kao ličnost istinski ovovremenog političkog naučnika od središnje važnosti za postmodernističku debatu o civilnom društvu.</s><s>Njegov model vladara, tiranin Cezare Bordžija, samo je amblematska figura za užasavajuće ličnosti koje je kasnije donela istorija, a iz kojih su proistekli raznorodni nakazni oblici u usitnjenim društvima.</s><s>Tipovi vladarskih pozicioniranja i kratkih i podmuklih prevrata odvijaju se u kolektivima zamorenih, etički isfrustriranih pojedinaca organizovanih u svojoj nemoći i združenom mediokritetstvu, stanjima plodnim za demonijačke, zlobne principe lobiranja, intriga, nameštanja i podmuklog koristoljubivog otimanja.</s><s>Zbog tih osobina, pogotovo u smesi neuravnoteženih nakaznosti poznih devedesetih godina u Srbiji, promišljanje Makijavelijevih postavki iznesenih u grafičkoj i deklamacijskoj gustini odlomaka, prevoda, neposrednih povoda i aluzija postaje korisna saznajna satisfakcija.</s><s>Tako se njegov odlomak pokazuje realno opravdanim: šire zahvaćeno, ljudi i dalje proizvode i stvaraju posledice svoje gluposti, uskogrudosti i štete ne samo jedni prema drugima, već i prema ostalim oblicima života na zemlji i planeti u celosti.</s><s>Predstavljeni u zasebnim knjigama u dometu za početnike su i sledeći fenomeni: Genetika, Univerzum, Astrologija, Ekologija, Fašizam, Mafija, Holokaust, Feminizam i Postmodernizam, a otpočeli su i sa uticajnim ličnostima iz likovne umetnosti kao što je u individualnom zamahu svojih etapa bio Pikaso.</s><s>Otvorene su i izražene kontraverzne debate oko medijske suštine i tehnoloških pružanja danasnje globalne kulture oličene u Bodrijaru za početnike.</s><s>Ovaj francuski pisac, filozof, sociolog i autor fotografija, dat je u preciznim uvidima u probleme simulacije poimanja masovne kulture.</s><s>Tekst Krisa Horokosa i ilustracije Zorana Jevtića čine da se u najavama ove knjige o dejstvu ideje i zapažanja Žana Bodrijara, razumljivo postavi pitanje - da li se radi o mogućnosti izlečenja od vrtoglavice savremene kulture ili samo jednom od njenih simptoma?</s><s>S druge strane, temelje suprotnih raščlanjivanja ponašanja i sistematizacije morala, pojedinačnih postupaka i patoloških pojava civilizacije (isto tako francuskog autora) daje Fuko za početnike.</s><s>Delo istih autora iz 1997.prepliće filozofiju, istoriju, psihoanalizu i politički aktivizam upisan u savremeno iskustvo ludila, kriminala, seksualnosti i društvenih užasa, u institucionalizaciji nadziranja, kažnjavanja i discipline.</s><s>Putevi koji su Mišela Fukoa doveli do vlastitih prestupničkih pozicija sopstvene seksualnosti i političkih suprotstavljanja, objašnjeni su u grafičkoj, sintaksičkoj misiji knjige o vezama između humanističkih nauka, njihovih diskursa i genealogije suprotstavljene istoriji.</s><s>Tako se suprotnosti razuma i ludila pokazuju u vidu biografskog korpusa žive misli, po njegovoj smrti (1984), opisanog kao jedan od najvažnijih načina razmišljanja u veku.</s><s>U razmaku između medicine i pravnih sistema, Fukoova specijalnost bila je istorijsko poniranje u preispitivanju zakonitosti jezika, postupaka i razloga pojednih slučajeva u istoriji.</s><s>Govor kroz drugog bio je način metodološkog opita u znanju i istoriji, diskurs između liberalnosti i represije, gde se iskazivao subjekt kao uvid u restauraciju određenih prestupničkih ličnosti obeleženih i definisanih u istorijskoj nauci.</s><s>Tako se uspostavljena pravila diskursa pokazuju kao fenomen za sebe, u čemu je Fuko odredio društvena i kulturna polja poput porodice i zajednice u kojima se za svaku javlja i određeni tip diskursa, što se naslojavalo sve do političkog angažmana i cirkulisanja informacije u određenim institucionalnim sistemima.</s><s>Imajući u vidu čak i civilno društvo i napredne tehnologije i pravce povezivanja do kraja veka, prevratnički je izjavio: Niko od nas ne može biti siguran da će izbeći zatvor.</s><s>Policijska kontrola svakog dana postaje sve očiglednija: na ulicama i putevima; prema strancima i mladim ljudima.</s><s>Ponovo se javxa činjenica da je uvredljivo iznositi mišljenje.</s><s>Plasman i zastupljenost edicije Ikona u Britaniji naišli su na velika odobravanja pogotovo i u preobražavanju osobina nekadašnjih ponegde dogmatskih univerzitetskih nastavnika, koji su po mnogim priznanjima i sami bili zaplašeni ovim pojednostavljujućim načinom predstavljanja značajnih tema i mislilaca.</s><s>Ideja o spajanju humora i intelektualnosti, a što odlikuje veliki broj ostvarenja, pokazala se produktivnom u domenu približavanja alternativne i visoke kulture.</s><s>Na ohrabrujuću pristupačnost za sve veći broj ljudi (upravo kroz duhovitu stranu mnogih pojava) podseća glasnogovornik edicije Lori Tejlor, profesor Birkbek koledža prisećajući se jednog skeča iz TV serije Montija Pajtona: Neko kuca na Sartrova vrata, i Simon ih otvara.</s><s>- Da li je Sartr slobodan- pita posetilac, na šta mu ovaj odgovara: - Slobodan? to pitanje je pokušavao da razreši tokom celog života.</s><s>Edicija koja je u 1998.objavila i Prosvetiteljstvo i Valtera Benjamina, a u planu je i Niče za početnike, sve je više nalik na enciklopedijski posao za koji urednik i osnivač Ričard Apinjanezi izjavljuje: Bilo bi nepromišljeno da upoređujem knjige za početnike sa modelom enciklopedije.</s><s>Niti da zamišljam da sam Deni Didro (premda ni Didro nije bio Didro u 1751.godini izdavanja enciklopedije).</s><s>Ono što me zanima je u okviru dometa ovakvog posla.</s><s>Pa, iako nemamo očiglednog Voltera među našim piscima i saradnicima, verujem da je tu dovoljno prosvećenosti koja će pokrenuti naše čitaoce.</s><s>Uostalom, ko zna šta ce postati autori serije Za početnike.</s><s>Enciklopedija je imala kvalitet borhesovske umetnosti pamćenja, začarana lavirintskim etimonima, lingvističkim račvanjima stabala i krošnje znanja - u smislu metafore sjedinjenih nauka.</s><s>Oduvek je postojala neuronska mreža u ovoj potrazi za saznavanjem i stvaranjem artificijelne mašine mišljenja.</s><s>Uostalom, takvo nastojanje jasno je i kod španskog mistika Rajmona Lula iz 13.veka, svojevrsnog ranog enciklopediste, čija je bizarna logička mašina kombinovanih kruženja prethodila kompjuteru.</s><s>Konceptualizovana razmišljanja, logički ishodi ili plodne digresije u paralelna delovanja, obeležavaju pripovedni i predstavljački princip stranica množnih celina.</s><s>Približene otvaranju određenih obaveštenja koje donose softverske verzije aplikacija za Windows, knjige nude razložno iskustvo zadovoljstva i zelje, podvlačeći da se zaista sve, makar u pokušaju spoja slike i reči, može podvrći razjašnjavanju i poređenju na mentalnoj mapi odrednica trećeg milenijuma</s><s>IZMEĐU PRAVILA I KREATIVNOSTI</s><s>Razgovarala: Olivija Rušovac.</s><s>Dobri dizajneri u Jugoslaviji imaju ideje i obrazovanje, ali ne i novac.</s><s>On je na nekom drugom mestu.</s><s>Možda zato i ima toliko ružnih i nemaštovitih oglasa i plakata.</s><s>Song Dju Jong, Koreanka iz Tengua, magistrirala je iz oblasti grafičkog dizajna na Univerzitetu u Beogradu.</s><s>Tema njenog magistarskog rada glasi: Grafička identifikacija Sportskog centa Mladost.</s><s>Vođena rukom mentora profesora Miloša Ćirića, Song DJu Jong je, prema sopstvenom priznanju, shvatila da je za dobar dizajn najvažnija ideja.</s><s>Kao i mnoge moje kolege u Koreji, mislila sam o dizajnu samo u kategoriji estetskog.</s><s>Misao o ideji kod nas nije razvijena i zato se u Koreji uglavnom u ovoj oblasti samo kopira ono što donose Amerikanci.</s><s>U Beogradu sam naučila šta je kreacija, dodaje Song DJu Jong na tečnom srpskom jeziku.</s><s>Njen suprug Kim takođe govori srpski i uskoro ce magistrirati, takođe u Beogradu.</s><s>Njegova magistarska teza odnosi se na pesništvo Laze Kostića.</s><s>Song DJu Jong, je u Jugosalviju došla pre tri godine.</s><s>Iz zemlje svetla i reklame stigla je na beogradski aerodrom koji je baš tada bio u potpunom mraku.</s><s>Mislila je da je došla u pakao, plašila se rata, ali se kasnije privikla.</s><s>Da sam ostala u Koreji imala bih samo jedan svet.</s><s>U Beogradu sam mnogo čitala , diskutovala o umetnosti i književnosti i to me je izmenilo.</s><s>Postala sam nova ličnost, kaže DJu Jong.</s><s>Primećuje da je naš fakultet lošije opremljen literaturom i učilima nego u Koreji i da u prodavnicama nedostaje mnogo materijala potrebnog dizajnerima.</s><s>KAKO DIZAJNIRATI Mladost</s><s>Za razgovor sa Song DJu Jong odlučila sam se pošto sam pogledala ilustracije njenog magistarskog rada kojima su bili ukrašeni zidovi holova Univerziteta umetnosti.</s><s>Izrađeni do perfekcije, bogato i maštovito, one svedoče o jasno i čisto sprovedenoj ideji jednog sportskog centra, o postovanju pravila i kreaciji i originalnosti.</s><s>Počinje se od znaka, kaže DJu Jong i ističe da je u sportu zahvalnija ljudska figura nego rekvizit.</s><s>Potom sledi izbor između jedno i mnogo, a tek se posle unose ostali idejni elementi znaka.</s><s>Opredelila sam se da idejni projekat baziram na ideji kolo koja je zajednička svim kulturama.</s><s>To je vizuelni prikaz dobronamernog druženja.</s><s>Polazište je piktogram za informaciju mesto za okupljanje koji u sredini ima veliku tačku i četiri strelice usmerene ka toj tački.</s><s>Umesto strelice stavila sam ljudske figure, kao kolo, jer se pojam Centra odnosi na ljude.</s><s>Drugi deo ideje je olimpijski znak sa pet prepletenih krugova.</s><s>Tako je dobijena kompozicija u obliku krsta.</s><s>Pošto je znak tako rešen statičan, crtež sam postavila u perspektivu i tako dobila utisak dinamičnosti.</s><s>Ovo se postiže primenom Albertinovog metoda kvadrata u ugaonoj perspektivi.</s><s>LOGOTIP I PIKTOGRAM</s><s>Nova istraživanja vezana su za dvolinijsku tipografiju koja je oživljena različitim debljinama slova: napred u sredini i pozadi.</s><s>Takva rešenja daju ritam logotipu.</s><s>Piktogram ima zanimljivu istoriju.</s><s>Do polovine 20.veka piktogrami imaju rešenu samo funkciju, da pokažu vrstu posla koju označava figura.</s><s>Moderni piktogram je stilizovan i radi se u seriji.</s><s>Za olimpijske igre u Tokiju 1964.stručnjaci su 4 godine analizirali piktograme, i tada su postavljeni temelji nove logike i rešenja.</s><s>Reč je o kombinaciji tamne ljudske siluete i prosečenog sportskog dresa u blagoj stilizaciji figura.</s><s>Kreativni postupak kod piktograma najjasniji je u seriji.</s><s>MASKOTA, LOGOSIT I LOGOTIP</s><s>Maskota je neka vrsta savremene amajlije ili totema koja pomaže plasmanu proizvoda i treba da predstavlja živi stvor.</s><s>U grafičkoj identifikaciji to je jedini živi element.</s><s>Tražeći lik za maskotu Centra opredelila sam se za mladog vepra.</s><s>Figuru veprove glave probodene strelom videla sam na pečatu Sovijeta iz Prvog srpskog ustanka 1804, kao grb Tribalije (Tribali su tračko pleme i najstariji stanovnici severnoistočne Srbije.</s><s>Veprova glava javlja se prvi put u 15.veku u grbovniku Ulriha Rihentala kao grb srpskog carstva, a docnije se smatrao grbom Braničeva, u istočnoj Srbiji.</s><s>) Vepar je simbol hrabrosti, silovitosti i strasti.</s><s>Moja maskota mladog vepra ima kraću njušku, ruke se završavaju u špicu kao kod piktograma, a noge su izvedene u obliku opanaka.</s><s>U logositu maskota nosi upaljenu baklju.</s><s>Gornja polovina maskote je u pravougaoniku koji je isti kao i kod znaka Centra, kako bi se ispod logosita mogao postaviti logotip, pod istim uslovima kao kod znaka Centra.</s><s>Osnovne boje logosita su crvena, plava i bela, čime je dobijen srpski trikolor.</s><s>Pored slogana Mladost rumenih obraza koji podrazumeva da su rumeni obrazi vizuelni odraz zdravlja, preko bavljenja sportom u sportskom centru Mladost, zbog čega se slogan prikazuje sa znakom i logotipom, postoji i šara centra.</s><s>Ona je nastala od ideje i likovne logike logotipa: kretanje sleva na desno, od tamnog ka svetlom, u izlomljenoj liniji koja asocira na inicijal M u logotipu Mladost.</s><s>Inicijal je zajednički u ćirilici i latinici.</s><s>Ovaj geometrijski motiv ponavlja se beskrajno u plavoj boji.</s><s>PROBLEMATIČNOST SEKULARIZMA</s><s>U Beogradu je 5.i 6.juna održan međunarodni okrugli sto Crkva, država, civilno društvo.</s><s>Na skupu je učestvovao i Žarko Puhovski, profesor na Zagrebačkom sveučilištu.</s><s>Dopustite mi da svoje izlaganje započnem jednom isprikom.</s><s>Čini se, ideologijski gledano, pomalo neodgovornim, dolazeći iz postjugoslavenske i postkomunističke sredine, govoriti o prijepornosti i problematičnosti sekularizacije.</s><s>Činjenica je da u državama koje su nastale nakon Jugoslavije sekularizacije nema dovoljno.</s><s>No, problem nije tako jednostavan.</s><s>Činjenica je, također, barem po mojem sudu, da su neki od bitnih problema sa kojima smo suočeni posljednjih godina, teorijski i ideologijski, izvedeni iz rezultata jedne varijante sekularizacije.</s><s>Jednostavno rečeno, moja je teza, koja na koncu nije nova, da je suvremeni nacionalizam neposredna posljedica moderne sekularizacije.</s><s>Pod sekularizacijom bih razumio stanje u kojem religijsko mišljenje, običaji ili rituali, odnosno ustanove, nemaju neposrednu pravnu i političku posljedičnost, uz zajamčenu njihovu autonomiju.</s><s>Ono što se, međutim, odatle događa, a što je veoma često opisivano veoma zgodnom formulom Maksa Vebera očaravanje svijeta, značilo je, zapravo, u jednoj varijanti da su vrijednosti koje su bile pridavane religiji sekularizirane paralelno sa nekim neposrednim političkim procesima, u kojima dolazi do razdiobe na pravno uređenu zajednicu naspram zajednice spasa.</s><s>Pravno uređena zajednica će se naći pred pitanjem o vlastitom vrijednosnom utemeljenju.</s><s>Da preskočim stoljeća, to se, posebice, odnosi na modernu demokratski legitimiranu pravnu zajednicu.</s><s>Jer, koliko god to ideolozi demokratizacije tesko mogu priznati, bitna je pretpostavka demokracije etički relativizam.</s><s>Kad to kažem, mislim na liberalnu, tj.pluralističku demokraciju.</s><s>Bitna karakteristika demokracije je, jednostavno rečeno, da forma postaje sadržaj, a procedura nadomjesta vrijednost.</s><s>U jednoj razini analize, a to sasvim sigurno nije jedina, moderni se nacionalizam pojavljuje u demokratskom postavu kao reakcija na taj institucijski zadan relativizam vrijednosti.</s><s>On daje neku vrstu čvrstog ili barem naizgled čvrstog uporišta, riječ je nešto što se pije s majčinim mlijekom, nešto što je u varijantama srednjoevropskim, prije svega iz njemačke tradicije izvedenima, a koje su mjerodavne i za Balkan, ima mješavinu biologijske i kulturne pretpostavke; on dovodi do toga da se uspostavlja nešto što zapravo odgovara onoj često navođenoj Dirkemovoj odredbi o religiji, gdje se, zapravo, kao bitna odrednica religije navodi da je to jedna vrsta sustava vjerovanja koja vezuju ljude u skupine.</s><s>Potom je Maks Veber bio taj koji je u Privredi i društvu napisao da su Srbi i Hrvati specifičan primjer nacija koje se razlikuju isključivo po religiji.</s><s>I to je nešto što ovaj tip vezivanja u zajednicu jasno pokazuje.</s><s>Ako se, nasuprot tome, upravo u osloncu na Vebera, uzmu u obzir teolozi, kao na primjer Paul Tilih, koji vide religiju kao neku vrst koherentnog odgovora na egzistencijske dileme kao sto su rođenje ili smrt, itd, onda smo, po mom sudu, sa jednim dalekosežnim pristupom, pristupom koji će biti teško zadržati u sferi privatnosti.</s><s>Tendencija je svake religije, posebice ako je organizirana kao crkva, da se prelijeva van crkve.</s><s>Njezina je pozicija u etičkom smislu, naglasavam - etičkom smislu, fundamentalistička i to ne treba miješati sa političkim frazama iz dnevnih novina.</s><s>Jer, nasuprot drugog metodičkog tipa etika to je konzekvencionalizam ili posljedičnost koji ljudske čini etički promišlja sa stajališta toga da li je konačan rezultat dobar ili loš.</s><s>Fundamentalizam, ili apsolutizam, kako se kad i kad naziva, odbija svaku mogućnost da činimo makar i najmanje zlo, neovisno o tomu kakvo bi smo dobro mogli postići.</s><s>Ako, međutim, odbijemo konzekvencionalizam, onda postavljamo tako visoki etički standard koji ljudski ne možemo izdržati, standard koji nas neposredno postavlja u situaciju greha, odnosno dovodi crkvu u poziciju da bude ustanova reproduciranja greha.</s><s>Međutim, u bilo kojoj varijanti, čovjek koji ozbiljno vjeruje u svoje vrijednosti ne može tek tako gledati kako oko njega teče zivot koji te vrijednosti nipodaštava.</s><s>Od njega se traži intervencija ili, da citiram veoma zgodan, moglo bi se reći slogan, Karla Jaspersa: Promatranje nije egzistencija.</s><s>Sudjelovanje je egzistencija.</s><s>Odatle, sekularizam samo naizgled oslobađa društvenu sferu vrijednosti, jer - vakum je u ovom smislu zapravo neprirodan - on će biti ispunjen drugim vrijednostima, najčešće vrijednostima nacionalne baštine ili tradicije.</s><s>U tom kontekstu je, posebice za naše okolnosti, veoma primjerena formula o izmisljanju tradicije kojom se upravo nacionalizmi bave.</s><s>Dopuštam sebi primjer iz svoje države - molim da se ovo \"svoje\" shvati formalno-pravno.</s><s>Hrvatska je nedavno proslavila osmogodišnjicu državnosti u državi koja formalno postoji šest i pol godina.</s><s>Hrvati se često, po mojem sudu, s pravom zabavljaju na račun srpske fascinacije Kosovom, ali Srbi barem imaju taj izgovor da su njihove legende šest stotina godina stare, pa je jako teško provjeriti što je zapravo bila istina.</s><s>Mnogo je indikativnije da živimo u državama koje su u stanju izmisliti legende stare od šest do osam godina.</s><s>To je ta razlika između, po mojem sudu, sekulariziranih i nesekulariziranih vrijednosti.</s><s>Nesekularizirane vrijednosti nemaju u svojoj konstituciji potrebu za dokazivanjem istina, one su obznanjene kao vjera, a sekulizirane nisu ništa manje mitskoga karaktera, ali iza sebe imaju tvrdnju kako su, ujedno, dokazivo istinite i time su, zapravo, opasnije po istinu.</s><s>U prvom slučaju, imate naprosto bajku - tko hoće može vjerovati, tko neće ne mora, barem u naše vrijeme, a u drugom slučaju imate nešto što za sebe tvrdi da je znanstveno, najčešće povjesno fundirano, a to je, naravno, mnogo teže intelektualno opterećenje.</s><s>Povijest sekularizacije počinje u političkoj filozofiji s Makijavelijem i zato ga teolozi, tako očito, ne vole.</s><s>Konzekvenca toga jest jedna formula koju su demokrati, liberali i ljevičari uvijek napadali.</s><s>Formula glasi autoritas non veritas.</s><s>To je formula sekularizirane države i ona je, u političkom smislu, manje zlo od obrnute formule, koliko god to paradoksalno zvučalo.</s><s>Jer, zakon jest, kako to Fuko u jednom od svojih posljednjih predavanja kaže, također ratno stanje.</s><s>Stanje rata sa prekrsiteljima, a ne, naizgled, mir nasuprot ratu i taj zakon, kako znamo, počiva u osnovi na moći.</s><s>Ako imamo sreće, on će biti odličan, ako imamo puno sreće, bit će pravedan, ali istinitost mu uopće nije dana kao zadaća, jer to nije zadaća zakona u modernoj državi.</s><s>Kad govorimo u tom kontekstu o rađanju nacionalizma iz duha sekularizacije, onda se pokazuje kako je nacionalizam ono što su stari vjerski autori nazivali idolopoklonstvo u punome smislu riječi.</s><s>Pre dva tjedna je u Zagrebu bila homilija nadbiskupu Stepincu, u kojoj je jedan svećenik nota bene doslovce rekao kako je za Stepinca čovjek bio najviša vrijednost.</s><s>Ne može se biti ni vjernik, a kamoli kardinal, ako je za vas covjek najviša vrijednost.</s><s>Covjek kao imago dei je vec drugorazredna vrijednost, a nacija će u nacionalističkoj varijanti biti ona po čijem liku se mi uspostavljamo.</s><s>Bogu barem možemo, po želji, priznati pozitivne karakteristike, ako u njega vjerujemo.</s><s>To se često kod nacionalista čini sa nacijom, jedino što nacionalisti tvrde da za to imaju empirijsko pokriće, tvrde da su pripadnici njihove nacije lijepi kao takvi i ne priznaju nikakav prigovor na to.</s><s>U odnosu, dakle, na modernu državu, za koju je jedan poznati njemački pravnik rekao da nastaje upravo sa procesom sekularizacije, dogodilo se da u odnosu države i crkve treći član, civilno društvo, ostaje, rekao bih srećom, po strani.</s><s>Ono što, međutim, njih politologijski povezuje jest stroga vertikala u njihovoj izvedbi, hijerahija.</s><s>Nasuprot tomu, načelo civilnog društva jest stroga horizontalnost.</s><s>Načelo civilnog društva jest u tomu da vrijednost jedne osobe, koju ne zastupa ni jedna druga osoba u društvu, ima jednako mjesno važenje, kao i vrijednost koju zastupaju svi ostali.</s><s>Imamo, dakle, dvije vrijednosti i načelo većine tu ne važi i zato je prava sekularizacija, radikalna sekularizacija, da tako kažem, moguća tek onda kada se, ono što je država ućinila sa crkvom, oduzevši joj, ne rijetko nasilnim putem, privilegiju monopola na vrijednosti, barem pokuša iz pozicije civilnoga društva učiniti dostupnim.</s><s>Kolega Cvitković je u jednom trenutku rekao da je poteškoća s postkomunističkim državama u tome što imamo jednu crkvu koja je superiorna, a da bi za toleranciju bilo dobro da su tri crkve, ili tri vjere, ravnopravne.</s><s>Međutim, tolerancija nema smisla u ravnopravnosti.</s><s>Ja mogu da toleriram samo ono što mogu, a ne želim da zabranim.</s><s>Dakle, tolerantan je samo onaj tko ima moć.</s><s>Ne smije se mješati nemoć i tolerancija.</s><s>Ja ne mogu biti tolerantan ako nisam moćan; samo kada sam superioran mogu biti tolerantan spram nečega što mi se ne sviđa, ali sam zbog nekog višeg načela odlučio ne intervenirati.</s><s>Dakle, tolerancija ima smisla u Makedoniji, ako su tačni ovdije izneseni podaci, da tamo postoji samo 0,3% ateista.</s><s>Ako su podaci točni, onda je tamo nužna tolerancija prema jednoj irelevantnoj manjini.</s><s>U odnosu 33, prema 33, prema 33 - nema tolerancije, nego je to ravnoteža.</s><s>Jos jedna stvar.</s><s>Kod nas jesu bile sekularizirane vrijednosti, ali iz njih nije nastala civilna religija, nego je nastala religija rata i to je ono što je tragedija ovog kraja.</s><s>Jer, sekularizirane su vrijednosti shvaćene u formuli do istrage naše ili vaše.</s><s>Mržnja spram Drugoga je imala mnogo veće posljedice od prave ljubavi i dogodilo se ono što Njemci nazivaju veselje u šteti ili, kako mi to kazemo, da susjedu crkne krava.</s><s>To je jedan tip interpretacije sekularno-religijske svijesti pod imenom nacionalnog.</s><s>Kod nas je, na žalost, proces sekularizacije pomagao militarnost i imao je, u smislu civilnosti, kontra efekte.</s><s>Sedma Božja zapovijest.</s><s>Ne bih imao poteškoća prihvatiti da su deset božjih zapovjesti osnova jedne moralnosti zapadne civilizacije, neovisno o tome da li su one božje ili ne, kada tu ne bi bilo jedne zapovjesti s kojom imamo poteškoća.</s><s>To je ona koja kaže: Ne poželi ženu bližnjega svoga.</s><s>Ovde se ne radi o odbrani promiskuiteta, nego se radi o glagolu poželi.</s><s>Nije rečeno ne poželi tuđe stvari, rečeno je ne ukradi.</s><s>Da je rečeno, da vulgariziram, ne uštipni ženu bližnjega svoga, to bih mogao prihvatiti ili, recimo, nemoj napastvovati ženu bližnjega svoga.</s><s>Ali, ne mogu prihvatiti moralni sustav koji želju inkriminira, jer je zelja prije čina, pa čak, možda, i prije svijesti.</s><s>Znam da se danas teolozi pokusavaju izvuci na razne nacine, interpretirajući pojam želje mimo izvornog značenja; ali s tom odredbom je deset božjih zapovjesti za moderni moral neprihvatljivo, jer znači totalitarnu intervenciju u privatnost osobe.</s><s>To je moje duboko uvjerenje.</s><s>Politički klerikalizam</s><s>Kad govorimo o pluralizmu, indikativno je da, gledate li literaturu, gotovo podjednako i liberalni, i kršćanski autori, s indignacijom odbijaju ideju političkog klerikalizma kao pogrešnu i pogubnu.</s><s>Meni se nasuprot tomu čini, tu sam veoma usamljen, da klerikalizam uopće nije nešto tako loše.</s><s>U demokratskom društvu uopće nije tako loše da postoji jasna politička opcija neposredno vezana za crkvu, ako ona to hoće, jer ona time priznaje pluralizam vrijednosti kao osnovu demokracije, u što, inače, nismo baš kod svih crkava sigurni.</s><s>Vjeronauk ili nešto drugo Trebali bismo imati komparativne religijske kulture kao predmet koji bi obavještavao učenike što je to što nazivamo kršćanskom, pa onda katoličkom, protestantskom, pravoslavnom, islamskom i nekom drugom kulturom, kako bi se u literaturi i svemu drugome mogli snalaziti.</s><s>Meni se, pak, čini da nastavu religijske kulture ne mogu izvoditi samo svećenici ili svećena lica.</s><s>Tako dugo dok postoji predmet u školi, ma kako se on zvao, koji mogu izvoditi samo svećenici meni se čini, da sekularizacije nema.</s><s>To je za mene načelno pogrešno.</s><s>Ko hoće imati vjeronauk ima crkve, inače se državu upliće u određivanje o tomu tko je ovlašten za religijsku naobražbu ili vjeronauk; a to zapravo znači da se daju državi neke ingerencije koje ona ne može imati, a crkvi ingerencije ulaza u državnu ovlast nad školstvom.</s><s>PINA BAUS I NEMAČKI PLESNI TEATAR</s><s>Piše: Dubravka Đurić</s><s>Pina Baus (Pina Bausch) je rođena 1940.godine u Nemačkoj.</s><s>školovala se u Esenu u školi Folkwangschule, koju je vodio Kurt Jos (Kurt Jooss), pored Meri Vigman (Mary Wigman) najuticajniji učenik Rudolfa fon Labana (Rudolf von Laban).</s><s>Krajem pedesetih školovala se u Sjedinjenim Američkim Državama, u čuvenoj školi Julliard School of Music.</s><s>Od 1973.vodi Plesni teatar Wuppertal.</s><s>Nemački plesni teatar (Tanztheater) obnavlja tradiciju nemačkog ekspresionističkog plesa, a najpoznatiji je izvan Nemačke upravo po radu Pine Baus i njene trupe Wuppertal Tanztheater.</s><s>Pomenućemo predstave: ''Posvećenje proleća'' (1975), ''1980'' (1980), ''Na planini se čuo krik'' (1984), itd..</s><s>Pina Baus svojim teatrom želi da provocira emocionalne reakcije publike i, kako zaključuju neki kritičari, u tome uspeva.</s><s>Budući da je učenica Kurta Josa i Entonija Tjudora (Anthony Tudor), ne iznenađuje činjenica da se bavi ljudima i uslovima u kojima oni žive, i da na sceni izražava neprijatna i uznemirujuća osećanja.</s><s>Ona gledaoce primorava da se suoče sa osećanjima koja bi većina ljudi želela da sakrije.</s><s>To je i jedno od bitnih svojstava nemačkog ekspresionističkog plesa.</s><s>Predstave plesnog teatra Wuppertal raspoloženjem i dramaturgijom pričaju o veoma ličnim promašajima ''junaka'' i ''junakinja'', o frustracijama pojedinaca.</s><s>Scene se u ogoljenom vidu strukturalno nižu na pozornici.</s><s>Predstave Pine Baus su revije psiho-patologije svakidašnjeg života.</s><s>Te revije pokazuju nemogućnosti i ograničenja koje nameću društvene norme i društvene igre.</s><s>Sve je to propraćeno obaveznim bausovskim smeškom.</s><s>S druge strane, predstavljene dečije igre u repetetivnim ponavljanjima razotkrivaju svu okrutnost.</s><s>Emil Hrvatin ističe da Pina Baus gradi teatralnost na odnosu prema plesu i telu plesača i plesačice.</s><s>Dinamika teatralnosti je zasnovana na napetosti između imaginarnog i simboličkog, u kojoj provaljuju elementi realnog.</s><s>Telo je teatralni objekt par excellence.</s><s>Pina Baus se zanima za telo, ali ne teži oblikovanju novog plesnog govora.</s><s>Subjekt njenog plesa je telo koje pati i trpi, a ono je stalni predmet istraživanja nemačkog ekspresionističkog plesa.</s><s>U njenim koreografijama izraženo je ironiziranje baleta i društvenih plesova.</s><s>Ona teatralno zahvata tradicionalne oblike i upotrebljava ih kao označitelje.</s><s>Ograničen opseg ''pokreta'' u plesnom teatru izraz je njegovog antiestetskog stava.</s><s>Kada Pina Baus objašnjava da je mnogo ne zanima kako se ljudi kreću već ono što ih pokreće, obraća se i klasičnom baletu, koji represivnost maskira lepim akrobatskim i čarobnim spektaklima.</s><s>Ples postoji, ali je često prekriven slojem imaginarnog i simbolnog, koji su upisani u telo plesača/plesačice.</s><s>U tom smislu, ova koreografkinja i izvođačica razlikuje ''predplesno'' stanje tela.</s><s>To znaći da je suštinski materijal nove teatralnosti postalo telo u svim aspektima svoje pojavnosti.</s><s>To nije telo u antropološkom smislu, koje se obraća ritualnom u pozorištu tragajući za ''prvobitnošću''.</s><s>Traganje za prvobitnošću u plesu podstakla je Isidora Dankan.</s><s>Nasuprot tome, kod Pine Baus u pitanju je telo upisano u specifične simboličke strukture.</s><s>Ona prikazuje napetosti između imaginarnog tela plesača/plesačice i njegove/njene upregnutosti u simbolne strukture plesa, pozorišta, društvenih konvencija manifestovanja samog tela.</s><s>U toj napetosti, piše Emil Hrvatin, koja konstituiše teatralnost, imaginacija plesača/plesačice sudara se s represivnošću simboličkog.</s><s>I Johanes Biringer (Johannes Birringer) ukazuje na važnost tela u plesnom teatru Pine Baus.</s><s>Granična linija u njenom teatru je konkretno ljudsko telo.</s><s>To telo ima specifične kvalitete i ličnu istoriju.</s><s>Ali to je i telo o kojem se piše, koje je upisano u društvena prikazivanja roda, rase i klase.</s><s>Najcešće smatramo da su reprezentacije tela same po sebi date, bez obzira da li se pojavljuju u reklamama, filmovima, fotografijama, pornografiji ili u lepim ''večnim'' pozama baletskih igrača i igračica.</s><s>Međutim, Biringer ističe da svaka poza, svaki kadar i svaki pokret tela učestvuje u specifičnoj prikazivačkoj ekonomiji kojom upravlja kultura.</s><s>Kultura određuje ono što ćemo videti kao realnost.</s><s>Pina Baus nas okrutno suočava sa konvencijama prikazivanja seksualizovanog tela, sa normama koje više ne primećujemo, usled automatizovane percepcije ''naturalizovanih'' konvencija.</s><s>Tako, na primer, u njenim predstavama žene poziraju ili su stavljene u pozu kao žrtve društva.</s><s>Ona ih smešta u kontekst ironičnog tretiranja brehtovskog didaktizma.</s><s>Često se suočavamo sa nepomičnim plesačima i plesačicama i poznatim ritualima izvođenim sa snažnim emocionalnim intenzitetom.</s><s>Scene su tako konstituisane da nas sam proces posmatranja primorava da postanemo svesni njegovih konvencija.</s><s>S druge strane, plesači i plesačice su svesni prisustva publike i istražuju odnos prema njoj.</s><s>Mada se retko bavi specifičnim karakterima, Pina Baus pokazuje prepoznatljive tipove ljudi - na primer, ženu koja dugo pati u predstavi ''Plavobradi'' (1977).</s><s>Glavni muški izvođac je vuče po podu i ona se na kraju davi pod mnogim slojevima odeće u koju se obukla.</s><s>Grabežljivo ili patetično, muškarci i žene tragaju za ljubavlju u ambijentu plesne dvorane u delu ''Kontakthof'��(1978).</s><s>Bitka između polova nazire se u mnogim radovima, a ponekad se izražava prikazivanjem brutalnog nasilja.</s><s>Žene su najčešće prikazane kao žrtve, a muškarci kao napadači.</s><s>Grupa muškaraca nasilno grli ženu u predstavi ''Kontakthof'.</s><s>U ''Plavobradom'' usamljeni napadač lako dolazi do žena, koje ne pružaju otpor nasilju.</s><s>Komad 'Plavobradi'' obrađuje temu o opsesivnom muškarcu sadisti koji ubija voljene žene.</s><s>U predstavi ''Na planini se čuo krik'' plesačica uvek iznova kleči da bi je njen muški tlačitelj kaznio.</s><s>Preteća figura izvođača zamenjuje mnoge očeve i ljubavnike koji se kao deca igraju oružjem, da bi naučili takmičarska pravila igre.</s><s>Lepota žene se ističe u scenama kada se one igraju poput deteta, ili kada im je lice prekriveno dugom kosom, ispod koje se samo nazire.</s><s>Ove predstave pokazuju kako pojedinci osećaju psihičku prisilu da učestvuju u igrama koje igraju zreli ljudi, žudeći za priznanjem, naklonošću i prihvatanjem u društvu.</s><s>Ispod krhke vanjske politure društvenih konvencija, koje negiraju senzualnu slobodu, jasno vidimo ljudsku psihu kako se suočava i bori sa njima.</s><s>Popularne romantične pesme i holivudski klišei postavljeni su nasuprot tragikomičnim efektima koje proizvode plesači ''ispunjenjem'' naših očekivanja.</s><s>Plesaći i plesaćice pokazuju koliko su lepi, ispunjeni ljubavlju i koliko mogu biti uspešni kada ispoljavaju agresivnost, ali i koliko očajnički žude za komunikacijom.</s><s>Ovakve eksplicitne reference prema društvenoj realnosti u teatru ističu proces kroz koji ''koreografija društvene psihe'' Pine Baus prevodi emocionalne potrebe (opresivne prirode koje pretpostavljaju specifične ženske i muške forme) u širu konstelaciju odnosa kulture prema žanrovima koji su u srži takvih odnosa.</s><s>Bez napora, predstave uvek iznova prelaze granice žanrova, od ljubavne pesme, filma, baleta, revije, cirkusa do društvenog plesa.</s><s>Svako takvo prelaženje učinjeno je svešću o sadržaju i potencijalnim zabranama koje nameću izabrane forme.</s><s>Očekivanja publike, kao i odgovori na forme inkorporirani su u parodične događaje na sceni.</s><s>Pina Baus primenjuje princip montaže nasleđen od brehtovskog teatra.</s><s>Koristeći ga, ona prepliće ceo repetitivni katalog gestova i ponasanja kojima pojedinci predstavljaju sebe u najboljem svetlu.</s><s>Izvođači i izvodjačice su često obučeni u neuglednu savremenu odeću i izgledaju kao obični muškarci i žene, a zapravo su izuzetno utrenirani plesači.</s><s>Njihove aktivnosti, od kojih neke izgledaju kao sasvim obične, značenjski su istaknute.</s><s>Muškarac u ''Plavobradom'', na primer, posesivno pali i gasi traku na kojoj je snimak opere ''Zamka Plavobradog'' Bele Bartoka po kojem je komad dobio ime.</s><s>Biringer objašnjava da su, u radu Pine Baus i drugih posleratnih nemačkih koreografa, parodija konvencije i istina parodije, uvek povezane sa osećanjem ličnog iskustva istorije.</s><s>Potisnuta sećanja na traume iz detinjstva mogu se nadoknaditi samo ako neko sluša dovoljno pazljivo ponavljanje socijalizovanog tela.</s><s>Tako nam izvođačica u predstavi ''1980'' stalno ponavlja priču kako se kao dete plašila mraka i kako je plakala sama u mračnoj sobi, kako je dadilja ulazila, palila svetlo i tukla je.</s><s>Nekonvencionalnost Pine Baus manifestuje se i kada uzmemo u razmatranje površine na kojima njeni igrači i igračice igraju.</s><s>U ''Obredima proleća'' pozornica je prekrivena zemljom, a u ''Arijama'' vodom do članaka.</s><s>Oni se kupaju u bazenu sa lažnim nilskim konjem u ''Arijama'', povremeno govore, pevaju, viču ili se smeju.</s><s>U predstavi ''1980'' ispovedaju strahove ispitivaču.</s><s>Ivet Biro (Yvette Biro) piše da su tri sata izvođenja predstave ''Nur Du'' prepuna događaja.</s><s>Nižu se nadanja i agresije, nesretni slučajevi i katastrofe, zavođenja i nostalgične strasti kuju zastrašujući plan.</s><s>Pina Baus tokom dugih napornih proba koristi operativne reči.</s><s>Ona postavlja pitanja izvođacima, prisiljavajući ih da smisle najprikladnije, najličnije odgovore na zahteve zamišljene situacije.</s><s>Nižu se pitanja: šta znači postaviti nekom zamku?</s><s>Pričanje priče stvara samo zvuke i buku.</s><s>Pokoriti ili se osvetiti.</s><s>Poziranje za fotografije.</s><s>Naljutiti se.</s><s>Mrmljati psovke.</s><s>Svaki zadatak podrazumeva pravo lice stvari, da bi pronašli samo njihovu ličnu realnost.</s><s>Ta realnost se zatim prevodi u očaravajući jezik gesta, kretnji, zvukova.</s><s>Često se oblače u odeću suprotnog pola.</s><s>Pa ipak, rad Pine Baus se često usredsređuje na nemogućnost da se komunicira ili uspostavi kontakt, na nedostatak saosećanja između pojedinaca i između polova.</s><s>Gorčina, ljutnja i brutalnost kao da dominiraju njenim teatrom.</s><s>Pošto proizilazi iz plesa, psihopatologija prisutnosti će se reflektovati u odnosu prema baletu i nepsihološko-realističkom pozorištu.</s><s>Bauseva iz plesača povlači krutost i jednodimenzionalnost baletskog rituala, ali umesto virtuoznosti, lepotica i lepotana - postavlja ih kao osakaćena, neoblikovana tela, umorna i zamorena dosadom.</s><s>Oni zbunjeno pokušavaju da sakriju fizičke nedostatke (grudi su male, nos je veliki, haljina nikada sasvim ne pristaje).</s><s>Svi ti elementi mešaju se sa provalom bolesnog egzibicionizma, kojem članovi trupe plješću.</s><s>U ranijem radu Pina Baus nije bila toliko zainteresovana za groteskne aspekte muškog nasilja .</s><s>U njenom koreografskom tretiranju ''Obreda proleća'' Stravinskog, ritualni ples stalno se iznova izvodi do trenutka potpune iscrpljenosti izvođača i izvođačice.</s><s>On je bio sredisnja metafora za dobro uvežbano ponasanje muškaraca koji slede pravila društva i usredsređuju se na žene koje postaju žrtve.</s><s>U ''Arijama'', pozornica je pokrivena vodom i okružena ogledalima koje stvaraju nadrealne površine.</s><s>U nizovima parodičkih slika narcističkog samoposmatranja, u ''Arijama'' dominira melanholično raspoloženje izazvano stalnim naporima pojedinca da se samoizrazi i da pokaže samorazumevanje uprkos mehaničkom nasilju koje tako često dominira pojavnostima.</s><s>U kasnijim teatarskim radovima takvi napori postaju komični jer doslovno iznose lepe metafore naših opera i klasičnih baleta.</s><s>U ''Arijama'' kraljice iz bajki i dive oblače i groteskno ukrašavaju njihovi partneri, uranjajući u fraze pokreta i litanije reči.</s><s>Oni izgledaju i zvuče besmisleno u poređenju sa junacima klasičnih opera.</s><s>Biringer zaključuje da gledajući ove predstave dobijamo utisak kao da fotografišemo društvo osuđeno da potiskuje svoje katastrofične zelje u stalnoj maskaradi optimizma i neprekidne zabave.</s><s>On opisuje da je početkom osamdesetih godina američka publika negativno reagovala na nasilje prikazano u predstavi Pine Baus ''Na planini se čuo krik'', i pita se zašto su reakcije bile takve.</s><s>Zašto publika nije reagovala na usredsređen proces koji vodi od patosa samoapsorbovane seksualne opsesije do većih modela koji razotkrivaju činjenicu da društvo stalno tezi da porekne posledice svoje stalne agresivnosti.</s><s>Nemački plesni teatar i američki postmoderni ples imaju zajedničke korene, ali su se razvijali u različitim pravcima.</s><s>Johanes Biringer ističe snažan uticaj Mersa Kaningama (Merce Cunningham) u Sjedinjenim Američkim Državama, bez kojeg se danasnji američki postmoderni ples ne može razumeti.</s><s>Kaningam je programski odbacio stil modernog plesa Marte Gream (Martha Graham).</s><s>Odbacio je njegovo naglašavanje emocija, teatralnih kostima, karaktera, dramskog fraziranja i naracije.</s><s>Biringer objašnjava razliku između američkog postmodernog plesa i nemačkog plesnog teatra.</s><s>Američki postmoderni ples je formalan i usredsređuje se na pokret.</s><s>Nemački plesni teatar bavi se konkretnim emocionalnim i društvenim kontekstom.</s><s>Ovi različiti kulturološki konteksti ukazuju na različito shvatanje odnosa forme i sadržaja.</s><s>Uobičajeni rečnik koji podrazumeva značenja reči kao što su ''pokret'', ''naracija'', itd, u različitim kulturološkim kontekstima ne podrazumeva isto značenje.</s><s>Reči se ponovo moraju definisati s obzirom na specifične estetske, ali i političke dimenzije konteksta unutar kojeg se upotrebljava.</s><s>Na primeru plesova američke postmoderne plesačice Lore Din (Laura Dean), Biringer ukazuje na lepotu kvaliteta pokreta ili ritmičkih formi, značajnih za američki ples.</s><s>Nasuprot tome, nemački koreografi ispituju uslove samih društvenih performansa.</s><s>Oni ispituju uloge koje se identifikuju zahvaljujući rodu i ponašanju koji određuju naše međusobne odnose prema našoj kulturi u najširem smislu.</s><s>Društvene uloge i ponašanja nisu uvek lepi.</s><s>Zato nemački koreografi dramatizuju različite slike prostitucije, samougnjetavanja, teskobe i samo ponižavanja.</s><s>One se realistički postavljaju nasuprot popularnim mitovima o lepoti, sreći i uspehu.</s><s>Realnost fantazija, predstavljena je svakodnevnom rutinom i uvek ponavljanim naporima da se impresioniraju drugi.</s><s>Ta realnost je pokazana kao konstruktivna mreža internalizovanih društvenih konvencija.</s><s>U jednoj sceni, plesači paradiraju ispred velikih ogledala, a pre toga, ogledala su vezana za njihova leđa.</s><s>Vidimo ih kako nose teret sopstvenih slika.</s><s>Biringer ističe da se repetitivni mazohistički rituali Pine Baus i borba za ljubav i priznanje koje njeni plesači izvode jedni u odnosu na druge sa agresivnim pretvaranjem, mogu razumeti kao implicitna kritika društva.</s><s>S druge strane, piše on, da bismo ovu umetnost shvatili kao oblik kulturološke intervencije, moramo se setiti specifične nemačke teatarske, operske i baletske tradicije čiji su klasici uvek dominirali repertoarom od države finansiranih pozorišta.</s><s>Protiv tog repertoara i njegovih društvenih i političkih implikacija pobunile su se žene - koreografi, istinske naslednice Brehtovog epskog teatra.</s><s>One su to učinile sa žarom, budući da su bile svedoci uspešne rekonstrukcije starog patrijarhalnog poretka, ubrzo nakon što su se stišale strahote fašizma proizašle iz zapadne civilizacije.</s><s>Nasuprot tome, emancipacija ''čistog plesa'' u Sjedinjenim Američkim Državama postignuta je kada je Kaningamova generacija sebe oslobodila ne od prisila struktura finansiranih od države, već od emocionalne drame karakteristične za koreografije prethodnih koreografa.</s><s>S druge strane, u američkoj kulturi bodi-bildinga i aerobika slike patnje i straha remete uspostavljeni pejzaž, remete retoriku lepog, moći i brzine u tehnološkom Diznilendu.</s><s>Biringer zaključuje da su slike nasilja prihvatljve u filmovima i na MTV-u, gde se mogu izvesti tako da izgledaju lepe.</s><s>Ali u plesu niko ne bi želeo da vidi nakazna tela žrtava koja čak i ne plešu sve vreme.</s><s>SLAVENKO GRGUREVIĆ</s><s>Predsednik Lige za zaštitu privatne svojine i ljudskih prava</s><s>Razgovarali: Slavko Živanov i Milorad Đurić</s><s>Liga je formirana 1995.godine od brojnih organizacija i udruženja građana nastalih u periodu 1991.- 1994..</s><s>Članovi Lige su mali i srednji preduzetnici, zemljoposednici, naslednici nekadašnjih preduzetnika i vlasnika oduzete imovine od strane komunističkog režima bivše i sadašnje Jugoslavije, opljačkanih stediša, penzionera, brojnih uglednih ličnosti iz javnog i naučnog života Srbije i Crne Gore.</s><s>Osnovni cilj Lige je - kreiranje podrške i konkretno učešće u ravnoju procesa privatizacije, demokratskih institucija, pravnog ambijenta neophodnog za sprovođenje temeljnih društvenih i ekonomskih reformi u Srbiji i Crnoj Gori.</s><s>Liga neposredno sarađuje na najvišem nivou sa vodećim poslovnim krugovima u svetu, finansijskim institucijama (MMF, Svetska banka) i drugim organizacijama (UN, UNICEF, Helsinški komitet, CIVICUS).</s><s>Liga je inicirala i organizovala Savet za saradnju nevladinih organizacija u koji se uključilo preko sedamdeset nevladinih organizacija različitog profila: profesionalna udružena, nezavisni sindikati, udruženja građana za zaštitu ljudskih prava i dr..</s><s>KOŠAVA: U jednom od ranijih tekstova govorite o Privredniku - Srpskom privrednom društvu, osnovanom u Zagrebu krajem XIX veka, kao dobrom primeru građanskog samoorganizovanja.</s><s>Kakva je bila sudbina građanskih udruženja na našem prostoru u proteklih sto godina?.</s><s>GRGUREVIĆ: Ideja civilnog društva nije novost na ovim prostorima.</s><s>Hteo bih, pre svega, da vas podsetim da je još u Kraljevini Jugoslaviji - ali i ranije, u Srbiji i drugim južnoslovenskim zemljama gde su živeli brojni narodi, postojao i razvijao se duh građanstva.</s><s>To se najpre odnosi na velike porodice koje su ostavile dubok trag u našoj istoriji.</s><s>U Novom Sadu, Petrovgradu (Velikom Bečkereku), Somboru, Vršcu, Beogradu, Nišu, Kragujevcu, Kraljevu i drugde, postojao je i razvijao se duh evropejstva, tolerancije i nacionalnog dostojanstva.</s><s>Duh građanstva se razvijao u brojnim udruženjima koja su osnivana još pre prvog svetskog rata.</s><s>To nije bio samo Privrednik koji je okupljao više desetina hiljada zanatlija i trgovaca - koji su pak i sami osnivali druga građanska udruženja, na primer za školovanje dece iz siromašnih zanatlijskih i seoskih porodica.</s><s>Između dva svetska rata su formirana brojna humanitarna društva, društva za vaspitavanje dece i omladine, razne vrlo uticajne organizacije: sokolska udruženja, ženska društva, sportska i prosvetna udruženja, itd.</s><s>Štedljivost, marljivost, patriotizam i poštovanje tuđih merila i vrednosti bili su osnovne odlike domaćeg vaspitanja u našim porodicama i to ne samo u gradskim sredinama.</s><s>Sazrevanje građanstva išlo je naporedo sa postupnim i mukotrpnim stvaranjem srednje klase u Kraljevini Jugoslaviji, što je nasilno prekinuto stradanjima u Drugom svetskom ratu i odmah po njegovom završetku - kada su predstavnici građanske klase fizički maltretirani, ubijani i proganjani od strane komunističkog režima.</s><s>Zato je ideja civilnog društva u komunističkoj Jugoslaviji proskribovana kao buržoaska.</s><s>Razlog je jednostavan: građansko društvo (građanin - na francuskom burzoa - bourgeois) je smatrano najvećim neprijateljem komunizma.</s><s>Sredinom osamdesetih godina ponovo dolazi do razvoja srednje klase u Jugoslaviji, koja je potom surovo uništena u ratnim razaranjima, totalnoj destrukciji i opštoj kriminalizaciji na području Srbije i Jugoslavije.</s><s>Mi smo sada ponovo na početku, a sama ta činjenica kazuje da bez srednje klase nema očekivanih društvenih promena.</s><s>Ako ista može spasiti Srbiju, to je uzdizanje srednje klase i razvoj civilnog društva.</s><s>KOŠAVA: Širom sveta civilna udruženja igraju kljucnu ulogu u razvoju demokratije.</s><s>Početkom devedesetih, nevladin sektor oživljava i u Srbiji.</s><s>U kojoj meri su naše nevladine organizacije nosioci društvenih promena?</s><s>GRGUREVIĆ: Jedan od glavnih nosilaca civilnog društva su nevladine organizacije.</s><s>Tu spadaju razna društva i udruženja, forumi, fondovi, klubovi i pokreti.</s><s>Njihove bitne karakteristike su: da ih nije stvorila vlast (iako vlast može sarađivati sa njima); da su neprofitne, odnosno da svoje prihode ne koriste nizasta drugo osim za sopstveno funkcionisanje; da je učešće u njima uvek dobrovoljno; da imaju elementarnu infrastrukturu (članove, izborne organe, statut i sl.</s><s>); i da su autonomne.</s><s>Vladavina prava je temeljno načelo u funkcionisanju ovih organizacija koje isključuje voluntarizam lične vlasti, piramidalnu strukturu, princip jednoobraznosti i vladavinu većine nad manjinom.</s><s>Širom sveta ove organizacije igraju klučnu ulogu u razvoju demokratije, promociji pluralizma, jačanju uloge pravne države, borbi protiv siromaštva, i sl..</s><s>Sektor nevladinih organizacija je postao osnovna ekonomska snaga nacija širom sveta, u njemu je angaxovano na desetine miliona ljudi koji sve više pomažu oblikovanje nacionalne strategije i politike.</s><s>KOŠAVA: Jesu li nevladine organizacije partneri ili suparnici političkim strankama?</s><s>Ili se radi o paralelnim procesima?</s><s>GRGUREVIĆ: Zadatak političkih organizacija je da artikulišu i sprovode zahteve nevladinih organizacija.</s><s>Otuda nevladin sektor koji okuplja interesne neprofitne i lobističke organizacije ne funkcioniše kao politička organizacija, ali utiče na formiranje političkog mišljenja.</s><s>Zato su političke organizacije i nevladina građanska udruženja saradnici u procesu demokratizacije i stvaranju građanske atmosfere u svim zemljama sveta.</s><s>U SR Jugoslaviji je razvoj ovog sektora na početku: procenjuje se da na području Srbije i Crne gore funkcioniše oko pet hiljada ovakvih udruženja (u Hrvatskoj 12.000, u Mađarskoj 17.000, u Nemačkoj 820.000, u Francuskoj 600.000, a u SAD 1,200.000).</s><s>KOŠAVA: Nalazite se na čelu Lige za zaštitu privatne svojine i ljudskih prava, jedinstvene organizacije na području Istočne Evrope.</s><s>Privatna svojina je temeljno načelo na kojem počivaju moderna društva.</s><s>Možemo li kroz kategoriju privatne svojine razmišljati o razrešenju nekih aktuelnih problema - Kosova, na primer?</s><s>GRGUREVIĆ: Početkom devedesetih godina među malobrojnim nevladinim organizacijama bila su i udruženja građana za zaštitu privatne svojine i ljudskih prava u Čačku, Nišu, Užicu, Beogradu, Novom Sadu; ta udruženja su 1995. godine formirala Ligu za zaštitu privatne svojine i ljudskih prava, kao prvu mrežu nevladinih organizacija na području Srbije i Crne Gore.</s><s>Naše celokupno dosadašnje angažovanje je bilo u ključnom segmentu tranzicije u Srbiji i Crnoj Gori - u stvaranju atmosfere i uslova za sprovođenje pravne regulative u oblasti zaštite i unapređenja privatne svojine.</s><s>Naša velika preokupacija jesu restitucija i razvoj malog i srednjeg privatnog preduzetništva, jer smo uvereni da to predstavlja jedinstven put za razvoj preduzetničke energije i stvaranje podsticajnog poslovnog ambijenta - za slobodnu cirkulaciju kapitala, demokratsku atmosferu i duh građanstva - koga nema u zatvorenim i socijalno nestabilnim sredinama.</s><s>To je razlog što je faktor socijalne kohezije od presudne važnosti za motivisanost transnacionalnog kapitala na lokalnom i regionalnom nivou - gde je upravo razvoj malog i srednjeg privatnog preduzetništva glavni faktor socijalne stabilnosti i ekonomske efikasnosti.</s><s>Ovaj razvoj malog i srednjeg preduzetništva imao je veliki uticaj na stvaranje uspešnog paralelnog socijalnog i ekonomskog sistema Albanaca na Kosmetu.</s><s>Mi smatramo da je to bio iznuđeni proces koji se odvijao u okolnostima potpunog odsustva demokratske atmosfere, podsticajnog privrednog sistema a pod stalnim pritiskom totalitarnog režima iz Beograda.</s><s>Prava je šteta što se ti procesi nisu odvijali u normalnoj atmosferi koja bi omogućila stvaranje podsticajnih uslova za razvoj malog biznisa u trgovini, servisima i porodičnim proizvodnim pogonima.</s><s>Da je postojala takva poslovna atmosfera uspešno bi se razvijali i poslovni odnosi između Srba i Albanaca, a ne samo unutar njihovih getoiziranih populacija.</s><s>Ne smemo zaboraviti opšte priznato istorijsko iskustvo da ništa tako ne zblixzava ljude kao trgovina i poslovi.</s><s>Iz ovih odnosa se razvijaju partnerstvo, prijateljstvo a često i rodbinske veze.</s><s>Rešavanjem svojinskih pitanja na Kosmetu i u Srbiji oslobodila bi se ogromna preduzetnička energija za kreativne ciljeve, za povratak poverenja i prijateljstva između Srba i Albanaca koji vekovima žive zajedno na ovim prostorima.</s><s>Liga za zaštitu privatne svojine i ljudskih prava to oseća kao svoj strateški građanski i patriotski zadatak.</s><s>KOŠAVA: Možete li nam nešto više reći o tranziciji, odnosno, možete li nam dati izveštaj o stanju u postkomunističkim zemljama?</s><s>GRGUREVIĆ: Kada bi se jednom pojednostavljenom konstatacijom htelo da definiše stanje tranzicije, možda bi to bilo moguće tumačenjem da tranzicija znači put do kolektivnog ka individualnom poimanju sveta.</s><s>To je razlog što je u svim bivšim komunističkim zemljama prva mera bila restitucija svojinskih odnosa - reprivatizacija.</s><s>Pravni poredak je ustrojen na temeljima zaštite privatnog vlasništva koje predstavlja skup prava koje društvo, kroz različite zakonske sankcije, naslovljava na pojedinca.</s><s>To podrazumeva da sopstvenik poseduje pravo da koristi dobra, da isključi druge iz njihove upotrebe, da ubire koristi iz njih, da im menja oblik i sadržaj i da ih prenese drugima.</s><s>U takvim okolnostima motivacija je jasna: uvećanje dobiti, iz čega sledi slobodno preduzetništvo - odnosno pravo pojedinca da odabere ekonomsku aktivnost koju želi, a pod uslovima koje slobodno ugovara i dogovara sa svojim partnerima ili ostalim ekonomskim akterima.</s><s>Osnovni uslov za takav poslovni odnos je institucija ugovora, čiju zaštitu preuzima država.</s><s>Zaštićeni prodavci i kupci ulaze u razne poslovne odnose na tržištu, gde se realizuje njihovo međusobno rivalstvo - konkurencija.</s><s>Svaki privatni akter se trudi da u datim okolnostima na tržištu (cene) maksimizira profit, što ga tera da se racionalno i pravedno ponaša: svako prisvaja samo onoliko koliko su drugi ljudi spremni da mu plate.</s><s>Međutim, stvaranje efikasne tržišne ekonomije u bivšim komunističkim državama je bio znatno veći poduhvat od same (re)privatizacije.</s><s>Privatizacija je jezgro tranzicije i njegov najsloženiji deo, ali reforma podrazumeva akciju u gotovo svim drugim oblastima ekonomskog života.</s><s>Zadatak je epohalan.</s><s>I mada su mnogi elementi takve ekonomske reforme poznati i već viđeni u drugim zemljama, složenost problema i neminovnost sveobuhvatne reforme čini put kojim se mora proći umnogome neispitanim.</s><s>Posebne teškoce donosi poprilična politička nestabilnost u mnogim zemljama gde se mlade demokratije i dosta nestabilne vlade suočavaju ne samo sa ekonomskim problemima, već i sa izraženim nacionalnim i drugim političkim tenzijama.</s><s>Najveći broj zemalja koje su donedavno imale socijalističke (komunističke) privrede zasnovane na kolektivnoj svojini, centralno-planskoj privredi i suspenziji tržišnog mehanizma - doživele su civilizacijski neuspeh i nalaze se na putu tranzicije u tržišnu privredu (izuzev Srbije, gde vladaju retrogradni procesi).</s><s>Tranzicioni procesi koji su započeti krajem osamdesetih godina obuhvatili su ekonomsku i političku rekonstrukciju bivših komunističkih režima.</s><s>Ekonomska reforma se sastojala iz četiri faze: makroekonomska stabilizacija, cenovna i spoljnotrgovinska liberalizacija, privatizacija, rekonstruiranje preduzeća i finansijskih institucija.</s><s>Započet sa velikim entuzijazmom, ovaj proces je ubrzo kod jednog broja zemalja (Rumunija i Bugarska) naišao na neočekivano visoke cene tranzicije.</s><s>U prvoj fazi nisu ostvareni svi ciljevi makroekonomske stabilizacije, a započeti procesi privatizacije praćeni su brojnim problemima, zloupotrebama i neefikasnošću.</s><s>Nejednaka startna pozicija, ritam i sadržina tranzicionih procesa u pojedinim zemljama stvorili su prepoznatljive tranzicione razlike.</s><s>Međutim, pravac promena u svim ovim zemljama je isti, a rešenost sa kojom se ove promene sprovode u 1997.i prvoj polovini 1998.godine npr.u Bugarskoj, gde je cena tranzicije bila najviša, ukazuje na stabilnost kursa usklađivanja institucionalnih uslova u zemljama u tranziciji Centralne i Istočne Evrope.</s><s>Ovo je posebno važno, jer iskustva razvijenih evropskih inicijativa ukazuju da zemlje sa različitom ekonomskom snagom, različitim međunarodnim položajem i čak nekompatibilnim privrednim sistemima - mogu biti kreatori uspešnog regionalnog okupljanja.</s><s>Zemlje u tranziciji sa podrućja Centralne i Istočne Evrope predstavljaju vrlo važan i podsticajni faktor globalne evropske integracije.</s><s>Istorijska usmerenost, geografska bliskost, značajni privredni i prirodni potencijali, pokrenuti i odmakli reformski procesi i strukturna prilagođavanja ukazuju na to da su zemlje Centralne i Istočne Evrope na putu da dostignu potreban nivo homogenizacije kao uslov za uspešno uključivanje u evropske integracione procese.</s><s>Naime, slobodna cirkulacija kapitala i radne snage podrazumeva stvaranje uslova za neutralisanje prekograničnih barijera - ali to nije jedini, iako jeste važan uslov za harmonizaciju privredno-sistemskih pretpostavki i regionalnu integraciju.</s><s>Zemlje Istočne i Centralne Evrope su u prilici da, kao promoteri novog regionalizma koji se zasniva na višim oblicima regionalne integracije (tzv.dubinske integracije) - svoju poslovnu sredinu u potpunosti prilagode institucijama i odnosima koji vladaju na razvijenom tržištu.</s><s>To će doprineti da se strani investitori na ovim novim tržištima osećaju kao u svom poslovnom ambijentu (u Zapadnoj Evropi), što ce biti podsticaj direktnijim stranim investicijama.</s><s>Zato reforme ekonomske politike u ovim zemljama imaju sofisticirane zadatke koji se sastoje u prilagođavanju zahtevima razvijenih tržišta (usklađivanje ekonomskog i političkog sistema, sinhronizacija ekonomskih prilika i dr.</s><s>), ali i forsiranju sopstvenih prirodnih i drugih pogodnosti.</s><s>To je osnovni smisao i bit tranzicionih procesa u ovim zemljama.</s><s>Stara biblijska legenda o sedam mršavih krava je simbolično poredenje sa sedam nesrećnih godina propadanja Srbije i Jugoslavije (1991.-1998.).</s><s>Poznavaocima ove legende je prepoznatljiva njena simbolika, ali tragičnost naše zbilje je u odsustvu vizije, kreativne energije i elementarne odgovornosti aktera jugoslovenske drame.</s><s>Tokom perioda 1991-1998.u Srbiji su ispoljene izrazito negativne tendencije i ograničenja u pogledu uslova i mogućnosti sveobuhvatnih strukturnih promena i prilagođavanja medjunarodnom okruženju.</s><s>Razmere destrukcije su sveobuhvatne: institucionalne, tehnološke, socijalne i ekonomske.</s><s>Najteža su socijalna i psihološka razaranja koja su dovela do strmoglave duhovne i moralne saturacije.</s><s>Povratak Srbije i Jugoslavije u svet zahteva temeljnu rekonceptualizaciju i dubinsku promenu strukture, povratak osnovnim civilizacijskim vrednostima - individualnoj odgovornosti, kreaciji i toleranciji.</s><s>Takav poduhvat pre svega podrazumeva znanje, neophodnu preduzetničku energiju i politićku volju.</s><s>KOŠAVA: Koji metod privatizacije, s obzirom na naše uslove, treba primeniti?</s><s>Ima li u tom metodu mesta za holding-kompanije, kao spone između državnog i privatnog kapitala?</s><s>GRGUREVIĆ: Pri izboru najboljeg metoda privatizacije treba imati u vidu tri ključna kriterijuma: doprinos dobrom upravljanju, brzinu i pravednost.</s><s>Treba znati da je restitucija bila prva faza privatizacije u svim zemljama oslobođenim od komunističkog režima.</s><s>Druga značajna činjenica je da je privatizacija sprovedena zarad stvaranja modernog i efikasnog društva gde je doprinos valjanom upravljanju preduzećima od presudne važnosti.</s><s>Osim toga, svaki dan odugovlačenja sa privatizacijom nanosi veliku materijalnu štetu pa je potrebno da se to obavi što je moguće brže.</s><s>Sigurno je da privatizacija kroz prodaju obezbeđuje dobro upravljanje preduzećem, pošto će onaj ko ulozi sopstveni novac učiniti sve da ono posluje što bole.</s><s>Dosadašnja iskustva su pokazala da postoje razna ograničenja privatizacije kroz prodaju društvene i državne imovine (nedovoljna kupovna snaga, problem procene vrednosti predužeća, nejednakost građana - nepravednost i sporost) što podstiče traganje za alternativnim rešenjima.</s><s>Jedan takav koncept je besplatna podela vlasništva svim građanima jedne države.</s><s>Jedan vid besplatne privatizacije - pomoću holding kompanija daje krupne vlasnike što je pretpostavka dobrog upravljanja.</s><s>No, nije sasvim jasno ko će upravljati samim kompanijama jer će vlasništvo nad njima biti jako disperzivno - biće na milione vlasnika.</s><s>Samim tim javlja se realna opasnost da ili uprava holding kompanija bude potpuno samostalna i nenadzirana (što bi se neminovno negativno odrazilo na efikasnost i kompanije i preduzeća u njihovom vlasništvu) ili da se država umeša i radi zaštite nacionalnih interesa preuzme (formalno ili neformalno) kontrolu nad tim kompanijama, sa lošim posledicama.</s><s>Drugi vid besplatne podele je vaucerska privatizacija.</s><s>U Istoćnoj Evropi poslednjih godina je primetna prevaga koncepta besplatne privatizacije, i to prvenstveno vaucerima.</s><s>Brojne bivše komunističke zemlje sprovode ili pripremaju takvu privatizaciju: Ceška, Slovačka, Rusija, Ukrajina, Estonija, Litvanija, Mongolija - i Crna Gora predviđa u svom postojećem zakonu o transformaciji mogućnosti izdavanja vaucera.</s><s>U Srbiji je odobrena prodaja preduzeća - a ne besplatna podela; dominacija akcionarstva zaposlenih - a ne spoljnih vlasnika; relativno brzo stvaranje nekompletne svojinske strukture a zatim njena dekapitalizacija.</s><s>Takav koncept ima određene prednosti (ubiranje prihoda od strane države, relativno široka disperzija vlasništva, mogućnost dosta brzog stvaranja upravljačke strukture u nekim preduzećima, zasnovane na (nekompletnom) privatnom vlasništvu - ali su zato nedostaci preovlađujući.</s><s>Da pomenem neke: nedovoljan obim domaćeg kapitala, sporost privatizacije, iscrpljivanje privatne štednje, teškoće sa ocenom vrednosti preduzeća; dominacija unutrašnjih investitora - zaposlenih; sporo stvaranje trzišta kapitala usled dominacije internih, neotplaćenih akcija; podržavljenje značajnog dela privrede, itd..</s><s>Važan problem je činjenica da je velika većina transformacija izvedena stvaranjem mešovitih društava u kojima dominira društveni kapital, dok je privatni od marginalnog značaja.</s><s>Takva konstelacija stvara mogućnost za razne spekulacije onih koji upravljaju preduzećem (prelivanje prinosa društvenog kapitala kroz zarade).</s><s>Zanimljivo je da je u Srbiji oko jedne trećine preduzeća transformisano u akcionarska društva ali je ucešće privatnog kapitala vrlo malo - verovatno manje od 5%.</s><s>To je još jedan razlog koji ide u prilog vaucerskoj privatizaciji u Srbiji.</s><s>Međutim, sva prethodna razmatranja o metodama privatizacije kao neophodnu prethodnu fazu podrazumevaju restituciju.</s><s>Budući da smo ovde govorili o privatizaciji preduzeća, valja reći da postoje transparentna i efikasna iskustva za neophodnu restituciju u procesu njihove privatizacije.</s><s>Postoje dva načina fizičkog povraćaja - uz nadoknadu vrednosti ulaganja koja su usledila posle nacionalizacije, i uz pomoć denacionalizacionih vaucera koji omogućuju učešće u upravxanju preduzećima.</s><s>Nikad se ne sme zaboraviti činjenica da je restitucija bila model privatizacije u svim zemljama oslobođenim od komunističkog režima.</s><s>U svim ovim zemljama ona je bila dokaz da su njihove vlade iskreno opredelene za privatizaciju, a to je bio i najbolji podsticaj stranim investitorima.</s><s>Osim toga, restitucija je poslužila kao snažan motivacioni faktor u revitalizaciji srednje klase koja se pokazala efikasnom u sprovođenju reformskih procesa.</s><s>KOŠAVA: Ipak, glavni konkurent privatnoj svojini kod nas i dalje ostaje - društvena svojina...</s><s>GRGUREVIĆ: Vaše pitanje me je podsetilo na jedan istinit događaj koji se zbio u Americi 1962.godine.</s><s>Tadašnji predsednik SAD, Džon Kenedi vraćao se sa svojim saradnicima iz vojne baze u Kejp Kanaveralu.</s><s>U predsedničkom helikopteru se desio kvar i Kenedi je, na nagovor svojih saradnika, naredio sletanje.</s><s>Nisu bili takoreći ni par minuta na zemlji kada je iz jednog sumarka istrčao nepoznat čovek sa uperenom puškom, vičući kako će ih sve pobiti ukoliko odmah ne napuste njegovo imanje.</s><s>Kenedi je momentalno naredio poletanje njegovog i pet vojnih helikoptera koji su bili u pratnji, jer je znao da bi svaki dalji ostanak u ovoj situaciji doveo do incidenta.</s><s>Ovaj događaj pokazuje svu paradoksalnost naše situacije u pogledu statusa privatne svojine koja je od legalnih vlasnika oduzeta posle Drugog svetskog rata - od kojih su mnogi poubijani, proveli godine u zatvorima a porodice im bile maltretirane.</s><s>Autoritarna vlast je tako poništila srednju klasu, ukinula privatnu svojinu i srušila demokratiju.</s><s>Društvena svojina je postala vladajući oblik svojine - ona je bila ničija i svačija - i sve dotle dok je bivša Jugoslavija bila korisnik inostrane pomoći (od pedesetih do polovine osamdesetih) privreda, državne i socijalne ustanove su mogle da funkcionišu na ovakvom obliku vlasništva.</s><s>Onog trenutka kada je ta pomoć presahla, jugoslovenska privreda i društveni sistem su propali.</s><s>Dakle - ne postoje prednosti, vec samo nedostaci društvene svojine u odnosu na jedine oblike svojine: državnu i privatnu.</s><s>Ustvari, društvena svojina je partijska svojina komunosocijalističke oligarhije i njen osnovni nedostatak je u sferi motivacije - njeni ciljevi nisu dobit i uvećanje imovine već raspodela (zaposlenost, poreski prihodi i politička popularnost).</s><s>Jedini priznati stvaralački akter je rad a ne kapital, što osnovni ekonomski cilj - EFIKASNOST čini nedostižnim.</s><s>Osim toga, radnici - samoupravljači u društvenom preduzeću nisu u principu motivisani da štede i na taj način uvećavaju imovinu preduzeća; oni dobro znaju da društvena imovina nikada neće biti njihova (privatna), tako da je štednja na nivou preduzeća destimulisana u poređenju sa štednjom kapitalističkog preduzeća i privatnom štednjom.</s><s>Prosto rečeno: samoupravljači u društvenim firmama jedino su zainteresovani za što je moguće veće lične dohotke, jer jedino na taj način mogu povećati svoju imovinu.</s><s>Da bi se onemogućilo prelivanje društvene imovine u lične dohotke, kao vršilac kontrolne funkcije koja je u stvari vlasnička - javlja se država odnosno državno-partijski aparat.</s><s>Preuzimanjem mnogih vlasničkih kompetencija posao državno-partijskih organa postaje neefikasan, jer njegovi predstavnici donose odluke ne snoseći nikakav - ni finansijski ni vlasnički rizik, a pored toga po pravilu nisu ni stručni za taj posao.</s><s>To je razlog za razne promašene investicije i održavanje temelj privrede i društva a profit ciljna funkcija, individualna odluka vezuje rizik i ličnu odgovornost - zbog čega se favorizuje znanje, a nepresušna preduzetnička energija u slobodnom nadmetanju na tržištu stiže do cilja: uvećanje imovine i bolji kvalitet života.</s><s>Osnovnu funkciju države u takvim sistemima formira biračko telo: milioni malih i srednjih vlasnika čiji je osnovni cilj- zaštita sopstvene imovine kao i kulturnih i socijalnih institucija društva kojima pripadaju.</s><s>Zato se u tim zemljama može često čuti sledeće tumačenje (kad je privatna svojina u pitanju): kad je čovek svoj na svome onda je on ekonomski nezavisan - slobodna ličnost koja bira vlast upravo onakvu kakvu želi; ako ona ne ispunjava njegove zahteve, on je menja.</s><s>Dakle, u društvima gde vlada privatna svojina moć nije u državnoj administraciji, već kod onih koji vlast biraju.</s><s>KOŠAVA: Društvena moć je decentralizovana...</s><s>GRGUREVIĆ: U takvim državama model organizacije društva je decentralizacija, jer se izuzetna važnost pridaje lokalnoj samoupravi odnosno mestu gde ljudi žive i rade.</s><s>U malim decentralizovanim zajednicama je život kvalitetniji, zavidna je socijalna kohezija: niski troškovi života, podsticajni socijalni uslovi, brojne mogućnosti za razvoj i održanje malog porodičnog biznisa (niska poreska izdvajanja).</s><s>To je razlog što se posebna pažnja poklanja prevashodno razvoju malih i srednjih preduzeća a ne velikim, centralno ustrojenim firmama koje su spore i nefleksibilne.</s><s>Decentralizacija i minizacija nisu samo model organizacije preduzeća već su i model državnog uređenja.</s><s>Današnje moderne države su u stvari mreže malih decentralizovanih zajednica.</s><s>U sličnim okolnostima, kada se na lokalnom nivou postiže neophodni nivo ekonomske efikasnosti i socijalne koherencije i odnos građana prema klasičnim institucijama države se menja - države bivaju sve manje značajne.</s><s>U okolnostima dostignute socijalne kohezije, klasične forme države u razvijenim zemljama sve više dobijaju karakter regionalnih i subregionalnih integracija koje oslobađaju prostor za slobodnu cirkulaciju ljudi, znanja i ideja.</s><s>U našim uslovima na sceni su sasvim suprotni trendovi: maksimilizacija umesto minimalizacije, centralizacija umesto decentralizacije, autoritarna vlast umesto demokratskih institucija, jednoobraznost umesto raznovrsnosti - i sve to u okolnostima odsustva realnih svojinskih odnosa i institucija privatnog vlasništva.</s><s>Cena za takav anticivilizacijski trend je surova: Srbija je izbačena iz civilizovanog sveta - usamljena u svojoj propasti.</s><s>OBJAVA BROJA 46 486 800 ILI STILSKE VEŽBE</s><s>Razgovarao: Milorad Đurić</s><s>foto: Saša Gajin</s><s>Intervju sa Lidijom Merenik, umetničkim direktorom III Jugoslovenskog likovnog bijenala mladih u Vršcu</s><s>KOŠAVA: Imenovani ste za umetničkog direktora 3.Jugoslovenskog likovnog bijenala mladih.</s><s>Šta za Vas predstavljx Bijenale?</s><s>Sa kojim pretenzijama ulazite u ovaj projekat?</s><s>MERENIK: Bijenale je za mene fantastičan izazov.</s><s>Da bi se ovakva izložba uspešno zaokružxila, potrebno je i dosta iskustva, i dosta hrabrosti, a najviše ljubavi.</s><s>Već sam radila na organizaciji velikih izložbi, prva dva Bijenala na Cetinju, recimo, tako da znam šta me čeka.</s><s>Ali, s druge strane, ja zaista obožavam da radim izložbe.</s><s>U rad na izložbi smo svih petoro (Jelena Vesić, Nenad Radić, Dragan Jelenković, Ivan Jović i ja), ušli, pre svega, sa velikom radoznalošću i \"borbenim\" duhom.</s><s>Naša najveća pretenzija je da budemo kreativni i pozitivni, i da, nakon obavljenog posla, izložbu poklonimo vama i umetnicima.</s><s>Ovi mladi umetnici takođe mnogo očekuju od izložbe i vidim da joj se zaista raduju i da se ozbiljno pripremaju.</s><s>Mojim mlađim kolegama, Jeleni, Nenadu i Ivanu, rad na izložbi će takođe značiti jedno dragoceno iskustvo istoričarsko umetničke prakse.</s><s>KOŠAVA: Na koji način je izvršena selekcija umetnika?</s><s>MERENIK: Bijenale kao da je prethodne četiri godine patilo od neodlučnosti: da li izložbu raditi po uzoru na predratno Bijenale na Rijeci, Oktobarski salon i sl, ili usvojiti drugačiji organizacioni model.</s><s>Prethodnih godina selektori su kombinovali otvoreni konkurs sa \"pozivom\".</s><s>Time je, nehotice, napravljena kastinska podela izlagača: onih koji čekaju pred šalterom \"komisije\" i onih \"koji se podrazumevaju\".</s><s>S druge strane, ispostavilo se da većina umetnika svoj rad nekako \"podrazumeva\" i da ne želi da odgovori na otvoreni oglas-konkurs.</s><s>Ja nisam želela socrealistički princip uranilovke niti takve, demagoske jednakosti za jedne i privilegovanosti za druge.</s><s>Nije umetnost za oglas, ni na oglas.</s><s>Iako vas, priznajem, \"oglas\" često lišava istinske, autorske, lične, odgovornosti.</s><s>Uvek možete da kažete: Pa, eto, ovi su se javili, to vam je to, ja nisam odavde.</s><s>E, upravo da se tako šta ne bi desilo, ja sam uvek spremna da podelim dobro i zlo sa izložbom koju radim, zato što uvek, potpuno, stojim iza svog izbora i ne svaljujem krivicu na \"oglas\", metaforicki rečeno.</s><s>Duboko verujem u autorski pristup, u snagu individualnog.</s><s>U umetnosti i kulturi ovakav je pristup neophodan, jer nas samo on odvaja od totalitarnih, dogmatskih, u populizmu i kolektivizmu usančenih parakulturnih modela.</s><s>Potrudili smo se da pogledamo radove ili dokumentacije oko 70 mladih umetnika.</s><s>Pozvali smo ih zatim sve na tzv.</s><s>pozivni konkurs i molili ih da predlože novi rad, projekat ili već postojeći rad.</s><s>Nismo im ništa uslovljavali, znajući da rade u finansijski mizernim okolnostima, i da je i samo Bijenale finansijski iznureno do mere da ne može da finansira izradu umetničkih radova.</s><s>Na ovaj poziv odgovorilo je 95% umetnika.</s><s>Zatim smo ponovo gledali njihove radove i projekte, razgovarali sa njima i sl..</s><s>Onda smo odabrali 45 umetnika, iza kojih sada stojimo, i za koje odgovaramo.</s><s>\"Jedini\" kriterijum je bio dobar, zanimljiv, kvalitetan, simpatičan, duhovit, maštovit predlog.</s><s>To su ljudi koji misle izvan šablona, ljudi koji znaju da srce nije srcastog oblika, ili barem u to često sumnjaju.</s><s>KOŠAVA: Slaz ete li se sa stavom da su se uloge kritičara i umetnika približile?</s><s>Nameravate li da samo registrujete stanje ili da kreirate (svoju) sliku umetničke scene?</s><s>MERENIK: Ne znam koliko su se, kako Vi kazete, \"uloge\" umetnika i kritičara približile.</s><s>Uistinu ne znam šta to znači, niti sam o sebi ikada mislila kao o \"kritičaru\" koji \"kreira\" bilo šta, osim, možda, sopstveni tekst o umetnosti.</s><s>Uvek je bilo umetnika koji su umeli da sopstveni rad protumače bolje od istoričara umetnosti, ili su, nezadovoljni, mislili da to umeju, uvek je bilo kritičara koji su nekada opravdano, nekada neopravdano, stvarali trendove ili ih promovisali.</s><s>Sve su to, zapravo, legitimne pojave umetničkog života; vreme je da se na njih naviknemo.</s><s>Ali, ovde nije o tome reč.</s><s>Ta vrsta liderstva (ili, u krajnjoj konsekvenci, autoritarizma) me nije nikada zanimala.</s><s>Pogotovo me ne zanima sada, kada treba predstaviti najmlađu umetničku scenu.</s><s>Bilo bi nepravedno i nemoralno praviti bilo kakve \"hirurške\", \"prokrustovske\" zahvate unutar jedne inventivne, duhovite, iskrene umetnosti, kakva je ova koju ćemo videti na Bijenalu.</s><s>Moja teza će slediti umetnički materijal, neće mu prethoditi.</s><s>Ja u ovom trenutku ni nemam tezu.</s><s>To je razlog što izložba nije imala unapred \"zadatu\" temu ili naslov.</s><s>Jednostavno, moji saradnici i ja smo hteli da damo što objektivniji presek scene.</s><s>U pitanju su umetnici čiji je prosek godina oko 25-26.</s><s>Dakle, pomerili smo starosnu granicu u korist mladih.</s><s>S druge strane, pomerili smo granicu u korist neetablirane, neafirmisane umetnosti ogromnih potencjala, a izvan bilo kakvog imaginarnog ili postojećeg mainstreama.</s><s>Rizikujemo da nam kažu: Fuj, napravili ste panoramu.</s><s>Ušli smo u rizik rada sa novim/nepoznatim umetničkim vrednostima koje nije \"verifikovao\" nekakav spoljni autoritet, koji bi kazao: ovo je in, ovo je out.</s><s>Verujemo jedino u autoritet slobode mišljenja i slobode stvaranja.</s><s>Idemo against all odds, uzvodno.</s><s>KOŠAVA: Planirate li prateće programe na ovogodišnjem Bijenalu?</s><s>Da li će i ovog puta biti organizovan simpozijum?</s><s>MERENIK: Nema pratećih programa, osim izložbe u staroj Apoteci.</s><s>Odustali smo, pre svega zbog finansijskih problema, od drugih pratećih sadržaja.</s><s>Simpozijum Pop vision organizovan pre dve godine je bio odličan, ali, nije izazvao širu pažnju kolega.</s><s>Doživeo je i niz malicioznih \"komentara\" upravo od ljudi koji nisu bili tamo prisutni.</s><s>Mi ove godine nemamo mogućnosti da napravimo tako kvalitetan simpozijum, pre svega zbog toga što za njega nemamo sredstva.</s><s>S druge strane, procenili smo da je besmisleno organizovati simpozijum za koji ne bi, iz raznih razloga, bili zainteresovani baš oni kojima je namenjen.</s><s>Sami \"okrugli stolovi\" su sasvim jalove, nemaštovite forme, gde se učesnici obraćaju sopstvenim sujetama, pa smo i to hteli da izbegnemo.</s><s>Naša izložba je otvorena za sve stručnjake i kolege koji žele da je vide, prikazu, kritikuju i sl..</s><s>Verujem da će srpska likovna kritika već naći prostor u javnim glasilima da izložbu oceni, a ostali mogu da nam se jave dopisnicom ili e-mailom.</s><s>Radimo ambiciozan katalog koji producira Centar za savremenu umetnost i koji ćemo promovisati na jesen.</s><s>U ovom trenutku, katalog nam je daleko važxniji od bilo kog pratećeg sadržaja, upravo zato što će postati važan i vredan dokument najmlađe likovne scene danas.</s><s>KOŠxAVA: Centralna izložba biće postavljena u Konkordiji.</s><s>Da li ćete koristiti i neke vangalerijske prostore u Vrscu?</s><s>MERENIK: Vršac ima toliko genijalnih potencijalno-izlagačkih prostora, da je zaista prava šteta što za njih skoro niko nije zainteresovan, osim samih organizatora Bijenala.</s><s>Stalno se, u našoj zemlji, u tako divnim prostorima otvaraju neki \"klubovi\" i neke kafane.</s><s>Malo je ljudi koji ulazu u nekomercijalnu umetnost, i zato ih, sve, jako poštujem.</s><s>Što se tiče Konkordije, to je prostor veoma komplikovan za izložbu, ali istovremeno zaista savršen.</s><s>Žilavo ćemo se sa njim boriti.</s><s>Izložba će biti otvorena još i tamo gde nam se to omogući, videćemo da li u prostoru Mlina ili, pak, stare Robne kuce ili nekom trećem.</s><s>Ja više ne znam od koga sve to zavisi, niti sam sigurna je li sam grad Vršac dovoljno zainteresovan za uspeh izložbe, ili je čitav ambiciozni projekat pao na teret organizatora.</s><s>KOŠAVA: Recite nam nešto i o metodologiji i artikulaciji izložbe</s><s>MERENIK: U jednom kratkom trenutku sam mislila da pravimo Potemkinova sela.</s><s>Onda sam mislila da je sve to skupa jedno Sumnjivo lice, neka neobična fela ljudi iznikla daleko od stabla turbo-dance scene i ideala \"lakog\" i \"novog\" novca, neka \"plava riba, kljukana dinastija\", nešto potpuno OFF.</s><s>Sad mislim da su to za nas Stilske vežbe, nešto po Kenou: može dvostruko, može subjektivno, može neusiljeno, medicinski, ironično, metaforično, blesavo, popularno, nervozno, zastrašeno ili veselo.</s><s>U suštini naše \"metodologije\" je (da nemamo metodologiju), s jedne strane, pozitivna potemkinizacija, s druge, stilske vežbe koje pokazuju lepotu kraja veka: mnoštvo, zamor, vrt.</s><s>To je neartikulisana artikulacija i obrnuto.</s><s>Tu negde ćemo \"situirati\" izložbu.</s><s>Zato će u naslovu stajati: Objava broja 46486800 (to će, da Vam otkrijem tajnu, biti i naša mala posveta Tomasu Pinconu).</s><s>I mene zanima šta će se dalje dešavati.</s><s>ISIDORA - MODERNA IGRA</s><s>1878-1927 (povodom 70-godišnjice smrti)</s><s>Piše: Svenka Savić</s><s>Malo je znano da modernu igru otpočinju u Americi početkom veka tri samouke žene izrazite umetničke osobenosti: Isidora Dankan (Isadora Duncan:1878-1927), Loi Fuler (Loie Fuller: 1862-1928) i Rur Sen Denis (Ruth St Denis: 1880-1968).</s><s>Svaka od njih tražila je sopstvenu igru: Isidora oslonjena na grčku filozofiju življenja i igre; Loi traga za onim što igri daje novu dimenziju - osvetljenjem i bojama; Ruth se okrenula Orijentu i Indiji.</s><s>Sve tri stoje na početku priče o stvaranju moderne igre i novog shvatanja života.</s><s>Isidora je, prema mišljenju istoričara igre, igrača, koreografa, duhovna utemeljivačica moderne igre.</s><s>To pre svega znači da načela igre koja danas vidimo u modernoj igri različitih američkih i evropskih trupa, imaju zajedničkog sa onim što je ona početkom veka zastupala - da je umetnost život (Od samog početka ja sam igrala isključivo svoj sopstveni život, piše Isidora u svojoj autobiografiji).</s><s>I jedno i drugo ona zasniva na slobodi (bila je protiv institucija - pozorišnih i bračnih) i ljubavi (jedino su iskreni i neposredni ljudski odnosi merodavni).</s><s>Isidora umetnost shvata kao napor da se izrazi istina sopstvenog bića gestom i pokretom, i zato igra treba da bude izraz fizičke slobode (oslobođena od ideoloških pritisaka svake vrste).</s><s>Osnovu - i umetnosti i života - čini ljubav - umetnost se ne može razdvojiti od ljubavi (umetnik je jedini ljubavnik, samo on ima čistu viziju lepote, a ljubav je slika duše kojoj je dopušteno da se zagleda u neprolaznu lepotu'').</s><s>Sopstvenost, sloboda, ljubav i lepota osnovni su stozeri Isidorinog traganja za jednostavnim, iskonskim pokretima kojima se svakodnevno uzdiže na nivo umetničkog.</s><s>Jednostavne gestove oblikuje u praznom scenskom prostoru, oslobođenog dekora (samo plave zavese upućuju da je u pitanju pozorište, a ne život), bosonoga, raspuštene kose, obavijena porozirnom tunikom, Isidora gradi put novom viđenju smisla i cilja igre u prostoru i vremenu.</s><s>Ona negira umetnost baleta, a priznaje umetnost duše (''Ubrajam sebe u neprijatelje baleta, jer smatram da je to lažna i besmislena umetnost, zapravo, moje je mišljenje da balet uopšte ne spada u umetnost'').</s><s>Igrala je na osnovu svoje intuicije, na osnovu onoga što joj je urođena potreba, bez stvorenog plana unapred (kako je to činio Fokin ili neki drugi poznati i priznati koreograf).</s><s>Zato su mnogi bili skloni da njenu igru odrede kao improvizaciju, a taj sud već vuče negativnu konotaciju da je reč o nečem ''nestudioznom''.</s><s>Stanislavski zapaža da ''Duncanova nije u stanju da o svojoj umetnosti govori sistematično i logično.</s><s>Njoj su ideje padale na pamet slučajno, često izazvane najneočekivanijim svakodnevnim događajima''.</s><s>Baš zbog te svoje osobine da svaki put oseća i situaciju i sagovornika ona je bila velika inspiratorka, pokretačica već osvešćenih ideja svojih savremenika: vajara, slikara, posebno poslenika u pozorištu.</s><s>Ne zato što je tako htela, već zato što je svojom ličnošću nosila poslanje da u drugima budi potencijale koji će ih učiniti vidljivim svetu.</s><s>Ocu svoje dvoje dece, voljenom čoveku,stvorila je mogućnst da primeni svoje pozorišne ideje i da postane tvorac modernog teatra.</s><s>Gledajući nju na sceni on je u sebi otkrio da o pozorištu misli isto (''Ali zašto ste ukrali moje ideje i gde ste našli moje dekoracije''?/</s><s>''Izmislila sam ih kad mi je bilo pet godina, i od tad igram u svom dekoru'').</s><s>Fokin priznaje u autobiografiji (Protiv struje) da se tek nakon viđenja Isidorine igre osmelio da unese izmene u svojim klasičnim baletima o čemu je razmišljao i pre susreta s njom, ali nije imao dovoljno smelosti da ih realizuje.</s><s>Na mnogo mesta u knjizi govori o Isidori kao onoj neponovljivoj inspiratorki koja očarava igrom i idejama.</s><s>Isidora beleži u autobiografiji (Moj život) susret sa Stanislavskim: ''Jasno mi je da smo mi tražili jedno te isto, ali u različitim vidovima umetnosti'', ''mi smo se razumeli skoro pre nego što smo prozborili i jednu jedinu reč''.</s><s>Stanislavski slično potvrđuje (u kjizi Moj život u umetnosti): ''Shvatio sam da na raznim krajevima sveta, silom nama nepoznatih okolnosti, različiti ljudi u raznim oblastima, tragaju za novim, prirodno nastalim stvaralačkim principima.</s><s>Kad se sretnu, iznenade se saznanjem o zajedničkim obeležjima svojih ideja - mi smo se razumeli skoro pre nego što smo prozborili i jednu jedinu reč''.</s><s>Isidora je preteča današnjeg događanja u umetnosti igre: svoju svakodnevnicu promišlja kao trenutak istorije, pridajući joj onu važnost koju joj je Stvoritelj namenio.</s><s>Priroda, voda, more, bili su stalni izvori inspiracije njene stvaralačke energije, njene urođene potrebe da onome što je stvoreno oko nje daje opsteljudska značenja, religiozno verujući da ima mističnu vezu sa Stvoriteljom prirode (''Moj život i moja umetnost rođeni su iz mora'').</s><s>Tvrdila je za sebe da je ateistkinja, a verovala je u predodređenost života; želela je ''da izvrši obnovu religije kroz igru, da postigne punu spoznaju lepote i svetlosti ljudskog tela izražene pokretom''.</s><s>Taj tragalački put bio je dug: ''Dane i noći sam provodila u studiju mučeći se da otkrijem onu igru koja bi mogla biti božanski izraz čovekove duše, ovaploćen u pokretima tela''.</s><s>Nekonvencionalnim životom pokušala je da afirmiše sopstvenost, lepotu, ljubav i slobodu u životu (muškarca i žene), načela koja prelaze u umetnost i otuda se od nje otuđuju i postaju naša.</s><s>Njena potreba da stvara igrom, bila je veća od drugih potreba koje bi joj društvene konvencije nametale.</s><s>Ona je feministkinja po načinu na koji je stvarala i po onome što je stvorila.</s><s>U puritanskoj Americi svoga vremena, kao i u Evropi gde je većinu godina igrala, bila je za života , osporavana kao umetnica, negirana kao osoba.</s><s>Takve su se ocene prenosile i u našu domaću periodiku i publicistiku, što je stvaralo mizogeničnu atmosferu prema njenoj izuzetnoj stvaralačkoj ličnosti: taj neprijatni okolni svet koji je o njoj loše govorio za njena života; ta potreba da se njen život pokazuje kao prljavi veš, a ne da se povezuje sa njenim načelom - umetnost = život.</s><s>A život, onda, po njoj, znači neprestano traganje, kao i u umetnosti.</s><s>Njena tragalačka potreba vodila ju je u ćorsokake, kako to i biva kod stvarnih stvaralaca: nagon za stvaranjem vuče, a ti ne pogađaš onu pravu ulicu.</s><s>Ti pogrešni putevi (te pogrešne ljubavi), davali su joj novu snagu, uvek u dosluhu sa prirodom.</s><s>To je kod nje zanimljiva veza.</s><s>Kao kad udes u morske talase i oni ti daju moć talasanja, kao svoju sopstvenu moć.</s><s>Tako i ona nalazi neprestanu energiju koju joj drugi odvlače, ona je ponovo stvara i tako dok se nije istrošila i nestala kao stvarateljka.</s><s>a ona fizička smrt, dramski tako neponovljivo nama data, bila je tek tačka u stalnom dosluhu Stvoriteljeve i njene.</s><s>Nama je danas jasno da je Isidora primer žene koja stvara, kreira i inspiriše druge, kao jedna od onih koje pomeraju svet.</s><s>Plastična hirurgija prodaje</s><s>Piše: Lazar Džamić</s><s>Značajna, ozloglašena, uzdizana u nebo, glamurozna, napadana, mistifikovana - oblast advertajzinga je sve samo ne nešto što ljude, posebno one pametne ostavlja ravnodušnim.</s><s>Moglo bi da se kaže skoro vekovima ali svakako već mnogo vremena, brojni poznati i nepoznati umovi imali su šta da kažu na temu prakse unapređenja prodaje roba, usluga i ideja.</s><s>U narednim redovima nalazi se samo deo lucidnih, stručnih, zajedljivih, ironičnih ili mudrih opaski o jednom od najznačajnijih fenomena moderne civilizacije.</s><s>Mada bi naizgled mogli da se tumače kao laka materija, njihova dubina često dodiruje same osnove nama jedino poznatog načina žxivota u zapadnoj civilizaciji.</s><s>Zato zaslužuju da se podele.</s><s>Advertajzing bi mogao da se opiše i kao nauka opsedanja ljudske inteligencije dovoljno dugo da se od nje izvuče novac</s><s>Stiven Likok (1869-1944)</s><s>Ništa, izuzev kovnice novca, ne može isti da proizvodi bez advertajzinga</s><s>Makulej (1800-1859)</s><s>Problem sa nama u Americi nije u tome da nam se poezija života pretvorila u prozu, već u tome da se pretvorila u reklami tekst</s><s>Luis Kronenberger</s><s>Uvodom u analizu bilo kojeg potpunijeg izbora oglasa, osnovni sastav oglasivača se izgleda svodi na sledeće: ako ste bednici, smrdljivi, zaludni, statusom opterećeni neurotični moroni dajte mi vaše pare</s><s>Kenet Bromfild</s><s>Filozofija koja stoji u osnovi većeg dela advertajzinga bazirana je na staroj opservaciji da se svaka osoba u stvari sastoji od dve osobe: one kakva je stvarno i one kakva bi želela da bude</s><s>Vilijam Feder (1889-1981)</s><s>Možete odrediti ideale jedne nacije prema njenom celokupnom advertajzingu</s><s>Norman Daglas (1868-1952)</s><s>Advertajzing: organizovani napor da se proširi i intenzivira požuda</s><s>Oldos Haksli.</s><s>Uloga advertajzinga je da učini da svaki proizvod izgleda dobro.</s><s>To je plastična hirurgija prodaje.</s><s>Anonimni autor</s><s>Raditi biznis bez advertajzinga je kao da namigujete devojci u mraku.</s><s>Vi znate šta radite, ali ne i bilo ko drugi</s><s>Stjuart H.Brit (1907-1979).</s><s>Ovo se proizvodi u tri veličine: Velika, Gigantska i Super.</s><s>Daću vam najmanju - Veliku.</s><s>Anonimni autor</s><s>Tražite njihovu dominantnu strast ili preovlađujuću slabost; i tada ćete znati kojim mamcem da opremite vašu udicu da biste ih upecali.</s><s>Lord Cesterfikld (1694-1773)</s><s>Ne čitam oglase - inače bih proveo sve svoje vreme želeci nešto</s><s>Nadbiskup od Kenterberija</s><s>Dublji problemi povezani sa advertajzingom ne dolaze toliko od beskrupuloznosti nasih ubedjivača koliko od našeg zadovoljstva da budemo ubeđivani i zavođeni; manje od zelje da se zavodi nego od zelje da se bude zaveden</s><s>Danijel J Brostin (rodj.1914.)</s><s>Advertajzing agencija: osamdeset pet procenata konfuzije i petnaest procenata provizije</s><s>Fred Alen (1894- 1956)</s><s>Advertajzing je princip masovne produkcije primenjen na prodaju</s><s>Džon T.Dorans (1873-1930)</s><s>SAMO NAPRED, UMNOŽAVAJTE</s><s>(Da li je kloniranje božiji posao?)</s><s>Ricard Sid</s><s>Prevod:Sandra Simeunović</s><s>Ricard Sid, harvardski diplomac, profesionalni fizičar i kontraverzni naučnik, planira da promeni tok ljudske evolucije.</s><s>On namerava da nas klonira!</s><s>Ali, izvlačenje potpunog ljudskog bića iz njegovog DNK cilindra, samo je deo trika za čije izvođenje Sid tvrdi da je sposoban.</s><s>To je samo sporedno saznanje; ono što zaista pokreće Sidove motore jesu intelektualne posledice kloniranja: prema njegovoj viziji, kloniranje ljudskih bića ne svodi se na puko pravljenje sopstvenih kopija - ono je, takođe, način da se brzo pronađu lekovi za mnoštvo bolesti, uključujući i rak.</s><s>Pre svega, verujem u Boga.</s><s>Drugo, hrišćanin sam.</s><s>Treće, metodista sam, i to veoma ozbiljan.</s><s>Biblija kaže da je bog stvorio čoveka prema sopstvenom obličju.</s><s>Takođe kaže da će čovek postati jedno sa Bogom.</s><s>Da bih ovo objasnio, dozvolite mi da napravim malu digresiju: tokom prvih nekoliko stotina godina postojanja hrišćanske crkve, vodile su se beskrajne rasprave i debate.</s><s>Jedna od velikih rasprava ticala se Hristovog uskrsnuća - da li je ono bilo duhovno ili telesno?</s><s>Ona je bila uzrok velikog raskola.</s><s>Sve je rešeno početkom trećeg stoleća prihvatanjem stanovišta da je Hrist uskrsnuo i duhovno i telesno.</s><s>Ovo je još uvek zvanično prihvaćena doktrina većine hrišćanskih crkvi širom sveta.</s><s>Isto zanimljivo pitanje postavlja se i danas: kada Bog bude odlučio da se sretne sa čovekom, hoće li to učiniti duhovno ili telesno?</s><s>Opredelio sam se za tumačenje koje uključuje i jedno i drugo.</s><s>Kloniranje ljudskih bića je jedan mali korak u tom smeru.</s><s>Danas je moguće ozbiljno razmišljati o neograničenom produžetku ljudskog života i o neograničenom pristupu znanju.</s><s>Eksperimentalnim kloniranjem izvršenim u Škotskoj dokazano je da je moguće reprogramirati DNK u ćelijama i vratiti ih na nultu podelu - na nivo neizdiferencirane ćelije.</s><s>Bilo bi sjajno kada bismo naučili kako da reprogramiramo DNK i vratimo je sa tridesete na petnaestu podelu.</s><s>Tada biste ponovo mogli da imate dvadeset godina!</s><s>A postupak bi bilo moguće ponavljati koliko god puta hoćemo.</s><s>To je zapanjujuće!</s><s>Međutim, ono što mene zapravo zanima, vezano je za, našem vremenu, bliže primene.</s><s>Šta bi se dogodilo kada bismo izdvojili jednu kanceroznu ćeliju istog tipa kao što je ona korišćxena u Škotskoj - epitelnu ćeliju mlečne žlezde?</s><s>Taj tip ćelija najpodložniji je raku dojke.</s><s>Šta bi se dogodilo kada bismo izdvojili tu izmenjenu, kanceroznu ćeliju i, pošto bismo je umnožili, pokušali da izvršimo možda na stotine manipulacija njenih DNK?</s><s>Zar ne bi bilo moguće vratiti tu ćeliju na njene prve podele, na sam početak njenog života, pre no šxto je postala kancerozna?</s><s>Pomoću tehnike razrađene u Škotskoj, moguće je vratiti ćelije na nultu podelu.</s><s>Kada bismo uspeli u tome, odmah bismo pronašli lek protiv raka.</s><s>Sve ovo možda i ne bi uspelo, ali ne treba čak ni razmišljati o tome ukoliko, istovremeno, ozbiljno ne razmisljamo o nauci o kloniranju ljudskih bića.</s><s>Čak i ako ne bismo isprva izdvojili sve ćelije raka, bilo bi moguće neprestano ponavljati postupak.</s><s>U poređenju sa hemoterapijom, ovo je svakako prihvatljivije jer nisu primećeni nikakvi neželjeni efekti.</s><s>Kada bi ovo uspelo, bilo bi moguće raditi na tehnikama protiv svih vrsta raka, a naravno i AIDS-a.</s><s>Danas je na snazi zabrana korišćenja državnog budžeta za ovakva istraživanja.</s><s>Stoga bismo želeli da osnujemo vlastiti fond.</s><s>Međutim, ova vrsta eksperimenata toliko je dramatična, da bi verovatno odmah bili zabranjeni.</s><s>Vršenje eksperimenata na majmunima nije ni od kakve koristi.</s><s>Oni se moraju vršiti na ljudima.</s><s>Tehnološka i informativna korist od kloniranja ljudskih bića bila bi daleko važnija od samog kloniranja.</s><s>Ne želim da kažem da me je bog uputio da ovo radim, ali tvrdim da je to priroda protestantske misli.</s><s>Kada budemo uspeli da produžimo životni vek i kada nam postane dostupno neograničeno znanje, i mi ćemo postati poput boga.</s><s>A to i jeste božija namera.</s><s>Neki misle da preterujem.</s><s>Mom pastoru je pomalo neugodno zbog svega ovoga.</s><s>On ne odobrava moje stanovište.</s><s>Ipak, kloniranje je neizbežno.</s><s>Ako to ne uradim ja, neko drugi sigurno hoće.</s><s>Nauku je nemoguće zaustaviti.</s><s>ISIDORA - MODERNA IGRA</s><s>1878-1927 (povodom 70-godišnjice smrti) Piše: Svenka Savić Malo je znano da modernu igru otpočinju u Americi početkom veka tri samouke žene izrazite umetničke osobenosti: Isidora Dankan (Isadora Duncan:1878-1927), Loi Fuler (Loie Fuller: 1862-1928) i Rur Sen Denis (Ruth St Denis: 1880-1968).</s><s>Svaka od njih tražila je sopstvenu igru: Isidora oslonjena na grčku filozofiju življenja i igre; Loi traga za onim što igri daje novu dimenziju - osvetljenjem i bojama; Ruth se okrenula Orijentu i Indiji.</s><s>Sve tri stoje na početku priče o stvaranju moderne igre i novog shvatanja života.</s><s>Isidora je, prema mišljenju istoričara igre, igrača, koreografa, duhovna utemeljivačica moderne igre.</s><s>To pre svega znači da načela igre koja danas vidimo u modernoj igri različitih američkih i evropskih trupa, imaju zajedničkog sa onim što je ona početkom veka zastupala - da je umetnost život (Od samog početka ja sam igrala isključivo svoj sopstveni život, piše Isidora u svojoj autobiografiji).</s><s>I jedno i drugo ona zasniva na slobodi (bila je protiv institucija - pozorišnih i bračnih) i ljubavi (jedino su iskreni i neposredni ljudski odnosi merodavni).</s><s>Isidora umetnost shvata kao napor da se izrazi istina sopstvenog bića gestom i pokretom, i zato igra treba da bude izraz fizičke slobode (oslobođena od ideoloških pritisaka svake vrste).</s><s>Osnovu - i umetnosti i života - čini ljubav - umetnost se ne može razdvojiti od ljubavi (umetnik je jedini ljubavnik, samo on ima čistu viziju lepote, a ljubav je slika duše kojoj je dopušteno da se zagleda u neprolaznu lepotu'').</s><s>Sopstvenost, sloboda, ljubav i lepota osnovni su stozeri Isidorinog traganja za jednostavnim, iskonskim pokretima kojima se svakodnevno uzdiže na nivo umetničkog.</s><s>Jednostavne gestove oblikuje u praznom scenskom prostoru, oslobođenog dekora (samo plave zavese upućuju da je u pitanju pozorište, a ne život), bosonoga, raspuštene kose, obavijena porozirnom tunikom, Isidora gradi put novom viđenju smisla i cilja igre u prostoru i vremenu.</s><s>Ona negira umetnost baleta, a priznaje umetnost duše (''Ubrajam sebe u neprijatelje baleta, jer smatram da je to lažna i besmislena umetnost, zapravo, moje je mišljenje da balet uopšte ne spada u umetnost'').</s><s>Igrala je na osnovu svoje intuicije, na osnovu onoga što joj je urođena potreba, bez stvorenog plana unapred (kako je to činio Fokin ili neki drugi poznati i priznati koreograf).</s><s>Zato su mnogi bili skloni da njenu igru odrede kao improvizaciju, a taj sud već vuče negativnu konotaciju da je reč o nečem ''nestudioznom''.</s><s>Stanislavski zapaža da ''Duncanova nije u stanju da o svojoj umetnosti govori sistematično i logično.</s><s>Njoj su ideje padale na pamet slučajno, često izazvane najneočekivanijim svakodnevnim događajima''.</s><s>Baš zbog te svoje osobine da svaki put oseća i situaciju i sagovornika ona je bila velika inspiratorka, pokretačica već osvešćenih ideja svojih savremenika: vajara, slikara, posebno poslenika u pozorištu.</s><s>Ne zato što je tako htela, već zato što je svojom ličnošću nosila poslanje da u drugima budi potencijale koji će ih učiniti vidljivim svetu.</s><s>Ocu svoje dvoje dece, voljenom čoveku,stvorila je mogućnst da primeni svoje pozorišne ideje i da postane tvorac modernog teatra.</s><s>Gledajući nju na sceni on je u sebi otkrio da o pozorištu misli isto (''Ali zašto ste ukrali moje ideje i gde ste našli moje dekoracije''?/</s><s>''Izmislila sam ih kad mi je bilo pet godina, i od tad igram u svom dekoru'').</s><s>Fokin priznaje u autobiografiji (Protiv struje) da se tek nakon viđenja Isidorine igre osmelio da unese izmene u svojim klasičnim baletima o čemu je razmišljao i pre susreta s njom, ali nije imao dovoljno smelosti da ih realizuje.</s><s>Na mnogo mesta u knjizi govori o Isidori kao onoj neponovljivoj inspiratorki koja očarava igrom i idejama.</s><s>Isidora beleži u autobiografiji (Moj život) susret sa Stanislavskim: ''Jasno mi je da smo mi tražili jedno te isto, ali u različitim vidovima umetnosti''... ''mi smo se razumeli skoro pre nego što smo prozborili i jednu jedinu reč''.</s><s>Stanislavski slično potvrđuje (u kjizi Moj život u umetnosti): ''Shvatio sam da na raznim krajevima sveta, silom nama nepoznatih okolnosti, različiti ljudi u raznim oblastima, tragaju za novim, prirodno nastalim stvaralačkim principima.</s><s>Kad se sretnu, iznenade se saznanjem o zajedničkim obeležjima svojih ideja - mi smo se razumeli skoro pre nego što smo prozborili i jednu jedinu reč''.</s><s>Isidora je preteča današnjeg događanja u umetnosti igre: svoju svakodnevnicu promišlja kao trenutak istorije, pridajući joj onu važnost koju joj je Stvoritelj namenio.</s><s>Priroda, voda, more, bili su stalni izvori inspiracije njene stvaralačke energije, njene urođene potrebe da onome što je stvoreno oko nje daje opsteljudska značenja, religiozno verujući da ima mističnu vezu sa Stvoriteljom prirode (''Moj život i moja umetnost rođeni su iz mora'').</s><s>Tvrdila je za sebe da je ateistkinja, a verovala je u predodređenost života; želela je ''da izvrši obnovu religije kroz igru, da postigne punu spoznaju lepote i svetlosti ljudskog tela izražene pokretom''.</s><s>Taj tragalački put bio je dug: ''Dane i noći sam provodila u studiju mučeći se da otkrijem onu igru koja bi mogla biti božanski izraz čovekove duše, ovaploćen u pokretima tela''.</s><s>Nekonvencionalnim životom pokušala je da afirmiše sopstvenost, lepotu, ljubav i slobodu u životu (muškarca i žene), načela koja prelaze u umetnost i otuda se od nje otuđuju i postaju naša.</s><s>Njena potreba da stvara igrom, bila je veća od drugih potreba koje bi joj društvene konvencije nametale.</s><s>Ona je feministkinja po načinu na koji je stvarala i po onome što je stvorila.</s><s>U puritanskoj Americi svoga vremena, kao i u Evropi gde je većinu godina igrala, bila je za života , osporavana kao umetnica, negirana kao osoba.</s><s>Takve su se ocene prenosile i u našu domaću periodiku i publicistiku, što je stvaralo mizogeničnu atmosferu prema njenoj izuzetnoj stvaralačkoj ličnosti: taj neprijatni okolni svet koji je o njoj loše govorio za njena života; ta potreba da se njen život pokazuje kao prljavi veš, a ne da se povezuje sa njenim načelom - umetnost = život.</s><s>A život, onda, po njoj, znači neprestano traganje, kao i u umetnosti.</s><s>Njena tragalačka potreba vodila ju je u ćorsokake, kako to i biva kod stvarnih stvaralaca: nagon za stvaranjem vuče, a ti ne pogađaš onu pravu ulicu.</s><s>Ti pogrešni putevi (te pogrešne ljubavi), davali su joj novu snagu, uvek u dosluhu sa prirodom.</s><s>To je kod nje zanimljiva veza.</s><s>Kao kad udes u morske talase i oni ti daju moć talasanja, kao svoju sopstvenu moć.</s><s>Tako i ona nalazi neprestanu energiju koju joj drugi odvlače, ona je ponovo stvara i tako dok se nije istrošila i nestala kao stvarateljka. a ona fizička smrt, dramski tako neponovljivo nama data, bila je tek tačka u stalnom dosluhu Stvoriteljeve i njene.</s><s>Nama je danas jasno da je Isidora primer žene koja stvara, kreira i inspiriše druge, kao jedna od onih koje pomeraju svet.</s><s>Plastična hirurgija prodaje</s><s>Piše: Lazar Džamić Značajna, ozloglašena, uzdizana u nebo, glamurozna, napadana, mistifikovana - oblast advertajzinga je sve samo ne nešto što ljude, posebno one pametne ostavlja ravnodušnim.</s><s>Moglo bi da se kaže skoro vekovima ali svakako već mnogo vremena, brojni poznati i nepoznati umovi imali su šta da kažu na temu prakse unapređenja prodaje roba, usluga i ideja.</s><s>U narednim redovima nalazi se samo deo lucidnih, stručnih, zajedljivih, ironičnih ili mudrih opaski o jednom od najznačajnijih fenomena moderne civilizacije.</s><s>Mada bi naizgled mogli da se tumače kao laka materija, njihova dubina često dodiruje same osnove nama jedino poznatog načina žxivota u zapadnoj civilizaciji.</s><s>Zato zaslužuju da se podele.</s><s>Advertajzing bi mogao da se opiše i kao nauka opsedanja ljudske inteligencije dovoljno dugo da se od nje izvuče novac Stiven Likok (1869-1944)</s><s>Ništa, izuzev kovnice novca, ne može isti da proizvodi bez advertajzinga Makulej (1800-1859)</s><s>Problem sa nama u Americi nije u tome da nam se poezija života pretvorila u prozu, već u tome da se pretvorila u reklami tekst Luis Kronenberger</s><s>Uvodom u analizu bilo kojeg potpunijeg izbora oglasa, osnovni sastav oglasivača se izgleda svodi na sledeće: ako ste bednici, smrdljivi, zaludni, statusom opterećeni neurotični moroni dajte mi vaše pare Kenet Bromfild</s><s>Filozofija koja stoji u osnovi većeg dela advertajzinga bazirana je na staroj opservaciji da se svaka osoba u stvari sastoji od dve osobe: one kakva je stvarno i one kakva bi želela da bude Vilijam Feder (1889-1981)</s><s>Možete odrediti ideale jedne nacije prema njenom celokupnom advertajzingu Norman Daglas (1868-1952)</s><s>Advertajzing: organizovani napor da se proširi i intenzivira požuda Oldos Haksli Uloga advertajzinga je da učini da svaki proizvod izgleda dobro.</s><s>To je plastična hirurgija prodaje.</s><s>Anonimni autor</s><s>Raditi biznis bez advertajzinga je kao da namigujete devojci u mraku.</s><s>Vi znate šta radite, ali ne i bilo ko drugi Stjuart H. Brit (1907-1979)</s><s>Ovo se proizvodi u tri veličine: Velika, Gigantska i Super.</s><s>Daću vam najmanju - Veliku.</s><s>Anonimni autor</s><s>Tražite njihovu dominantnu strast ili preovlađujuću slabost; i tada ćete znati kojim mamcem da opremite vašu udicu da biste ih upecali Lord Cesterfikld (1694-1773)</s><s>Ne čitam oglase - inače bih proveo sve svoje vreme želeci nešto Nadbiskup od Kenterberija</s><s>Dublji problemi povezani sa advertajzingom ne dolaze toliko od beskrupuloznosti nasih ubedjivača koliko od našeg zadovoljstva da budemo ubeđivani i zavođeni; manje od zelje da se zavodi nego od zelje da se bude zaveden Danijel J Brostin (rodj.</s><s>Advertajzing agencija: osamdeset pet procenata konfuzije i petnaest procenata provizije Fred Alen (1894- 1956)</s><s>Advertajzing je princip masovne produkcije primenjen na prodaju Džon T. Dorans (1873-1930)</s><s>SAMO NAPRED, UMNOŽAVAJTE</s><s>(Da li je kloniranje božiji posao?)</s><s>Ricard Sid Prevod:Sandra Simeunović Ricard Sid, harvardski diplomac, profesionalni fizičar i kontraverzni naučnik, planira da promeni tok ljudske evolucije.</s><s>On namerava da nas klonira!</s><s>Ali, izvlačenje potpunog ljudskog bića iz njegovog DNK cilindra, samo je deo trika za čije izvođenje Sid tvrdi da je sposoban.</s><s>To je samo sporedno saznanje; ono što zaista pokreće Sidove motore jesu intelektualne posledice kloniranja: prema njegovoj viziji, kloniranje ljudskih bića ne svodi se na puko pravljenje sopstvenih kopija - ono je, takođe, način da se brzo pronađu lekovi za mnoštvo bolesti, uključujući i rak.</s><s>Pre svega, verujem u Boga.</s><s>Drugo, hrišćanin sam.</s><s>Treće, metodista sam, i to veoma ozbiljan.</s><s>Biblija kaže da je bog stvorio čoveka prema sopstvenom obličju.</s><s>Takođe kaže da će čovek postati jedno sa Bogom.</s><s>Da bih ovo objasnio, dozvolite mi da napravim malu digresiju: tokom prvih nekoliko stotina godina postojanja hrišćanske crkve, vodile su se beskrajne rasprave i debate.</s><s>Jedna od velikih rasprava ticala se Hristovog uskrsnuća - da li je ono bilo duhovno ili telesno?</s><s>Ona je bila uzrok velikog raskola.</s><s>Sve je rešeno početkom trećeg stoleća prihvatanjem stanovišta da je Hrist uskrsnuo i duhovno i telesno.</s><s>Ovo je još uvek zvanično prihvaćena doktrina većine hrišćanskih crkvi širom sveta.</s><s>Isto zanimljivo pitanje postavlja se i danas: kada Bog bude odlučio da se sretne sa čovekom, hoće li to učiniti duhovno ili telesno?</s><s>Opredelio sam se za tumačenje koje uključuje i jedno i drugo.</s><s>Kloniranje ljudskih bića je jedan mali korak u tom smeru.</s><s>Danas je moguće ozbiljno razmišljati o neograničenom produžetku ljudskog života i o neograničenom pristupu znanju.</s><s>Eksperimentalnim kloniranjem izvršenim u Škotskoj dokazano je da je moguće reprogramirati DNK u ćelijama i vratiti ih na nultu podelu - na nivo neizdiferencirane ćelije.</s><s>Bilo bi sjajno kada bismo naučili kako da reprogramiramo DNK i vratimo je sa tridesete na petnaestu podelu.</s><s>Tada biste ponovo mogli da imate dvadeset godina!</s><s>A postupak bi bilo moguće ponavljati koliko god puta hoćemo.</s><s>To je zapanjujuće!</s><s>Međutim, ono što mene zapravo zanima, vezano je za, našem vremenu, bliže primene.</s><s>Šta bi se dogodilo kada bismo izdvojili jednu kanceroznu ćeliju istog tipa kao što je ona korišćxena u Škotskoj - epitelnu ćeliju mlečne žlezde?</s><s>Taj tip ćelija najpodložniji je raku dojke.</s><s>Šta bi se dogodilo kada bismo izdvojili tu izmenjenu, kanceroznu ćeliju i, pošto bismo je umnožili, pokušali da izvršimo možda na stotine manipulacija njenih DNK?</s><s>Zar ne bi bilo moguće vratiti tu ćeliju na njene prve podele, na sam početak njenog života, pre no šxto je postala kancerozna?</s><s>Pomoću tehnike razrađene u Škotskoj, moguće je vratiti ćelije na nultu podelu.</s><s>Kada bismo uspeli u tome, odmah bismo pronašli lek protiv raka.</s><s>Sve ovo možda i ne bi uspelo, ali ne treba čak ni razmišljati o tome ukoliko, istovremeno, ozbiljno ne razmisljamo o nauci o kloniranju ljudskih bića.</s><s>Čak i ako ne bismo isprva izdvojili sve ćelije raka, bilo bi moguće neprestano ponavljati postupak.</s><s>U poređenju sa hemoterapijom, ovo je svakako prihvatljivije jer nisu primećeni nikakvi neželjeni efekti.</s><s>Kada bi ovo uspelo, bilo bi moguće raditi na tehnikama protiv svih vrsta raka, a naravno i AIDS-a.</s><s>Danas je na snazi zabrana korišćenja državnog budžeta za ovakva</s><s>Stoga bismo želeli da osnujemo vlastiti fond.</s><s>Međutim, ova vrsta eksperimenata toliko je dramatična, da bi verovatno odmah bili zabranjeni.</s><s>Vršenje eksperimenata na majmunima nije ni od kakve koristi.</s><s>Oni se moraju vršiti na ljudima.</s><s>Tehnološka i informativna korist od kloniranja ljudskih bića bila bi daleko važnija od samog kloniranja.</s><s>Ne želim da kažem da me je bog uputio da ovo radim, ali tvrdim da je to priroda protestantske misli.</s><s>Kada budemo uspeli da produžimo životni vek i kada nam postane dostupno neograničeno znanje, i mi ćemo postati poput boga.</s><s>A to i jeste božija namera.</s><s>Neki misle da preterujem.</s><s>Mom pastoru je pomalo neugodno zbog svega ovoga.</s><s>On ne odobrava moje stanovište.</s><s>Ipak, kloniranje je neizbežno.</s><s>Ako to ne uradim ja, neko drugi sigurno hoće.</s><s>Nauku je nemoguće zaustaviti.</s><s>�Mečka� na usijanom limenom krovu</s><s>Piše: Dušan Vidaković</s><s>Kada je austrijski konzul u Nici Emil Jelinek 1901.naručio od nemačkog Dajmlera, odjednom, čak 36 automobila, čija je ukupna cena premašila fantastičnih 550 hiljada zlatnih maraka, imao je samo jedan uslov: da sva ta kola nose ime njegove ćerke.</s><s>Ljudi iz kanstatske firme, naravno, nisu imali ništa protiv, a istorija automobilizma je imala sreću da je Jelinekovoj mezimici kum dao (pogotovo za Špance) vrlo graciozno ime - Mercedes, što na jeziku konkvistadora znaci ljupkost, umilnost, prijatnost.</s><s>Jelinekova porudžbina značila prekretnicu u poslovanju Dajmlera, a naziv Mercedes je preživeo i fuziju sa fabrikom Karla Benca, 1926.godine, održavši se do danas kao sinonim za kvalitetne, luksuzne i, nadasve, bezbedne automobile svojstvenih vozačima koji ne kriju brige u novčaniku.</s><s>Međutim, upravo legenda o blistavosti trokrake zvezde doživljava ovih dana ozbiljnu proveru zahvaljujući mercedesu A klase.</s><s>A sve je, ustvari, počelo kada je tim vrhunskih stručnjaka, pod rukovodstvom Haralda Leskea, još početkom osamdesetih, krenuo u stvaranje generacija jednozapreminskih kombi-limuzina za potrebe štutgartskog koncerna iz Mercedesstrase.</s><s>Tako je 1982.godine promovisano koncept-vozilo NAFA, dugačko dva i po metra i namenjeno prevozu roba na manjim distancama i u urbanoj gužvi; na bazi toga će, 1999.godine, početi proizvodnja automobilčića smart u saradnji sa fabrikom satova Svoč.</s><s>Potom je, celu deceniju kasnije, na auto-salonu u Detroitu skinut veo tajne i sa projekta F-100, mini-vena sa solarnom baterijom ugrađenom u krov i fenomenalnim koeficijentom otpora vazduha (ć=0,20), koji bi trebao da parira automobilima kakvi su reno espas, tojota previja ili 'pontijak transport.</s><s>Konačno, na frankfurtskom sajmu, u jesen 1993, predstavljen je i prototip vižn A, što je izazvalo nevericu jer je nagovestilo skori Mercedesov silazak u srednji (konfekcijski) tržišni segment, diktiran recesijom.</s><s>Ne obazirući se na skeptičnost četvorotaktne planete, Mercedes je prošle jeseni vižn A proizveo u svoju A klasu i gurnuo ga na tržište sa dva benzinska motora od 1,4 (82KS) i 1,6 (102KS) litara i parom turbo-dizela od 1700 kubika, ali sa različitom snagom - 60 i 90 'konja.</s><s>Najveću sablazan tom prilikom proizvele su patuljaste dimenzije klase A: sa tri i po metra dužine novi merdža je, na primer, 33 santimetra kraći od stojadina.</s><s>Kako je i red, volana malog automobila najpre su se prihvatili specijalizovani poslenici sedme sile.</s><s>Njih 1.500 je, tokom dva godišnja doba promotivnih vožnji, prevalilo pola miliona kilometara klasom,a bez ikakvih problema i zakeranja, i kada se činilo da ce najnoviji mercedes stići pred kupce sa odličnim preporukama, dogodila se vlažna pista jednog švedskog aerodroma.</s><s>Drugim recima: znameniti loštest.</s><s>Pri punom opterećenju i brzini od 65 km/h vozilo je, trebalo da pređe iz desne u levu kolovoznu traku i da se vrati natrag, da bi eskiviralo zamišljenog severnog jelena koji je 'iznikao na putu.</s><s>Takav manevar A klasa nije izdržala: mercedes se obrnuo na krov, a novinari koji su bili u njemu - u bolnici.</s><s>Treba li naglašavati: Šveđani kao autori ovog testa i glavnih Mercedesovih konkurenata - Saaba i Volvoa - posebno su insistirali na nestabilnosti najnovijeg virtemberskog pulena.</s><s>Da smola bude potpuna, sve se to dogodilo nedugo pošto je najprestižniji model, mercedes 600, opremljen svim mogućim čudesima pasivne bezbednosti, nije uspeo da spase princezu Dajanu posle bliskog susreta sa jednim pariskim betonskim stubom.</s><s>Nemajući kud, Mercedes je pravdanje započeo pričom da su gume na A klasi (175/65 R 15) imale odveć slabu koncentraciju nadražujućih sastojaka, pa je kod naglog usporavanja, došlo do distribucije opterećenja sa pneumatika na sistem vešanja uz iznenadno ubrzavanje točkova.</s><s>Ipak, uskoro je Jirgen Hubert iz Mercedesovog Upravnog odbora podvio rep dozvolivši mogućnost da se mala mečka našla sa točkovima u vazduhu zbog mehaničke mane.</s><s>Zato je u pomoć pozvan Elektronski stabilizacioni program (ESP) po prvi put instaliran, pre tri godine, u mercedesima elitnog ranga.</s><s>Ovde je, u stvari, reč o senzorima, primenjenim u formuli 1, koji korespondiraju sa sistemima protiv blokiranja kočnica i proklizavanja.</s><s>Tako ESP iskljućuje mogućnost vozačevog previda pri korišćenju papučice gasa ili kočnice.</s><s>Ova spravica košta oko 5.000 DEM i, blagodareći lošu, ni krivi ni dužni, za džabe su je dobili vlasnici i najmanjeg mercedesa, ali je, bogme, tek uz njen angažman i klasa A uspela da zaobiđe severnog jelena.</s><s>A da se ne bi provukla jos kakva neprijatnost, mercedesovci su pribegli i dopunskim starovremenskim trikovima za uravnoteženje automobila: ugrađeni su tvrdi amortizeri i spojleri, skoljka je primaknuta tlu za 13 (napred), odnosno 10 milimetara (nazad), dok je razmak između točkova povećan za 1 na prednjoj i 12 milimetara na zadnjoj osovini.</s><s>Već pominjani pneumatici su zamenjeni novim, dimenzija 195/50 R 15.</s><s>Konačno, u akciju obnove poverenja u (tradicionalnu?) germansku stabilnost uključen je i austrijski avioprevoznik Niki Lauda, trostruki šampion formule 1, ali su, za svaku sigurnost, superuspešna testiranja mercedesa A podržanog ESP-om obavljena su u mediteranskoj atmosferi staze Katalunja kraj Barselone, gde losovi retko zalaze.</s><s>Posle ovako mučne epizode, kao da su u drugi plan potisnute sve novotarije malog mercedesa: automatsko kvačilo za manuelni menjač, neverovatno lak (70kg) mehanizam transmisije kod automatika ili ASSYST uređaj koji vozača podseća da je trenutak za redovni servis.</s><s>Minorizovane su vrednosti duplog dna automobila u koje su smešteni menjač i dobar deo motora.</s><s>Da ne govorim koliko je postalo sumnjivo to što je A klasa prvi mercedes sa pogonom preko prednjih točkova.</s><s>ABS sistem, servo-ojačivač volana i er-begovi su tek mačka u džaku, baš kao i branik koji, bez oštećenja, trpi udarce do 5 km/h.</s><s>Razume se, dobra PR agencija će, ipak, lako isfabrikovati dovoljno zapadnoevropskih kupaca kojima ce baš ovakav autić biti neophodan, ali se, naposletku samo nameće pitanje kako bi se tek ovaj mikromini-ven ponašao na testu izbegavanja rupa po našim drumovima, koje svakodnevno i uživo upražnjavaju domaći šoferi.</s><s>I onda sledi logičan zaključak: verovatno zato A klasa još nije stigla na naše tržište.</s><s>Blow up</s><s>UOBLIČAVANJE SVETOVA</s><s>IKON knjige - edicija za početnike</s><s>Piše Nikola Suica.</s><s>Svojevrsni vodiči Za početnike izdavačke kuće Ikona iz Kembridža, trasirani su kao misaoni zadaci saznavanja.</s><s>Principi i idejne osnove određenih civilizacijskih fondacija i pojava, kao i biografska kretanja izabranih ličnosti, podvrgnuti su rigoroznom izboru odgovarajućih scenarija i adaptaciji stručnjaka iz različitih oblasti.</s><s>Makijaveli, Njutn, Hegel ili Lakan, na primer, predstavljeni Za početnike, oblikovani su vizuelno tekstualnim prepletom zahtevnim za pažnju čitalačkog stupanja u značaj njihovih dostignuća.</s><s>Postajući izazov za primenjeni slikovni zanat crno -belih predstava, ilustracija i kolaža, ovi putevi postmodernističkog prosvećivanja umnogome su koristan odraz vremena prezasićenog informacijama.</s><s>Početkom osamdesetih godina, beogradski izdavač Studentski izdavački centar, objavio je tri naslova, zapravo prva ostvarenja na principu ovih konciznih i bogatih zamisli: Marks, Frojd i Ajnštajn za početnike, sada su već stekli antikvarnu vrednost.</s><s>Uključene u ediciju, koju je smislio urednik Ričard Apinjanezi, te tri knjige kolosalnih ličnosti modernog doba upotpunjene su izazovnim eklektičkim stapanjem pristupa i razmišljanja.</s><s>Bez digresija, primeri povezivanja reči i stvorene slike, na pozitivistički način usmeravaju duhovite pretrage i uvide.</s><s>Podela između pisaca teksta i autora slikovne pripovesti kroz delovanje određene ličnosti ili pojave u većini knjiga ispunjena je efektnim predstavljanjima tekstovima univerzitetskih stručnjaka ili pisaca i jednako, primenjenim ilustratorskim rešenjima na način grafičke novele.</s><s>Imajući umnogome posao svođenja i demonstracije apstraktnijih ideja ili asocijativnih povezivanja, mnogi ilustratori i strip crtači - kakav je uz Apinjanezija, jedan od inicijatora edicije - Oskar Zarate (između ostalih naslova, odgovoran za vizuelnu stranu Frojda, Lenjina, Kvantne teorije i Makijavelija) - pribegli su efektnom prelamanju svake stranice kao posebne epizode objašnjenja, stvarajući pregledna polja u parametrima brze jezgrovite informacije.</s><s>Tako Makijaveli za početnike, uz tekst londonskog istoričara i pisca Patrika Karija predstavlja renesansnu ličnost u domenu prodornih opservacija i značaja unutar aktuelnih zbivanja.</s><s>Kako je makijavelizam raxirena zamenica za prevaru i oportunizam, analiza renesansnog prototipa u društvenim neredima uzdiže se prema recepturama uspešnog kolektivnog upravljanja u duhovitim instruktivnim zapažanjima.</s><s>Izgnan od strane Medičija iz firentiske Republike, putem predstavljenih idejnih uticaja, Makijaveli postaje vesnik moderne političke misli i ponasanja.</s><s>I kako se u knjizi očigledno demonstrira, ozračje uticaja ideja iz 16.veka sudeluje u raznim vidovima ovovremene vrednosne i građanske prirode ponašanja, utemeljivši savremene političke teorije i ekonomska očekivanja.</s><s>Mobilni telefoni ili amplitude berzanskih akcija imaju zapaženo mesto, kao i Klinton, Margaret Tačer ili mapa balkanskih ratovanja.</s><s>Mislilac i pisac Vladaoca predstavljen od strane Karija i Zaratea upotpunjuje analizu temelja funkcionisanja civilizacije, ujedno u vidu republikanskih načela i oštroumnih zapažanja uspešnog upravljanja.</s><s>Ne samo kao priručnik za komandujuće kadrove i diktatore, knjiga je koncezna povest kontroverznog oslobodioca sila nemilosti u diplomatiji, poslovanju, upotrebi religije i ratovanju u ime slobode građanima firentinske republike.</s><s>Društvo u predvorju rane moderne Evrope pokazuje mehanizme koji su proistekli u pozitivne strane trgovačkih i državnih promena, preko kasnijih zakonskih preispitivanja morala Monteskjea, temelja civilnog društva i ekonomije profita.</s><s>Tako se pođarmljenost u senci slobodne trgovine i voluntarističkih načela Adama Smita ili republikanskih kritičara sticanja korumpirane moći, pokazuje trasiranom od strane Makijavelijeve misli.</s><s>Njegov republikanizam kao kasnije razvijana politička filozofija upisan je u rušenja i formiranja institucija, sezući do prelomnih decenija sticanja američke nezavisnosti i francuske revolucije.</s><s>Društveni kontrasti i aktuelizovani savremen cinizam pokazuju paradoksalni realizam društvenih odnosa Nikola Makijavelija po konciznom pogovoru knjige objašnjenog kao ličnost istinski ovovremenog političkog naučnika od središnje važnosti za postmodernističku debatu o civilnom društvu.</s><s>Njegov model vladara, tiranin Cezare Bordžija, samo je amblematska figura za užasavajuće ličnosti koje je kasnije donela istorija, a iz kojih su proistekli raznorodni nakazni oblici u usitnjenim društvima.</s><s>Tipovi vladarskih pozicioniranja i kratkih i podmuklih prevrata odvijaju se u kolektivima zamorenih, etički isfrustriranih pojedinaca organizovanih u svojoj nemoći i združenom mediokritetstvu, stanjima plodnim za demonijačke, zlobne principe lobiranja, intriga, nameštanja i podmuklog koristoljubivog otimanja.</s><s>Zbog tih osobina, pogotovo u smesi neuravnoteženih nakaznosti poznih devedesetih godina u Srbiji, promišljanje Makijavelijevih postavki iznesenih u grafičkoj i deklamacijskoj gustini odlomaka, prevoda, neposrednih povoda i aluzija postaje korisna saznajna satisfakcija.</s><s>Tako se njegov odlomak pokazuje realno opravdanim: šire zahvaćeno, ljudi i dalje proizvode i stvaraju posledice svoje gluposti, uskogrudosti i štete ne samo jedni prema drugima, već i prema ostalim oblicima života na zemlji i planeti u celosti.</s><s>Predstavljeni u zasebnim knjigama u dometu za početnike su i sledeći fenomeni: Genetika, Univerzum, Astrologija, Ekologija, Fašizam, Mafija, Holokaust, Feminizam i Postmodernizam, a otpočeli su i sa uticajnim ličnostima iz likovne umetnosti kao što je u individualnom zamahu svojih etapa bio Pikaso.</s><s>Otvorene su i izražene kontraverzne debate oko medijske suštine i tehnoloških pružanja danasnje globalne kulture oličene u Bodrijaru za početnike.</s><s>Ovaj francuski pisac, filozof, sociolog i autor fotografija, dat je u preciznim uvidima u probleme simulacije poimanja masovne kulture.</s><s>Tekst Krisa Horokosa i ilustracije Zorana Jevtića čine da se u najavama ove knjige o dejstvu ideje i zapažanja Žana Bodrijara, razumljivo postavi pitanje - da li se radi o mogućnosti izlečenja od vrtoglavice savremene kulture ili samo jednom od njenih simptoma?</s><s>S druge strane, temelje suprotnih raščlanjivanja ponašanja i sistematizacije morala, pojedinačnih postupaka i patoloških pojava civilizacije (isto tako francuskog autora) daje Fuko za početnike.</s><s>Delo istih autora iz 1997.prepliće filozofiju, istoriju, psihoanalizu i politički aktivizam upisan u savremeno iskustvo ludila, kriminala, seksualnosti i društvenih užasa, u institucionalizaciji nadziranja, kažnjavanja i discipline.</s><s>Putevi koji su Mišela Fukoa doveli do vlastitih prestupničkih pozicija sopstvene seksualnosti i političkih suprotstavljanja, objašnjeni su u grafičkoj, sintaksičkoj misiji knjige o vezama između humanističkih nauka, njihovih diskursa i genealogije suprotstavljene istoriji.</s><s>Tako se suprotnosti razuma i ludila pokazuju u vidu biografskog korpusa žive misli, po njegovoj smrti (1984), opisanog kao jedan od najvažnijih načina razmišljanja u veku.</s><s>U razmaku između medicine i pravnih sistema, Fukoova specijalnost bila je istorijsko poniranje u preispitivanju zakonitosti jezika, postupaka i razloga pojednih slučajeva u istoriji.</s><s>Govor kroz drugog bio je način metodološkog opita u znanju i istoriji, diskurs između liberalnosti i represije, gde se iskazivao subjekt kao uvid u restauraciju određenih prestupničkih ličnosti obeleženih i definisanih u istorijskoj nauci.</s><s>Tako se uspostavljena pravila diskursa pokazuju kao fenomen za sebe, u čemu je Fuko odredio društvena i kulturna polja poput porodice i zajednice u kojima se za svaku javlja i određeni tip diskursa, što se naslojavalo sve do političkog angažmana i cirkulisanja informacije u određenim institucionalnim sistemima.</s><s>Imajući u vidu čak i civilno društvo i napredne tehnologije i pravce povezivanja do kraja veka, prevratnički je izjavio: Niko od nas ne može biti siguran da će izbeći zatvor.</s><s>Policijska kontrola svakog dana postaje sve očiglednija: na ulicama i putevima; prema strancima i mladim ljudima.</s><s>Ponovo se javxa činjenica da je uvredljivo iznositi mišljenje.</s><s>Plasman i zastupljenost edicije Ikona u Britaniji naišli su na velika odobravanja pogotovo i u preobražavanju osobina nekadašnjih ponegde dogmatskih univerzitetskih nastavnika, koji su po mnogim priznanjima i sami bili zaplašeni ovim pojednostavljujućim načinom predstavljanja značajnih tema i mislilaca.</s><s>Ideja o spajanju humora i intelektualnosti, a što odlikuje veliki broj ostvarenja, pokazala se produktivnom u domenu približavanja alternativne i visoke kulture.</s><s>Na ohrabrujuću pristupačnost za sve veći broj ljudi (upravo kroz duhovitu stranu mnogih pojava) podseća glasnogovornik edicije Lori Tejlor, profesor Birkbek koledža prisećajući se jednog skeča iz TV serije Montija Pajtona: Neko kuca na Sartrova vrata, i Simon ih otvara.</s><s>- Da li je Sartr slobodan- pita posetilac, na šta mu ovaj odgovara: - Slobodan? to pitanje je pokušavao da razreši tokom celog života.</s><s>Edicija koja je u 1998.objavila i Prosvetiteljstvo i Valtera Benjamina, a u planu je i Niče za početnike, sve je više nalik na enciklopedijski posao za koji urednik i osnivač Ričard Apinjanezi izjavljuje: Bilo bi nepromišljeno da upoređujem knjige za početnike sa modelom enciklopedije.</s><s>Niti da zamišljam da sam Deni Didro (premda ni Didro nije bio Didro u 1751.godini izdavanja enciklopedije).</s><s>Ono što me zanima je u okviru dometa ovakvog posla.</s><s>Pa, iako nemamo očiglednog Voltera među našim piscima i saradnicima, verujem da je tu dovoljno prosvećenosti koja će pokrenuti naše čitaoce.</s><s>Uostalom, ko zna šta ce postati autori serije Za početnike.</s><s>Enciklopedija je imala kvalitet borhesovske umetnosti pamćenja, začarana lavirintskim etimonima, lingvističkim račvanjima stabala i krošnje znanja - u smislu metafore sjedinjenih nauka.</s><s>Oduvek je postojala neuronska mreža u ovoj potrazi za saznavanjem i stvaranjem artificijelne mašine mišljenja.</s><s>Uostalom, takvo nastojanje jasno je i kod španskog mistika Rajmona Lula iz 13.veka, svojevrsnog ranog enciklopediste, čija je bizarna logička mašina kombinovanih kruženja prethodila kompjuteru.</s><s>Konceptualizovana razmišljanja, logički ishodi ili plodne digresije u paralelna delovanja, obeležavaju pripovedni i predstavljački princip stranica množnih celina.</s><s>Približene otvaranju određenih obaveštenja koje donose softverske verzije aplikacija za Windows, knjige nude razložno iskustvo zadovoljstva i zelje, podvlačeći da se zaista sve, makar u pokušaju spoja slike i reči, može podvrći razjašnjavanju i poređenju na mentalnoj mapi odrednica trećeg milenijuma</s><s>IZMEĐU PRAVILA I KREATIVNOSTI</s><s>Razgovarala: Olivija Rušovac.</s><s>Dobri dizajneri u Jugoslaviji imaju ideje i obrazovanje, ali ne i novac.</s><s>On je na nekom drugom mestu.</s><s>Možda zato i ima toliko ružnih i nemaštovitih oglasa i plakata.</s><s>Song Dju Jong, Koreanka iz Tengua, magistrirala je iz oblasti grafičkog dizajna na Univerzitetu u Beogradu.</s><s>Tema njenog magistarskog rada glasi: Grafička identifikacija Sportskog centa Mladost.</s><s>Vođena rukom mentora profesora Miloša Ćirića, Song DJu Jong je, prema sopstvenom priznanju, shvatila da je za dobar dizajn najvažnija ideja.</s><s>Kao i mnoge moje kolege u Koreji, mislila sam o dizajnu samo u kategoriji estetskog.</s><s>Misao o ideji kod nas nije razvijena i zato se u Koreji uglavnom u ovoj oblasti samo kopira ono što donose Amerikanci.</s><s>U Beogradu sam naučila šta je kreacija, dodaje Song DJu Jong na tečnom srpskom jeziku.</s><s>Njen suprug Kim takođe govori srpski i uskoro ce magistrirati, takođe u Beogradu.</s><s>Njegova magistarska teza odnosi se na pesništvo Laze Kostića.</s><s>Song DJu Jong, je u Jugosalviju došla pre tri godine.</s><s>Iz zemlje svetla i reklame stigla je na beogradski aerodrom koji je baš tada bio u potpunom mraku.</s><s>Mislila je da je došla u pakao, plašila se rata, ali se kasnije privikla.</s><s>Da sam ostala u Koreji imala bih samo jedan svet.</s><s>U Beogradu sam mnogo čitala , diskutovala o umetnosti i književnosti i to me je izmenilo.</s><s>Postala sam nova ličnost, kaže DJu Jong.</s><s>Primećuje da je naš fakultet lošije opremljen literaturom i učilima nego u Koreji i da u prodavnicama nedostaje mnogo materijala potrebnog dizajnerima.</s><s>KAKO DIZAJNIRATI Mladost</s><s>Za razgovor sa Song DJu Jong odlučila sam se pošto sam pogledala ilustracije njenog magistarskog rada kojima su bili ukrašeni zidovi holova Univerziteta umetnosti.</s><s>Izrađeni do perfekcije, bogato i maštovito, one svedoče o jasno i čisto sprovedenoj ideji jednog sportskog centra, o postovanju pravila i kreaciji i originalnosti.</s><s>Počinje se od znaka, kaže DJu Jong i ističe da je u sportu zahvalnija ljudska figura nego rekvizit.</s><s>Potom sledi izbor između jedno i mnogo, a tek se posle unose ostali idejni elementi znaka.</s><s>Opredelila sam se da idejni projekat baziram na ideji kolo koja je zajednička svim kulturama.</s><s>To je vizuelni prikaz dobronamernog druženja.</s><s>Polazište je piktogram za informaciju mesto za okupljanje koji u sredini ima veliku tačku i četiri strelice usmerene ka toj tački.</s><s>Umesto strelice stavila sam ljudske figure, kao kolo, jer se pojam Centra odnosi na ljude.</s><s>Drugi deo ideje je olimpijski znak sa pet prepletenih krugova.</s><s>Tako je dobijena kompozicija u obliku krsta.</s><s>Pošto je znak tako rešen statičan, crtež sam postavila u perspektivu i tako dobila utisak dinamičnosti.</s><s>Ovo se postiže primenom Albertinovog metoda kvadrata u ugaonoj perspektivi.</s><s>LOGOTIP I PIKTOGRAM</s><s>Nova istraživanja vezana su za dvolinijsku tipografiju koja je oživljena različitim debljinama slova: napred u sredini i pozadi.</s><s>Takva rešenja daju ritam logotipu.</s><s>Piktogram ima zanimljivu istoriju.</s><s>Do polovine 20.veka piktogrami imaju rešenu samo funkciju, da pokažu vrstu posla koju označava figura.</s><s>Moderni piktogram je stilizovan i radi se u seriji.</s><s>Za olimpijske igre u Tokiju 1964.stručnjaci su 4 godine analizirali piktograme, i tada su postavljeni temelji nove logike i rešenja.</s><s>Reč je o kombinaciji tamne ljudske siluete i prosečenog sportskog dresa u blagoj stilizaciji figura.</s><s>Kreativni postupak kod piktograma najjasniji je u seriji.</s><s>MASKOTA, LOGOSIT I LOGOTIP</s><s>Maskota je neka vrsta savremene amajlije ili totema koja pomaže plasmanu proizvoda i treba da predstavlja živi stvor.</s><s>U grafičkoj identifikaciji to je jedini živi element.</s><s>Tražeći lik za maskotu Centra opredelila sam se za mladog vepra.</s><s>Figuru veprove glave probodene strelom videla sam na pečatu Sovijeta iz Prvog srpskog ustanka 1804, kao grb Tribalije (Tribali su tračko pleme i najstariji stanovnici severnoistočne Srbije.</s><s>Veprova glava javlja se prvi put u 15.veku u grbovniku Ulriha Rihentala kao grb srpskog carstva, a docnije se smatrao grbom Braničeva, u istočnoj Srbiji.</s><s>) Vepar je simbol hrabrosti, silovitosti i strasti.</s><s>Moja maskota mladog vepra ima kraću njušku, ruke se završavaju u špicu kao kod piktograma, a noge su izvedene u obliku opanaka.</s><s>U logositu maskota nosi upaljenu baklju.</s><s>Gornja polovina maskote je u pravougaoniku koji je isti kao i kod znaka Centra, kako bi se ispod logosita mogao postaviti logotip, pod istim uslovima kao kod znaka Centra.</s><s>Osnovne boje logosita su crvena, plava i bela, čime je dobijen srpski trikolor.</s><s>Pored slogana Mladost rumenih obraza koji podrazumeva da su rumeni obrazi vizuelni odraz zdravlja, preko bavljenja sportom u sportskom centru Mladost, zbog čega se slogan prikazuje sa znakom i logotipom, postoji i šara centra.</s><s>Ona je nastala od ideje i likovne logike logotipa: kretanje sleva na desno, od tamnog ka svetlom, u izlomljenoj liniji koja asocira na inicijal M u logotipu Mladost.</s><s>Inicijal je zajednički u ćirilici i latinici.</s><s>Ovaj geometrijski motiv ponavlja se beskrajno u plavoj boji.</s><s>PROBLEMATIČNOST SEKULARIZMA</s><s>U Beogradu je 5.i 6.juna održan međunarodni okrugli sto Crkva, država, civilno društvo.</s><s>Na skupu je učestvovao i Žarko Puhovski, profesor na Zagrebačkom sveučilištu.</s><s>Dopustite mi da svoje izlaganje započnem jednom isprikom.</s><s>Čini se, ideologijski gledano, pomalo neodgovornim, dolazeći iz postjugoslavenske i postkomunističke sredine, govoriti o prijepornosti i problematičnosti sekularizacije.</s><s>Činjenica je da u državama koje su nastale nakon Jugoslavije sekularizacije nema dovoljno.</s><s>No, problem nije tako jednostavan.</s><s>Činjenica je, također, barem po mojem sudu, da su neki od bitnih problema sa kojima smo suočeni posljednjih godina, teorijski i ideologijski, izvedeni iz rezultata jedne varijante sekularizacije.</s><s>Jednostavno rečeno, moja je teza, koja na koncu nije nova, da je suvremeni nacionalizam neposredna posljedica moderne sekularizacije.</s><s>Pod sekularizacijom bih razumio stanje u kojem religijsko mišljenje, običaji ili rituali, odnosno ustanove, nemaju neposrednu pravnu i političku posljedičnost, uz zajamčenu njihovu autonomiju.</s><s>Ono što se, međutim, odatle događa, a što je veoma često opisivano veoma zgodnom formulom Maksa Vebera očaravanje svijeta, značilo je, zapravo, u jednoj varijanti da su vrijednosti koje su bile pridavane religiji sekularizirane paralelno sa nekim neposrednim političkim procesima, u kojima dolazi do razdiobe na pravno uređenu zajednicu naspram zajednice spasa.</s><s>Pravno uređena zajednica će se naći pred pitanjem o vlastitom vrijednosnom utemeljenju.</s><s>Da preskočim stoljeća, to se, posebice, odnosi na modernu demokratski legitimiranu pravnu zajednicu.</s><s>Jer, koliko god to ideolozi demokratizacije tesko mogu priznati, bitna je pretpostavka demokracije etički relativizam.</s><s>Kad to kažem, mislim na liberalnu, tj.pluralističku demokraciju.</s><s>Bitna karakteristika demokracije je, jednostavno rečeno, da forma postaje sadržaj, a procedura nadomjesta vrijednost.</s><s>U jednoj razini analize, a to sasvim sigurno nije jedina, moderni se nacionalizam pojavljuje u demokratskom postavu kao reakcija na taj institucijski zadan relativizam vrijednosti.</s><s>On daje neku vrstu čvrstog ili barem naizgled čvrstog uporišta, riječ je nešto što se pije s majčinim mlijekom, nešto što je u varijantama srednjoevropskim, prije svega iz njemačke tradicije izvedenima, a koje su mjerodavne i za Balkan, ima mješavinu biologijske i kulturne pretpostavke; on dovodi do toga da se uspostavlja nešto što zapravo odgovara onoj često navođenoj Dirkemovoj odredbi o religiji, gdje se, zapravo, kao bitna odrednica religije navodi da je to jedna vrsta sustava vjerovanja koja vezuju ljude u skupine.</s><s>Potom je Maks Veber bio taj koji je u Privredi i društvu napisao da su Srbi i Hrvati specifičan primjer nacija koje se razlikuju isključivo po religiji.</s><s>I to je nešto što ovaj tip vezivanja u zajednicu jasno pokazuje.</s><s>Ako se, nasuprot tome, upravo u osloncu na Vebera, uzmu u obzir teolozi, kao na primjer Paul Tilih, koji vide religiju kao neku vrst koherentnog odgovora na egzistencijske dileme kao sto su rođenje ili smrt, itd, onda smo, po mom sudu, sa jednim dalekosežnim pristupom, pristupom koji će biti teško zadržati u sferi privatnosti.</s><s>Tendencija je svake religije, posebice ako je organizirana kao crkva, da se prelijeva van crkve.</s><s>Njezina je pozicija u etičkom smislu, naglasavam - etičkom smislu, fundamentalistička i to ne treba miješati sa političkim frazama iz dnevnih novina.</s><s>Jer, nasuprot drugog metodičkog tipa etika to je konzekvencionalizam ili posljedičnost koji ljudske čini etički promišlja sa stajališta toga da li je konačan rezultat dobar ili loš.</s><s>Fundamentalizam, ili apsolutizam, kako se kad i kad naziva, odbija svaku mogućnost da činimo makar i najmanje zlo, neovisno o tomu kakvo bi smo dobro mogli postići.</s><s>Ako, međutim, odbijemo konzekvencionalizam, onda postavljamo tako visoki etički standard koji ljudski ne možemo izdržati, standard koji nas neposredno postavlja u situaciju greha, odnosno dovodi crkvu u poziciju da bude ustanova reproduciranja greha.</s><s>Međutim, u bilo kojoj varijanti, čovjek koji ozbiljno vjeruje u svoje vrijednosti ne može tek tako gledati kako oko njega teče zivot koji te vrijednosti nipodaštava.</s><s>Od njega se traži intervencija ili, da citiram veoma zgodan, moglo bi se reći slogan, Karla Jaspersa: Promatranje nije egzistencija.</s><s>Sudjelovanje je egzistencija.</s><s>Odatle, sekularizam samo naizgled oslobađa društvenu sferu vrijednosti, jer - vakum je u ovom smislu zapravo neprirodan - on će biti ispunjen drugim vrijednostima, najčešće vrijednostima nacionalne baštine ili tradicije.</s><s>U tom kontekstu je, posebice za naše okolnosti, veoma primjerena formula o izmisljanju tradicije kojom se upravo nacionalizmi bave.</s><s>Dopuštam sebi primjer iz svoje države - molim da se ovo \"svoje\" shvati formalno-pravno.</s><s>Hrvatska je nedavno proslavila osmogodišnjicu državnosti u državi koja formalno postoji šest i pol godina.</s><s>Hrvati se često, po mojem sudu, s pravom zabavljaju na račun srpske fascinacije Kosovom, ali Srbi barem imaju taj izgovor da su njihove legende šest stotina godina stare, pa je jako teško provjeriti što je zapravo bila istina.</s><s>Mnogo je indikativnije da živimo u državama koje su u stanju izmisliti legende stare od šest do osam godina.</s><s>To je ta razlika između, po mojem sudu, sekulariziranih i nesekulariziranih vrijednosti.</s><s>Nesekularizirane vrijednosti nemaju u svojoj konstituciji potrebu za dokazivanjem istina, one su obznanjene kao vjera, a sekulizirane nisu ništa manje mitskoga karaktera, ali iza sebe imaju tvrdnju kako su, ujedno, dokazivo istinite i time su, zapravo, opasnije po istinu.</s><s>U prvom slučaju, imate naprosto bajku - tko hoće može vjerovati, tko neće ne mora, barem u naše vrijeme, a u drugom slučaju imate nešto što za sebe tvrdi da je znanstveno, najčešće povjesno fundirano, a to je, naravno, mnogo teže intelektualno opterećenje.</s><s>Povijest sekularizacije počinje u političkoj filozofiji s Makijavelijem i zato ga teolozi, tako očito, ne vole.</s><s>Konzekvenca toga jest jedna formula koju su demokrati, liberali i ljevičari uvijek napadali.</s><s>Formula glasi autoritas non veritas.</s><s>To je formula sekularizirane države i ona je, u političkom smislu, manje zlo od obrnute formule, koliko god to paradoksalno zvučalo.</s><s>Jer, zakon jest, kako to Fuko u jednom od svojih posljednjih predavanja kaže, također ratno stanje.</s><s>Stanje rata sa prekrsiteljima, a ne, naizgled, mir nasuprot ratu i taj zakon, kako znamo, počiva u osnovi na moći.</s><s>Ako imamo sreće, on će biti odličan, ako imamo puno sreće, bit će pravedan, ali istinitost mu uopće nije dana kao zadaća, jer to nije zadaća zakona u modernoj državi.</s><s>Kad govorimo u tom kontekstu o rađanju nacionalizma iz duha sekularizacije, onda se pokazuje kako je nacionalizam ono što su stari vjerski autori nazivali idolopoklonstvo u punome smislu riječi.</s><s>Pre dva tjedna je u Zagrebu bila homilija nadbiskupu Stepincu, u kojoj je jedan svećenik nota bene doslovce rekao kako je za Stepinca čovjek bio najviša vrijednost.</s><s>Ne može se biti ni vjernik, a kamoli kardinal, ako je za vas covjek najviša vrijednost.</s><s>Covjek kao imago dei je vec drugorazredna vrijednost, a nacija će u nacionalističkoj varijanti biti ona po čijem liku se mi uspostavljamo.</s><s>Bogu barem možemo, po želji, priznati pozitivne karakteristike, ako u njega vjerujemo.</s><s>To se često kod nacionalista čini sa nacijom, jedino što nacionalisti tvrde da za to imaju empirijsko pokriće, tvrde da su pripadnici njihove nacije lijepi kao takvi i ne priznaju nikakav prigovor na to.</s><s>U odnosu, dakle, na modernu državu, za koju je jedan poznati njemački pravnik rekao da nastaje upravo sa procesom sekularizacije, dogodilo se da u odnosu države i crkve treći član, civilno društvo, ostaje, rekao bih srećom, po strani.</s><s>Ono što, međutim, njih politologijski povezuje jest stroga vertikala u njihovoj izvedbi, hijerahija.</s><s>Nasuprot tomu, načelo civilnog društva jest stroga horizontalnost.</s><s>Načelo civilnog društva jest u tomu da vrijednost jedne osobe, koju ne zastupa ni jedna druga osoba u društvu, ima jednako mjesno važenje, kao i vrijednost koju zastupaju svi ostali.</s><s>Imamo, dakle, dvije vrijednosti i načelo većine tu ne važi i zato je prava sekularizacija, radikalna sekularizacija, da tako kažem, moguća tek onda kada se, ono što je država ućinila sa crkvom, oduzevši joj, ne rijetko nasilnim putem, privilegiju monopola na vrijednosti, barem pokuša iz pozicije civilnoga društva učiniti dostupnim.</s><s>Kolega Cvitković je u jednom trenutku rekao da je poteškoća s postkomunističkim državama u tome što imamo jednu crkvu koja je superiorna, a da bi za toleranciju bilo dobro da su tri crkve, ili tri vjere, ravnopravne.</s><s>Međutim, tolerancija nema smisla u ravnopravnosti.</s><s>Ja mogu da toleriram samo ono što mogu, a ne želim da zabranim.</s><s>Dakle, tolerantan je samo onaj tko ima moć.</s><s>Ne smije se mješati nemoć i tolerancija.</s><s>Ja ne mogu biti tolerantan ako nisam moćan; samo kada sam superioran mogu biti tolerantan spram nečega što mi se ne sviđa, ali sam zbog nekog višeg načela odlučio ne intervenirati.</s><s>Dakle, tolerancija ima smisla u Makedoniji, ako su tačni ovdije izneseni podaci, da tamo postoji samo 0,3% ateista.</s><s>Ako su podaci točni, onda je tamo nužna tolerancija prema jednoj irelevantnoj manjini.</s><s>U odnosu 33, prema 33, prema 33 - nema tolerancije, nego je to ravnoteža.</s><s>Jos jedna stvar.</s><s>Kod nas jesu bile sekularizirane vrijednosti, ali iz njih nije nastala civilna religija, nego je nastala religija rata i to je ono što je tragedija ovog kraja.</s><s>Jer, sekularizirane su vrijednosti shvaćene u formuli do istrage naše ili vaše.</s><s>Mržnja spram Drugoga je imala mnogo veće posljedice od prave ljubavi i dogodilo se ono što Njemci nazivaju veselje u šteti ili, kako mi to kazemo, da susjedu crkne krava.</s><s>To je jedan tip interpretacije sekularno-religijske svijesti pod imenom nacionalnog.</s><s>Kod nas je, na žalost, proces sekularizacije pomagao militarnost i imao je, u smislu civilnosti, kontra efekte.</s><s>Sedma Božja zapovijest.</s><s>Ne bih imao poteškoća prihvatiti da su deset božjih zapovjesti osnova jedne moralnosti zapadne civilizacije, neovisno o tome da li su one božje ili ne, kada tu ne bi bilo jedne zapovjesti s kojom imamo poteškoća.</s><s>To je ona koja kaže: Ne poželi ženu bližnjega svoga.</s><s>Ovde se ne radi o odbrani promiskuiteta, nego se radi o glagolu poželi.</s><s>Nije rečeno ne poželi tuđe stvari, rečeno je ne ukradi.</s><s>Da je rečeno, da vulgariziram, ne uštipni ženu bližnjega svoga, to bih mogao prihvatiti ili, recimo, nemoj napastvovati ženu bližnjega svoga.</s><s>Ali, ne mogu prihvatiti moralni sustav koji želju inkriminira, jer je zelja prije čina, pa čak, možda, i prije svijesti.</s><s>Znam da se danas teolozi pokusavaju izvuci na razne nacine, interpretirajući pojam želje mimo izvornog značenja; ali s tom odredbom je deset božjih zapovjesti za moderni moral neprihvatljivo, jer znači totalitarnu intervenciju u privatnost osobe.</s><s>To je moje duboko uvjerenje.</s><s>Politički klerikalizam</s><s>Kad govorimo o pluralizmu, indikativno je da, gledate li literaturu, gotovo podjednako i liberalni, i kršćanski autori, s indignacijom odbijaju ideju političkog klerikalizma kao pogrešnu i pogubnu.</s><s>Meni se nasuprot tomu čini, tu sam veoma usamljen, da klerikalizam uopće nije nešto tako loše.</s><s>U demokratskom društvu uopće nije tako loše da postoji jasna politička opcija neposredno vezana za crkvu, ako ona to hoće, jer ona time priznaje pluralizam vrijednosti kao osnovu demokracije, u što, inače, nismo baš kod svih crkava sigurni.</s><s>Vjeronauk ili nešto drugo Trebali bismo imati komparativne religijske kulture kao predmet koji bi obavještavao učenike što je to što nazivamo kršćanskom, pa onda katoličkom, protestantskom, pravoslavnom, islamskom i nekom drugom kulturom, kako bi se u literaturi i svemu drugome mogli snalaziti.</s><s>Meni se, pak, čini da nastavu religijske kulture ne mogu izvoditi samo svećenici ili svećena lica.</s><s>Tako dugo dok postoji predmet u školi, ma kako se on zvao, koji mogu izvoditi samo svećenici meni se čini, da sekularizacije nema.</s><s>To je za mene načelno pogrešno.</s><s>Ko hoće imati vjeronauk ima crkve, inače se državu upliće u određivanje o tomu tko je ovlašten za religijsku naobražbu ili vjeronauk; a to zapravo znači da se daju državi neke ingerencije koje ona ne može imati, a crkvi ingerencije ulaza u državnu ovlast nad školstvom.</s><s>PINA BAUS I NEMAČKI PLESNI TEATAR</s><s>Piše: Dubravka Đurić</s><s>Pina Baus (Pina Bausch) je rođena 1940.godine u Nemačkoj.</s><s>školovala se u Esenu u školi Folkwangschule, koju je vodio Kurt Jos (Kurt Jooss), pored Meri Vigman (Mary Wigman) najuticajniji učenik Rudolfa fon Labana (Rudolf von Laban).</s><s>Krajem pedesetih školovala se u Sjedinjenim Američkim Državama, u čuvenoj školi Julliard School of Music.</s><s>Od 1973.vodi Plesni teatar Wuppertal.</s><s>Nemački plesni teatar (Tanztheater) obnavlja tradiciju nemačkog ekspresionističkog plesa, a najpoznatiji je izvan Nemačke upravo po radu Pine Baus i njene trupe Wuppertal Tanztheater.</s><s>Pomenućemo predstave: ''Posvećenje proleća'' (1975), ''1980'' (1980), ''Na planini se čuo krik'' (1984), itd..</s><s>Pina Baus svojim teatrom želi da provocira emocionalne reakcije publike i, kako zaključuju neki kritičari, u tome uspeva.</s><s>Budući da je učenica Kurta Josa i Entonija Tjudora (Anthony Tudor), ne iznenađuje činjenica da se bavi ljudima i uslovima u kojima oni žive, i da na sceni izražava neprijatna i uznemirujuća osećanja.</s><s>Ona gledaoce primorava da se suoče sa osećanjima koja bi većina ljudi želela da sakrije.</s><s>To je i jedno od bitnih svojstava nemačkog ekspresionističkog plesa.</s><s>Predstave plesnog teatra Wuppertal raspoloženjem i dramaturgijom pričaju o veoma ličnim promašajima ''junaka'' i ''junakinja'', o frustracijama pojedinaca.</s><s>Scene se u ogoljenom vidu strukturalno nižu na pozornici.</s><s>Predstave Pine Baus su revije psiho-patologije svakidašnjeg života.</s><s>Te revije pokazuju nemogućnosti i ograničenja koje nameću društvene norme i društvene igre.</s><s>Sve je to propraćeno obaveznim bausovskim smeškom.</s><s>S druge strane, predstavljene dečije igre u repetetivnim ponavljanjima razotkrivaju svu okrutnost.</s><s>Emil Hrvatin ističe da Pina Baus gradi teatralnost na odnosu prema plesu i telu plesača i plesačice.</s><s>Dinamika teatralnosti je zasnovana na napetosti između imaginarnog i simboličkog, u kojoj provaljuju elementi realnog.</s><s>Telo je teatralni objekt par excellence.</s><s>Pina Baus se zanima za telo, ali ne teži oblikovanju novog plesnog govora.</s><s>Subjekt njenog plesa je telo koje pati i trpi, a ono je stalni predmet istraživanja nemačkog ekspresionističkog plesa.</s><s>U njenim koreografijama izraženo je ironiziranje baleta i društvenih plesova.</s><s>Ona teatralno zahvata tradicionalne oblike i upotrebljava ih kao označitelje.</s><s>Ograničen opseg ''pokreta'' u plesnom teatru izraz je njegovog antiestetskog stava.</s><s>Kada Pina Baus objašnjava da je mnogo ne zanima kako se ljudi kreću već ono što ih pokreće, obraća se i klasičnom baletu, koji represivnost maskira lepim akrobatskim i čarobnim spektaklima.</s><s>Ples postoji, ali je često prekriven slojem imaginarnog i simbolnog, koji su upisani u telo plesača/plesačice.</s><s>U tom smislu, ova koreografkinja i izvođačica razlikuje ''predplesno'' stanje tela.</s><s>To znaći da je suštinski materijal nove teatralnosti postalo telo u svim aspektima svoje pojavnosti.</s><s>To nije telo u antropološkom smislu, koje se obraća ritualnom u pozorištu tragajući za ''prvobitnošću''.</s><s>Traganje za prvobitnošću u plesu podstakla je Isidora Dankan.</s><s>Nasuprot tome, kod Pine Baus u pitanju je telo upisano u specifične simboličke strukture.</s><s>Ona prikazuje napetosti između imaginarnog tela plesača/plesačice i njegove/njene upregnutosti u simbolne strukture plesa, pozorišta, društvenih konvencija manifestovanja samog tela.</s><s>U toj napetosti, piše Emil Hrvatin, koja konstituiše teatralnost, imaginacija plesača/plesačice sudara se s represivnošću simboličkog.</s><s>I Johanes Biringer (Johannes Birringer) ukazuje na važnost tela u plesnom teatru Pine Baus.</s><s>Granična linija u njenom teatru je konkretno ljudsko telo.</s><s>To telo ima specifične kvalitete i ličnu istoriju.</s><s>Ali to je i telo o kojem se piše, koje je upisano u društvena prikazivanja roda, rase i klase.</s><s>Najcešće smatramo da su reprezentacije tela same po sebi date, bez obzira da li se pojavljuju u reklamama, filmovima, fotografijama, pornografiji ili u lepim ''večnim'' pozama baletskih igrača i igračica.</s><s>Međutim, Biringer ističe da svaka poza, svaki kadar i svaki pokret tela učestvuje u specifičnoj prikazivačkoj ekonomiji kojom upravlja kultura.</s><s>Kultura određuje ono što ćemo videti kao realnost.</s><s>Pina Baus nas okrutno suočava sa konvencijama prikazivanja seksualizovanog tela, sa normama koje više ne primećujemo, usled automatizovane percepcije ''naturalizovanih'' konvencija.</s><s>Tako, na primer, u njenim predstavama žene poziraju ili su stavljene u pozu kao žrtve društva.</s><s>Ona ih smešta u kontekst ironičnog tretiranja brehtovskog didaktizma.</s><s>Često se suočavamo sa nepomičnim plesačima i plesačicama i poznatim ritualima izvođenim sa snažnim emocionalnim intenzitetom.</s><s>Scene su tako konstituisane da nas sam proces posmatranja primorava da postanemo svesni njegovih konvencija.</s><s>S druge strane, plesači i plesačice su svesni prisustva publike i istražuju odnos prema njoj.</s><s>Mada se retko bavi specifičnim karakterima, Pina Baus pokazuje prepoznatljive tipove ljudi - na primer, ženu koja dugo pati u predstavi ''Plavobradi'' (1977).</s><s>Glavni muški izvođac je vuče po podu i ona se na kraju davi pod mnogim slojevima odeće u koju se obukla.</s><s>Grabežljivo ili patetično, muškarci i žene tragaju za ljubavlju u ambijentu plesne dvorane u delu ''Kontakthof'��(1978).</s><s>Bitka između polova nazire se u mnogim radovima, a ponekad se izražava prikazivanjem brutalnog nasilja.</s><s>Žene su najčešće prikazane kao žrtve, a muškarci kao napadači.</s><s>Grupa muškaraca nasilno grli ženu u predstavi ''Kontakthof'.</s><s>U ''Plavobradom'' usamljeni napadač lako dolazi do žena, koje ne pružaju otpor nasilju.</s><s>Komad 'Plavobradi'' obrađuje temu o opsesivnom muškarcu sadisti koji ubija voljene žene.</s><s>U predstavi ''Na planini se čuo krik'' plesačica uvek iznova kleči da bi je njen muški tlačitelj kaznio.</s><s>Preteća figura izvođača zamenjuje mnoge očeve i ljubavnike koji se kao deca igraju oružjem, da bi naučili takmičarska pravila igre.</s><s>Lepota žene se ističe u scenama kada se one igraju poput deteta, ili kada im je lice prekriveno dugom kosom, ispod koje se samo nazire.</s><s>Ove predstave pokazuju kako pojedinci osećaju psihičku prisilu da učestvuju u igrama koje igraju zreli ljudi, žudeći za priznanjem, naklonošću i prihvatanjem u društvu.</s><s>Ispod krhke vanjske politure društvenih konvencija, koje negiraju senzualnu slobodu, jasno vidimo ljudsku psihu kako se suočava i bori sa njima.</s><s>Popularne romantične pesme i holivudski klišei postavljeni su nasuprot tragikomičnim efektima koje proizvode plesači ''ispunjenjem'' naših očekivanja.</s><s>Plesaći i plesaćice pokazuju koliko su lepi, ispunjeni ljubavlju i koliko mogu biti uspešni kada ispoljavaju agresivnost, ali i koliko očajnički žude za komunikacijom.</s><s>Ovakve eksplicitne reference prema društvenoj realnosti u teatru ističu proces kroz koji ''koreografija društvene psihe'' Pine Baus prevodi emocionalne potrebe (opresivne prirode koje pretpostavljaju specifične ženske i muške forme) u širu konstelaciju odnosa kulture prema žanrovima koji su u srži takvih odnosa.</s><s>Bez napora, predstave uvek iznova prelaze granice žanrova, od ljubavne pesme, filma, baleta, revije, cirkusa do društvenog plesa.</s><s>Svako takvo prelaženje učinjeno je svešću o sadržaju i potencijalnim zabranama koje nameću izabrane forme.</s><s>Očekivanja publike, kao i odgovori na forme inkorporirani su u parodične događaje na sceni.</s><s>Pina Baus primenjuje princip montaže nasleđen od brehtovskog teatra.</s><s>Koristeći ga, ona prepliće ceo repetitivni katalog gestova i ponasanja kojima pojedinci predstavljaju sebe u najboljem svetlu.</s><s>Izvođači i izvodjačice su često obučeni u neuglednu savremenu odeću i izgledaju kao obični muškarci i žene, a zapravo su izuzetno utrenirani plesači.</s><s>Njihove aktivnosti, od kojih neke izgledaju kao sasvim obične, značenjski su istaknute.</s><s>Muškarac u ''Plavobradom'', na primer, posesivno pali i gasi traku na kojoj je snimak opere ''Zamka Plavobradog'' Bele Bartoka po kojem je komad dobio ime.</s><s>Biringer objašnjava da su, u radu Pine Baus i drugih posleratnih nemačkih koreografa, parodija konvencije i istina parodije, uvek povezane sa osećanjem ličnog iskustva istorije.</s><s>Potisnuta sećanja na traume iz detinjstva mogu se nadoknaditi samo ako neko sluša dovoljno pazljivo ponavljanje socijalizovanog tela.</s><s>Tako nam izvođačica u predstavi ''1980'' stalno ponavlja priču kako se kao dete plašila mraka i kako je plakala sama u mračnoj sobi, kako je dadilja ulazila, palila svetlo i tukla je.</s><s>Nekonvencionalnost Pine Baus manifestuje se i kada uzmemo u razmatranje površine na kojima njeni igrači i igračice igraju.</s><s>U ''Obredima proleća'' pozornica je prekrivena zemljom, a u ''Arijama'' vodom do članaka.</s><s>Oni se kupaju u bazenu sa lažnim nilskim konjem u ''Arijama'', povremeno govore, pevaju, viču ili se smeju.</s><s>U predstavi ''1980'' ispovedaju strahove ispitivaču.</s><s>Ivet Biro (Yvette Biro) piše da su tri sata izvođenja predstave ''Nur Du'' prepuna događaja.</s><s>Nižu se nadanja i agresije, nesretni slučajevi i katastrofe, zavođenja i nostalgične strasti kuju zastrašujući plan.</s><s>Pina Baus tokom dugih napornih proba koristi operativne reči.</s><s>Ona postavlja pitanja izvođacima, prisiljavajući ih da smisle najprikladnije, najličnije odgovore na zahteve zamišljene situacije.</s><s>Nižu se pitanja: šta znači postaviti nekom zamku?</s><s>Pričanje priče stvara samo zvuke i buku.</s><s>Pokoriti ili se osvetiti.</s><s>Poziranje za fotografije.</s><s>Naljutiti se.</s><s>Mrmljati psovke.</s><s>Svaki zadatak podrazumeva pravo lice stvari, da bi pronašli samo njihovu ličnu realnost.</s><s>Ta realnost se zatim prevodi u očaravajući jezik gesta, kretnji, zvukova.</s><s>Često se oblače u odeću suprotnog pola.</s><s>Pa ipak, rad Pine Baus se često usredsređuje na nemogućnost da se komunicira ili uspostavi kontakt, na nedostatak saosećanja između pojedinaca i između polova.</s><s>Gorčina, ljutnja i brutalnost kao da dominiraju njenim teatrom.</s><s>Pošto proizilazi iz plesa, psihopatologija prisutnosti će se reflektovati u odnosu prema baletu i nepsihološko-realističkom pozorištu.</s><s>Bauseva iz plesača povlači krutost i jednodimenzionalnost baletskog rituala, ali umesto virtuoznosti, lepotica i lepotana - postavlja ih kao osakaćena, neoblikovana tela, umorna i zamorena dosadom.</s><s>Oni zbunjeno pokušavaju da sakriju fizičke nedostatke (grudi su male, nos je veliki, haljina nikada sasvim ne pristaje).</s><s>Svi ti elementi mešaju se sa provalom bolesnog egzibicionizma, kojem članovi trupe plješću.</s><s>U ranijem radu Pina Baus nije bila toliko zainteresovana za groteskne aspekte muškog nasilja .</s><s>U njenom koreografskom tretiranju ''Obreda proleća'' Stravinskog, ritualni ples stalno se iznova izvodi do trenutka potpune iscrpljenosti izvođača i izvođačice.</s><s>On je bio sredisnja metafora za dobro uvežbano ponasanje muškaraca koji slede pravila društva i usredsređuju se na žene koje postaju žrtve.</s><s>U ''Arijama'', pozornica je pokrivena vodom i okružena ogledalima koje stvaraju nadrealne površine.</s><s>U nizovima parodičkih slika narcističkog samoposmatranja, u ''Arijama'' dominira melanholično raspoloženje izazvano stalnim naporima pojedinca da se samoizrazi i da pokaže samorazumevanje uprkos mehaničkom nasilju koje tako često dominira pojavnostima.</s><s>U kasnijim teatarskim radovima takvi napori postaju komični jer doslovno iznose lepe metafore naših opera i klasičnih baleta.</s><s>U ''Arijama'' kraljice iz bajki i dive oblače i groteskno ukrašavaju njihovi partneri, uranjajući u fraze pokreta i litanije reči.</s><s>Oni izgledaju i zvuče besmisleno u poređenju sa junacima klasičnih opera.</s><s>Biringer zaključuje da gledajući ove predstave dobijamo utisak kao da fotografišemo društvo osuđeno da potiskuje svoje katastrofične zelje u stalnoj maskaradi optimizma i neprekidne zabave.</s><s>On opisuje da je početkom osamdesetih godina američka publika negativno reagovala na nasilje prikazano u predstavi Pine Baus ''Na planini se čuo krik'', i pita se zašto su reakcije bile takve.</s><s>Zašto publika nije reagovala na usredsređen proces koji vodi od patosa samoapsorbovane seksualne opsesije do većih modela koji razotkrivaju činjenicu da društvo stalno tezi da porekne posledice svoje stalne agresivnosti.</s><s>Nemački plesni teatar i američki postmoderni ples imaju zajedničke korene, ali su se razvijali u različitim pravcima.</s><s>Johanes Biringer ističe snažan uticaj Mersa Kaningama (Merce Cunningham) u Sjedinjenim Američkim Državama, bez kojeg se danasnji američki postmoderni ples ne može razumeti.</s><s>Kaningam je programski odbacio stil modernog plesa Marte Gream (Martha Graham).</s><s>Odbacio je njegovo naglašavanje emocija, teatralnih kostima, karaktera, dramskog fraziranja i naracije.</s><s>Biringer objašnjava razliku između američkog postmodernog plesa i nemačkog plesnog teatra.</s><s>Američki postmoderni ples je formalan i usredsređuje se na pokret.</s><s>Nemački plesni teatar bavi se konkretnim emocionalnim i društvenim kontekstom.</s><s>Ovi različiti kulturološki konteksti ukazuju na različito shvatanje odnosa forme i sadržaja.</s><s>Uobičajeni rečnik koji podrazumeva značenja reči kao što su ''pokret'', ''naracija'', itd, u različitim kulturološkim kontekstima ne podrazumeva isto značenje.</s><s>Reči se ponovo moraju definisati s obzirom na specifične estetske, ali i političke dimenzije konteksta unutar kojeg se upotrebljava.</s><s>Na primeru plesova američke postmoderne plesačice Lore Din (Laura Dean), Biringer ukazuje na lepotu kvaliteta pokreta ili ritmičkih formi, značajnih za američki ples.</s><s>Nasuprot tome, nemački koreografi ispituju uslove samih društvenih performansa.</s><s>Oni ispituju uloge koje se identifikuju zahvaljujući rodu i ponašanju koji određuju naše međusobne odnose prema našoj kulturi u najširem smislu.</s><s>Društvene uloge i ponašanja nisu uvek lepi.</s><s>Zato nemački koreografi dramatizuju različite slike prostitucije, samougnjetavanja, teskobe i samo ponižavanja.</s><s>One se realistički postavljaju nasuprot popularnim mitovima o lepoti, sreći i uspehu.</s><s>Realnost fantazija, predstavljena je svakodnevnom rutinom i uvek ponavljanim naporima da se impresioniraju drugi.</s><s>Ta realnost je pokazana kao konstruktivna mreža internalizovanih društvenih konvencija.</s><s>U jednoj sceni, plesači paradiraju ispred velikih ogledala, a pre toga, ogledala su vezana za njihova leđa.</s><s>Vidimo ih kako nose teret sopstvenih slika.</s><s>Biringer ističe da se repetitivni mazohistički rituali Pine Baus i borba za ljubav i priznanje koje njeni plesači izvode jedni u odnosu na druge sa agresivnim pretvaranjem, mogu razumeti kao implicitna kritika društva.</s><s>S druge strane, piše on, da bismo ovu umetnost shvatili kao oblik kulturološke intervencije, moramo se setiti specifične nemačke teatarske, operske i baletske tradicije čiji su klasici uvek dominirali repertoarom od države finansiranih pozorišta.</s><s>Protiv tog repertoara i njegovih društvenih i političkih implikacija pobunile su se žene - koreografi, istinske naslednice Brehtovog epskog teatra.</s><s>One su to učinile sa žarom, budući da su bile svedoci uspešne rekonstrukcije starog patrijarhalnog poretka, ubrzo nakon što su se stišale strahote fašizma proizašle iz zapadne civilizacije.</s><s>Nasuprot tome, emancipacija ''čistog plesa'' u Sjedinjenim Američkim Državama postignuta je kada je Kaningamova generacija sebe oslobodila ne od prisila struktura finansiranih od države, već od emocionalne drame karakteristične za koreografije prethodnih koreografa.</s><s>S druge strane, u američkoj kulturi bodi-bildinga i aerobika slike patnje i straha remete uspostavljeni pejzaž, remete retoriku lepog, moći i brzine u tehnološkom Diznilendu.</s><s>Biringer zaključuje da su slike nasilja prihvatljve u filmovima i na MTV-u, gde se mogu izvesti tako da izgledaju lepe.</s><s>Ali u plesu niko ne bi želeo da vidi nakazna tela žrtava koja čak i ne plešu sve vreme.</s><s>SLAVENKO GRGUREVIĆ</s><s>Predsednik Lige za zaštitu privatne svojine i ljudskih prava</s><s>Razgovarali: Slavko Živanov i Milorad Đurić</s><s>Liga je formirana 1995.godine od brojnih organizacija i udruženja građana nastalih u periodu 1991.- 1994..</s><s>Članovi Lige su mali i srednji preduzetnici, zemljoposednici, naslednici nekadašnjih preduzetnika i vlasnika oduzete imovine od strane komunističkog režima bivše i sadašnje Jugoslavije, opljačkanih stediša, penzionera, brojnih uglednih ličnosti iz javnog i naučnog života Srbije i Crne Gore.</s><s>Osnovni cilj Lige je - kreiranje podrške i konkretno učešće u ravnoju procesa privatizacije, demokratskih institucija, pravnog ambijenta neophodnog za sprovođenje temeljnih društvenih i ekonomskih reformi u Srbiji i Crnoj Gori.</s><s>Liga neposredno sarađuje na najvišem nivou sa vodećim poslovnim krugovima u svetu, finansijskim institucijama (MMF, Svetska banka) i drugim organizacijama (UN, UNICEF, Helsinški komitet, CIVICUS).</s><s>Liga je inicirala i organizovala Savet za saradnju nevladinih organizacija u koji se uključilo preko sedamdeset nevladinih organizacija različitog profila: profesionalna udružena, nezavisni sindikati, udruženja građana za zaštitu ljudskih prava i dr..</s><s>KOŠAVA: U jednom od ranijih tekstova govorite o Privredniku - Srpskom privrednom društvu, osnovanom u Zagrebu krajem XIX veka, kao dobrom primeru građanskog samoorganizovanja.</s><s>Kakva je bila sudbina građanskih udruženja na našem prostoru u proteklih sto godina?.</s><s>GRGUREVIĆ: Ideja civilnog društva nije novost na ovim prostorima.</s><s>Hteo bih, pre svega, da vas podsetim da je još u Kraljevini Jugoslaviji - ali i ranije, u Srbiji i drugim južnoslovenskim zemljama gde su živeli brojni narodi, postojao i razvijao se duh građanstva.</s><s>To se najpre odnosi na velike porodice koje su ostavile dubok trag u našoj istoriji.</s><s>U Novom Sadu, Petrovgradu (Velikom Bečkereku), Somboru, Vršcu, Beogradu, Nišu, Kragujevcu, Kraljevu i drugde, postojao je i razvijao se duh evropejstva, tolerancije i nacionalnog dostojanstva.</s><s>Duh građanstva se razvijao u brojnim udruženjima koja su osnivana još pre prvog svetskog rata.</s><s>To nije bio samo Privrednik koji je okupljao više desetina hiljada zanatlija i trgovaca - koji su pak i sami osnivali druga građanska udruženja, na primer za školovanje dece iz siromašnih zanatlijskih i seoskih porodica.</s><s>Između dva svetska rata su formirana brojna humanitarna društva, društva za vaspitavanje dece i omladine, razne vrlo uticajne organizacije: sokolska udruženja, ženska društva, sportska i prosvetna udruženja, itd.</s><s>Štedljivost, marljivost, patriotizam i poštovanje tuđih merila i vrednosti bili su osnovne odlike domaćeg vaspitanja u našim porodicama i to ne samo u gradskim sredinama.</s><s>Sazrevanje građanstva išlo je naporedo sa postupnim i mukotrpnim stvaranjem srednje klase u Kraljevini Jugoslaviji, što je nasilno prekinuto stradanjima u Drugom svetskom ratu i odmah po njegovom završetku - kada su predstavnici građanske klase fizički maltretirani, ubijani i proganjani od strane komunističkog režima.</s><s>Zato je ideja civilnog društva u komunističkoj Jugoslaviji proskribovana kao buržoaska.</s><s>Razlog je jednostavan: građansko društvo (građanin - na francuskom burzoa - bourgeois) je smatrano najvećim neprijateljem komunizma.</s><s>Sredinom osamdesetih godina ponovo dolazi do razvoja srednje klase u Jugoslaviji, koja je potom surovo uništena u ratnim razaranjima, totalnoj destrukciji i opštoj kriminalizaciji na području Srbije i Jugoslavije.</s><s>Mi smo sada ponovo na početku, a sama ta činjenica kazuje da bez srednje klase nema očekivanih društvenih promena.</s><s>Ako ista može spasiti Srbiju, to je uzdizanje srednje klase i razvoj civilnog društva.</s><s>KOŠAVA: Širom sveta civilna udruženja igraju kljucnu ulogu u razvoju demokratije.</s><s>Početkom devedesetih, nevladin sektor oživljava i u Srbiji.</s><s>U kojoj meri su naše nevladine organizacije nosioci društvenih promena?</s><s>GRGUREVIĆ: Jedan od glavnih nosilaca civilnog društva su nevladine organizacije.</s><s>Tu spadaju razna društva i udruženja, forumi, fondovi, klubovi i pokreti.</s><s>Njihove bitne karakteristike su: da ih nije stvorila vlast (iako vlast može sarađivati sa njima); da su neprofitne, odnosno da svoje prihode ne koriste nizasta drugo osim za sopstveno funkcionisanje; da je učešće u njima uvek dobrovoljno; da imaju elementarnu infrastrukturu (članove, izborne organe, statut i sl.</s><s>); i da su autonomne.</s><s>Vladavina prava je temeljno načelo u funkcionisanju ovih organizacija koje isključuje voluntarizam lične vlasti, piramidalnu strukturu, princip jednoobraznosti i vladavinu većine nad manjinom.</s><s>Širom sveta ove organizacije igraju klučnu ulogu u razvoju demokratije, promociji pluralizma, jačanju uloge pravne države, borbi protiv siromaštva, i sl..</s><s>Sektor nevladinih organizacija je postao osnovna ekonomska snaga nacija širom sveta, u njemu je angaxovano na desetine miliona ljudi koji sve više pomažu oblikovanje nacionalne strategije i politike.</s><s>KOŠAVA: Jesu li nevladine organizacije partneri ili suparnici političkim strankama?</s><s>Ili se radi o paralelnim procesima?</s><s>GRGUREVIĆ: Zadatak političkih organizacija je da artikulišu i sprovode zahteve nevladinih organizacija.</s><s>Otuda nevladin sektor koji okuplja interesne neprofitne i lobističke organizacije ne funkcioniše kao politička organizacija, ali utiče na formiranje političkog mišljenja.</s><s>Zato su političke organizacije i nevladina građanska udruženja saradnici u procesu demokratizacije i stvaranju građanske atmosfere u svim zemljama sveta.</s><s>U SR Jugoslaviji je razvoj ovog sektora na početku: procenjuje se da na području Srbije i Crne gore funkcioniše oko pet hiljada ovakvih udruženja (u Hrvatskoj 12.000, u Mađarskoj 17.000, u Nemačkoj 820.000, u Francuskoj 600.000, a u SAD 1,200.000).</s><s>KOŠAVA: Nalazite se na čelu Lige za zaštitu privatne svojine i ljudskih prava, jedinstvene organizacije na području Istočne Evrope.</s><s>Privatna svojina je temeljno načelo na kojem počivaju moderna društva.</s><s>Možemo li kroz kategoriju privatne svojine razmišljati o razrešenju nekih aktuelnih problema - Kosova, na primer?</s><s>GRGUREVIĆ: Početkom devedesetih godina među malobrojnim nevladinim organizacijama bila su i udruženja građana za zaštitu privatne svojine i ljudskih prava u Čačku, Nišu, Užicu, Beogradu, Novom Sadu; ta udruženja su 1995. godine formirala Ligu za zaštitu privatne svojine i ljudskih prava, kao prvu mrežu nevladinih organizacija na području Srbije i Crne Gore.</s><s>Naše celokupno dosadašnje angažovanje je bilo u ključnom segmentu tranzicije u Srbiji i Crnoj Gori - u stvaranju atmosfere i uslova za sprovođenje pravne regulative u oblasti zaštite i unapređenja privatne svojine.</s><s>Naša velika preokupacija jesu restitucija i razvoj malog i srednjeg privatnog preduzetništva, jer smo uvereni da to predstavlja jedinstven put za razvoj preduzetničke energije i stvaranje podsticajnog poslovnog ambijenta - za slobodnu cirkulaciju kapitala, demokratsku atmosferu i duh građanstva - koga nema u zatvorenim i socijalno nestabilnim sredinama.</s><s>To je razlog što je faktor socijalne kohezije od presudne važnosti za motivisanost transnacionalnog kapitala na lokalnom i regionalnom nivou - gde je upravo razvoj malog i srednjeg privatnog preduzetništva glavni faktor socijalne stabilnosti i ekonomske efikasnosti.</s><s>Ovaj razvoj malog i srednjeg preduzetništva imao je veliki uticaj na stvaranje uspešnog paralelnog socijalnog i ekonomskog sistema Albanaca na Kosmetu.</s><s>Mi smatramo da je to bio iznuđeni proces koji se odvijao u okolnostima potpunog odsustva demokratske atmosfere, podsticajnog privrednog sistema a pod stalnim pritiskom totalitarnog režima iz Beograda.</s><s>Prava je šteta što se ti procesi nisu odvijali u normalnoj atmosferi koja bi omogućila stvaranje podsticajnih uslova za razvoj malog biznisa u trgovini, servisima i porodičnim proizvodnim pogonima.</s><s>Da je postojala takva poslovna atmosfera uspešno bi se razvijali i poslovni odnosi između Srba i Albanaca, a ne samo unutar njihovih getoiziranih populacija.</s><s>Ne smemo zaboraviti opšte priznato istorijsko iskustvo da ništa tako ne zblixzava ljude kao trgovina i poslovi.</s><s>Iz ovih odnosa se razvijaju partnerstvo, prijateljstvo a često i rodbinske veze.</s><s>Rešavanjem svojinskih pitanja na Kosmetu i u Srbiji oslobodila bi se ogromna preduzetnička energija za kreativne ciljeve, za povratak poverenja i prijateljstva između Srba i Albanaca koji vekovima žive zajedno na ovim prostorima.</s><s>Liga za zaštitu privatne svojine i ljudskih prava to oseća kao svoj strateški građanski i patriotski zadatak.</s><s>KOŠAVA: Možete li nam nešto više reći o tranziciji, odnosno, možete li nam dati izveštaj o stanju u postkomunističkim zemljama?</s><s>GRGUREVIĆ: Kada bi se jednom pojednostavljenom konstatacijom htelo da definiše stanje tranzicije, možda bi to bilo moguće tumačenjem da tranzicija znači put do kolektivnog ka individualnom poimanju sveta.</s><s>To je razlog što je u svim bivšim komunističkim zemljama prva mera bila restitucija svojinskih odnosa - reprivatizacija.</s><s>Pravni poredak je ustrojen na temeljima zaštite privatnog vlasništva koje predstavlja skup prava koje društvo, kroz različite zakonske sankcije, naslovljava na pojedinca.</s><s>To podrazumeva da sopstvenik poseduje pravo da koristi dobra, da isključi druge iz njihove upotrebe, da ubire koristi iz njih, da im menja oblik i sadržaj i da ih prenese drugima.</s><s>U takvim okolnostima motivacija je jasna: uvećanje dobiti, iz čega sledi slobodno preduzetništvo - odnosno pravo pojedinca da odabere ekonomsku aktivnost koju želi, a pod uslovima koje slobodno ugovara i dogovara sa svojim partnerima ili ostalim ekonomskim akterima.</s><s>Osnovni uslov za takav poslovni odnos je institucija ugovora, čiju zaštitu preuzima država.</s><s>Zaštićeni prodavci i kupci ulaze u razne poslovne odnose na tržištu, gde se realizuje njihovo međusobno rivalstvo - konkurencija.</s><s>Svaki privatni akter se trudi da u datim okolnostima na tržištu (cene) maksimizira profit, što ga tera da se racionalno i pravedno ponaša: svako prisvaja samo onoliko koliko su drugi ljudi spremni da mu plate.</s><s>Međutim, stvaranje efikasne tržišne ekonomije u bivšim komunističkim državama je bio znatno veći poduhvat od same (re)privatizacije.</s><s>Privatizacija je jezgro tranzicije i njegov najsloženiji deo, ali reforma podrazumeva akciju u gotovo svim drugim oblastima ekonomskog života.</s><s>Zadatak je epohalan.</s><s>I mada su mnogi elementi takve ekonomske reforme poznati i već viđeni u drugim zemljama, složenost problema i neminovnost sveobuhvatne reforme čini put kojim se mora proći umnogome neispitanim.</s><s>Posebne teškoce donosi poprilična politička nestabilnost u mnogim zemljama gde se mlade demokratije i dosta nestabilne vlade suočavaju ne samo sa ekonomskim problemima, već i sa izraženim nacionalnim i drugim političkim tenzijama.</s><s>Najveći broj zemalja koje su donedavno imale socijalističke (komunističke) privrede zasnovane na kolektivnoj svojini, centralno-planskoj privredi i suspenziji tržišnog mehanizma - doživele su civilizacijski neuspeh i nalaze se na putu tranzicije u tržišnu privredu (izuzev Srbije, gde vladaju retrogradni procesi).</s><s>Tranzicioni procesi koji su započeti krajem osamdesetih godina obuhvatili su ekonomsku i političku rekonstrukciju bivših komunističkih režima.</s><s>Ekonomska reforma se sastojala iz četiri faze: makroekonomska stabilizacija, cenovna i spoljnotrgovinska liberalizacija, privatizacija, rekonstruiranje preduzeća i finansijskih institucija.</s><s>Započet sa velikim entuzijazmom, ovaj proces je ubrzo kod jednog broja zemalja (Rumunija i Bugarska) naišao na neočekivano visoke cene tranzicije.</s><s>U prvoj fazi nisu ostvareni svi ciljevi makroekonomske stabilizacije, a započeti procesi privatizacije praćeni su brojnim problemima, zloupotrebama i neefikasnošću.</s><s>Nejednaka startna pozicija, ritam i sadržina tranzicionih procesa u pojedinim zemljama stvorili su prepoznatljive tranzicione razlike.</s><s>Međutim, pravac promena u svim ovim zemljama je isti, a rešenost sa kojom se ove promene sprovode u 1997.i prvoj polovini 1998.godine npr.u Bugarskoj, gde je cena tranzicije bila najviša, ukazuje na stabilnost kursa usklađivanja institucionalnih uslova u zemljama u tranziciji Centralne i Istočne Evrope.</s><s>Ovo je posebno važno, jer iskustva razvijenih evropskih inicijativa ukazuju da zemlje sa različitom ekonomskom snagom, različitim međunarodnim položajem i čak nekompatibilnim privrednim sistemima - mogu biti kreatori uspešnog regionalnog okupljanja.</s><s>Zemlje u tranziciji sa podrućja Centralne i Istočne Evrope predstavljaju vrlo važan i podsticajni faktor globalne evropske integracije.</s><s>Istorijska usmerenost, geografska bliskost, značajni privredni i prirodni potencijali, pokrenuti i odmakli reformski procesi i strukturna prilagođavanja ukazuju na to da su zemlje Centralne i Istočne Evrope na putu da dostignu potreban nivo homogenizacije kao uslov za uspešno uključivanje u evropske integracione procese.</s><s>Naime, slobodna cirkulacija kapitala i radne snage podrazumeva stvaranje uslova za neutralisanje prekograničnih barijera - ali to nije jedini, iako jeste važan uslov za harmonizaciju privredno-sistemskih pretpostavki i regionalnu integraciju.</s><s>Zemlje Istočne i Centralne Evrope su u prilici da, kao promoteri novog regionalizma koji se zasniva na višim oblicima regionalne integracije (tzv.dubinske integracije) - svoju poslovnu sredinu u potpunosti prilagode institucijama i odnosima koji vladaju na razvijenom tržištu.</s><s>To će doprineti da se strani investitori na ovim novim tržištima osećaju kao u svom poslovnom ambijentu (u Zapadnoj Evropi), što ce biti podsticaj direktnijim stranim investicijama.</s><s>Zato reforme ekonomske politike u ovim zemljama imaju sofisticirane zadatke koji se sastoje u prilagođavanju zahtevima razvijenih tržišta (usklađivanje ekonomskog i političkog sistema, sinhronizacija ekonomskih prilika i dr.</s><s>), ali i forsiranju sopstvenih prirodnih i drugih pogodnosti.</s><s>To je osnovni smisao i bit tranzicionih procesa u ovim zemljama.</s><s>Stara biblijska legenda o sedam mršavih krava je simbolično poredenje sa sedam nesrećnih godina propadanja Srbije i Jugoslavije (1991.-1998.).</s><s>Poznavaocima ove legende je prepoznatljiva njena simbolika, ali tragičnost naše zbilje je u odsustvu vizije, kreativne energije i elementarne odgovornosti aktera jugoslovenske drame.</s><s>Tokom perioda 1991-1998.u Srbiji su ispoljene izrazito negativne tendencije i ograničenja u pogledu uslova i mogućnosti sveobuhvatnih strukturnih promena i prilagođavanja medjunarodnom okruženju.</s><s>Razmere destrukcije su sveobuhvatne: institucionalne, tehnološke, socijalne i ekonomske.</s><s>Najteža su socijalna i psihološka razaranja koja su dovela do strmoglave duhovne i moralne saturacije.</s><s>Povratak Srbije i Jugoslavije u svet zahteva temeljnu rekonceptualizaciju i dubinsku promenu strukture, povratak osnovnim civilizacijskim vrednostima - individualnoj odgovornosti, kreaciji i toleranciji.</s><s>Takav poduhvat pre svega podrazumeva znanje, neophodnu preduzetničku energiju i politićku volju.</s><s>KOŠAVA: Koji metod privatizacije, s obzirom na naše uslove, treba primeniti?</s><s>Ima li u tom metodu mesta za holding-kompanije, kao spone između državnog i privatnog kapitala?</s><s>GRGUREVIĆ: Pri izboru najboljeg metoda privatizacije treba imati u vidu tri ključna kriterijuma: doprinos dobrom upravljanju, brzinu i pravednost.</s><s>Treba znati da je restitucija bila prva faza privatizacije u svim zemljama oslobođenim od komunističkog režima.</s><s>Druga značajna činjenica je da je privatizacija sprovedena zarad stvaranja modernog i efikasnog društva gde je doprinos valjanom upravljanju preduzećima od presudne važnosti.</s><s>Osim toga, svaki dan odugovlačenja sa privatizacijom nanosi veliku materijalnu štetu pa je potrebno da se to obavi što je moguće brže.</s><s>Sigurno je da privatizacija kroz prodaju obezbeđuje dobro upravljanje preduzećem, pošto će onaj ko ulozi sopstveni novac učiniti sve da ono posluje što bole.</s><s>Dosadašnja iskustva su pokazala da postoje razna ograničenja privatizacije kroz prodaju društvene i državne imovine (nedovoljna kupovna snaga, problem procene vrednosti predužeća, nejednakost građana - nepravednost i sporost) što podstiče traganje za alternativnim rešenjima.</s><s>Jedan takav koncept je besplatna podela vlasništva svim građanima jedne države.</s><s>Jedan vid besplatne privatizacije - pomoću holding kompanija daje krupne vlasnike što je pretpostavka dobrog upravljanja.</s><s>No, nije sasvim jasno ko će upravljati samim kompanijama jer će vlasništvo nad njima biti jako disperzivno - biće na milione vlasnika.</s><s>Samim tim javlja se realna opasnost da ili uprava holding kompanija bude potpuno samostalna i nenadzirana (što bi se neminovno negativno odrazilo na efikasnost i kompanije i preduzeća u njihovom vlasništvu) ili da se država umeša i radi zaštite nacionalnih interesa preuzme (formalno ili neformalno) kontrolu nad tim kompanijama, sa lošim posledicama.</s><s>Drugi vid besplatne podele je vaucerska privatizacija.</s><s>U Istoćnoj Evropi poslednjih godina je primetna prevaga koncepta besplatne privatizacije, i to prvenstveno vaucerima.</s><s>Brojne bivše komunističke zemlje sprovode ili pripremaju takvu privatizaciju: Ceška, Slovačka, Rusija, Ukrajina, Estonija, Litvanija, Mongolija - i Crna Gora predviđa u svom postojećem zakonu o transformaciji mogućnosti izdavanja vaucera.</s><s>U Srbiji je odobrena prodaja preduzeća - a ne besplatna podela; dominacija akcionarstva zaposlenih - a ne spoljnih vlasnika; relativno brzo stvaranje nekompletne svojinske strukture a zatim njena dekapitalizacija.</s><s>Takav koncept ima određene prednosti (ubiranje prihoda od strane države, relativno široka disperzija vlasništva, mogućnost dosta brzog stvaranja upravljačke strukture u nekim preduzećima, zasnovane na (nekompletnom) privatnom vlasništvu - ali su zato nedostaci preovlađujući.</s><s>Da pomenem neke: nedovoljan obim domaćeg kapitala, sporost privatizacije, iscrpljivanje privatne štednje, teškoće sa ocenom vrednosti preduzeća; dominacija unutrašnjih investitora - zaposlenih; sporo stvaranje trzišta kapitala usled dominacije internih, neotplaćenih akcija; podržavljenje značajnog dela privrede, itd..</s><s>Važan problem je činjenica da je velika većina transformacija izvedena stvaranjem mešovitih društava u kojima dominira društveni kapital, dok je privatni od marginalnog značaja.</s><s>Takva konstelacija stvara mogućnost za razne spekulacije onih koji upravljaju preduzećem (prelivanje prinosa društvenog kapitala kroz zarade).</s><s>Zanimljivo je da je u Srbiji oko jedne trećine preduzeća transformisano u akcionarska društva ali je ucešće privatnog kapitala vrlo malo - verovatno manje od 5%.</s><s>To je još jedan razlog koji ide u prilog vaucerskoj privatizaciji u Srbiji.</s><s>Međutim, sva prethodna razmatranja o metodama privatizacije kao neophodnu prethodnu fazu podrazumevaju restituciju.</s><s>Budući da smo ovde govorili o privatizaciji preduzeća, valja reći da postoje transparentna i efikasna iskustva za neophodnu restituciju u procesu njihove privatizacije.</s><s>Postoje dva načina fizičkog povraćaja - uz nadoknadu vrednosti ulaganja koja su usledila posle nacionalizacije, i uz pomoć denacionalizacionih vaucera koji omogućuju učešće u upravxanju preduzećima.</s><s>Nikad se ne sme zaboraviti činjenica da je restitucija bila model privatizacije u svim zemljama oslobođenim od komunističkog režima.</s><s>U svim ovim zemljama ona je bila dokaz da su njihove vlade iskreno opredelene za privatizaciju, a to je bio i najbolji podsticaj stranim investitorima.</s><s>Osim toga, restitucija je poslužila kao snažan motivacioni faktor u revitalizaciji srednje klase koja se pokazala efikasnom u sprovođenju reformskih procesa.</s><s>KOŠAVA: Ipak, glavni konkurent privatnoj svojini kod nas i dalje ostaje - društvena svojina...</s><s>GRGUREVIĆ: Vaše pitanje me je podsetilo na jedan istinit događaj koji se zbio u Americi 1962.godine.</s><s>Tadašnji predsednik SAD, Džon Kenedi vraćao se sa svojim saradnicima iz vojne baze u Kejp Kanaveralu.</s><s>U predsedničkom helikopteru se desio kvar i Kenedi je, na nagovor svojih saradnika, naredio sletanje.</s><s>Nisu bili takoreći ni par minuta na zemlji kada je iz jednog sumarka istrčao nepoznat čovek sa uperenom puškom, vičući kako će ih sve pobiti ukoliko odmah ne napuste njegovo imanje.</s><s>Kenedi je momentalno naredio poletanje njegovog i pet vojnih helikoptera koji su bili u pratnji, jer je znao da bi svaki dalji ostanak u ovoj situaciji doveo do incidenta.</s><s>Ovaj događaj pokazuje svu paradoksalnost naše situacije u pogledu statusa privatne svojine koja je od legalnih vlasnika oduzeta posle Drugog svetskog rata - od kojih su mnogi poubijani, proveli godine u zatvorima a porodice im bile maltretirane.</s><s>Autoritarna vlast je tako poništila srednju klasu, ukinula privatnu svojinu i srušila demokratiju.</s><s>Društvena svojina je postala vladajući oblik svojine - ona je bila ničija i svačija - i sve dotle dok je bivša Jugoslavija bila korisnik inostrane pomoći (od pedesetih do polovine osamdesetih) privreda, državne i socijalne ustanove su mogle da funkcionišu na ovakvom obliku vlasništva.</s><s>Onog trenutka kada je ta pomoć presahla, jugoslovenska privreda i društveni sistem su propali.</s><s>Dakle - ne postoje prednosti, vec samo nedostaci društvene svojine u odnosu na jedine oblike svojine: državnu i privatnu.</s><s>Ustvari, društvena svojina je partijska svojina komunosocijalističke oligarhije i njen osnovni nedostatak je u sferi motivacije - njeni ciljevi nisu dobit i uvećanje imovine već raspodela (zaposlenost, poreski prihodi i politička popularnost).</s><s>Jedini priznati stvaralački akter je rad a ne kapital, što osnovni ekonomski cilj - EFIKASNOST čini nedostižnim.</s><s>Osim toga, radnici - samoupravljači u društvenom preduzeću nisu u principu motivisani da štede i na taj način uvećavaju imovinu preduzeća; oni dobro znaju da društvena imovina nikada neće biti njihova (privatna), tako da je štednja na nivou preduzeća destimulisana u poređenju sa štednjom kapitalističkog preduzeća i privatnom štednjom.</s><s>Prosto rečeno: samoupravljači u društvenim firmama jedino su zainteresovani za što je moguće veće lične dohotke, jer jedino na taj način mogu povećati svoju imovinu.</s><s>Da bi se onemogućilo prelivanje društvene imovine u lične dohotke, kao vršilac kontrolne funkcije koja je u stvari vlasnička - javlja se država odnosno državno-partijski aparat.</s><s>Preuzimanjem mnogih vlasničkih kompetencija posao državno-partijskih organa postaje neefikasan, jer njegovi predstavnici donose odluke ne snoseći nikakav - ni finansijski ni vlasnički rizik, a pored toga po pravilu nisu ni stručni za taj posao.</s><s>To je razlog za razne promašene investicije i održavanje temelj privrede i društva a profit ciljna funkcija, individualna odluka vezuje rizik i ličnu odgovornost - zbog čega se favorizuje znanje, a nepresušna preduzetnička energija u slobodnom nadmetanju na tržištu stiže do cilja: uvećanje imovine i bolji kvalitet života.</s><s>Osnovnu funkciju države u takvim sistemima formira biračko telo: milioni malih i srednjih vlasnika čiji je osnovni cilj- zaštita sopstvene imovine kao i kulturnih i socijalnih institucija društva kojima pripadaju.</s><s>Zato se u tim zemljama može često čuti sledeće tumačenje (kad je privatna svojina u pitanju): kad je čovek svoj na svome onda je on ekonomski nezavisan - slobodna ličnost koja bira vlast upravo onakvu kakvu želi; ako ona ne ispunjava njegove zahteve, on je menja.</s><s>Dakle, u društvima gde vlada privatna svojina moć nije u državnoj administraciji, već kod onih koji vlast biraju.</s><s>KOŠAVA: Društvena moć je decentralizovana...</s><s>GRGUREVIĆ: U takvim državama model organizacije društva je decentralizacija, jer se izuzetna važnost pridaje lokalnoj samoupravi odnosno mestu gde ljudi žive i rade.</s><s>U malim decentralizovanim zajednicama je život kvalitetniji, zavidna je socijalna kohezija: niski troškovi života, podsticajni socijalni uslovi, brojne mogućnosti za razvoj i održanje malog porodičnog biznisa (niska poreska izdvajanja).</s><s>To je razlog što se posebna pažnja poklanja prevashodno razvoju malih i srednjih preduzeća a ne velikim, centralno ustrojenim firmama koje su spore i nefleksibilne.</s><s>Decentralizacija i minizacija nisu samo model organizacije preduzeća već su i model državnog uređenja.</s><s>Današnje moderne države su u stvari mreže malih decentralizovanih zajednica.</s><s>U sličnim okolnostima, kada se na lokalnom nivou postiže neophodni nivo ekonomske efikasnosti i socijalne koherencije i odnos građana prema klasičnim institucijama države se menja - države bivaju sve manje značajne.</s><s>U okolnostima dostignute socijalne kohezije, klasične forme države u razvijenim zemljama sve više dobijaju karakter regionalnih i subregionalnih integracija koje oslobađaju prostor za slobodnu cirkulaciju ljudi, znanja i ideja.</s><s>U našim uslovima na sceni su sasvim suprotni trendovi: maksimilizacija umesto minimalizacije, centralizacija umesto decentralizacije, autoritarna vlast umesto demokratskih institucija, jednoobraznost umesto raznovrsnosti - i sve to u okolnostima odsustva realnih svojinskih odnosa i institucija privatnog vlasništva.</s><s>Cena za takav anticivilizacijski trend je surova: Srbija je izbačena iz civilizovanog sveta - usamljena u svojoj propasti.</s><s>OBJAVA BROJA 46 486 800 ILI STILSKE VEŽBE</s><s>Razgovarao: Milorad Đurić</s><s>foto: Saša Gajin</s><s>Intervju sa Lidijom Merenik, umetničkim direktorom III Jugoslovenskog likovnog bijenala mladih u Vršcu</s><s>KOŠAVA: Imenovani ste za umetničkog direktora 3.Jugoslovenskog likovnog bijenala mladih.</s><s>Šta za Vas predstavljx Bijenale?</s><s>Sa kojim pretenzijama ulazite u ovaj projekat?</s><s>MERENIK: Bijenale je za mene fantastičan izazov.</s><s>Da bi se ovakva izložba uspešno zaokružxila, potrebno je i dosta iskustva, i dosta hrabrosti, a najviše ljubavi.</s><s>Već sam radila na organizaciji velikih izložbi, prva dva Bijenala na Cetinju, recimo, tako da znam šta me čeka.</s><s>Ali, s druge strane, ja zaista obožavam da radim izložbe.</s><s>U rad na izložbi smo svih petoro (Jelena Vesić, Nenad Radić, Dragan Jelenković, Ivan Jović i ja), ušli, pre svega, sa velikom radoznalošću i \"borbenim\" duhom.</s><s>Naša najveća pretenzija je da budemo kreativni i pozitivni, i da, nakon obavljenog posla, izložbu poklonimo vama i umetnicima.</s><s>Ovi mladi umetnici takođe mnogo očekuju od izložbe i vidim da joj se zaista raduju i da se ozbiljno pripremaju.</s><s>Mojim mlađim kolegama, Jeleni, Nenadu i Ivanu, rad na izložbi će takođe značiti jedno dragoceno iskustvo istoričarsko umetničke prakse.</s><s>KOŠAVA: Na koji način je izvršena selekcija umetnika?</s><s>MERENIK: Bijenale kao da je prethodne četiri godine patilo od neodlučnosti: da li izložbu raditi po uzoru na predratno Bijenale na Rijeci, Oktobarski salon i sl, ili usvojiti drugačiji organizacioni model.</s><s>Prethodnih godina selektori su kombinovali otvoreni konkurs sa \"pozivom\".</s><s>Time je, nehotice, napravljena kastinska podela izlagača: onih koji čekaju pred šalterom \"komisije\" i onih \"koji se podrazumevaju\".</s><s>S druge strane, ispostavilo se da većina umetnika svoj rad nekako \"podrazumeva\" i da ne želi da odgovori na otvoreni oglas-konkurs.</s><s>Ja nisam želela socrealistički princip uranilovke niti takve, demagoske jednakosti za jedne i privilegovanosti za druge.</s><s>Nije umetnost za oglas, ni na oglas.</s><s>Iako vas, priznajem, \"oglas\" često lišava istinske, autorske, lične, odgovornosti.</s><s>Uvek možete da kažete: Pa, eto, ovi su se javili, to vam je to, ja nisam odavde.</s><s>E, upravo da se tako šta ne bi desilo, ja sam uvek spremna da podelim dobro i zlo sa izložbom koju radim, zato što uvek, potpuno, stojim iza svog izbora i ne svaljujem krivicu na \"oglas\", metaforicki rečeno.</s><s>Duboko verujem u autorski pristup, u snagu individualnog.</s><s>U umetnosti i kulturi ovakav je pristup neophodan, jer nas samo on odvaja od totalitarnih, dogmatskih, u populizmu i kolektivizmu usančenih parakulturnih modela.</s><s>Potrudili smo se da pogledamo radove ili dokumentacije oko 70 mladih umetnika.</s><s>Pozvali smo ih zatim sve na tzv.</s><s>pozivni konkurs i molili ih da predlože novi rad, projekat ili već postojeći rad.</s><s>Nismo im ništa uslovljavali, znajući da rade u finansijski mizernim okolnostima, i da je i samo Bijenale finansijski iznureno do mere da ne može da finansira izradu umetničkih radova.</s><s>Na ovaj poziv odgovorilo je 95% umetnika.</s><s>Zatim smo ponovo gledali njihove radove i projekte, razgovarali sa njima i sl..</s><s>Onda smo odabrali 45 umetnika, iza kojih sada stojimo, i za koje odgovaramo.</s><s>\"Jedini\" kriterijum je bio dobar, zanimljiv, kvalitetan, simpatičan, duhovit, maštovit predlog.</s><s>To su ljudi koji misle izvan šablona, ljudi koji znaju da srce nije srcastog oblika, ili barem u to često sumnjaju.</s><s>KOŠAVA: Slaz ete li se sa stavom da su se uloge kritičara i umetnika približile?</s><s>Nameravate li da samo registrujete stanje ili da kreirate (svoju) sliku umetničke scene?</s><s>MERENIK: Ne znam koliko su se, kako Vi kazete, \"uloge\" umetnika i kritičara približile.</s><s>Uistinu ne znam šta to znači, niti sam o sebi ikada mislila kao o \"kritičaru\" koji \"kreira\" bilo šta, osim, možda, sopstveni tekst o umetnosti.</s><s>Uvek je bilo umetnika koji su umeli da sopstveni rad protumače bolje od istoričara umetnosti, ili su, nezadovoljni, mislili da to umeju, uvek je bilo kritičara koji su nekada opravdano, nekada neopravdano, stvarali trendove ili ih promovisali.</s><s>Sve su to, zapravo, legitimne pojave umetničkog života; vreme je da se na njih naviknemo.</s><s>Ali, ovde nije o tome reč.</s><s>Ta vrsta liderstva (ili, u krajnjoj konsekvenci, autoritarizma) me nije nikada zanimala.</s><s>Pogotovo me ne zanima sada, kada treba predstaviti najmlađu umetničku scenu.</s><s>Bilo bi nepravedno i nemoralno praviti bilo kakve \"hirurške\", \"prokrustovske\" zahvate unutar jedne inventivne, duhovite, iskrene umetnosti, kakva je ova koju ćemo videti na Bijenalu.</s><s>Moja teza će slediti umetnički materijal, neće mu prethoditi.</s><s>Ja u ovom trenutku ni nemam tezu.</s><s>To je razlog što izložba nije imala unapred \"zadatu\" temu ili naslov.</s><s>Jednostavno, moji saradnici i ja smo hteli da damo što objektivniji presek scene.</s><s>U pitanju su umetnici čiji je prosek godina oko 25-26.</s><s>Dakle, pomerili smo starosnu granicu u korist mladih.</s><s>S druge strane, pomerili smo granicu u korist neetablirane, neafirmisane umetnosti ogromnih potencjala, a izvan bilo kakvog imaginarnog ili postojećeg mainstreama.</s><s>Rizikujemo da nam kažu: Fuj, napravili ste panoramu.</s><s>Ušli smo u rizik rada sa novim/nepoznatim umetničkim vrednostima koje nije \"verifikovao\" nekakav spoljni autoritet, koji bi kazao: ovo je in, ovo je out.</s><s>Verujemo jedino u autoritet slobode mišljenja i slobode stvaranja.</s><s>Idemo against all odds, uzvodno.</s><s>KOŠAVA: Planirate li prateće programe na ovogodišnjem Bijenalu?</s><s>Da li će i ovog puta biti organizovan simpozijum?</s><s>MERENIK: Nema pratećih programa, osim izložbe u staroj Apoteci.</s><s>Odustali smo, pre svega zbog finansijskih problema, od drugih pratećih sadržaja.</s><s>Simpozijum Pop vision organizovan pre dve godine je bio odličan, ali, nije izazvao širu pažnju kolega.</s><s>Doživeo je i niz malicioznih \"komentara\" upravo od ljudi koji nisu bili tamo prisutni.</s><s>Mi ove godine nemamo mogućnosti da napravimo tako kvalitetan simpozijum, pre svega zbog toga što za njega nemamo sredstva.</s><s>S druge strane, procenili smo da je besmisleno organizovati simpozijum za koji ne bi, iz raznih razloga, bili zainteresovani baš oni kojima je namenjen.</s><s>Sami \"okrugli stolovi\" su sasvim jalove, nemaštovite forme, gde se učesnici obraćaju sopstvenim sujetama, pa smo i to hteli da izbegnemo.</s><s>Naša izložba je otvorena za sve stručnjake i kolege koji žele da je vide, prikazu, kritikuju i sl..</s><s>Verujem da će srpska likovna kritika već naći prostor u javnim glasilima da izložbu oceni, a ostali mogu da nam se jave dopisnicom ili e-mailom.</s><s>Radimo ambiciozan katalog koji producira Centar za savremenu umetnost i koji ćemo promovisati na jesen.</s><s>U ovom trenutku, katalog nam je daleko važxniji od bilo kog pratećeg sadržaja, upravo zato što će postati važan i vredan dokument najmlađe likovne scene danas.</s><s>KOŠxAVA: Centralna izložba biće postavljena u Konkordiji.</s><s>Da li ćete koristiti i neke vangalerijske prostore u Vrscu?</s><s>MERENIK: Vršac ima toliko genijalnih potencijalno-izlagačkih prostora, da je zaista prava šteta što za njih skoro niko nije zainteresovan, osim samih organizatora Bijenala.</s><s>Stalno se, u našoj zemlji, u tako divnim prostorima otvaraju neki \"klubovi\" i neke kafane.</s><s>Malo je ljudi koji ulazu u nekomercijalnu umetnost, i zato ih, sve, jako poštujem.</s><s>Što se tiče Konkordije, to je prostor veoma komplikovan za izložbu, ali istovremeno zaista savršen.</s><s>Žilavo ćemo se sa njim boriti.</s><s>Izložba će biti otvorena još i tamo gde nam se to omogući, videćemo da li u prostoru Mlina ili, pak, stare Robne kuce ili nekom trećem.</s><s>Ja više ne znam od koga sve to zavisi, niti sam sigurna je li sam grad Vršac dovoljno zainteresovan za uspeh izložbe, ili je čitav ambiciozni projekat pao na teret organizatora.</s><s>KOŠAVA: Recite nam nešto i o metodologiji i artikulaciji izložbe</s><s>MERENIK: U jednom kratkom trenutku sam mislila da pravimo Potemkinova sela.</s><s>Onda sam mislila da je sve to skupa jedno Sumnjivo lice, neka neobična fela ljudi iznikla daleko od stabla turbo-dance scene i ideala \"lakog\" i \"novog\" novca, neka \"plava riba, kljukana dinastija\", nešto potpuno OFF.</s><s>Sad mislim da su to za nas Stilske vežbe, nešto po Kenou: može dvostruko, može subjektivno, može neusiljeno, medicinski, ironično, metaforično, blesavo, popularno, nervozno, zastrašeno ili veselo.</s><s>U suštini naše \"metodologije\" je (da nemamo metodologiju), s jedne strane, pozitivna potemkinizacija, s druge, stilske vežbe koje pokazuju lepotu kraja veka: mnoštvo, zamor, vrt.</s><s>To je neartikulisana artikulacija i obrnuto.</s><s>Tu negde ćemo \"situirati\" izložbu.</s><s>Zato će u naslovu stajati: Objava broja 46486800 (to će, da Vam otkrijem tajnu, biti i naša mala posveta Tomasu Pinconu).</s><s>I mene zanima šta će se dalje dešavati.</s><s>ISIDORA - MODERNA IGRA</s><s>1878-1927 (povodom 70-godišnjice smrti)</s><s>Piše: Svenka Savić</s><s>Malo je znano da modernu igru otpočinju u Americi početkom veka tri samouke žene izrazite umetničke osobenosti: Isidora Dankan (Isadora Duncan:1878-1927), Loi Fuler (Loie Fuller: 1862-1928) i Rur Sen Denis (Ruth St Denis: 1880-1968).</s><s>Svaka od njih tražila je sopstvenu igru: Isidora oslonjena na grčku filozofiju življenja i igre; Loi traga za onim što igri daje novu dimenziju - osvetljenjem i bojama; Ruth se okrenula Orijentu i Indiji.</s><s>Sve tri stoje na početku priče o stvaranju moderne igre i novog shvatanja života.</s><s>Isidora je, prema mišljenju istoričara igre, igrača, koreografa, duhovna utemeljivačica moderne igre.</s><s>To pre svega znači da načela igre koja danas vidimo u modernoj igri različitih američkih i evropskih trupa, imaju zajedničkog sa onim što je ona početkom veka zastupala - da je umetnost život (Od samog početka ja sam igrala isključivo svoj sopstveni život, piše Isidora u svojoj autobiografiji).</s><s>I jedno i drugo ona zasniva na slobodi (bila je protiv institucija - pozorišnih i bračnih) i ljubavi (jedino su iskreni i neposredni ljudski odnosi merodavni).</s><s>Isidora umetnost shvata kao napor da se izrazi istina sopstvenog bića gestom i pokretom, i zato igra treba da bude izraz fizičke slobode (oslobođena od ideoloških pritisaka svake vrste).</s><s>Osnovu - i umetnosti i života - čini ljubav - umetnost se ne može razdvojiti od ljubavi (umetnik je jedini ljubavnik, samo on ima čistu viziju lepote, a ljubav je slika duše kojoj je dopušteno da se zagleda u neprolaznu lepotu'').</s><s>Sopstvenost, sloboda, ljubav i lepota osnovni su stozeri Isidorinog traganja za jednostavnim, iskonskim pokretima kojima se svakodnevno uzdiže na nivo umetničkog.</s><s>Jednostavne gestove oblikuje u praznom scenskom prostoru, oslobođenog dekora (samo plave zavese upućuju da je u pitanju pozorište, a ne život), bosonoga, raspuštene kose, obavijena porozirnom tunikom, Isidora gradi put novom viđenju smisla i cilja igre u prostoru i vremenu.</s><s>Ona negira umetnost baleta, a priznaje umetnost duše (''Ubrajam sebe u neprijatelje baleta, jer smatram da je to lažna i besmislena umetnost, zapravo, moje je mišljenje da balet uopšte ne spada u umetnost'').</s><s>Igrala je na osnovu svoje intuicije, na osnovu onoga što joj je urođena potreba, bez stvorenog plana unapred (kako je to činio Fokin ili neki drugi poznati i priznati koreograf).</s><s>Zato su mnogi bili skloni da njenu igru odrede kao improvizaciju, a taj sud već vuče negativnu konotaciju da je reč o nečem ''nestudioznom''.</s><s>Stanislavski zapaža da ''Duncanova nije u stanju da o svojoj umetnosti govori sistematično i logično.</s><s>Njoj su ideje padale na pamet slučajno, često izazvane najneočekivanijim svakodnevnim događajima''.</s><s>Baš zbog te svoje osobine da svaki put oseća i situaciju i sagovornika ona je bila velika inspiratorka, pokretačica već osvešćenih ideja svojih savremenika: vajara, slikara, posebno poslenika u pozorištu.</s><s>Ne zato što je tako htela, već zato što je svojom ličnošću nosila poslanje da u drugima budi potencijale koji će ih učiniti vidljivim svetu.</s><s>Ocu svoje dvoje dece, voljenom čoveku,stvorila je mogućnst da primeni svoje pozorišne ideje i da postane tvorac modernog teatra.</s><s>Gledajući nju na sceni on je u sebi otkrio da o pozorištu misli isto (''Ali zašto ste ukrali moje ideje i gde ste našli moje dekoracije''?/</s><s>''Izmislila sam ih kad mi je bilo pet godina, i od tad igram u svom dekoru'').</s><s>Fokin priznaje u autobiografiji (Protiv struje) da se tek nakon viđenja Isidorine igre osmelio da unese izmene u svojim klasičnim baletima o čemu je razmišljao i pre susreta s njom, ali nije imao dovoljno smelosti da ih realizuje.</s><s>Na mnogo mesta u knjizi govori o Isidori kao onoj neponovljivoj inspiratorki koja očarava igrom i idejama.</s><s>Isidora beleži u autobiografiji (Moj život) susret sa Stanislavskim: ''Jasno mi je da smo mi tražili jedno te isto, ali u različitim vidovima umetnosti'', ''mi smo se razumeli skoro pre nego što smo prozborili i jednu jedinu reč''.</s><s>Stanislavski slično potvrđuje (u kjizi Moj život u umetnosti): ''Shvatio sam da na raznim krajevima sveta, silom nama nepoznatih okolnosti, različiti ljudi u raznim oblastima, tragaju za novim, prirodno nastalim stvaralačkim principima.</s><s>Kad se sretnu, iznenade se saznanjem o zajedničkim obeležjima svojih ideja - mi smo se razumeli skoro pre nego što smo prozborili i jednu jedinu reč''.</s><s>Isidora je preteča današnjeg događanja u umetnosti igre: svoju svakodnevnicu promišlja kao trenutak istorije, pridajući joj onu važnost koju joj je Stvoritelj namenio.</s><s>Priroda, voda, more, bili su stalni izvori inspiracije njene stvaralačke energije, njene urođene potrebe da onome što je stvoreno oko nje daje opsteljudska značenja, religiozno verujući da ima mističnu vezu sa Stvoriteljom prirode (''Moj život i moja umetnost rođeni su iz mora'').</s><s>Tvrdila je za sebe da je ateistkinja, a verovala je u predodređenost života; želela je ''da izvrši obnovu religije kroz igru, da postigne punu spoznaju lepote i svetlosti ljudskog tela izražene pokretom''.</s><s>Taj tragalački put bio je dug: ''Dane i noći sam provodila u studiju mučeći se da otkrijem onu igru koja bi mogla biti božanski izraz čovekove duše, ovaploćen u pokretima tela''.</s><s>Nekonvencionalnim životom pokušala je da afirmiše sopstvenost, lepotu, ljubav i slobodu u životu (muškarca i žene), načela koja prelaze u umetnost i otuda se od nje otuđuju i postaju naša.</s><s>Njena potreba da stvara igrom, bila je veća od drugih potreba koje bi joj društvene konvencije nametale.</s><s>Ona je feministkinja po načinu na koji je stvarala i po onome što je stvorila.</s><s>U puritanskoj Americi svoga vremena, kao i u Evropi gde je većinu godina igrala, bila je za života , osporavana kao umetnica, negirana kao osoba.</s><s>Takve su se ocene prenosile i u našu domaću periodiku i publicistiku, što je stvaralo mizogeničnu atmosferu prema njenoj izuzetnoj stvaralačkoj ličnosti: taj neprijatni okolni svet koji je o njoj loše govorio za njena života; ta potreba da se njen život pokazuje kao prljavi veš, a ne da se povezuje sa njenim načelom - umetnost = život.</s><s>A život, onda, po njoj, znači neprestano traganje, kao i u umetnosti.</s><s>Njena tragalačka potreba vodila ju je u ćorsokake, kako to i biva kod stvarnih stvaralaca: nagon za stvaranjem vuče, a ti ne pogađaš onu pravu ulicu.</s><s>Ti pogrešni putevi (te pogrešne ljubavi), davali su joj novu snagu, uvek u dosluhu sa prirodom.</s><s>To je kod nje zanimljiva veza.</s><s>Kao kad udes u morske talase i oni ti daju moć talasanja, kao svoju sopstvenu moć.</s><s>Tako i ona nalazi neprestanu energiju koju joj drugi odvlače, ona je ponovo stvara i tako dok se nije istrošila i nestala kao stvarateljka.</s><s>a ona fizička smrt, dramski tako neponovljivo nama data, bila je tek tačka u stalnom dosluhu Stvoriteljeve i njene.</s><s>Nama je danas jasno da je Isidora primer žene koja stvara, kreira i inspiriše druge, kao jedna od onih koje pomeraju svet.</s><s>Plastična hirurgija prodaje</s><s>Piše: Lazar Džamić</s><s>Značajna, ozloglašena, uzdizana u nebo, glamurozna, napadana, mistifikovana - oblast advertajzinga je sve samo ne nešto što ljude, posebno one pametne ostavlja ravnodušnim.</s><s>Moglo bi da se kaže skoro vekovima ali svakako već mnogo vremena, brojni poznati i nepoznati umovi imali su šta da kažu na temu prakse unapređenja prodaje roba, usluga i ideja.</s><s>U narednim redovima nalazi se samo deo lucidnih, stručnih, zajedljivih, ironičnih ili mudrih opaski o jednom od najznačajnijih fenomena moderne civilizacije.</s><s>Mada bi naizgled mogli da se tumače kao laka materija, njihova dubina često dodiruje same osnove nama jedino poznatog načina žxivota u zapadnoj civilizaciji.</s><s>Zato zaslužuju da se podele.</s><s>Advertajzing bi mogao da se opiše i kao nauka opsedanja ljudske inteligencije dovoljno dugo da se od nje izvuče novac</s><s>Stiven Likok (1869-1944)</s><s>Ništa, izuzev kovnice novca, ne može isti da proizvodi bez advertajzinga</s><s>Makulej (1800-1859)</s><s>Problem sa nama u Americi nije u tome da nam se poezija života pretvorila u prozu, već u tome da se pretvorila u reklami tekst</s><s>Luis Kronenberger</s><s>Uvodom u analizu bilo kojeg potpunijeg izbora oglasa, osnovni sastav oglasivača se izgleda svodi na sledeće: ako ste bednici, smrdljivi, zaludni, statusom opterećeni neurotični moroni dajte mi vaše pare</s><s>Kenet Bromfild</s><s>Filozofija koja stoji u osnovi većeg dela advertajzinga bazirana je na staroj opservaciji da se svaka osoba u stvari sastoji od dve osobe: one kakva je stvarno i one kakva bi želela da bude</s><s>Vilijam Feder (1889-1981)</s><s>Možete odrediti ideale jedne nacije prema njenom celokupnom advertajzingu</s><s>Norman Daglas (1868-1952)</s><s>Advertajzing: organizovani napor da se proširi i intenzivira požuda</s><s>Oldos Haksli.</s><s>Uloga advertajzinga je da učini da svaki proizvod izgleda dobro.</s><s>To je plastična hirurgija prodaje.</s><s>Anonimni autor</s><s>Raditi biznis bez advertajzinga je kao da namigujete devojci u mraku.</s><s>Vi znate šta radite, ali ne i bilo ko drugi</s><s>Stjuart H.Brit (1907-1979).</s><s>Ovo se proizvodi u tri veličine: Velika, Gigantska i Super.</s><s>Daću vam najmanju - Veliku.</s><s>Anonimni autor</s><s>Tražite njihovu dominantnu strast ili preovlađujuću slabost; i tada ćete znati kojim mamcem da opremite vašu udicu da biste ih upecali.</s><s>Lord Cesterfikld (1694-1773)</s><s>Ne čitam oglase - inače bih proveo sve svoje vreme želeci nešto</s><s>Nadbiskup od Kenterberija</s><s>Dublji problemi povezani sa advertajzingom ne dolaze toliko od beskrupuloznosti nasih ubedjivača koliko od našeg zadovoljstva da budemo ubeđivani i zavođeni; manje od zelje da se zavodi nego od zelje da se bude zaveden</s><s>Danijel J Brostin (rodj.1914.)</s><s>Advertajzing agencija: osamdeset pet procenata konfuzije i petnaest procenata provizije</s><s>Fred Alen (1894- 1956)</s><s>Advertajzing je princip masovne produkcije primenjen na prodaju</s><s>Džon T.Dorans (1873-1930)</s><s>SAMO NAPRED, UMNOŽAVAJTE</s><s>(Da li je kloniranje božiji posao?)</s><s>Ricard Sid</s><s>Prevod:Sandra Simeunović</s><s>Ricard Sid, harvardski diplomac, profesionalni fizičar i kontraverzni naučnik, planira da promeni tok ljudske evolucije.</s><s>On namerava da nas klonira!</s><s>Ali, izvlačenje potpunog ljudskog bića iz njegovog DNK cilindra, samo je deo trika za čije izvođenje Sid tvrdi da je sposoban.</s><s>To je samo sporedno saznanje; ono što zaista pokreće Sidove motore jesu intelektualne posledice kloniranja: prema njegovoj viziji, kloniranje ljudskih bića ne svodi se na puko pravljenje sopstvenih kopija - ono je, takođe, način da se brzo pronađu lekovi za mnoštvo bolesti, uključujući i rak.</s><s>Pre svega, verujem u Boga.</s><s>Drugo, hrišćanin sam.</s><s>Treće, metodista sam, i to veoma ozbiljan.</s><s>Biblija kaže da je bog stvorio čoveka prema sopstvenom obličju.</s><s>Takođe kaže da će čovek postati jedno sa Bogom.</s><s>Da bih ovo objasnio, dozvolite mi da napravim malu digresiju: tokom prvih nekoliko stotina godina postojanja hrišćanske crkve, vodile su se beskrajne rasprave i debate.</s><s>Jedna od velikih rasprava ticala se Hristovog uskrsnuća - da li je ono bilo duhovno ili telesno?</s><s>Ona je bila uzrok velikog raskola.</s><s>Sve je rešeno početkom trećeg stoleća prihvatanjem stanovišta da je Hrist uskrsnuo i duhovno i telesno.</s><s>Ovo je još uvek zvanično prihvaćena doktrina većine hrišćanskih crkvi širom sveta.</s><s>Isto zanimljivo pitanje postavlja se i danas: kada Bog bude odlučio da se sretne sa čovekom, hoće li to učiniti duhovno ili telesno?</s><s>Opredelio sam se za tumačenje koje uključuje i jedno i drugo.</s><s>Kloniranje ljudskih bića je jedan mali korak u tom smeru.</s><s>Danas je moguće ozbiljno razmišljati o neograničenom produžetku ljudskog života i o neograničenom pristupu znanju.</s><s>Eksperimentalnim kloniranjem izvršenim u Škotskoj dokazano je da je moguće reprogramirati DNK u ćelijama i vratiti ih na nultu podelu - na nivo neizdiferencirane ćelije.</s><s>Bilo bi sjajno kada bismo naučili kako da reprogramiramo DNK i vratimo je sa tridesete na petnaestu podelu.</s><s>Tada biste ponovo mogli da imate dvadeset godina!</s><s>A postupak bi bilo moguće ponavljati koliko god puta hoćemo.</s><s>To je zapanjujuće!</s><s>Međutim, ono što mene zapravo zanima, vezano je za, našem vremenu, bliže primene.</s><s>Šta bi se dogodilo kada bismo izdvojili jednu kanceroznu ćeliju istog tipa kao što je ona korišćxena u Škotskoj - epitelnu ćeliju mlečne žlezde?</s><s>Taj tip ćelija najpodložniji je raku dojke.</s><s>Šta bi se dogodilo kada bismo izdvojili tu izmenjenu, kanceroznu ćeliju i, pošto bismo je umnožili, pokušali da izvršimo možda na stotine manipulacija njenih DNK?</s><s>Zar ne bi bilo moguće vratiti tu ćeliju na njene prve podele, na sam početak njenog života, pre no šxto je postala kancerozna?</s><s>Pomoću tehnike razrađene u Škotskoj, moguće je vratiti ćelije na nultu podelu.</s><s>Kada bismo uspeli u tome, odmah bismo pronašli lek protiv raka.</s><s>Sve ovo možda i ne bi uspelo, ali ne treba čak ni razmišljati o tome ukoliko, istovremeno, ozbiljno ne razmisljamo o nauci o kloniranju ljudskih bića.</s><s>Čak i ako ne bismo isprva izdvojili sve ćelije raka, bilo bi moguće neprestano ponavljati postupak.</s><s>U poređenju sa hemoterapijom, ovo je svakako prihvatljivije jer nisu primećeni nikakvi neželjeni efekti.</s><s>Kada bi ovo uspelo, bilo bi moguće raditi na tehnikama protiv svih vrsta raka, a naravno i AIDS-a.</s><s>Danas je na snazi zabrana korišćenja državnog budžeta za ovakva istraživanja.</s><s>Stoga bismo želeli da osnujemo vlastiti fond.</s><s>Međutim, ova vrsta eksperimenata toliko je dramatična, da bi verovatno odmah bili zabranjeni.</s><s>Vršenje eksperimenata na majmunima nije ni od kakve koristi.</s><s>Oni se moraju vršiti na ljudima.</s><s>Tehnološka i informativna korist od kloniranja ljudskih bića bila bi daleko važnija od samog kloniranja.</s><s>Ne želim da kažem da me je bog uputio da ovo radim, ali tvrdim da je to priroda protestantske misli.</s><s>Kada budemo uspeli da produžimo životni vek i kada nam postane dostupno neograničeno znanje, i mi ćemo postati poput boga.</s><s>A to i jeste božija namera.</s><s>Neki misle da preterujem.</s><s>Mom pastoru je pomalo neugodno zbog svega ovoga.</s><s>On ne odobrava moje stanovište.</s><s>Ipak, kloniranje je neizbežno.</s><s>Ako to ne uradim ja, neko drugi sigurno hoće.</s><s>Nauku je nemoguće zaustaviti.</s><s>ISIDORA - MODERNA IGRA</s><s>1878-1927 (povodom 70-godišnjice smrti) Piše: Svenka Savić Malo je znano da modernu igru otpočinju u Americi početkom veka tri samouke žene izrazite umetničke osobenosti: Isidora Dankan (Isadora Duncan:1878-1927), Loi Fuler (Loie Fuller: 1862-1928) i Rur Sen Denis (Ruth St Denis: 1880-1968).</s><s>Svaka od njih tražila je sopstvenu igru: Isidora oslonjena na grčku filozofiju življenja i igre; Loi traga za onim što igri daje novu dimenziju - osvetljenjem i bojama; Ruth se okrenula Orijentu i Indiji.</s><s>Sve tri stoje na početku priče o stvaranju moderne igre i novog shvatanja života.</s><s>Isidora je, prema mišljenju istoričara igre, igrača, koreografa, duhovna utemeljivačica moderne igre.</s><s>To pre svega znači da načela igre koja danas vidimo u modernoj igri različitih američkih i evropskih trupa, imaju zajedničkog sa onim što je ona početkom veka zastupala - da je umetnost život (Od samog početka ja sam igrala isključivo svoj sopstveni život, piše Isidora u svojoj autobiografiji).</s><s>I jedno i drugo ona zasniva na slobodi (bila je protiv institucija - pozorišnih i bračnih) i ljubavi (jedino su iskreni i neposredni ljudski odnosi merodavni).</s><s>Isidora umetnost shvata kao napor da se izrazi istina sopstvenog bića gestom i pokretom, i zato igra treba da bude izraz fizičke slobode (oslobođena od ideoloških pritisaka svake vrste).</s><s>Osnovu - i umetnosti i života - čini ljubav - umetnost se ne može razdvojiti od ljubavi (umetnik je jedini ljubavnik, samo on ima čistu viziju lepote, a ljubav je slika duše kojoj je dopušteno da se zagleda u neprolaznu lepotu'').</s><s>Sopstvenost, sloboda, ljubav i lepota osnovni su stozeri Isidorinog traganja za jednostavnim, iskonskim pokretima kojima se svakodnevno uzdiže na nivo umetničkog.</s><s>Jednostavne gestove oblikuje u praznom scenskom prostoru, oslobođenog dekora (samo plave zavese upućuju da je u pitanju pozorište, a ne život), bosonoga, raspuštene kose, obavijena porozirnom tunikom, Isidora gradi put novom viđenju smisla i cilja igre u prostoru i vremenu.</s><s>Ona negira umetnost baleta, a priznaje umetnost duše (''Ubrajam sebe u neprijatelje baleta, jer smatram da je to lažna i besmislena umetnost, zapravo, moje je mišljenje da balet uopšte ne spada u umetnost'').</s><s>Igrala je na osnovu svoje intuicije, na osnovu onoga što joj je urođena potreba, bez stvorenog plana unapred (kako je to činio Fokin ili neki drugi poznati i priznati koreograf).</s><s>Zato su mnogi bili skloni da njenu igru odrede kao improvizaciju, a taj sud već vuče negativnu konotaciju da je reč o nečem ''nestudioznom''.</s><s>Stanislavski zapaža da ''Duncanova nije u stanju da o svojoj umetnosti govori sistematično i logično.</s><s>Njoj su ideje padale na pamet slučajno, često izazvane najneočekivanijim svakodnevnim događajima''.</s><s>Baš zbog te svoje osobine da svaki put oseća i situaciju i sagovornika ona je bila velika inspiratorka, pokretačica već osvešćenih ideja svojih savremenika: vajara, slikara, posebno poslenika u pozorištu.</s><s>Ne zato što je tako htela, već zato što je svojom ličnošću nosila poslanje da u drugima budi potencijale koji će ih učiniti vidljivim svetu.</s><s>Ocu svoje dvoje dece, voljenom čoveku,stvorila je mogućnst da primeni svoje pozorišne ideje i da postane tvorac modernog teatra.</s><s>Gledajući nju na sceni on je u sebi otkrio da o pozorištu misli isto (''Ali zašto ste ukrali moje ideje i gde ste našli moje dekoracije''?/</s><s>''Izmislila sam ih kad mi je bilo pet godina, i od tad igram u svom dekoru'').</s><s>Fokin priznaje u autobiografiji (Protiv struje) da se tek nakon viđenja Isidorine igre osmelio da unese izmene u svojim klasičnim baletima o čemu je razmišljao i pre susreta s njom, ali nije imao dovoljno smelosti da ih realizuje.</s><s>Na mnogo mesta u knjizi govori o Isidori kao onoj neponovljivoj inspiratorki koja očarava igrom i idejama.</s><s>Isidora beleži u autobiografiji (Moj život) susret sa Stanislavskim: ''Jasno mi je da smo mi tražili jedno te isto, ali u različitim vidovima umetnosti''... ''mi smo se razumeli skoro pre nego što smo prozborili i jednu jedinu reč''.</s><s>Stanislavski slično potvrđuje (u kjizi Moj život u umetnosti): ''Shvatio sam da na raznim krajevima sveta, silom nama nepoznatih okolnosti, različiti ljudi u raznim oblastima, tragaju za novim, prirodno nastalim stvaralačkim principima.</s><s>Kad se sretnu, iznenade se saznanjem o zajedničkim obeležjima svojih ideja - mi smo se razumeli skoro pre nego što smo prozborili i jednu jedinu reč''.</s><s>Isidora je preteča današnjeg događanja u umetnosti igre: svoju svakodnevnicu promišlja kao trenutak istorije, pridajući joj onu važnost koju joj je Stvoritelj namenio.</s><s>Priroda, voda, more, bili su stalni izvori inspiracije njene stvaralačke energije, njene urođene potrebe da onome što je stvoreno oko nje daje opsteljudska značenja, religiozno verujući da ima mističnu vezu sa Stvoriteljom prirode (''Moj život i moja umetnost rođeni su iz mora'').</s><s>Tvrdila je za sebe da je ateistkinja, a verovala je u predodređenost života; želela je ''da izvrši obnovu religije kroz igru, da postigne punu spoznaju lepote i svetlosti ljudskog tela izražene pokretom''.</s><s>Taj tragalački put bio je dug: ''Dane i noći sam provodila u studiju mučeći se da otkrijem onu igru koja bi mogla biti božanski izraz čovekove duše, ovaploćen u pokretima tela''.</s><s>Nekonvencionalnim životom pokušala je da afirmiše sopstvenost, lepotu, ljubav i slobodu u životu (muškarca i žene), načela koja prelaze u umetnost i otuda se od nje otuđuju i postaju naša.</s><s>Njena potreba da stvara igrom, bila je veća od drugih potreba koje bi joj društvene konvencije nametale.</s><s>Ona je feministkinja po načinu na koji je stvarala i po onome što je stvorila.</s><s>U puritanskoj Americi svoga vremena, kao i u Evropi gde je većinu godina igrala, bila je za života , osporavana kao umetnica, negirana kao osoba.</s><s>Takve su se ocene prenosile i u našu domaću periodiku i publicistiku, što je stvaralo mizogeničnu atmosferu prema njenoj izuzetnoj stvaralačkoj ličnosti: taj neprijatni okolni svet koji je o njoj loše govorio za njena života; ta potreba da se njen život pokazuje kao prljavi veš, a ne da se povezuje sa njenim načelom - umetnost = život.</s><s>A život, onda, po njoj, znači neprestano traganje, kao i u umetnosti.</s><s>Njena tragalačka potreba vodila ju je u ćorsokake, kako to i biva kod stvarnih stvaralaca: nagon za stvaranjem vuče, a ti ne pogađaš onu pravu ulicu.</s><s>Ti pogrešni putevi (te pogrešne ljubavi), davali su joj novu snagu, uvek u dosluhu sa prirodom.</s><s>To je kod nje zanimljiva veza.</s><s>Kao kad udes u morske talase i oni ti daju moć talasanja, kao svoju sopstvenu moć.</s><s>Tako i ona nalazi neprestanu energiju koju joj drugi odvlače, ona je ponovo stvara i tako dok se nije istrošila i nestala kao stvarateljka. a ona fizička smrt, dramski tako neponovljivo nama data, bila je tek tačka u stalnom dosluhu Stvoriteljeve i njene.</s><s>Nama je danas jasno da je Isidora primer žene koja stvara, kreira i inspiriše druge, kao jedna od onih koje pomeraju svet.</s><s>Plastična hirurgija prodaje</s><s>Piše: Lazar Džamić Značajna, ozloglašena, uzdizana u nebo, glamurozna, napadana, mistifikovana - oblast advertajzinga je sve samo ne nešto što ljude, posebno one pametne ostavlja ravnodušnim.</s><s>Moglo bi da se kaže skoro vekovima ali svakako već mnogo vremena, brojni poznati i nepoznati umovi imali su šta da kažu na temu prakse unapređenja prodaje roba, usluga i ideja.</s><s>U narednim redovima nalazi se samo deo lucidnih, stručnih, zajedljivih, ironičnih ili mudrih opaski o jednom od najznačajnijih fenomena moderne civilizacije.</s><s>Mada bi naizgled mogli da se tumače kao laka materija, njihova dubina često dodiruje same osnove nama jedino poznatog načina žxivota u zapadnoj civilizaciji.</s><s>Zato zaslužuju da se podele.</s><s>Advertajzing bi mogao da se opiše i kao nauka opsedanja ljudske inteligencije dovoljno dugo da se od nje izvuče novac Stiven Likok (1869-1944)</s><s>Ništa, izuzev kovnice novca, ne može isti da proizvodi bez advertajzinga Makulej (1800-1859)</s><s>Problem sa nama u Americi nije u tome da nam se poezija života pretvorila u prozu, već u tome da se pretvorila u reklami tekst Luis Kronenberger</s><s>Uvodom u analizu bilo kojeg potpunijeg izbora oglasa, osnovni sastav oglasivača se izgleda svodi na sledeće: ako ste bednici, smrdljivi, zaludni, statusom opterećeni neurotični moroni dajte mi vaše pare Kenet Bromfild</s><s>Filozofija koja stoji u osnovi većeg dela advertajzinga bazirana je na staroj opservaciji da se svaka osoba u stvari sastoji od dve osobe: one kakva je stvarno i one kakva bi želela da bude Vilijam Feder (1889-1981)</s><s>Možete odrediti ideale jedne nacije prema njenom celokupnom advertajzingu Norman Daglas (1868-1952)</s><s>Advertajzing: organizovani napor da se proširi i intenzivira požuda Oldos Haksli Uloga advertajzinga je da učini da svaki proizvod izgleda dobro.</s><s>To je plastična hirurgija prodaje.</s><s>Anonimni autor</s><s>Raditi biznis bez advertajzinga je kao da namigujete devojci u mraku.</s><s>Vi znate šta radite, ali ne i bilo ko drugi Stjuart H. Brit (1907-1979)</s><s>Ovo se proizvodi u tri veličine: Velika, Gigantska i Super.</s><s>Daću vam najmanju - Veliku.</s><s>Anonimni autor</s><s>Tražite njihovu dominantnu strast ili preovlađujuću slabost; i tada ćete znati kojim mamcem da opremite vašu udicu da biste ih upecali Lord Cesterfikld (1694-1773)</s><s>Ne čitam oglase - inače bih proveo sve svoje vreme želeci nešto Nadbiskup od Kenterberija</s><s>Dublji problemi povezani sa advertajzingom ne dolaze toliko od beskrupuloznosti nasih ubedjivača koliko od našeg zadovoljstva da budemo ubeđivani i zavođeni; manje od zelje da se zavodi nego od zelje da se bude zaveden Danijel J Brostin (rodj.</s><s>Advertajzing agencija: osamdeset pet procenata konfuzije i petnaest procenata provizije Fred Alen (1894- 1956)</s><s>Advertajzing je princip masovne produkcije primenjen na prodaju Džon T. Dorans (1873-1930)</s><s>SAMO NAPRED, UMNOŽAVAJTE</s><s>(Da li je kloniranje božiji posao?)</s><s>Ricard Sid Prevod:Sandra Simeunović Ricard Sid, harvardski diplomac, profesionalni fizičar i kontraverzni naučnik, planira da promeni tok ljudske evolucije.</s><s>On namerava da nas klonira!</s><s>Ali, izvlačenje potpunog ljudskog bića iz njegovog DNK cilindra, samo je deo trika za čije izvođenje Sid tvrdi da je sposoban.</s><s>To je samo sporedno saznanje; ono što zaista pokreće Sidove motore jesu intelektualne posledice kloniranja: prema njegovoj viziji, kloniranje ljudskih bića ne svodi se na puko pravljenje sopstvenih kopija - ono je, takođe, način da se brzo pronađu lekovi za mnoštvo bolesti, uključujući i rak.</s><s>Pre svega, verujem u Boga.</s><s>Drugo, hrišćanin sam.</s><s>Treće, metodista sam, i to veoma ozbiljan.</s><s>Biblija kaže da je bog stvorio čoveka prema sopstvenom obličju.</s><s>Takođe kaže da će čovek postati jedno sa Bogom.</s><s>Da bih ovo objasnio, dozvolite mi da napravim malu digresiju: tokom prvih nekoliko stotina godina postojanja hrišćanske crkve, vodile su se beskrajne rasprave i debate.</s><s>Jedna od velikih rasprava ticala se Hristovog uskrsnuća - da li je ono bilo duhovno ili telesno?</s><s>Ona je bila uzrok velikog raskola.</s><s>Sve je rešeno početkom trećeg stoleća prihvatanjem stanovišta da je Hrist uskrsnuo i duhovno i telesno.</s><s>Ovo je još uvek zvanično prihvaćena doktrina većine hrišćanskih crkvi širom sveta.</s><s>Isto zanimljivo pitanje postavlja se i danas: kada Bog bude odlučio da se sretne sa čovekom, hoće li to učiniti duhovno ili telesno?</s><s>Opredelio sam se za tumačenje koje uključuje i jedno i drugo.</s><s>Kloniranje ljudskih bića je jedan mali korak u tom smeru.</s><s>Danas je moguće ozbiljno razmišljati o neograničenom produžetku ljudskog života i o neograničenom pristupu znanju.</s><s>Eksperimentalnim kloniranjem izvršenim u Škotskoj dokazano je da je moguće reprogramirati DNK u ćelijama i vratiti ih na nultu podelu - na nivo neizdiferencirane ćelije.</s><s>Bilo bi sjajno kada bismo naučili kako da reprogramiramo DNK i vratimo je sa tridesete na petnaestu podelu.</s><s>Tada biste ponovo mogli da imate dvadeset godina!</s><s>A postupak bi bilo moguće ponavljati koliko god puta hoćemo.</s><s>To je zapanjujuće!</s><s>Međutim, ono što mene zapravo zanima, vezano je za, našem vremenu, bliže primene.</s><s>Šta bi se dogodilo kada bismo izdvojili jednu kanceroznu ćeliju istog tipa kao što je ona korišćxena u Škotskoj - epitelnu ćeliju mlečne žlezde?</s><s>Taj tip ćelija najpodložniji je raku dojke.</s><s>Šta bi se dogodilo kada bismo izdvojili tu izmenjenu, kanceroznu ćeliju i, pošto bismo je umnožili, pokušali da izvršimo možda na stotine manipulacija njenih DNK?</s><s>Zar ne bi bilo moguće vratiti tu ćeliju na njene prve podele, na sam početak njenog života, pre no šxto je postala kancerozna?</s><s>Pomoću tehnike razrađene u Škotskoj, moguće je vratiti ćelije na nultu podelu.</s><s>Kada bismo uspeli u tome, odmah bismo pronašli lek protiv raka.</s><s>Sve ovo možda i ne bi uspelo, ali ne treba čak ni razmišljati o tome ukoliko, istovremeno, ozbiljno ne razmisljamo o nauci o kloniranju ljudskih bića.</s><s>Čak i ako ne bismo isprva izdvojili sve ćelije raka, bilo bi moguće neprestano ponavljati postupak.</s><s>U poređenju sa hemoterapijom, ovo je svakako prihvatljivije jer nisu primećeni nikakvi neželjeni efekti.</s><s>Kada bi ovo uspelo, bilo bi moguće raditi na tehnikama protiv svih vrsta raka, a naravno i AIDS-a.</s><s>Danas je na snazi zabrana korišćenja državnog budžeta za ovakva</s><s>Stoga bismo želeli da osnujemo vlastiti fond.</s><s>Međutim, ova vrsta eksperimenata toliko je dramatična, da bi verovatno odmah bili zabranjeni.</s><s>Vršenje eksperimenata na majmunima nije ni od kakve koristi.</s><s>Oni se moraju vršiti na ljudima.</s><s>Tehnološka i informativna korist od kloniranja ljudskih bića bila bi daleko važnija od samog kloniranja.</s><s>Ne želim da kažem da me je bog uputio da ovo radim, ali tvrdim da je to priroda protestantske misli.</s><s>Kada budemo uspeli da produžimo životni vek i kada nam postane dostupno neograničeno znanje, i mi ćemo postati poput boga.</s><s>A to i jeste božija namera.</s><s>Neki misle da preterujem.</s><s>Mom pastoru je pomalo neugodno zbog svega ovoga.</s><s>On ne odobrava moje stanovište.</s><s>Ipak, kloniranje je neizbežno.</s><s>Ako to ne uradim ja, neko drugi sigurno hoće.</s><s>Nauku je nemoguće zaustaviti.</s>\n",
      "<class 'list'>\n",
      "337\n"
     ]
    }
   ],
   "source": [
    "print(dataset['train']['text'][0])\n",
    "print(type(dataset['train']['text']))\n",
    "print(len(dataset['train']['text']))"
   ]
  },
  {
   "cell_type": "code",
   "execution_count": 3,
   "metadata": {},
   "outputs": [
    {
     "name": "stdout",
     "output_type": "stream",
     "text": [
      "<s>Iskoristite poslednju šansu</s><s>Dok šefovi država sveta u Meksiku uzalud troše četiri dragocena dana pokušavajući da ubede javnost da saopštenjima za novinare mogu da reše svetske ekonomske probleme, i probleme životne sredine u Brazilu, evropski lideri zaista imaju poslednju šansu da odluče o svojoj sudbini.</s><s>Poslednju šansu, jer ako ne urade ništa, opstanak evra će ponovo, narednog leta, zavisiti od masivnih intervencija centralnih banaka.</s><s>A sve naše zemlje ubrzo će preplaviti ogroman talas depresije, pa će kao čepovi plutati po okeanu tržišta.</s><s>Poslednju šansu, jer još uvek shvataju da razdvojeni rizikuju propast; dok bi ujedinjeni dugo mogli da budu vodeća svetska sila, sa najvišim životnim standardom na planeti.</s><s>Da bi se ovo desilo, svako treba da krene u susret onom drugom.</s><s>Nemci moraju da shvate da je njihova trenutna snaga samo iluzija ako se Evropa raspadne.</s><s>I da imaju lični interes u tome da daju malo vremena drugima, kao i sebi, za svođenje računa, za demografsku regeneraciju i spasavanje svojih banaka.</s><s>I da shvate da su francuski predlozi o rastu razumni.</s><s>Francuzi moraju da shvate da nemački predlog o zajedničkom telu za revizije javnih deficita svih zemalja ne ograničava naš suverenitet: mi ćemo zadržati pravo da sami odredimo iznos i prirodu svojih troškova i svojih poreza.</s><s>Sve zemlje moraju da shvate da ne postoji drugo rešenje osim kompromisa, koji zahteva veće odricanje, veću hrabrost i veću solidarnost.</s><s>Svi moraju da shvate da su potrebni veći rezovi javne potrošnje umesto povećanja poreza, da se rad i trud moraju nagraditi, da je konkurentnost neophodna za društvenu dobrobit, da se moraju usaglasiti socijalna davanja, nadoknade za nezaposlenost i nivo penzija.</s><s>Svi moraju da shvate da moramo odoleti primamljivom zovu suverenista i iluzijama prevaziđene nacionalne diplomatije.</s><s>Sada kada su izbori završeni, predsednik Francuske Republike je u retko dobroj poziciji.</s><s>Dobro je objasnio da rast mora biti deo plana za oporavak Evrope.</s><s>Predložio je stvaranje niza korisnih instrumenata za taj rast, i davanje mogućnosti našem finansijskom sistemu da kontroliše svoju budućnost.</s><s>Sada ostaje da se Francuska odredi da li je za ili protiv federalnog koraka, koji je nedavno predložila nemačka kancelarka; mora odlučiti da li evropski ministar finansija može da vrši reviziju budžetskih obaveza svakog Evropljanina i da li je to u skladu sa koncepcijom nacionalnog suvereniteta.</s><s>Ako Evropljani, a naročito Francuzi i Nemci, ne naprave ovaj korak ka federalizaciji, jednog dana će, skorije nego što misle, morati da se na najponizniji način podrede diktatu tržišta; to jest, moraće da slušaju naredbe novih svetskih sila, nosioce prava na rentu, i naredbe Sjedinjenih Američkih Država, koje će nesumnjivo znati, naročito sa otkrićem novih naftnih rezervi, kako da očuvaju status velesile.</s><s>Tada ćemo shvatiti šta zaista znači gubitak suvereniteta.</s><s>Žak Atali</s>\n",
      "70\n"
     ]
    }
   ],
   "source": [
    "texts = dataset['train']['text'][:70]\n",
    "print(texts[2])\n",
    "print(len(texts))"
   ]
  },
  {
   "cell_type": "code",
   "execution_count": 4,
   "metadata": {},
   "outputs": [
    {
     "name": "stderr",
     "output_type": "stream",
     "text": [
      "/home/teodora/Development/SRBedding/.venv/lib/python3.10/site-packages/transformers/tokenization_utils_base.py:1601: FutureWarning: `clean_up_tokenization_spaces` was not set. It will be set to `True` by default. This behavior will be depracted in transformers v4.45, and will be then set to `False` by default. For more details check this issue: https://github.com/huggingface/transformers/issues/31884\n",
      "  warnings.warn(\n"
     ]
    }
   ],
   "source": [
    "# Load model directly\n",
    "from transformers import AutoTokenizer, AutoModelForMaskedLM\n",
    "\n",
    "tokenizer = AutoTokenizer.from_pretrained(\"jerteh/Jerteh-355\")\n",
    "model = AutoModelForMaskedLM.from_pretrained(\"jerteh/Jerteh-355\")"
   ]
  },
  {
   "cell_type": "code",
   "execution_count": 5,
   "metadata": {},
   "outputs": [],
   "source": [
    "from bertopic import BERTopic\n",
    "from umap import UMAP\n",
    "\n",
    "# Prepare embeddings\n",
    "embeddings = tokenizer(texts)\n",
    "\n",
    "# # Train BERTopic\n",
    "# topic_model = BERTopic().fit(texts, embeddings)\n",
    "\n",
    "# # Run the visualization with the original embeddings\n",
    "# topic_model.visualize_documents(texts, embeddings=embeddings)\n",
    "\n",
    "# # Reduce dimensionality of embeddings, this step is optional but much faster to perform iteratively:\n",
    "# reduced_embeddings = UMAP(n_neighbors=10, n_components=2, min_dist=0.0, metric='cosine').fit_transform(embeddings)\n",
    "# topic_model.visualize_documents(texts, reduced_embeddings=reduced_embeddings)\n",
    "embeddings"
   ]
  },
  {
   "cell_type": "code",
   "execution_count": null,
   "metadata": {},
   "outputs": [],
   "source": [
    "from bertopic import BERTopic\n",
    "from transformers import AutoTokenizer, AutoModelForMaskedLM\n",
    "from torch import LongTensor, no_grad\n",
    "from scipy import spatial\n",
    "from umap import UMAP\n",
    "from hdbscan import HDBSCAN\n",
    "from sklearn.feature_extraction.text import CountVectorizer# Defining model pipeline\n",
    "\n",
    "umap_model = UMAP(n_neighbors= 5, n_components= 3, metric='cosine', random_state=42)\n",
    "hdbscan_model = HDBSCAN(min_cluster_size = 2, metric ='euclidean', cluster_selection_method = 'eom', prediction_data=True)\n",
    "vectorizer_model = CountVectorizer(min_df = 3, max_df = 0.8, ngram_range = (1, 2))\n",
    "\n",
    "topic_model = BERTopic(\n",
    "\n",
    "  # Pipeline models\n",
    "  \n",
    "  embedding_model=model,\n",
    "  umap_model=umap_model,\n",
    "  hdbscan_model=hdbscan_model,\n",
    "  vectorizer_model=vectorizer_model,\n",
    "  min_topic_size = 3,\n",
    "\n",
    "  # Hyperparameters\n",
    "  top_n_words=10,\n",
    "  verbose=True\n",
    ")"
   ]
  },
  {
   "cell_type": "code",
   "execution_count": null,
   "metadata": {},
   "outputs": [
    {
     "name": "stderr",
     "output_type": "stream",
     "text": [
      "2024-08-12 17:05:13,579 - BERTopic - Embedding - Transforming documents to embeddings.\n"
     ]
    },
    {
     "data": {
      "application/vnd.jupyter.widget-view+json": {
       "model_id": "00840f32de97479b98fcde4f0750a1f6",
       "version_major": 2,
       "version_minor": 0
      },
      "text/plain": [
       "Batches:   0%|          | 0/3 [00:00<?, ?it/s]"
      ]
     },
     "metadata": {},
     "output_type": "display_data"
    },
    {
     "name": "stderr",
     "output_type": "stream",
     "text": [
      "2024-08-12 17:06:30,784 - BERTopic - Embedding - Completed ✓\n",
      "2024-08-12 17:06:30,784 - BERTopic - Dimensionality - Fitting the dimensionality reduction algorithm\n",
      "2024-08-12 17:06:37,518 - BERTopic - Dimensionality - Completed ✓\n",
      "2024-08-12 17:06:37,519 - BERTopic - Cluster - Start clustering the reduced embeddings\n",
      "2024-08-12 17:06:37,539 - BERTopic - Cluster - Completed ✓\n",
      "2024-08-12 17:06:37,545 - BERTopic - Representation - Extracting topics from clusters using representation models.\n",
      "2024-08-12 17:07:52,955 - BERTopic - Representation - Completed ✓\n"
     ]
    },
    {
     "data": {
      "text/html": [
       "<div>\n",
       "<style scoped>\n",
       "    .dataframe tbody tr th:only-of-type {\n",
       "        vertical-align: middle;\n",
       "    }\n",
       "\n",
       "    .dataframe tbody tr th {\n",
       "        vertical-align: top;\n",
       "    }\n",
       "\n",
       "    .dataframe thead th {\n",
       "        text-align: right;\n",
       "    }\n",
       "</style>\n",
       "<table border=\"1\" class=\"dataframe\">\n",
       "  <thead>\n",
       "    <tr style=\"text-align: right;\">\n",
       "      <th></th>\n",
       "      <th>Topic</th>\n",
       "      <th>Count</th>\n",
       "      <th>Name</th>\n",
       "      <th>Representation</th>\n",
       "      <th>Representative_Docs</th>\n",
       "    </tr>\n",
       "  </thead>\n",
       "  <tbody>\n",
       "    <tr>\n",
       "      <th>0</th>\n",
       "      <td>-1</td>\n",
       "      <td>10</td>\n",
       "      <td>-1_font_font family_size_font size</td>\n",
       "      <td>[font, font family, size, font size, korona, s...</td>\n",
       "      <td>[&lt;s&gt;Beograd noćas mora pasti&lt;/s&gt;&lt;s&gt;Deci koja b...</td>\n",
       "    </tr>\n",
       "    <tr>\n",
       "      <th>1</th>\n",
       "      <td>0</td>\n",
       "      <td>10</td>\n",
       "      <td>0_font_font family_font size_size</td>\n",
       "      <td>[font, font family, font size, size, belex15, ...</td>\n",
       "      <td>[&lt;s&gt;O čemu smo govorili protekle godine&lt;/s&gt;&lt;s&gt;...</td>\n",
       "    </tr>\n",
       "    <tr>\n",
       "      <th>2</th>\n",
       "      <td>1</td>\n",
       "      <td>8</td>\n",
       "      <td>1_je vesić_beogradskoj berzi_indeksa_belex15</td>\n",
       "      <td>[je vesić, beogradskoj berzi, indeksa, belex15...</td>\n",
       "      <td>[&lt;s&gt;Patrole komunalne milicije obišle više od ...</td>\n",
       "    </tr>\n",
       "    <tr>\n",
       "      <th>3</th>\n",
       "      <td>2</td>\n",
       "      <td>7</td>\n",
       "      <td>2_brnabić_premijerka_onomad_šešelj</td>\n",
       "      <td>[brnabić, premijerka, onomad, šešelj, prvorođe...</td>\n",
       "      <td>[&lt;s&gt;Tadićev dvokorak&lt;/s&gt;&lt;s&gt;Dok se Aleksandar V...</td>\n",
       "    </tr>\n",
       "    <tr>\n",
       "      <th>4</th>\n",
       "      <td>3</td>\n",
       "      <td>6</td>\n",
       "      <td>3_ilirika_agrobanke_000 km_suv</td>\n",
       "      <td>[ilirika, agrobanke, 000 km, suv, renault, vw,...</td>\n",
       "      <td>[&lt;s&gt;Mečka na usijanom limenom krovu&lt;/s&gt;&lt;s&gt;Piše...</td>\n",
       "    </tr>\n",
       "    <tr>\n",
       "      <th>5</th>\n",
       "      <td>4</td>\n",
       "      <td>5</td>\n",
       "      <td>4_koštunica_šešelj_zločin_šešelja</td>\n",
       "      <td>[koštunica, šešelj, zločin, šešelja, kišjuhas,...</td>\n",
       "      <td>[&lt;s&gt;LjUBAV JE JEDINI SPAS&lt;/s&gt;&lt;s&gt;Sa vrsnim glum...</td>\n",
       "    </tr>\n",
       "    <tr>\n",
       "      <th>6</th>\n",
       "      <td>5</td>\n",
       "      <td>4</td>\n",
       "      <td>5_toyota_corolla_peugeot_vw</td>\n",
       "      <td>[toyota, corolla, peugeot, vw, električnih aut...</td>\n",
       "      <td>[&lt;s&gt;Pravi med je skup:&lt;/s&gt;&lt;s&gt;Evo kakve namete ...</td>\n",
       "    </tr>\n",
       "    <tr>\n",
       "      <th>7</th>\n",
       "      <td>6</td>\n",
       "      <td>4</td>\n",
       "      <td>6_trgovanju_indeksa_beogradskoj berzi_promet od</td>\n",
       "      <td>[trgovanju, indeksa, beogradskoj berzi, promet...</td>\n",
       "      <td>[&lt;s&gt;Radno vreme za praznike&lt;/s&gt;&lt;s&gt;U ponedeljak...</td>\n",
       "    </tr>\n",
       "    <tr>\n",
       "      <th>8</th>\n",
       "      <td>7</td>\n",
       "      <td>4</td>\n",
       "      <td>7_ličnost danas_koštunica_srebrenici_msp</td>\n",
       "      <td>[ličnost danas, koštunica, srebrenici, msp, zl...</td>\n",
       "      <td>[&lt;s&gt;Vanredno stanje uma&lt;/s&gt;&lt;s&gt;Šta znači kad je...</td>\n",
       "    </tr>\n",
       "    <tr>\n",
       "      <th>9</th>\n",
       "      <td>8</td>\n",
       "      <td>4</td>\n",
       "      <td>8_je vesić_radojičić_font_beoinfo</td>\n",
       "      <td>[je vesić, radojičić, font, beoinfo, vesić je,...</td>\n",
       "      <td>[&lt;s&gt;U gradu 130.000 turista&lt;/s&gt;&lt;s&gt;Danas, popod...</td>\n",
       "    </tr>\n",
       "    <tr>\n",
       "      <th>10</th>\n",
       "      <td>9</td>\n",
       "      <td>3</td>\n",
       "      <td>9_font_font family_font size_size</td>\n",
       "      <td>[font, font family, font size, size, size 12pt...</td>\n",
       "      <td>[&lt;s&gt;Tokom dana veći broj vozila na svim putnim...</td>\n",
       "    </tr>\n",
       "    <tr>\n",
       "      <th>11</th>\n",
       "      <td>10</td>\n",
       "      <td>3</td>\n",
       "      <td>10_beogradski vodovod_alimpić_čukarica_vode će</td>\n",
       "      <td>[beogradski vodovod, alimpić, čukarica, vode ć...</td>\n",
       "      <td>[&lt;s&gt;Radno vreme prodavnica&lt;/s&gt;&lt;s&gt;Prema odredba...</td>\n",
       "    </tr>\n",
       "    <tr>\n",
       "      <th>12</th>\n",
       "      <td>11</td>\n",
       "      <td>2</td>\n",
       "      <td>11_cenjeni publikume_publikume_siniša mali_ama</td>\n",
       "      <td>[cenjeni publikume, publikume, siniša mali, am...</td>\n",
       "      <td>[&lt;s&gt;Budžet za narednu godinu 80,2 milijarde di...</td>\n",
       "    </tr>\n",
       "  </tbody>\n",
       "</table>\n",
       "</div>"
      ],
      "text/plain": [
       "    Topic  Count                                             Name  \\\n",
       "0      -1     10               -1_font_font family_size_font size   \n",
       "1       0     10                0_font_font family_font size_size   \n",
       "2       1      8     1_je vesić_beogradskoj berzi_indeksa_belex15   \n",
       "3       2      7               2_brnabić_premijerka_onomad_šešelj   \n",
       "4       3      6                   3_ilirika_agrobanke_000 km_suv   \n",
       "5       4      5                4_koštunica_šešelj_zločin_šešelja   \n",
       "6       5      4                      5_toyota_corolla_peugeot_vw   \n",
       "7       6      4  6_trgovanju_indeksa_beogradskoj berzi_promet od   \n",
       "8       7      4         7_ličnost danas_koštunica_srebrenici_msp   \n",
       "9       8      4                8_je vesić_radojičić_font_beoinfo   \n",
       "10      9      3                9_font_font family_font size_size   \n",
       "11     10      3   10_beogradski vodovod_alimpić_čukarica_vode će   \n",
       "12     11      2   11_cenjeni publikume_publikume_siniša mali_ama   \n",
       "\n",
       "                                       Representation  \\\n",
       "0   [font, font family, size, font size, korona, s...   \n",
       "1   [font, font family, font size, size, belex15, ...   \n",
       "2   [je vesić, beogradskoj berzi, indeksa, belex15...   \n",
       "3   [brnabić, premijerka, onomad, šešelj, prvorođe...   \n",
       "4   [ilirika, agrobanke, 000 km, suv, renault, vw,...   \n",
       "5   [koštunica, šešelj, zločin, šešelja, kišjuhas,...   \n",
       "6   [toyota, corolla, peugeot, vw, električnih aut...   \n",
       "7   [trgovanju, indeksa, beogradskoj berzi, promet...   \n",
       "8   [ličnost danas, koštunica, srebrenici, msp, zl...   \n",
       "9   [je vesić, radojičić, font, beoinfo, vesić je,...   \n",
       "10  [font, font family, font size, size, size 12pt...   \n",
       "11  [beogradski vodovod, alimpić, čukarica, vode ć...   \n",
       "12  [cenjeni publikume, publikume, siniša mali, am...   \n",
       "\n",
       "                                  Representative_Docs  \n",
       "0   [<s>Beograd noćas mora pasti</s><s>Deci koja b...  \n",
       "1   [<s>O čemu smo govorili protekle godine</s><s>...  \n",
       "2   [<s>Patrole komunalne milicije obišle više od ...  \n",
       "3   [<s>Tadićev dvokorak</s><s>Dok se Aleksandar V...  \n",
       "4   [<s>Mečka na usijanom limenom krovu</s><s>Piše...  \n",
       "5   [<s>LjUBAV JE JEDINI SPAS</s><s>Sa vrsnim glum...  \n",
       "6   [<s>Pravi med je skup:</s><s>Evo kakve namete ...  \n",
       "7   [<s>Radno vreme za praznike</s><s>U ponedeljak...  \n",
       "8   [<s>Vanredno stanje uma</s><s>Šta znači kad je...  \n",
       "9   [<s>U gradu 130.000 turista</s><s>Danas, popod...  \n",
       "10  [<s>Tokom dana veći broj vozila na svim putnim...  \n",
       "11  [<s>Radno vreme prodavnica</s><s>Prema odredba...  \n",
       "12  [<s>Budžet za narednu godinu 80,2 milijarde di...  "
      ]
     },
     "execution_count": 6,
     "metadata": {},
     "output_type": "execute_result"
    }
   ],
   "source": [
    "# Train model\n",
    "topics, probs = topic_model.fit_transform(texts)\n",
    "\n",
    "# Show topics\n",
    "topics_bert = topic_model.get_topic_info()\n",
    "topics_bert"
   ]
  },
  {
   "cell_type": "code",
   "execution_count": null,
   "metadata": {},
   "outputs": [],
   "source": [
    "topic_model.visualize_documents(texts, reduced_embeddings=reduced_embeddings, \n",
    "                                hide_document_hover=True, hide_annotations=True)"
   ]
  },
  {
   "cell_type": "code",
   "execution_count": 35,
   "metadata": {},
   "outputs": [
    {
     "data": {
      "application/vnd.plotly.v1+json": {
       "config": {
        "plotlyServerURL": "https://plot.ly"
       },
       "data": [
        {
         "customdata": [
          [
           0,
           "font | font family | font size | size | belex15",
           10
          ],
          [
           1,
           "je vesić | beogradskoj berzi | indeksa | belex15 | trgovanje",
           8
          ],
          [
           2,
           "brnabić | premijerka | onomad | šešelj | prvorođeni",
           7
          ],
          [
           3,
           "ilirika | agrobanke | 000 km | suv | renault",
           6
          ],
          [
           4,
           "koštunica | šešelj | zločin | šešelja | kišjuhas",
           5
          ],
          [
           5,
           "toyota | corolla | peugeot | vw | električnih automobila",
           4
          ],
          [
           6,
           "trgovanju | indeksa | beogradskoj berzi | promet od | beogradske berze",
           4
          ],
          [
           7,
           "ličnost danas | koštunica | srebrenici | msp | zločin",
           4
          ],
          [
           8,
           "je vesić | radojičić | font | beoinfo | vesić je",
           4
          ],
          [
           9,
           "font | font family | font size | size | size 12pt",
           3
          ],
          [
           10,
           "beogradski vodovod | alimpić | čukarica | vode će | ostati potrošači",
           3
          ],
          [
           11,
           "cenjeni publikume | publikume | siniša mali | ama | elem",
           2
          ]
         ],
         "hovertemplate": "<b>Topic %{customdata[0]}</b><br>%{customdata[1]}<br>Size: %{customdata[2]}",
         "legendgroup": "",
         "marker": {
          "color": "#B0BEC5",
          "line": {
           "color": "DarkSlateGrey",
           "width": 2
          },
          "size": [
           10,
           8,
           7,
           6,
           5,
           4,
           4,
           4,
           4,
           3,
           3,
           2
          ],
          "sizemode": "area",
          "sizeref": 0.00625,
          "symbol": "circle"
         },
         "mode": "markers",
         "name": "",
         "orientation": "v",
         "showlegend": false,
         "type": "scatter",
         "x": [
          17.83007049560547,
          17.112152099609375,
          16.713815689086914,
          17.386089324951172,
          14.327622413635254,
          17.16592025756836,
          16.62724494934082,
          14.868497848510742,
          16.47962760925293,
          13.89150619506836,
          15.840797424316406,
          17.58656120300293
         ],
         "xaxis": "x",
         "y": [
          8.569925308227539,
          11.270061492919922,
          10.931646347045898,
          8.480289459228516,
          12.469511985778809,
          8.955784797668457,
          11.6524658203125,
          12.231433868408203,
          8.013222694396973,
          12.724434852600098,
          11.185765266418457,
          7.863562107086182
         ],
         "yaxis": "y"
        }
       ],
       "layout": {
        "annotations": [
         {
          "showarrow": false,
          "text": "D1",
          "x": 11.807780265808105,
          "y": 10.658563613891602,
          "yshift": 10
         },
         {
          "showarrow": false,
          "text": "D2",
          "x": 16.15618133544922,
          "xshift": 10,
          "y": 14.633100509643555
         }
        ],
        "height": 650,
        "hoverlabel": {
         "bgcolor": "white",
         "font": {
          "family": "Rockwell",
          "size": 16
         }
        },
        "legend": {
         "itemsizing": "constant",
         "tracegroupgap": 0
        },
        "margin": {
         "t": 60
        },
        "shapes": [
         {
          "line": {
           "color": "#CFD8DC",
           "width": 2
          },
          "type": "line",
          "x0": 16.15618133544922,
          "x1": 16.15618133544922,
          "y0": 6.684027671813965,
          "y1": 14.633100509643555
         },
         {
          "line": {
           "color": "#9E9E9E",
           "width": 2
          },
          "type": "line",
          "x0": 11.807780265808105,
          "x1": 20.504581451416016,
          "y0": 10.658563613891602,
          "y1": 10.658563613891602
         }
        ],
        "sliders": [
         {
          "active": 0,
          "pad": {
           "t": 50
          },
          "steps": [
           {
            "args": [
             {
              "marker.color": [
               [
                "red",
                "#B0BEC5",
                "#B0BEC5",
                "#B0BEC5",
                "#B0BEC5",
                "#B0BEC5",
                "#B0BEC5",
                "#B0BEC5",
                "#B0BEC5",
                "#B0BEC5",
                "#B0BEC5",
                "#B0BEC5"
               ]
              ]
             }
            ],
            "label": "Topic 0",
            "method": "update"
           },
           {
            "args": [
             {
              "marker.color": [
               [
                "#B0BEC5",
                "red",
                "#B0BEC5",
                "#B0BEC5",
                "#B0BEC5",
                "#B0BEC5",
                "#B0BEC5",
                "#B0BEC5",
                "#B0BEC5",
                "#B0BEC5",
                "#B0BEC5",
                "#B0BEC5"
               ]
              ]
             }
            ],
            "label": "Topic 1",
            "method": "update"
           },
           {
            "args": [
             {
              "marker.color": [
               [
                "#B0BEC5",
                "#B0BEC5",
                "red",
                "#B0BEC5",
                "#B0BEC5",
                "#B0BEC5",
                "#B0BEC5",
                "#B0BEC5",
                "#B0BEC5",
                "#B0BEC5",
                "#B0BEC5",
                "#B0BEC5"
               ]
              ]
             }
            ],
            "label": "Topic 2",
            "method": "update"
           },
           {
            "args": [
             {
              "marker.color": [
               [
                "#B0BEC5",
                "#B0BEC5",
                "#B0BEC5",
                "red",
                "#B0BEC5",
                "#B0BEC5",
                "#B0BEC5",
                "#B0BEC5",
                "#B0BEC5",
                "#B0BEC5",
                "#B0BEC5",
                "#B0BEC5"
               ]
              ]
             }
            ],
            "label": "Topic 3",
            "method": "update"
           },
           {
            "args": [
             {
              "marker.color": [
               [
                "#B0BEC5",
                "#B0BEC5",
                "#B0BEC5",
                "#B0BEC5",
                "red",
                "#B0BEC5",
                "#B0BEC5",
                "#B0BEC5",
                "#B0BEC5",
                "#B0BEC5",
                "#B0BEC5",
                "#B0BEC5"
               ]
              ]
             }
            ],
            "label": "Topic 4",
            "method": "update"
           },
           {
            "args": [
             {
              "marker.color": [
               [
                "#B0BEC5",
                "#B0BEC5",
                "#B0BEC5",
                "#B0BEC5",
                "#B0BEC5",
                "red",
                "#B0BEC5",
                "#B0BEC5",
                "#B0BEC5",
                "#B0BEC5",
                "#B0BEC5",
                "#B0BEC5"
               ]
              ]
             }
            ],
            "label": "Topic 5",
            "method": "update"
           },
           {
            "args": [
             {
              "marker.color": [
               [
                "#B0BEC5",
                "#B0BEC5",
                "#B0BEC5",
                "#B0BEC5",
                "#B0BEC5",
                "#B0BEC5",
                "red",
                "#B0BEC5",
                "#B0BEC5",
                "#B0BEC5",
                "#B0BEC5",
                "#B0BEC5"
               ]
              ]
             }
            ],
            "label": "Topic 6",
            "method": "update"
           },
           {
            "args": [
             {
              "marker.color": [
               [
                "#B0BEC5",
                "#B0BEC5",
                "#B0BEC5",
                "#B0BEC5",
                "#B0BEC5",
                "#B0BEC5",
                "#B0BEC5",
                "red",
                "#B0BEC5",
                "#B0BEC5",
                "#B0BEC5",
                "#B0BEC5"
               ]
              ]
             }
            ],
            "label": "Topic 7",
            "method": "update"
           },
           {
            "args": [
             {
              "marker.color": [
               [
                "#B0BEC5",
                "#B0BEC5",
                "#B0BEC5",
                "#B0BEC5",
                "#B0BEC5",
                "#B0BEC5",
                "#B0BEC5",
                "#B0BEC5",
                "red",
                "#B0BEC5",
                "#B0BEC5",
                "#B0BEC5"
               ]
              ]
             }
            ],
            "label": "Topic 8",
            "method": "update"
           },
           {
            "args": [
             {
              "marker.color": [
               [
                "#B0BEC5",
                "#B0BEC5",
                "#B0BEC5",
                "#B0BEC5",
                "#B0BEC5",
                "#B0BEC5",
                "#B0BEC5",
                "#B0BEC5",
                "#B0BEC5",
                "red",
                "#B0BEC5",
                "#B0BEC5"
               ]
              ]
             }
            ],
            "label": "Topic 9",
            "method": "update"
           },
           {
            "args": [
             {
              "marker.color": [
               [
                "#B0BEC5",
                "#B0BEC5",
                "#B0BEC5",
                "#B0BEC5",
                "#B0BEC5",
                "#B0BEC5",
                "#B0BEC5",
                "#B0BEC5",
                "#B0BEC5",
                "#B0BEC5",
                "red",
                "#B0BEC5"
               ]
              ]
             }
            ],
            "label": "Topic 10",
            "method": "update"
           },
           {
            "args": [
             {
              "marker.color": [
               [
                "#B0BEC5",
                "#B0BEC5",
                "#B0BEC5",
                "#B0BEC5",
                "#B0BEC5",
                "#B0BEC5",
                "#B0BEC5",
                "#B0BEC5",
                "#B0BEC5",
                "#B0BEC5",
                "#B0BEC5",
                "red"
               ]
              ]
             }
            ],
            "label": "Topic 11",
            "method": "update"
           }
          ]
         }
        ],
        "template": {
         "data": {
          "bar": [
           {
            "error_x": {
             "color": "rgb(36,36,36)"
            },
            "error_y": {
             "color": "rgb(36,36,36)"
            },
            "marker": {
             "line": {
              "color": "white",
              "width": 0.5
             },
             "pattern": {
              "fillmode": "overlay",
              "size": 10,
              "solidity": 0.2
             }
            },
            "type": "bar"
           }
          ],
          "barpolar": [
           {
            "marker": {
             "line": {
              "color": "white",
              "width": 0.5
             },
             "pattern": {
              "fillmode": "overlay",
              "size": 10,
              "solidity": 0.2
             }
            },
            "type": "barpolar"
           }
          ],
          "carpet": [
           {
            "aaxis": {
             "endlinecolor": "rgb(36,36,36)",
             "gridcolor": "white",
             "linecolor": "white",
             "minorgridcolor": "white",
             "startlinecolor": "rgb(36,36,36)"
            },
            "baxis": {
             "endlinecolor": "rgb(36,36,36)",
             "gridcolor": "white",
             "linecolor": "white",
             "minorgridcolor": "white",
             "startlinecolor": "rgb(36,36,36)"
            },
            "type": "carpet"
           }
          ],
          "choropleth": [
           {
            "colorbar": {
             "outlinewidth": 1,
             "tickcolor": "rgb(36,36,36)",
             "ticks": "outside"
            },
            "type": "choropleth"
           }
          ],
          "contour": [
           {
            "colorbar": {
             "outlinewidth": 1,
             "tickcolor": "rgb(36,36,36)",
             "ticks": "outside"
            },
            "colorscale": [
             [
              0,
              "#440154"
             ],
             [
              0.1111111111111111,
              "#482878"
             ],
             [
              0.2222222222222222,
              "#3e4989"
             ],
             [
              0.3333333333333333,
              "#31688e"
             ],
             [
              0.4444444444444444,
              "#26828e"
             ],
             [
              0.5555555555555556,
              "#1f9e89"
             ],
             [
              0.6666666666666666,
              "#35b779"
             ],
             [
              0.7777777777777778,
              "#6ece58"
             ],
             [
              0.8888888888888888,
              "#b5de2b"
             ],
             [
              1,
              "#fde725"
             ]
            ],
            "type": "contour"
           }
          ],
          "contourcarpet": [
           {
            "colorbar": {
             "outlinewidth": 1,
             "tickcolor": "rgb(36,36,36)",
             "ticks": "outside"
            },
            "type": "contourcarpet"
           }
          ],
          "heatmap": [
           {
            "colorbar": {
             "outlinewidth": 1,
             "tickcolor": "rgb(36,36,36)",
             "ticks": "outside"
            },
            "colorscale": [
             [
              0,
              "#440154"
             ],
             [
              0.1111111111111111,
              "#482878"
             ],
             [
              0.2222222222222222,
              "#3e4989"
             ],
             [
              0.3333333333333333,
              "#31688e"
             ],
             [
              0.4444444444444444,
              "#26828e"
             ],
             [
              0.5555555555555556,
              "#1f9e89"
             ],
             [
              0.6666666666666666,
              "#35b779"
             ],
             [
              0.7777777777777778,
              "#6ece58"
             ],
             [
              0.8888888888888888,
              "#b5de2b"
             ],
             [
              1,
              "#fde725"
             ]
            ],
            "type": "heatmap"
           }
          ],
          "heatmapgl": [
           {
            "colorbar": {
             "outlinewidth": 1,
             "tickcolor": "rgb(36,36,36)",
             "ticks": "outside"
            },
            "colorscale": [
             [
              0,
              "#440154"
             ],
             [
              0.1111111111111111,
              "#482878"
             ],
             [
              0.2222222222222222,
              "#3e4989"
             ],
             [
              0.3333333333333333,
              "#31688e"
             ],
             [
              0.4444444444444444,
              "#26828e"
             ],
             [
              0.5555555555555556,
              "#1f9e89"
             ],
             [
              0.6666666666666666,
              "#35b779"
             ],
             [
              0.7777777777777778,
              "#6ece58"
             ],
             [
              0.8888888888888888,
              "#b5de2b"
             ],
             [
              1,
              "#fde725"
             ]
            ],
            "type": "heatmapgl"
           }
          ],
          "histogram": [
           {
            "marker": {
             "line": {
              "color": "white",
              "width": 0.6
             }
            },
            "type": "histogram"
           }
          ],
          "histogram2d": [
           {
            "colorbar": {
             "outlinewidth": 1,
             "tickcolor": "rgb(36,36,36)",
             "ticks": "outside"
            },
            "colorscale": [
             [
              0,
              "#440154"
             ],
             [
              0.1111111111111111,
              "#482878"
             ],
             [
              0.2222222222222222,
              "#3e4989"
             ],
             [
              0.3333333333333333,
              "#31688e"
             ],
             [
              0.4444444444444444,
              "#26828e"
             ],
             [
              0.5555555555555556,
              "#1f9e89"
             ],
             [
              0.6666666666666666,
              "#35b779"
             ],
             [
              0.7777777777777778,
              "#6ece58"
             ],
             [
              0.8888888888888888,
              "#b5de2b"
             ],
             [
              1,
              "#fde725"
             ]
            ],
            "type": "histogram2d"
           }
          ],
          "histogram2dcontour": [
           {
            "colorbar": {
             "outlinewidth": 1,
             "tickcolor": "rgb(36,36,36)",
             "ticks": "outside"
            },
            "colorscale": [
             [
              0,
              "#440154"
             ],
             [
              0.1111111111111111,
              "#482878"
             ],
             [
              0.2222222222222222,
              "#3e4989"
             ],
             [
              0.3333333333333333,
              "#31688e"
             ],
             [
              0.4444444444444444,
              "#26828e"
             ],
             [
              0.5555555555555556,
              "#1f9e89"
             ],
             [
              0.6666666666666666,
              "#35b779"
             ],
             [
              0.7777777777777778,
              "#6ece58"
             ],
             [
              0.8888888888888888,
              "#b5de2b"
             ],
             [
              1,
              "#fde725"
             ]
            ],
            "type": "histogram2dcontour"
           }
          ],
          "mesh3d": [
           {
            "colorbar": {
             "outlinewidth": 1,
             "tickcolor": "rgb(36,36,36)",
             "ticks": "outside"
            },
            "type": "mesh3d"
           }
          ],
          "parcoords": [
           {
            "line": {
             "colorbar": {
              "outlinewidth": 1,
              "tickcolor": "rgb(36,36,36)",
              "ticks": "outside"
             }
            },
            "type": "parcoords"
           }
          ],
          "pie": [
           {
            "automargin": true,
            "type": "pie"
           }
          ],
          "scatter": [
           {
            "fillpattern": {
             "fillmode": "overlay",
             "size": 10,
             "solidity": 0.2
            },
            "type": "scatter"
           }
          ],
          "scatter3d": [
           {
            "line": {
             "colorbar": {
              "outlinewidth": 1,
              "tickcolor": "rgb(36,36,36)",
              "ticks": "outside"
             }
            },
            "marker": {
             "colorbar": {
              "outlinewidth": 1,
              "tickcolor": "rgb(36,36,36)",
              "ticks": "outside"
             }
            },
            "type": "scatter3d"
           }
          ],
          "scattercarpet": [
           {
            "marker": {
             "colorbar": {
              "outlinewidth": 1,
              "tickcolor": "rgb(36,36,36)",
              "ticks": "outside"
             }
            },
            "type": "scattercarpet"
           }
          ],
          "scattergeo": [
           {
            "marker": {
             "colorbar": {
              "outlinewidth": 1,
              "tickcolor": "rgb(36,36,36)",
              "ticks": "outside"
             }
            },
            "type": "scattergeo"
           }
          ],
          "scattergl": [
           {
            "marker": {
             "colorbar": {
              "outlinewidth": 1,
              "tickcolor": "rgb(36,36,36)",
              "ticks": "outside"
             }
            },
            "type": "scattergl"
           }
          ],
          "scattermapbox": [
           {
            "marker": {
             "colorbar": {
              "outlinewidth": 1,
              "tickcolor": "rgb(36,36,36)",
              "ticks": "outside"
             }
            },
            "type": "scattermapbox"
           }
          ],
          "scatterpolar": [
           {
            "marker": {
             "colorbar": {
              "outlinewidth": 1,
              "tickcolor": "rgb(36,36,36)",
              "ticks": "outside"
             }
            },
            "type": "scatterpolar"
           }
          ],
          "scatterpolargl": [
           {
            "marker": {
             "colorbar": {
              "outlinewidth": 1,
              "tickcolor": "rgb(36,36,36)",
              "ticks": "outside"
             }
            },
            "type": "scatterpolargl"
           }
          ],
          "scatterternary": [
           {
            "marker": {
             "colorbar": {
              "outlinewidth": 1,
              "tickcolor": "rgb(36,36,36)",
              "ticks": "outside"
             }
            },
            "type": "scatterternary"
           }
          ],
          "surface": [
           {
            "colorbar": {
             "outlinewidth": 1,
             "tickcolor": "rgb(36,36,36)",
             "ticks": "outside"
            },
            "colorscale": [
             [
              0,
              "#440154"
             ],
             [
              0.1111111111111111,
              "#482878"
             ],
             [
              0.2222222222222222,
              "#3e4989"
             ],
             [
              0.3333333333333333,
              "#31688e"
             ],
             [
              0.4444444444444444,
              "#26828e"
             ],
             [
              0.5555555555555556,
              "#1f9e89"
             ],
             [
              0.6666666666666666,
              "#35b779"
             ],
             [
              0.7777777777777778,
              "#6ece58"
             ],
             [
              0.8888888888888888,
              "#b5de2b"
             ],
             [
              1,
              "#fde725"
             ]
            ],
            "type": "surface"
           }
          ],
          "table": [
           {
            "cells": {
             "fill": {
              "color": "rgb(237,237,237)"
             },
             "line": {
              "color": "white"
             }
            },
            "header": {
             "fill": {
              "color": "rgb(217,217,217)"
             },
             "line": {
              "color": "white"
             }
            },
            "type": "table"
           }
          ]
         },
         "layout": {
          "annotationdefaults": {
           "arrowhead": 0,
           "arrowwidth": 1
          },
          "autotypenumbers": "strict",
          "coloraxis": {
           "colorbar": {
            "outlinewidth": 1,
            "tickcolor": "rgb(36,36,36)",
            "ticks": "outside"
           }
          },
          "colorscale": {
           "diverging": [
            [
             0,
             "rgb(103,0,31)"
            ],
            [
             0.1,
             "rgb(178,24,43)"
            ],
            [
             0.2,
             "rgb(214,96,77)"
            ],
            [
             0.3,
             "rgb(244,165,130)"
            ],
            [
             0.4,
             "rgb(253,219,199)"
            ],
            [
             0.5,
             "rgb(247,247,247)"
            ],
            [
             0.6,
             "rgb(209,229,240)"
            ],
            [
             0.7,
             "rgb(146,197,222)"
            ],
            [
             0.8,
             "rgb(67,147,195)"
            ],
            [
             0.9,
             "rgb(33,102,172)"
            ],
            [
             1,
             "rgb(5,48,97)"
            ]
           ],
           "sequential": [
            [
             0,
             "#440154"
            ],
            [
             0.1111111111111111,
             "#482878"
            ],
            [
             0.2222222222222222,
             "#3e4989"
            ],
            [
             0.3333333333333333,
             "#31688e"
            ],
            [
             0.4444444444444444,
             "#26828e"
            ],
            [
             0.5555555555555556,
             "#1f9e89"
            ],
            [
             0.6666666666666666,
             "#35b779"
            ],
            [
             0.7777777777777778,
             "#6ece58"
            ],
            [
             0.8888888888888888,
             "#b5de2b"
            ],
            [
             1,
             "#fde725"
            ]
           ],
           "sequentialminus": [
            [
             0,
             "#440154"
            ],
            [
             0.1111111111111111,
             "#482878"
            ],
            [
             0.2222222222222222,
             "#3e4989"
            ],
            [
             0.3333333333333333,
             "#31688e"
            ],
            [
             0.4444444444444444,
             "#26828e"
            ],
            [
             0.5555555555555556,
             "#1f9e89"
            ],
            [
             0.6666666666666666,
             "#35b779"
            ],
            [
             0.7777777777777778,
             "#6ece58"
            ],
            [
             0.8888888888888888,
             "#b5de2b"
            ],
            [
             1,
             "#fde725"
            ]
           ]
          },
          "colorway": [
           "#1F77B4",
           "#FF7F0E",
           "#2CA02C",
           "#D62728",
           "#9467BD",
           "#8C564B",
           "#E377C2",
           "#7F7F7F",
           "#BCBD22",
           "#17BECF"
          ],
          "font": {
           "color": "rgb(36,36,36)"
          },
          "geo": {
           "bgcolor": "white",
           "lakecolor": "white",
           "landcolor": "white",
           "showlakes": true,
           "showland": true,
           "subunitcolor": "white"
          },
          "hoverlabel": {
           "align": "left"
          },
          "hovermode": "closest",
          "mapbox": {
           "style": "light"
          },
          "paper_bgcolor": "white",
          "plot_bgcolor": "white",
          "polar": {
           "angularaxis": {
            "gridcolor": "rgb(232,232,232)",
            "linecolor": "rgb(36,36,36)",
            "showgrid": false,
            "showline": true,
            "ticks": "outside"
           },
           "bgcolor": "white",
           "radialaxis": {
            "gridcolor": "rgb(232,232,232)",
            "linecolor": "rgb(36,36,36)",
            "showgrid": false,
            "showline": true,
            "ticks": "outside"
           }
          },
          "scene": {
           "xaxis": {
            "backgroundcolor": "white",
            "gridcolor": "rgb(232,232,232)",
            "gridwidth": 2,
            "linecolor": "rgb(36,36,36)",
            "showbackground": true,
            "showgrid": false,
            "showline": true,
            "ticks": "outside",
            "zeroline": false,
            "zerolinecolor": "rgb(36,36,36)"
           },
           "yaxis": {
            "backgroundcolor": "white",
            "gridcolor": "rgb(232,232,232)",
            "gridwidth": 2,
            "linecolor": "rgb(36,36,36)",
            "showbackground": true,
            "showgrid": false,
            "showline": true,
            "ticks": "outside",
            "zeroline": false,
            "zerolinecolor": "rgb(36,36,36)"
           },
           "zaxis": {
            "backgroundcolor": "white",
            "gridcolor": "rgb(232,232,232)",
            "gridwidth": 2,
            "linecolor": "rgb(36,36,36)",
            "showbackground": true,
            "showgrid": false,
            "showline": true,
            "ticks": "outside",
            "zeroline": false,
            "zerolinecolor": "rgb(36,36,36)"
           }
          },
          "shapedefaults": {
           "fillcolor": "black",
           "line": {
            "width": 0
           },
           "opacity": 0.3
          },
          "ternary": {
           "aaxis": {
            "gridcolor": "rgb(232,232,232)",
            "linecolor": "rgb(36,36,36)",
            "showgrid": false,
            "showline": true,
            "ticks": "outside"
           },
           "baxis": {
            "gridcolor": "rgb(232,232,232)",
            "linecolor": "rgb(36,36,36)",
            "showgrid": false,
            "showline": true,
            "ticks": "outside"
           },
           "bgcolor": "white",
           "caxis": {
            "gridcolor": "rgb(232,232,232)",
            "linecolor": "rgb(36,36,36)",
            "showgrid": false,
            "showline": true,
            "ticks": "outside"
           }
          },
          "title": {
           "x": 0.05
          },
          "xaxis": {
           "automargin": true,
           "gridcolor": "rgb(232,232,232)",
           "linecolor": "rgb(36,36,36)",
           "showgrid": false,
           "showline": true,
           "ticks": "outside",
           "title": {
            "standoff": 15
           },
           "zeroline": false,
           "zerolinecolor": "rgb(36,36,36)"
          },
          "yaxis": {
           "automargin": true,
           "gridcolor": "rgb(232,232,232)",
           "linecolor": "rgb(36,36,36)",
           "showgrid": false,
           "showline": true,
           "ticks": "outside",
           "title": {
            "standoff": 15
           },
           "zeroline": false,
           "zerolinecolor": "rgb(36,36,36)"
          }
         }
        },
        "title": {
         "font": {
          "color": "Black",
          "size": 22
         },
         "text": "<b>Intertopic Distance Map</b>",
         "x": 0.5,
         "xanchor": "center",
         "y": 0.95,
         "yanchor": "top"
        },
        "width": 650,
        "xaxis": {
         "anchor": "y",
         "domain": [
          0,
          1
         ],
         "range": [
          11.807780265808105,
          20.504581451416016
         ],
         "title": {
          "text": ""
         },
         "visible": false
        },
        "yaxis": {
         "anchor": "x",
         "domain": [
          0,
          1
         ],
         "range": [
          6.684027671813965,
          14.633100509643555
         ],
         "title": {
          "text": ""
         },
         "visible": false
        }
       }
      }
     },
     "metadata": {},
     "output_type": "display_data"
    }
   ],
   "source": [
    "topic_model.visualize_topics(custom_labels=True)"
   ]
  },
  {
   "cell_type": "code",
   "execution_count": 40,
   "metadata": {},
   "outputs": [
    {
     "ename": "ValueError",
     "evalue": "No outliers to reduce.",
     "output_type": "error",
     "traceback": [
      "\u001b[0;31m---------------------------------------------------------------------------\u001b[0m",
      "\u001b[0;31mValueError\u001b[0m                                Traceback (most recent call last)",
      "Cell \u001b[0;32mIn[40], line 1\u001b[0m\n\u001b[0;32m----> 1\u001b[0m new_topics \u001b[38;5;241m=\u001b[39m new_topics \u001b[38;5;241m=\u001b[39m \u001b[43mtopic_model\u001b[49m\u001b[38;5;241;43m.\u001b[39;49m\u001b[43mreduce_outliers\u001b[49m\u001b[43m(\u001b[49m\u001b[43mtexts\u001b[49m\u001b[43m,\u001b[49m\u001b[43m \u001b[49m\u001b[43mtopics\u001b[49m\u001b[43m,\u001b[49m\u001b[43m \u001b[49m\u001b[43mstrategy\u001b[49m\u001b[38;5;241;43m=\u001b[39;49m\u001b[38;5;124;43m\"\u001b[39;49m\u001b[38;5;124;43membeddings\u001b[39;49m\u001b[38;5;124;43m\"\u001b[39;49m\u001b[43m)\u001b[49m\n\u001b[1;32m      2\u001b[0m topic_model\u001b[38;5;241m.\u001b[39mupdate_topics(texts, topics\u001b[38;5;241m=\u001b[39mnew_topics)\n",
      "File \u001b[0;32m~/Development/SRBedding/.venv/lib/python3.10/site-packages/bertopic/_bertopic.py:2315\u001b[0m, in \u001b[0;36mBERTopic.reduce_outliers\u001b[0;34m(self, documents, topics, images, strategy, probabilities, threshold, embeddings, distributions_params)\u001b[0m\n\u001b[1;32m   2236\u001b[0m \u001b[38;5;250m\u001b[39m\u001b[38;5;124;03m\"\"\"Reduce outliers by merging them with their nearest topic according\u001b[39;00m\n\u001b[1;32m   2237\u001b[0m \u001b[38;5;124;03mto one of several strategies.\u001b[39;00m\n\u001b[1;32m   2238\u001b[0m \n\u001b[0;32m   (...)\u001b[0m\n\u001b[1;32m   2312\u001b[0m \u001b[38;5;124;03m```\u001b[39;00m\n\u001b[1;32m   2313\u001b[0m \u001b[38;5;124;03m\"\"\"\u001b[39;00m\n\u001b[1;32m   2314\u001b[0m \u001b[38;5;28;01mif\u001b[39;00m \u001b[38;5;129;01mnot\u001b[39;00m \u001b[38;5;28mself\u001b[39m\u001b[38;5;241m.\u001b[39m_outliers:\n\u001b[0;32m-> 2315\u001b[0m     \u001b[38;5;28;01mraise\u001b[39;00m \u001b[38;5;167;01mValueError\u001b[39;00m(\u001b[38;5;124m\"\u001b[39m\u001b[38;5;124mNo outliers to reduce.\u001b[39m\u001b[38;5;124m\"\u001b[39m)\n\u001b[1;32m   2317\u001b[0m \u001b[38;5;28;01mif\u001b[39;00m images \u001b[38;5;129;01mis\u001b[39;00m \u001b[38;5;129;01mnot\u001b[39;00m \u001b[38;5;28;01mNone\u001b[39;00m:\n\u001b[1;32m   2318\u001b[0m     strategy \u001b[38;5;241m=\u001b[39m \u001b[38;5;124m\"\u001b[39m\u001b[38;5;124membeddings\u001b[39m\u001b[38;5;124m\"\u001b[39m\n",
      "\u001b[0;31mValueError\u001b[0m: No outliers to reduce."
     ]
    }
   ],
   "source": [
    "new_topics = new_topics = topic_model.reduce_outliers(texts, topics, strategy=\"embeddings\")\n",
    "topic_model.update_topics(texts, topics=new_topics)"
   ]
  },
  {
   "cell_type": "code",
   "execution_count": 42,
   "metadata": {},
   "outputs": [
    {
     "data": {
      "application/vnd.plotly.v1+json": {
       "config": {
        "plotlyServerURL": "https://plot.ly"
       },
       "data": [
        {
         "customdata": [
          [
           0,
           "da | je | se | na | za",
           11
          ],
          [
           1,
           "je | da | na | se | za",
           13
          ],
          [
           2,
           "da | je | se | na | ne",
           8
          ],
          [
           3,
           "je | da | za | na | se",
           6
          ],
          [
           4,
           "da | je | se | na | za",
           7
          ],
          [
           5,
           "je | na | da | automobila | se",
           4
          ],
          [
           6,
           "je | da | za | na | od",
           5
          ],
          [
           7,
           "je | da | se | na | su",
           4
          ],
          [
           8,
           "je | da | na | za | se",
           4
          ],
          [
           9,
           "da | je | se | na | ne",
           3
          ],
          [
           10,
           "je | za | na | da | se",
           3
          ],
          [
           11,
           "je | da | se | na | za",
           2
          ]
         ],
         "hovertemplate": "<b>Topic %{customdata[0]}</b><br>%{customdata[1]}<br>Size: %{customdata[2]}",
         "legendgroup": "",
         "marker": {
          "color": "#B0BEC5",
          "line": {
           "color": "DarkSlateGrey",
           "width": 2
          },
          "size": [
           11,
           13,
           8,
           6,
           7,
           4,
           5,
           4,
           4,
           3,
           3,
           2
          ],
          "sizemode": "area",
          "sizeref": 0.008125,
          "symbol": "circle"
         },
         "mode": "markers",
         "name": "",
         "orientation": "v",
         "showlegend": false,
         "type": "scatter",
         "x": [
          11.79280948638916,
          12.30074405670166,
          -3.9861786365509033,
          9.35660457611084,
          -4.71872615814209,
          11.97547721862793,
          8.959004402160645,
          -4.4317498207092285,
          12.703352928161621,
          -4.048600673675537,
          12.721566200256348,
          -4.443943977355957
         ],
         "xaxis": "x",
         "y": [
          -2.9214415550231934,
          -4.727931499481201,
          3.470674991607666,
          -2.93096923828125,
          4.271406650543213,
          -4.165910243988037,
          -2.636697292327881,
          3.3529746532440186,
          -4.342888355255127,
          2.8234481811523438,
          -3.2354519367218018,
          3.967684507369995
         ],
         "yaxis": "y"
        }
       ],
       "layout": {
        "annotations": [
         {
          "showarrow": false,
          "text": "D1",
          "x": -5.426535129547119,
          "y": -0.26250195503234863,
          "yshift": 10
         },
         {
          "showarrow": false,
          "text": "D2",
          "x": 4.601633071899414,
          "xshift": 10,
          "y": 4.9121174812316895
         }
        ],
        "height": 650,
        "hoverlabel": {
         "bgcolor": "white",
         "font": {
          "family": "Rockwell",
          "size": 16
         }
        },
        "legend": {
         "itemsizing": "constant",
         "tracegroupgap": 0
        },
        "margin": {
         "t": 60
        },
        "shapes": [
         {
          "line": {
           "color": "#CFD8DC",
           "width": 2
          },
          "type": "line",
          "x0": 4.601633071899414,
          "x1": 4.601633071899414,
          "y0": -5.437121391296387,
          "y1": 4.9121174812316895
         },
         {
          "line": {
           "color": "#9E9E9E",
           "width": 2
          },
          "type": "line",
          "x0": -5.426535129547119,
          "x1": 14.629800796508789,
          "y0": -0.26250195503234863,
          "y1": -0.26250195503234863
         }
        ],
        "sliders": [
         {
          "active": 0,
          "pad": {
           "t": 50
          },
          "steps": [
           {
            "args": [
             {
              "marker.color": [
               [
                "red",
                "#B0BEC5",
                "#B0BEC5",
                "#B0BEC5",
                "#B0BEC5",
                "#B0BEC5",
                "#B0BEC5",
                "#B0BEC5",
                "#B0BEC5",
                "#B0BEC5",
                "#B0BEC5",
                "#B0BEC5"
               ]
              ]
             }
            ],
            "label": "Topic 0",
            "method": "update"
           },
           {
            "args": [
             {
              "marker.color": [
               [
                "#B0BEC5",
                "red",
                "#B0BEC5",
                "#B0BEC5",
                "#B0BEC5",
                "#B0BEC5",
                "#B0BEC5",
                "#B0BEC5",
                "#B0BEC5",
                "#B0BEC5",
                "#B0BEC5",
                "#B0BEC5"
               ]
              ]
             }
            ],
            "label": "Topic 1",
            "method": "update"
           },
           {
            "args": [
             {
              "marker.color": [
               [
                "#B0BEC5",
                "#B0BEC5",
                "red",
                "#B0BEC5",
                "#B0BEC5",
                "#B0BEC5",
                "#B0BEC5",
                "#B0BEC5",
                "#B0BEC5",
                "#B0BEC5",
                "#B0BEC5",
                "#B0BEC5"
               ]
              ]
             }
            ],
            "label": "Topic 2",
            "method": "update"
           },
           {
            "args": [
             {
              "marker.color": [
               [
                "#B0BEC5",
                "#B0BEC5",
                "#B0BEC5",
                "red",
                "#B0BEC5",
                "#B0BEC5",
                "#B0BEC5",
                "#B0BEC5",
                "#B0BEC5",
                "#B0BEC5",
                "#B0BEC5",
                "#B0BEC5"
               ]
              ]
             }
            ],
            "label": "Topic 3",
            "method": "update"
           },
           {
            "args": [
             {
              "marker.color": [
               [
                "#B0BEC5",
                "#B0BEC5",
                "#B0BEC5",
                "#B0BEC5",
                "red",
                "#B0BEC5",
                "#B0BEC5",
                "#B0BEC5",
                "#B0BEC5",
                "#B0BEC5",
                "#B0BEC5",
                "#B0BEC5"
               ]
              ]
             }
            ],
            "label": "Topic 4",
            "method": "update"
           },
           {
            "args": [
             {
              "marker.color": [
               [
                "#B0BEC5",
                "#B0BEC5",
                "#B0BEC5",
                "#B0BEC5",
                "#B0BEC5",
                "red",
                "#B0BEC5",
                "#B0BEC5",
                "#B0BEC5",
                "#B0BEC5",
                "#B0BEC5",
                "#B0BEC5"
               ]
              ]
             }
            ],
            "label": "Topic 5",
            "method": "update"
           },
           {
            "args": [
             {
              "marker.color": [
               [
                "#B0BEC5",
                "#B0BEC5",
                "#B0BEC5",
                "#B0BEC5",
                "#B0BEC5",
                "#B0BEC5",
                "red",
                "#B0BEC5",
                "#B0BEC5",
                "#B0BEC5",
                "#B0BEC5",
                "#B0BEC5"
               ]
              ]
             }
            ],
            "label": "Topic 6",
            "method": "update"
           },
           {
            "args": [
             {
              "marker.color": [
               [
                "#B0BEC5",
                "#B0BEC5",
                "#B0BEC5",
                "#B0BEC5",
                "#B0BEC5",
                "#B0BEC5",
                "#B0BEC5",
                "red",
                "#B0BEC5",
                "#B0BEC5",
                "#B0BEC5",
                "#B0BEC5"
               ]
              ]
             }
            ],
            "label": "Topic 7",
            "method": "update"
           },
           {
            "args": [
             {
              "marker.color": [
               [
                "#B0BEC5",
                "#B0BEC5",
                "#B0BEC5",
                "#B0BEC5",
                "#B0BEC5",
                "#B0BEC5",
                "#B0BEC5",
                "#B0BEC5",
                "red",
                "#B0BEC5",
                "#B0BEC5",
                "#B0BEC5"
               ]
              ]
             }
            ],
            "label": "Topic 8",
            "method": "update"
           },
           {
            "args": [
             {
              "marker.color": [
               [
                "#B0BEC5",
                "#B0BEC5",
                "#B0BEC5",
                "#B0BEC5",
                "#B0BEC5",
                "#B0BEC5",
                "#B0BEC5",
                "#B0BEC5",
                "#B0BEC5",
                "red",
                "#B0BEC5",
                "#B0BEC5"
               ]
              ]
             }
            ],
            "label": "Topic 9",
            "method": "update"
           },
           {
            "args": [
             {
              "marker.color": [
               [
                "#B0BEC5",
                "#B0BEC5",
                "#B0BEC5",
                "#B0BEC5",
                "#B0BEC5",
                "#B0BEC5",
                "#B0BEC5",
                "#B0BEC5",
                "#B0BEC5",
                "#B0BEC5",
                "red",
                "#B0BEC5"
               ]
              ]
             }
            ],
            "label": "Topic 10",
            "method": "update"
           },
           {
            "args": [
             {
              "marker.color": [
               [
                "#B0BEC5",
                "#B0BEC5",
                "#B0BEC5",
                "#B0BEC5",
                "#B0BEC5",
                "#B0BEC5",
                "#B0BEC5",
                "#B0BEC5",
                "#B0BEC5",
                "#B0BEC5",
                "#B0BEC5",
                "red"
               ]
              ]
             }
            ],
            "label": "Topic 11",
            "method": "update"
           }
          ]
         }
        ],
        "template": {
         "data": {
          "bar": [
           {
            "error_x": {
             "color": "rgb(36,36,36)"
            },
            "error_y": {
             "color": "rgb(36,36,36)"
            },
            "marker": {
             "line": {
              "color": "white",
              "width": 0.5
             },
             "pattern": {
              "fillmode": "overlay",
              "size": 10,
              "solidity": 0.2
             }
            },
            "type": "bar"
           }
          ],
          "barpolar": [
           {
            "marker": {
             "line": {
              "color": "white",
              "width": 0.5
             },
             "pattern": {
              "fillmode": "overlay",
              "size": 10,
              "solidity": 0.2
             }
            },
            "type": "barpolar"
           }
          ],
          "carpet": [
           {
            "aaxis": {
             "endlinecolor": "rgb(36,36,36)",
             "gridcolor": "white",
             "linecolor": "white",
             "minorgridcolor": "white",
             "startlinecolor": "rgb(36,36,36)"
            },
            "baxis": {
             "endlinecolor": "rgb(36,36,36)",
             "gridcolor": "white",
             "linecolor": "white",
             "minorgridcolor": "white",
             "startlinecolor": "rgb(36,36,36)"
            },
            "type": "carpet"
           }
          ],
          "choropleth": [
           {
            "colorbar": {
             "outlinewidth": 1,
             "tickcolor": "rgb(36,36,36)",
             "ticks": "outside"
            },
            "type": "choropleth"
           }
          ],
          "contour": [
           {
            "colorbar": {
             "outlinewidth": 1,
             "tickcolor": "rgb(36,36,36)",
             "ticks": "outside"
            },
            "colorscale": [
             [
              0,
              "#440154"
             ],
             [
              0.1111111111111111,
              "#482878"
             ],
             [
              0.2222222222222222,
              "#3e4989"
             ],
             [
              0.3333333333333333,
              "#31688e"
             ],
             [
              0.4444444444444444,
              "#26828e"
             ],
             [
              0.5555555555555556,
              "#1f9e89"
             ],
             [
              0.6666666666666666,
              "#35b779"
             ],
             [
              0.7777777777777778,
              "#6ece58"
             ],
             [
              0.8888888888888888,
              "#b5de2b"
             ],
             [
              1,
              "#fde725"
             ]
            ],
            "type": "contour"
           }
          ],
          "contourcarpet": [
           {
            "colorbar": {
             "outlinewidth": 1,
             "tickcolor": "rgb(36,36,36)",
             "ticks": "outside"
            },
            "type": "contourcarpet"
           }
          ],
          "heatmap": [
           {
            "colorbar": {
             "outlinewidth": 1,
             "tickcolor": "rgb(36,36,36)",
             "ticks": "outside"
            },
            "colorscale": [
             [
              0,
              "#440154"
             ],
             [
              0.1111111111111111,
              "#482878"
             ],
             [
              0.2222222222222222,
              "#3e4989"
             ],
             [
              0.3333333333333333,
              "#31688e"
             ],
             [
              0.4444444444444444,
              "#26828e"
             ],
             [
              0.5555555555555556,
              "#1f9e89"
             ],
             [
              0.6666666666666666,
              "#35b779"
             ],
             [
              0.7777777777777778,
              "#6ece58"
             ],
             [
              0.8888888888888888,
              "#b5de2b"
             ],
             [
              1,
              "#fde725"
             ]
            ],
            "type": "heatmap"
           }
          ],
          "heatmapgl": [
           {
            "colorbar": {
             "outlinewidth": 1,
             "tickcolor": "rgb(36,36,36)",
             "ticks": "outside"
            },
            "colorscale": [
             [
              0,
              "#440154"
             ],
             [
              0.1111111111111111,
              "#482878"
             ],
             [
              0.2222222222222222,
              "#3e4989"
             ],
             [
              0.3333333333333333,
              "#31688e"
             ],
             [
              0.4444444444444444,
              "#26828e"
             ],
             [
              0.5555555555555556,
              "#1f9e89"
             ],
             [
              0.6666666666666666,
              "#35b779"
             ],
             [
              0.7777777777777778,
              "#6ece58"
             ],
             [
              0.8888888888888888,
              "#b5de2b"
             ],
             [
              1,
              "#fde725"
             ]
            ],
            "type": "heatmapgl"
           }
          ],
          "histogram": [
           {
            "marker": {
             "line": {
              "color": "white",
              "width": 0.6
             }
            },
            "type": "histogram"
           }
          ],
          "histogram2d": [
           {
            "colorbar": {
             "outlinewidth": 1,
             "tickcolor": "rgb(36,36,36)",
             "ticks": "outside"
            },
            "colorscale": [
             [
              0,
              "#440154"
             ],
             [
              0.1111111111111111,
              "#482878"
             ],
             [
              0.2222222222222222,
              "#3e4989"
             ],
             [
              0.3333333333333333,
              "#31688e"
             ],
             [
              0.4444444444444444,
              "#26828e"
             ],
             [
              0.5555555555555556,
              "#1f9e89"
             ],
             [
              0.6666666666666666,
              "#35b779"
             ],
             [
              0.7777777777777778,
              "#6ece58"
             ],
             [
              0.8888888888888888,
              "#b5de2b"
             ],
             [
              1,
              "#fde725"
             ]
            ],
            "type": "histogram2d"
           }
          ],
          "histogram2dcontour": [
           {
            "colorbar": {
             "outlinewidth": 1,
             "tickcolor": "rgb(36,36,36)",
             "ticks": "outside"
            },
            "colorscale": [
             [
              0,
              "#440154"
             ],
             [
              0.1111111111111111,
              "#482878"
             ],
             [
              0.2222222222222222,
              "#3e4989"
             ],
             [
              0.3333333333333333,
              "#31688e"
             ],
             [
              0.4444444444444444,
              "#26828e"
             ],
             [
              0.5555555555555556,
              "#1f9e89"
             ],
             [
              0.6666666666666666,
              "#35b779"
             ],
             [
              0.7777777777777778,
              "#6ece58"
             ],
             [
              0.8888888888888888,
              "#b5de2b"
             ],
             [
              1,
              "#fde725"
             ]
            ],
            "type": "histogram2dcontour"
           }
          ],
          "mesh3d": [
           {
            "colorbar": {
             "outlinewidth": 1,
             "tickcolor": "rgb(36,36,36)",
             "ticks": "outside"
            },
            "type": "mesh3d"
           }
          ],
          "parcoords": [
           {
            "line": {
             "colorbar": {
              "outlinewidth": 1,
              "tickcolor": "rgb(36,36,36)",
              "ticks": "outside"
             }
            },
            "type": "parcoords"
           }
          ],
          "pie": [
           {
            "automargin": true,
            "type": "pie"
           }
          ],
          "scatter": [
           {
            "fillpattern": {
             "fillmode": "overlay",
             "size": 10,
             "solidity": 0.2
            },
            "type": "scatter"
           }
          ],
          "scatter3d": [
           {
            "line": {
             "colorbar": {
              "outlinewidth": 1,
              "tickcolor": "rgb(36,36,36)",
              "ticks": "outside"
             }
            },
            "marker": {
             "colorbar": {
              "outlinewidth": 1,
              "tickcolor": "rgb(36,36,36)",
              "ticks": "outside"
             }
            },
            "type": "scatter3d"
           }
          ],
          "scattercarpet": [
           {
            "marker": {
             "colorbar": {
              "outlinewidth": 1,
              "tickcolor": "rgb(36,36,36)",
              "ticks": "outside"
             }
            },
            "type": "scattercarpet"
           }
          ],
          "scattergeo": [
           {
            "marker": {
             "colorbar": {
              "outlinewidth": 1,
              "tickcolor": "rgb(36,36,36)",
              "ticks": "outside"
             }
            },
            "type": "scattergeo"
           }
          ],
          "scattergl": [
           {
            "marker": {
             "colorbar": {
              "outlinewidth": 1,
              "tickcolor": "rgb(36,36,36)",
              "ticks": "outside"
             }
            },
            "type": "scattergl"
           }
          ],
          "scattermapbox": [
           {
            "marker": {
             "colorbar": {
              "outlinewidth": 1,
              "tickcolor": "rgb(36,36,36)",
              "ticks": "outside"
             }
            },
            "type": "scattermapbox"
           }
          ],
          "scatterpolar": [
           {
            "marker": {
             "colorbar": {
              "outlinewidth": 1,
              "tickcolor": "rgb(36,36,36)",
              "ticks": "outside"
             }
            },
            "type": "scatterpolar"
           }
          ],
          "scatterpolargl": [
           {
            "marker": {
             "colorbar": {
              "outlinewidth": 1,
              "tickcolor": "rgb(36,36,36)",
              "ticks": "outside"
             }
            },
            "type": "scatterpolargl"
           }
          ],
          "scatterternary": [
           {
            "marker": {
             "colorbar": {
              "outlinewidth": 1,
              "tickcolor": "rgb(36,36,36)",
              "ticks": "outside"
             }
            },
            "type": "scatterternary"
           }
          ],
          "surface": [
           {
            "colorbar": {
             "outlinewidth": 1,
             "tickcolor": "rgb(36,36,36)",
             "ticks": "outside"
            },
            "colorscale": [
             [
              0,
              "#440154"
             ],
             [
              0.1111111111111111,
              "#482878"
             ],
             [
              0.2222222222222222,
              "#3e4989"
             ],
             [
              0.3333333333333333,
              "#31688e"
             ],
             [
              0.4444444444444444,
              "#26828e"
             ],
             [
              0.5555555555555556,
              "#1f9e89"
             ],
             [
              0.6666666666666666,
              "#35b779"
             ],
             [
              0.7777777777777778,
              "#6ece58"
             ],
             [
              0.8888888888888888,
              "#b5de2b"
             ],
             [
              1,
              "#fde725"
             ]
            ],
            "type": "surface"
           }
          ],
          "table": [
           {
            "cells": {
             "fill": {
              "color": "rgb(237,237,237)"
             },
             "line": {
              "color": "white"
             }
            },
            "header": {
             "fill": {
              "color": "rgb(217,217,217)"
             },
             "line": {
              "color": "white"
             }
            },
            "type": "table"
           }
          ]
         },
         "layout": {
          "annotationdefaults": {
           "arrowhead": 0,
           "arrowwidth": 1
          },
          "autotypenumbers": "strict",
          "coloraxis": {
           "colorbar": {
            "outlinewidth": 1,
            "tickcolor": "rgb(36,36,36)",
            "ticks": "outside"
           }
          },
          "colorscale": {
           "diverging": [
            [
             0,
             "rgb(103,0,31)"
            ],
            [
             0.1,
             "rgb(178,24,43)"
            ],
            [
             0.2,
             "rgb(214,96,77)"
            ],
            [
             0.3,
             "rgb(244,165,130)"
            ],
            [
             0.4,
             "rgb(253,219,199)"
            ],
            [
             0.5,
             "rgb(247,247,247)"
            ],
            [
             0.6,
             "rgb(209,229,240)"
            ],
            [
             0.7,
             "rgb(146,197,222)"
            ],
            [
             0.8,
             "rgb(67,147,195)"
            ],
            [
             0.9,
             "rgb(33,102,172)"
            ],
            [
             1,
             "rgb(5,48,97)"
            ]
           ],
           "sequential": [
            [
             0,
             "#440154"
            ],
            [
             0.1111111111111111,
             "#482878"
            ],
            [
             0.2222222222222222,
             "#3e4989"
            ],
            [
             0.3333333333333333,
             "#31688e"
            ],
            [
             0.4444444444444444,
             "#26828e"
            ],
            [
             0.5555555555555556,
             "#1f9e89"
            ],
            [
             0.6666666666666666,
             "#35b779"
            ],
            [
             0.7777777777777778,
             "#6ece58"
            ],
            [
             0.8888888888888888,
             "#b5de2b"
            ],
            [
             1,
             "#fde725"
            ]
           ],
           "sequentialminus": [
            [
             0,
             "#440154"
            ],
            [
             0.1111111111111111,
             "#482878"
            ],
            [
             0.2222222222222222,
             "#3e4989"
            ],
            [
             0.3333333333333333,
             "#31688e"
            ],
            [
             0.4444444444444444,
             "#26828e"
            ],
            [
             0.5555555555555556,
             "#1f9e89"
            ],
            [
             0.6666666666666666,
             "#35b779"
            ],
            [
             0.7777777777777778,
             "#6ece58"
            ],
            [
             0.8888888888888888,
             "#b5de2b"
            ],
            [
             1,
             "#fde725"
            ]
           ]
          },
          "colorway": [
           "#1F77B4",
           "#FF7F0E",
           "#2CA02C",
           "#D62728",
           "#9467BD",
           "#8C564B",
           "#E377C2",
           "#7F7F7F",
           "#BCBD22",
           "#17BECF"
          ],
          "font": {
           "color": "rgb(36,36,36)"
          },
          "geo": {
           "bgcolor": "white",
           "lakecolor": "white",
           "landcolor": "white",
           "showlakes": true,
           "showland": true,
           "subunitcolor": "white"
          },
          "hoverlabel": {
           "align": "left"
          },
          "hovermode": "closest",
          "mapbox": {
           "style": "light"
          },
          "paper_bgcolor": "white",
          "plot_bgcolor": "white",
          "polar": {
           "angularaxis": {
            "gridcolor": "rgb(232,232,232)",
            "linecolor": "rgb(36,36,36)",
            "showgrid": false,
            "showline": true,
            "ticks": "outside"
           },
           "bgcolor": "white",
           "radialaxis": {
            "gridcolor": "rgb(232,232,232)",
            "linecolor": "rgb(36,36,36)",
            "showgrid": false,
            "showline": true,
            "ticks": "outside"
           }
          },
          "scene": {
           "xaxis": {
            "backgroundcolor": "white",
            "gridcolor": "rgb(232,232,232)",
            "gridwidth": 2,
            "linecolor": "rgb(36,36,36)",
            "showbackground": true,
            "showgrid": false,
            "showline": true,
            "ticks": "outside",
            "zeroline": false,
            "zerolinecolor": "rgb(36,36,36)"
           },
           "yaxis": {
            "backgroundcolor": "white",
            "gridcolor": "rgb(232,232,232)",
            "gridwidth": 2,
            "linecolor": "rgb(36,36,36)",
            "showbackground": true,
            "showgrid": false,
            "showline": true,
            "ticks": "outside",
            "zeroline": false,
            "zerolinecolor": "rgb(36,36,36)"
           },
           "zaxis": {
            "backgroundcolor": "white",
            "gridcolor": "rgb(232,232,232)",
            "gridwidth": 2,
            "linecolor": "rgb(36,36,36)",
            "showbackground": true,
            "showgrid": false,
            "showline": true,
            "ticks": "outside",
            "zeroline": false,
            "zerolinecolor": "rgb(36,36,36)"
           }
          },
          "shapedefaults": {
           "fillcolor": "black",
           "line": {
            "width": 0
           },
           "opacity": 0.3
          },
          "ternary": {
           "aaxis": {
            "gridcolor": "rgb(232,232,232)",
            "linecolor": "rgb(36,36,36)",
            "showgrid": false,
            "showline": true,
            "ticks": "outside"
           },
           "baxis": {
            "gridcolor": "rgb(232,232,232)",
            "linecolor": "rgb(36,36,36)",
            "showgrid": false,
            "showline": true,
            "ticks": "outside"
           },
           "bgcolor": "white",
           "caxis": {
            "gridcolor": "rgb(232,232,232)",
            "linecolor": "rgb(36,36,36)",
            "showgrid": false,
            "showline": true,
            "ticks": "outside"
           }
          },
          "title": {
           "x": 0.05
          },
          "xaxis": {
           "automargin": true,
           "gridcolor": "rgb(232,232,232)",
           "linecolor": "rgb(36,36,36)",
           "showgrid": false,
           "showline": true,
           "ticks": "outside",
           "title": {
            "standoff": 15
           },
           "zeroline": false,
           "zerolinecolor": "rgb(36,36,36)"
          },
          "yaxis": {
           "automargin": true,
           "gridcolor": "rgb(232,232,232)",
           "linecolor": "rgb(36,36,36)",
           "showgrid": false,
           "showline": true,
           "ticks": "outside",
           "title": {
            "standoff": 15
           },
           "zeroline": false,
           "zerolinecolor": "rgb(36,36,36)"
          }
         }
        },
        "title": {
         "font": {
          "color": "Black",
          "size": 22
         },
         "text": "<b>Intertopic Distance Map</b>",
         "x": 0.5,
         "xanchor": "center",
         "y": 0.95,
         "yanchor": "top"
        },
        "width": 650,
        "xaxis": {
         "anchor": "y",
         "domain": [
          0,
          1
         ],
         "range": [
          -5.426535129547119,
          14.629800796508789
         ],
         "title": {
          "text": ""
         },
         "visible": false
        },
        "yaxis": {
         "anchor": "x",
         "domain": [
          0,
          1
         ],
         "range": [
          -5.437121391296387,
          4.9121174812316895
         ],
         "title": {
          "text": ""
         },
         "visible": false
        }
       }
      }
     },
     "metadata": {},
     "output_type": "display_data"
    }
   ],
   "source": [
    "topic_model.visualize_topics(custom_labels=True)"
   ]
  },
  {
   "cell_type": "code",
   "execution_count": null,
   "metadata": {},
   "outputs": [],
   "source": []
  }
 ],
 "metadata": {
  "kernelspec": {
   "display_name": ".venv",
   "language": "python",
   "name": "python3"
  },
  "language_info": {
   "codemirror_mode": {
    "name": "ipython",
    "version": 3
   },
   "file_extension": ".py",
   "mimetype": "text/x-python",
   "name": "python",
   "nbconvert_exporter": "python",
   "pygments_lexer": "ipython3",
   "version": "3.10.14"
  }
 },
 "nbformat": 4,
 "nbformat_minor": 2
}
