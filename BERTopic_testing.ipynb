{
 "cells": [
  {
   "cell_type": "code",
   "execution_count": 2,
   "metadata": {},
   "outputs": [],
   "source": [
    "from datasets import load_dataset\n",
    "dataset = load_dataset(\"jerteh/SrpKorNews\")"
   ]
  },
  {
   "cell_type": "code",
   "execution_count": 3,
   "metadata": {},
   "outputs": [
    {
     "data": {
      "text/plain": [
       "DatasetDict({\n",
       "    train: Dataset({\n",
       "        features: ['text'],\n",
       "        num_rows: 337\n",
       "    })\n",
       "})"
      ]
     },
     "execution_count": 3,
     "metadata": {},
     "output_type": "execute_result"
    }
   ],
   "source": [
    "dataset"
   ]
  },
  {
   "cell_type": "code",
   "execution_count": 4,
   "metadata": {},
   "outputs": [
    {
     "name": "stdout",
     "output_type": "stream",
     "text": [
      "<s>Mečka na usijanom limenom krovu</s><s>Piše: Dušan Vidaković Kada je austrijski konzul u Nici Emil\n",
      "<class 'list'>\n",
      "337\n"
     ]
    }
   ],
   "source": [
    "print(dataset['train']['text'][0][:100])\n",
    "print(type(dataset['train']['text']))\n",
    "print(len(dataset['train']['text']))"
   ]
  },
  {
   "cell_type": "code",
   "execution_count": 5,
   "metadata": {},
   "outputs": [
    {
     "name": "stdout",
     "output_type": "stream",
     "text": [
      "('<s>Mečka na usijanom limenom krovu</s><s>Piše: Dušan Vidaković Kada je '\n",
      " 'austrijski konzul u Nici Emil Jelinek 1901. naručio od nemačkog Dajmlera, '\n",
      " 'odjednom, čak 36 automobila, čija je ukupna cena premašila fantastičnih 550 '\n",
      " 'hiljada zlatnih maraka, imao je samo jedan uslov: da sva ta kola nose ime '\n",
      " 'njegove ćerke.</s><s>Ljudi iz kanstatske firme, naravno, nisu imali ništa '\n",
      " 'protiv, a istorija automobilizma je imala sreću da je Jelinekovoj mezimici '\n",
      " 'kum dao (pogotovo za Špance) vrlo graciozno ime - Mercedes, što na jeziku '\n",
      " 'konkvistadora znaci ljupkost, umilnost, prijatnost.</s><s>Jelinekova '\n",
      " 'porudžbina značila prekretnicu u poslovanju Dajmlera, a naziv Mercedes je '\n",
      " 'preživeo i fuziju sa fabrikom Karla Benca, 1926. godine, održavši se do '\n",
      " 'danas kao sinonim za kvalitetne, luksuzne i, nadasve, bezbedne automobile '\n",
      " 'svojstvenih vozačima koji ne kriju brige u novčaniku.</s><s>Međutim, upravo '\n",
      " 'legenda o blistavosti trokrake zvezde doživljava ovih dana ozbiljnu proveru '\n",
      " 'zahvaljujući mercedesu A klase.</s><s>A s')\n"
     ]
    }
   ],
   "source": [
    "from pprint import pprint\n",
    "pprint(dataset['train']['text'][0][:1000])"
   ]
  },
  {
   "cell_type": "code",
   "execution_count": 6,
   "metadata": {},
   "outputs": [
    {
     "name": "stdout",
     "output_type": "stream",
     "text": [
      "('<s>Iskoristite poslednju šansu</s><s>Dok šefovi država sveta u Meksiku '\n",
      " 'uzalud troše četiri dragocena dana pokušavajući da ubede javnost da '\n",
      " 'saopštenjima za novinare mogu da reše svetske ekonomske probleme, i probleme '\n",
      " 'životne sredine u Brazilu, evropski lideri zaista imaju poslednju šansu da '\n",
      " 'odluče o svojoj sudbini.</s><s>Poslednju šansu, jer ako ne urade ništa, '\n",
      " 'opstanak evra će ponovo, narednog leta, zavisiti od masivnih intervencija '\n",
      " 'centralnih banaka.</s><s>A sve naše zemlje ubrzo će preplaviti ')\n"
     ]
    }
   ],
   "source": [
    "texts = dataset['train']['text'][:100]\n",
    "pprint(texts[2][:500])"
   ]
  },
  {
   "cell_type": "code",
   "execution_count": 7,
   "metadata": {},
   "outputs": [],
   "source": [
    "# # Prepare documents\n",
    "# doc_chunks = [text for i in range(0, len(texts), 1000) for text in texts[i:i+1000]]\n",
    "# print(doc_chunks[0])\n",
    "# print(len(doc_chunks[0]))"
   ]
  },
  {
   "cell_type": "code",
   "execution_count": 8,
   "metadata": {},
   "outputs": [],
   "source": [
    "# Load model directly\n",
    "from transformers import AutoTokenizer, AutoModelForMaskedLM\n",
    "\n",
    "tokenizer_jerteh = AutoTokenizer.from_pretrained(\"jerteh/Jerteh-355\")\n",
    "model_jerteh = AutoModelForMaskedLM.from_pretrained(\"jerteh/Jerteh-355\")"
   ]
  },
  {
   "cell_type": "code",
   "execution_count": 9,
   "metadata": {},
   "outputs": [
    {
     "name": "stdout",
     "output_type": "stream",
     "text": [
      "Encoding(num_tokens=88470, attributes=[ids, type_ids, tokens, offsets, attention_mask, special_tokens_mask, overflowing])\n",
      "88470\n"
     ]
    }
   ],
   "source": [
    "embeddings = tokenizer_jerteh(texts)\n",
    "print(embeddings[0])\n",
    "print(len(embeddings[0]))"
   ]
  },
  {
   "cell_type": "code",
   "execution_count": 10,
   "metadata": {},
   "outputs": [],
   "source": [
    "from sentence_transformers import SentenceTransformer\n",
    "\n",
    "model = SentenceTransformer(\"sentence-transformers/paraphrase-multilingual-MiniLM-L12-v2\")"
   ]
  },
  {
   "cell_type": "code",
   "execution_count": 11,
   "metadata": {},
   "outputs": [],
   "source": [
    "# from bertopic import BERTopic\n",
    "# from umap import UMAP\n",
    "\n",
    "# # Prepare embeddings\n",
    "# embeddings = tokenizer(texts)\n",
    "\n",
    "# # Train BERTopic\n",
    "# topic_model = BERTopic().fit(texts, embeddings)\n",
    "\n",
    "# # Run the visualization with the original embeddings\n",
    "# topic_model.visualize_documents(texts, embeddings=embeddings)\n",
    "\n",
    "# # Reduce dimensionality of embeddings, this step is optional but much faster to perform iteratively:\n",
    "# reduced_embeddings = UMAP(n_neighbors=10, n_components=2, min_dist=0.0, metric='cosine').fit_transform(embeddings)\n",
    "# topic_model.visualize_documents(texts, reduced_embeddings=reduced_embeddings)\n",
    "#embeddings"
   ]
  },
  {
   "cell_type": "code",
   "execution_count": 12,
   "metadata": {},
   "outputs": [
    {
     "ename": "",
     "evalue": "",
     "output_type": "error",
     "traceback": [
      "\u001b[1;31mThe Kernel crashed while executing code in the current cell or a previous cell. \n",
      "\u001b[1;31mPlease review the code in the cell(s) to identify a possible cause of the failure. \n",
      "\u001b[1;31mClick <a href='https://aka.ms/vscodeJupyterKernelCrash'>here</a> for more info. \n",
      "\u001b[1;31mView Jupyter <a href='command:jupyter.viewOutput'>log</a> for further details."
     ]
    }
   ],
   "source": [
    "from bertopic import BERTopic\n",
    "from transformers import AutoTokenizer, AutoModelForMaskedLM\n",
    "from torch import LongTensor, no_grad\n",
    "from scipy import spatial\n",
    "from umap import UMAP\n",
    "from hdbscan import HDBSCAN\n",
    "from sklearn.feature_extraction.text import CountVectorizer# Defining model pipeline\n",
    "\n",
    "umap_model = UMAP(n_neighbors= 2, n_components= 2, metric='cosine', random_state=42)\n",
    "hdbscan_model = HDBSCAN(min_cluster_size = 2, min_samples = 4, metric ='euclidean', cluster_selection_method = 'eom', prediction_data=True)\n",
    "vectorizer_model = CountVectorizer(min_df = 2, max_df = 0.8, ngram_range = (1, 2))\n",
    "\n",
    "topic_model = BERTopic(\n",
    "\n",
    "  # Pipeline models\n",
    "  \n",
    "  embedding_model=model_jerteh,\n",
    "  umap_model=umap_model,\n",
    "  hdbscan_model=hdbscan_model,\n",
    "  vectorizer_model=vectorizer_model,\n",
    "  min_topic_size = 3,\n",
    "\n",
    "  # Hyperparameters\n",
    "  top_n_words=10,\n",
    "  verbose=True\n",
    ")"
   ]
  },
  {
   "cell_type": "code",
   "execution_count": 9,
   "metadata": {},
   "outputs": [
    {
     "name": "stderr",
     "output_type": "stream",
     "text": [
      "2024-08-13 15:38:01,753 - BERTopic - Embedding - Transforming documents to embeddings.\n"
     ]
    },
    {
     "data": {
      "application/vnd.jupyter.widget-view+json": {
       "model_id": "0852358cc1a84ec59f8eb765617db38a",
       "version_major": 2,
       "version_minor": 0
      },
      "text/plain": [
       "Batches:   0%|          | 0/4 [00:00<?, ?it/s]"
      ]
     },
     "metadata": {},
     "output_type": "display_data"
    },
    {
     "name": "stderr",
     "output_type": "stream",
     "text": [
      "2024-08-13 15:40:00,613 - BERTopic - Embedding - Completed ✓\n",
      "2024-08-13 15:40:00,614 - BERTopic - Dimensionality - Fitting the dimensionality reduction algorithm\n",
      "2024-08-13 15:40:06,710 - BERTopic - Dimensionality - Completed ✓\n",
      "2024-08-13 15:40:06,711 - BERTopic - Cluster - Start clustering the reduced embeddings\n",
      "2024-08-13 15:40:06,717 - BERTopic - Cluster - Completed ✓\n",
      "2024-08-13 15:40:06,719 - BERTopic - Representation - Extracting topics from clusters using representation models.\n",
      "2024-08-13 15:42:02,829 - BERTopic - Representation - Completed ✓\n"
     ]
    },
    {
     "data": {
      "text/html": [
       "<div>\n",
       "<style scoped>\n",
       "    .dataframe tbody tr th:only-of-type {\n",
       "        vertical-align: middle;\n",
       "    }\n",
       "\n",
       "    .dataframe tbody tr th {\n",
       "        vertical-align: top;\n",
       "    }\n",
       "\n",
       "    .dataframe thead th {\n",
       "        text-align: right;\n",
       "    }\n",
       "</style>\n",
       "<table border=\"1\" class=\"dataframe\">\n",
       "  <thead>\n",
       "    <tr style=\"text-align: right;\">\n",
       "      <th></th>\n",
       "      <th>Topic</th>\n",
       "      <th>Count</th>\n",
       "      <th>Name</th>\n",
       "      <th>Representation</th>\n",
       "      <th>Representative_Docs</th>\n",
       "    </tr>\n",
       "  </thead>\n",
       "  <tbody>\n",
       "    <tr>\n",
       "      <th>0</th>\n",
       "      <td>-1</td>\n",
       "      <td>8</td>\n",
       "      <td>-1_ilirika_szs_prvorođeni_bojkota</td>\n",
       "      <td>[ilirika, szs, prvorođeni, bojkota, mhe, preds...</td>\n",
       "      <td>[&lt;s&gt;Rekonstruisano 200 benzinskih stanica&lt;/s&gt;&lt;...</td>\n",
       "    </tr>\n",
       "    <tr>\n",
       "      <th>1</th>\n",
       "      <td>0</td>\n",
       "      <td>34</td>\n",
       "      <td>0_font_font family_size_font size</td>\n",
       "      <td>[font, font family, size, font size, 12pt, siz...</td>\n",
       "      <td>[&lt;s&gt;Plavi orkestar i Bajaga večeras ispred Dom...</td>\n",
       "    </tr>\n",
       "    <tr>\n",
       "      <th>2</th>\n",
       "      <td>1</td>\n",
       "      <td>33</td>\n",
       "      <td>1_font_večeras od_font family_size</td>\n",
       "      <td>[font, večeras od, font family, size, font siz...</td>\n",
       "      <td>[&lt;s&gt;Pozdrav levici&lt;/s&gt;&lt;s&gt;Janis Varufakis rado ...</td>\n",
       "    </tr>\n",
       "    <tr>\n",
       "      <th>3</th>\n",
       "      <td>2</td>\n",
       "      <td>10</td>\n",
       "      <td>2_belexline_font_srx_indeksnih</td>\n",
       "      <td>[belexline, font, srx, indeksnih, trgovano, fo...</td>\n",
       "      <td>[&lt;s&gt;Dinarski krediti Laiki banke bez valutne k...</td>\n",
       "    </tr>\n",
       "    <tr>\n",
       "      <th>4</th>\n",
       "      <td>3</td>\n",
       "      <td>10</td>\n",
       "      <td>3_font_font family_font size_size</td>\n",
       "      <td>[font, font family, font size, size, vode će, ...</td>\n",
       "      <td>[&lt;s&gt;Centralni trgovi bez prevoza do pet izjutr...</td>\n",
       "    </tr>\n",
       "    <tr>\n",
       "      <th>5</th>\n",
       "      <td>4</td>\n",
       "      <td>5</td>\n",
       "      <td>4_renault_nm_nissan_baus</td>\n",
       "      <td>[renault, nm, nissan, baus, najboljiauto, najb...</td>\n",
       "      <td>[&lt;s&gt;„Nemci“ do 2.000 evra najtraženiji polovnj...</td>\n",
       "    </tr>\n",
       "  </tbody>\n",
       "</table>\n",
       "</div>"
      ],
      "text/plain": [
       "   Topic  Count                                Name  \\\n",
       "0     -1      8   -1_ilirika_szs_prvorođeni_bojkota   \n",
       "1      0     34   0_font_font family_size_font size   \n",
       "2      1     33  1_font_večeras od_font family_size   \n",
       "3      2     10      2_belexline_font_srx_indeksnih   \n",
       "4      3     10   3_font_font family_font size_size   \n",
       "5      4      5            4_renault_nm_nissan_baus   \n",
       "\n",
       "                                      Representation  \\\n",
       "0  [ilirika, szs, prvorođeni, bojkota, mhe, preds...   \n",
       "1  [font, font family, size, font size, 12pt, siz...   \n",
       "2  [font, večeras od, font family, size, font siz...   \n",
       "3  [belexline, font, srx, indeksnih, trgovano, fo...   \n",
       "4  [font, font family, font size, size, vode će, ...   \n",
       "5  [renault, nm, nissan, baus, najboljiauto, najb...   \n",
       "\n",
       "                                 Representative_Docs  \n",
       "0  [<s>Rekonstruisano 200 benzinskih stanica</s><...  \n",
       "1  [<s>Plavi orkestar i Bajaga večeras ispred Dom...  \n",
       "2  [<s>Pozdrav levici</s><s>Janis Varufakis rado ...  \n",
       "3  [<s>Dinarski krediti Laiki banke bez valutne k...  \n",
       "4  [<s>Centralni trgovi bez prevoza do pet izjutr...  \n",
       "5  [<s>„Nemci“ do 2.000 evra najtraženiji polovnj...  "
      ]
     },
     "execution_count": 9,
     "metadata": {},
     "output_type": "execute_result"
    }
   ],
   "source": [
    "# Train model\n",
    "topics, probs = topic_model.fit_transform(texts)\n",
    "\n",
    "# Show topics\n",
    "topics_bert = topic_model.get_topic_info()\n",
    "topics_bert"
   ]
  },
  {
   "cell_type": "code",
   "execution_count": 13,
   "metadata": {},
   "outputs": [
    {
     "name": "stderr",
     "output_type": "stream",
     "text": [
      "2024-08-13 15:55:52,116 - BERTopic - Embedding - Transforming documents to embeddings.\n"
     ]
    },
    {
     "data": {
      "application/vnd.jupyter.widget-view+json": {
       "model_id": "d6f4fae67b5c460693f8cab361563a62",
       "version_major": 2,
       "version_minor": 0
      },
      "text/plain": [
       "Batches:   0%|          | 0/4 [00:00<?, ?it/s]"
      ]
     },
     "metadata": {},
     "output_type": "display_data"
    }
   ],
   "source": [
    "topcs_jerteh, probs_jerteh = topic_model.fit_transform(texts)\n",
    "# Show topics\n",
    "topics_jerteh = topic_model.get_topic_info()\n",
    "topics_jerteh"
   ]
  },
  {
   "cell_type": "code",
   "execution_count": 51,
   "metadata": {},
   "outputs": [
    {
     "name": "stderr",
     "output_type": "stream",
     "text": [
      "2024-08-13 10:37:19,831 - BERTopic - WARNING: Using a custom list of topic assignments may lead to errors if topic reduction techniques are used afterwards. Make sure that manually assigning topics is the last step in the pipeline.Note that topic embeddings will also be created through weightedc-TF-IDF embeddings instead of centroid embeddings.\n"
     ]
    },
    {
     "data": {
      "text/html": [
       "<div>\n",
       "<style scoped>\n",
       "    .dataframe tbody tr th:only-of-type {\n",
       "        vertical-align: middle;\n",
       "    }\n",
       "\n",
       "    .dataframe tbody tr th {\n",
       "        vertical-align: top;\n",
       "    }\n",
       "\n",
       "    .dataframe thead th {\n",
       "        text-align: right;\n",
       "    }\n",
       "</style>\n",
       "<table border=\"1\" class=\"dataframe\">\n",
       "  <thead>\n",
       "    <tr style=\"text-align: right;\">\n",
       "      <th></th>\n",
       "      <th>Topic</th>\n",
       "      <th>Count</th>\n",
       "      <th>Name</th>\n",
       "      <th>Representation</th>\n",
       "      <th>Representative_Docs</th>\n",
       "    </tr>\n",
       "  </thead>\n",
       "  <tbody>\n",
       "    <tr>\n",
       "      <th>0</th>\n",
       "      <td>0</td>\n",
       "      <td>9</td>\n",
       "      <td>0_je_da_na_se</td>\n",
       "      <td>[je, da, na, se, za, su, od, sa, ne, će]</td>\n",
       "      <td>[&lt;s&gt;Pravi med je skup:&lt;/s&gt;&lt;s&gt;Evo kakve namete ...</td>\n",
       "    </tr>\n",
       "    <tr>\n",
       "      <th>1</th>\n",
       "      <td>1</td>\n",
       "      <td>11</td>\n",
       "      <td>1_je_da_se_na</td>\n",
       "      <td>[je, da, se, na, za, su, od, sa, to, koji]</td>\n",
       "      <td>[&lt;s&gt;Prvi srpski ustanak:&lt;/s&gt;&lt;s&gt;Kad je narod kr...</td>\n",
       "    </tr>\n",
       "  </tbody>\n",
       "</table>\n",
       "</div>"
      ],
      "text/plain": [
       "   Topic  Count           Name                              Representation  \\\n",
       "0      0      9  0_je_da_na_se    [je, da, na, se, za, su, od, sa, ne, će]   \n",
       "1      1     11  1_je_da_se_na  [je, da, se, na, za, su, od, sa, to, koji]   \n",
       "\n",
       "                                 Representative_Docs  \n",
       "0  [<s>Pravi med je skup:</s><s>Evo kakve namete ...  \n",
       "1  [<s>Prvi srpski ustanak:</s><s>Kad je narod kr...  "
      ]
     },
     "execution_count": 51,
     "metadata": {},
     "output_type": "execute_result"
    }
   ],
   "source": [
    "new_topics = new_topics = topic_model.reduce_outliers(texts, topics, strategy=\"embeddings\")\n",
    "topic_model.update_topics(texts, topics=new_topics)\n",
    "topic_model.get_topic_info()"
   ]
  }
 ],
 "metadata": {
  "kernelspec": {
   "display_name": ".venv",
   "language": "python",
   "name": "python3"
  },
  "language_info": {
   "codemirror_mode": {
    "name": "ipython",
    "version": 3
   },
   "file_extension": ".py",
   "mimetype": "text/x-python",
   "name": "python",
   "nbconvert_exporter": "python",
   "pygments_lexer": "ipython3",
   "version": "3.10.14"
  }
 },
 "nbformat": 4,
 "nbformat_minor": 2
}
