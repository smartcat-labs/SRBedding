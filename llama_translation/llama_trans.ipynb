{
 "cells": [
  {
   "cell_type": "code",
   "execution_count": 17,
   "metadata": {},
   "outputs": [],
   "source": [
    "import os, sys\n",
    "import pandas as pd\n",
    "from groq import Groq\n",
    "from dotenv import load_dotenv\n",
    "from prompt import SYSTEM_PROMPT\n",
    "load_dotenv()\n",
    "sys.path.append(\"..\")"
   ]
  },
  {
   "cell_type": "code",
   "execution_count": 2,
   "metadata": {},
   "outputs": [],
   "source": [
    "from typing import Any, Dict, List\n",
    "from datasets import load_dataset\n",
    "\n",
    "def load_sts_data() -> List[Dict[str, Any]]:\n",
    "    sts = load_dataset(\"mteb/stsbenchmark-sts\")\n",
    "    sts_test_df = pd.DataFrame(sts['test'])\n",
    "\n",
    "    final_data = []\n",
    "    for i, row in sts_test_df.iterrows():\n",
    "        # if i > 10:\n",
    "        #     break\n",
    "        final_data.append(\n",
    "            {\n",
    "                \"id\": row['sid'],\n",
    "                \"sentence\": row['sentence2'],\n",
    "            }\n",
    "        )\n",
    "\n",
    "    return final_data"
   ]
  },
  {
   "cell_type": "code",
   "execution_count": 3,
   "metadata": {},
   "outputs": [],
   "source": [
    "sts = load_sts_data()"
   ]
  },
  {
   "cell_type": "code",
   "execution_count": 4,
   "metadata": {},
   "outputs": [
    {
     "name": "stdout",
     "output_type": "stream",
     "text": [
      "['A girl is brushing her hair.', 'A group of boys are playing soccer on the beach.', \"A woman measures another woman's ankle.\", 'A man is slicing a cucumber.', 'A man is playing a keyboard.', 'A woman is cutting tofu.', 'A man is riding a bicycle.', 'A man is playing the guitar.', 'A lady is playing the guitar.', 'A man is playing a trumpet.']\n"
     ]
    }
   ],
   "source": [
    "sentences = []\n",
    "for i in sts[:10]:\n",
    "    sentence = i['sentence']\n",
    "    sentences.append(sentence)\n",
    "print(sentences)"
   ]
  },
  {
   "cell_type": "code",
   "execution_count": 18,
   "metadata": {},
   "outputs": [
    {
     "name": "stdout",
     "output_type": "stream",
     "text": [
      "Original: A girl is brushing her hair.\n",
      "Translated: Here is the translation:\n",
      "\n",
      "{ {\"sentence\" : \"Djevojčica čuva kosu.\" } }\n",
      "---\n",
      "Original: A group of boys are playing soccer on the beach.\n",
      "Translated: Here is the translation of the sentence:\n",
      "\n",
      "{ \"sentence\" : \"Grupa dječaka igraju fudbal na plannerskoj\" }\n",
      "\n",
      "Breakdown:\n",
      "Grupa - group\n",
      "dječaka - boys (genitive form, because \"grupa\" is a plural form and \"dječaka\" is the possessive form of the noun \"dete\" (children), indicating who is playing soccer)\n",
      "igraju - are playing (third person plural form of the verb \"igrati\" (to play))\n",
      "fudbal - soccer\n",
      "na - on\n",
      "plannerskoj - beach ( possessive form of the noun \"planinarska obala\" (beach), indicating where the boys are playing)\n",
      "---\n",
      "Original: A woman measures another woman's ankle.\n",
      "Translated: Here is the translation:\n",
      "\n",
      "{\"sentence\" : \"Žena mjeri drugoj ženi gležnjak.\"}\n",
      "---\n",
      "Original: A man is slicing a cucumber.\n",
      "Translated: Here is the translation of the sentence from English to Serbian:\n",
      "\n",
      "[{\"sentence\" : \"Mužićreže pomodoru.\"}]\n",
      "\n",
      "Here's the explanation:\n",
      "\n",
      "* \"Muž\" means \"man\" or \"a man\".\n",
      "* \"recio\" is the verb \"to slice\" in Serbian, and the accusative form of \"cucumber\" is \"pomodoru\", because it's a masculine noun.\n",
      "---\n",
      "Original: A man is playing a keyboard.\n",
      "Translated: Here is the translation:\n",
      "\n",
      "[{\"sentence\" : \"Muž prakticira na klavijaturi.\"}]\n",
      "---\n",
      "Original: A woman is cutting tofu.\n",
      "Translated: Here is the translation from English to Serbian:\n",
      "\n",
      "[\n",
      "  {\n",
      "    \"sentence\": \"Žena řeže tofu.\"\n",
      "  }\n",
      "]\n",
      "---\n",
      "Original: A man is riding a bicycle.\n",
      "Translated: { \"sentence\" : \"Muškarac jede biciklom.\" }\n",
      "---\n",
      "Original: A man is playing the guitar.\n",
      "Translated: Here's the translation:\n",
      "\n",
      "[{\"sentence\": \"Muškarac svira gitaru.\"}]\n",
      "\n",
      "(Muškarac means \"man\", svira means \"is playing\" and gitaru means \"guitar\".)\n",
      "---\n",
      "Original: A lady is playing the guitar.\n",
      "Translated: Here is the translation:\n",
      "\n",
      "{\n",
      "\"sentence\" : \"Žena igra na gitari.\"\n",
      "}\n",
      "\n",
      "Let me know if you need further assistance!\n",
      "---\n",
      "Original: A man is playing a trumpet.\n",
      "Translated: { \"sentence\" : \"Čovek igra truba.\" }\n",
      "---\n"
     ]
    }
   ],
   "source": [
    "client = Groq(api_key=os.environ.get(\"GROQ_API_KEY\"),)\n",
    "\n",
    "def translate_sentences(client, system_prompt, data):\n",
    "    translated_data = []\n",
    "    \n",
    "    for sentence in data:\n",
    "        # Prepare the request for chat completion\n",
    "        response = client.chat.completions.create(\n",
    "            model=\"llama3-8b-8192\",\n",
    "            messages=[\n",
    "                {\"role\": \"system\", \"content\": system_prompt},\n",
    "                {\"role\": \"user\", \"content\": sentence}\n",
    "            ]\n",
    "        )\n",
    "        \n",
    "        # Extract the translation result\n",
    "        translation = response.choices[0].message.content\n",
    "        translated_data.append(translation)\n",
    "    \n",
    "    return translated_data\n",
    "\n",
    "# Call the function and translate the sentences\n",
    "translated_sentences = translate_sentences(client, SYSTEM_PROMPT, sentences)\n",
    "\n",
    "# Print the translated sentences\n",
    "for original, translated in zip(sentences, translated_sentences):\n",
    "    print(f\"Original: {original}\")\n",
    "    print(f\"Translated: {translated}\")\n",
    "    print(\"---\")"
   ]
  }
 ],
 "metadata": {
  "kernelspec": {
   "display_name": ".venv",
   "language": "python",
   "name": "python3"
  },
  "language_info": {
   "codemirror_mode": {
    "name": "ipython",
    "version": 3
   },
   "file_extension": ".py",
   "mimetype": "text/x-python",
   "name": "python",
   "nbconvert_exporter": "python",
   "pygments_lexer": "ipython3",
   "version": "3.11.5"
  }
 },
 "nbformat": 4,
 "nbformat_minor": 2
}
