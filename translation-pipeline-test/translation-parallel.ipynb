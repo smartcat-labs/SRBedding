{
 "cells": [
  {
   "cell_type": "code",
   "execution_count": 2,
   "metadata": {},
   "outputs": [
    {
     "data": {
      "text/plain": [
       "Dataset({\n",
       "    features: ['passages', 'query', 'query_id'],\n",
       "    num_rows: 9650\n",
       "})"
      ]
     },
     "execution_count": 2,
     "metadata": {},
     "output_type": "execute_result"
    }
   ],
   "source": [
    "import transformers\n",
    "import sentence_transformers\n",
    "\n",
    "from datasets import load_dataset\n",
    "\n",
    "data = load_dataset(\"microsoft/ms_marco\", \"v1.1\")\n",
    "data_test = data['test']\n",
    "ms_marco = data_test.select_columns(['passages', 'query', 'query_id'])\n",
    "ms_marco"
   ]
  },
  {
   "cell_type": "code",
   "execution_count": 21,
   "metadata": {},
   "outputs": [
    {
     "name": "stdout",
     "output_type": "stream",
     "text": [
      "{'passage_text': ['We have been feeding our back yard squirrels for the fall '\n",
      "                  'and winter and we noticed that a few of them have missing '\n",
      "                  'fur. One has a patch missing down his back and under both '\n",
      "                  'arms. Also another has some missing on his whole chest. '\n",
      "                  'They are all eating and seem to have a good appetite.',\n",
      "                  'Critters cannot stand the smell of human hair, so '\n",
      "                  'sprinkling a barrier of hair clippings around your garden, '\n",
      "                  'or lightly working it into the soil when you plant bulbs, '\n",
      "                  'apparently does have some merit. The whole thing kind of '\n",
      "                  'makes me laugh. It never occurred to me that we are the '\n",
      "                  'ones that stink.',\n",
      "                  'Spread some human hair around your vegetable and flower '\n",
      "                  'gardens. This will scare the squirrels away because humans '\n",
      "                  \"are predators of squirrels. It is better if the hair hasn't \"\n",
      "                  'been washed so the squirrels will easily pick up the human '\n",
      "                  'scent.',\n",
      "                  '1 You can sprinkle blood meal around your garden as well. '\n",
      "                  '2  Don’t trap and relocate squirrels. 3  This is a losing '\n",
      "                  'battle since the population of squirrels is extremely high. '\n",
      "                  '4  Also, if the animal is a female there is a high '\n",
      "                  'likelihood that you will remove her from babies that depend '\n",
      "                  'on her for survival.',\n",
      "                  'Hair loss in squirrels can be caused by mange or fungal '\n",
      "                  'disease. Mange is a disease caused by microscopic mites '\n",
      "                  'that burrow under the skin. The squirrel mange mite has '\n",
      "                  'been reported in both fox and gray squirrels. There have '\n",
      "                  'been no reports of this type of mange being transmitted to '\n",
      "                  'humans or domestic pets.',\n",
      "                  '1 You can also scatter dog or human hair around your '\n",
      "                  'garden. 2  One readers shares, “I used to have a problem '\n",
      "                  'with squirrels digging up my bulbs. 3  Now, once in the '\n",
      "                  'spring and once in the fall, I ask my hairdresser to save a '\n",
      "                  'big bag of hair for me. 4  I lightly dig this into the '\n",
      "                  'soil.',\n",
      "                  'Rabbit repellent. Human hair will keep rabbits out of your '\n",
      "                  'garden!! Collect hair from your brushes and spread it '\n",
      "                  'around your garden! (via Pioneer Thinking). Natural mulch. '\n",
      "                  'When woven into a mat, it retains moisture, it deters '\n",
      "                  'weeds. In some instances, it can actually reduce soil '\n",
      "                  'erosion. (via NPR). Plant fertilizer.'],\n",
      " 'query': 'does human hair stop squirrels',\n",
      " 'query_id': 0}\n"
     ]
    }
   ],
   "source": [
    "from pprint import pprint\n",
    "\n",
    "test_data = []\n",
    "for i in range(3):\n",
    "    test_data.append(\n",
    "        {\n",
    "            'query_id' : ms_marco['query_id'][i],   \n",
    "            'query' : ms_marco['query'][i],  \n",
    "            'passage_text': ms_marco['passages'][i]['passage_text']\n",
    "        }\n",
    "    )\n",
    "\n",
    "pprint(test_data[0])"
   ]
  },
  {
   "cell_type": "code",
   "execution_count": 4,
   "metadata": {},
   "outputs": [],
   "source": [
    "SYSTEM_PROMPT = \"\"\"\n",
    "***TRANSLATION FROM ENGLISH TO SERBIAN***\n",
    "\n",
    "**GOALS**\n",
    "\n",
    "You are a professional translator fluent in English and Serbian. \n",
    "Your primary goal is to produce a high-quality, natural-sounding translation from English to Serbian. \n",
    "You are translating texts and questions pertaining to the texts. The translation is intended for dataset creation. Look at the example below:\n",
    "\n",
    "***TRANSLATION EXAMPLE***\n",
    "***ENGLISH***\n",
    "query: 'What is a unicorn?'\n",
    "passage_text: 'The unicorn is a legendary creature that has been described since antiquity as a beast with a single large, pointed, spiraling horn projecting from its forehead.'\n",
    "\n",
    "***SERBIAN TRANSLATION***\n",
    "query: 'Šta je jednorog?'\n",
    "passage_text: 'Jednorog je mitsko stvorenje koje se od davnina opisuje kao zver sa jednim velikim, šiljastim, spiralnim rogom koji mu viri iz čela.'\n",
    "***END OF TRANSLATION EXAMPLE***\n",
    "\n",
    "To translate, follow the steps below:\n",
    "   **TRANSLATION INSTRUCTIONS**\n",
    "   1. Read and understand the sentence in English.\n",
    "   2. When you understand the English sentence, start to translate.\n",
    "   3. Pay close attention to both left and right context when you are making translation decisions.  4. Convey the original context, tone and meaning in the Serbian translation.\n",
    "   4. Avoid literal translations and ensure the output reads naturally in Serbian.\n",
    "   5. The translation must be contextually accurate, fluent, and adhere to the grammatical rules and lexicon of the Serbian language.\n",
    "   6. The declination of nouns, adjectives, and pronouns must be correct.\n",
    "   7. Make sure to proofread the translated text in Serbian and revise any mistakes. If no revisions are needed, provide the translations as they are.\n",
    "\n",
    "   **FORMATTING INSTRUCTIONS**\n",
    "   1. Strings should be enclosed within single quotation marks ('').\n",
    "   2. Use double quotes for strings and escape internal quotes with a backslashes (\\).\n",
    " \n",
    "   **OUTPUT FORMATTING**\n",
    "   1. The output must be a valid JSON file.\n",
    "   2. The output must be parsable by Python's 'json.loads()' function.\n",
    "   3. Ensure consistent JSON formatting as illustrated in the example below:\n",
    "\n",
    "      **EXAMPLE**\n",
    "      {'translations' : [{'query' : 'This is a query',\n",
    "                      ''passage_text ' : {'This is one passage. With another sentence.',\n",
    "                                          'This is yet another passage. With yet another sentence.'}]\n",
    "      }\n",
    "       **END OF EXAMPLE**\n",
    "\n",
    "   - Strictly follow the structure provided in the example when generating the output.   \n",
    "   - Make sure to translate text under both \"query\" and \"passage_text\" keys.\n",
    "\n",
    "\"\"\"\n"
   ]
  },
  {
   "cell_type": "code",
   "execution_count": 5,
   "metadata": {},
   "outputs": [],
   "source": [
    "# Importing OpenAI API key\n",
    "import os\n",
    "import openai\n",
    "import sys\n",
    "from openai import OpenAI\n",
    "\n",
    "OPENAI_KEY = os.environ['OPENAI_API_KEY']\n",
    "client = OpenAI(api_key=OPENAI_KEY)"
   ]
  },
  {
   "cell_type": "code",
   "execution_count": 20,
   "metadata": {},
   "outputs": [],
   "source": [
    "import json\n",
    "def make_jobs(model, prompt, filename, dataset):\n",
    "    jobs = [\n",
    "                {\n",
    "                    \"model\": model,\n",
    "                    \"response_format\": {'type': \"json_object\"},\n",
    "                    \"temperature\": 0,\n",
    "                    \"metadata\": {\"query_id\": sample['query_id']},\n",
    "                    \"messages\": [\n",
    "                        {\n",
    "                            \"role\": \"system\",\n",
    "                            \"content\": prompt\n",
    "                        },\n",
    "                           {\n",
    "                             \"role\": \"user\",\n",
    "                             \"content\": json.dumps(sample)\n",
    "                        }\n",
    "                    ],\n",
    "                    \n",
    "                }\n",
    "                for sample in dataset\n",
    "            ]\n",
    "    with open(filename, \"w\") as f:\n",
    "        for job in jobs:\n",
    "            json_string = json.dumps(job)\n",
    "            f.write(json_string + \"\\n\")\n",
    "    "
   ]
  },
  {
   "cell_type": "code",
   "execution_count": 22,
   "metadata": {},
   "outputs": [],
   "source": [
    "model = 'gpt-3.5-turbo-0125'\n",
    "make_jobs(model, SYSTEM_PROMPT, 'test', test_data)\n",
    "# test_data"
   ]
  },
  {
   "cell_type": "code",
   "execution_count": 14,
   "metadata": {},
   "outputs": [],
   "source": [
    "# import importlib\n",
    "# # must for Custom scripts\n",
    "# importlib.reload(api_request_parallel_processor.py)"
   ]
  }
 ],
 "metadata": {
  "kernelspec": {
   "display_name": ".venv",
   "language": "python",
   "name": "python3"
  },
  "language_info": {
   "codemirror_mode": {
    "name": "ipython",
    "version": 3
   },
   "file_extension": ".py",
   "mimetype": "text/x-python",
   "name": "python",
   "nbconvert_exporter": "python",
   "pygments_lexer": "ipython3",
   "version": "3.10.14"
  }
 },
 "nbformat": 4,
 "nbformat_minor": 2
}
