{
 "cells": [
  {
   "cell_type": "code",
   "execution_count": 12,
   "metadata": {},
   "outputs": [
    {
     "name": "stdout",
     "output_type": "stream",
     "text": [
      "dict_keys(['version', 'data'])\n"
     ]
    }
   ],
   "source": [
    "import json\n",
    "from datasets import load_dataset, Dataset\n",
    "\n",
    "# Specify the path to the JSON file\n",
    "file_path = 'datasets/squad-sr-lat.json'\n",
    "\n",
    "# Open the JSON file and load its contents\n",
    "with open(file_path, 'r', encoding='utf8') as file:\n",
    "    data = json.load(file)\n",
    "\n",
    "# Now, 'data' contains the parsed JSON data as a Python dictionary\n",
    "print(data.keys())\n"
   ]
  },
  {
   "cell_type": "code",
   "execution_count": 13,
   "metadata": {},
   "outputs": [],
   "source": [
    "i = 1\n",
    "titles = []\n",
    "contexts = []\n",
    "queryes = []\n",
    "for article in data['data']:\n",
    "    title = article['title']\n",
    "    for paragraph in article['paragraphs']:\n",
    "        context = paragraph['context']\n",
    "        currect_queryes = []\n",
    "        for qa_pair in paragraph['qas']:\n",
    "            question = qa_pair['question']\n",
    "            \n",
    "            currect_queryes.append(question)\n",
    "            i += 1\n",
    "        titles.append(title)\n",
    "        contexts.append(context)\n",
    "        queryes.append(currect_queryes)\n",
    "                # print(answer)"
   ]
  },
  {
   "cell_type": "code",
   "execution_count": 14,
   "metadata": {},
   "outputs": [
    {
     "data": {
      "text/plain": [
       "['Kome se u 1858. godini u Lurdu, Francuska, navodno pojavila Deva Marija?',\n",
       " 'Šta je ispred Glavne zgrade Notr Dame?',\n",
       " 'Bazilika Svetog srca u Notr Dami je pored koje strukture?',\n",
       " 'Šta je Grota u Notr Dami?',\n",
       " 'Šta se nalazi na vrhu Glavne zgrade u Notr Damu?']"
      ]
     },
     "execution_count": 14,
     "metadata": {},
     "output_type": "execute_result"
    }
   ],
   "source": [
    "import pandas as pd\n",
    "# from collections import defaultdict\n",
    "  \n",
    "dataset_for_eval_df = pd.DataFrame({'title' : titles,\n",
    "                                    'context' : contexts,\n",
    "                                  #  'query_id' : dataset_for_eval['id'],\n",
    "                                    'queries' : queryes})\n",
    "\n",
    "dataset_for_eval_df.head()\n",
    "dataset_for_eval_df['queries'][0]"
   ]
  },
  {
   "cell_type": "code",
   "execution_count": 15,
   "metadata": {},
   "outputs": [],
   "source": [
    "import pickle\n",
    "import pyarrow as pa\n",
    "import pyarrow.parquet as pq\n",
    "\n",
    "dataset_for_eval_df.to_csv('datasets/squad_processed.csv', index=False)\n",
    "\n",
    "table = pa.Table.from_pandas(dataset_for_eval_df)\n",
    "pq.write_table(table, 'datasets/squad_processed.parquet')\n"
   ]
  },
  {
   "cell_type": "markdown",
   "metadata": {},
   "source": [
    "ms_marco"
   ]
  },
  {
   "cell_type": "code",
   "execution_count": 6,
   "metadata": {},
   "outputs": [
    {
     "data": {
      "text/plain": [
       "Dataset({\n",
       "    features: ['answers', 'passages', 'query', 'query_id', 'query_type', 'wellFormedAnswers'],\n",
       "    num_rows: 9650\n",
       "})"
      ]
     },
     "execution_count": 6,
     "metadata": {},
     "output_type": "execute_result"
    }
   ],
   "source": [
    "from datasets import load_dataset\n",
    "\n",
    "marco_ds = load_dataset(\"microsoft/ms_marco\", \"v1.1\")\n",
    "data_test = marco_ds['test']\n",
    "ms_marco = data_test.select_columns(['passages', 'query', 'query_id'])\n",
    "data_test"
   ]
  },
  {
   "cell_type": "code",
   "execution_count": 7,
   "metadata": {},
   "outputs": [
    {
     "name": "stdout",
     "output_type": "stream",
     "text": [
      "Longest query length: 121\n",
      "Shortest query length: 8\n",
      "Average query length: 33.71\n",
      "15\n"
     ]
    }
   ],
   "source": [
    "\n",
    "# Calculate the length of each query\n",
    "query_lengths = [len(x) for x in data_test['query']]\n",
    "\n",
    "# Find the longest, shortest, and average query lengths\n",
    "longest_query = max(query_lengths)\n",
    "shortest_query = min(query_lengths)\n",
    "average_query_length = sum(query_lengths) / len(query_lengths)\n",
    "\n",
    "print(f\"Longest query length: {longest_query}\")\n",
    "print(f\"Shortest query length: {shortest_query}\")\n",
    "print(f\"Average query length: {average_query_length:.2f}\")\n",
    "\n",
    "print(len(\"sta je to ascci\"))"
   ]
  },
  {
   "cell_type": "code",
   "execution_count": 8,
   "metadata": {},
   "outputs": [
    {
     "name": "stdout",
     "output_type": "stream",
     "text": [
      "\n"
     ]
    }
   ],
   "source": [
    "titles = []\n",
    "queries = []\n",
    "contexts = []\n",
    "for index, example in enumerate(data_test):\n",
    "    # Access individual fields like 'query', 'query_id', and 'passages'\n",
    "    query = example['query']\n",
    "    query_id = example['query_id']\n",
    "    is_selected = example['passages']['is_selected']\n",
    "    passage_text = example['passages']['passage_text']\n",
    "    for i in range(len(is_selected)):\n",
    "        titles.append(\"\")\n",
    "        if is_selected[i] == 1:\n",
    "            queries.append([query])\n",
    "            contexts.append(passage_text[i])\n",
    "        else:\n",
    "            queries.append([])\n",
    "            contexts.append(passage_text[i])\n",
    "\n",
    "print()\n"
   ]
  },
  {
   "cell_type": "code",
   "execution_count": 9,
   "metadata": {},
   "outputs": [
    {
     "data": {
      "text/html": [
       "<div>\n",
       "<style scoped>\n",
       "    .dataframe tbody tr th:only-of-type {\n",
       "        vertical-align: middle;\n",
       "    }\n",
       "\n",
       "    .dataframe tbody tr th {\n",
       "        vertical-align: top;\n",
       "    }\n",
       "\n",
       "    .dataframe thead th {\n",
       "        text-align: right;\n",
       "    }\n",
       "</style>\n",
       "<table border=\"1\" class=\"dataframe\">\n",
       "  <thead>\n",
       "    <tr style=\"text-align: right;\">\n",
       "      <th></th>\n",
       "      <th>title</th>\n",
       "      <th>context</th>\n",
       "      <th>queries</th>\n",
       "    </tr>\n",
       "  </thead>\n",
       "  <tbody>\n",
       "    <tr>\n",
       "      <th>0</th>\n",
       "      <td></td>\n",
       "      <td>We have been feeding our back yard squirrels f...</td>\n",
       "      <td>[]</td>\n",
       "    </tr>\n",
       "    <tr>\n",
       "      <th>1</th>\n",
       "      <td></td>\n",
       "      <td>Critters cannot stand the smell of human hair,...</td>\n",
       "      <td>[]</td>\n",
       "    </tr>\n",
       "    <tr>\n",
       "      <th>2</th>\n",
       "      <td></td>\n",
       "      <td>Spread some human hair around your vegetable a...</td>\n",
       "      <td>[does human hair stop squirrels]</td>\n",
       "    </tr>\n",
       "    <tr>\n",
       "      <th>3</th>\n",
       "      <td></td>\n",
       "      <td>1 You can sprinkle blood meal around your gard...</td>\n",
       "      <td>[]</td>\n",
       "    </tr>\n",
       "    <tr>\n",
       "      <th>4</th>\n",
       "      <td></td>\n",
       "      <td>Hair loss in squirrels can be caused by mange ...</td>\n",
       "      <td>[]</td>\n",
       "    </tr>\n",
       "  </tbody>\n",
       "</table>\n",
       "</div>"
      ],
      "text/plain": [
       "  title                                            context  \\\n",
       "0        We have been feeding our back yard squirrels f...   \n",
       "1        Critters cannot stand the smell of human hair,...   \n",
       "2        Spread some human hair around your vegetable a...   \n",
       "3        1 You can sprinkle blood meal around your gard...   \n",
       "4        Hair loss in squirrels can be caused by mange ...   \n",
       "\n",
       "                            queries  \n",
       "0                                []  \n",
       "1                                []  \n",
       "2  [does human hair stop squirrels]  \n",
       "3                                []  \n",
       "4                                []  "
      ]
     },
     "execution_count": 9,
     "metadata": {},
     "output_type": "execute_result"
    }
   ],
   "source": [
    "import pandas as pd\n",
    "# from collections import defaultdict\n",
    "  \n",
    "dataset_for_eval_df = pd.DataFrame({'title' : titles,\n",
    "                                    'context' : contexts,\n",
    "                                  #  'query_id' : dataset_for_eval['id'],\n",
    "                                    'queries' : queries})\n",
    "\n",
    "dataset_for_eval_df.head()"
   ]
  },
  {
   "cell_type": "code",
   "execution_count": 10,
   "metadata": {},
   "outputs": [],
   "source": [
    "table = pa.Table.from_pandas(dataset_for_eval_df)\n",
    "\n",
    "pq.write_table(table, 'datasets/marco_processed.parquet')"
   ]
  },
  {
   "cell_type": "code",
   "execution_count": null,
   "metadata": {},
   "outputs": [],
   "source": []
  },
  {
   "cell_type": "code",
   "execution_count": null,
   "metadata": {},
   "outputs": [],
   "source": []
  },
  {
   "cell_type": "code",
   "execution_count": null,
   "metadata": {},
   "outputs": [],
   "source": []
  },
  {
   "cell_type": "code",
   "execution_count": null,
   "metadata": {},
   "outputs": [],
   "source": []
  },
  {
   "cell_type": "code",
   "execution_count": null,
   "metadata": {},
   "outputs": [],
   "source": []
  }
 ],
 "metadata": {
  "kernelspec": {
   "display_name": "venv",
   "language": "python",
   "name": "python3"
  },
  "language_info": {
   "codemirror_mode": {
    "name": "ipython",
    "version": 3
   },
   "file_extension": ".py",
   "mimetype": "text/x-python",
   "name": "python",
   "nbconvert_exporter": "python",
   "pygments_lexer": "ipython3",
   "version": "3.10.14"
  }
 },
 "nbformat": 4,
 "nbformat_minor": 2
}
