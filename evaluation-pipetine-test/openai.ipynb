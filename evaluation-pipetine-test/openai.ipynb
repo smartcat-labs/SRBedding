{
 "cells": [
  {
   "cell_type": "code",
   "execution_count": 15,
   "metadata": {},
   "outputs": [],
   "source": [
    "import os\n",
    "from dotenv import load_dotenv\n",
    "import numpy as np\n",
    "import pyarrow as pa\n",
    "import pyarrow.parquet as pq\n",
    "import pandas\n",
    "\n",
    "# Load the .env file\n",
    "load_dotenv()\n",
    "\n",
    "# Access the variables\n",
    "OPENAI_API_KEY = os.getenv(\"OPENAI_API_KEY\")\n",
    "\n",
    "# OPENAI_API_KEY\n",
    "\n"
   ]
  },
  {
   "cell_type": "code",
   "execution_count": 3,
   "metadata": {},
   "outputs": [],
   "source": [
    "embedding_model = \"text-embedding-3-small\"\n",
    "embedding_encoding = \"cl100k_base\"\n",
    "max_tokens = 8000  # the maximum for text-embedding-3-small is 8191"
   ]
  },
  {
   "cell_type": "code",
   "execution_count": 14,
   "metadata": {},
   "outputs": [
    {
     "data": {
      "text/plain": [
       "99"
      ]
     },
     "execution_count": 14,
     "metadata": {},
     "output_type": "execute_result"
    }
   ],
   "source": [
    "import tiktoken\n",
    "\n",
    "def num_tokens_from_string(string: str, encoding_name: str) -> int:\n",
    "    \"\"\"Returns the number of tokens in a text string.\"\"\"\n",
    "    encoding = tiktoken.get_encoding(encoding_name)\n",
    "    num_tokens = len(encoding.encode(string))\n",
    "    return num_tokens\n",
    "\n",
    "num_tokens_from_string(\"Око њега се развијају приче о историјским личностима и безименим ликовима који су плод пишчеве маште. Роман На Дрини ћуприја, понекад називан и Вишеградска \", \"cl100k_base\")"
   ]
  },
  {
   "cell_type": "code",
   "execution_count": 10,
   "metadata": {},
   "outputs": [],
   "source": [
    "def cosine_similarity(a, b):\n",
    "    return np.dot(a, b) / (np.linalg.norm(a) * np.linalg.norm(b))\n"
   ]
  },
  {
   "cell_type": "code",
   "execution_count": 9,
   "metadata": {},
   "outputs": [
    {
     "data": {
      "text/plain": [
       "768"
      ]
     },
     "execution_count": 9,
     "metadata": {},
     "output_type": "execute_result"
    }
   ],
   "source": [
    "from openai import OpenAI\n",
    "client = OpenAI()\n",
    "\n",
    "def normalize_l2(x):\n",
    "    x = np.array(x)\n",
    "    if x.ndim == 1:\n",
    "        norm = np.linalg.norm(x)\n",
    "        if norm == 0:\n",
    "            return x\n",
    "        return x / norm\n",
    "    else:\n",
    "        norm = np.linalg.norm(x, 2, axis=1, keepdims=True)\n",
    "        return np.where(norm == 0, x, x / norm)\n",
    "    \n",
    "\n",
    "\n",
    "def get_embedding(text, model=\"text-embedding-3-small\", dimension=None):\n",
    "    text = text.replace(\"\\n\", \" \")\n",
    "\n",
    "    embedded_text = client.embeddings.create(input = [text], model=model).data[0].embedding\n",
    "    if not dimension:\n",
    "       return embedded_text\n",
    "    cut_dim = embedded_text[:dimension]\n",
    "    return normalize_l2(cut_dim)\n",
    "\n",
    "\n",
    "embedding = get_embedding(\"recenica akldakjdn jakjaaj jjjjjj\", model=embedding_model, dimension=768)\n",
    "len(embedding)\n",
    "# 1536\n",
    "# 768 je outoutovih srpskih\n",
    "# zakljucak, treba redukcija dimenzionalnosti"
   ]
  },
  {
   "cell_type": "code",
   "execution_count": 21,
   "metadata": {},
   "outputs": [
    {
     "data": {
      "text/plain": [
       "15"
      ]
     },
     "execution_count": 21,
     "metadata": {},
     "output_type": "execute_result"
    }
   ],
   "source": [
    "loaded_table = pq.read_table(\"datasets/dataset_processed.parquet\")\n",
    "df = loaded_table.to_pandas()\n",
    "first_n_rows = df.head(15)\n",
    "# first_n_rows\n",
    "len(first_n_rows)"
   ]
  },
  {
   "cell_type": "code",
   "execution_count": 24,
   "metadata": {},
   "outputs": [
    {
     "name": "stderr",
     "output_type": "stream",
     "text": [
      "/tmp/ipykernel_8028/3373473675.py:8: SettingWithCopyWarning: \n",
      "A value is trying to be set on a copy of a slice from a DataFrame.\n",
      "Try using .loc[row_indexer,col_indexer] = value instead\n",
      "\n",
      "See the caveats in the documentation: https://pandas.pydata.org/pandas-docs/stable/user_guide/indexing.html#returning-a-view-versus-a-copy\n",
      "  first_n_rows['ada_embedding'] = first_n_rows['context'].apply(lambda x: get_embedding(x, model=embedding_model))\n",
      "/tmp/ipykernel_8028/3373473675.py:3: SettingWithCopyWarning: \n",
      "A value is trying to be set on a copy of a slice from a DataFrame.\n",
      "Try using .loc[row_indexer,col_indexer] = value instead\n",
      "\n",
      "See the caveats in the documentation: https://pandas.pydata.org/pandas-docs/stable/user_guide/indexing.html#returning-a-view-versus-a-copy\n",
      "  df['similarities'] = df.ada_embedding.apply(lambda x: cosine_similarity(x, embedding))\n"
     ]
    }
   ],
   "source": [
    "def search_reviews(df, product_description, n=3, pprint=True):\n",
    "   embedding = get_embedding(product_description, model=embedding_model)\n",
    "   df['similarities'] = df.ada_embedding.apply(lambda x: cosine_similarity(x, embedding))\n",
    "   res = df.sort_values('similarities', ascending=False).head(n)\n",
    "   return res\n",
    "\n",
    "# Example of creating an 'ada_embedding' column\n",
    "first_n_rows['ada_embedding'] = first_n_rows['context'].apply(lambda x: get_embedding(x, model=embedding_model))\n",
    "res = search_reviews(first_n_rows, 'Šta je ispred Glavne zgrade Notr Dame?', n=3)\n"
   ]
  },
  {
   "cell_type": "code",
   "execution_count": 25,
   "metadata": {},
   "outputs": [
    {
     "data": {
      "text/html": [
       "<div>\n",
       "<style scoped>\n",
       "    .dataframe tbody tr th:only-of-type {\n",
       "        vertical-align: middle;\n",
       "    }\n",
       "\n",
       "    .dataframe tbody tr th {\n",
       "        vertical-align: top;\n",
       "    }\n",
       "\n",
       "    .dataframe thead th {\n",
       "        text-align: right;\n",
       "    }\n",
       "</style>\n",
       "<table border=\"1\" class=\"dataframe\">\n",
       "  <thead>\n",
       "    <tr style=\"text-align: right;\">\n",
       "      <th></th>\n",
       "      <th>title</th>\n",
       "      <th>context</th>\n",
       "      <th>queries</th>\n",
       "      <th>ada_embedding</th>\n",
       "      <th>similarities</th>\n",
       "    </tr>\n",
       "  </thead>\n",
       "  <tbody>\n",
       "    <tr>\n",
       "      <th>0</th>\n",
       "      <td>University_of_Notre_Dame</td>\n",
       "      <td>Arhitektonski, škola ima katolički karakter. N...</td>\n",
       "      <td>[Kome se u 1858. godini u Lurdu, Francuska, na...</td>\n",
       "      <td>[-0.04610486701130867, 0.00042641302570700645,...</td>\n",
       "      <td>0.575776</td>\n",
       "    </tr>\n",
       "    <tr>\n",
       "      <th>7</th>\n",
       "      <td>University_of_Notre_Dame</td>\n",
       "      <td>Bibliotečki sistem univerziteta podeljen je iz...</td>\n",
       "      <td>[Koliko je ništa visine glavna biblioteka u No...</td>\n",
       "      <td>[-0.049503572285175323, -0.019839294254779816,...</td>\n",
       "      <td>0.568562</td>\n",
       "    </tr>\n",
       "    <tr>\n",
       "      <th>2</th>\n",
       "      <td>University_of_Notre_Dame</td>\n",
       "      <td>Univerzitet je glavna sedište Kongregacije Sve...</td>\n",
       "      <td>[Gde je sedište Kongregacije Svetog Krsta?, Št...</td>\n",
       "      <td>[-0.04491373524069786, 0.035998500883579254, 0...</td>\n",
       "      <td>0.441146</td>\n",
       "    </tr>\n",
       "  </tbody>\n",
       "</table>\n",
       "</div>"
      ],
      "text/plain": [
       "                      title  \\\n",
       "0  University_of_Notre_Dame   \n",
       "7  University_of_Notre_Dame   \n",
       "2  University_of_Notre_Dame   \n",
       "\n",
       "                                             context  \\\n",
       "0  Arhitektonski, škola ima katolički karakter. N...   \n",
       "7  Bibliotečki sistem univerziteta podeljen je iz...   \n",
       "2  Univerzitet je glavna sedište Kongregacije Sve...   \n",
       "\n",
       "                                             queries  \\\n",
       "0  [Kome se u 1858. godini u Lurdu, Francuska, na...   \n",
       "7  [Koliko je ništa visine glavna biblioteka u No...   \n",
       "2  [Gde je sedište Kongregacije Svetog Krsta?, Št...   \n",
       "\n",
       "                                       ada_embedding  similarities  \n",
       "0  [-0.04610486701130867, 0.00042641302570700645,...      0.575776  \n",
       "7  [-0.049503572285175323, -0.019839294254779816,...      0.568562  \n",
       "2  [-0.04491373524069786, 0.035998500883579254, 0...      0.441146  "
      ]
     },
     "execution_count": 25,
     "metadata": {},
     "output_type": "execute_result"
    }
   ],
   "source": [
    "res"
   ]
  }
 ],
 "metadata": {
  "kernelspec": {
   "display_name": ".venv",
   "language": "python",
   "name": "python3"
  },
  "language_info": {
   "codemirror_mode": {
    "name": "ipython",
    "version": 3
   },
   "file_extension": ".py",
   "mimetype": "text/x-python",
   "name": "python",
   "nbconvert_exporter": "python",
   "pygments_lexer": "ipython3",
   "version": "3.10.14"
  }
 },
 "nbformat": 4,
 "nbformat_minor": 2
}
